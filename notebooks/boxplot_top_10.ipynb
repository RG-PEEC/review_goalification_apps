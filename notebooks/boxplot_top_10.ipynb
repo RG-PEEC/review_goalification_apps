{
 "cells": [
  {
   "cell_type": "code",
   "id": "initial_id",
   "metadata": {
    "collapsed": true,
    "ExecuteTime": {
     "end_time": "2024-12-13T09:07:07.105951Z",
     "start_time": "2024-12-13T09:07:07.085906Z"
    }
   },
   "source": [
    "%load_ext autoreload\n",
    "%autoreload 2"
   ],
   "outputs": [
    {
     "name": "stdout",
     "output_type": "stream",
     "text": [
      "The autoreload extension is already loaded. To reload it, use:\n",
      "  %reload_ext autoreload\n"
     ]
    }
   ],
   "execution_count": 14
  },
  {
   "metadata": {
    "ExecuteTime": {
     "end_time": "2024-12-13T09:07:07.178887Z",
     "start_time": "2024-12-13T09:07:07.167673Z"
    }
   },
   "cell_type": "code",
   "source": [
    "import pandas as pd\n",
    "import plotly.graph_objs as go\n",
    "import plotly.express as px\n",
    "import numpy as np\n",
    "\n",
    "from order import apps_2024, phase_order, domain_order, color_discrete_map"
   ],
   "id": "63f99ff3a431db46",
   "outputs": [],
   "execution_count": 15
  },
  {
   "metadata": {
    "ExecuteTime": {
     "end_time": "2024-12-13T09:07:07.235473Z",
     "start_time": "2024-12-13T09:07:07.207588Z"
    }
   },
   "cell_type": "code",
   "source": [
    "# read data\n",
    "df = pd.read_parquet('../data/raw/features.parquet')\n",
    "\n",
    "# remove travel domain\n",
    "df = df.loc[:, ~df.columns.get_level_values('domain').str.contains('Travel')]\n",
    "\n",
    "# filter apps: drop 2024\n",
    "df_filtered = df.drop(columns=[app for app in df.columns.get_level_values('app') if app in apps_2024], level='app')"
   ],
   "id": "27d1becd7de45499",
   "outputs": [],
   "execution_count": 16
  },
  {
   "metadata": {
    "ExecuteTime": {
     "end_time": "2024-12-13T09:07:07.275298Z",
     "start_time": "2024-12-13T09:07:07.263748Z"
    }
   },
   "cell_type": "code",
   "source": [
    "# make sub data frames\n",
    "# create a dataframe for cross-cutting features\n",
    "df_cross_cutting = df_filtered.loc[df_filtered.index.get_level_values('type') == 'Cross-Cutting']\n",
    "\n",
    "# create a dataframe for domain-specific features\n",
    "df_phase_specific = df_filtered.loc[df_filtered.index.get_level_values('type') == 'Phase-Specific']"
   ],
   "id": "414de9b36d19b719",
   "outputs": [],
   "execution_count": 17
  },
  {
   "metadata": {
    "ExecuteTime": {
     "end_time": "2024-12-13T09:07:07.316230Z",
     "start_time": "2024-12-13T09:07:07.303467Z"
    }
   },
   "cell_type": "code",
   "source": [
    "# group data by phase\n",
    "# phase specific features\n",
    "df_grouped_phase = df_phase_specific.groupby(level='phase', axis=0).mean()\n",
    "\n",
    "# cross-cutting features\n",
    "df_grouped_cross = df_cross_cutting.groupby(level='phase', axis=0).mean()\n",
    "\n",
    "# all\n",
    "df_grouped_all = df_filtered.groupby(level='phase', axis=0).sum()"
   ],
   "id": "f1327bdb9d2c9de0",
   "outputs": [
    {
     "name": "stderr",
     "output_type": "stream",
     "text": [
      "/var/folders/f4/sl287qx94559tlhfdfyh3jbc0000gp/T/ipykernel_74863/56839793.py:3: FutureWarning:\n",
      "\n",
      "The 'axis' keyword in DataFrame.groupby is deprecated and will be removed in a future version.\n",
      "\n",
      "/var/folders/f4/sl287qx94559tlhfdfyh3jbc0000gp/T/ipykernel_74863/56839793.py:6: FutureWarning:\n",
      "\n",
      "The 'axis' keyword in DataFrame.groupby is deprecated and will be removed in a future version.\n",
      "\n",
      "/var/folders/f4/sl287qx94559tlhfdfyh3jbc0000gp/T/ipykernel_74863/56839793.py:9: FutureWarning:\n",
      "\n",
      "The 'axis' keyword in DataFrame.groupby is deprecated and will be removed in a future version.\n",
      "\n"
     ]
    }
   ],
   "execution_count": 18
  },
  {
   "metadata": {
    "ExecuteTime": {
     "end_time": "2024-12-13T09:07:07.357644Z",
     "start_time": "2024-12-13T09:07:07.344549Z"
    }
   },
   "cell_type": "code",
   "source": [
    "# calculate mean values and order based on phase_order array\n",
    "df_grouped_phase_mean = df_grouped_phase.mean(axis=1).reindex(phase_order).fillna(0)\n",
    "df_grouped_cross_mean = df_grouped_cross.mean(axis=1).reindex(phase_order).fillna(0)\n",
    "df_grouped_all_mean = df_grouped_all.mean(axis=1).reindex(phase_order).fillna(0)"
   ],
   "id": "dc0b23ece5023380",
   "outputs": [],
   "execution_count": 19
  },
  {
   "metadata": {
    "ExecuteTime": {
     "end_time": "2024-12-13T09:07:34.460365Z",
     "start_time": "2024-12-13T09:07:34.352521Z"
    }
   },
   "cell_type": "code",
   "source": [
    "# reorder columns\n",
    "df_grouped_all = df_grouped_all.reindex(columns=domain_order, level='domain')\n",
    "\n",
    "# make flat dataframe\n",
    "df_flat = df_grouped_all.sum().reset_index()\n",
    "df_flat.columns = ['domain', 'app', 'feature_count']\n",
    "\n",
    "\n",
    "\n",
    "# boxplot including points for all apps\n",
    "fig = px.box(df_flat, x='domain',\n",
    "             y='feature_count',\n",
    "             color='domain',\n",
    "             points='all',\n",
    "             color_discrete_map=color_discrete_map,\n",
    "             template='plotly_white')\n",
    "\n",
    "# remove legend\n",
    "fig.update_layout(showlegend=False, height=600)\n",
    "\n",
    "# make y start at 10\n",
    "fig.update_yaxes(range=[10, 71])\n",
    "\n",
    "# rename y to Number of Features per App\n",
    "fig.update_yaxes(title='Number of Features per App')\n",
    "\n",
    "# remove x axis title\n",
    "fig.update_xaxes(title='', tickfont=dict(weight='bold'))\n",
    "\n",
    "# show boxplot\n",
    "fig.show()\n",
    "\n",
    "# save figure and data\n",
    "fig.write_image('../images/pdf/12_boxplot.pdf')\n",
    "fig.write_image('../images/png/12_boxplot.png')"
   ],
   "id": "69b21bbe6bf30202",
   "outputs": [
    {
     "data": {
      "application/vnd.plotly.v1+json": {
       "data": [
        {
         "alignmentgroup": "True",
         "boxpoints": "all",
         "hovertemplate": "domain=%{x}<br>feature_count=%{y}<extra></extra>",
         "legendgroup": "Sustainability",
         "marker": {
          "color": "rgb(155,143,180)"
         },
         "name": "Sustainability",
         "notched": false,
         "offsetgroup": "Sustainability",
         "orientation": "v",
         "showlegend": true,
         "x": [
          "Sustainability",
          "Sustainability",
          "Sustainability",
          "Sustainability",
          "Sustainability",
          "Sustainability",
          "Sustainability",
          "Sustainability",
          "Sustainability"
         ],
         "x0": " ",
         "xaxis": "x",
         "y": [
          33.0,
          35.0,
          23.0,
          24.0,
          50.0,
          20.0,
          25.0,
          31.0,
          25.0
         ],
         "y0": " ",
         "yaxis": "y",
         "type": "box"
        },
        {
         "alignmentgroup": "True",
         "boxpoints": "all",
         "hovertemplate": "domain=%{x}<br>feature_count=%{y}<extra></extra>",
         "legendgroup": "Learning",
         "marker": {
          "color": "rgb(147,158,190)"
         },
         "name": "Learning",
         "notched": false,
         "offsetgroup": "Learning",
         "orientation": "v",
         "showlegend": true,
         "x": [
          "Learning",
          "Learning",
          "Learning",
          "Learning",
          "Learning",
          "Learning",
          "Learning",
          "Learning",
          "Learning"
         ],
         "x0": " ",
         "xaxis": "x",
         "y": [
          32.0,
          33.0,
          48.0,
          39.0,
          26.0,
          21.0,
          29.0,
          34.0,
          21.0
         ],
         "y0": " ",
         "yaxis": "y",
         "type": "box"
        },
        {
         "alignmentgroup": "True",
         "boxpoints": "all",
         "hovertemplate": "domain=%{x}<br>feature_count=%{y}<extra></extra>",
         "legendgroup": "Wellbeing",
         "marker": {
          "color": "rgb(188,192,136)"
         },
         "name": "Wellbeing",
         "notched": false,
         "offsetgroup": "Wellbeing",
         "orientation": "v",
         "showlegend": true,
         "x": [
          "Wellbeing",
          "Wellbeing",
          "Wellbeing",
          "Wellbeing",
          "Wellbeing",
          "Wellbeing",
          "Wellbeing",
          "Wellbeing",
          "Wellbeing",
          "Wellbeing",
          "Wellbeing",
          "Wellbeing",
          "Wellbeing",
          "Wellbeing",
          "Wellbeing",
          "Wellbeing",
          "Wellbeing",
          "Wellbeing",
          "Wellbeing",
          "Wellbeing",
          "Wellbeing",
          "Wellbeing",
          "Wellbeing",
          "Wellbeing",
          "Wellbeing",
          "Wellbeing",
          "Wellbeing",
          "Wellbeing",
          "Wellbeing",
          "Wellbeing",
          "Wellbeing",
          "Wellbeing",
          "Wellbeing",
          "Wellbeing",
          "Wellbeing",
          "Wellbeing",
          "Wellbeing",
          "Wellbeing",
          "Wellbeing",
          "Wellbeing",
          "Wellbeing",
          "Wellbeing",
          "Wellbeing",
          "Wellbeing",
          "Wellbeing",
          "Wellbeing",
          "Wellbeing",
          "Wellbeing",
          "Wellbeing",
          "Wellbeing",
          "Wellbeing",
          "Wellbeing"
         ],
         "x0": " ",
         "xaxis": "x",
         "y": [
          26.0,
          50.0,
          28.0,
          50.0,
          34.0,
          32.0,
          24.0,
          24.0,
          65.0,
          28.0,
          22.0,
          24.0,
          37.0,
          21.0,
          30.0,
          34.0,
          30.0,
          36.0,
          26.0,
          46.0,
          31.0,
          25.0,
          28.0,
          35.0,
          21.0,
          51.0,
          44.0,
          25.0,
          24.0,
          33.0,
          33.0,
          44.0,
          19.0,
          20.0,
          22.0,
          18.0,
          24.0,
          40.0,
          33.0,
          25.0,
          28.0,
          22.0,
          22.0,
          30.0,
          27.0,
          27.0,
          23.0,
          37.0,
          59.0,
          51.0,
          28.0,
          21.0
         ],
         "y0": " ",
         "yaxis": "y",
         "type": "box"
        },
        {
         "alignmentgroup": "True",
         "boxpoints": "all",
         "hovertemplate": "domain=%{x}<br>feature_count=%{y}<extra></extra>",
         "legendgroup": "Productivity",
         "marker": {
          "color": "rgb(141,201,130)"
         },
         "name": "Productivity",
         "notched": false,
         "offsetgroup": "Productivity",
         "orientation": "v",
         "showlegend": true,
         "x": [
          "Productivity",
          "Productivity",
          "Productivity",
          "Productivity",
          "Productivity",
          "Productivity",
          "Productivity",
          "Productivity",
          "Productivity",
          "Productivity",
          "Productivity",
          "Productivity",
          "Productivity",
          "Productivity",
          "Productivity",
          "Productivity",
          "Productivity"
         ],
         "x0": " ",
         "xaxis": "x",
         "y": [
          22.0,
          28.0,
          18.0,
          32.0,
          19.0,
          29.0,
          37.0,
          34.0,
          17.0,
          15.0,
          23.0,
          17.0,
          22.0,
          15.0,
          24.0,
          25.0,
          16.0
         ],
         "y0": " ",
         "yaxis": "y",
         "type": "box"
        },
        {
         "alignmentgroup": "True",
         "boxpoints": "all",
         "hovertemplate": "domain=%{x}<br>feature_count=%{y}<extra></extra>",
         "legendgroup": "Finance",
         "marker": {
          "color": "rgb(197,164,56)"
         },
         "name": "Finance",
         "notched": false,
         "offsetgroup": "Finance",
         "orientation": "v",
         "showlegend": true,
         "x": [
          "Finance",
          "Finance",
          "Finance",
          "Finance",
          "Finance",
          "Finance",
          "Finance"
         ],
         "x0": " ",
         "xaxis": "x",
         "y": [
          21.0,
          19.0,
          39.0,
          34.0,
          23.0,
          20.0,
          32.0
         ],
         "y0": " ",
         "yaxis": "y",
         "type": "box"
        },
        {
         "alignmentgroup": "True",
         "boxpoints": "all",
         "hovertemplate": "domain=%{x}<br>feature_count=%{y}<extra></extra>",
         "legendgroup": "General",
         "marker": {
          "color": "rgb(200,200,120)"
         },
         "name": "General",
         "notched": false,
         "offsetgroup": "General",
         "orientation": "v",
         "showlegend": true,
         "x": [
          "General",
          "General",
          "General",
          "General",
          "General",
          "General",
          "General",
          "General",
          "General",
          "General",
          "General",
          "General",
          "General",
          "General",
          "General",
          "General",
          "General",
          "General",
          "General",
          "General",
          "General",
          "General",
          "General",
          "General",
          "General",
          "General",
          "General",
          "General",
          "General",
          "General",
          "General",
          "General",
          "General",
          "General",
          "General",
          "General",
          "General",
          "General",
          "General",
          "General",
          "General",
          "General",
          "General",
          "General",
          "General",
          "General",
          "General",
          "General",
          "General",
          "General",
          "General",
          "General",
          "General",
          "General",
          "General"
         ],
         "x0": " ",
         "xaxis": "x",
         "y": [
          23.0,
          47.0,
          42.0,
          26.0,
          24.0,
          26.0,
          23.0,
          31.0,
          38.0,
          43.0,
          50.0,
          41.0,
          17.0,
          36.0,
          14.0,
          24.0,
          26.0,
          18.0,
          20.0,
          25.0,
          46.0,
          24.0,
          32.0,
          28.0,
          29.0,
          24.0,
          17.0,
          57.0,
          23.0,
          41.0,
          34.0,
          41.0,
          47.0,
          38.0,
          41.0,
          14.0,
          50.0,
          28.0,
          31.0,
          16.0,
          18.0,
          20.0,
          48.0,
          26.0,
          25.0,
          37.0,
          22.0,
          20.0,
          20.0,
          20.0,
          32.0,
          20.0,
          17.0,
          25.0,
          26.0
         ],
         "y0": " ",
         "yaxis": "y",
         "type": "box"
        }
       ],
       "layout": {
        "template": {
         "data": {
          "barpolar": [
           {
            "marker": {
             "line": {
              "color": "white",
              "width": 0.5
             },
             "pattern": {
              "fillmode": "overlay",
              "size": 10,
              "solidity": 0.2
             }
            },
            "type": "barpolar"
           }
          ],
          "bar": [
           {
            "error_x": {
             "color": "#2a3f5f"
            },
            "error_y": {
             "color": "#2a3f5f"
            },
            "marker": {
             "line": {
              "color": "white",
              "width": 0.5
             },
             "pattern": {
              "fillmode": "overlay",
              "size": 10,
              "solidity": 0.2
             }
            },
            "type": "bar"
           }
          ],
          "carpet": [
           {
            "aaxis": {
             "endlinecolor": "#2a3f5f",
             "gridcolor": "#C8D4E3",
             "linecolor": "#C8D4E3",
             "minorgridcolor": "#C8D4E3",
             "startlinecolor": "#2a3f5f"
            },
            "baxis": {
             "endlinecolor": "#2a3f5f",
             "gridcolor": "#C8D4E3",
             "linecolor": "#C8D4E3",
             "minorgridcolor": "#C8D4E3",
             "startlinecolor": "#2a3f5f"
            },
            "type": "carpet"
           }
          ],
          "choropleth": [
           {
            "colorbar": {
             "outlinewidth": 0,
             "ticks": ""
            },
            "type": "choropleth"
           }
          ],
          "contourcarpet": [
           {
            "colorbar": {
             "outlinewidth": 0,
             "ticks": ""
            },
            "type": "contourcarpet"
           }
          ],
          "contour": [
           {
            "colorbar": {
             "outlinewidth": 0,
             "ticks": ""
            },
            "colorscale": [
             [
              0.0,
              "#0d0887"
             ],
             [
              0.1111111111111111,
              "#46039f"
             ],
             [
              0.2222222222222222,
              "#7201a8"
             ],
             [
              0.3333333333333333,
              "#9c179e"
             ],
             [
              0.4444444444444444,
              "#bd3786"
             ],
             [
              0.5555555555555556,
              "#d8576b"
             ],
             [
              0.6666666666666666,
              "#ed7953"
             ],
             [
              0.7777777777777778,
              "#fb9f3a"
             ],
             [
              0.8888888888888888,
              "#fdca26"
             ],
             [
              1.0,
              "#f0f921"
             ]
            ],
            "type": "contour"
           }
          ],
          "heatmapgl": [
           {
            "colorbar": {
             "outlinewidth": 0,
             "ticks": ""
            },
            "colorscale": [
             [
              0.0,
              "#0d0887"
             ],
             [
              0.1111111111111111,
              "#46039f"
             ],
             [
              0.2222222222222222,
              "#7201a8"
             ],
             [
              0.3333333333333333,
              "#9c179e"
             ],
             [
              0.4444444444444444,
              "#bd3786"
             ],
             [
              0.5555555555555556,
              "#d8576b"
             ],
             [
              0.6666666666666666,
              "#ed7953"
             ],
             [
              0.7777777777777778,
              "#fb9f3a"
             ],
             [
              0.8888888888888888,
              "#fdca26"
             ],
             [
              1.0,
              "#f0f921"
             ]
            ],
            "type": "heatmapgl"
           }
          ],
          "heatmap": [
           {
            "colorbar": {
             "outlinewidth": 0,
             "ticks": ""
            },
            "colorscale": [
             [
              0.0,
              "#0d0887"
             ],
             [
              0.1111111111111111,
              "#46039f"
             ],
             [
              0.2222222222222222,
              "#7201a8"
             ],
             [
              0.3333333333333333,
              "#9c179e"
             ],
             [
              0.4444444444444444,
              "#bd3786"
             ],
             [
              0.5555555555555556,
              "#d8576b"
             ],
             [
              0.6666666666666666,
              "#ed7953"
             ],
             [
              0.7777777777777778,
              "#fb9f3a"
             ],
             [
              0.8888888888888888,
              "#fdca26"
             ],
             [
              1.0,
              "#f0f921"
             ]
            ],
            "type": "heatmap"
           }
          ],
          "histogram2dcontour": [
           {
            "colorbar": {
             "outlinewidth": 0,
             "ticks": ""
            },
            "colorscale": [
             [
              0.0,
              "#0d0887"
             ],
             [
              0.1111111111111111,
              "#46039f"
             ],
             [
              0.2222222222222222,
              "#7201a8"
             ],
             [
              0.3333333333333333,
              "#9c179e"
             ],
             [
              0.4444444444444444,
              "#bd3786"
             ],
             [
              0.5555555555555556,
              "#d8576b"
             ],
             [
              0.6666666666666666,
              "#ed7953"
             ],
             [
              0.7777777777777778,
              "#fb9f3a"
             ],
             [
              0.8888888888888888,
              "#fdca26"
             ],
             [
              1.0,
              "#f0f921"
             ]
            ],
            "type": "histogram2dcontour"
           }
          ],
          "histogram2d": [
           {
            "colorbar": {
             "outlinewidth": 0,
             "ticks": ""
            },
            "colorscale": [
             [
              0.0,
              "#0d0887"
             ],
             [
              0.1111111111111111,
              "#46039f"
             ],
             [
              0.2222222222222222,
              "#7201a8"
             ],
             [
              0.3333333333333333,
              "#9c179e"
             ],
             [
              0.4444444444444444,
              "#bd3786"
             ],
             [
              0.5555555555555556,
              "#d8576b"
             ],
             [
              0.6666666666666666,
              "#ed7953"
             ],
             [
              0.7777777777777778,
              "#fb9f3a"
             ],
             [
              0.8888888888888888,
              "#fdca26"
             ],
             [
              1.0,
              "#f0f921"
             ]
            ],
            "type": "histogram2d"
           }
          ],
          "histogram": [
           {
            "marker": {
             "pattern": {
              "fillmode": "overlay",
              "size": 10,
              "solidity": 0.2
             }
            },
            "type": "histogram"
           }
          ],
          "mesh3d": [
           {
            "colorbar": {
             "outlinewidth": 0,
             "ticks": ""
            },
            "type": "mesh3d"
           }
          ],
          "parcoords": [
           {
            "line": {
             "colorbar": {
              "outlinewidth": 0,
              "ticks": ""
             }
            },
            "type": "parcoords"
           }
          ],
          "pie": [
           {
            "automargin": true,
            "type": "pie"
           }
          ],
          "scatter3d": [
           {
            "line": {
             "colorbar": {
              "outlinewidth": 0,
              "ticks": ""
             }
            },
            "marker": {
             "colorbar": {
              "outlinewidth": 0,
              "ticks": ""
             }
            },
            "type": "scatter3d"
           }
          ],
          "scattercarpet": [
           {
            "marker": {
             "colorbar": {
              "outlinewidth": 0,
              "ticks": ""
             }
            },
            "type": "scattercarpet"
           }
          ],
          "scattergeo": [
           {
            "marker": {
             "colorbar": {
              "outlinewidth": 0,
              "ticks": ""
             }
            },
            "type": "scattergeo"
           }
          ],
          "scattergl": [
           {
            "marker": {
             "colorbar": {
              "outlinewidth": 0,
              "ticks": ""
             }
            },
            "type": "scattergl"
           }
          ],
          "scattermapbox": [
           {
            "marker": {
             "colorbar": {
              "outlinewidth": 0,
              "ticks": ""
             }
            },
            "type": "scattermapbox"
           }
          ],
          "scatterpolargl": [
           {
            "marker": {
             "colorbar": {
              "outlinewidth": 0,
              "ticks": ""
             }
            },
            "type": "scatterpolargl"
           }
          ],
          "scatterpolar": [
           {
            "marker": {
             "colorbar": {
              "outlinewidth": 0,
              "ticks": ""
             }
            },
            "type": "scatterpolar"
           }
          ],
          "scatter": [
           {
            "fillpattern": {
             "fillmode": "overlay",
             "size": 10,
             "solidity": 0.2
            },
            "type": "scatter"
           }
          ],
          "scatterternary": [
           {
            "marker": {
             "colorbar": {
              "outlinewidth": 0,
              "ticks": ""
             }
            },
            "type": "scatterternary"
           }
          ],
          "surface": [
           {
            "colorbar": {
             "outlinewidth": 0,
             "ticks": ""
            },
            "colorscale": [
             [
              0.0,
              "#0d0887"
             ],
             [
              0.1111111111111111,
              "#46039f"
             ],
             [
              0.2222222222222222,
              "#7201a8"
             ],
             [
              0.3333333333333333,
              "#9c179e"
             ],
             [
              0.4444444444444444,
              "#bd3786"
             ],
             [
              0.5555555555555556,
              "#d8576b"
             ],
             [
              0.6666666666666666,
              "#ed7953"
             ],
             [
              0.7777777777777778,
              "#fb9f3a"
             ],
             [
              0.8888888888888888,
              "#fdca26"
             ],
             [
              1.0,
              "#f0f921"
             ]
            ],
            "type": "surface"
           }
          ],
          "table": [
           {
            "cells": {
             "fill": {
              "color": "#EBF0F8"
             },
             "line": {
              "color": "white"
             }
            },
            "header": {
             "fill": {
              "color": "#C8D4E3"
             },
             "line": {
              "color": "white"
             }
            },
            "type": "table"
           }
          ]
         },
         "layout": {
          "annotationdefaults": {
           "arrowcolor": "#2a3f5f",
           "arrowhead": 0,
           "arrowwidth": 1
          },
          "autotypenumbers": "strict",
          "coloraxis": {
           "colorbar": {
            "outlinewidth": 0,
            "ticks": ""
           }
          },
          "colorscale": {
           "diverging": [
            [
             0,
             "#8e0152"
            ],
            [
             0.1,
             "#c51b7d"
            ],
            [
             0.2,
             "#de77ae"
            ],
            [
             0.3,
             "#f1b6da"
            ],
            [
             0.4,
             "#fde0ef"
            ],
            [
             0.5,
             "#f7f7f7"
            ],
            [
             0.6,
             "#e6f5d0"
            ],
            [
             0.7,
             "#b8e186"
            ],
            [
             0.8,
             "#7fbc41"
            ],
            [
             0.9,
             "#4d9221"
            ],
            [
             1,
             "#276419"
            ]
           ],
           "sequential": [
            [
             0.0,
             "#0d0887"
            ],
            [
             0.1111111111111111,
             "#46039f"
            ],
            [
             0.2222222222222222,
             "#7201a8"
            ],
            [
             0.3333333333333333,
             "#9c179e"
            ],
            [
             0.4444444444444444,
             "#bd3786"
            ],
            [
             0.5555555555555556,
             "#d8576b"
            ],
            [
             0.6666666666666666,
             "#ed7953"
            ],
            [
             0.7777777777777778,
             "#fb9f3a"
            ],
            [
             0.8888888888888888,
             "#fdca26"
            ],
            [
             1.0,
             "#f0f921"
            ]
           ],
           "sequentialminus": [
            [
             0.0,
             "#0d0887"
            ],
            [
             0.1111111111111111,
             "#46039f"
            ],
            [
             0.2222222222222222,
             "#7201a8"
            ],
            [
             0.3333333333333333,
             "#9c179e"
            ],
            [
             0.4444444444444444,
             "#bd3786"
            ],
            [
             0.5555555555555556,
             "#d8576b"
            ],
            [
             0.6666666666666666,
             "#ed7953"
            ],
            [
             0.7777777777777778,
             "#fb9f3a"
            ],
            [
             0.8888888888888888,
             "#fdca26"
            ],
            [
             1.0,
             "#f0f921"
            ]
           ]
          },
          "colorway": [
           "#636efa",
           "#EF553B",
           "#00cc96",
           "#ab63fa",
           "#FFA15A",
           "#19d3f3",
           "#FF6692",
           "#B6E880",
           "#FF97FF",
           "#FECB52"
          ],
          "font": {
           "color": "#2a3f5f"
          },
          "geo": {
           "bgcolor": "white",
           "lakecolor": "white",
           "landcolor": "white",
           "showlakes": true,
           "showland": true,
           "subunitcolor": "#C8D4E3"
          },
          "hoverlabel": {
           "align": "left"
          },
          "hovermode": "closest",
          "mapbox": {
           "style": "light"
          },
          "paper_bgcolor": "white",
          "plot_bgcolor": "white",
          "polar": {
           "angularaxis": {
            "gridcolor": "#EBF0F8",
            "linecolor": "#EBF0F8",
            "ticks": ""
           },
           "bgcolor": "white",
           "radialaxis": {
            "gridcolor": "#EBF0F8",
            "linecolor": "#EBF0F8",
            "ticks": ""
           }
          },
          "scene": {
           "xaxis": {
            "backgroundcolor": "white",
            "gridcolor": "#DFE8F3",
            "gridwidth": 2,
            "linecolor": "#EBF0F8",
            "showbackground": true,
            "ticks": "",
            "zerolinecolor": "#EBF0F8"
           },
           "yaxis": {
            "backgroundcolor": "white",
            "gridcolor": "#DFE8F3",
            "gridwidth": 2,
            "linecolor": "#EBF0F8",
            "showbackground": true,
            "ticks": "",
            "zerolinecolor": "#EBF0F8"
           },
           "zaxis": {
            "backgroundcolor": "white",
            "gridcolor": "#DFE8F3",
            "gridwidth": 2,
            "linecolor": "#EBF0F8",
            "showbackground": true,
            "ticks": "",
            "zerolinecolor": "#EBF0F8"
           }
          },
          "shapedefaults": {
           "line": {
            "color": "#2a3f5f"
           }
          },
          "ternary": {
           "aaxis": {
            "gridcolor": "#DFE8F3",
            "linecolor": "#A2B1C6",
            "ticks": ""
           },
           "baxis": {
            "gridcolor": "#DFE8F3",
            "linecolor": "#A2B1C6",
            "ticks": ""
           },
           "bgcolor": "white",
           "caxis": {
            "gridcolor": "#DFE8F3",
            "linecolor": "#A2B1C6",
            "ticks": ""
           }
          },
          "title": {
           "x": 0.05
          },
          "xaxis": {
           "automargin": true,
           "gridcolor": "#EBF0F8",
           "linecolor": "#EBF0F8",
           "ticks": "",
           "title": {
            "standoff": 15
           },
           "zerolinecolor": "#EBF0F8",
           "zerolinewidth": 2
          },
          "yaxis": {
           "automargin": true,
           "gridcolor": "#EBF0F8",
           "linecolor": "#EBF0F8",
           "ticks": "",
           "title": {
            "standoff": 15
           },
           "zerolinecolor": "#EBF0F8",
           "zerolinewidth": 2
          }
         }
        },
        "xaxis": {
         "anchor": "y",
         "domain": [
          0.0,
          1.0
         ],
         "title": {
          "text": ""
         },
         "categoryorder": "array",
         "categoryarray": [
          "Sustainability",
          "Learning",
          "Wellbeing",
          "Productivity",
          "Finance",
          "General"
         ],
         "tickfont": {
          "weight": "bold"
         }
        },
        "yaxis": {
         "anchor": "x",
         "domain": [
          0.0,
          1.0
         ],
         "title": {
          "text": "Number of Features per App"
         },
         "range": [
          10,
          71
         ]
        },
        "legend": {
         "title": {
          "text": "domain"
         },
         "tracegroupgap": 0
        },
        "margin": {
         "t": 60
        },
        "boxmode": "overlay",
        "showlegend": false,
        "height": 600
       },
       "config": {
        "plotlyServerURL": "https://plot.ly"
       }
      },
      "text/html": [
       "<div>                            <div id=\"afd2e0df-432a-4f25-85ec-486e4b31023a\" class=\"plotly-graph-div\" style=\"height:600px; width:100%;\"></div>            <script type=\"text/javascript\">                require([\"plotly\"], function(Plotly) {                    window.PLOTLYENV=window.PLOTLYENV || {};                                    if (document.getElementById(\"afd2e0df-432a-4f25-85ec-486e4b31023a\")) {                    Plotly.newPlot(                        \"afd2e0df-432a-4f25-85ec-486e4b31023a\",                        [{\"alignmentgroup\":\"True\",\"boxpoints\":\"all\",\"hovertemplate\":\"domain=%{x}\\u003cbr\\u003efeature_count=%{y}\\u003cextra\\u003e\\u003c\\u002fextra\\u003e\",\"legendgroup\":\"Sustainability\",\"marker\":{\"color\":\"rgb(155,143,180)\"},\"name\":\"Sustainability\",\"notched\":false,\"offsetgroup\":\"Sustainability\",\"orientation\":\"v\",\"showlegend\":true,\"x\":[\"Sustainability\",\"Sustainability\",\"Sustainability\",\"Sustainability\",\"Sustainability\",\"Sustainability\",\"Sustainability\",\"Sustainability\",\"Sustainability\"],\"x0\":\" \",\"xaxis\":\"x\",\"y\":[33.0,35.0,23.0,24.0,50.0,20.0,25.0,31.0,25.0],\"y0\":\" \",\"yaxis\":\"y\",\"type\":\"box\"},{\"alignmentgroup\":\"True\",\"boxpoints\":\"all\",\"hovertemplate\":\"domain=%{x}\\u003cbr\\u003efeature_count=%{y}\\u003cextra\\u003e\\u003c\\u002fextra\\u003e\",\"legendgroup\":\"Learning\",\"marker\":{\"color\":\"rgb(147,158,190)\"},\"name\":\"Learning\",\"notched\":false,\"offsetgroup\":\"Learning\",\"orientation\":\"v\",\"showlegend\":true,\"x\":[\"Learning\",\"Learning\",\"Learning\",\"Learning\",\"Learning\",\"Learning\",\"Learning\",\"Learning\",\"Learning\"],\"x0\":\" \",\"xaxis\":\"x\",\"y\":[32.0,33.0,48.0,39.0,26.0,21.0,29.0,34.0,21.0],\"y0\":\" \",\"yaxis\":\"y\",\"type\":\"box\"},{\"alignmentgroup\":\"True\",\"boxpoints\":\"all\",\"hovertemplate\":\"domain=%{x}\\u003cbr\\u003efeature_count=%{y}\\u003cextra\\u003e\\u003c\\u002fextra\\u003e\",\"legendgroup\":\"Wellbeing\",\"marker\":{\"color\":\"rgb(188,192,136)\"},\"name\":\"Wellbeing\",\"notched\":false,\"offsetgroup\":\"Wellbeing\",\"orientation\":\"v\",\"showlegend\":true,\"x\":[\"Wellbeing\",\"Wellbeing\",\"Wellbeing\",\"Wellbeing\",\"Wellbeing\",\"Wellbeing\",\"Wellbeing\",\"Wellbeing\",\"Wellbeing\",\"Wellbeing\",\"Wellbeing\",\"Wellbeing\",\"Wellbeing\",\"Wellbeing\",\"Wellbeing\",\"Wellbeing\",\"Wellbeing\",\"Wellbeing\",\"Wellbeing\",\"Wellbeing\",\"Wellbeing\",\"Wellbeing\",\"Wellbeing\",\"Wellbeing\",\"Wellbeing\",\"Wellbeing\",\"Wellbeing\",\"Wellbeing\",\"Wellbeing\",\"Wellbeing\",\"Wellbeing\",\"Wellbeing\",\"Wellbeing\",\"Wellbeing\",\"Wellbeing\",\"Wellbeing\",\"Wellbeing\",\"Wellbeing\",\"Wellbeing\",\"Wellbeing\",\"Wellbeing\",\"Wellbeing\",\"Wellbeing\",\"Wellbeing\",\"Wellbeing\",\"Wellbeing\",\"Wellbeing\",\"Wellbeing\",\"Wellbeing\",\"Wellbeing\",\"Wellbeing\",\"Wellbeing\"],\"x0\":\" \",\"xaxis\":\"x\",\"y\":[26.0,50.0,28.0,50.0,34.0,32.0,24.0,24.0,65.0,28.0,22.0,24.0,37.0,21.0,30.0,34.0,30.0,36.0,26.0,46.0,31.0,25.0,28.0,35.0,21.0,51.0,44.0,25.0,24.0,33.0,33.0,44.0,19.0,20.0,22.0,18.0,24.0,40.0,33.0,25.0,28.0,22.0,22.0,30.0,27.0,27.0,23.0,37.0,59.0,51.0,28.0,21.0],\"y0\":\" \",\"yaxis\":\"y\",\"type\":\"box\"},{\"alignmentgroup\":\"True\",\"boxpoints\":\"all\",\"hovertemplate\":\"domain=%{x}\\u003cbr\\u003efeature_count=%{y}\\u003cextra\\u003e\\u003c\\u002fextra\\u003e\",\"legendgroup\":\"Productivity\",\"marker\":{\"color\":\"rgb(141,201,130)\"},\"name\":\"Productivity\",\"notched\":false,\"offsetgroup\":\"Productivity\",\"orientation\":\"v\",\"showlegend\":true,\"x\":[\"Productivity\",\"Productivity\",\"Productivity\",\"Productivity\",\"Productivity\",\"Productivity\",\"Productivity\",\"Productivity\",\"Productivity\",\"Productivity\",\"Productivity\",\"Productivity\",\"Productivity\",\"Productivity\",\"Productivity\",\"Productivity\",\"Productivity\"],\"x0\":\" \",\"xaxis\":\"x\",\"y\":[22.0,28.0,18.0,32.0,19.0,29.0,37.0,34.0,17.0,15.0,23.0,17.0,22.0,15.0,24.0,25.0,16.0],\"y0\":\" \",\"yaxis\":\"y\",\"type\":\"box\"},{\"alignmentgroup\":\"True\",\"boxpoints\":\"all\",\"hovertemplate\":\"domain=%{x}\\u003cbr\\u003efeature_count=%{y}\\u003cextra\\u003e\\u003c\\u002fextra\\u003e\",\"legendgroup\":\"Finance\",\"marker\":{\"color\":\"rgb(197,164,56)\"},\"name\":\"Finance\",\"notched\":false,\"offsetgroup\":\"Finance\",\"orientation\":\"v\",\"showlegend\":true,\"x\":[\"Finance\",\"Finance\",\"Finance\",\"Finance\",\"Finance\",\"Finance\",\"Finance\"],\"x0\":\" \",\"xaxis\":\"x\",\"y\":[21.0,19.0,39.0,34.0,23.0,20.0,32.0],\"y0\":\" \",\"yaxis\":\"y\",\"type\":\"box\"},{\"alignmentgroup\":\"True\",\"boxpoints\":\"all\",\"hovertemplate\":\"domain=%{x}\\u003cbr\\u003efeature_count=%{y}\\u003cextra\\u003e\\u003c\\u002fextra\\u003e\",\"legendgroup\":\"General\",\"marker\":{\"color\":\"rgb(200,200,120)\"},\"name\":\"General\",\"notched\":false,\"offsetgroup\":\"General\",\"orientation\":\"v\",\"showlegend\":true,\"x\":[\"General\",\"General\",\"General\",\"General\",\"General\",\"General\",\"General\",\"General\",\"General\",\"General\",\"General\",\"General\",\"General\",\"General\",\"General\",\"General\",\"General\",\"General\",\"General\",\"General\",\"General\",\"General\",\"General\",\"General\",\"General\",\"General\",\"General\",\"General\",\"General\",\"General\",\"General\",\"General\",\"General\",\"General\",\"General\",\"General\",\"General\",\"General\",\"General\",\"General\",\"General\",\"General\",\"General\",\"General\",\"General\",\"General\",\"General\",\"General\",\"General\",\"General\",\"General\",\"General\",\"General\",\"General\",\"General\"],\"x0\":\" \",\"xaxis\":\"x\",\"y\":[23.0,47.0,42.0,26.0,24.0,26.0,23.0,31.0,38.0,43.0,50.0,41.0,17.0,36.0,14.0,24.0,26.0,18.0,20.0,25.0,46.0,24.0,32.0,28.0,29.0,24.0,17.0,57.0,23.0,41.0,34.0,41.0,47.0,38.0,41.0,14.0,50.0,28.0,31.0,16.0,18.0,20.0,48.0,26.0,25.0,37.0,22.0,20.0,20.0,20.0,32.0,20.0,17.0,25.0,26.0],\"y0\":\" \",\"yaxis\":\"y\",\"type\":\"box\"}],                        {\"template\":{\"data\":{\"barpolar\":[{\"marker\":{\"line\":{\"color\":\"white\",\"width\":0.5},\"pattern\":{\"fillmode\":\"overlay\",\"size\":10,\"solidity\":0.2}},\"type\":\"barpolar\"}],\"bar\":[{\"error_x\":{\"color\":\"#2a3f5f\"},\"error_y\":{\"color\":\"#2a3f5f\"},\"marker\":{\"line\":{\"color\":\"white\",\"width\":0.5},\"pattern\":{\"fillmode\":\"overlay\",\"size\":10,\"solidity\":0.2}},\"type\":\"bar\"}],\"carpet\":[{\"aaxis\":{\"endlinecolor\":\"#2a3f5f\",\"gridcolor\":\"#C8D4E3\",\"linecolor\":\"#C8D4E3\",\"minorgridcolor\":\"#C8D4E3\",\"startlinecolor\":\"#2a3f5f\"},\"baxis\":{\"endlinecolor\":\"#2a3f5f\",\"gridcolor\":\"#C8D4E3\",\"linecolor\":\"#C8D4E3\",\"minorgridcolor\":\"#C8D4E3\",\"startlinecolor\":\"#2a3f5f\"},\"type\":\"carpet\"}],\"choropleth\":[{\"colorbar\":{\"outlinewidth\":0,\"ticks\":\"\"},\"type\":\"choropleth\"}],\"contourcarpet\":[{\"colorbar\":{\"outlinewidth\":0,\"ticks\":\"\"},\"type\":\"contourcarpet\"}],\"contour\":[{\"colorbar\":{\"outlinewidth\":0,\"ticks\":\"\"},\"colorscale\":[[0.0,\"#0d0887\"],[0.1111111111111111,\"#46039f\"],[0.2222222222222222,\"#7201a8\"],[0.3333333333333333,\"#9c179e\"],[0.4444444444444444,\"#bd3786\"],[0.5555555555555556,\"#d8576b\"],[0.6666666666666666,\"#ed7953\"],[0.7777777777777778,\"#fb9f3a\"],[0.8888888888888888,\"#fdca26\"],[1.0,\"#f0f921\"]],\"type\":\"contour\"}],\"heatmapgl\":[{\"colorbar\":{\"outlinewidth\":0,\"ticks\":\"\"},\"colorscale\":[[0.0,\"#0d0887\"],[0.1111111111111111,\"#46039f\"],[0.2222222222222222,\"#7201a8\"],[0.3333333333333333,\"#9c179e\"],[0.4444444444444444,\"#bd3786\"],[0.5555555555555556,\"#d8576b\"],[0.6666666666666666,\"#ed7953\"],[0.7777777777777778,\"#fb9f3a\"],[0.8888888888888888,\"#fdca26\"],[1.0,\"#f0f921\"]],\"type\":\"heatmapgl\"}],\"heatmap\":[{\"colorbar\":{\"outlinewidth\":0,\"ticks\":\"\"},\"colorscale\":[[0.0,\"#0d0887\"],[0.1111111111111111,\"#46039f\"],[0.2222222222222222,\"#7201a8\"],[0.3333333333333333,\"#9c179e\"],[0.4444444444444444,\"#bd3786\"],[0.5555555555555556,\"#d8576b\"],[0.6666666666666666,\"#ed7953\"],[0.7777777777777778,\"#fb9f3a\"],[0.8888888888888888,\"#fdca26\"],[1.0,\"#f0f921\"]],\"type\":\"heatmap\"}],\"histogram2dcontour\":[{\"colorbar\":{\"outlinewidth\":0,\"ticks\":\"\"},\"colorscale\":[[0.0,\"#0d0887\"],[0.1111111111111111,\"#46039f\"],[0.2222222222222222,\"#7201a8\"],[0.3333333333333333,\"#9c179e\"],[0.4444444444444444,\"#bd3786\"],[0.5555555555555556,\"#d8576b\"],[0.6666666666666666,\"#ed7953\"],[0.7777777777777778,\"#fb9f3a\"],[0.8888888888888888,\"#fdca26\"],[1.0,\"#f0f921\"]],\"type\":\"histogram2dcontour\"}],\"histogram2d\":[{\"colorbar\":{\"outlinewidth\":0,\"ticks\":\"\"},\"colorscale\":[[0.0,\"#0d0887\"],[0.1111111111111111,\"#46039f\"],[0.2222222222222222,\"#7201a8\"],[0.3333333333333333,\"#9c179e\"],[0.4444444444444444,\"#bd3786\"],[0.5555555555555556,\"#d8576b\"],[0.6666666666666666,\"#ed7953\"],[0.7777777777777778,\"#fb9f3a\"],[0.8888888888888888,\"#fdca26\"],[1.0,\"#f0f921\"]],\"type\":\"histogram2d\"}],\"histogram\":[{\"marker\":{\"pattern\":{\"fillmode\":\"overlay\",\"size\":10,\"solidity\":0.2}},\"type\":\"histogram\"}],\"mesh3d\":[{\"colorbar\":{\"outlinewidth\":0,\"ticks\":\"\"},\"type\":\"mesh3d\"}],\"parcoords\":[{\"line\":{\"colorbar\":{\"outlinewidth\":0,\"ticks\":\"\"}},\"type\":\"parcoords\"}],\"pie\":[{\"automargin\":true,\"type\":\"pie\"}],\"scatter3d\":[{\"line\":{\"colorbar\":{\"outlinewidth\":0,\"ticks\":\"\"}},\"marker\":{\"colorbar\":{\"outlinewidth\":0,\"ticks\":\"\"}},\"type\":\"scatter3d\"}],\"scattercarpet\":[{\"marker\":{\"colorbar\":{\"outlinewidth\":0,\"ticks\":\"\"}},\"type\":\"scattercarpet\"}],\"scattergeo\":[{\"marker\":{\"colorbar\":{\"outlinewidth\":0,\"ticks\":\"\"}},\"type\":\"scattergeo\"}],\"scattergl\":[{\"marker\":{\"colorbar\":{\"outlinewidth\":0,\"ticks\":\"\"}},\"type\":\"scattergl\"}],\"scattermapbox\":[{\"marker\":{\"colorbar\":{\"outlinewidth\":0,\"ticks\":\"\"}},\"type\":\"scattermapbox\"}],\"scatterpolargl\":[{\"marker\":{\"colorbar\":{\"outlinewidth\":0,\"ticks\":\"\"}},\"type\":\"scatterpolargl\"}],\"scatterpolar\":[{\"marker\":{\"colorbar\":{\"outlinewidth\":0,\"ticks\":\"\"}},\"type\":\"scatterpolar\"}],\"scatter\":[{\"fillpattern\":{\"fillmode\":\"overlay\",\"size\":10,\"solidity\":0.2},\"type\":\"scatter\"}],\"scatterternary\":[{\"marker\":{\"colorbar\":{\"outlinewidth\":0,\"ticks\":\"\"}},\"type\":\"scatterternary\"}],\"surface\":[{\"colorbar\":{\"outlinewidth\":0,\"ticks\":\"\"},\"colorscale\":[[0.0,\"#0d0887\"],[0.1111111111111111,\"#46039f\"],[0.2222222222222222,\"#7201a8\"],[0.3333333333333333,\"#9c179e\"],[0.4444444444444444,\"#bd3786\"],[0.5555555555555556,\"#d8576b\"],[0.6666666666666666,\"#ed7953\"],[0.7777777777777778,\"#fb9f3a\"],[0.8888888888888888,\"#fdca26\"],[1.0,\"#f0f921\"]],\"type\":\"surface\"}],\"table\":[{\"cells\":{\"fill\":{\"color\":\"#EBF0F8\"},\"line\":{\"color\":\"white\"}},\"header\":{\"fill\":{\"color\":\"#C8D4E3\"},\"line\":{\"color\":\"white\"}},\"type\":\"table\"}]},\"layout\":{\"annotationdefaults\":{\"arrowcolor\":\"#2a3f5f\",\"arrowhead\":0,\"arrowwidth\":1},\"autotypenumbers\":\"strict\",\"coloraxis\":{\"colorbar\":{\"outlinewidth\":0,\"ticks\":\"\"}},\"colorscale\":{\"diverging\":[[0,\"#8e0152\"],[0.1,\"#c51b7d\"],[0.2,\"#de77ae\"],[0.3,\"#f1b6da\"],[0.4,\"#fde0ef\"],[0.5,\"#f7f7f7\"],[0.6,\"#e6f5d0\"],[0.7,\"#b8e186\"],[0.8,\"#7fbc41\"],[0.9,\"#4d9221\"],[1,\"#276419\"]],\"sequential\":[[0.0,\"#0d0887\"],[0.1111111111111111,\"#46039f\"],[0.2222222222222222,\"#7201a8\"],[0.3333333333333333,\"#9c179e\"],[0.4444444444444444,\"#bd3786\"],[0.5555555555555556,\"#d8576b\"],[0.6666666666666666,\"#ed7953\"],[0.7777777777777778,\"#fb9f3a\"],[0.8888888888888888,\"#fdca26\"],[1.0,\"#f0f921\"]],\"sequentialminus\":[[0.0,\"#0d0887\"],[0.1111111111111111,\"#46039f\"],[0.2222222222222222,\"#7201a8\"],[0.3333333333333333,\"#9c179e\"],[0.4444444444444444,\"#bd3786\"],[0.5555555555555556,\"#d8576b\"],[0.6666666666666666,\"#ed7953\"],[0.7777777777777778,\"#fb9f3a\"],[0.8888888888888888,\"#fdca26\"],[1.0,\"#f0f921\"]]},\"colorway\":[\"#636efa\",\"#EF553B\",\"#00cc96\",\"#ab63fa\",\"#FFA15A\",\"#19d3f3\",\"#FF6692\",\"#B6E880\",\"#FF97FF\",\"#FECB52\"],\"font\":{\"color\":\"#2a3f5f\"},\"geo\":{\"bgcolor\":\"white\",\"lakecolor\":\"white\",\"landcolor\":\"white\",\"showlakes\":true,\"showland\":true,\"subunitcolor\":\"#C8D4E3\"},\"hoverlabel\":{\"align\":\"left\"},\"hovermode\":\"closest\",\"mapbox\":{\"style\":\"light\"},\"paper_bgcolor\":\"white\",\"plot_bgcolor\":\"white\",\"polar\":{\"angularaxis\":{\"gridcolor\":\"#EBF0F8\",\"linecolor\":\"#EBF0F8\",\"ticks\":\"\"},\"bgcolor\":\"white\",\"radialaxis\":{\"gridcolor\":\"#EBF0F8\",\"linecolor\":\"#EBF0F8\",\"ticks\":\"\"}},\"scene\":{\"xaxis\":{\"backgroundcolor\":\"white\",\"gridcolor\":\"#DFE8F3\",\"gridwidth\":2,\"linecolor\":\"#EBF0F8\",\"showbackground\":true,\"ticks\":\"\",\"zerolinecolor\":\"#EBF0F8\"},\"yaxis\":{\"backgroundcolor\":\"white\",\"gridcolor\":\"#DFE8F3\",\"gridwidth\":2,\"linecolor\":\"#EBF0F8\",\"showbackground\":true,\"ticks\":\"\",\"zerolinecolor\":\"#EBF0F8\"},\"zaxis\":{\"backgroundcolor\":\"white\",\"gridcolor\":\"#DFE8F3\",\"gridwidth\":2,\"linecolor\":\"#EBF0F8\",\"showbackground\":true,\"ticks\":\"\",\"zerolinecolor\":\"#EBF0F8\"}},\"shapedefaults\":{\"line\":{\"color\":\"#2a3f5f\"}},\"ternary\":{\"aaxis\":{\"gridcolor\":\"#DFE8F3\",\"linecolor\":\"#A2B1C6\",\"ticks\":\"\"},\"baxis\":{\"gridcolor\":\"#DFE8F3\",\"linecolor\":\"#A2B1C6\",\"ticks\":\"\"},\"bgcolor\":\"white\",\"caxis\":{\"gridcolor\":\"#DFE8F3\",\"linecolor\":\"#A2B1C6\",\"ticks\":\"\"}},\"title\":{\"x\":0.05},\"xaxis\":{\"automargin\":true,\"gridcolor\":\"#EBF0F8\",\"linecolor\":\"#EBF0F8\",\"ticks\":\"\",\"title\":{\"standoff\":15},\"zerolinecolor\":\"#EBF0F8\",\"zerolinewidth\":2},\"yaxis\":{\"automargin\":true,\"gridcolor\":\"#EBF0F8\",\"linecolor\":\"#EBF0F8\",\"ticks\":\"\",\"title\":{\"standoff\":15},\"zerolinecolor\":\"#EBF0F8\",\"zerolinewidth\":2}}},\"xaxis\":{\"anchor\":\"y\",\"domain\":[0.0,1.0],\"title\":{\"text\":\"\"},\"categoryorder\":\"array\",\"categoryarray\":[\"Sustainability\",\"Learning\",\"Wellbeing\",\"Productivity\",\"Finance\",\"General\"],\"tickfont\":{\"weight\":\"bold\"}},\"yaxis\":{\"anchor\":\"x\",\"domain\":[0.0,1.0],\"title\":{\"text\":\"Number of Features per App\"},\"range\":[10,71]},\"legend\":{\"title\":{\"text\":\"domain\"},\"tracegroupgap\":0},\"margin\":{\"t\":60},\"boxmode\":\"overlay\",\"showlegend\":false,\"height\":600},                        {\"responsive\": true}                    ).then(function(){\n",
       "                            \n",
       "var gd = document.getElementById('afd2e0df-432a-4f25-85ec-486e4b31023a');\n",
       "var x = new MutationObserver(function (mutations, observer) {{\n",
       "        var display = window.getComputedStyle(gd).display;\n",
       "        if (!display || display === 'none') {{\n",
       "            console.log([gd, 'removed!']);\n",
       "            Plotly.purge(gd);\n",
       "            observer.disconnect();\n",
       "        }}\n",
       "}});\n",
       "\n",
       "// Listen for the removal of the full notebook cells\n",
       "var notebookContainer = gd.closest('#notebook-container');\n",
       "if (notebookContainer) {{\n",
       "    x.observe(notebookContainer, {childList: true});\n",
       "}}\n",
       "\n",
       "// Listen for the clearing of the current output cell\n",
       "var outputEl = gd.closest('.output');\n",
       "if (outputEl) {{\n",
       "    x.observe(outputEl, {childList: true});\n",
       "}}\n",
       "\n",
       "                        })                };                });            </script>        </div>"
      ]
     },
     "metadata": {},
     "output_type": "display_data"
    }
   ],
   "execution_count": 21
  },
  {
   "metadata": {},
   "cell_type": "code",
   "outputs": [],
   "execution_count": null,
   "source": "",
   "id": "aa8c235f5a6101f"
  }
 ],
 "metadata": {
  "kernelspec": {
   "display_name": "Python 3",
   "language": "python",
   "name": "python3"
  },
  "language_info": {
   "codemirror_mode": {
    "name": "ipython",
    "version": 2
   },
   "file_extension": ".py",
   "mimetype": "text/x-python",
   "name": "python",
   "nbconvert_exporter": "python",
   "pygments_lexer": "ipython2",
   "version": "2.7.6"
  }
 },
 "nbformat": 4,
 "nbformat_minor": 5
}
