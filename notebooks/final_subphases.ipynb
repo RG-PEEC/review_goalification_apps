{
 "cells": [
  {
   "metadata": {
    "ExecuteTime": {
     "end_time": "2024-12-13T08:55:16.089753Z",
     "start_time": "2024-12-13T08:55:16.075496Z"
    }
   },
   "cell_type": "code",
   "source": [
    "# Install packages if necessary\n",
    "# !pip install numpy pandas plotly fastparquet kaleido"
   ],
   "id": "22c3f806000a2b4f",
   "outputs": [],
   "execution_count": 60
  },
  {
   "cell_type": "code",
   "id": "initial_id",
   "metadata": {
    "collapsed": true,
    "ExecuteTime": {
     "end_time": "2024-12-13T08:55:16.116482Z",
     "start_time": "2024-12-13T08:55:16.102410Z"
    }
   },
   "source": [
    "# auto reload modules for jupyter notebook\n",
    "%load_ext autoreload\n",
    "%autoreload 2"
   ],
   "outputs": [
    {
     "name": "stdout",
     "output_type": "stream",
     "text": [
      "The autoreload extension is already loaded. To reload it, use:\n",
      "  %reload_ext autoreload\n"
     ]
    }
   ],
   "execution_count": 61
  },
  {
   "metadata": {
    "ExecuteTime": {
     "end_time": "2024-12-13T08:55:16.191942Z",
     "start_time": "2024-12-13T08:55:16.180023Z"
    }
   },
   "cell_type": "code",
   "source": [
    "# import library\n",
    "import pandas as pd\n",
    "import plotly.graph_objs as go\n",
    "import numpy as np\n",
    "\n",
    "# import order of features\n",
    "from order import feature_order, cross_cutting_order, mapping, apps_2024"
   ],
   "id": "8ba705b78b96ebd3",
   "outputs": [],
   "execution_count": 62
  },
  {
   "metadata": {
    "ExecuteTime": {
     "end_time": "2024-12-13T08:55:16.244643Z",
     "start_time": "2024-12-13T08:55:16.211382Z"
    }
   },
   "cell_type": "code",
   "source": [
    "# read in data\n",
    "df = pd.read_parquet('../data/raw/features.parquet')\n",
    "\n",
    "# remove travel domain\n",
    "df = df.loc[:, ~df.columns.get_level_values('domain').str.contains('Travel')]\n",
    "\n",
    "# filter apps: drop 2024\n",
    "df_filtered = df.drop(columns=[app for app in df.columns.get_level_values('app') if app in apps_2024], level='app')\n",
    "\n",
    "# make sub data frames for phase-specific and cross-cutting features\n",
    "# create a dataframe for cross-cutting features\n",
    "df_cross_cutting = df_filtered.loc[df_filtered.index.get_level_values('type') == 'Cross-Cutting']\n",
    "df_cross_cutting.head(5)"
   ],
   "id": "fc66d569bc6354de",
   "outputs": [
    {
     "data": {
      "text/plain": [
       "domain                                                           Finance  \\\n",
       "app                                             52 Weeks Money Challenge   \n",
       "type          phase            feat   subfeat                              \n",
       "Cross-Cutting Eliciting        Social Relations                        0   \n",
       "              Defining         Social Relations                        0   \n",
       "              Setting          Social Relations                        0   \n",
       "              Operationalizing Social Relations                        0   \n",
       "              Pursuing         Social Relations                        0   \n",
       "\n",
       "domain                                                                          \\\n",
       "app                                             Bills Reminder, Budget Planner   \n",
       "type          phase            feat   subfeat                                    \n",
       "Cross-Cutting Eliciting        Social Relations                              0   \n",
       "              Defining         Social Relations                              0   \n",
       "              Setting          Social Relations                              0   \n",
       "              Operationalizing Social Relations                              0   \n",
       "              Pursuing         Social Relations                              0   \n",
       "\n",
       "domain                                                                        \\\n",
       "app                                             Fortune City - A Finance App   \n",
       "type          phase            feat   subfeat                                  \n",
       "Cross-Cutting Eliciting        Social Relations                            0   \n",
       "              Defining         Social Relations                            0   \n",
       "              Setting          Social Relations                            0   \n",
       "              Operationalizing Social Relations                            0   \n",
       "              Pursuing         Social Relations                            0   \n",
       "\n",
       "domain                                                                   \\\n",
       "app                                             Mobills: Budget Planner   \n",
       "type          phase            feat   subfeat                             \n",
       "Cross-Cutting Eliciting        Social Relations                       0   \n",
       "              Defining         Social Relations                       0   \n",
       "              Setting          Social Relations                       0   \n",
       "              Operationalizing Social Relations                       0   \n",
       "              Pursuing         Social Relations                       0   \n",
       "\n",
       "domain                                                                          \\\n",
       "app                                             Money Lover - Spending Manager   \n",
       "type          phase            feat   subfeat                                    \n",
       "Cross-Cutting Eliciting        Social Relations                              0   \n",
       "              Defining         Social Relations                              0   \n",
       "              Setting          Social Relations                              0   \n",
       "              Operationalizing Social Relations                              0   \n",
       "              Pursuing         Social Relations                              0   \n",
       "\n",
       "domain                                                                          \\\n",
       "app                                             Money Manager: Expense Tracker   \n",
       "type          phase            feat   subfeat                                    \n",
       "Cross-Cutting Eliciting        Social Relations                              0   \n",
       "              Defining         Social Relations                              0   \n",
       "              Setting          Social Relations                              0   \n",
       "              Operationalizing Social Relations                              0   \n",
       "              Pursuing         Social Relations                              0   \n",
       "\n",
       "domain                                                                          \\\n",
       "app                                             Wallet: Budget Expense Tracker   \n",
       "type          phase            feat   subfeat                                    \n",
       "Cross-Cutting Eliciting        Social Relations                              0   \n",
       "              Defining         Social Relations                              0   \n",
       "              Setting          Social Relations                              0   \n",
       "              Operationalizing Social Relations                              0   \n",
       "              Pursuing         Social Relations                              0   \n",
       "\n",
       "domain                                                          Learning  \\\n",
       "app                                             Babbel - Learn Languages   \n",
       "type          phase            feat   subfeat                              \n",
       "Cross-Cutting Eliciting        Social Relations                        0   \n",
       "              Defining         Social Relations                        0   \n",
       "              Setting          Social Relations                        0   \n",
       "              Operationalizing Social Relations                        0   \n",
       "              Pursuing         Social Relations                        0   \n",
       "\n",
       "domain                                                     \\\n",
       "app                                             Brilliant   \n",
       "type          phase            feat   subfeat               \n",
       "Cross-Cutting Eliciting        Social Relations         0   \n",
       "              Defining         Social Relations         0   \n",
       "              Setting          Social Relations         0   \n",
       "              Operationalizing Social Relations         0   \n",
       "              Pursuing         Social Relations         0   \n",
       "\n",
       "domain                                                                  ...  \\\n",
       "app                                             Busuu: Learn Languages  ...   \n",
       "type          phase            feat   subfeat                           ...   \n",
       "Cross-Cutting Eliciting        Social Relations                      0  ...   \n",
       "              Defining         Social Relations                      0  ...   \n",
       "              Setting          Social Relations                      0  ...   \n",
       "              Operationalizing Social Relations                      0  ...   \n",
       "              Pursuing         Social Relations                      1  ...   \n",
       "\n",
       "domain                                                              General  \\\n",
       "app                                             Routinery: Selfcare/Routine   \n",
       "type          phase            feat   subfeat                                 \n",
       "Cross-Cutting Eliciting        Social Relations                           0   \n",
       "              Defining         Social Relations                           0   \n",
       "              Setting          Social Relations                           0   \n",
       "              Operationalizing Social Relations                           0   \n",
       "              Pursuing         Social Relations                           0   \n",
       "\n",
       "domain                                                                          \\\n",
       "app                                             Start Change: Make Resolutions   \n",
       "type          phase            feat   subfeat                                    \n",
       "Cross-Cutting Eliciting        Social Relations                              0   \n",
       "              Defining         Social Relations                              0   \n",
       "              Setting          Social Relations                              0   \n",
       "              Operationalizing Social Relations                              0   \n",
       "              Pursuing         Social Relations                              0   \n",
       "\n",
       "domain                                                                          \\\n",
       "app                                             StickyGoals: ToDo list,Planner   \n",
       "type          phase            feat   subfeat                                    \n",
       "Cross-Cutting Eliciting        Social Relations                              0   \n",
       "              Defining         Social Relations                              0   \n",
       "              Setting          Social Relations                              0   \n",
       "              Operationalizing Social Relations                              0   \n",
       "              Pursuing         Social Relations                              0   \n",
       "\n",
       "domain                                                                 \\\n",
       "app                                             TheFor: Habit Tracker   \n",
       "type          phase            feat   subfeat                           \n",
       "Cross-Cutting Eliciting        Social Relations                     0   \n",
       "              Defining         Social Relations                     0   \n",
       "              Setting          Social Relations                     0   \n",
       "              Operationalizing Social Relations                     0   \n",
       "              Pursuing         Social Relations                     0   \n",
       "\n",
       "domain                                                                          \\\n",
       "app                                             TickTick:To Do List & Calendar   \n",
       "type          phase            feat   subfeat                                    \n",
       "Cross-Cutting Eliciting        Social Relations                              0   \n",
       "              Defining         Social Relations                              0   \n",
       "              Setting          Social Relations                              0   \n",
       "              Operationalizing Social Relations                              0   \n",
       "              Pursuing         Social Relations                              0   \n",
       "\n",
       "domain                                                                          \\\n",
       "app                                             Timecap: Habit tracker & To-do   \n",
       "type          phase            feat   subfeat                                    \n",
       "Cross-Cutting Eliciting        Social Relations                              0   \n",
       "              Defining         Social Relations                              0   \n",
       "              Setting          Social Relations                              0   \n",
       "              Operationalizing Social Relations                              0   \n",
       "              Pursuing         Social Relations                              0   \n",
       "\n",
       "domain                                                                      \\\n",
       "app                                             To-do list - tasks planner   \n",
       "type          phase            feat   subfeat                                \n",
       "Cross-Cutting Eliciting        Social Relations                          0   \n",
       "              Defining         Social Relations                          0   \n",
       "              Setting          Social Relations                          0   \n",
       "              Operationalizing Social Relations                          0   \n",
       "              Pursuing         Social Relations                          0   \n",
       "\n",
       "domain                                                                          \\\n",
       "app                                             Turn - Reading Tracker & Timer   \n",
       "type          phase            feat   subfeat                                    \n",
       "Cross-Cutting Eliciting        Social Relations                              0   \n",
       "              Defining         Social Relations                              0   \n",
       "              Setting          Social Relations                              0   \n",
       "              Operationalizing Social Relations                              0   \n",
       "              Pursuing         Social Relations                              0   \n",
       "\n",
       "domain                                                                        \\\n",
       "app                                             Tusk: task and habit manager   \n",
       "type          phase            feat   subfeat                                  \n",
       "Cross-Cutting Eliciting        Social Relations                            0   \n",
       "              Defining         Social Relations                            0   \n",
       "              Setting          Social Relations                            0   \n",
       "              Operationalizing Social Relations                            0   \n",
       "              Pursuing         Social Relations                            0   \n",
       "\n",
       "domain                                                                          \n",
       "app                                             Vision Board, Visualize dreams  \n",
       "type          phase            feat   subfeat                                   \n",
       "Cross-Cutting Eliciting        Social Relations                              0  \n",
       "              Defining         Social Relations                              0  \n",
       "              Setting          Social Relations                              0  \n",
       "              Operationalizing Social Relations                              0  \n",
       "              Pursuing         Social Relations                              1  \n",
       "\n",
       "[5 rows x 149 columns]"
      ],
      "text/html": [
       "<div>\n",
       "<style scoped>\n",
       "    .dataframe tbody tr th:only-of-type {\n",
       "        vertical-align: middle;\n",
       "    }\n",
       "\n",
       "    .dataframe tbody tr th {\n",
       "        vertical-align: top;\n",
       "    }\n",
       "\n",
       "    .dataframe thead tr th {\n",
       "        text-align: left;\n",
       "    }\n",
       "\n",
       "    .dataframe thead tr:last-of-type th {\n",
       "        text-align: right;\n",
       "    }\n",
       "</style>\n",
       "<table border=\"1\" class=\"dataframe\">\n",
       "  <thead>\n",
       "    <tr>\n",
       "      <th></th>\n",
       "      <th></th>\n",
       "      <th></th>\n",
       "      <th>domain</th>\n",
       "      <th colspan=\"7\" halign=\"left\">Finance</th>\n",
       "      <th colspan=\"3\" halign=\"left\">Learning</th>\n",
       "      <th>...</th>\n",
       "      <th colspan=\"10\" halign=\"left\">General</th>\n",
       "    </tr>\n",
       "    <tr>\n",
       "      <th></th>\n",
       "      <th></th>\n",
       "      <th></th>\n",
       "      <th>app</th>\n",
       "      <th>52 Weeks Money Challenge</th>\n",
       "      <th>Bills Reminder, Budget Planner</th>\n",
       "      <th>Fortune City - A Finance App</th>\n",
       "      <th>Mobills: Budget Planner</th>\n",
       "      <th>Money Lover - Spending Manager</th>\n",
       "      <th>Money Manager: Expense Tracker</th>\n",
       "      <th>Wallet: Budget Expense Tracker</th>\n",
       "      <th>Babbel - Learn Languages</th>\n",
       "      <th>Brilliant</th>\n",
       "      <th>Busuu: Learn Languages</th>\n",
       "      <th>...</th>\n",
       "      <th>Routinery: Selfcare/Routine</th>\n",
       "      <th>Start Change: Make Resolutions</th>\n",
       "      <th>StickyGoals: ToDo list,Planner</th>\n",
       "      <th>TheFor: Habit Tracker</th>\n",
       "      <th>TickTick:To Do List &amp; Calendar</th>\n",
       "      <th>Timecap: Habit tracker &amp; To-do</th>\n",
       "      <th>To-do list - tasks planner</th>\n",
       "      <th>Turn - Reading Tracker &amp; Timer</th>\n",
       "      <th>Tusk: task and habit manager</th>\n",
       "      <th>Vision Board, Visualize dreams</th>\n",
       "    </tr>\n",
       "    <tr>\n",
       "      <th>type</th>\n",
       "      <th>phase</th>\n",
       "      <th>feat</th>\n",
       "      <th>subfeat</th>\n",
       "      <th></th>\n",
       "      <th></th>\n",
       "      <th></th>\n",
       "      <th></th>\n",
       "      <th></th>\n",
       "      <th></th>\n",
       "      <th></th>\n",
       "      <th></th>\n",
       "      <th></th>\n",
       "      <th></th>\n",
       "      <th></th>\n",
       "      <th></th>\n",
       "      <th></th>\n",
       "      <th></th>\n",
       "      <th></th>\n",
       "      <th></th>\n",
       "      <th></th>\n",
       "      <th></th>\n",
       "      <th></th>\n",
       "      <th></th>\n",
       "      <th></th>\n",
       "    </tr>\n",
       "  </thead>\n",
       "  <tbody>\n",
       "    <tr>\n",
       "      <th rowspan=\"5\" valign=\"top\">Cross-Cutting</th>\n",
       "      <th>Eliciting</th>\n",
       "      <th>Social</th>\n",
       "      <th>Relations</th>\n",
       "      <td>0</td>\n",
       "      <td>0</td>\n",
       "      <td>0</td>\n",
       "      <td>0</td>\n",
       "      <td>0</td>\n",
       "      <td>0</td>\n",
       "      <td>0</td>\n",
       "      <td>0</td>\n",
       "      <td>0</td>\n",
       "      <td>0</td>\n",
       "      <td>...</td>\n",
       "      <td>0</td>\n",
       "      <td>0</td>\n",
       "      <td>0</td>\n",
       "      <td>0</td>\n",
       "      <td>0</td>\n",
       "      <td>0</td>\n",
       "      <td>0</td>\n",
       "      <td>0</td>\n",
       "      <td>0</td>\n",
       "      <td>0</td>\n",
       "    </tr>\n",
       "    <tr>\n",
       "      <th>Defining</th>\n",
       "      <th>Social</th>\n",
       "      <th>Relations</th>\n",
       "      <td>0</td>\n",
       "      <td>0</td>\n",
       "      <td>0</td>\n",
       "      <td>0</td>\n",
       "      <td>0</td>\n",
       "      <td>0</td>\n",
       "      <td>0</td>\n",
       "      <td>0</td>\n",
       "      <td>0</td>\n",
       "      <td>0</td>\n",
       "      <td>...</td>\n",
       "      <td>0</td>\n",
       "      <td>0</td>\n",
       "      <td>0</td>\n",
       "      <td>0</td>\n",
       "      <td>0</td>\n",
       "      <td>0</td>\n",
       "      <td>0</td>\n",
       "      <td>0</td>\n",
       "      <td>0</td>\n",
       "      <td>0</td>\n",
       "    </tr>\n",
       "    <tr>\n",
       "      <th>Setting</th>\n",
       "      <th>Social</th>\n",
       "      <th>Relations</th>\n",
       "      <td>0</td>\n",
       "      <td>0</td>\n",
       "      <td>0</td>\n",
       "      <td>0</td>\n",
       "      <td>0</td>\n",
       "      <td>0</td>\n",
       "      <td>0</td>\n",
       "      <td>0</td>\n",
       "      <td>0</td>\n",
       "      <td>0</td>\n",
       "      <td>...</td>\n",
       "      <td>0</td>\n",
       "      <td>0</td>\n",
       "      <td>0</td>\n",
       "      <td>0</td>\n",
       "      <td>0</td>\n",
       "      <td>0</td>\n",
       "      <td>0</td>\n",
       "      <td>0</td>\n",
       "      <td>0</td>\n",
       "      <td>0</td>\n",
       "    </tr>\n",
       "    <tr>\n",
       "      <th>Operationalizing</th>\n",
       "      <th>Social</th>\n",
       "      <th>Relations</th>\n",
       "      <td>0</td>\n",
       "      <td>0</td>\n",
       "      <td>0</td>\n",
       "      <td>0</td>\n",
       "      <td>0</td>\n",
       "      <td>0</td>\n",
       "      <td>0</td>\n",
       "      <td>0</td>\n",
       "      <td>0</td>\n",
       "      <td>0</td>\n",
       "      <td>...</td>\n",
       "      <td>0</td>\n",
       "      <td>0</td>\n",
       "      <td>0</td>\n",
       "      <td>0</td>\n",
       "      <td>0</td>\n",
       "      <td>0</td>\n",
       "      <td>0</td>\n",
       "      <td>0</td>\n",
       "      <td>0</td>\n",
       "      <td>0</td>\n",
       "    </tr>\n",
       "    <tr>\n",
       "      <th>Pursuing</th>\n",
       "      <th>Social</th>\n",
       "      <th>Relations</th>\n",
       "      <td>0</td>\n",
       "      <td>0</td>\n",
       "      <td>0</td>\n",
       "      <td>0</td>\n",
       "      <td>0</td>\n",
       "      <td>0</td>\n",
       "      <td>0</td>\n",
       "      <td>0</td>\n",
       "      <td>0</td>\n",
       "      <td>1</td>\n",
       "      <td>...</td>\n",
       "      <td>0</td>\n",
       "      <td>0</td>\n",
       "      <td>0</td>\n",
       "      <td>0</td>\n",
       "      <td>0</td>\n",
       "      <td>0</td>\n",
       "      <td>0</td>\n",
       "      <td>0</td>\n",
       "      <td>0</td>\n",
       "      <td>1</td>\n",
       "    </tr>\n",
       "  </tbody>\n",
       "</table>\n",
       "<p>5 rows × 149 columns</p>\n",
       "</div>"
      ]
     },
     "execution_count": 63,
     "metadata": {},
     "output_type": "execute_result"
    }
   ],
   "execution_count": 63
  },
  {
   "metadata": {
    "ExecuteTime": {
     "end_time": "2024-12-13T08:55:16.309111Z",
     "start_time": "2024-12-13T08:55:16.291907Z"
    }
   },
   "cell_type": "code",
   "source": [
    "# create a dataframe for domain-specific features\n",
    "df_phase_specific = df_filtered.loc[df_filtered.index.get_level_values('type') == 'Phase-Specific']\n",
    "df_phase_specific.head(5)"
   ],
   "id": "573d2dbfdd56715f",
   "outputs": [
    {
     "data": {
      "text/plain": [
       "domain                                                         Finance  \\\n",
       "app                                           52 Weeks Money Challenge   \n",
       "type           phase     feat         subfeat                            \n",
       "Phase-Specific Eliciting Description                                 0   \n",
       "                         Diagnosis                                   0   \n",
       "                         Discovery                                   0   \n",
       "                         Prediction                                  0   \n",
       "                         Prescription                                0   \n",
       "\n",
       "domain                                                                        \\\n",
       "app                                           Bills Reminder, Budget Planner   \n",
       "type           phase     feat         subfeat                                  \n",
       "Phase-Specific Eliciting Description                                       0   \n",
       "                         Diagnosis                                         0   \n",
       "                         Discovery                                         0   \n",
       "                         Prediction                                        0   \n",
       "                         Prescription                                      0   \n",
       "\n",
       "domain                                                                      \\\n",
       "app                                           Fortune City - A Finance App   \n",
       "type           phase     feat         subfeat                                \n",
       "Phase-Specific Eliciting Description                                     0   \n",
       "                         Diagnosis                                       0   \n",
       "                         Discovery                                       0   \n",
       "                         Prediction                                      0   \n",
       "                         Prescription                                    0   \n",
       "\n",
       "domain                                                                 \\\n",
       "app                                           Mobills: Budget Planner   \n",
       "type           phase     feat         subfeat                           \n",
       "Phase-Specific Eliciting Description                                0   \n",
       "                         Diagnosis                                  0   \n",
       "                         Discovery                                  0   \n",
       "                         Prediction                                 0   \n",
       "                         Prescription                               0   \n",
       "\n",
       "domain                                                                        \\\n",
       "app                                           Money Lover - Spending Manager   \n",
       "type           phase     feat         subfeat                                  \n",
       "Phase-Specific Eliciting Description                                       0   \n",
       "                         Diagnosis                                         0   \n",
       "                         Discovery                                         0   \n",
       "                         Prediction                                        0   \n",
       "                         Prescription                                      0   \n",
       "\n",
       "domain                                                                        \\\n",
       "app                                           Money Manager: Expense Tracker   \n",
       "type           phase     feat         subfeat                                  \n",
       "Phase-Specific Eliciting Description                                       0   \n",
       "                         Diagnosis                                         0   \n",
       "                         Discovery                                         0   \n",
       "                         Prediction                                        0   \n",
       "                         Prescription                                      0   \n",
       "\n",
       "domain                                                                        \\\n",
       "app                                           Wallet: Budget Expense Tracker   \n",
       "type           phase     feat         subfeat                                  \n",
       "Phase-Specific Eliciting Description                                       0   \n",
       "                         Diagnosis                                         0   \n",
       "                         Discovery                                         0   \n",
       "                         Prediction                                        0   \n",
       "                         Prescription                                      0   \n",
       "\n",
       "domain                                                        Learning  \\\n",
       "app                                           Babbel - Learn Languages   \n",
       "type           phase     feat         subfeat                            \n",
       "Phase-Specific Eliciting Description                                 0   \n",
       "                         Diagnosis                                   0   \n",
       "                         Discovery                                   0   \n",
       "                         Prediction                                  0   \n",
       "                         Prescription                                0   \n",
       "\n",
       "domain                                                   \\\n",
       "app                                           Brilliant   \n",
       "type           phase     feat         subfeat             \n",
       "Phase-Specific Eliciting Description                  0   \n",
       "                         Diagnosis                    0   \n",
       "                         Discovery                    0   \n",
       "                         Prediction                   0   \n",
       "                         Prescription                 0   \n",
       "\n",
       "domain                                                                ...  \\\n",
       "app                                           Busuu: Learn Languages  ...   \n",
       "type           phase     feat         subfeat                         ...   \n",
       "Phase-Specific Eliciting Description                               1  ...   \n",
       "                         Diagnosis                                 0  ...   \n",
       "                         Discovery                                 0  ...   \n",
       "                         Prediction                                1  ...   \n",
       "                         Prescription                              1  ...   \n",
       "\n",
       "domain                                                            General  \\\n",
       "app                                           Routinery: Selfcare/Routine   \n",
       "type           phase     feat         subfeat                               \n",
       "Phase-Specific Eliciting Description                                    0   \n",
       "                         Diagnosis                                      0   \n",
       "                         Discovery                                      0   \n",
       "                         Prediction                                     0   \n",
       "                         Prescription                                   1   \n",
       "\n",
       "domain                                                                        \\\n",
       "app                                           Start Change: Make Resolutions   \n",
       "type           phase     feat         subfeat                                  \n",
       "Phase-Specific Eliciting Description                                       0   \n",
       "                         Diagnosis                                         0   \n",
       "                         Discovery                                         0   \n",
       "                         Prediction                                        0   \n",
       "                         Prescription                                      0   \n",
       "\n",
       "domain                                                                        \\\n",
       "app                                           StickyGoals: ToDo list,Planner   \n",
       "type           phase     feat         subfeat                                  \n",
       "Phase-Specific Eliciting Description                                       0   \n",
       "                         Diagnosis                                         0   \n",
       "                         Discovery                                         0   \n",
       "                         Prediction                                        0   \n",
       "                         Prescription                                      0   \n",
       "\n",
       "domain                                                               \\\n",
       "app                                           TheFor: Habit Tracker   \n",
       "type           phase     feat         subfeat                         \n",
       "Phase-Specific Eliciting Description                              0   \n",
       "                         Diagnosis                                0   \n",
       "                         Discovery                                0   \n",
       "                         Prediction                               0   \n",
       "                         Prescription                             0   \n",
       "\n",
       "domain                                                                        \\\n",
       "app                                           TickTick:To Do List & Calendar   \n",
       "type           phase     feat         subfeat                                  \n",
       "Phase-Specific Eliciting Description                                       0   \n",
       "                         Diagnosis                                         0   \n",
       "                         Discovery                                         0   \n",
       "                         Prediction                                        0   \n",
       "                         Prescription                                      0   \n",
       "\n",
       "domain                                                                        \\\n",
       "app                                           Timecap: Habit tracker & To-do   \n",
       "type           phase     feat         subfeat                                  \n",
       "Phase-Specific Eliciting Description                                       0   \n",
       "                         Diagnosis                                         0   \n",
       "                         Discovery                                         0   \n",
       "                         Prediction                                        0   \n",
       "                         Prescription                                      0   \n",
       "\n",
       "domain                                                                    \\\n",
       "app                                           To-do list - tasks planner   \n",
       "type           phase     feat         subfeat                              \n",
       "Phase-Specific Eliciting Description                                   0   \n",
       "                         Diagnosis                                     0   \n",
       "                         Discovery                                     0   \n",
       "                         Prediction                                    0   \n",
       "                         Prescription                                  0   \n",
       "\n",
       "domain                                                                        \\\n",
       "app                                           Turn - Reading Tracker & Timer   \n",
       "type           phase     feat         subfeat                                  \n",
       "Phase-Specific Eliciting Description                                       0   \n",
       "                         Diagnosis                                         0   \n",
       "                         Discovery                                         0   \n",
       "                         Prediction                                        0   \n",
       "                         Prescription                                      0   \n",
       "\n",
       "domain                                                                      \\\n",
       "app                                           Tusk: task and habit manager   \n",
       "type           phase     feat         subfeat                                \n",
       "Phase-Specific Eliciting Description                                     0   \n",
       "                         Diagnosis                                       0   \n",
       "                         Discovery                                       0   \n",
       "                         Prediction                                      0   \n",
       "                         Prescription                                    0   \n",
       "\n",
       "domain                                                                        \n",
       "app                                           Vision Board, Visualize dreams  \n",
       "type           phase     feat         subfeat                                 \n",
       "Phase-Specific Eliciting Description                                       0  \n",
       "                         Diagnosis                                         0  \n",
       "                         Discovery                                         0  \n",
       "                         Prediction                                        0  \n",
       "                         Prescription                                      0  \n",
       "\n",
       "[5 rows x 149 columns]"
      ],
      "text/html": [
       "<div>\n",
       "<style scoped>\n",
       "    .dataframe tbody tr th:only-of-type {\n",
       "        vertical-align: middle;\n",
       "    }\n",
       "\n",
       "    .dataframe tbody tr th {\n",
       "        vertical-align: top;\n",
       "    }\n",
       "\n",
       "    .dataframe thead tr th {\n",
       "        text-align: left;\n",
       "    }\n",
       "\n",
       "    .dataframe thead tr:last-of-type th {\n",
       "        text-align: right;\n",
       "    }\n",
       "</style>\n",
       "<table border=\"1\" class=\"dataframe\">\n",
       "  <thead>\n",
       "    <tr>\n",
       "      <th></th>\n",
       "      <th></th>\n",
       "      <th></th>\n",
       "      <th>domain</th>\n",
       "      <th colspan=\"7\" halign=\"left\">Finance</th>\n",
       "      <th colspan=\"3\" halign=\"left\">Learning</th>\n",
       "      <th>...</th>\n",
       "      <th colspan=\"10\" halign=\"left\">General</th>\n",
       "    </tr>\n",
       "    <tr>\n",
       "      <th></th>\n",
       "      <th></th>\n",
       "      <th></th>\n",
       "      <th>app</th>\n",
       "      <th>52 Weeks Money Challenge</th>\n",
       "      <th>Bills Reminder, Budget Planner</th>\n",
       "      <th>Fortune City - A Finance App</th>\n",
       "      <th>Mobills: Budget Planner</th>\n",
       "      <th>Money Lover - Spending Manager</th>\n",
       "      <th>Money Manager: Expense Tracker</th>\n",
       "      <th>Wallet: Budget Expense Tracker</th>\n",
       "      <th>Babbel - Learn Languages</th>\n",
       "      <th>Brilliant</th>\n",
       "      <th>Busuu: Learn Languages</th>\n",
       "      <th>...</th>\n",
       "      <th>Routinery: Selfcare/Routine</th>\n",
       "      <th>Start Change: Make Resolutions</th>\n",
       "      <th>StickyGoals: ToDo list,Planner</th>\n",
       "      <th>TheFor: Habit Tracker</th>\n",
       "      <th>TickTick:To Do List &amp; Calendar</th>\n",
       "      <th>Timecap: Habit tracker &amp; To-do</th>\n",
       "      <th>To-do list - tasks planner</th>\n",
       "      <th>Turn - Reading Tracker &amp; Timer</th>\n",
       "      <th>Tusk: task and habit manager</th>\n",
       "      <th>Vision Board, Visualize dreams</th>\n",
       "    </tr>\n",
       "    <tr>\n",
       "      <th>type</th>\n",
       "      <th>phase</th>\n",
       "      <th>feat</th>\n",
       "      <th>subfeat</th>\n",
       "      <th></th>\n",
       "      <th></th>\n",
       "      <th></th>\n",
       "      <th></th>\n",
       "      <th></th>\n",
       "      <th></th>\n",
       "      <th></th>\n",
       "      <th></th>\n",
       "      <th></th>\n",
       "      <th></th>\n",
       "      <th></th>\n",
       "      <th></th>\n",
       "      <th></th>\n",
       "      <th></th>\n",
       "      <th></th>\n",
       "      <th></th>\n",
       "      <th></th>\n",
       "      <th></th>\n",
       "      <th></th>\n",
       "      <th></th>\n",
       "      <th></th>\n",
       "    </tr>\n",
       "  </thead>\n",
       "  <tbody>\n",
       "    <tr>\n",
       "      <th rowspan=\"5\" valign=\"top\">Phase-Specific</th>\n",
       "      <th rowspan=\"5\" valign=\"top\">Eliciting</th>\n",
       "      <th>Description</th>\n",
       "      <th></th>\n",
       "      <td>0</td>\n",
       "      <td>0</td>\n",
       "      <td>0</td>\n",
       "      <td>0</td>\n",
       "      <td>0</td>\n",
       "      <td>0</td>\n",
       "      <td>0</td>\n",
       "      <td>0</td>\n",
       "      <td>0</td>\n",
       "      <td>1</td>\n",
       "      <td>...</td>\n",
       "      <td>0</td>\n",
       "      <td>0</td>\n",
       "      <td>0</td>\n",
       "      <td>0</td>\n",
       "      <td>0</td>\n",
       "      <td>0</td>\n",
       "      <td>0</td>\n",
       "      <td>0</td>\n",
       "      <td>0</td>\n",
       "      <td>0</td>\n",
       "    </tr>\n",
       "    <tr>\n",
       "      <th>Diagnosis</th>\n",
       "      <th></th>\n",
       "      <td>0</td>\n",
       "      <td>0</td>\n",
       "      <td>0</td>\n",
       "      <td>0</td>\n",
       "      <td>0</td>\n",
       "      <td>0</td>\n",
       "      <td>0</td>\n",
       "      <td>0</td>\n",
       "      <td>0</td>\n",
       "      <td>0</td>\n",
       "      <td>...</td>\n",
       "      <td>0</td>\n",
       "      <td>0</td>\n",
       "      <td>0</td>\n",
       "      <td>0</td>\n",
       "      <td>0</td>\n",
       "      <td>0</td>\n",
       "      <td>0</td>\n",
       "      <td>0</td>\n",
       "      <td>0</td>\n",
       "      <td>0</td>\n",
       "    </tr>\n",
       "    <tr>\n",
       "      <th>Discovery</th>\n",
       "      <th></th>\n",
       "      <td>0</td>\n",
       "      <td>0</td>\n",
       "      <td>0</td>\n",
       "      <td>0</td>\n",
       "      <td>0</td>\n",
       "      <td>0</td>\n",
       "      <td>0</td>\n",
       "      <td>0</td>\n",
       "      <td>0</td>\n",
       "      <td>0</td>\n",
       "      <td>...</td>\n",
       "      <td>0</td>\n",
       "      <td>0</td>\n",
       "      <td>0</td>\n",
       "      <td>0</td>\n",
       "      <td>0</td>\n",
       "      <td>0</td>\n",
       "      <td>0</td>\n",
       "      <td>0</td>\n",
       "      <td>0</td>\n",
       "      <td>0</td>\n",
       "    </tr>\n",
       "    <tr>\n",
       "      <th>Prediction</th>\n",
       "      <th></th>\n",
       "      <td>0</td>\n",
       "      <td>0</td>\n",
       "      <td>0</td>\n",
       "      <td>0</td>\n",
       "      <td>0</td>\n",
       "      <td>0</td>\n",
       "      <td>0</td>\n",
       "      <td>0</td>\n",
       "      <td>0</td>\n",
       "      <td>1</td>\n",
       "      <td>...</td>\n",
       "      <td>0</td>\n",
       "      <td>0</td>\n",
       "      <td>0</td>\n",
       "      <td>0</td>\n",
       "      <td>0</td>\n",
       "      <td>0</td>\n",
       "      <td>0</td>\n",
       "      <td>0</td>\n",
       "      <td>0</td>\n",
       "      <td>0</td>\n",
       "    </tr>\n",
       "    <tr>\n",
       "      <th>Prescription</th>\n",
       "      <th></th>\n",
       "      <td>0</td>\n",
       "      <td>0</td>\n",
       "      <td>0</td>\n",
       "      <td>0</td>\n",
       "      <td>0</td>\n",
       "      <td>0</td>\n",
       "      <td>0</td>\n",
       "      <td>0</td>\n",
       "      <td>0</td>\n",
       "      <td>1</td>\n",
       "      <td>...</td>\n",
       "      <td>1</td>\n",
       "      <td>0</td>\n",
       "      <td>0</td>\n",
       "      <td>0</td>\n",
       "      <td>0</td>\n",
       "      <td>0</td>\n",
       "      <td>0</td>\n",
       "      <td>0</td>\n",
       "      <td>0</td>\n",
       "      <td>0</td>\n",
       "    </tr>\n",
       "  </tbody>\n",
       "</table>\n",
       "<p>5 rows × 149 columns</p>\n",
       "</div>"
      ]
     },
     "execution_count": 64,
     "metadata": {},
     "output_type": "execute_result"
    }
   ],
   "execution_count": 64
  },
  {
   "metadata": {
    "ExecuteTime": {
     "end_time": "2024-12-13T08:55:16.390581Z",
     "start_time": "2024-12-13T08:55:16.378412Z"
    }
   },
   "cell_type": "code",
   "source": [
    "# get all phases from df\n",
    "phases = df_filtered.index.get_level_values('phase').unique()\n",
    "phases"
   ],
   "id": "4dbbd367c8b2488e",
   "outputs": [
    {
     "data": {
      "text/plain": [
       "Index(['Eliciting', 'Defining', 'Setting', 'Operationalizing', 'Pursuing',\n",
       "       'Tracking', 'Reflecting', 'Consequencing'],\n",
       "      dtype='object', name='phase')"
      ]
     },
     "execution_count": 65,
     "metadata": {},
     "output_type": "execute_result"
    }
   ],
   "execution_count": 65
  },
  {
   "metadata": {
    "ExecuteTime": {
     "end_time": "2024-12-13T08:55:17.154463Z",
     "start_time": "2024-12-13T08:55:17.140782Z"
    }
   },
   "cell_type": "code",
   "source": [
    "new_cols = []\n",
    "for t in df_cross_cutting.T.columns.tolist():\n",
    "    feat = t[3]\n",
    "    subfeat = mapping.get(feat, '')\n",
    "    if subfeat != feat:\n",
    "        new_t = t[:3] + (subfeat, feat)\n",
    "    else:\n",
    "        new_t = t[:3] + ('', feat)\n",
    "    new_cols.append(new_t)\n",
    "new_cols[:5]"
   ],
   "id": "f97cd1fe7a426795",
   "outputs": [
    {
     "data": {
      "text/plain": [
       "[('Cross-Cutting', 'Eliciting', 'Social', '', 'Relations'),\n",
       " ('Cross-Cutting', 'Defining', 'Social', '', 'Relations'),\n",
       " ('Cross-Cutting', 'Setting', 'Social', '', 'Relations'),\n",
       " ('Cross-Cutting', 'Operationalizing', 'Social', '', 'Relations'),\n",
       " ('Cross-Cutting', 'Pursuing', 'Social', '', 'Relations')]"
      ]
     },
     "execution_count": 66,
     "metadata": {},
     "output_type": "execute_result"
    }
   ],
   "execution_count": 66
  },
  {
   "metadata": {
    "ExecuteTime": {
     "end_time": "2024-12-13T08:55:17.804902Z",
     "start_time": "2024-12-13T08:55:17.791608Z"
    }
   },
   "cell_type": "code",
   "source": [
    "# recreate multiindex\n",
    "new_multiindex = pd.MultiIndex.from_tuples(\n",
    "    new_cols,\n",
    "    names=['type', 'phase', 'feat', 'middlefeat', 'subfeat']\n",
    ")\n",
    "\n",
    "# set index\n",
    "df_cross_cutting.index = new_multiindex"
   ],
   "id": "733a69440b4b1238",
   "outputs": [],
   "execution_count": 67
  },
  {
   "metadata": {
    "ExecuteTime": {
     "end_time": "2024-12-13T08:55:18.577821Z",
     "start_time": "2024-12-13T08:55:18.390311Z"
    }
   },
   "cell_type": "code",
   "source": [
    "# fig 17b Mean of all domains\n",
    "def create_heatmap_mean_domain(df):\n",
    "    feature_type = 'Cross-Cutting'\n",
    "    domain_order = ['Sustainability', 'Learning', 'Wellbeing', 'Productivity', 'Finance', 'General']\n",
    "\n",
    "    # reverse the order\n",
    "    domain_order = domain_order[::-1]\n",
    "\n",
    "    # group by domain and calculate the mean\n",
    "    df_grouped_phase = df.T.groupby(level='domain').mean().T.groupby(level=['feat', 'middlefeat', 'subfeat']).mean().T\n",
    "\n",
    "    # reorder based on domain order\n",
    "    df_grouped_phase = df_grouped_phase.reindex(domain_order)\n",
    "\n",
    "    # convert to 2D array for heatmap\n",
    "    heatmap_data = df_grouped_phase.values\n",
    "\n",
    "    # Compute row and column averages\n",
    "    row_averages = np.mean(heatmap_data, axis=1, keepdims=True)\n",
    "    col_averages = np.mean(heatmap_data, axis=0, keepdims=True)\n",
    "    overall_average = np.mean(heatmap_data)\n",
    "\n",
    "    # Append row averages to heatmap_data\n",
    "    heatmap_data_with_row_avg = np.hstack([heatmap_data, row_averages])\n",
    "\n",
    "    # Create new row with column averages and overall average\n",
    "    new_row = np.append(col_averages, overall_average).reshape(1, -1)\n",
    "\n",
    "    # Append new row to data\n",
    "    heatmap_data_final = np.vstack([new_row, heatmap_data_with_row_avg])\n",
    "\n",
    "    # Add average to the front of the domain order\n",
    "    domain_order = ['Average'] + domain_order\n",
    "\n",
    "    # Prepare the axis labels\n",
    "    feat_subfeat_list = [\n",
    "        [' ', 'Diversification', 'Diversification', 'Enrichment', 'Enrichment', 'Derivation', 'Derivation', '\\u2062',\n",
    "         '\\u2062', '   '],\n",
    "        ['Integration', 'Adaptation', 'Recommendation', 'Profile', 'Context',\n",
    "         'Interpretation of<br>User Behaviour', 'Explanation of<br>System Behaviour',\n",
    "         'Relation',\n",
    "         'Interaction', 'Average']]\n",
    "\n",
    "    # Create the heatmap\n",
    "    fig = go.Figure(data=go.Heatmap(\n",
    "        z=heatmap_data_final,  # Updated values for the heatmap\n",
    "        x=feat_subfeat_list,  # X-axis labels (Features/Subfeatures)\n",
    "        y=[x + ' ' for x in domain_order],  # Y-axis labels (Domains)\n",
    "        colorscale='Inferno_r',\n",
    "        zmin=0, zmax=1, xgap=2, ygap=2,\n",
    "        colorbar=dict(\n",
    "            tickformat='.0%'  # Set formatting to percentages\n",
    "        ),\n",
    "        texttemplate=\"%{z:.0%}\",  #texttemplate=\"%{text}\",\n",
    "    ))\n",
    "\n",
    "    # Anpassen des Layouts\n",
    "    fig.update_layout(\n",
    "        template='plotly_white', height=800, width=800,\n",
    "        # make x label 90 degree\n",
    "        xaxis_tickangle=90,\n",
    "        # make xaxis title bold\n",
    "        xaxis_title_font=dict(weight='bold')\n",
    "    )\n",
    "\n",
    "    # make font bold\n",
    "    fig.update_xaxes(tickfont=dict(family='Arial', size=13, color='black', weight='bold'))\n",
    "    fig.update_yaxes(tickfont=dict(family='Arial', size=13, color='black', weight='bold'))\n",
    "    \n",
    "    # get number of rows and columns for placing lines in the heatmap\n",
    "    n_rows, n_cols = heatmap_data.shape\n",
    "    n_rows = n_rows + 1\n",
    "\n",
    "    # Add vertical lines between all cells for left/right borders\n",
    "    for i in range(n_cols + 2):\n",
    "        feat_labels = feat_subfeat_list[0]\n",
    "        if i == n_cols: # bold line for mean\n",
    "            fig.add_shape(\n",
    "                type=\"line\",\n",
    "                x0=i - 0.5, y0=-0.5, x1=i - 0.5, y1=n_rows - 0.5,\n",
    "                line=dict(color=\"black\", width=3),\n",
    "            )\n",
    "        elif i < n_cols and i != 0: # line between feature-classes\n",
    "            if feat_labels[i - 1] != feat_labels[i]:\n",
    "                fig.add_shape(\n",
    "                    type=\"line\",\n",
    "                    x0=i - 0.5, y0=-0.5, x1=i - 0.5, y1=n_rows - 0.5,\n",
    "                    line=dict(color=\"black\", width=1.5),\n",
    "                )\n",
    "        else: # first and last line\n",
    "            fig.add_shape(\n",
    "                type=\"line\",\n",
    "                x0=i - 0.5, y0=-0.5, x1=i - 0.5, y1=n_rows - 0.5,\n",
    "                line=dict(color=\"black\", width=1.5),\n",
    "            )\n",
    "    \n",
    "    # add one horizontal line for the mean\n",
    "    fig.add_shape(\n",
    "        type=\"line\",\n",
    "        x0=-0.5, y0=1 - 0.5, x1=n_cols + 1 - 0.5, y1=1 - 0.5,\n",
    "        line=dict(color=\"black\", width=3),\n",
    "    )\n",
    "    \n",
    "    # add annotation for the overall classes\n",
    "    fig.add_annotation(\n",
    "        x=0.5,  # Relative x-position\n",
    "        y=-0.307,  # Position above the x-axis\n",
    "        text=\"|\\u2009               System                |                    Knowledge                    |\\u200A          Social        \\u200A|              |\",\n",
    "        showarrow=False,\n",
    "        xref=\"paper\",\n",
    "        yref=\"paper\",\n",
    "        font=dict(size=14, color=\"black\", family=\"Arial\", weight=\"bold\"),\n",
    "        align=\"center\",\n",
    "    )\n",
    "    \n",
    "    # show image\n",
    "    fig.show()\n",
    "\n",
    "    # safe image as pdf and png\n",
    "    fig.write_image(f'../images/pdf/17B_{feature_type}_Features_Distribution_in_all_domains_new_heatmap.pdf')\n",
    "    fig.write_image(f'../images/png/17B_{feature_type}_Features_Distribution_in_all_domains_new_heatmap.png')\n",
    "\n",
    "\n",
    "create_heatmap_mean_domain(df_cross_cutting)"
   ],
   "id": "738b4d91f7497721",
   "outputs": [
    {
     "data": {
      "application/vnd.plotly.v1+json": {
       "data": [
        {
         "colorbar": {
          "tickformat": ".0%"
         },
         "colorscale": [
          [
           0.0,
           "#fcffa4"
          ],
          [
           0.1111111111111111,
           "#f7d13d"
          ],
          [
           0.2222222222222222,
           "#fb9b06"
          ],
          [
           0.3333333333333333,
           "#ed6925"
          ],
          [
           0.4444444444444444,
           "#cf4446"
          ],
          [
           0.5555555555555556,
           "#a52c60"
          ],
          [
           0.6666666666666666,
           "#781c6d"
          ],
          [
           0.7777777777777778,
           "#4a0c6b"
          ],
          [
           0.8888888888888888,
           "#1b0c41"
          ],
          [
           1.0,
           "#000004"
          ]
         ],
         "texttemplate": "%{z:.0%}",
         "x": [
          [
           " ",
           "Diversification",
           "Diversification",
           "Enrichment",
           "Enrichment",
           "Derivation",
           "Derivation",
           "⁢",
           "⁢",
           "   "
          ],
          [
           "Integration",
           "Adaptation",
           "Recommendation",
           "Profile",
           "Context",
           "Interpretation of<br>User Behaviour",
           "Explanation of<br>System Behaviour",
           "Relation",
           "Interaction",
           "Average"
          ]
         ],
         "xgap": 2,
         "y": [
          "Average ",
          "General ",
          "Finance ",
          "Productivity ",
          "Wellbeing ",
          "Learning ",
          "Sustainability "
         ],
         "ygap": 2,
         "z": [
          [
           0.07668330444065738,
           0.03469103744839039,
           0.0509879553997201,
           0.22756689797130972,
           0.06128643279378573,
           0.0601517831297243,
           0.07454068943039531,
           0.09794211099358159,
           0.03851040707658354,
           0.08026229096490535
          ],
          [
           0.07045454545454545,
           0.045454545454545456,
           0.022727272727272728,
           0.1659090909090909,
           0.0659090909090909,
           0.06136363636363636,
           0.07954545454545454,
           0.12272727272727273,
           0.04545454545454545,
           0.07550505050505049
          ],
          [
           0.03571428571428571,
           0.0,
           0.03571428571428571,
           0.19642857142857142,
           0.017857142857142856,
           0.017857142857142856,
           0.07142857142857142,
           0.14285714285714285,
           0.017857142857142856,
           0.05952380952380952
          ],
          [
           0.029411764705882353,
           0.029411764705882353,
           0.022058823529411763,
           0.11764705882352941,
           0.029411764705882353,
           0.03676470588235294,
           0.058823529411764705,
           0.08088235294117647,
           0.014705882352941176,
           0.04656862745098039
          ],
          [
           0.07451923076923077,
           0.03605769230769231,
           0.08653846153846154,
           0.34375,
           0.06009615384615385,
           0.05048076923076923,
           0.0985576923076923,
           0.07451923076923077,
           0.06971153846153846,
           0.09935897435897435
          ],
          [
           0.1111111111111111,
           0.08333333333333333,
           0.041666666666666664,
           0.16666666666666666,
           0.1111111111111111,
           0.1111111111111111,
           0.05555555555555555,
           0.08333333333333333,
           0.05555555555555555,
           0.0910493827160494
          ],
          [
           0.1388888888888889,
           0.013888888888888888,
           0.09722222222222221,
           0.375,
           0.08333333333333333,
           0.08333333333333333,
           0.08333333333333333,
           0.08333333333333333,
           0.027777777777777776,
           0.10956790123456792
          ]
         ],
         "zmax": 1,
         "zmin": 0,
         "type": "heatmap"
        }
       ],
       "layout": {
        "template": {
         "data": {
          "barpolar": [
           {
            "marker": {
             "line": {
              "color": "white",
              "width": 0.5
             },
             "pattern": {
              "fillmode": "overlay",
              "size": 10,
              "solidity": 0.2
             }
            },
            "type": "barpolar"
           }
          ],
          "bar": [
           {
            "error_x": {
             "color": "#2a3f5f"
            },
            "error_y": {
             "color": "#2a3f5f"
            },
            "marker": {
             "line": {
              "color": "white",
              "width": 0.5
             },
             "pattern": {
              "fillmode": "overlay",
              "size": 10,
              "solidity": 0.2
             }
            },
            "type": "bar"
           }
          ],
          "carpet": [
           {
            "aaxis": {
             "endlinecolor": "#2a3f5f",
             "gridcolor": "#C8D4E3",
             "linecolor": "#C8D4E3",
             "minorgridcolor": "#C8D4E3",
             "startlinecolor": "#2a3f5f"
            },
            "baxis": {
             "endlinecolor": "#2a3f5f",
             "gridcolor": "#C8D4E3",
             "linecolor": "#C8D4E3",
             "minorgridcolor": "#C8D4E3",
             "startlinecolor": "#2a3f5f"
            },
            "type": "carpet"
           }
          ],
          "choropleth": [
           {
            "colorbar": {
             "outlinewidth": 0,
             "ticks": ""
            },
            "type": "choropleth"
           }
          ],
          "contourcarpet": [
           {
            "colorbar": {
             "outlinewidth": 0,
             "ticks": ""
            },
            "type": "contourcarpet"
           }
          ],
          "contour": [
           {
            "colorbar": {
             "outlinewidth": 0,
             "ticks": ""
            },
            "colorscale": [
             [
              0.0,
              "#0d0887"
             ],
             [
              0.1111111111111111,
              "#46039f"
             ],
             [
              0.2222222222222222,
              "#7201a8"
             ],
             [
              0.3333333333333333,
              "#9c179e"
             ],
             [
              0.4444444444444444,
              "#bd3786"
             ],
             [
              0.5555555555555556,
              "#d8576b"
             ],
             [
              0.6666666666666666,
              "#ed7953"
             ],
             [
              0.7777777777777778,
              "#fb9f3a"
             ],
             [
              0.8888888888888888,
              "#fdca26"
             ],
             [
              1.0,
              "#f0f921"
             ]
            ],
            "type": "contour"
           }
          ],
          "heatmapgl": [
           {
            "colorbar": {
             "outlinewidth": 0,
             "ticks": ""
            },
            "colorscale": [
             [
              0.0,
              "#0d0887"
             ],
             [
              0.1111111111111111,
              "#46039f"
             ],
             [
              0.2222222222222222,
              "#7201a8"
             ],
             [
              0.3333333333333333,
              "#9c179e"
             ],
             [
              0.4444444444444444,
              "#bd3786"
             ],
             [
              0.5555555555555556,
              "#d8576b"
             ],
             [
              0.6666666666666666,
              "#ed7953"
             ],
             [
              0.7777777777777778,
              "#fb9f3a"
             ],
             [
              0.8888888888888888,
              "#fdca26"
             ],
             [
              1.0,
              "#f0f921"
             ]
            ],
            "type": "heatmapgl"
           }
          ],
          "heatmap": [
           {
            "colorbar": {
             "outlinewidth": 0,
             "ticks": ""
            },
            "colorscale": [
             [
              0.0,
              "#0d0887"
             ],
             [
              0.1111111111111111,
              "#46039f"
             ],
             [
              0.2222222222222222,
              "#7201a8"
             ],
             [
              0.3333333333333333,
              "#9c179e"
             ],
             [
              0.4444444444444444,
              "#bd3786"
             ],
             [
              0.5555555555555556,
              "#d8576b"
             ],
             [
              0.6666666666666666,
              "#ed7953"
             ],
             [
              0.7777777777777778,
              "#fb9f3a"
             ],
             [
              0.8888888888888888,
              "#fdca26"
             ],
             [
              1.0,
              "#f0f921"
             ]
            ],
            "type": "heatmap"
           }
          ],
          "histogram2dcontour": [
           {
            "colorbar": {
             "outlinewidth": 0,
             "ticks": ""
            },
            "colorscale": [
             [
              0.0,
              "#0d0887"
             ],
             [
              0.1111111111111111,
              "#46039f"
             ],
             [
              0.2222222222222222,
              "#7201a8"
             ],
             [
              0.3333333333333333,
              "#9c179e"
             ],
             [
              0.4444444444444444,
              "#bd3786"
             ],
             [
              0.5555555555555556,
              "#d8576b"
             ],
             [
              0.6666666666666666,
              "#ed7953"
             ],
             [
              0.7777777777777778,
              "#fb9f3a"
             ],
             [
              0.8888888888888888,
              "#fdca26"
             ],
             [
              1.0,
              "#f0f921"
             ]
            ],
            "type": "histogram2dcontour"
           }
          ],
          "histogram2d": [
           {
            "colorbar": {
             "outlinewidth": 0,
             "ticks": ""
            },
            "colorscale": [
             [
              0.0,
              "#0d0887"
             ],
             [
              0.1111111111111111,
              "#46039f"
             ],
             [
              0.2222222222222222,
              "#7201a8"
             ],
             [
              0.3333333333333333,
              "#9c179e"
             ],
             [
              0.4444444444444444,
              "#bd3786"
             ],
             [
              0.5555555555555556,
              "#d8576b"
             ],
             [
              0.6666666666666666,
              "#ed7953"
             ],
             [
              0.7777777777777778,
              "#fb9f3a"
             ],
             [
              0.8888888888888888,
              "#fdca26"
             ],
             [
              1.0,
              "#f0f921"
             ]
            ],
            "type": "histogram2d"
           }
          ],
          "histogram": [
           {
            "marker": {
             "pattern": {
              "fillmode": "overlay",
              "size": 10,
              "solidity": 0.2
             }
            },
            "type": "histogram"
           }
          ],
          "mesh3d": [
           {
            "colorbar": {
             "outlinewidth": 0,
             "ticks": ""
            },
            "type": "mesh3d"
           }
          ],
          "parcoords": [
           {
            "line": {
             "colorbar": {
              "outlinewidth": 0,
              "ticks": ""
             }
            },
            "type": "parcoords"
           }
          ],
          "pie": [
           {
            "automargin": true,
            "type": "pie"
           }
          ],
          "scatter3d": [
           {
            "line": {
             "colorbar": {
              "outlinewidth": 0,
              "ticks": ""
             }
            },
            "marker": {
             "colorbar": {
              "outlinewidth": 0,
              "ticks": ""
             }
            },
            "type": "scatter3d"
           }
          ],
          "scattercarpet": [
           {
            "marker": {
             "colorbar": {
              "outlinewidth": 0,
              "ticks": ""
             }
            },
            "type": "scattercarpet"
           }
          ],
          "scattergeo": [
           {
            "marker": {
             "colorbar": {
              "outlinewidth": 0,
              "ticks": ""
             }
            },
            "type": "scattergeo"
           }
          ],
          "scattergl": [
           {
            "marker": {
             "colorbar": {
              "outlinewidth": 0,
              "ticks": ""
             }
            },
            "type": "scattergl"
           }
          ],
          "scattermapbox": [
           {
            "marker": {
             "colorbar": {
              "outlinewidth": 0,
              "ticks": ""
             }
            },
            "type": "scattermapbox"
           }
          ],
          "scatterpolargl": [
           {
            "marker": {
             "colorbar": {
              "outlinewidth": 0,
              "ticks": ""
             }
            },
            "type": "scatterpolargl"
           }
          ],
          "scatterpolar": [
           {
            "marker": {
             "colorbar": {
              "outlinewidth": 0,
              "ticks": ""
             }
            },
            "type": "scatterpolar"
           }
          ],
          "scatter": [
           {
            "fillpattern": {
             "fillmode": "overlay",
             "size": 10,
             "solidity": 0.2
            },
            "type": "scatter"
           }
          ],
          "scatterternary": [
           {
            "marker": {
             "colorbar": {
              "outlinewidth": 0,
              "ticks": ""
             }
            },
            "type": "scatterternary"
           }
          ],
          "surface": [
           {
            "colorbar": {
             "outlinewidth": 0,
             "ticks": ""
            },
            "colorscale": [
             [
              0.0,
              "#0d0887"
             ],
             [
              0.1111111111111111,
              "#46039f"
             ],
             [
              0.2222222222222222,
              "#7201a8"
             ],
             [
              0.3333333333333333,
              "#9c179e"
             ],
             [
              0.4444444444444444,
              "#bd3786"
             ],
             [
              0.5555555555555556,
              "#d8576b"
             ],
             [
              0.6666666666666666,
              "#ed7953"
             ],
             [
              0.7777777777777778,
              "#fb9f3a"
             ],
             [
              0.8888888888888888,
              "#fdca26"
             ],
             [
              1.0,
              "#f0f921"
             ]
            ],
            "type": "surface"
           }
          ],
          "table": [
           {
            "cells": {
             "fill": {
              "color": "#EBF0F8"
             },
             "line": {
              "color": "white"
             }
            },
            "header": {
             "fill": {
              "color": "#C8D4E3"
             },
             "line": {
              "color": "white"
             }
            },
            "type": "table"
           }
          ]
         },
         "layout": {
          "annotationdefaults": {
           "arrowcolor": "#2a3f5f",
           "arrowhead": 0,
           "arrowwidth": 1
          },
          "autotypenumbers": "strict",
          "coloraxis": {
           "colorbar": {
            "outlinewidth": 0,
            "ticks": ""
           }
          },
          "colorscale": {
           "diverging": [
            [
             0,
             "#8e0152"
            ],
            [
             0.1,
             "#c51b7d"
            ],
            [
             0.2,
             "#de77ae"
            ],
            [
             0.3,
             "#f1b6da"
            ],
            [
             0.4,
             "#fde0ef"
            ],
            [
             0.5,
             "#f7f7f7"
            ],
            [
             0.6,
             "#e6f5d0"
            ],
            [
             0.7,
             "#b8e186"
            ],
            [
             0.8,
             "#7fbc41"
            ],
            [
             0.9,
             "#4d9221"
            ],
            [
             1,
             "#276419"
            ]
           ],
           "sequential": [
            [
             0.0,
             "#0d0887"
            ],
            [
             0.1111111111111111,
             "#46039f"
            ],
            [
             0.2222222222222222,
             "#7201a8"
            ],
            [
             0.3333333333333333,
             "#9c179e"
            ],
            [
             0.4444444444444444,
             "#bd3786"
            ],
            [
             0.5555555555555556,
             "#d8576b"
            ],
            [
             0.6666666666666666,
             "#ed7953"
            ],
            [
             0.7777777777777778,
             "#fb9f3a"
            ],
            [
             0.8888888888888888,
             "#fdca26"
            ],
            [
             1.0,
             "#f0f921"
            ]
           ],
           "sequentialminus": [
            [
             0.0,
             "#0d0887"
            ],
            [
             0.1111111111111111,
             "#46039f"
            ],
            [
             0.2222222222222222,
             "#7201a8"
            ],
            [
             0.3333333333333333,
             "#9c179e"
            ],
            [
             0.4444444444444444,
             "#bd3786"
            ],
            [
             0.5555555555555556,
             "#d8576b"
            ],
            [
             0.6666666666666666,
             "#ed7953"
            ],
            [
             0.7777777777777778,
             "#fb9f3a"
            ],
            [
             0.8888888888888888,
             "#fdca26"
            ],
            [
             1.0,
             "#f0f921"
            ]
           ]
          },
          "colorway": [
           "#636efa",
           "#EF553B",
           "#00cc96",
           "#ab63fa",
           "#FFA15A",
           "#19d3f3",
           "#FF6692",
           "#B6E880",
           "#FF97FF",
           "#FECB52"
          ],
          "font": {
           "color": "#2a3f5f"
          },
          "geo": {
           "bgcolor": "white",
           "lakecolor": "white",
           "landcolor": "white",
           "showlakes": true,
           "showland": true,
           "subunitcolor": "#C8D4E3"
          },
          "hoverlabel": {
           "align": "left"
          },
          "hovermode": "closest",
          "mapbox": {
           "style": "light"
          },
          "paper_bgcolor": "white",
          "plot_bgcolor": "white",
          "polar": {
           "angularaxis": {
            "gridcolor": "#EBF0F8",
            "linecolor": "#EBF0F8",
            "ticks": ""
           },
           "bgcolor": "white",
           "radialaxis": {
            "gridcolor": "#EBF0F8",
            "linecolor": "#EBF0F8",
            "ticks": ""
           }
          },
          "scene": {
           "xaxis": {
            "backgroundcolor": "white",
            "gridcolor": "#DFE8F3",
            "gridwidth": 2,
            "linecolor": "#EBF0F8",
            "showbackground": true,
            "ticks": "",
            "zerolinecolor": "#EBF0F8"
           },
           "yaxis": {
            "backgroundcolor": "white",
            "gridcolor": "#DFE8F3",
            "gridwidth": 2,
            "linecolor": "#EBF0F8",
            "showbackground": true,
            "ticks": "",
            "zerolinecolor": "#EBF0F8"
           },
           "zaxis": {
            "backgroundcolor": "white",
            "gridcolor": "#DFE8F3",
            "gridwidth": 2,
            "linecolor": "#EBF0F8",
            "showbackground": true,
            "ticks": "",
            "zerolinecolor": "#EBF0F8"
           }
          },
          "shapedefaults": {
           "line": {
            "color": "#2a3f5f"
           }
          },
          "ternary": {
           "aaxis": {
            "gridcolor": "#DFE8F3",
            "linecolor": "#A2B1C6",
            "ticks": ""
           },
           "baxis": {
            "gridcolor": "#DFE8F3",
            "linecolor": "#A2B1C6",
            "ticks": ""
           },
           "bgcolor": "white",
           "caxis": {
            "gridcolor": "#DFE8F3",
            "linecolor": "#A2B1C6",
            "ticks": ""
           }
          },
          "title": {
           "x": 0.05
          },
          "xaxis": {
           "automargin": true,
           "gridcolor": "#EBF0F8",
           "linecolor": "#EBF0F8",
           "ticks": "",
           "title": {
            "standoff": 15
           },
           "zerolinecolor": "#EBF0F8",
           "zerolinewidth": 2
          },
          "yaxis": {
           "automargin": true,
           "gridcolor": "#EBF0F8",
           "linecolor": "#EBF0F8",
           "ticks": "",
           "title": {
            "standoff": 15
           },
           "zerolinecolor": "#EBF0F8",
           "zerolinewidth": 2
          }
         }
        },
        "xaxis": {
         "title": {
          "font": {
           "weight": "bold"
          }
         },
         "tickangle": 90,
         "tickfont": {
          "family": "Arial",
          "size": 13,
          "color": "black",
          "weight": "bold"
         }
        },
        "height": 800,
        "width": 800,
        "yaxis": {
         "tickfont": {
          "family": "Arial",
          "size": 13,
          "color": "black",
          "weight": "bold"
         }
        },
        "shapes": [
         {
          "line": {
           "color": "black",
           "width": 1.5
          },
          "type": "line",
          "x0": -0.5,
          "x1": -0.5,
          "y0": -0.5,
          "y1": 6.5
         },
         {
          "line": {
           "color": "black",
           "width": 1.5
          },
          "type": "line",
          "x0": 0.5,
          "x1": 0.5,
          "y0": -0.5,
          "y1": 6.5
         },
         {
          "line": {
           "color": "black",
           "width": 1.5
          },
          "type": "line",
          "x0": 2.5,
          "x1": 2.5,
          "y0": -0.5,
          "y1": 6.5
         },
         {
          "line": {
           "color": "black",
           "width": 1.5
          },
          "type": "line",
          "x0": 4.5,
          "x1": 4.5,
          "y0": -0.5,
          "y1": 6.5
         },
         {
          "line": {
           "color": "black",
           "width": 1.5
          },
          "type": "line",
          "x0": 6.5,
          "x1": 6.5,
          "y0": -0.5,
          "y1": 6.5
         },
         {
          "line": {
           "color": "black",
           "width": 3
          },
          "type": "line",
          "x0": 8.5,
          "x1": 8.5,
          "y0": -0.5,
          "y1": 6.5
         },
         {
          "line": {
           "color": "black",
           "width": 1.5
          },
          "type": "line",
          "x0": 9.5,
          "x1": 9.5,
          "y0": -0.5,
          "y1": 6.5
         },
         {
          "line": {
           "color": "black",
           "width": 3
          },
          "type": "line",
          "x0": -0.5,
          "x1": 9.5,
          "y0": 0.5,
          "y1": 0.5
         }
        ],
        "annotations": [
         {
          "align": "center",
          "font": {
           "color": "black",
           "family": "Arial",
           "size": 14,
           "weight": "bold"
          },
          "showarrow": false,
          "text": "|                System                |                    Knowledge                    |           Social         |              |",
          "x": 0.5,
          "xref": "paper",
          "y": -0.307,
          "yref": "paper"
         }
        ]
       },
       "config": {
        "plotlyServerURL": "https://plot.ly"
       }
      },
      "text/html": [
       "<div>                            <div id=\"26aec1c0-cd46-4989-84b2-1c79b971ca95\" class=\"plotly-graph-div\" style=\"height:800px; width:800px;\"></div>            <script type=\"text/javascript\">                require([\"plotly\"], function(Plotly) {                    window.PLOTLYENV=window.PLOTLYENV || {};                                    if (document.getElementById(\"26aec1c0-cd46-4989-84b2-1c79b971ca95\")) {                    Plotly.newPlot(                        \"26aec1c0-cd46-4989-84b2-1c79b971ca95\",                        [{\"colorbar\":{\"tickformat\":\".0%\"},\"colorscale\":[[0.0,\"#fcffa4\"],[0.1111111111111111,\"#f7d13d\"],[0.2222222222222222,\"#fb9b06\"],[0.3333333333333333,\"#ed6925\"],[0.4444444444444444,\"#cf4446\"],[0.5555555555555556,\"#a52c60\"],[0.6666666666666666,\"#781c6d\"],[0.7777777777777778,\"#4a0c6b\"],[0.8888888888888888,\"#1b0c41\"],[1.0,\"#000004\"]],\"texttemplate\":\"%{z:.0%}\",\"x\":[[\" \",\"Diversification\",\"Diversification\",\"Enrichment\",\"Enrichment\",\"Derivation\",\"Derivation\",\"\\u2062\",\"\\u2062\",\"   \"],[\"Integration\",\"Adaptation\",\"Recommendation\",\"Profile\",\"Context\",\"Interpretation of\\u003cbr\\u003eUser Behaviour\",\"Explanation of\\u003cbr\\u003eSystem Behaviour\",\"Relation\",\"Interaction\",\"Average\"]],\"xgap\":2,\"y\":[\"Average \",\"General \",\"Finance \",\"Productivity \",\"Wellbeing \",\"Learning \",\"Sustainability \"],\"ygap\":2,\"z\":[[0.07668330444065738,0.03469103744839039,0.0509879553997201,0.22756689797130972,0.06128643279378573,0.0601517831297243,0.07454068943039531,0.09794211099358159,0.03851040707658354,0.08026229096490535],[0.07045454545454545,0.045454545454545456,0.022727272727272728,0.1659090909090909,0.0659090909090909,0.06136363636363636,0.07954545454545454,0.12272727272727273,0.04545454545454545,0.07550505050505049],[0.03571428571428571,0.0,0.03571428571428571,0.19642857142857142,0.017857142857142856,0.017857142857142856,0.07142857142857142,0.14285714285714285,0.017857142857142856,0.05952380952380952],[0.029411764705882353,0.029411764705882353,0.022058823529411763,0.11764705882352941,0.029411764705882353,0.03676470588235294,0.058823529411764705,0.08088235294117647,0.014705882352941176,0.04656862745098039],[0.07451923076923077,0.03605769230769231,0.08653846153846154,0.34375,0.06009615384615385,0.05048076923076923,0.0985576923076923,0.07451923076923077,0.06971153846153846,0.09935897435897435],[0.1111111111111111,0.08333333333333333,0.041666666666666664,0.16666666666666666,0.1111111111111111,0.1111111111111111,0.05555555555555555,0.08333333333333333,0.05555555555555555,0.0910493827160494],[0.1388888888888889,0.013888888888888888,0.09722222222222221,0.375,0.08333333333333333,0.08333333333333333,0.08333333333333333,0.08333333333333333,0.027777777777777776,0.10956790123456792]],\"zmax\":1,\"zmin\":0,\"type\":\"heatmap\"}],                        {\"template\":{\"data\":{\"barpolar\":[{\"marker\":{\"line\":{\"color\":\"white\",\"width\":0.5},\"pattern\":{\"fillmode\":\"overlay\",\"size\":10,\"solidity\":0.2}},\"type\":\"barpolar\"}],\"bar\":[{\"error_x\":{\"color\":\"#2a3f5f\"},\"error_y\":{\"color\":\"#2a3f5f\"},\"marker\":{\"line\":{\"color\":\"white\",\"width\":0.5},\"pattern\":{\"fillmode\":\"overlay\",\"size\":10,\"solidity\":0.2}},\"type\":\"bar\"}],\"carpet\":[{\"aaxis\":{\"endlinecolor\":\"#2a3f5f\",\"gridcolor\":\"#C8D4E3\",\"linecolor\":\"#C8D4E3\",\"minorgridcolor\":\"#C8D4E3\",\"startlinecolor\":\"#2a3f5f\"},\"baxis\":{\"endlinecolor\":\"#2a3f5f\",\"gridcolor\":\"#C8D4E3\",\"linecolor\":\"#C8D4E3\",\"minorgridcolor\":\"#C8D4E3\",\"startlinecolor\":\"#2a3f5f\"},\"type\":\"carpet\"}],\"choropleth\":[{\"colorbar\":{\"outlinewidth\":0,\"ticks\":\"\"},\"type\":\"choropleth\"}],\"contourcarpet\":[{\"colorbar\":{\"outlinewidth\":0,\"ticks\":\"\"},\"type\":\"contourcarpet\"}],\"contour\":[{\"colorbar\":{\"outlinewidth\":0,\"ticks\":\"\"},\"colorscale\":[[0.0,\"#0d0887\"],[0.1111111111111111,\"#46039f\"],[0.2222222222222222,\"#7201a8\"],[0.3333333333333333,\"#9c179e\"],[0.4444444444444444,\"#bd3786\"],[0.5555555555555556,\"#d8576b\"],[0.6666666666666666,\"#ed7953\"],[0.7777777777777778,\"#fb9f3a\"],[0.8888888888888888,\"#fdca26\"],[1.0,\"#f0f921\"]],\"type\":\"contour\"}],\"heatmapgl\":[{\"colorbar\":{\"outlinewidth\":0,\"ticks\":\"\"},\"colorscale\":[[0.0,\"#0d0887\"],[0.1111111111111111,\"#46039f\"],[0.2222222222222222,\"#7201a8\"],[0.3333333333333333,\"#9c179e\"],[0.4444444444444444,\"#bd3786\"],[0.5555555555555556,\"#d8576b\"],[0.6666666666666666,\"#ed7953\"],[0.7777777777777778,\"#fb9f3a\"],[0.8888888888888888,\"#fdca26\"],[1.0,\"#f0f921\"]],\"type\":\"heatmapgl\"}],\"heatmap\":[{\"colorbar\":{\"outlinewidth\":0,\"ticks\":\"\"},\"colorscale\":[[0.0,\"#0d0887\"],[0.1111111111111111,\"#46039f\"],[0.2222222222222222,\"#7201a8\"],[0.3333333333333333,\"#9c179e\"],[0.4444444444444444,\"#bd3786\"],[0.5555555555555556,\"#d8576b\"],[0.6666666666666666,\"#ed7953\"],[0.7777777777777778,\"#fb9f3a\"],[0.8888888888888888,\"#fdca26\"],[1.0,\"#f0f921\"]],\"type\":\"heatmap\"}],\"histogram2dcontour\":[{\"colorbar\":{\"outlinewidth\":0,\"ticks\":\"\"},\"colorscale\":[[0.0,\"#0d0887\"],[0.1111111111111111,\"#46039f\"],[0.2222222222222222,\"#7201a8\"],[0.3333333333333333,\"#9c179e\"],[0.4444444444444444,\"#bd3786\"],[0.5555555555555556,\"#d8576b\"],[0.6666666666666666,\"#ed7953\"],[0.7777777777777778,\"#fb9f3a\"],[0.8888888888888888,\"#fdca26\"],[1.0,\"#f0f921\"]],\"type\":\"histogram2dcontour\"}],\"histogram2d\":[{\"colorbar\":{\"outlinewidth\":0,\"ticks\":\"\"},\"colorscale\":[[0.0,\"#0d0887\"],[0.1111111111111111,\"#46039f\"],[0.2222222222222222,\"#7201a8\"],[0.3333333333333333,\"#9c179e\"],[0.4444444444444444,\"#bd3786\"],[0.5555555555555556,\"#d8576b\"],[0.6666666666666666,\"#ed7953\"],[0.7777777777777778,\"#fb9f3a\"],[0.8888888888888888,\"#fdca26\"],[1.0,\"#f0f921\"]],\"type\":\"histogram2d\"}],\"histogram\":[{\"marker\":{\"pattern\":{\"fillmode\":\"overlay\",\"size\":10,\"solidity\":0.2}},\"type\":\"histogram\"}],\"mesh3d\":[{\"colorbar\":{\"outlinewidth\":0,\"ticks\":\"\"},\"type\":\"mesh3d\"}],\"parcoords\":[{\"line\":{\"colorbar\":{\"outlinewidth\":0,\"ticks\":\"\"}},\"type\":\"parcoords\"}],\"pie\":[{\"automargin\":true,\"type\":\"pie\"}],\"scatter3d\":[{\"line\":{\"colorbar\":{\"outlinewidth\":0,\"ticks\":\"\"}},\"marker\":{\"colorbar\":{\"outlinewidth\":0,\"ticks\":\"\"}},\"type\":\"scatter3d\"}],\"scattercarpet\":[{\"marker\":{\"colorbar\":{\"outlinewidth\":0,\"ticks\":\"\"}},\"type\":\"scattercarpet\"}],\"scattergeo\":[{\"marker\":{\"colorbar\":{\"outlinewidth\":0,\"ticks\":\"\"}},\"type\":\"scattergeo\"}],\"scattergl\":[{\"marker\":{\"colorbar\":{\"outlinewidth\":0,\"ticks\":\"\"}},\"type\":\"scattergl\"}],\"scattermapbox\":[{\"marker\":{\"colorbar\":{\"outlinewidth\":0,\"ticks\":\"\"}},\"type\":\"scattermapbox\"}],\"scatterpolargl\":[{\"marker\":{\"colorbar\":{\"outlinewidth\":0,\"ticks\":\"\"}},\"type\":\"scatterpolargl\"}],\"scatterpolar\":[{\"marker\":{\"colorbar\":{\"outlinewidth\":0,\"ticks\":\"\"}},\"type\":\"scatterpolar\"}],\"scatter\":[{\"fillpattern\":{\"fillmode\":\"overlay\",\"size\":10,\"solidity\":0.2},\"type\":\"scatter\"}],\"scatterternary\":[{\"marker\":{\"colorbar\":{\"outlinewidth\":0,\"ticks\":\"\"}},\"type\":\"scatterternary\"}],\"surface\":[{\"colorbar\":{\"outlinewidth\":0,\"ticks\":\"\"},\"colorscale\":[[0.0,\"#0d0887\"],[0.1111111111111111,\"#46039f\"],[0.2222222222222222,\"#7201a8\"],[0.3333333333333333,\"#9c179e\"],[0.4444444444444444,\"#bd3786\"],[0.5555555555555556,\"#d8576b\"],[0.6666666666666666,\"#ed7953\"],[0.7777777777777778,\"#fb9f3a\"],[0.8888888888888888,\"#fdca26\"],[1.0,\"#f0f921\"]],\"type\":\"surface\"}],\"table\":[{\"cells\":{\"fill\":{\"color\":\"#EBF0F8\"},\"line\":{\"color\":\"white\"}},\"header\":{\"fill\":{\"color\":\"#C8D4E3\"},\"line\":{\"color\":\"white\"}},\"type\":\"table\"}]},\"layout\":{\"annotationdefaults\":{\"arrowcolor\":\"#2a3f5f\",\"arrowhead\":0,\"arrowwidth\":1},\"autotypenumbers\":\"strict\",\"coloraxis\":{\"colorbar\":{\"outlinewidth\":0,\"ticks\":\"\"}},\"colorscale\":{\"diverging\":[[0,\"#8e0152\"],[0.1,\"#c51b7d\"],[0.2,\"#de77ae\"],[0.3,\"#f1b6da\"],[0.4,\"#fde0ef\"],[0.5,\"#f7f7f7\"],[0.6,\"#e6f5d0\"],[0.7,\"#b8e186\"],[0.8,\"#7fbc41\"],[0.9,\"#4d9221\"],[1,\"#276419\"]],\"sequential\":[[0.0,\"#0d0887\"],[0.1111111111111111,\"#46039f\"],[0.2222222222222222,\"#7201a8\"],[0.3333333333333333,\"#9c179e\"],[0.4444444444444444,\"#bd3786\"],[0.5555555555555556,\"#d8576b\"],[0.6666666666666666,\"#ed7953\"],[0.7777777777777778,\"#fb9f3a\"],[0.8888888888888888,\"#fdca26\"],[1.0,\"#f0f921\"]],\"sequentialminus\":[[0.0,\"#0d0887\"],[0.1111111111111111,\"#46039f\"],[0.2222222222222222,\"#7201a8\"],[0.3333333333333333,\"#9c179e\"],[0.4444444444444444,\"#bd3786\"],[0.5555555555555556,\"#d8576b\"],[0.6666666666666666,\"#ed7953\"],[0.7777777777777778,\"#fb9f3a\"],[0.8888888888888888,\"#fdca26\"],[1.0,\"#f0f921\"]]},\"colorway\":[\"#636efa\",\"#EF553B\",\"#00cc96\",\"#ab63fa\",\"#FFA15A\",\"#19d3f3\",\"#FF6692\",\"#B6E880\",\"#FF97FF\",\"#FECB52\"],\"font\":{\"color\":\"#2a3f5f\"},\"geo\":{\"bgcolor\":\"white\",\"lakecolor\":\"white\",\"landcolor\":\"white\",\"showlakes\":true,\"showland\":true,\"subunitcolor\":\"#C8D4E3\"},\"hoverlabel\":{\"align\":\"left\"},\"hovermode\":\"closest\",\"mapbox\":{\"style\":\"light\"},\"paper_bgcolor\":\"white\",\"plot_bgcolor\":\"white\",\"polar\":{\"angularaxis\":{\"gridcolor\":\"#EBF0F8\",\"linecolor\":\"#EBF0F8\",\"ticks\":\"\"},\"bgcolor\":\"white\",\"radialaxis\":{\"gridcolor\":\"#EBF0F8\",\"linecolor\":\"#EBF0F8\",\"ticks\":\"\"}},\"scene\":{\"xaxis\":{\"backgroundcolor\":\"white\",\"gridcolor\":\"#DFE8F3\",\"gridwidth\":2,\"linecolor\":\"#EBF0F8\",\"showbackground\":true,\"ticks\":\"\",\"zerolinecolor\":\"#EBF0F8\"},\"yaxis\":{\"backgroundcolor\":\"white\",\"gridcolor\":\"#DFE8F3\",\"gridwidth\":2,\"linecolor\":\"#EBF0F8\",\"showbackground\":true,\"ticks\":\"\",\"zerolinecolor\":\"#EBF0F8\"},\"zaxis\":{\"backgroundcolor\":\"white\",\"gridcolor\":\"#DFE8F3\",\"gridwidth\":2,\"linecolor\":\"#EBF0F8\",\"showbackground\":true,\"ticks\":\"\",\"zerolinecolor\":\"#EBF0F8\"}},\"shapedefaults\":{\"line\":{\"color\":\"#2a3f5f\"}},\"ternary\":{\"aaxis\":{\"gridcolor\":\"#DFE8F3\",\"linecolor\":\"#A2B1C6\",\"ticks\":\"\"},\"baxis\":{\"gridcolor\":\"#DFE8F3\",\"linecolor\":\"#A2B1C6\",\"ticks\":\"\"},\"bgcolor\":\"white\",\"caxis\":{\"gridcolor\":\"#DFE8F3\",\"linecolor\":\"#A2B1C6\",\"ticks\":\"\"}},\"title\":{\"x\":0.05},\"xaxis\":{\"automargin\":true,\"gridcolor\":\"#EBF0F8\",\"linecolor\":\"#EBF0F8\",\"ticks\":\"\",\"title\":{\"standoff\":15},\"zerolinecolor\":\"#EBF0F8\",\"zerolinewidth\":2},\"yaxis\":{\"automargin\":true,\"gridcolor\":\"#EBF0F8\",\"linecolor\":\"#EBF0F8\",\"ticks\":\"\",\"title\":{\"standoff\":15},\"zerolinecolor\":\"#EBF0F8\",\"zerolinewidth\":2}}},\"xaxis\":{\"title\":{\"font\":{\"weight\":\"bold\"}},\"tickangle\":90,\"tickfont\":{\"family\":\"Arial\",\"size\":13,\"color\":\"black\",\"weight\":\"bold\"}},\"height\":800,\"width\":800,\"yaxis\":{\"tickfont\":{\"family\":\"Arial\",\"size\":13,\"color\":\"black\",\"weight\":\"bold\"}},\"shapes\":[{\"line\":{\"color\":\"black\",\"width\":1.5},\"type\":\"line\",\"x0\":-0.5,\"x1\":-0.5,\"y0\":-0.5,\"y1\":6.5},{\"line\":{\"color\":\"black\",\"width\":1.5},\"type\":\"line\",\"x0\":0.5,\"x1\":0.5,\"y0\":-0.5,\"y1\":6.5},{\"line\":{\"color\":\"black\",\"width\":1.5},\"type\":\"line\",\"x0\":2.5,\"x1\":2.5,\"y0\":-0.5,\"y1\":6.5},{\"line\":{\"color\":\"black\",\"width\":1.5},\"type\":\"line\",\"x0\":4.5,\"x1\":4.5,\"y0\":-0.5,\"y1\":6.5},{\"line\":{\"color\":\"black\",\"width\":1.5},\"type\":\"line\",\"x0\":6.5,\"x1\":6.5,\"y0\":-0.5,\"y1\":6.5},{\"line\":{\"color\":\"black\",\"width\":3},\"type\":\"line\",\"x0\":8.5,\"x1\":8.5,\"y0\":-0.5,\"y1\":6.5},{\"line\":{\"color\":\"black\",\"width\":1.5},\"type\":\"line\",\"x0\":9.5,\"x1\":9.5,\"y0\":-0.5,\"y1\":6.5},{\"line\":{\"color\":\"black\",\"width\":3},\"type\":\"line\",\"x0\":-0.5,\"x1\":9.5,\"y0\":0.5,\"y1\":0.5}],\"annotations\":[{\"align\":\"center\",\"font\":{\"color\":\"black\",\"family\":\"Arial\",\"size\":14,\"weight\":\"bold\"},\"showarrow\":false,\"text\":\"|\\u2009               System                |                    Knowledge                    |\\u200a          Social        \\u200a|              |\",\"x\":0.5,\"xref\":\"paper\",\"y\":-0.307,\"yref\":\"paper\"}]},                        {\"responsive\": true}                    ).then(function(){\n",
       "                            \n",
       "var gd = document.getElementById('26aec1c0-cd46-4989-84b2-1c79b971ca95');\n",
       "var x = new MutationObserver(function (mutations, observer) {{\n",
       "        var display = window.getComputedStyle(gd).display;\n",
       "        if (!display || display === 'none') {{\n",
       "            console.log([gd, 'removed!']);\n",
       "            Plotly.purge(gd);\n",
       "            observer.disconnect();\n",
       "        }}\n",
       "}});\n",
       "\n",
       "// Listen for the removal of the full notebook cells\n",
       "var notebookContainer = gd.closest('#notebook-container');\n",
       "if (notebookContainer) {{\n",
       "    x.observe(notebookContainer, {childList: true});\n",
       "}}\n",
       "\n",
       "// Listen for the clearing of the current output cell\n",
       "var outputEl = gd.closest('.output');\n",
       "if (outputEl) {{\n",
       "    x.observe(outputEl, {childList: true});\n",
       "}}\n",
       "\n",
       "                        })                };                });            </script>        </div>"
      ]
     },
     "metadata": {},
     "output_type": "display_data"
    }
   ],
   "execution_count": 68
  },
  {
   "metadata": {
    "ExecuteTime": {
     "end_time": "2024-12-13T08:55:18.786629Z",
     "start_time": "2024-12-13T08:55:18.599Z"
    }
   },
   "cell_type": "code",
   "source": [
    "# 17a final\n",
    "def create_heatmap_mean_phase(df, order_dict):\n",
    "    # define feature type and phase order\n",
    "    feature_type = 'Cross-Cutting'\n",
    "    phase_order = ['Eliciting', 'Defining', 'Setting', 'Operationalizing', 'Pursuing', 'Tracking', 'Consequencing',\n",
    "                   'Reflecting']\n",
    "\n",
    "    # Group by Phase, Domain, Feature und Subfeature and calculate the mean\n",
    "    df_grouped_phase = df.groupby(level=['phase', 'feat', 'subfeat']).sum().T.groupby(level='domain').mean().T.unstack(\n",
    "        level='phase')\n",
    "    df_grouped_phase = df_grouped_phase.T.groupby(level=['phase']).mean()\n",
    "\n",
    "    # Funktion for extracting the ordered feature-subfeature pairs\n",
    "    def get_ordered_feats(order_dict):\n",
    "        ordered_feats = []\n",
    "        for feat, subfeats in order_dict.items():\n",
    "            if subfeats:\n",
    "                for subfeat in subfeats:\n",
    "                    ordered_feats.append((feat, subfeat))\n",
    "            else:\n",
    "                ordered_feats.append((feat, None))\n",
    "        return ordered_feats\n",
    "\n",
    "    ordered_feats = get_ordered_feats(order_dict)\n",
    "\n",
    "    # reorder the columns of df_grouped_phase according to the desired order\n",
    "    df_columns = list(df_grouped_phase.columns)\n",
    "    ordered_columns = [col for col in ordered_feats if col in df_columns]\n",
    "\n",
    "    df_grouped_phase = df_grouped_phase[ordered_columns]\n",
    "    df_grouped_phase = df_grouped_phase.T[phase_order[::-1]].T\n",
    "\n",
    "    # convert to 2D array for heatmap\n",
    "    heatmap_data = df_grouped_phase.values\n",
    "\n",
    "    # Compute row and column averages\n",
    "    row_averages = np.mean(heatmap_data, axis=1, keepdims=True)\n",
    "    col_averages = np.mean(heatmap_data, axis=0, keepdims=True)\n",
    "    overall_average = np.mean(heatmap_data)\n",
    "\n",
    "    # Append row averages to heatmap_data\n",
    "    heatmap_data_with_row_avg = np.hstack([heatmap_data, row_averages])\n",
    "\n",
    "    # Create new row with column averages and overall average\n",
    "    new_row = np.append(col_averages, overall_average).reshape(1, -1)\n",
    "\n",
    "    # Append new row to data\n",
    "    heatmap_data_final = np.vstack([new_row, heatmap_data_with_row_avg])\n",
    "\n",
    "    # Add average to the front of the domain order\n",
    "    phase_order = ['Average'] + phase_order[::-1]\n",
    "\n",
    "    # Prepare the axis labels\n",
    "    feat_subfeat_list = [\n",
    "        [' ', 'Diversification', 'Diversification', 'Enrichment', 'Enrichment', 'Derivation', 'Derivation',\n",
    "         '\\u2062',\n",
    "         '\\u2062', '   '],\n",
    "        ['Integration', 'Adaptation', 'Recommendation', 'Profile', 'Context',\n",
    "         'Interpretation of<br>User Behaviour', 'Explanation of<br>System Behaviour',\n",
    "         'Relation',\n",
    "         'Interaction', 'Average']]\n",
    "    \n",
    "    # Create the heatmap\n",
    "    fig = go.Figure(data=go.Heatmap(\n",
    "        z=heatmap_data_final,  # Updated values for the heatmap\n",
    "        x=feat_subfeat_list,  # X-axis labels (Features/Subfeatures)\n",
    "        y=[x + ' ' for x in phase_order],  # Y-axis labels (Domains)\n",
    "        colorscale='Inferno_r',\n",
    "        zmin=0, zmax=1, xgap=2, ygap=2,\n",
    "        colorbar=dict(\n",
    "            tickformat='.0%'  # Set formatting to percentages\n",
    "        ),\n",
    "        texttemplate=\"%{z:.0%}\"\n",
    "    ))\n",
    "\n",
    "    # set layout\n",
    "    fig.update_layout(\n",
    "        template='plotly_white', height=800, width=800,\n",
    "        xaxis_tickangle=90,\n",
    "        xaxis_title_font=dict(weight='bold', color='black')\n",
    "    )\n",
    "\n",
    "    # make font bold\n",
    "    fig.update_xaxes(tickfont=dict(family='Arial', size=13, color='black', weight='bold'))\n",
    "    fig.update_yaxes(tickfont=dict(family='Arial', size=13, color='black', weight='bold'))\n",
    "    \n",
    "    # get number of rows and columns for placing lines in the heatmap\n",
    "    n_rows, n_cols = heatmap_data.shape\n",
    "    n_rows = n_rows + 1\n",
    "\n",
    "    # Add vertical lines between all cells for left/right borders\n",
    "    for i in range(n_cols + 2):  # evtl +1\n",
    "        feat_labels = feat_subfeat_list[0]\n",
    "        if i == n_cols: # bold line for mean\n",
    "            fig.add_shape(\n",
    "                type=\"line\",\n",
    "                x0=i - 0.5, y0=-0.5, x1=i - 0.5, y1=n_rows - 0.5,\n",
    "                line=dict(color=\"black\", width=3),\n",
    "            )\n",
    "        elif i < n_cols and i != 0: # line between feature-classes\n",
    "            if feat_labels[i - 1] != feat_labels[i]:\n",
    "                fig.add_shape(\n",
    "                    type=\"line\",\n",
    "                    x0=i - 0.5, y0=-0.5, x1=i - 0.5, y1=n_rows - 0.5,\n",
    "                    line=dict(color=\"black\", width=1.5),\n",
    "                )\n",
    "        else: # first and last line\n",
    "            fig.add_shape(\n",
    "                type=\"line\",\n",
    "                x0=i - 0.5, y0=-0.5, x1=i - 0.5, y1=n_rows - 0.5,\n",
    "                line=dict(color=\"black\", width=1.5),\n",
    "            )\n",
    "    \n",
    "    # add one horizontal line for the mean\n",
    "    fig.add_shape(\n",
    "                type=\"line\",\n",
    "                x0=-0.5, y0=1 - 0.5, x1=n_cols + 1 - 0.5, y1=1 - 0.5,\n",
    "                line=dict(color=\"black\", width=3),\n",
    "            )\n",
    "    \n",
    "    # add annotation for the overall classes\n",
    "    fig.add_annotation(\n",
    "        x=0.5,  # Relative x-position\n",
    "        y=-0.307,  # Position above the x-axis\n",
    "        text=\"\\u2009|               System               \\u200A|                   Knowledge                   |\\u200A          Social        |              |\",\n",
    "        showarrow=False,\n",
    "        xref=\"paper\",\n",
    "        yref=\"paper\",\n",
    "        font=dict(size=14, color=\"black\", family=\"Arial\", weight=\"bold\"),\n",
    "        align=\"center\",\n",
    "    )\n",
    "    # show image/plot\n",
    "    fig.show()\n",
    "\n",
    "    # save as pdf and png\n",
    "    fig.write_image(f'../images/pdf/17A_{feature_type}_Features_Distribution_in_all_phases_heatmap.pdf')\n",
    "    fig.write_image(f'../images/png/17A_{feature_type}_Features_Distribution_in_all_phases_heatmap.png')\n",
    "\n",
    "create_heatmap_mean_phase(df_cross_cutting, cross_cutting_order)"
   ],
   "id": "e00f5d70374ccd1b",
   "outputs": [
    {
     "data": {
      "application/vnd.plotly.v1+json": {
       "data": [
        {
         "colorbar": {
          "tickformat": ".0%"
         },
         "colorscale": [
          [
           0.0,
           "#fcffa4"
          ],
          [
           0.1111111111111111,
           "#f7d13d"
          ],
          [
           0.2222222222222222,
           "#fb9b06"
          ],
          [
           0.3333333333333333,
           "#ed6925"
          ],
          [
           0.4444444444444444,
           "#cf4446"
          ],
          [
           0.5555555555555556,
           "#a52c60"
          ],
          [
           0.6666666666666666,
           "#781c6d"
          ],
          [
           0.7777777777777778,
           "#4a0c6b"
          ],
          [
           0.8888888888888888,
           "#1b0c41"
          ],
          [
           1.0,
           "#000004"
          ]
         ],
         "texttemplate": "%{z:.0%}",
         "x": [
          [
           " ",
           "Diversification",
           "Diversification",
           "Enrichment",
           "Enrichment",
           "Derivation",
           "Derivation",
           "⁢",
           "⁢",
           "   "
          ],
          [
           "Integration",
           "Adaptation",
           "Recommendation",
           "Profile",
           "Context",
           "Interpretation of<br>User Behaviour",
           "Explanation of<br>System Behaviour",
           "Relation",
           "Interaction",
           "Average"
          ]
         ],
         "xgap": 2,
         "y": [
          "Average ",
          "Reflecting ",
          "Consequencing ",
          "Tracking ",
          "Pursuing ",
          "Operationalizing ",
          "Setting ",
          "Defining ",
          "Eliciting "
         ],
         "ygap": 2,
         "z": [
          [
           0.07454068943039532,
           0.09794211099358158,
           0.03851040707658354,
           0.2275668979713097,
           0.050987955399720106,
           0.03469103744839039,
           0.07668330444065738,
           0.06015178312972431,
           0.06128643279378574,
           0.08026229096490534
          ],
          [
           0.11650707680119445,
           0.04608430784901373,
           0.00980392156862745,
           0.2602428073016308,
           0.07439303615774204,
           0.027609427609427608,
           0.05479890479890479,
           0.18588045940987116,
           0.20083048759519348,
           0.10846115878795617
          ],
          [
           0.05894845894845894,
           0.15309842662783837,
           0.00944055944055944,
           0.3579552800141035,
           0.0032051282051282055,
           0.009265734265734266,
           0.1298004283298401,
           0.053251215015920894,
           0.053251215015920894,
           0.0920240495403894
          ],
          [
           0.10059891089302854,
           0.12993161522573288,
           0.04399843076313664,
           0.22479709832651007,
           0.08438473291414468,
           0.0570074805368923,
           0.027784252784252783,
           0.04417325593796182,
           0.04417325593796182,
           0.0840943370355135
          ],
          [
           0.13217860570801745,
           0.12530046206516796,
           0.08370240870240869,
           0.08764644941115529,
           0.02475394975394975,
           0.018518518518518517,
           0.07874407727348903,
           0.11186297362767951,
           0.11827323003793593,
           0.08677563056648024
          ],
          [
           0.08335275835275835,
           0.1807473028061263,
           0.0373996373996374,
           0.14604453280923868,
           0.07461149961149961,
           0.025130261894967778,
           0.10507640507640507,
           0.00909090909090909,
           0.006060606060606061,
           0.07416821256690537
          ],
          [
           0.08014763014763014,
           0.040067340067340064,
           0.01853146853146853,
           0.07800440300440299,
           0.055918155918155917,
           0.01924448100918689,
           0.0463027713027713,
           0.03704998704998705,
           0.04008029008029008,
           0.04614961412347033
          ],
          [
           0.01853146853146853,
           0.08336570836570838,
           0.07688515188515188,
           0.348023708317826,
           0.016025641025641028,
           0.07729215229215229,
           0.08708236208236209,
           0.03687516187516188,
           0.01853146853146853,
           0.08473475810077119
          ],
          [
           0.006060606060606061,
           0.024941724941724943,
           0.028321678321678322,
           0.31782090458561046,
           0.07461149961149961,
           0.043460243460243464,
           0.08387723387723388,
           0.0030303030303030303,
           0.00909090909090909,
           0.06569056699775654
          ]
         ],
         "zmax": 1,
         "zmin": 0,
         "type": "heatmap"
        }
       ],
       "layout": {
        "template": {
         "data": {
          "barpolar": [
           {
            "marker": {
             "line": {
              "color": "white",
              "width": 0.5
             },
             "pattern": {
              "fillmode": "overlay",
              "size": 10,
              "solidity": 0.2
             }
            },
            "type": "barpolar"
           }
          ],
          "bar": [
           {
            "error_x": {
             "color": "#2a3f5f"
            },
            "error_y": {
             "color": "#2a3f5f"
            },
            "marker": {
             "line": {
              "color": "white",
              "width": 0.5
             },
             "pattern": {
              "fillmode": "overlay",
              "size": 10,
              "solidity": 0.2
             }
            },
            "type": "bar"
           }
          ],
          "carpet": [
           {
            "aaxis": {
             "endlinecolor": "#2a3f5f",
             "gridcolor": "#C8D4E3",
             "linecolor": "#C8D4E3",
             "minorgridcolor": "#C8D4E3",
             "startlinecolor": "#2a3f5f"
            },
            "baxis": {
             "endlinecolor": "#2a3f5f",
             "gridcolor": "#C8D4E3",
             "linecolor": "#C8D4E3",
             "minorgridcolor": "#C8D4E3",
             "startlinecolor": "#2a3f5f"
            },
            "type": "carpet"
           }
          ],
          "choropleth": [
           {
            "colorbar": {
             "outlinewidth": 0,
             "ticks": ""
            },
            "type": "choropleth"
           }
          ],
          "contourcarpet": [
           {
            "colorbar": {
             "outlinewidth": 0,
             "ticks": ""
            },
            "type": "contourcarpet"
           }
          ],
          "contour": [
           {
            "colorbar": {
             "outlinewidth": 0,
             "ticks": ""
            },
            "colorscale": [
             [
              0.0,
              "#0d0887"
             ],
             [
              0.1111111111111111,
              "#46039f"
             ],
             [
              0.2222222222222222,
              "#7201a8"
             ],
             [
              0.3333333333333333,
              "#9c179e"
             ],
             [
              0.4444444444444444,
              "#bd3786"
             ],
             [
              0.5555555555555556,
              "#d8576b"
             ],
             [
              0.6666666666666666,
              "#ed7953"
             ],
             [
              0.7777777777777778,
              "#fb9f3a"
             ],
             [
              0.8888888888888888,
              "#fdca26"
             ],
             [
              1.0,
              "#f0f921"
             ]
            ],
            "type": "contour"
           }
          ],
          "heatmapgl": [
           {
            "colorbar": {
             "outlinewidth": 0,
             "ticks": ""
            },
            "colorscale": [
             [
              0.0,
              "#0d0887"
             ],
             [
              0.1111111111111111,
              "#46039f"
             ],
             [
              0.2222222222222222,
              "#7201a8"
             ],
             [
              0.3333333333333333,
              "#9c179e"
             ],
             [
              0.4444444444444444,
              "#bd3786"
             ],
             [
              0.5555555555555556,
              "#d8576b"
             ],
             [
              0.6666666666666666,
              "#ed7953"
             ],
             [
              0.7777777777777778,
              "#fb9f3a"
             ],
             [
              0.8888888888888888,
              "#fdca26"
             ],
             [
              1.0,
              "#f0f921"
             ]
            ],
            "type": "heatmapgl"
           }
          ],
          "heatmap": [
           {
            "colorbar": {
             "outlinewidth": 0,
             "ticks": ""
            },
            "colorscale": [
             [
              0.0,
              "#0d0887"
             ],
             [
              0.1111111111111111,
              "#46039f"
             ],
             [
              0.2222222222222222,
              "#7201a8"
             ],
             [
              0.3333333333333333,
              "#9c179e"
             ],
             [
              0.4444444444444444,
              "#bd3786"
             ],
             [
              0.5555555555555556,
              "#d8576b"
             ],
             [
              0.6666666666666666,
              "#ed7953"
             ],
             [
              0.7777777777777778,
              "#fb9f3a"
             ],
             [
              0.8888888888888888,
              "#fdca26"
             ],
             [
              1.0,
              "#f0f921"
             ]
            ],
            "type": "heatmap"
           }
          ],
          "histogram2dcontour": [
           {
            "colorbar": {
             "outlinewidth": 0,
             "ticks": ""
            },
            "colorscale": [
             [
              0.0,
              "#0d0887"
             ],
             [
              0.1111111111111111,
              "#46039f"
             ],
             [
              0.2222222222222222,
              "#7201a8"
             ],
             [
              0.3333333333333333,
              "#9c179e"
             ],
             [
              0.4444444444444444,
              "#bd3786"
             ],
             [
              0.5555555555555556,
              "#d8576b"
             ],
             [
              0.6666666666666666,
              "#ed7953"
             ],
             [
              0.7777777777777778,
              "#fb9f3a"
             ],
             [
              0.8888888888888888,
              "#fdca26"
             ],
             [
              1.0,
              "#f0f921"
             ]
            ],
            "type": "histogram2dcontour"
           }
          ],
          "histogram2d": [
           {
            "colorbar": {
             "outlinewidth": 0,
             "ticks": ""
            },
            "colorscale": [
             [
              0.0,
              "#0d0887"
             ],
             [
              0.1111111111111111,
              "#46039f"
             ],
             [
              0.2222222222222222,
              "#7201a8"
             ],
             [
              0.3333333333333333,
              "#9c179e"
             ],
             [
              0.4444444444444444,
              "#bd3786"
             ],
             [
              0.5555555555555556,
              "#d8576b"
             ],
             [
              0.6666666666666666,
              "#ed7953"
             ],
             [
              0.7777777777777778,
              "#fb9f3a"
             ],
             [
              0.8888888888888888,
              "#fdca26"
             ],
             [
              1.0,
              "#f0f921"
             ]
            ],
            "type": "histogram2d"
           }
          ],
          "histogram": [
           {
            "marker": {
             "pattern": {
              "fillmode": "overlay",
              "size": 10,
              "solidity": 0.2
             }
            },
            "type": "histogram"
           }
          ],
          "mesh3d": [
           {
            "colorbar": {
             "outlinewidth": 0,
             "ticks": ""
            },
            "type": "mesh3d"
           }
          ],
          "parcoords": [
           {
            "line": {
             "colorbar": {
              "outlinewidth": 0,
              "ticks": ""
             }
            },
            "type": "parcoords"
           }
          ],
          "pie": [
           {
            "automargin": true,
            "type": "pie"
           }
          ],
          "scatter3d": [
           {
            "line": {
             "colorbar": {
              "outlinewidth": 0,
              "ticks": ""
             }
            },
            "marker": {
             "colorbar": {
              "outlinewidth": 0,
              "ticks": ""
             }
            },
            "type": "scatter3d"
           }
          ],
          "scattercarpet": [
           {
            "marker": {
             "colorbar": {
              "outlinewidth": 0,
              "ticks": ""
             }
            },
            "type": "scattercarpet"
           }
          ],
          "scattergeo": [
           {
            "marker": {
             "colorbar": {
              "outlinewidth": 0,
              "ticks": ""
             }
            },
            "type": "scattergeo"
           }
          ],
          "scattergl": [
           {
            "marker": {
             "colorbar": {
              "outlinewidth": 0,
              "ticks": ""
             }
            },
            "type": "scattergl"
           }
          ],
          "scattermapbox": [
           {
            "marker": {
             "colorbar": {
              "outlinewidth": 0,
              "ticks": ""
             }
            },
            "type": "scattermapbox"
           }
          ],
          "scatterpolargl": [
           {
            "marker": {
             "colorbar": {
              "outlinewidth": 0,
              "ticks": ""
             }
            },
            "type": "scatterpolargl"
           }
          ],
          "scatterpolar": [
           {
            "marker": {
             "colorbar": {
              "outlinewidth": 0,
              "ticks": ""
             }
            },
            "type": "scatterpolar"
           }
          ],
          "scatter": [
           {
            "fillpattern": {
             "fillmode": "overlay",
             "size": 10,
             "solidity": 0.2
            },
            "type": "scatter"
           }
          ],
          "scatterternary": [
           {
            "marker": {
             "colorbar": {
              "outlinewidth": 0,
              "ticks": ""
             }
            },
            "type": "scatterternary"
           }
          ],
          "surface": [
           {
            "colorbar": {
             "outlinewidth": 0,
             "ticks": ""
            },
            "colorscale": [
             [
              0.0,
              "#0d0887"
             ],
             [
              0.1111111111111111,
              "#46039f"
             ],
             [
              0.2222222222222222,
              "#7201a8"
             ],
             [
              0.3333333333333333,
              "#9c179e"
             ],
             [
              0.4444444444444444,
              "#bd3786"
             ],
             [
              0.5555555555555556,
              "#d8576b"
             ],
             [
              0.6666666666666666,
              "#ed7953"
             ],
             [
              0.7777777777777778,
              "#fb9f3a"
             ],
             [
              0.8888888888888888,
              "#fdca26"
             ],
             [
              1.0,
              "#f0f921"
             ]
            ],
            "type": "surface"
           }
          ],
          "table": [
           {
            "cells": {
             "fill": {
              "color": "#EBF0F8"
             },
             "line": {
              "color": "white"
             }
            },
            "header": {
             "fill": {
              "color": "#C8D4E3"
             },
             "line": {
              "color": "white"
             }
            },
            "type": "table"
           }
          ]
         },
         "layout": {
          "annotationdefaults": {
           "arrowcolor": "#2a3f5f",
           "arrowhead": 0,
           "arrowwidth": 1
          },
          "autotypenumbers": "strict",
          "coloraxis": {
           "colorbar": {
            "outlinewidth": 0,
            "ticks": ""
           }
          },
          "colorscale": {
           "diverging": [
            [
             0,
             "#8e0152"
            ],
            [
             0.1,
             "#c51b7d"
            ],
            [
             0.2,
             "#de77ae"
            ],
            [
             0.3,
             "#f1b6da"
            ],
            [
             0.4,
             "#fde0ef"
            ],
            [
             0.5,
             "#f7f7f7"
            ],
            [
             0.6,
             "#e6f5d0"
            ],
            [
             0.7,
             "#b8e186"
            ],
            [
             0.8,
             "#7fbc41"
            ],
            [
             0.9,
             "#4d9221"
            ],
            [
             1,
             "#276419"
            ]
           ],
           "sequential": [
            [
             0.0,
             "#0d0887"
            ],
            [
             0.1111111111111111,
             "#46039f"
            ],
            [
             0.2222222222222222,
             "#7201a8"
            ],
            [
             0.3333333333333333,
             "#9c179e"
            ],
            [
             0.4444444444444444,
             "#bd3786"
            ],
            [
             0.5555555555555556,
             "#d8576b"
            ],
            [
             0.6666666666666666,
             "#ed7953"
            ],
            [
             0.7777777777777778,
             "#fb9f3a"
            ],
            [
             0.8888888888888888,
             "#fdca26"
            ],
            [
             1.0,
             "#f0f921"
            ]
           ],
           "sequentialminus": [
            [
             0.0,
             "#0d0887"
            ],
            [
             0.1111111111111111,
             "#46039f"
            ],
            [
             0.2222222222222222,
             "#7201a8"
            ],
            [
             0.3333333333333333,
             "#9c179e"
            ],
            [
             0.4444444444444444,
             "#bd3786"
            ],
            [
             0.5555555555555556,
             "#d8576b"
            ],
            [
             0.6666666666666666,
             "#ed7953"
            ],
            [
             0.7777777777777778,
             "#fb9f3a"
            ],
            [
             0.8888888888888888,
             "#fdca26"
            ],
            [
             1.0,
             "#f0f921"
            ]
           ]
          },
          "colorway": [
           "#636efa",
           "#EF553B",
           "#00cc96",
           "#ab63fa",
           "#FFA15A",
           "#19d3f3",
           "#FF6692",
           "#B6E880",
           "#FF97FF",
           "#FECB52"
          ],
          "font": {
           "color": "#2a3f5f"
          },
          "geo": {
           "bgcolor": "white",
           "lakecolor": "white",
           "landcolor": "white",
           "showlakes": true,
           "showland": true,
           "subunitcolor": "#C8D4E3"
          },
          "hoverlabel": {
           "align": "left"
          },
          "hovermode": "closest",
          "mapbox": {
           "style": "light"
          },
          "paper_bgcolor": "white",
          "plot_bgcolor": "white",
          "polar": {
           "angularaxis": {
            "gridcolor": "#EBF0F8",
            "linecolor": "#EBF0F8",
            "ticks": ""
           },
           "bgcolor": "white",
           "radialaxis": {
            "gridcolor": "#EBF0F8",
            "linecolor": "#EBF0F8",
            "ticks": ""
           }
          },
          "scene": {
           "xaxis": {
            "backgroundcolor": "white",
            "gridcolor": "#DFE8F3",
            "gridwidth": 2,
            "linecolor": "#EBF0F8",
            "showbackground": true,
            "ticks": "",
            "zerolinecolor": "#EBF0F8"
           },
           "yaxis": {
            "backgroundcolor": "white",
            "gridcolor": "#DFE8F3",
            "gridwidth": 2,
            "linecolor": "#EBF0F8",
            "showbackground": true,
            "ticks": "",
            "zerolinecolor": "#EBF0F8"
           },
           "zaxis": {
            "backgroundcolor": "white",
            "gridcolor": "#DFE8F3",
            "gridwidth": 2,
            "linecolor": "#EBF0F8",
            "showbackground": true,
            "ticks": "",
            "zerolinecolor": "#EBF0F8"
           }
          },
          "shapedefaults": {
           "line": {
            "color": "#2a3f5f"
           }
          },
          "ternary": {
           "aaxis": {
            "gridcolor": "#DFE8F3",
            "linecolor": "#A2B1C6",
            "ticks": ""
           },
           "baxis": {
            "gridcolor": "#DFE8F3",
            "linecolor": "#A2B1C6",
            "ticks": ""
           },
           "bgcolor": "white",
           "caxis": {
            "gridcolor": "#DFE8F3",
            "linecolor": "#A2B1C6",
            "ticks": ""
           }
          },
          "title": {
           "x": 0.05
          },
          "xaxis": {
           "automargin": true,
           "gridcolor": "#EBF0F8",
           "linecolor": "#EBF0F8",
           "ticks": "",
           "title": {
            "standoff": 15
           },
           "zerolinecolor": "#EBF0F8",
           "zerolinewidth": 2
          },
          "yaxis": {
           "automargin": true,
           "gridcolor": "#EBF0F8",
           "linecolor": "#EBF0F8",
           "ticks": "",
           "title": {
            "standoff": 15
           },
           "zerolinecolor": "#EBF0F8",
           "zerolinewidth": 2
          }
         }
        },
        "xaxis": {
         "title": {
          "font": {
           "weight": "bold",
           "color": "black"
          }
         },
         "tickangle": 90,
         "tickfont": {
          "family": "Arial",
          "size": 13,
          "color": "black",
          "weight": "bold"
         }
        },
        "height": 800,
        "width": 800,
        "yaxis": {
         "tickfont": {
          "family": "Arial",
          "size": 13,
          "color": "black",
          "weight": "bold"
         }
        },
        "shapes": [
         {
          "line": {
           "color": "black",
           "width": 1.5
          },
          "type": "line",
          "x0": -0.5,
          "x1": -0.5,
          "y0": -0.5,
          "y1": 8.5
         },
         {
          "line": {
           "color": "black",
           "width": 1.5
          },
          "type": "line",
          "x0": 0.5,
          "x1": 0.5,
          "y0": -0.5,
          "y1": 8.5
         },
         {
          "line": {
           "color": "black",
           "width": 1.5
          },
          "type": "line",
          "x0": 2.5,
          "x1": 2.5,
          "y0": -0.5,
          "y1": 8.5
         },
         {
          "line": {
           "color": "black",
           "width": 1.5
          },
          "type": "line",
          "x0": 4.5,
          "x1": 4.5,
          "y0": -0.5,
          "y1": 8.5
         },
         {
          "line": {
           "color": "black",
           "width": 1.5
          },
          "type": "line",
          "x0": 6.5,
          "x1": 6.5,
          "y0": -0.5,
          "y1": 8.5
         },
         {
          "line": {
           "color": "black",
           "width": 3
          },
          "type": "line",
          "x0": 8.5,
          "x1": 8.5,
          "y0": -0.5,
          "y1": 8.5
         },
         {
          "line": {
           "color": "black",
           "width": 1.5
          },
          "type": "line",
          "x0": 9.5,
          "x1": 9.5,
          "y0": -0.5,
          "y1": 8.5
         },
         {
          "line": {
           "color": "black",
           "width": 3
          },
          "type": "line",
          "x0": -0.5,
          "x1": 9.5,
          "y0": 0.5,
          "y1": 0.5
         }
        ],
        "annotations": [
         {
          "align": "center",
          "font": {
           "color": "black",
           "family": "Arial",
           "size": 14,
           "weight": "bold"
          },
          "showarrow": false,
          "text": " |               System                |                   Knowledge                   |           Social        |              |",
          "x": 0.5,
          "xref": "paper",
          "y": -0.307,
          "yref": "paper"
         }
        ]
       },
       "config": {
        "plotlyServerURL": "https://plot.ly"
       }
      },
      "text/html": [
       "<div>                            <div id=\"47ae1cad-1f5f-45c1-b667-6409c4c70ee0\" class=\"plotly-graph-div\" style=\"height:800px; width:800px;\"></div>            <script type=\"text/javascript\">                require([\"plotly\"], function(Plotly) {                    window.PLOTLYENV=window.PLOTLYENV || {};                                    if (document.getElementById(\"47ae1cad-1f5f-45c1-b667-6409c4c70ee0\")) {                    Plotly.newPlot(                        \"47ae1cad-1f5f-45c1-b667-6409c4c70ee0\",                        [{\"colorbar\":{\"tickformat\":\".0%\"},\"colorscale\":[[0.0,\"#fcffa4\"],[0.1111111111111111,\"#f7d13d\"],[0.2222222222222222,\"#fb9b06\"],[0.3333333333333333,\"#ed6925\"],[0.4444444444444444,\"#cf4446\"],[0.5555555555555556,\"#a52c60\"],[0.6666666666666666,\"#781c6d\"],[0.7777777777777778,\"#4a0c6b\"],[0.8888888888888888,\"#1b0c41\"],[1.0,\"#000004\"]],\"texttemplate\":\"%{z:.0%}\",\"x\":[[\" \",\"Diversification\",\"Diversification\",\"Enrichment\",\"Enrichment\",\"Derivation\",\"Derivation\",\"\\u2062\",\"\\u2062\",\"   \"],[\"Integration\",\"Adaptation\",\"Recommendation\",\"Profile\",\"Context\",\"Interpretation of\\u003cbr\\u003eUser Behaviour\",\"Explanation of\\u003cbr\\u003eSystem Behaviour\",\"Relation\",\"Interaction\",\"Average\"]],\"xgap\":2,\"y\":[\"Average \",\"Reflecting \",\"Consequencing \",\"Tracking \",\"Pursuing \",\"Operationalizing \",\"Setting \",\"Defining \",\"Eliciting \"],\"ygap\":2,\"z\":[[0.07454068943039532,0.09794211099358158,0.03851040707658354,0.2275668979713097,0.050987955399720106,0.03469103744839039,0.07668330444065738,0.06015178312972431,0.06128643279378574,0.08026229096490534],[0.11650707680119445,0.04608430784901373,0.00980392156862745,0.2602428073016308,0.07439303615774204,0.027609427609427608,0.05479890479890479,0.18588045940987116,0.20083048759519348,0.10846115878795617],[0.05894845894845894,0.15309842662783837,0.00944055944055944,0.3579552800141035,0.0032051282051282055,0.009265734265734266,0.1298004283298401,0.053251215015920894,0.053251215015920894,0.0920240495403894],[0.10059891089302854,0.12993161522573288,0.04399843076313664,0.22479709832651007,0.08438473291414468,0.0570074805368923,0.027784252784252783,0.04417325593796182,0.04417325593796182,0.0840943370355135],[0.13217860570801745,0.12530046206516796,0.08370240870240869,0.08764644941115529,0.02475394975394975,0.018518518518518517,0.07874407727348903,0.11186297362767951,0.11827323003793593,0.08677563056648024],[0.08335275835275835,0.1807473028061263,0.0373996373996374,0.14604453280923868,0.07461149961149961,0.025130261894967778,0.10507640507640507,0.00909090909090909,0.006060606060606061,0.07416821256690537],[0.08014763014763014,0.040067340067340064,0.01853146853146853,0.07800440300440299,0.055918155918155917,0.01924448100918689,0.0463027713027713,0.03704998704998705,0.04008029008029008,0.04614961412347033],[0.01853146853146853,0.08336570836570838,0.07688515188515188,0.348023708317826,0.016025641025641028,0.07729215229215229,0.08708236208236209,0.03687516187516188,0.01853146853146853,0.08473475810077119],[0.006060606060606061,0.024941724941724943,0.028321678321678322,0.31782090458561046,0.07461149961149961,0.043460243460243464,0.08387723387723388,0.0030303030303030303,0.00909090909090909,0.06569056699775654]],\"zmax\":1,\"zmin\":0,\"type\":\"heatmap\"}],                        {\"template\":{\"data\":{\"barpolar\":[{\"marker\":{\"line\":{\"color\":\"white\",\"width\":0.5},\"pattern\":{\"fillmode\":\"overlay\",\"size\":10,\"solidity\":0.2}},\"type\":\"barpolar\"}],\"bar\":[{\"error_x\":{\"color\":\"#2a3f5f\"},\"error_y\":{\"color\":\"#2a3f5f\"},\"marker\":{\"line\":{\"color\":\"white\",\"width\":0.5},\"pattern\":{\"fillmode\":\"overlay\",\"size\":10,\"solidity\":0.2}},\"type\":\"bar\"}],\"carpet\":[{\"aaxis\":{\"endlinecolor\":\"#2a3f5f\",\"gridcolor\":\"#C8D4E3\",\"linecolor\":\"#C8D4E3\",\"minorgridcolor\":\"#C8D4E3\",\"startlinecolor\":\"#2a3f5f\"},\"baxis\":{\"endlinecolor\":\"#2a3f5f\",\"gridcolor\":\"#C8D4E3\",\"linecolor\":\"#C8D4E3\",\"minorgridcolor\":\"#C8D4E3\",\"startlinecolor\":\"#2a3f5f\"},\"type\":\"carpet\"}],\"choropleth\":[{\"colorbar\":{\"outlinewidth\":0,\"ticks\":\"\"},\"type\":\"choropleth\"}],\"contourcarpet\":[{\"colorbar\":{\"outlinewidth\":0,\"ticks\":\"\"},\"type\":\"contourcarpet\"}],\"contour\":[{\"colorbar\":{\"outlinewidth\":0,\"ticks\":\"\"},\"colorscale\":[[0.0,\"#0d0887\"],[0.1111111111111111,\"#46039f\"],[0.2222222222222222,\"#7201a8\"],[0.3333333333333333,\"#9c179e\"],[0.4444444444444444,\"#bd3786\"],[0.5555555555555556,\"#d8576b\"],[0.6666666666666666,\"#ed7953\"],[0.7777777777777778,\"#fb9f3a\"],[0.8888888888888888,\"#fdca26\"],[1.0,\"#f0f921\"]],\"type\":\"contour\"}],\"heatmapgl\":[{\"colorbar\":{\"outlinewidth\":0,\"ticks\":\"\"},\"colorscale\":[[0.0,\"#0d0887\"],[0.1111111111111111,\"#46039f\"],[0.2222222222222222,\"#7201a8\"],[0.3333333333333333,\"#9c179e\"],[0.4444444444444444,\"#bd3786\"],[0.5555555555555556,\"#d8576b\"],[0.6666666666666666,\"#ed7953\"],[0.7777777777777778,\"#fb9f3a\"],[0.8888888888888888,\"#fdca26\"],[1.0,\"#f0f921\"]],\"type\":\"heatmapgl\"}],\"heatmap\":[{\"colorbar\":{\"outlinewidth\":0,\"ticks\":\"\"},\"colorscale\":[[0.0,\"#0d0887\"],[0.1111111111111111,\"#46039f\"],[0.2222222222222222,\"#7201a8\"],[0.3333333333333333,\"#9c179e\"],[0.4444444444444444,\"#bd3786\"],[0.5555555555555556,\"#d8576b\"],[0.6666666666666666,\"#ed7953\"],[0.7777777777777778,\"#fb9f3a\"],[0.8888888888888888,\"#fdca26\"],[1.0,\"#f0f921\"]],\"type\":\"heatmap\"}],\"histogram2dcontour\":[{\"colorbar\":{\"outlinewidth\":0,\"ticks\":\"\"},\"colorscale\":[[0.0,\"#0d0887\"],[0.1111111111111111,\"#46039f\"],[0.2222222222222222,\"#7201a8\"],[0.3333333333333333,\"#9c179e\"],[0.4444444444444444,\"#bd3786\"],[0.5555555555555556,\"#d8576b\"],[0.6666666666666666,\"#ed7953\"],[0.7777777777777778,\"#fb9f3a\"],[0.8888888888888888,\"#fdca26\"],[1.0,\"#f0f921\"]],\"type\":\"histogram2dcontour\"}],\"histogram2d\":[{\"colorbar\":{\"outlinewidth\":0,\"ticks\":\"\"},\"colorscale\":[[0.0,\"#0d0887\"],[0.1111111111111111,\"#46039f\"],[0.2222222222222222,\"#7201a8\"],[0.3333333333333333,\"#9c179e\"],[0.4444444444444444,\"#bd3786\"],[0.5555555555555556,\"#d8576b\"],[0.6666666666666666,\"#ed7953\"],[0.7777777777777778,\"#fb9f3a\"],[0.8888888888888888,\"#fdca26\"],[1.0,\"#f0f921\"]],\"type\":\"histogram2d\"}],\"histogram\":[{\"marker\":{\"pattern\":{\"fillmode\":\"overlay\",\"size\":10,\"solidity\":0.2}},\"type\":\"histogram\"}],\"mesh3d\":[{\"colorbar\":{\"outlinewidth\":0,\"ticks\":\"\"},\"type\":\"mesh3d\"}],\"parcoords\":[{\"line\":{\"colorbar\":{\"outlinewidth\":0,\"ticks\":\"\"}},\"type\":\"parcoords\"}],\"pie\":[{\"automargin\":true,\"type\":\"pie\"}],\"scatter3d\":[{\"line\":{\"colorbar\":{\"outlinewidth\":0,\"ticks\":\"\"}},\"marker\":{\"colorbar\":{\"outlinewidth\":0,\"ticks\":\"\"}},\"type\":\"scatter3d\"}],\"scattercarpet\":[{\"marker\":{\"colorbar\":{\"outlinewidth\":0,\"ticks\":\"\"}},\"type\":\"scattercarpet\"}],\"scattergeo\":[{\"marker\":{\"colorbar\":{\"outlinewidth\":0,\"ticks\":\"\"}},\"type\":\"scattergeo\"}],\"scattergl\":[{\"marker\":{\"colorbar\":{\"outlinewidth\":0,\"ticks\":\"\"}},\"type\":\"scattergl\"}],\"scattermapbox\":[{\"marker\":{\"colorbar\":{\"outlinewidth\":0,\"ticks\":\"\"}},\"type\":\"scattermapbox\"}],\"scatterpolargl\":[{\"marker\":{\"colorbar\":{\"outlinewidth\":0,\"ticks\":\"\"}},\"type\":\"scatterpolargl\"}],\"scatterpolar\":[{\"marker\":{\"colorbar\":{\"outlinewidth\":0,\"ticks\":\"\"}},\"type\":\"scatterpolar\"}],\"scatter\":[{\"fillpattern\":{\"fillmode\":\"overlay\",\"size\":10,\"solidity\":0.2},\"type\":\"scatter\"}],\"scatterternary\":[{\"marker\":{\"colorbar\":{\"outlinewidth\":0,\"ticks\":\"\"}},\"type\":\"scatterternary\"}],\"surface\":[{\"colorbar\":{\"outlinewidth\":0,\"ticks\":\"\"},\"colorscale\":[[0.0,\"#0d0887\"],[0.1111111111111111,\"#46039f\"],[0.2222222222222222,\"#7201a8\"],[0.3333333333333333,\"#9c179e\"],[0.4444444444444444,\"#bd3786\"],[0.5555555555555556,\"#d8576b\"],[0.6666666666666666,\"#ed7953\"],[0.7777777777777778,\"#fb9f3a\"],[0.8888888888888888,\"#fdca26\"],[1.0,\"#f0f921\"]],\"type\":\"surface\"}],\"table\":[{\"cells\":{\"fill\":{\"color\":\"#EBF0F8\"},\"line\":{\"color\":\"white\"}},\"header\":{\"fill\":{\"color\":\"#C8D4E3\"},\"line\":{\"color\":\"white\"}},\"type\":\"table\"}]},\"layout\":{\"annotationdefaults\":{\"arrowcolor\":\"#2a3f5f\",\"arrowhead\":0,\"arrowwidth\":1},\"autotypenumbers\":\"strict\",\"coloraxis\":{\"colorbar\":{\"outlinewidth\":0,\"ticks\":\"\"}},\"colorscale\":{\"diverging\":[[0,\"#8e0152\"],[0.1,\"#c51b7d\"],[0.2,\"#de77ae\"],[0.3,\"#f1b6da\"],[0.4,\"#fde0ef\"],[0.5,\"#f7f7f7\"],[0.6,\"#e6f5d0\"],[0.7,\"#b8e186\"],[0.8,\"#7fbc41\"],[0.9,\"#4d9221\"],[1,\"#276419\"]],\"sequential\":[[0.0,\"#0d0887\"],[0.1111111111111111,\"#46039f\"],[0.2222222222222222,\"#7201a8\"],[0.3333333333333333,\"#9c179e\"],[0.4444444444444444,\"#bd3786\"],[0.5555555555555556,\"#d8576b\"],[0.6666666666666666,\"#ed7953\"],[0.7777777777777778,\"#fb9f3a\"],[0.8888888888888888,\"#fdca26\"],[1.0,\"#f0f921\"]],\"sequentialminus\":[[0.0,\"#0d0887\"],[0.1111111111111111,\"#46039f\"],[0.2222222222222222,\"#7201a8\"],[0.3333333333333333,\"#9c179e\"],[0.4444444444444444,\"#bd3786\"],[0.5555555555555556,\"#d8576b\"],[0.6666666666666666,\"#ed7953\"],[0.7777777777777778,\"#fb9f3a\"],[0.8888888888888888,\"#fdca26\"],[1.0,\"#f0f921\"]]},\"colorway\":[\"#636efa\",\"#EF553B\",\"#00cc96\",\"#ab63fa\",\"#FFA15A\",\"#19d3f3\",\"#FF6692\",\"#B6E880\",\"#FF97FF\",\"#FECB52\"],\"font\":{\"color\":\"#2a3f5f\"},\"geo\":{\"bgcolor\":\"white\",\"lakecolor\":\"white\",\"landcolor\":\"white\",\"showlakes\":true,\"showland\":true,\"subunitcolor\":\"#C8D4E3\"},\"hoverlabel\":{\"align\":\"left\"},\"hovermode\":\"closest\",\"mapbox\":{\"style\":\"light\"},\"paper_bgcolor\":\"white\",\"plot_bgcolor\":\"white\",\"polar\":{\"angularaxis\":{\"gridcolor\":\"#EBF0F8\",\"linecolor\":\"#EBF0F8\",\"ticks\":\"\"},\"bgcolor\":\"white\",\"radialaxis\":{\"gridcolor\":\"#EBF0F8\",\"linecolor\":\"#EBF0F8\",\"ticks\":\"\"}},\"scene\":{\"xaxis\":{\"backgroundcolor\":\"white\",\"gridcolor\":\"#DFE8F3\",\"gridwidth\":2,\"linecolor\":\"#EBF0F8\",\"showbackground\":true,\"ticks\":\"\",\"zerolinecolor\":\"#EBF0F8\"},\"yaxis\":{\"backgroundcolor\":\"white\",\"gridcolor\":\"#DFE8F3\",\"gridwidth\":2,\"linecolor\":\"#EBF0F8\",\"showbackground\":true,\"ticks\":\"\",\"zerolinecolor\":\"#EBF0F8\"},\"zaxis\":{\"backgroundcolor\":\"white\",\"gridcolor\":\"#DFE8F3\",\"gridwidth\":2,\"linecolor\":\"#EBF0F8\",\"showbackground\":true,\"ticks\":\"\",\"zerolinecolor\":\"#EBF0F8\"}},\"shapedefaults\":{\"line\":{\"color\":\"#2a3f5f\"}},\"ternary\":{\"aaxis\":{\"gridcolor\":\"#DFE8F3\",\"linecolor\":\"#A2B1C6\",\"ticks\":\"\"},\"baxis\":{\"gridcolor\":\"#DFE8F3\",\"linecolor\":\"#A2B1C6\",\"ticks\":\"\"},\"bgcolor\":\"white\",\"caxis\":{\"gridcolor\":\"#DFE8F3\",\"linecolor\":\"#A2B1C6\",\"ticks\":\"\"}},\"title\":{\"x\":0.05},\"xaxis\":{\"automargin\":true,\"gridcolor\":\"#EBF0F8\",\"linecolor\":\"#EBF0F8\",\"ticks\":\"\",\"title\":{\"standoff\":15},\"zerolinecolor\":\"#EBF0F8\",\"zerolinewidth\":2},\"yaxis\":{\"automargin\":true,\"gridcolor\":\"#EBF0F8\",\"linecolor\":\"#EBF0F8\",\"ticks\":\"\",\"title\":{\"standoff\":15},\"zerolinecolor\":\"#EBF0F8\",\"zerolinewidth\":2}}},\"xaxis\":{\"title\":{\"font\":{\"weight\":\"bold\",\"color\":\"black\"}},\"tickangle\":90,\"tickfont\":{\"family\":\"Arial\",\"size\":13,\"color\":\"black\",\"weight\":\"bold\"}},\"height\":800,\"width\":800,\"yaxis\":{\"tickfont\":{\"family\":\"Arial\",\"size\":13,\"color\":\"black\",\"weight\":\"bold\"}},\"shapes\":[{\"line\":{\"color\":\"black\",\"width\":1.5},\"type\":\"line\",\"x0\":-0.5,\"x1\":-0.5,\"y0\":-0.5,\"y1\":8.5},{\"line\":{\"color\":\"black\",\"width\":1.5},\"type\":\"line\",\"x0\":0.5,\"x1\":0.5,\"y0\":-0.5,\"y1\":8.5},{\"line\":{\"color\":\"black\",\"width\":1.5},\"type\":\"line\",\"x0\":2.5,\"x1\":2.5,\"y0\":-0.5,\"y1\":8.5},{\"line\":{\"color\":\"black\",\"width\":1.5},\"type\":\"line\",\"x0\":4.5,\"x1\":4.5,\"y0\":-0.5,\"y1\":8.5},{\"line\":{\"color\":\"black\",\"width\":1.5},\"type\":\"line\",\"x0\":6.5,\"x1\":6.5,\"y0\":-0.5,\"y1\":8.5},{\"line\":{\"color\":\"black\",\"width\":3},\"type\":\"line\",\"x0\":8.5,\"x1\":8.5,\"y0\":-0.5,\"y1\":8.5},{\"line\":{\"color\":\"black\",\"width\":1.5},\"type\":\"line\",\"x0\":9.5,\"x1\":9.5,\"y0\":-0.5,\"y1\":8.5},{\"line\":{\"color\":\"black\",\"width\":3},\"type\":\"line\",\"x0\":-0.5,\"x1\":9.5,\"y0\":0.5,\"y1\":0.5}],\"annotations\":[{\"align\":\"center\",\"font\":{\"color\":\"black\",\"family\":\"Arial\",\"size\":14,\"weight\":\"bold\"},\"showarrow\":false,\"text\":\"\\u2009|               System               \\u200a|                   Knowledge                   |\\u200a          Social        |              |\",\"x\":0.5,\"xref\":\"paper\",\"y\":-0.307,\"yref\":\"paper\"}]},                        {\"responsive\": true}                    ).then(function(){\n",
       "                            \n",
       "var gd = document.getElementById('47ae1cad-1f5f-45c1-b667-6409c4c70ee0');\n",
       "var x = new MutationObserver(function (mutations, observer) {{\n",
       "        var display = window.getComputedStyle(gd).display;\n",
       "        if (!display || display === 'none') {{\n",
       "            console.log([gd, 'removed!']);\n",
       "            Plotly.purge(gd);\n",
       "            observer.disconnect();\n",
       "        }}\n",
       "}});\n",
       "\n",
       "// Listen for the removal of the full notebook cells\n",
       "var notebookContainer = gd.closest('#notebook-container');\n",
       "if (notebookContainer) {{\n",
       "    x.observe(notebookContainer, {childList: true});\n",
       "}}\n",
       "\n",
       "// Listen for the clearing of the current output cell\n",
       "var outputEl = gd.closest('.output');\n",
       "if (outputEl) {{\n",
       "    x.observe(outputEl, {childList: true});\n",
       "}}\n",
       "\n",
       "                        })                };                });            </script>        </div>"
      ]
     },
     "metadata": {},
     "output_type": "display_data"
    }
   ],
   "execution_count": 69
  },
  {
   "metadata": {
    "ExecuteTime": {
     "end_time": "2024-12-13T08:55:21.627970Z",
     "start_time": "2024-12-13T08:55:18.807613Z"
    }
   },
   "cell_type": "code",
   "source": [
    "def create_heatmap_each_phase(df, phase, feature_type, order_dict):\n",
    "    # define the desired order of the domains\n",
    "    domain_order = ['Sustainability', 'Learning', 'Wellbeing', 'Productivity', 'Finance', 'General']\n",
    "    \n",
    "    # reverse the order\n",
    "    domain_order = domain_order[::-1]\n",
    "    \n",
    "    # filter by phase, group by feat and subfeat and domain and calculate the mean\n",
    "    df_grouped_phase = df[df.index.get_level_values('phase') == phase].groupby(\n",
    "        level=['feat', 'subfeat']).sum().T.groupby(level='domain').mean()\n",
    "\n",
    "    # Reorder the domains according to the desired order\n",
    "    df_grouped_phase = df_grouped_phase.reindex(domain_order)\n",
    "\n",
    "    # Function to extract the ordered feature-subfeature pairs based on the order_dict\n",
    "    def get_ordered_feats(order_dict):\n",
    "        ordered_feats = []\n",
    "        for feat, subfeats in order_dict.items():\n",
    "            if subfeats:\n",
    "                for subfeat in subfeats:\n",
    "                    ordered_feats.append((feat, subfeat))\n",
    "            else:\n",
    "                ordered_feats.append((feat, None))\n",
    "        return ordered_feats\n",
    "\n",
    "    ordered_feats = get_ordered_feats(order_dict)\n",
    "\n",
    "    # Reorder the columns of df_grouped_phase according to the desired order\n",
    "    df_columns = list(df_grouped_phase.columns)\n",
    "    ordered_columns = [col for col in ordered_feats if col in df_columns]\n",
    "    df_grouped_phase = df_grouped_phase[ordered_columns]\n",
    "\n",
    "    # Convert the data into a 2D array form for the heatmap\n",
    "    heatmap_data = df_grouped_phase.values\n",
    "\n",
    "    # Compute row and column averages\n",
    "    row_averages = np.mean(heatmap_data, axis=1, keepdims=True) \n",
    "    col_averages = np.mean(heatmap_data, axis=0)\n",
    "    overall_average = np.mean(heatmap_data)\n",
    "\n",
    "    # Append row averages to heatmap_data (neue Spalte)\n",
    "    heatmap_data_with_row_avg = np.hstack([heatmap_data, row_averages])\n",
    "\n",
    "    # Append new row with column averages and overall average\n",
    "    new_row = np.append(col_averages, overall_average).reshape(1, -1)  # Neue Zeile\n",
    "    heatmap_data_final = np.vstack([new_row, heatmap_data_with_row_avg])  # Zeilen anhängen\n",
    "\n",
    "    # append average into the front of the domain order\n",
    "    domain_order = ['Average'] + domain_order\n",
    "    \n",
    "    \n",
    "    # Prepare the axis labels\n",
    "    feat_labels = []\n",
    "    sub_feat_labels = []\n",
    "    empty_feat = ''\n",
    "    \n",
    "    # rename the features and subfeatures\n",
    "    for feat, sub_feat in df_grouped_phase.columns:\n",
    "        if sub_feat == \"Documenting\":\n",
    "            sub_feat = \"Growth\"\n",
    "\n",
    "        if \"goal\" in sub_feat:\n",
    "            sub_feat = sub_feat.replace(\" goal\", \"\")\n",
    "        elif \"goals\" in sub_feat:\n",
    "            sub_feat = sub_feat.replace(\" goals\", \"\")\n",
    "\n",
    "        if len(sub_feat) > 1:\n",
    "            if sub_feat[-1] == \"s\":\n",
    "                sub_feat = sub_feat[:-1]\n",
    "\n",
    "        if sub_feat == \"Hierarchie\":\n",
    "            sub_feat = \"Hierarchy\"\n",
    "\n",
    "        if sub_feat == \"Goal specific reminder\":\n",
    "            sub_feat = \"Goal\"\n",
    "        elif sub_feat == \"Process specific reminder\":\n",
    "            sub_feat = \"Process\"\n",
    "        elif sub_feat == \"Adjustability\":\n",
    "            sub_feat = \"Adjustability of Tracking Data\"\n",
    "        elif sub_feat == \"Verification\":\n",
    "            sub_feat = \"Verification of Tracking Data\"\n",
    "        elif sub_feat == \"One time\":\n",
    "            sub_feat = \"One-time\"\n",
    "        elif \"time\" in sub_feat:\n",
    "            sub_feat = sub_feat.replace(\"time\", \"Time\")\n",
    "        elif \"day\" in sub_feat:\n",
    "            sub_feat = sub_feat.replace(\"day\", \"Day\")\n",
    "        elif sub_feat == \"Pre-defined event\":\n",
    "            sub_feat = \"Pre-defined Event\"\n",
    "        elif sub_feat == \"Custom event\":\n",
    "            sub_feat = \"Custom Event\"\n",
    "        elif sub_feat == \"Skip if completed\":\n",
    "            sub_feat = \"Skip if Completed\"\n",
    "        elif sub_feat == \"Different alert types\":\n",
    "            sub_feat = \"Different Alert Type\"\n",
    "        elif sub_feat == \"Different alert type\":\n",
    "            sub_feat = \"Different Alert Type\"\n",
    "        elif subfeat == \"Snooze reminder\":\n",
    "            sub_feat = \"Snooze Reminder\"\n",
    "\n",
    "        if \"pursuing\" in sub_feat.lower():\n",
    "            sub_feat = \"Additional Features\"\n",
    "\n",
    "        if \"pursuing\" in feat.lower():\n",
    "            feat = \"Additional Features\"\n",
    "\n",
    "        if feat == \"Abstraction Level\":\n",
    "            feat = \"Level\"\n",
    "        elif feat == \"Goal Baseline\":\n",
    "            feat = \"Baseline\"\n",
    "        elif feat == \"Recurrence\":\n",
    "            feat = \"Recur-<br>rence\"\n",
    "        elif feat == \"Event-based reminder\":\n",
    "            feat = \"Event-based <br> Reminder\"\n",
    "        elif feat == \"Context of reminder\":\n",
    "            feat = \"Context of<br>Reminder\"\n",
    "        elif feat == \"Customization of reminder\":\n",
    "            feat = \"Customization of<br>Reminder\"\n",
    "        elif feat == \"Tracking\":\n",
    "            feat = \"Tracking Mode\"\n",
    "        elif feat == \"Temporality\":\n",
    "            feat = \"Time\"\n",
    "        elif feat == \"Granularity\":\n",
    "            feat = \"Granularity\"\n",
    "\n",
    "        if feat == \"Constraints\":\n",
    "            feat = \"Constraint\"\n",
    "\n",
    "        if feat == \"Interdependencies\":\n",
    "            feat = \"Interdependency\"\n",
    "\n",
    "        if \"reminder\" in feat:\n",
    "            feat = feat.replace(\"reminder\", \"Reminder\")\n",
    "\n",
    "        if \"reminder\" in sub_feat:\n",
    "            sub_feat = sub_feat.replace(\"reminder\", \"Reminder\")\n",
    "\n",
    "        if feat and sub_feat == '':\n",
    "            empty_feat = empty_feat + ' '\n",
    "            sub_feat = feat\n",
    "            feat = empty_feat\n",
    "        feat_labels.append(feat)\n",
    "        sub_feat_labels.append(sub_feat if pd.notna(sub_feat) else '')\n",
    "\n",
    "    # Update labels\n",
    "    feat_labels.append(\"\\u2062\")\n",
    "    sub_feat_labels.append('Average')\n",
    "\n",
    "    feat_subfeat_list = [feat_labels, sub_feat_labels]\n",
    "    \n",
    "    # if feature type is cross-cutting use this feature-subfeature list\n",
    "    if feature_type == 'Cross-Cutting':\n",
    "        feat_subfeat_list = [\n",
    "            [' ', 'Diversification', 'Diversification', 'Enrichment', 'Enrichment', 'Derivation', 'Derivation', '  ',\n",
    "             '  ', '   '], ['Integration', 'Adaptation', 'Recommendation', 'Profile', 'Context',\n",
    "                            'Interpretation of<br>User Behaviour', 'Explanation of<br>System Behaviour',\n",
    "                            'Relation',\n",
    "                            'Interaction', 'Average']]\n",
    "    \n",
    "    # Create the heatmap\n",
    "    fig = go.Figure(data=go.Heatmap(\n",
    "        z=heatmap_data_final,  # Updated values for the heatmap\n",
    "        x=feat_subfeat_list,  # X-axis labels (Features/Subfeatures)\n",
    "        y=[x + ' ' for x in domain_order],  # Y-axis labels (Domains)\n",
    "        colorscale='Inferno_r',\n",
    "        zmin=0, zmax=1, xgap=2, ygap=2,\n",
    "        colorbar=dict(\n",
    "            tickformat='.0%'  # Set formatting to percentages\n",
    "        ),\n",
    "        texttemplate=\"%{z:.0%}\",  #texttemplate=\"%{text}\",\n",
    "    ))\n",
    "    \n",
    "    # Adjusting the layout\n",
    "    fig.update_layout(\n",
    "        template='plotly_white', height=900, width=800,\n",
    "        xaxis_tickangle=90,\n",
    "        xaxis=dict(titlefont=dict(weight='bold', color='black'))\n",
    "    )\n",
    "    \n",
    "    # make font bold\n",
    "    fig.update_xaxes(tickfont=dict(family='Arial', size=13, color='black', weight='bold'))\n",
    "    fig.update_yaxes(tickfont=dict(family='Arial', size=13, color='black', weight='bold'))\n",
    "\n",
    "    # Adding vertical lines to set off categories and create left/right borders\n",
    "    n_rows, n_cols = heatmap_data.shape\n",
    "    n_cols += 1\n",
    "\n",
    "    # Add vertical lines between groups\n",
    "    for i in range(n_cols + 1):  # evtl +1\n",
    "        if feature_type == \"Cross-Cutting\":\n",
    "            feat_labels = feat_subfeat_list[0]\n",
    "        if i == n_cols - 1: # bold line for mean\n",
    "            fig.add_shape(\n",
    "                type=\"line\",\n",
    "                x0=i - 0.5, y0=-0.5, x1=i - 0.5, y1=n_rows + 1 - 0.5,\n",
    "                line=dict(color=\"black\", width=3),\n",
    "            )\n",
    "        elif i < n_cols - 1 and i != 0: # line between feature-classes\n",
    "            if not feat_labels[i - 1] == feat_labels[i]:\n",
    "                fig.add_shape(\n",
    "                    type=\"line\",\n",
    "                    x0=i - 0.5, y0=-0.5, x1=i - 0.5, y1=n_rows + 1 - 0.5,\n",
    "                    line=dict(color=\"black\", width=1.5),\n",
    "                )\n",
    "        else: # first and last line\n",
    "            fig.add_shape(\n",
    "                type=\"line\",\n",
    "                x0=i - 0.5, y0=-0.5, x1=i - 0.5, y1=n_rows + 1 - 0.5,\n",
    "                line=dict(color=\"black\", width=1.5),\n",
    "            )\n",
    "        \n",
    "        # Add horizontal line for the mean\n",
    "        fig.add_shape(\n",
    "            type=\"line\",\n",
    "            x0=-0.5, y0=1 - 0.5, x1=n_cols - 0.5, y1=1 - 0.5,\n",
    "            line=dict(color=\"black\", width=3),\n",
    "        )\n",
    "    \n",
    "    fig.update_layout(margin=dict(b=180))\n",
    "\n",
    "    # Add annotation for the overall classes if feature type is cross-cutting\n",
    "    if feature_type == \"Cross-Cutting\":\n",
    "        fig.add_annotation(\n",
    "            x=0.5,  # Relative x-position\n",
    "            y=-0.25,  # Position above the x-axis\n",
    "            text=\"|\\u2009               System                |                    Knowledge                    |\\u200A          Social        \\u200A|              |\",\n",
    "            showarrow=False,\n",
    "            xref=\"paper\",\n",
    "            yref=\"paper\",\n",
    "            font=dict(size=14, color=\"black\", family=\"Arial\", weight=\"bold\"),\n",
    "            align=\"center\",\n",
    "        )\n",
    "\n",
    "    # Show the figure\n",
    "    fig.show()\n",
    "\n",
    "    # Save the plot\n",
    "    fig.write_image(f'../images/pdf/{feature_type}_Features_Distribution_in_{phase}_heatmap.pdf')\n",
    "    fig.write_image(f'../images/png/{feature_type}_Features_Distribution_in_{phase}_heatmap.png')\n",
    "\n",
    "# create the heatmap for each phase\n",
    "for phase in phases:\n",
    "    create_heatmap_each_phase(df_phase_specific, phase, 'Phase-Specific', feature_order.get(phase, {}))\n",
    "    create_heatmap_each_phase(df_cross_cutting, phase, 'Cross-Cutting', cross_cutting_order)"
   ],
   "id": "e1d2a5aa58567024",
   "outputs": [
    {
     "data": {
      "application/vnd.plotly.v1+json": {
       "data": [
        {
         "colorbar": {
          "tickformat": ".0%"
         },
         "colorscale": [
          [
           0.0,
           "#fcffa4"
          ],
          [
           0.1111111111111111,
           "#f7d13d"
          ],
          [
           0.2222222222222222,
           "#fb9b06"
          ],
          [
           0.3333333333333333,
           "#ed6925"
          ],
          [
           0.4444444444444444,
           "#cf4446"
          ],
          [
           0.5555555555555556,
           "#a52c60"
          ],
          [
           0.6666666666666666,
           "#781c6d"
          ],
          [
           0.7777777777777778,
           "#4a0c6b"
          ],
          [
           0.8888888888888888,
           "#1b0c41"
          ],
          [
           1.0,
           "#000004"
          ]
         ],
         "texttemplate": "%{z:.0%}",
         "x": [
          [
           " ",
           "  ",
           "   ",
           "    ",
           "     ",
           "⁢"
          ],
          [
           "Description",
           "Diagnosis",
           "Discovery",
           "Prediction",
           "Prescription",
           "Average"
          ]
         ],
         "xgap": 2,
         "y": [
          "Average ",
          "General ",
          "Finance ",
          "Productivity ",
          "Wellbeing ",
          "Learning ",
          "Sustainability "
         ],
         "ygap": 2,
         "z": [
          [
           0.28528383381324557,
           0.02492877492877493,
           0.09633514633514634,
           0.06802641802641803,
           0.19553872053872054,
           0.13402257872846107
          ],
          [
           0.03636363636363636,
           0.0,
           0.01818181818181818,
           0.03636363636363636,
           0.14545454545454545,
           0.04727272727272727
          ],
          [
           0.0,
           0.0,
           0.0,
           0.0,
           0.0,
           0.0
          ],
          [
           0.11764705882352941,
           0.0,
           0.0,
           0.0,
           0.0,
           0.023529411764705882
          ],
          [
           0.5576923076923077,
           0.038461538461538464,
           0.11538461538461539,
           0.038461538461538464,
           0.25,
           0.2
          ],
          [
           0.3333333333333333,
           0.0,
           0.1111111111111111,
           0.2222222222222222,
           0.3333333333333333,
           0.2
          ],
          [
           0.6666666666666666,
           0.1111111111111111,
           0.3333333333333333,
           0.1111111111111111,
           0.4444444444444444,
           0.3333333333333333
          ]
         ],
         "zmax": 1,
         "zmin": 0,
         "type": "heatmap"
        }
       ],
       "layout": {
        "template": {
         "data": {
          "barpolar": [
           {
            "marker": {
             "line": {
              "color": "white",
              "width": 0.5
             },
             "pattern": {
              "fillmode": "overlay",
              "size": 10,
              "solidity": 0.2
             }
            },
            "type": "barpolar"
           }
          ],
          "bar": [
           {
            "error_x": {
             "color": "#2a3f5f"
            },
            "error_y": {
             "color": "#2a3f5f"
            },
            "marker": {
             "line": {
              "color": "white",
              "width": 0.5
             },
             "pattern": {
              "fillmode": "overlay",
              "size": 10,
              "solidity": 0.2
             }
            },
            "type": "bar"
           }
          ],
          "carpet": [
           {
            "aaxis": {
             "endlinecolor": "#2a3f5f",
             "gridcolor": "#C8D4E3",
             "linecolor": "#C8D4E3",
             "minorgridcolor": "#C8D4E3",
             "startlinecolor": "#2a3f5f"
            },
            "baxis": {
             "endlinecolor": "#2a3f5f",
             "gridcolor": "#C8D4E3",
             "linecolor": "#C8D4E3",
             "minorgridcolor": "#C8D4E3",
             "startlinecolor": "#2a3f5f"
            },
            "type": "carpet"
           }
          ],
          "choropleth": [
           {
            "colorbar": {
             "outlinewidth": 0,
             "ticks": ""
            },
            "type": "choropleth"
           }
          ],
          "contourcarpet": [
           {
            "colorbar": {
             "outlinewidth": 0,
             "ticks": ""
            },
            "type": "contourcarpet"
           }
          ],
          "contour": [
           {
            "colorbar": {
             "outlinewidth": 0,
             "ticks": ""
            },
            "colorscale": [
             [
              0.0,
              "#0d0887"
             ],
             [
              0.1111111111111111,
              "#46039f"
             ],
             [
              0.2222222222222222,
              "#7201a8"
             ],
             [
              0.3333333333333333,
              "#9c179e"
             ],
             [
              0.4444444444444444,
              "#bd3786"
             ],
             [
              0.5555555555555556,
              "#d8576b"
             ],
             [
              0.6666666666666666,
              "#ed7953"
             ],
             [
              0.7777777777777778,
              "#fb9f3a"
             ],
             [
              0.8888888888888888,
              "#fdca26"
             ],
             [
              1.0,
              "#f0f921"
             ]
            ],
            "type": "contour"
           }
          ],
          "heatmapgl": [
           {
            "colorbar": {
             "outlinewidth": 0,
             "ticks": ""
            },
            "colorscale": [
             [
              0.0,
              "#0d0887"
             ],
             [
              0.1111111111111111,
              "#46039f"
             ],
             [
              0.2222222222222222,
              "#7201a8"
             ],
             [
              0.3333333333333333,
              "#9c179e"
             ],
             [
              0.4444444444444444,
              "#bd3786"
             ],
             [
              0.5555555555555556,
              "#d8576b"
             ],
             [
              0.6666666666666666,
              "#ed7953"
             ],
             [
              0.7777777777777778,
              "#fb9f3a"
             ],
             [
              0.8888888888888888,
              "#fdca26"
             ],
             [
              1.0,
              "#f0f921"
             ]
            ],
            "type": "heatmapgl"
           }
          ],
          "heatmap": [
           {
            "colorbar": {
             "outlinewidth": 0,
             "ticks": ""
            },
            "colorscale": [
             [
              0.0,
              "#0d0887"
             ],
             [
              0.1111111111111111,
              "#46039f"
             ],
             [
              0.2222222222222222,
              "#7201a8"
             ],
             [
              0.3333333333333333,
              "#9c179e"
             ],
             [
              0.4444444444444444,
              "#bd3786"
             ],
             [
              0.5555555555555556,
              "#d8576b"
             ],
             [
              0.6666666666666666,
              "#ed7953"
             ],
             [
              0.7777777777777778,
              "#fb9f3a"
             ],
             [
              0.8888888888888888,
              "#fdca26"
             ],
             [
              1.0,
              "#f0f921"
             ]
            ],
            "type": "heatmap"
           }
          ],
          "histogram2dcontour": [
           {
            "colorbar": {
             "outlinewidth": 0,
             "ticks": ""
            },
            "colorscale": [
             [
              0.0,
              "#0d0887"
             ],
             [
              0.1111111111111111,
              "#46039f"
             ],
             [
              0.2222222222222222,
              "#7201a8"
             ],
             [
              0.3333333333333333,
              "#9c179e"
             ],
             [
              0.4444444444444444,
              "#bd3786"
             ],
             [
              0.5555555555555556,
              "#d8576b"
             ],
             [
              0.6666666666666666,
              "#ed7953"
             ],
             [
              0.7777777777777778,
              "#fb9f3a"
             ],
             [
              0.8888888888888888,
              "#fdca26"
             ],
             [
              1.0,
              "#f0f921"
             ]
            ],
            "type": "histogram2dcontour"
           }
          ],
          "histogram2d": [
           {
            "colorbar": {
             "outlinewidth": 0,
             "ticks": ""
            },
            "colorscale": [
             [
              0.0,
              "#0d0887"
             ],
             [
              0.1111111111111111,
              "#46039f"
             ],
             [
              0.2222222222222222,
              "#7201a8"
             ],
             [
              0.3333333333333333,
              "#9c179e"
             ],
             [
              0.4444444444444444,
              "#bd3786"
             ],
             [
              0.5555555555555556,
              "#d8576b"
             ],
             [
              0.6666666666666666,
              "#ed7953"
             ],
             [
              0.7777777777777778,
              "#fb9f3a"
             ],
             [
              0.8888888888888888,
              "#fdca26"
             ],
             [
              1.0,
              "#f0f921"
             ]
            ],
            "type": "histogram2d"
           }
          ],
          "histogram": [
           {
            "marker": {
             "pattern": {
              "fillmode": "overlay",
              "size": 10,
              "solidity": 0.2
             }
            },
            "type": "histogram"
           }
          ],
          "mesh3d": [
           {
            "colorbar": {
             "outlinewidth": 0,
             "ticks": ""
            },
            "type": "mesh3d"
           }
          ],
          "parcoords": [
           {
            "line": {
             "colorbar": {
              "outlinewidth": 0,
              "ticks": ""
             }
            },
            "type": "parcoords"
           }
          ],
          "pie": [
           {
            "automargin": true,
            "type": "pie"
           }
          ],
          "scatter3d": [
           {
            "line": {
             "colorbar": {
              "outlinewidth": 0,
              "ticks": ""
             }
            },
            "marker": {
             "colorbar": {
              "outlinewidth": 0,
              "ticks": ""
             }
            },
            "type": "scatter3d"
           }
          ],
          "scattercarpet": [
           {
            "marker": {
             "colorbar": {
              "outlinewidth": 0,
              "ticks": ""
             }
            },
            "type": "scattercarpet"
           }
          ],
          "scattergeo": [
           {
            "marker": {
             "colorbar": {
              "outlinewidth": 0,
              "ticks": ""
             }
            },
            "type": "scattergeo"
           }
          ],
          "scattergl": [
           {
            "marker": {
             "colorbar": {
              "outlinewidth": 0,
              "ticks": ""
             }
            },
            "type": "scattergl"
           }
          ],
          "scattermapbox": [
           {
            "marker": {
             "colorbar": {
              "outlinewidth": 0,
              "ticks": ""
             }
            },
            "type": "scattermapbox"
           }
          ],
          "scatterpolargl": [
           {
            "marker": {
             "colorbar": {
              "outlinewidth": 0,
              "ticks": ""
             }
            },
            "type": "scatterpolargl"
           }
          ],
          "scatterpolar": [
           {
            "marker": {
             "colorbar": {
              "outlinewidth": 0,
              "ticks": ""
             }
            },
            "type": "scatterpolar"
           }
          ],
          "scatter": [
           {
            "fillpattern": {
             "fillmode": "overlay",
             "size": 10,
             "solidity": 0.2
            },
            "type": "scatter"
           }
          ],
          "scatterternary": [
           {
            "marker": {
             "colorbar": {
              "outlinewidth": 0,
              "ticks": ""
             }
            },
            "type": "scatterternary"
           }
          ],
          "surface": [
           {
            "colorbar": {
             "outlinewidth": 0,
             "ticks": ""
            },
            "colorscale": [
             [
              0.0,
              "#0d0887"
             ],
             [
              0.1111111111111111,
              "#46039f"
             ],
             [
              0.2222222222222222,
              "#7201a8"
             ],
             [
              0.3333333333333333,
              "#9c179e"
             ],
             [
              0.4444444444444444,
              "#bd3786"
             ],
             [
              0.5555555555555556,
              "#d8576b"
             ],
             [
              0.6666666666666666,
              "#ed7953"
             ],
             [
              0.7777777777777778,
              "#fb9f3a"
             ],
             [
              0.8888888888888888,
              "#fdca26"
             ],
             [
              1.0,
              "#f0f921"
             ]
            ],
            "type": "surface"
           }
          ],
          "table": [
           {
            "cells": {
             "fill": {
              "color": "#EBF0F8"
             },
             "line": {
              "color": "white"
             }
            },
            "header": {
             "fill": {
              "color": "#C8D4E3"
             },
             "line": {
              "color": "white"
             }
            },
            "type": "table"
           }
          ]
         },
         "layout": {
          "annotationdefaults": {
           "arrowcolor": "#2a3f5f",
           "arrowhead": 0,
           "arrowwidth": 1
          },
          "autotypenumbers": "strict",
          "coloraxis": {
           "colorbar": {
            "outlinewidth": 0,
            "ticks": ""
           }
          },
          "colorscale": {
           "diverging": [
            [
             0,
             "#8e0152"
            ],
            [
             0.1,
             "#c51b7d"
            ],
            [
             0.2,
             "#de77ae"
            ],
            [
             0.3,
             "#f1b6da"
            ],
            [
             0.4,
             "#fde0ef"
            ],
            [
             0.5,
             "#f7f7f7"
            ],
            [
             0.6,
             "#e6f5d0"
            ],
            [
             0.7,
             "#b8e186"
            ],
            [
             0.8,
             "#7fbc41"
            ],
            [
             0.9,
             "#4d9221"
            ],
            [
             1,
             "#276419"
            ]
           ],
           "sequential": [
            [
             0.0,
             "#0d0887"
            ],
            [
             0.1111111111111111,
             "#46039f"
            ],
            [
             0.2222222222222222,
             "#7201a8"
            ],
            [
             0.3333333333333333,
             "#9c179e"
            ],
            [
             0.4444444444444444,
             "#bd3786"
            ],
            [
             0.5555555555555556,
             "#d8576b"
            ],
            [
             0.6666666666666666,
             "#ed7953"
            ],
            [
             0.7777777777777778,
             "#fb9f3a"
            ],
            [
             0.8888888888888888,
             "#fdca26"
            ],
            [
             1.0,
             "#f0f921"
            ]
           ],
           "sequentialminus": [
            [
             0.0,
             "#0d0887"
            ],
            [
             0.1111111111111111,
             "#46039f"
            ],
            [
             0.2222222222222222,
             "#7201a8"
            ],
            [
             0.3333333333333333,
             "#9c179e"
            ],
            [
             0.4444444444444444,
             "#bd3786"
            ],
            [
             0.5555555555555556,
             "#d8576b"
            ],
            [
             0.6666666666666666,
             "#ed7953"
            ],
            [
             0.7777777777777778,
             "#fb9f3a"
            ],
            [
             0.8888888888888888,
             "#fdca26"
            ],
            [
             1.0,
             "#f0f921"
            ]
           ]
          },
          "colorway": [
           "#636efa",
           "#EF553B",
           "#00cc96",
           "#ab63fa",
           "#FFA15A",
           "#19d3f3",
           "#FF6692",
           "#B6E880",
           "#FF97FF",
           "#FECB52"
          ],
          "font": {
           "color": "#2a3f5f"
          },
          "geo": {
           "bgcolor": "white",
           "lakecolor": "white",
           "landcolor": "white",
           "showlakes": true,
           "showland": true,
           "subunitcolor": "#C8D4E3"
          },
          "hoverlabel": {
           "align": "left"
          },
          "hovermode": "closest",
          "mapbox": {
           "style": "light"
          },
          "paper_bgcolor": "white",
          "plot_bgcolor": "white",
          "polar": {
           "angularaxis": {
            "gridcolor": "#EBF0F8",
            "linecolor": "#EBF0F8",
            "ticks": ""
           },
           "bgcolor": "white",
           "radialaxis": {
            "gridcolor": "#EBF0F8",
            "linecolor": "#EBF0F8",
            "ticks": ""
           }
          },
          "scene": {
           "xaxis": {
            "backgroundcolor": "white",
            "gridcolor": "#DFE8F3",
            "gridwidth": 2,
            "linecolor": "#EBF0F8",
            "showbackground": true,
            "ticks": "",
            "zerolinecolor": "#EBF0F8"
           },
           "yaxis": {
            "backgroundcolor": "white",
            "gridcolor": "#DFE8F3",
            "gridwidth": 2,
            "linecolor": "#EBF0F8",
            "showbackground": true,
            "ticks": "",
            "zerolinecolor": "#EBF0F8"
           },
           "zaxis": {
            "backgroundcolor": "white",
            "gridcolor": "#DFE8F3",
            "gridwidth": 2,
            "linecolor": "#EBF0F8",
            "showbackground": true,
            "ticks": "",
            "zerolinecolor": "#EBF0F8"
           }
          },
          "shapedefaults": {
           "line": {
            "color": "#2a3f5f"
           }
          },
          "ternary": {
           "aaxis": {
            "gridcolor": "#DFE8F3",
            "linecolor": "#A2B1C6",
            "ticks": ""
           },
           "baxis": {
            "gridcolor": "#DFE8F3",
            "linecolor": "#A2B1C6",
            "ticks": ""
           },
           "bgcolor": "white",
           "caxis": {
            "gridcolor": "#DFE8F3",
            "linecolor": "#A2B1C6",
            "ticks": ""
           }
          },
          "title": {
           "x": 0.05
          },
          "xaxis": {
           "automargin": true,
           "gridcolor": "#EBF0F8",
           "linecolor": "#EBF0F8",
           "ticks": "",
           "title": {
            "standoff": 15
           },
           "zerolinecolor": "#EBF0F8",
           "zerolinewidth": 2
          },
          "yaxis": {
           "automargin": true,
           "gridcolor": "#EBF0F8",
           "linecolor": "#EBF0F8",
           "ticks": "",
           "title": {
            "standoff": 15
           },
           "zerolinecolor": "#EBF0F8",
           "zerolinewidth": 2
          }
         }
        },
        "xaxis": {
         "title": {
          "font": {
           "weight": "bold",
           "color": "black"
          }
         },
         "tickangle": 90,
         "tickfont": {
          "family": "Arial",
          "size": 13,
          "color": "black",
          "weight": "bold"
         }
        },
        "height": 900,
        "width": 800,
        "yaxis": {
         "tickfont": {
          "family": "Arial",
          "size": 13,
          "color": "black",
          "weight": "bold"
         }
        },
        "shapes": [
         {
          "line": {
           "color": "black",
           "width": 1.5
          },
          "type": "line",
          "x0": -0.5,
          "x1": -0.5,
          "y0": -0.5,
          "y1": 6.5
         },
         {
          "line": {
           "color": "black",
           "width": 3
          },
          "type": "line",
          "x0": -0.5,
          "x1": 5.5,
          "y0": 0.5,
          "y1": 0.5
         },
         {
          "line": {
           "color": "black",
           "width": 1.5
          },
          "type": "line",
          "x0": 0.5,
          "x1": 0.5,
          "y0": -0.5,
          "y1": 6.5
         },
         {
          "line": {
           "color": "black",
           "width": 3
          },
          "type": "line",
          "x0": -0.5,
          "x1": 5.5,
          "y0": 0.5,
          "y1": 0.5
         },
         {
          "line": {
           "color": "black",
           "width": 1.5
          },
          "type": "line",
          "x0": 1.5,
          "x1": 1.5,
          "y0": -0.5,
          "y1": 6.5
         },
         {
          "line": {
           "color": "black",
           "width": 3
          },
          "type": "line",
          "x0": -0.5,
          "x1": 5.5,
          "y0": 0.5,
          "y1": 0.5
         },
         {
          "line": {
           "color": "black",
           "width": 1.5
          },
          "type": "line",
          "x0": 2.5,
          "x1": 2.5,
          "y0": -0.5,
          "y1": 6.5
         },
         {
          "line": {
           "color": "black",
           "width": 3
          },
          "type": "line",
          "x0": -0.5,
          "x1": 5.5,
          "y0": 0.5,
          "y1": 0.5
         },
         {
          "line": {
           "color": "black",
           "width": 1.5
          },
          "type": "line",
          "x0": 3.5,
          "x1": 3.5,
          "y0": -0.5,
          "y1": 6.5
         },
         {
          "line": {
           "color": "black",
           "width": 3
          },
          "type": "line",
          "x0": -0.5,
          "x1": 5.5,
          "y0": 0.5,
          "y1": 0.5
         },
         {
          "line": {
           "color": "black",
           "width": 3
          },
          "type": "line",
          "x0": 4.5,
          "x1": 4.5,
          "y0": -0.5,
          "y1": 6.5
         },
         {
          "line": {
           "color": "black",
           "width": 3
          },
          "type": "line",
          "x0": -0.5,
          "x1": 5.5,
          "y0": 0.5,
          "y1": 0.5
         },
         {
          "line": {
           "color": "black",
           "width": 1.5
          },
          "type": "line",
          "x0": 5.5,
          "x1": 5.5,
          "y0": -0.5,
          "y1": 6.5
         },
         {
          "line": {
           "color": "black",
           "width": 3
          },
          "type": "line",
          "x0": -0.5,
          "x1": 5.5,
          "y0": 0.5,
          "y1": 0.5
         }
        ],
        "margin": {
         "b": 180
        }
       },
       "config": {
        "plotlyServerURL": "https://plot.ly"
       }
      },
      "text/html": [
       "<div>                            <div id=\"8ad5edc8-da60-4b59-8637-9a955998ff31\" class=\"plotly-graph-div\" style=\"height:900px; width:800px;\"></div>            <script type=\"text/javascript\">                require([\"plotly\"], function(Plotly) {                    window.PLOTLYENV=window.PLOTLYENV || {};                                    if (document.getElementById(\"8ad5edc8-da60-4b59-8637-9a955998ff31\")) {                    Plotly.newPlot(                        \"8ad5edc8-da60-4b59-8637-9a955998ff31\",                        [{\"colorbar\":{\"tickformat\":\".0%\"},\"colorscale\":[[0.0,\"#fcffa4\"],[0.1111111111111111,\"#f7d13d\"],[0.2222222222222222,\"#fb9b06\"],[0.3333333333333333,\"#ed6925\"],[0.4444444444444444,\"#cf4446\"],[0.5555555555555556,\"#a52c60\"],[0.6666666666666666,\"#781c6d\"],[0.7777777777777778,\"#4a0c6b\"],[0.8888888888888888,\"#1b0c41\"],[1.0,\"#000004\"]],\"texttemplate\":\"%{z:.0%}\",\"x\":[[\" \",\"  \",\"   \",\"    \",\"     \",\"\\u2062\"],[\"Description\",\"Diagnosis\",\"Discovery\",\"Prediction\",\"Prescription\",\"Average\"]],\"xgap\":2,\"y\":[\"Average \",\"General \",\"Finance \",\"Productivity \",\"Wellbeing \",\"Learning \",\"Sustainability \"],\"ygap\":2,\"z\":[[0.28528383381324557,0.02492877492877493,0.09633514633514634,0.06802641802641803,0.19553872053872054,0.13402257872846107],[0.03636363636363636,0.0,0.01818181818181818,0.03636363636363636,0.14545454545454545,0.04727272727272727],[0.0,0.0,0.0,0.0,0.0,0.0],[0.11764705882352941,0.0,0.0,0.0,0.0,0.023529411764705882],[0.5576923076923077,0.038461538461538464,0.11538461538461539,0.038461538461538464,0.25,0.2],[0.3333333333333333,0.0,0.1111111111111111,0.2222222222222222,0.3333333333333333,0.2],[0.6666666666666666,0.1111111111111111,0.3333333333333333,0.1111111111111111,0.4444444444444444,0.3333333333333333]],\"zmax\":1,\"zmin\":0,\"type\":\"heatmap\"}],                        {\"template\":{\"data\":{\"barpolar\":[{\"marker\":{\"line\":{\"color\":\"white\",\"width\":0.5},\"pattern\":{\"fillmode\":\"overlay\",\"size\":10,\"solidity\":0.2}},\"type\":\"barpolar\"}],\"bar\":[{\"error_x\":{\"color\":\"#2a3f5f\"},\"error_y\":{\"color\":\"#2a3f5f\"},\"marker\":{\"line\":{\"color\":\"white\",\"width\":0.5},\"pattern\":{\"fillmode\":\"overlay\",\"size\":10,\"solidity\":0.2}},\"type\":\"bar\"}],\"carpet\":[{\"aaxis\":{\"endlinecolor\":\"#2a3f5f\",\"gridcolor\":\"#C8D4E3\",\"linecolor\":\"#C8D4E3\",\"minorgridcolor\":\"#C8D4E3\",\"startlinecolor\":\"#2a3f5f\"},\"baxis\":{\"endlinecolor\":\"#2a3f5f\",\"gridcolor\":\"#C8D4E3\",\"linecolor\":\"#C8D4E3\",\"minorgridcolor\":\"#C8D4E3\",\"startlinecolor\":\"#2a3f5f\"},\"type\":\"carpet\"}],\"choropleth\":[{\"colorbar\":{\"outlinewidth\":0,\"ticks\":\"\"},\"type\":\"choropleth\"}],\"contourcarpet\":[{\"colorbar\":{\"outlinewidth\":0,\"ticks\":\"\"},\"type\":\"contourcarpet\"}],\"contour\":[{\"colorbar\":{\"outlinewidth\":0,\"ticks\":\"\"},\"colorscale\":[[0.0,\"#0d0887\"],[0.1111111111111111,\"#46039f\"],[0.2222222222222222,\"#7201a8\"],[0.3333333333333333,\"#9c179e\"],[0.4444444444444444,\"#bd3786\"],[0.5555555555555556,\"#d8576b\"],[0.6666666666666666,\"#ed7953\"],[0.7777777777777778,\"#fb9f3a\"],[0.8888888888888888,\"#fdca26\"],[1.0,\"#f0f921\"]],\"type\":\"contour\"}],\"heatmapgl\":[{\"colorbar\":{\"outlinewidth\":0,\"ticks\":\"\"},\"colorscale\":[[0.0,\"#0d0887\"],[0.1111111111111111,\"#46039f\"],[0.2222222222222222,\"#7201a8\"],[0.3333333333333333,\"#9c179e\"],[0.4444444444444444,\"#bd3786\"],[0.5555555555555556,\"#d8576b\"],[0.6666666666666666,\"#ed7953\"],[0.7777777777777778,\"#fb9f3a\"],[0.8888888888888888,\"#fdca26\"],[1.0,\"#f0f921\"]],\"type\":\"heatmapgl\"}],\"heatmap\":[{\"colorbar\":{\"outlinewidth\":0,\"ticks\":\"\"},\"colorscale\":[[0.0,\"#0d0887\"],[0.1111111111111111,\"#46039f\"],[0.2222222222222222,\"#7201a8\"],[0.3333333333333333,\"#9c179e\"],[0.4444444444444444,\"#bd3786\"],[0.5555555555555556,\"#d8576b\"],[0.6666666666666666,\"#ed7953\"],[0.7777777777777778,\"#fb9f3a\"],[0.8888888888888888,\"#fdca26\"],[1.0,\"#f0f921\"]],\"type\":\"heatmap\"}],\"histogram2dcontour\":[{\"colorbar\":{\"outlinewidth\":0,\"ticks\":\"\"},\"colorscale\":[[0.0,\"#0d0887\"],[0.1111111111111111,\"#46039f\"],[0.2222222222222222,\"#7201a8\"],[0.3333333333333333,\"#9c179e\"],[0.4444444444444444,\"#bd3786\"],[0.5555555555555556,\"#d8576b\"],[0.6666666666666666,\"#ed7953\"],[0.7777777777777778,\"#fb9f3a\"],[0.8888888888888888,\"#fdca26\"],[1.0,\"#f0f921\"]],\"type\":\"histogram2dcontour\"}],\"histogram2d\":[{\"colorbar\":{\"outlinewidth\":0,\"ticks\":\"\"},\"colorscale\":[[0.0,\"#0d0887\"],[0.1111111111111111,\"#46039f\"],[0.2222222222222222,\"#7201a8\"],[0.3333333333333333,\"#9c179e\"],[0.4444444444444444,\"#bd3786\"],[0.5555555555555556,\"#d8576b\"],[0.6666666666666666,\"#ed7953\"],[0.7777777777777778,\"#fb9f3a\"],[0.8888888888888888,\"#fdca26\"],[1.0,\"#f0f921\"]],\"type\":\"histogram2d\"}],\"histogram\":[{\"marker\":{\"pattern\":{\"fillmode\":\"overlay\",\"size\":10,\"solidity\":0.2}},\"type\":\"histogram\"}],\"mesh3d\":[{\"colorbar\":{\"outlinewidth\":0,\"ticks\":\"\"},\"type\":\"mesh3d\"}],\"parcoords\":[{\"line\":{\"colorbar\":{\"outlinewidth\":0,\"ticks\":\"\"}},\"type\":\"parcoords\"}],\"pie\":[{\"automargin\":true,\"type\":\"pie\"}],\"scatter3d\":[{\"line\":{\"colorbar\":{\"outlinewidth\":0,\"ticks\":\"\"}},\"marker\":{\"colorbar\":{\"outlinewidth\":0,\"ticks\":\"\"}},\"type\":\"scatter3d\"}],\"scattercarpet\":[{\"marker\":{\"colorbar\":{\"outlinewidth\":0,\"ticks\":\"\"}},\"type\":\"scattercarpet\"}],\"scattergeo\":[{\"marker\":{\"colorbar\":{\"outlinewidth\":0,\"ticks\":\"\"}},\"type\":\"scattergeo\"}],\"scattergl\":[{\"marker\":{\"colorbar\":{\"outlinewidth\":0,\"ticks\":\"\"}},\"type\":\"scattergl\"}],\"scattermapbox\":[{\"marker\":{\"colorbar\":{\"outlinewidth\":0,\"ticks\":\"\"}},\"type\":\"scattermapbox\"}],\"scatterpolargl\":[{\"marker\":{\"colorbar\":{\"outlinewidth\":0,\"ticks\":\"\"}},\"type\":\"scatterpolargl\"}],\"scatterpolar\":[{\"marker\":{\"colorbar\":{\"outlinewidth\":0,\"ticks\":\"\"}},\"type\":\"scatterpolar\"}],\"scatter\":[{\"fillpattern\":{\"fillmode\":\"overlay\",\"size\":10,\"solidity\":0.2},\"type\":\"scatter\"}],\"scatterternary\":[{\"marker\":{\"colorbar\":{\"outlinewidth\":0,\"ticks\":\"\"}},\"type\":\"scatterternary\"}],\"surface\":[{\"colorbar\":{\"outlinewidth\":0,\"ticks\":\"\"},\"colorscale\":[[0.0,\"#0d0887\"],[0.1111111111111111,\"#46039f\"],[0.2222222222222222,\"#7201a8\"],[0.3333333333333333,\"#9c179e\"],[0.4444444444444444,\"#bd3786\"],[0.5555555555555556,\"#d8576b\"],[0.6666666666666666,\"#ed7953\"],[0.7777777777777778,\"#fb9f3a\"],[0.8888888888888888,\"#fdca26\"],[1.0,\"#f0f921\"]],\"type\":\"surface\"}],\"table\":[{\"cells\":{\"fill\":{\"color\":\"#EBF0F8\"},\"line\":{\"color\":\"white\"}},\"header\":{\"fill\":{\"color\":\"#C8D4E3\"},\"line\":{\"color\":\"white\"}},\"type\":\"table\"}]},\"layout\":{\"annotationdefaults\":{\"arrowcolor\":\"#2a3f5f\",\"arrowhead\":0,\"arrowwidth\":1},\"autotypenumbers\":\"strict\",\"coloraxis\":{\"colorbar\":{\"outlinewidth\":0,\"ticks\":\"\"}},\"colorscale\":{\"diverging\":[[0,\"#8e0152\"],[0.1,\"#c51b7d\"],[0.2,\"#de77ae\"],[0.3,\"#f1b6da\"],[0.4,\"#fde0ef\"],[0.5,\"#f7f7f7\"],[0.6,\"#e6f5d0\"],[0.7,\"#b8e186\"],[0.8,\"#7fbc41\"],[0.9,\"#4d9221\"],[1,\"#276419\"]],\"sequential\":[[0.0,\"#0d0887\"],[0.1111111111111111,\"#46039f\"],[0.2222222222222222,\"#7201a8\"],[0.3333333333333333,\"#9c179e\"],[0.4444444444444444,\"#bd3786\"],[0.5555555555555556,\"#d8576b\"],[0.6666666666666666,\"#ed7953\"],[0.7777777777777778,\"#fb9f3a\"],[0.8888888888888888,\"#fdca26\"],[1.0,\"#f0f921\"]],\"sequentialminus\":[[0.0,\"#0d0887\"],[0.1111111111111111,\"#46039f\"],[0.2222222222222222,\"#7201a8\"],[0.3333333333333333,\"#9c179e\"],[0.4444444444444444,\"#bd3786\"],[0.5555555555555556,\"#d8576b\"],[0.6666666666666666,\"#ed7953\"],[0.7777777777777778,\"#fb9f3a\"],[0.8888888888888888,\"#fdca26\"],[1.0,\"#f0f921\"]]},\"colorway\":[\"#636efa\",\"#EF553B\",\"#00cc96\",\"#ab63fa\",\"#FFA15A\",\"#19d3f3\",\"#FF6692\",\"#B6E880\",\"#FF97FF\",\"#FECB52\"],\"font\":{\"color\":\"#2a3f5f\"},\"geo\":{\"bgcolor\":\"white\",\"lakecolor\":\"white\",\"landcolor\":\"white\",\"showlakes\":true,\"showland\":true,\"subunitcolor\":\"#C8D4E3\"},\"hoverlabel\":{\"align\":\"left\"},\"hovermode\":\"closest\",\"mapbox\":{\"style\":\"light\"},\"paper_bgcolor\":\"white\",\"plot_bgcolor\":\"white\",\"polar\":{\"angularaxis\":{\"gridcolor\":\"#EBF0F8\",\"linecolor\":\"#EBF0F8\",\"ticks\":\"\"},\"bgcolor\":\"white\",\"radialaxis\":{\"gridcolor\":\"#EBF0F8\",\"linecolor\":\"#EBF0F8\",\"ticks\":\"\"}},\"scene\":{\"xaxis\":{\"backgroundcolor\":\"white\",\"gridcolor\":\"#DFE8F3\",\"gridwidth\":2,\"linecolor\":\"#EBF0F8\",\"showbackground\":true,\"ticks\":\"\",\"zerolinecolor\":\"#EBF0F8\"},\"yaxis\":{\"backgroundcolor\":\"white\",\"gridcolor\":\"#DFE8F3\",\"gridwidth\":2,\"linecolor\":\"#EBF0F8\",\"showbackground\":true,\"ticks\":\"\",\"zerolinecolor\":\"#EBF0F8\"},\"zaxis\":{\"backgroundcolor\":\"white\",\"gridcolor\":\"#DFE8F3\",\"gridwidth\":2,\"linecolor\":\"#EBF0F8\",\"showbackground\":true,\"ticks\":\"\",\"zerolinecolor\":\"#EBF0F8\"}},\"shapedefaults\":{\"line\":{\"color\":\"#2a3f5f\"}},\"ternary\":{\"aaxis\":{\"gridcolor\":\"#DFE8F3\",\"linecolor\":\"#A2B1C6\",\"ticks\":\"\"},\"baxis\":{\"gridcolor\":\"#DFE8F3\",\"linecolor\":\"#A2B1C6\",\"ticks\":\"\"},\"bgcolor\":\"white\",\"caxis\":{\"gridcolor\":\"#DFE8F3\",\"linecolor\":\"#A2B1C6\",\"ticks\":\"\"}},\"title\":{\"x\":0.05},\"xaxis\":{\"automargin\":true,\"gridcolor\":\"#EBF0F8\",\"linecolor\":\"#EBF0F8\",\"ticks\":\"\",\"title\":{\"standoff\":15},\"zerolinecolor\":\"#EBF0F8\",\"zerolinewidth\":2},\"yaxis\":{\"automargin\":true,\"gridcolor\":\"#EBF0F8\",\"linecolor\":\"#EBF0F8\",\"ticks\":\"\",\"title\":{\"standoff\":15},\"zerolinecolor\":\"#EBF0F8\",\"zerolinewidth\":2}}},\"xaxis\":{\"title\":{\"font\":{\"weight\":\"bold\",\"color\":\"black\"}},\"tickangle\":90,\"tickfont\":{\"family\":\"Arial\",\"size\":13,\"color\":\"black\",\"weight\":\"bold\"}},\"height\":900,\"width\":800,\"yaxis\":{\"tickfont\":{\"family\":\"Arial\",\"size\":13,\"color\":\"black\",\"weight\":\"bold\"}},\"shapes\":[{\"line\":{\"color\":\"black\",\"width\":1.5},\"type\":\"line\",\"x0\":-0.5,\"x1\":-0.5,\"y0\":-0.5,\"y1\":6.5},{\"line\":{\"color\":\"black\",\"width\":3},\"type\":\"line\",\"x0\":-0.5,\"x1\":5.5,\"y0\":0.5,\"y1\":0.5},{\"line\":{\"color\":\"black\",\"width\":1.5},\"type\":\"line\",\"x0\":0.5,\"x1\":0.5,\"y0\":-0.5,\"y1\":6.5},{\"line\":{\"color\":\"black\",\"width\":3},\"type\":\"line\",\"x0\":-0.5,\"x1\":5.5,\"y0\":0.5,\"y1\":0.5},{\"line\":{\"color\":\"black\",\"width\":1.5},\"type\":\"line\",\"x0\":1.5,\"x1\":1.5,\"y0\":-0.5,\"y1\":6.5},{\"line\":{\"color\":\"black\",\"width\":3},\"type\":\"line\",\"x0\":-0.5,\"x1\":5.5,\"y0\":0.5,\"y1\":0.5},{\"line\":{\"color\":\"black\",\"width\":1.5},\"type\":\"line\",\"x0\":2.5,\"x1\":2.5,\"y0\":-0.5,\"y1\":6.5},{\"line\":{\"color\":\"black\",\"width\":3},\"type\":\"line\",\"x0\":-0.5,\"x1\":5.5,\"y0\":0.5,\"y1\":0.5},{\"line\":{\"color\":\"black\",\"width\":1.5},\"type\":\"line\",\"x0\":3.5,\"x1\":3.5,\"y0\":-0.5,\"y1\":6.5},{\"line\":{\"color\":\"black\",\"width\":3},\"type\":\"line\",\"x0\":-0.5,\"x1\":5.5,\"y0\":0.5,\"y1\":0.5},{\"line\":{\"color\":\"black\",\"width\":3},\"type\":\"line\",\"x0\":4.5,\"x1\":4.5,\"y0\":-0.5,\"y1\":6.5},{\"line\":{\"color\":\"black\",\"width\":3},\"type\":\"line\",\"x0\":-0.5,\"x1\":5.5,\"y0\":0.5,\"y1\":0.5},{\"line\":{\"color\":\"black\",\"width\":1.5},\"type\":\"line\",\"x0\":5.5,\"x1\":5.5,\"y0\":-0.5,\"y1\":6.5},{\"line\":{\"color\":\"black\",\"width\":3},\"type\":\"line\",\"x0\":-0.5,\"x1\":5.5,\"y0\":0.5,\"y1\":0.5}],\"margin\":{\"b\":180}},                        {\"responsive\": true}                    ).then(function(){\n",
       "                            \n",
       "var gd = document.getElementById('8ad5edc8-da60-4b59-8637-9a955998ff31');\n",
       "var x = new MutationObserver(function (mutations, observer) {{\n",
       "        var display = window.getComputedStyle(gd).display;\n",
       "        if (!display || display === 'none') {{\n",
       "            console.log([gd, 'removed!']);\n",
       "            Plotly.purge(gd);\n",
       "            observer.disconnect();\n",
       "        }}\n",
       "}});\n",
       "\n",
       "// Listen for the removal of the full notebook cells\n",
       "var notebookContainer = gd.closest('#notebook-container');\n",
       "if (notebookContainer) {{\n",
       "    x.observe(notebookContainer, {childList: true});\n",
       "}}\n",
       "\n",
       "// Listen for the clearing of the current output cell\n",
       "var outputEl = gd.closest('.output');\n",
       "if (outputEl) {{\n",
       "    x.observe(outputEl, {childList: true});\n",
       "}}\n",
       "\n",
       "                        })                };                });            </script>        </div>"
      ]
     },
     "metadata": {},
     "output_type": "display_data"
    },
    {
     "data": {
      "application/vnd.plotly.v1+json": {
       "data": [
        {
         "colorbar": {
          "tickformat": ".0%"
         },
         "colorscale": [
          [
           0.0,
           "#fcffa4"
          ],
          [
           0.1111111111111111,
           "#f7d13d"
          ],
          [
           0.2222222222222222,
           "#fb9b06"
          ],
          [
           0.3333333333333333,
           "#ed6925"
          ],
          [
           0.4444444444444444,
           "#cf4446"
          ],
          [
           0.5555555555555556,
           "#a52c60"
          ],
          [
           0.6666666666666666,
           "#781c6d"
          ],
          [
           0.7777777777777778,
           "#4a0c6b"
          ],
          [
           0.8888888888888888,
           "#1b0c41"
          ],
          [
           1.0,
           "#000004"
          ]
         ],
         "texttemplate": "%{z:.0%}",
         "x": [
          [
           " ",
           "Diversification",
           "Diversification",
           "Enrichment",
           "Enrichment",
           "Derivation",
           "Derivation",
           "  ",
           "  ",
           "   "
          ],
          [
           "Integration",
           "Adaptation",
           "Recommendation",
           "Profile",
           "Context",
           "Interpretation of<br>User Behaviour",
           "Explanation of<br>System Behaviour",
           "Relation",
           "Interaction",
           "Average"
          ]
         ],
         "xgap": 2,
         "y": [
          "Average ",
          "General ",
          "Finance ",
          "Productivity ",
          "Wellbeing ",
          "Learning ",
          "Sustainability "
         ],
         "ygap": 2,
         "z": [
          [
           0.006060606060606061,
           0.024941724941724943,
           0.028321678321678322,
           0.31782090458561046,
           0.07461149961149961,
           0.043460243460243464,
           0.08387723387723388,
           0.0030303030303030303,
           0.00909090909090909,
           0.06569056699775654
          ],
          [
           0.03636363636363636,
           0.07272727272727272,
           0.05454545454545454,
           0.10909090909090909,
           0.01818181818181818,
           0.07272727272727272,
           0.05454545454545454,
           0.01818181818181818,
           0.05454545454545454,
           0.05454545454545454
          ],
          [
           0.0,
           0.0,
           0.0,
           0.14285714285714285,
           0.0,
           0.0,
           0.0,
           0.0,
           0.0,
           0.015873015873015872
          ],
          [
           0.0,
           0.0,
           0.0,
           0.058823529411764705,
           0.0,
           0.0,
           0.0,
           0.0,
           0.0,
           0.006535947712418301
          ],
          [
           0.0,
           0.07692307692307693,
           0.11538461538461539,
           0.5961538461538461,
           0.09615384615384616,
           0.07692307692307693,
           0.11538461538461539,
           0.0,
           0.0,
           0.11965811965811968
          ],
          [
           0.0,
           0.0,
           0.0,
           0.3333333333333333,
           0.1111111111111111,
           0.1111111111111111,
           0.2222222222222222,
           0.0,
           0.0,
           0.08641975308641975
          ],
          [
           0.0,
           0.0,
           0.0,
           0.6666666666666666,
           0.2222222222222222,
           0.0,
           0.1111111111111111,
           0.0,
           0.0,
           0.1111111111111111
          ]
         ],
         "zmax": 1,
         "zmin": 0,
         "type": "heatmap"
        }
       ],
       "layout": {
        "template": {
         "data": {
          "barpolar": [
           {
            "marker": {
             "line": {
              "color": "white",
              "width": 0.5
             },
             "pattern": {
              "fillmode": "overlay",
              "size": 10,
              "solidity": 0.2
             }
            },
            "type": "barpolar"
           }
          ],
          "bar": [
           {
            "error_x": {
             "color": "#2a3f5f"
            },
            "error_y": {
             "color": "#2a3f5f"
            },
            "marker": {
             "line": {
              "color": "white",
              "width": 0.5
             },
             "pattern": {
              "fillmode": "overlay",
              "size": 10,
              "solidity": 0.2
             }
            },
            "type": "bar"
           }
          ],
          "carpet": [
           {
            "aaxis": {
             "endlinecolor": "#2a3f5f",
             "gridcolor": "#C8D4E3",
             "linecolor": "#C8D4E3",
             "minorgridcolor": "#C8D4E3",
             "startlinecolor": "#2a3f5f"
            },
            "baxis": {
             "endlinecolor": "#2a3f5f",
             "gridcolor": "#C8D4E3",
             "linecolor": "#C8D4E3",
             "minorgridcolor": "#C8D4E3",
             "startlinecolor": "#2a3f5f"
            },
            "type": "carpet"
           }
          ],
          "choropleth": [
           {
            "colorbar": {
             "outlinewidth": 0,
             "ticks": ""
            },
            "type": "choropleth"
           }
          ],
          "contourcarpet": [
           {
            "colorbar": {
             "outlinewidth": 0,
             "ticks": ""
            },
            "type": "contourcarpet"
           }
          ],
          "contour": [
           {
            "colorbar": {
             "outlinewidth": 0,
             "ticks": ""
            },
            "colorscale": [
             [
              0.0,
              "#0d0887"
             ],
             [
              0.1111111111111111,
              "#46039f"
             ],
             [
              0.2222222222222222,
              "#7201a8"
             ],
             [
              0.3333333333333333,
              "#9c179e"
             ],
             [
              0.4444444444444444,
              "#bd3786"
             ],
             [
              0.5555555555555556,
              "#d8576b"
             ],
             [
              0.6666666666666666,
              "#ed7953"
             ],
             [
              0.7777777777777778,
              "#fb9f3a"
             ],
             [
              0.8888888888888888,
              "#fdca26"
             ],
             [
              1.0,
              "#f0f921"
             ]
            ],
            "type": "contour"
           }
          ],
          "heatmapgl": [
           {
            "colorbar": {
             "outlinewidth": 0,
             "ticks": ""
            },
            "colorscale": [
             [
              0.0,
              "#0d0887"
             ],
             [
              0.1111111111111111,
              "#46039f"
             ],
             [
              0.2222222222222222,
              "#7201a8"
             ],
             [
              0.3333333333333333,
              "#9c179e"
             ],
             [
              0.4444444444444444,
              "#bd3786"
             ],
             [
              0.5555555555555556,
              "#d8576b"
             ],
             [
              0.6666666666666666,
              "#ed7953"
             ],
             [
              0.7777777777777778,
              "#fb9f3a"
             ],
             [
              0.8888888888888888,
              "#fdca26"
             ],
             [
              1.0,
              "#f0f921"
             ]
            ],
            "type": "heatmapgl"
           }
          ],
          "heatmap": [
           {
            "colorbar": {
             "outlinewidth": 0,
             "ticks": ""
            },
            "colorscale": [
             [
              0.0,
              "#0d0887"
             ],
             [
              0.1111111111111111,
              "#46039f"
             ],
             [
              0.2222222222222222,
              "#7201a8"
             ],
             [
              0.3333333333333333,
              "#9c179e"
             ],
             [
              0.4444444444444444,
              "#bd3786"
             ],
             [
              0.5555555555555556,
              "#d8576b"
             ],
             [
              0.6666666666666666,
              "#ed7953"
             ],
             [
              0.7777777777777778,
              "#fb9f3a"
             ],
             [
              0.8888888888888888,
              "#fdca26"
             ],
             [
              1.0,
              "#f0f921"
             ]
            ],
            "type": "heatmap"
           }
          ],
          "histogram2dcontour": [
           {
            "colorbar": {
             "outlinewidth": 0,
             "ticks": ""
            },
            "colorscale": [
             [
              0.0,
              "#0d0887"
             ],
             [
              0.1111111111111111,
              "#46039f"
             ],
             [
              0.2222222222222222,
              "#7201a8"
             ],
             [
              0.3333333333333333,
              "#9c179e"
             ],
             [
              0.4444444444444444,
              "#bd3786"
             ],
             [
              0.5555555555555556,
              "#d8576b"
             ],
             [
              0.6666666666666666,
              "#ed7953"
             ],
             [
              0.7777777777777778,
              "#fb9f3a"
             ],
             [
              0.8888888888888888,
              "#fdca26"
             ],
             [
              1.0,
              "#f0f921"
             ]
            ],
            "type": "histogram2dcontour"
           }
          ],
          "histogram2d": [
           {
            "colorbar": {
             "outlinewidth": 0,
             "ticks": ""
            },
            "colorscale": [
             [
              0.0,
              "#0d0887"
             ],
             [
              0.1111111111111111,
              "#46039f"
             ],
             [
              0.2222222222222222,
              "#7201a8"
             ],
             [
              0.3333333333333333,
              "#9c179e"
             ],
             [
              0.4444444444444444,
              "#bd3786"
             ],
             [
              0.5555555555555556,
              "#d8576b"
             ],
             [
              0.6666666666666666,
              "#ed7953"
             ],
             [
              0.7777777777777778,
              "#fb9f3a"
             ],
             [
              0.8888888888888888,
              "#fdca26"
             ],
             [
              1.0,
              "#f0f921"
             ]
            ],
            "type": "histogram2d"
           }
          ],
          "histogram": [
           {
            "marker": {
             "pattern": {
              "fillmode": "overlay",
              "size": 10,
              "solidity": 0.2
             }
            },
            "type": "histogram"
           }
          ],
          "mesh3d": [
           {
            "colorbar": {
             "outlinewidth": 0,
             "ticks": ""
            },
            "type": "mesh3d"
           }
          ],
          "parcoords": [
           {
            "line": {
             "colorbar": {
              "outlinewidth": 0,
              "ticks": ""
             }
            },
            "type": "parcoords"
           }
          ],
          "pie": [
           {
            "automargin": true,
            "type": "pie"
           }
          ],
          "scatter3d": [
           {
            "line": {
             "colorbar": {
              "outlinewidth": 0,
              "ticks": ""
             }
            },
            "marker": {
             "colorbar": {
              "outlinewidth": 0,
              "ticks": ""
             }
            },
            "type": "scatter3d"
           }
          ],
          "scattercarpet": [
           {
            "marker": {
             "colorbar": {
              "outlinewidth": 0,
              "ticks": ""
             }
            },
            "type": "scattercarpet"
           }
          ],
          "scattergeo": [
           {
            "marker": {
             "colorbar": {
              "outlinewidth": 0,
              "ticks": ""
             }
            },
            "type": "scattergeo"
           }
          ],
          "scattergl": [
           {
            "marker": {
             "colorbar": {
              "outlinewidth": 0,
              "ticks": ""
             }
            },
            "type": "scattergl"
           }
          ],
          "scattermapbox": [
           {
            "marker": {
             "colorbar": {
              "outlinewidth": 0,
              "ticks": ""
             }
            },
            "type": "scattermapbox"
           }
          ],
          "scatterpolargl": [
           {
            "marker": {
             "colorbar": {
              "outlinewidth": 0,
              "ticks": ""
             }
            },
            "type": "scatterpolargl"
           }
          ],
          "scatterpolar": [
           {
            "marker": {
             "colorbar": {
              "outlinewidth": 0,
              "ticks": ""
             }
            },
            "type": "scatterpolar"
           }
          ],
          "scatter": [
           {
            "fillpattern": {
             "fillmode": "overlay",
             "size": 10,
             "solidity": 0.2
            },
            "type": "scatter"
           }
          ],
          "scatterternary": [
           {
            "marker": {
             "colorbar": {
              "outlinewidth": 0,
              "ticks": ""
             }
            },
            "type": "scatterternary"
           }
          ],
          "surface": [
           {
            "colorbar": {
             "outlinewidth": 0,
             "ticks": ""
            },
            "colorscale": [
             [
              0.0,
              "#0d0887"
             ],
             [
              0.1111111111111111,
              "#46039f"
             ],
             [
              0.2222222222222222,
              "#7201a8"
             ],
             [
              0.3333333333333333,
              "#9c179e"
             ],
             [
              0.4444444444444444,
              "#bd3786"
             ],
             [
              0.5555555555555556,
              "#d8576b"
             ],
             [
              0.6666666666666666,
              "#ed7953"
             ],
             [
              0.7777777777777778,
              "#fb9f3a"
             ],
             [
              0.8888888888888888,
              "#fdca26"
             ],
             [
              1.0,
              "#f0f921"
             ]
            ],
            "type": "surface"
           }
          ],
          "table": [
           {
            "cells": {
             "fill": {
              "color": "#EBF0F8"
             },
             "line": {
              "color": "white"
             }
            },
            "header": {
             "fill": {
              "color": "#C8D4E3"
             },
             "line": {
              "color": "white"
             }
            },
            "type": "table"
           }
          ]
         },
         "layout": {
          "annotationdefaults": {
           "arrowcolor": "#2a3f5f",
           "arrowhead": 0,
           "arrowwidth": 1
          },
          "autotypenumbers": "strict",
          "coloraxis": {
           "colorbar": {
            "outlinewidth": 0,
            "ticks": ""
           }
          },
          "colorscale": {
           "diverging": [
            [
             0,
             "#8e0152"
            ],
            [
             0.1,
             "#c51b7d"
            ],
            [
             0.2,
             "#de77ae"
            ],
            [
             0.3,
             "#f1b6da"
            ],
            [
             0.4,
             "#fde0ef"
            ],
            [
             0.5,
             "#f7f7f7"
            ],
            [
             0.6,
             "#e6f5d0"
            ],
            [
             0.7,
             "#b8e186"
            ],
            [
             0.8,
             "#7fbc41"
            ],
            [
             0.9,
             "#4d9221"
            ],
            [
             1,
             "#276419"
            ]
           ],
           "sequential": [
            [
             0.0,
             "#0d0887"
            ],
            [
             0.1111111111111111,
             "#46039f"
            ],
            [
             0.2222222222222222,
             "#7201a8"
            ],
            [
             0.3333333333333333,
             "#9c179e"
            ],
            [
             0.4444444444444444,
             "#bd3786"
            ],
            [
             0.5555555555555556,
             "#d8576b"
            ],
            [
             0.6666666666666666,
             "#ed7953"
            ],
            [
             0.7777777777777778,
             "#fb9f3a"
            ],
            [
             0.8888888888888888,
             "#fdca26"
            ],
            [
             1.0,
             "#f0f921"
            ]
           ],
           "sequentialminus": [
            [
             0.0,
             "#0d0887"
            ],
            [
             0.1111111111111111,
             "#46039f"
            ],
            [
             0.2222222222222222,
             "#7201a8"
            ],
            [
             0.3333333333333333,
             "#9c179e"
            ],
            [
             0.4444444444444444,
             "#bd3786"
            ],
            [
             0.5555555555555556,
             "#d8576b"
            ],
            [
             0.6666666666666666,
             "#ed7953"
            ],
            [
             0.7777777777777778,
             "#fb9f3a"
            ],
            [
             0.8888888888888888,
             "#fdca26"
            ],
            [
             1.0,
             "#f0f921"
            ]
           ]
          },
          "colorway": [
           "#636efa",
           "#EF553B",
           "#00cc96",
           "#ab63fa",
           "#FFA15A",
           "#19d3f3",
           "#FF6692",
           "#B6E880",
           "#FF97FF",
           "#FECB52"
          ],
          "font": {
           "color": "#2a3f5f"
          },
          "geo": {
           "bgcolor": "white",
           "lakecolor": "white",
           "landcolor": "white",
           "showlakes": true,
           "showland": true,
           "subunitcolor": "#C8D4E3"
          },
          "hoverlabel": {
           "align": "left"
          },
          "hovermode": "closest",
          "mapbox": {
           "style": "light"
          },
          "paper_bgcolor": "white",
          "plot_bgcolor": "white",
          "polar": {
           "angularaxis": {
            "gridcolor": "#EBF0F8",
            "linecolor": "#EBF0F8",
            "ticks": ""
           },
           "bgcolor": "white",
           "radialaxis": {
            "gridcolor": "#EBF0F8",
            "linecolor": "#EBF0F8",
            "ticks": ""
           }
          },
          "scene": {
           "xaxis": {
            "backgroundcolor": "white",
            "gridcolor": "#DFE8F3",
            "gridwidth": 2,
            "linecolor": "#EBF0F8",
            "showbackground": true,
            "ticks": "",
            "zerolinecolor": "#EBF0F8"
           },
           "yaxis": {
            "backgroundcolor": "white",
            "gridcolor": "#DFE8F3",
            "gridwidth": 2,
            "linecolor": "#EBF0F8",
            "showbackground": true,
            "ticks": "",
            "zerolinecolor": "#EBF0F8"
           },
           "zaxis": {
            "backgroundcolor": "white",
            "gridcolor": "#DFE8F3",
            "gridwidth": 2,
            "linecolor": "#EBF0F8",
            "showbackground": true,
            "ticks": "",
            "zerolinecolor": "#EBF0F8"
           }
          },
          "shapedefaults": {
           "line": {
            "color": "#2a3f5f"
           }
          },
          "ternary": {
           "aaxis": {
            "gridcolor": "#DFE8F3",
            "linecolor": "#A2B1C6",
            "ticks": ""
           },
           "baxis": {
            "gridcolor": "#DFE8F3",
            "linecolor": "#A2B1C6",
            "ticks": ""
           },
           "bgcolor": "white",
           "caxis": {
            "gridcolor": "#DFE8F3",
            "linecolor": "#A2B1C6",
            "ticks": ""
           }
          },
          "title": {
           "x": 0.05
          },
          "xaxis": {
           "automargin": true,
           "gridcolor": "#EBF0F8",
           "linecolor": "#EBF0F8",
           "ticks": "",
           "title": {
            "standoff": 15
           },
           "zerolinecolor": "#EBF0F8",
           "zerolinewidth": 2
          },
          "yaxis": {
           "automargin": true,
           "gridcolor": "#EBF0F8",
           "linecolor": "#EBF0F8",
           "ticks": "",
           "title": {
            "standoff": 15
           },
           "zerolinecolor": "#EBF0F8",
           "zerolinewidth": 2
          }
         }
        },
        "xaxis": {
         "title": {
          "font": {
           "weight": "bold",
           "color": "black"
          }
         },
         "tickangle": 90,
         "tickfont": {
          "family": "Arial",
          "size": 13,
          "color": "black",
          "weight": "bold"
         }
        },
        "height": 900,
        "width": 800,
        "yaxis": {
         "tickfont": {
          "family": "Arial",
          "size": 13,
          "color": "black",
          "weight": "bold"
         }
        },
        "shapes": [
         {
          "line": {
           "color": "black",
           "width": 1.5
          },
          "type": "line",
          "x0": -0.5,
          "x1": -0.5,
          "y0": -0.5,
          "y1": 6.5
         },
         {
          "line": {
           "color": "black",
           "width": 3
          },
          "type": "line",
          "x0": -0.5,
          "x1": 9.5,
          "y0": 0.5,
          "y1": 0.5
         },
         {
          "line": {
           "color": "black",
           "width": 1.5
          },
          "type": "line",
          "x0": 0.5,
          "x1": 0.5,
          "y0": -0.5,
          "y1": 6.5
         },
         {
          "line": {
           "color": "black",
           "width": 3
          },
          "type": "line",
          "x0": -0.5,
          "x1": 9.5,
          "y0": 0.5,
          "y1": 0.5
         },
         {
          "line": {
           "color": "black",
           "width": 3
          },
          "type": "line",
          "x0": -0.5,
          "x1": 9.5,
          "y0": 0.5,
          "y1": 0.5
         },
         {
          "line": {
           "color": "black",
           "width": 1.5
          },
          "type": "line",
          "x0": 2.5,
          "x1": 2.5,
          "y0": -0.5,
          "y1": 6.5
         },
         {
          "line": {
           "color": "black",
           "width": 3
          },
          "type": "line",
          "x0": -0.5,
          "x1": 9.5,
          "y0": 0.5,
          "y1": 0.5
         },
         {
          "line": {
           "color": "black",
           "width": 3
          },
          "type": "line",
          "x0": -0.5,
          "x1": 9.5,
          "y0": 0.5,
          "y1": 0.5
         },
         {
          "line": {
           "color": "black",
           "width": 1.5
          },
          "type": "line",
          "x0": 4.5,
          "x1": 4.5,
          "y0": -0.5,
          "y1": 6.5
         },
         {
          "line": {
           "color": "black",
           "width": 3
          },
          "type": "line",
          "x0": -0.5,
          "x1": 9.5,
          "y0": 0.5,
          "y1": 0.5
         },
         {
          "line": {
           "color": "black",
           "width": 3
          },
          "type": "line",
          "x0": -0.5,
          "x1": 9.5,
          "y0": 0.5,
          "y1": 0.5
         },
         {
          "line": {
           "color": "black",
           "width": 1.5
          },
          "type": "line",
          "x0": 6.5,
          "x1": 6.5,
          "y0": -0.5,
          "y1": 6.5
         },
         {
          "line": {
           "color": "black",
           "width": 3
          },
          "type": "line",
          "x0": -0.5,
          "x1": 9.5,
          "y0": 0.5,
          "y1": 0.5
         },
         {
          "line": {
           "color": "black",
           "width": 3
          },
          "type": "line",
          "x0": -0.5,
          "x1": 9.5,
          "y0": 0.5,
          "y1": 0.5
         },
         {
          "line": {
           "color": "black",
           "width": 3
          },
          "type": "line",
          "x0": 8.5,
          "x1": 8.5,
          "y0": -0.5,
          "y1": 6.5
         },
         {
          "line": {
           "color": "black",
           "width": 3
          },
          "type": "line",
          "x0": -0.5,
          "x1": 9.5,
          "y0": 0.5,
          "y1": 0.5
         },
         {
          "line": {
           "color": "black",
           "width": 1.5
          },
          "type": "line",
          "x0": 9.5,
          "x1": 9.5,
          "y0": -0.5,
          "y1": 6.5
         },
         {
          "line": {
           "color": "black",
           "width": 3
          },
          "type": "line",
          "x0": -0.5,
          "x1": 9.5,
          "y0": 0.5,
          "y1": 0.5
         }
        ],
        "margin": {
         "b": 180
        },
        "annotations": [
         {
          "align": "center",
          "font": {
           "color": "black",
           "family": "Arial",
           "size": 14,
           "weight": "bold"
          },
          "showarrow": false,
          "text": "|                System                |                    Knowledge                    |           Social         |              |",
          "x": 0.5,
          "xref": "paper",
          "y": -0.25,
          "yref": "paper"
         }
        ]
       },
       "config": {
        "plotlyServerURL": "https://plot.ly"
       }
      },
      "text/html": [
       "<div>                            <div id=\"e94a4a21-8c0e-4475-b378-a19f8dcc75ba\" class=\"plotly-graph-div\" style=\"height:900px; width:800px;\"></div>            <script type=\"text/javascript\">                require([\"plotly\"], function(Plotly) {                    window.PLOTLYENV=window.PLOTLYENV || {};                                    if (document.getElementById(\"e94a4a21-8c0e-4475-b378-a19f8dcc75ba\")) {                    Plotly.newPlot(                        \"e94a4a21-8c0e-4475-b378-a19f8dcc75ba\",                        [{\"colorbar\":{\"tickformat\":\".0%\"},\"colorscale\":[[0.0,\"#fcffa4\"],[0.1111111111111111,\"#f7d13d\"],[0.2222222222222222,\"#fb9b06\"],[0.3333333333333333,\"#ed6925\"],[0.4444444444444444,\"#cf4446\"],[0.5555555555555556,\"#a52c60\"],[0.6666666666666666,\"#781c6d\"],[0.7777777777777778,\"#4a0c6b\"],[0.8888888888888888,\"#1b0c41\"],[1.0,\"#000004\"]],\"texttemplate\":\"%{z:.0%}\",\"x\":[[\" \",\"Diversification\",\"Diversification\",\"Enrichment\",\"Enrichment\",\"Derivation\",\"Derivation\",\"  \",\"  \",\"   \"],[\"Integration\",\"Adaptation\",\"Recommendation\",\"Profile\",\"Context\",\"Interpretation of\\u003cbr\\u003eUser Behaviour\",\"Explanation of\\u003cbr\\u003eSystem Behaviour\",\"Relation\",\"Interaction\",\"Average\"]],\"xgap\":2,\"y\":[\"Average \",\"General \",\"Finance \",\"Productivity \",\"Wellbeing \",\"Learning \",\"Sustainability \"],\"ygap\":2,\"z\":[[0.006060606060606061,0.024941724941724943,0.028321678321678322,0.31782090458561046,0.07461149961149961,0.043460243460243464,0.08387723387723388,0.0030303030303030303,0.00909090909090909,0.06569056699775654],[0.03636363636363636,0.07272727272727272,0.05454545454545454,0.10909090909090909,0.01818181818181818,0.07272727272727272,0.05454545454545454,0.01818181818181818,0.05454545454545454,0.05454545454545454],[0.0,0.0,0.0,0.14285714285714285,0.0,0.0,0.0,0.0,0.0,0.015873015873015872],[0.0,0.0,0.0,0.058823529411764705,0.0,0.0,0.0,0.0,0.0,0.006535947712418301],[0.0,0.07692307692307693,0.11538461538461539,0.5961538461538461,0.09615384615384616,0.07692307692307693,0.11538461538461539,0.0,0.0,0.11965811965811968],[0.0,0.0,0.0,0.3333333333333333,0.1111111111111111,0.1111111111111111,0.2222222222222222,0.0,0.0,0.08641975308641975],[0.0,0.0,0.0,0.6666666666666666,0.2222222222222222,0.0,0.1111111111111111,0.0,0.0,0.1111111111111111]],\"zmax\":1,\"zmin\":0,\"type\":\"heatmap\"}],                        {\"template\":{\"data\":{\"barpolar\":[{\"marker\":{\"line\":{\"color\":\"white\",\"width\":0.5},\"pattern\":{\"fillmode\":\"overlay\",\"size\":10,\"solidity\":0.2}},\"type\":\"barpolar\"}],\"bar\":[{\"error_x\":{\"color\":\"#2a3f5f\"},\"error_y\":{\"color\":\"#2a3f5f\"},\"marker\":{\"line\":{\"color\":\"white\",\"width\":0.5},\"pattern\":{\"fillmode\":\"overlay\",\"size\":10,\"solidity\":0.2}},\"type\":\"bar\"}],\"carpet\":[{\"aaxis\":{\"endlinecolor\":\"#2a3f5f\",\"gridcolor\":\"#C8D4E3\",\"linecolor\":\"#C8D4E3\",\"minorgridcolor\":\"#C8D4E3\",\"startlinecolor\":\"#2a3f5f\"},\"baxis\":{\"endlinecolor\":\"#2a3f5f\",\"gridcolor\":\"#C8D4E3\",\"linecolor\":\"#C8D4E3\",\"minorgridcolor\":\"#C8D4E3\",\"startlinecolor\":\"#2a3f5f\"},\"type\":\"carpet\"}],\"choropleth\":[{\"colorbar\":{\"outlinewidth\":0,\"ticks\":\"\"},\"type\":\"choropleth\"}],\"contourcarpet\":[{\"colorbar\":{\"outlinewidth\":0,\"ticks\":\"\"},\"type\":\"contourcarpet\"}],\"contour\":[{\"colorbar\":{\"outlinewidth\":0,\"ticks\":\"\"},\"colorscale\":[[0.0,\"#0d0887\"],[0.1111111111111111,\"#46039f\"],[0.2222222222222222,\"#7201a8\"],[0.3333333333333333,\"#9c179e\"],[0.4444444444444444,\"#bd3786\"],[0.5555555555555556,\"#d8576b\"],[0.6666666666666666,\"#ed7953\"],[0.7777777777777778,\"#fb9f3a\"],[0.8888888888888888,\"#fdca26\"],[1.0,\"#f0f921\"]],\"type\":\"contour\"}],\"heatmapgl\":[{\"colorbar\":{\"outlinewidth\":0,\"ticks\":\"\"},\"colorscale\":[[0.0,\"#0d0887\"],[0.1111111111111111,\"#46039f\"],[0.2222222222222222,\"#7201a8\"],[0.3333333333333333,\"#9c179e\"],[0.4444444444444444,\"#bd3786\"],[0.5555555555555556,\"#d8576b\"],[0.6666666666666666,\"#ed7953\"],[0.7777777777777778,\"#fb9f3a\"],[0.8888888888888888,\"#fdca26\"],[1.0,\"#f0f921\"]],\"type\":\"heatmapgl\"}],\"heatmap\":[{\"colorbar\":{\"outlinewidth\":0,\"ticks\":\"\"},\"colorscale\":[[0.0,\"#0d0887\"],[0.1111111111111111,\"#46039f\"],[0.2222222222222222,\"#7201a8\"],[0.3333333333333333,\"#9c179e\"],[0.4444444444444444,\"#bd3786\"],[0.5555555555555556,\"#d8576b\"],[0.6666666666666666,\"#ed7953\"],[0.7777777777777778,\"#fb9f3a\"],[0.8888888888888888,\"#fdca26\"],[1.0,\"#f0f921\"]],\"type\":\"heatmap\"}],\"histogram2dcontour\":[{\"colorbar\":{\"outlinewidth\":0,\"ticks\":\"\"},\"colorscale\":[[0.0,\"#0d0887\"],[0.1111111111111111,\"#46039f\"],[0.2222222222222222,\"#7201a8\"],[0.3333333333333333,\"#9c179e\"],[0.4444444444444444,\"#bd3786\"],[0.5555555555555556,\"#d8576b\"],[0.6666666666666666,\"#ed7953\"],[0.7777777777777778,\"#fb9f3a\"],[0.8888888888888888,\"#fdca26\"],[1.0,\"#f0f921\"]],\"type\":\"histogram2dcontour\"}],\"histogram2d\":[{\"colorbar\":{\"outlinewidth\":0,\"ticks\":\"\"},\"colorscale\":[[0.0,\"#0d0887\"],[0.1111111111111111,\"#46039f\"],[0.2222222222222222,\"#7201a8\"],[0.3333333333333333,\"#9c179e\"],[0.4444444444444444,\"#bd3786\"],[0.5555555555555556,\"#d8576b\"],[0.6666666666666666,\"#ed7953\"],[0.7777777777777778,\"#fb9f3a\"],[0.8888888888888888,\"#fdca26\"],[1.0,\"#f0f921\"]],\"type\":\"histogram2d\"}],\"histogram\":[{\"marker\":{\"pattern\":{\"fillmode\":\"overlay\",\"size\":10,\"solidity\":0.2}},\"type\":\"histogram\"}],\"mesh3d\":[{\"colorbar\":{\"outlinewidth\":0,\"ticks\":\"\"},\"type\":\"mesh3d\"}],\"parcoords\":[{\"line\":{\"colorbar\":{\"outlinewidth\":0,\"ticks\":\"\"}},\"type\":\"parcoords\"}],\"pie\":[{\"automargin\":true,\"type\":\"pie\"}],\"scatter3d\":[{\"line\":{\"colorbar\":{\"outlinewidth\":0,\"ticks\":\"\"}},\"marker\":{\"colorbar\":{\"outlinewidth\":0,\"ticks\":\"\"}},\"type\":\"scatter3d\"}],\"scattercarpet\":[{\"marker\":{\"colorbar\":{\"outlinewidth\":0,\"ticks\":\"\"}},\"type\":\"scattercarpet\"}],\"scattergeo\":[{\"marker\":{\"colorbar\":{\"outlinewidth\":0,\"ticks\":\"\"}},\"type\":\"scattergeo\"}],\"scattergl\":[{\"marker\":{\"colorbar\":{\"outlinewidth\":0,\"ticks\":\"\"}},\"type\":\"scattergl\"}],\"scattermapbox\":[{\"marker\":{\"colorbar\":{\"outlinewidth\":0,\"ticks\":\"\"}},\"type\":\"scattermapbox\"}],\"scatterpolargl\":[{\"marker\":{\"colorbar\":{\"outlinewidth\":0,\"ticks\":\"\"}},\"type\":\"scatterpolargl\"}],\"scatterpolar\":[{\"marker\":{\"colorbar\":{\"outlinewidth\":0,\"ticks\":\"\"}},\"type\":\"scatterpolar\"}],\"scatter\":[{\"fillpattern\":{\"fillmode\":\"overlay\",\"size\":10,\"solidity\":0.2},\"type\":\"scatter\"}],\"scatterternary\":[{\"marker\":{\"colorbar\":{\"outlinewidth\":0,\"ticks\":\"\"}},\"type\":\"scatterternary\"}],\"surface\":[{\"colorbar\":{\"outlinewidth\":0,\"ticks\":\"\"},\"colorscale\":[[0.0,\"#0d0887\"],[0.1111111111111111,\"#46039f\"],[0.2222222222222222,\"#7201a8\"],[0.3333333333333333,\"#9c179e\"],[0.4444444444444444,\"#bd3786\"],[0.5555555555555556,\"#d8576b\"],[0.6666666666666666,\"#ed7953\"],[0.7777777777777778,\"#fb9f3a\"],[0.8888888888888888,\"#fdca26\"],[1.0,\"#f0f921\"]],\"type\":\"surface\"}],\"table\":[{\"cells\":{\"fill\":{\"color\":\"#EBF0F8\"},\"line\":{\"color\":\"white\"}},\"header\":{\"fill\":{\"color\":\"#C8D4E3\"},\"line\":{\"color\":\"white\"}},\"type\":\"table\"}]},\"layout\":{\"annotationdefaults\":{\"arrowcolor\":\"#2a3f5f\",\"arrowhead\":0,\"arrowwidth\":1},\"autotypenumbers\":\"strict\",\"coloraxis\":{\"colorbar\":{\"outlinewidth\":0,\"ticks\":\"\"}},\"colorscale\":{\"diverging\":[[0,\"#8e0152\"],[0.1,\"#c51b7d\"],[0.2,\"#de77ae\"],[0.3,\"#f1b6da\"],[0.4,\"#fde0ef\"],[0.5,\"#f7f7f7\"],[0.6,\"#e6f5d0\"],[0.7,\"#b8e186\"],[0.8,\"#7fbc41\"],[0.9,\"#4d9221\"],[1,\"#276419\"]],\"sequential\":[[0.0,\"#0d0887\"],[0.1111111111111111,\"#46039f\"],[0.2222222222222222,\"#7201a8\"],[0.3333333333333333,\"#9c179e\"],[0.4444444444444444,\"#bd3786\"],[0.5555555555555556,\"#d8576b\"],[0.6666666666666666,\"#ed7953\"],[0.7777777777777778,\"#fb9f3a\"],[0.8888888888888888,\"#fdca26\"],[1.0,\"#f0f921\"]],\"sequentialminus\":[[0.0,\"#0d0887\"],[0.1111111111111111,\"#46039f\"],[0.2222222222222222,\"#7201a8\"],[0.3333333333333333,\"#9c179e\"],[0.4444444444444444,\"#bd3786\"],[0.5555555555555556,\"#d8576b\"],[0.6666666666666666,\"#ed7953\"],[0.7777777777777778,\"#fb9f3a\"],[0.8888888888888888,\"#fdca26\"],[1.0,\"#f0f921\"]]},\"colorway\":[\"#636efa\",\"#EF553B\",\"#00cc96\",\"#ab63fa\",\"#FFA15A\",\"#19d3f3\",\"#FF6692\",\"#B6E880\",\"#FF97FF\",\"#FECB52\"],\"font\":{\"color\":\"#2a3f5f\"},\"geo\":{\"bgcolor\":\"white\",\"lakecolor\":\"white\",\"landcolor\":\"white\",\"showlakes\":true,\"showland\":true,\"subunitcolor\":\"#C8D4E3\"},\"hoverlabel\":{\"align\":\"left\"},\"hovermode\":\"closest\",\"mapbox\":{\"style\":\"light\"},\"paper_bgcolor\":\"white\",\"plot_bgcolor\":\"white\",\"polar\":{\"angularaxis\":{\"gridcolor\":\"#EBF0F8\",\"linecolor\":\"#EBF0F8\",\"ticks\":\"\"},\"bgcolor\":\"white\",\"radialaxis\":{\"gridcolor\":\"#EBF0F8\",\"linecolor\":\"#EBF0F8\",\"ticks\":\"\"}},\"scene\":{\"xaxis\":{\"backgroundcolor\":\"white\",\"gridcolor\":\"#DFE8F3\",\"gridwidth\":2,\"linecolor\":\"#EBF0F8\",\"showbackground\":true,\"ticks\":\"\",\"zerolinecolor\":\"#EBF0F8\"},\"yaxis\":{\"backgroundcolor\":\"white\",\"gridcolor\":\"#DFE8F3\",\"gridwidth\":2,\"linecolor\":\"#EBF0F8\",\"showbackground\":true,\"ticks\":\"\",\"zerolinecolor\":\"#EBF0F8\"},\"zaxis\":{\"backgroundcolor\":\"white\",\"gridcolor\":\"#DFE8F3\",\"gridwidth\":2,\"linecolor\":\"#EBF0F8\",\"showbackground\":true,\"ticks\":\"\",\"zerolinecolor\":\"#EBF0F8\"}},\"shapedefaults\":{\"line\":{\"color\":\"#2a3f5f\"}},\"ternary\":{\"aaxis\":{\"gridcolor\":\"#DFE8F3\",\"linecolor\":\"#A2B1C6\",\"ticks\":\"\"},\"baxis\":{\"gridcolor\":\"#DFE8F3\",\"linecolor\":\"#A2B1C6\",\"ticks\":\"\"},\"bgcolor\":\"white\",\"caxis\":{\"gridcolor\":\"#DFE8F3\",\"linecolor\":\"#A2B1C6\",\"ticks\":\"\"}},\"title\":{\"x\":0.05},\"xaxis\":{\"automargin\":true,\"gridcolor\":\"#EBF0F8\",\"linecolor\":\"#EBF0F8\",\"ticks\":\"\",\"title\":{\"standoff\":15},\"zerolinecolor\":\"#EBF0F8\",\"zerolinewidth\":2},\"yaxis\":{\"automargin\":true,\"gridcolor\":\"#EBF0F8\",\"linecolor\":\"#EBF0F8\",\"ticks\":\"\",\"title\":{\"standoff\":15},\"zerolinecolor\":\"#EBF0F8\",\"zerolinewidth\":2}}},\"xaxis\":{\"title\":{\"font\":{\"weight\":\"bold\",\"color\":\"black\"}},\"tickangle\":90,\"tickfont\":{\"family\":\"Arial\",\"size\":13,\"color\":\"black\",\"weight\":\"bold\"}},\"height\":900,\"width\":800,\"yaxis\":{\"tickfont\":{\"family\":\"Arial\",\"size\":13,\"color\":\"black\",\"weight\":\"bold\"}},\"shapes\":[{\"line\":{\"color\":\"black\",\"width\":1.5},\"type\":\"line\",\"x0\":-0.5,\"x1\":-0.5,\"y0\":-0.5,\"y1\":6.5},{\"line\":{\"color\":\"black\",\"width\":3},\"type\":\"line\",\"x0\":-0.5,\"x1\":9.5,\"y0\":0.5,\"y1\":0.5},{\"line\":{\"color\":\"black\",\"width\":1.5},\"type\":\"line\",\"x0\":0.5,\"x1\":0.5,\"y0\":-0.5,\"y1\":6.5},{\"line\":{\"color\":\"black\",\"width\":3},\"type\":\"line\",\"x0\":-0.5,\"x1\":9.5,\"y0\":0.5,\"y1\":0.5},{\"line\":{\"color\":\"black\",\"width\":3},\"type\":\"line\",\"x0\":-0.5,\"x1\":9.5,\"y0\":0.5,\"y1\":0.5},{\"line\":{\"color\":\"black\",\"width\":1.5},\"type\":\"line\",\"x0\":2.5,\"x1\":2.5,\"y0\":-0.5,\"y1\":6.5},{\"line\":{\"color\":\"black\",\"width\":3},\"type\":\"line\",\"x0\":-0.5,\"x1\":9.5,\"y0\":0.5,\"y1\":0.5},{\"line\":{\"color\":\"black\",\"width\":3},\"type\":\"line\",\"x0\":-0.5,\"x1\":9.5,\"y0\":0.5,\"y1\":0.5},{\"line\":{\"color\":\"black\",\"width\":1.5},\"type\":\"line\",\"x0\":4.5,\"x1\":4.5,\"y0\":-0.5,\"y1\":6.5},{\"line\":{\"color\":\"black\",\"width\":3},\"type\":\"line\",\"x0\":-0.5,\"x1\":9.5,\"y0\":0.5,\"y1\":0.5},{\"line\":{\"color\":\"black\",\"width\":3},\"type\":\"line\",\"x0\":-0.5,\"x1\":9.5,\"y0\":0.5,\"y1\":0.5},{\"line\":{\"color\":\"black\",\"width\":1.5},\"type\":\"line\",\"x0\":6.5,\"x1\":6.5,\"y0\":-0.5,\"y1\":6.5},{\"line\":{\"color\":\"black\",\"width\":3},\"type\":\"line\",\"x0\":-0.5,\"x1\":9.5,\"y0\":0.5,\"y1\":0.5},{\"line\":{\"color\":\"black\",\"width\":3},\"type\":\"line\",\"x0\":-0.5,\"x1\":9.5,\"y0\":0.5,\"y1\":0.5},{\"line\":{\"color\":\"black\",\"width\":3},\"type\":\"line\",\"x0\":8.5,\"x1\":8.5,\"y0\":-0.5,\"y1\":6.5},{\"line\":{\"color\":\"black\",\"width\":3},\"type\":\"line\",\"x0\":-0.5,\"x1\":9.5,\"y0\":0.5,\"y1\":0.5},{\"line\":{\"color\":\"black\",\"width\":1.5},\"type\":\"line\",\"x0\":9.5,\"x1\":9.5,\"y0\":-0.5,\"y1\":6.5},{\"line\":{\"color\":\"black\",\"width\":3},\"type\":\"line\",\"x0\":-0.5,\"x1\":9.5,\"y0\":0.5,\"y1\":0.5}],\"margin\":{\"b\":180},\"annotations\":[{\"align\":\"center\",\"font\":{\"color\":\"black\",\"family\":\"Arial\",\"size\":14,\"weight\":\"bold\"},\"showarrow\":false,\"text\":\"|\\u2009               System                |                    Knowledge                    |\\u200a          Social        \\u200a|              |\",\"x\":0.5,\"xref\":\"paper\",\"y\":-0.25,\"yref\":\"paper\"}]},                        {\"responsive\": true}                    ).then(function(){\n",
       "                            \n",
       "var gd = document.getElementById('e94a4a21-8c0e-4475-b378-a19f8dcc75ba');\n",
       "var x = new MutationObserver(function (mutations, observer) {{\n",
       "        var display = window.getComputedStyle(gd).display;\n",
       "        if (!display || display === 'none') {{\n",
       "            console.log([gd, 'removed!']);\n",
       "            Plotly.purge(gd);\n",
       "            observer.disconnect();\n",
       "        }}\n",
       "}});\n",
       "\n",
       "// Listen for the removal of the full notebook cells\n",
       "var notebookContainer = gd.closest('#notebook-container');\n",
       "if (notebookContainer) {{\n",
       "    x.observe(notebookContainer, {childList: true});\n",
       "}}\n",
       "\n",
       "// Listen for the clearing of the current output cell\n",
       "var outputEl = gd.closest('.output');\n",
       "if (outputEl) {{\n",
       "    x.observe(outputEl, {childList: true});\n",
       "}}\n",
       "\n",
       "                        })                };                });            </script>        </div>"
      ]
     },
     "metadata": {},
     "output_type": "display_data"
    },
    {
     "data": {
      "application/vnd.plotly.v1+json": {
       "data": [
        {
         "colorbar": {
          "tickformat": ".0%"
         },
         "colorscale": [
          [
           0.0,
           "#fcffa4"
          ],
          [
           0.1111111111111111,
           "#f7d13d"
          ],
          [
           0.2222222222222222,
           "#fb9b06"
          ],
          [
           0.3333333333333333,
           "#ed6925"
          ],
          [
           0.4444444444444444,
           "#cf4446"
          ],
          [
           0.5555555555555556,
           "#a52c60"
          ],
          [
           0.6666666666666666,
           "#781c6d"
          ],
          [
           0.7777777777777778,
           "#4a0c6b"
          ],
          [
           0.8888888888888888,
           "#1b0c41"
          ],
          [
           1.0,
           "#000004"
          ]
         ],
         "texttemplate": "%{z:.0%}",
         "x": [
          [
           "Form",
           "Form",
           "Form",
           " ",
           "  ",
           "Level",
           "Level",
           "Type",
           "Type",
           "Type",
           "Type",
           "Constraint",
           "Constraint",
           "Constraint",
           "Baseline",
           "Baseline",
           "Baseline",
           "Recur-<br>rence",
           "Recur-<br>rence",
           "Interdependency",
           "Interdependency",
           "Interdependency",
           "Interdependency",
           "Interdependency",
           "⁢"
          ],
          [
           "Pre-defined",
           "Template-based",
           "Self-defined",
           "Adjustability",
           "Reason",
           "Qualitative",
           "Quantitative",
           "Achievement",
           "Balance",
           "Avoidance",
           "Growth",
           "Content",
           "Temporal",
           "Spatial",
           "Absolute",
           "Relative",
           "Aggregation",
           "One-time",
           "Recurring",
           "Collection",
           "Alternative",
           "Sequence",
           "Prioritisation",
           "Hierarchy",
           "Average"
          ]
         ],
         "xgap": 2,
         "y": [
          "Average ",
          "General ",
          "Finance ",
          "Productivity ",
          "Wellbeing ",
          "Learning ",
          "Sustainability "
         ],
         "ygap": 2,
         "z": [
          [
           0.6645016203839733,
           0.3573823779706133,
           0.14364535246888188,
           0.5169087992617404,
           0.21029694706165294,
           0.45496192260898155,
           0.6132918824095295,
           0.5127592451121863,
           0.15118661295131886,
           0.33593187857893736,
           0.6149759826230415,
           0.4258856611797788,
           0.18947408800349974,
           0.012470862470862472,
           0.6592240004004709,
           0.09314372990843578,
           0.3951319921908157,
           0.2948410521939933,
           0.7742876404641111,
           0.4497759321288733,
           0.12645040145040146,
           0.04649054649054649,
           0.024592074592074593,
           0.0030303030303030303,
           0.3362767044139593
          ],
          [
           0.45454545454545453,
           0.5636363636363636,
           0.41818181818181815,
           0.6909090909090909,
           0.2545454545454545,
           0.7636363636363637,
           0.4909090909090909,
           0.6727272727272727,
           0.2909090909090909,
           0.2909090909090909,
           0.5454545454545454,
           0.45454545454545453,
           0.2545454545454545,
           0.03636363636363636,
           0.7818181818181819,
           0.03636363636363636,
           0.2545454545454545,
           0.2727272727272727,
           0.8363636363636363,
           0.6727272727272727,
           0.14545454545454545,
           0.09090909090909091,
           0.10909090909090909,
           0.01818181818181818,
           0.39166666666666666
          ],
          [
           0.5714285714285714,
           0.42857142857142855,
           0.0,
           0.5714285714285714,
           0.14285714285714285,
           0.14285714285714285,
           0.8571428571428571,
           0.7142857142857143,
           0.14285714285714285,
           0.14285714285714285,
           0.7142857142857143,
           0.42857142857142855,
           0.14285714285714285,
           0.0,
           0.14285714285714285,
           0.0,
           0.7142857142857143,
           0.42857142857142855,
           0.5714285714285714,
           0.5714285714285714,
           0.0,
           0.0,
           0.0,
           0.0,
           0.3095238095238095
          ],
          [
           0.5294117647058824,
           0.35294117647058826,
           0.29411764705882354,
           0.4117647058823529,
           0.058823529411764705,
           0.5882352941176471,
           0.47058823529411764,
           0.4117647058823529,
           0.058823529411764705,
           0.5882352941176471,
           0.5882352941176471,
           0.17647058823529413,
           0.11764705882352941,
           0.0,
           0.7058823529411765,
           0.058823529411764705,
           0.23529411764705882,
           0.4117647058823529,
           0.7058823529411765,
           0.4117647058823529,
           0.0,
           0.0,
           0.0,
           0.0,
           0.2990196078431373
          ],
          [
           0.6538461538461539,
           0.5769230769230769,
           0.038461538461538464,
           0.5384615384615384,
           0.25,
           0.34615384615384615,
           0.75,
           0.5,
           0.19230769230769232,
           0.3269230769230769,
           0.7307692307692307,
           0.38461538461538464,
           0.28846153846153844,
           0.038461538461538464,
           0.7692307692307693,
           0.019230769230769232,
           0.5,
           0.21153846153846154,
           0.8653846153846154,
           0.15384615384615385,
           0.057692307692307696,
           0.07692307692307693,
           0.038461538461538464,
           0.0,
           0.3461538461538462
          ],
          [
           0.7777777777777778,
           0.2222222222222222,
           0.1111111111111111,
           0.6666666666666666,
           0.4444444444444444,
           0.5555555555555556,
           0.4444444444444444,
           0.7777777777777778,
           0.1111111111111111,
           0.0,
           0.4444444444444444,
           0.4444444444444444,
           0.2222222222222222,
           0.0,
           0.7777777777777778,
           0.1111111111111111,
           0.1111111111111111,
           0.2222222222222222,
           0.8888888888888888,
           0.3333333333333333,
           0.2222222222222222,
           0.1111111111111111,
           0.0,
           0.0,
           0.3333333333333333
          ],
          [
           1.0,
           0.0,
           0.0,
           0.2222222222222222,
           0.1111111111111111,
           0.3333333333333333,
           0.6666666666666666,
           0.0,
           0.1111111111111111,
           0.6666666666666666,
           0.6666666666666666,
           0.6666666666666666,
           0.1111111111111111,
           0.0,
           0.7777777777777778,
           0.3333333333333333,
           0.5555555555555556,
           0.2222222222222222,
           0.7777777777777778,
           0.5555555555555556,
           0.3333333333333333,
           0.0,
           0.0,
           0.0,
           0.33796296296296297
          ]
         ],
         "zmax": 1,
         "zmin": 0,
         "type": "heatmap"
        }
       ],
       "layout": {
        "template": {
         "data": {
          "barpolar": [
           {
            "marker": {
             "line": {
              "color": "white",
              "width": 0.5
             },
             "pattern": {
              "fillmode": "overlay",
              "size": 10,
              "solidity": 0.2
             }
            },
            "type": "barpolar"
           }
          ],
          "bar": [
           {
            "error_x": {
             "color": "#2a3f5f"
            },
            "error_y": {
             "color": "#2a3f5f"
            },
            "marker": {
             "line": {
              "color": "white",
              "width": 0.5
             },
             "pattern": {
              "fillmode": "overlay",
              "size": 10,
              "solidity": 0.2
             }
            },
            "type": "bar"
           }
          ],
          "carpet": [
           {
            "aaxis": {
             "endlinecolor": "#2a3f5f",
             "gridcolor": "#C8D4E3",
             "linecolor": "#C8D4E3",
             "minorgridcolor": "#C8D4E3",
             "startlinecolor": "#2a3f5f"
            },
            "baxis": {
             "endlinecolor": "#2a3f5f",
             "gridcolor": "#C8D4E3",
             "linecolor": "#C8D4E3",
             "minorgridcolor": "#C8D4E3",
             "startlinecolor": "#2a3f5f"
            },
            "type": "carpet"
           }
          ],
          "choropleth": [
           {
            "colorbar": {
             "outlinewidth": 0,
             "ticks": ""
            },
            "type": "choropleth"
           }
          ],
          "contourcarpet": [
           {
            "colorbar": {
             "outlinewidth": 0,
             "ticks": ""
            },
            "type": "contourcarpet"
           }
          ],
          "contour": [
           {
            "colorbar": {
             "outlinewidth": 0,
             "ticks": ""
            },
            "colorscale": [
             [
              0.0,
              "#0d0887"
             ],
             [
              0.1111111111111111,
              "#46039f"
             ],
             [
              0.2222222222222222,
              "#7201a8"
             ],
             [
              0.3333333333333333,
              "#9c179e"
             ],
             [
              0.4444444444444444,
              "#bd3786"
             ],
             [
              0.5555555555555556,
              "#d8576b"
             ],
             [
              0.6666666666666666,
              "#ed7953"
             ],
             [
              0.7777777777777778,
              "#fb9f3a"
             ],
             [
              0.8888888888888888,
              "#fdca26"
             ],
             [
              1.0,
              "#f0f921"
             ]
            ],
            "type": "contour"
           }
          ],
          "heatmapgl": [
           {
            "colorbar": {
             "outlinewidth": 0,
             "ticks": ""
            },
            "colorscale": [
             [
              0.0,
              "#0d0887"
             ],
             [
              0.1111111111111111,
              "#46039f"
             ],
             [
              0.2222222222222222,
              "#7201a8"
             ],
             [
              0.3333333333333333,
              "#9c179e"
             ],
             [
              0.4444444444444444,
              "#bd3786"
             ],
             [
              0.5555555555555556,
              "#d8576b"
             ],
             [
              0.6666666666666666,
              "#ed7953"
             ],
             [
              0.7777777777777778,
              "#fb9f3a"
             ],
             [
              0.8888888888888888,
              "#fdca26"
             ],
             [
              1.0,
              "#f0f921"
             ]
            ],
            "type": "heatmapgl"
           }
          ],
          "heatmap": [
           {
            "colorbar": {
             "outlinewidth": 0,
             "ticks": ""
            },
            "colorscale": [
             [
              0.0,
              "#0d0887"
             ],
             [
              0.1111111111111111,
              "#46039f"
             ],
             [
              0.2222222222222222,
              "#7201a8"
             ],
             [
              0.3333333333333333,
              "#9c179e"
             ],
             [
              0.4444444444444444,
              "#bd3786"
             ],
             [
              0.5555555555555556,
              "#d8576b"
             ],
             [
              0.6666666666666666,
              "#ed7953"
             ],
             [
              0.7777777777777778,
              "#fb9f3a"
             ],
             [
              0.8888888888888888,
              "#fdca26"
             ],
             [
              1.0,
              "#f0f921"
             ]
            ],
            "type": "heatmap"
           }
          ],
          "histogram2dcontour": [
           {
            "colorbar": {
             "outlinewidth": 0,
             "ticks": ""
            },
            "colorscale": [
             [
              0.0,
              "#0d0887"
             ],
             [
              0.1111111111111111,
              "#46039f"
             ],
             [
              0.2222222222222222,
              "#7201a8"
             ],
             [
              0.3333333333333333,
              "#9c179e"
             ],
             [
              0.4444444444444444,
              "#bd3786"
             ],
             [
              0.5555555555555556,
              "#d8576b"
             ],
             [
              0.6666666666666666,
              "#ed7953"
             ],
             [
              0.7777777777777778,
              "#fb9f3a"
             ],
             [
              0.8888888888888888,
              "#fdca26"
             ],
             [
              1.0,
              "#f0f921"
             ]
            ],
            "type": "histogram2dcontour"
           }
          ],
          "histogram2d": [
           {
            "colorbar": {
             "outlinewidth": 0,
             "ticks": ""
            },
            "colorscale": [
             [
              0.0,
              "#0d0887"
             ],
             [
              0.1111111111111111,
              "#46039f"
             ],
             [
              0.2222222222222222,
              "#7201a8"
             ],
             [
              0.3333333333333333,
              "#9c179e"
             ],
             [
              0.4444444444444444,
              "#bd3786"
             ],
             [
              0.5555555555555556,
              "#d8576b"
             ],
             [
              0.6666666666666666,
              "#ed7953"
             ],
             [
              0.7777777777777778,
              "#fb9f3a"
             ],
             [
              0.8888888888888888,
              "#fdca26"
             ],
             [
              1.0,
              "#f0f921"
             ]
            ],
            "type": "histogram2d"
           }
          ],
          "histogram": [
           {
            "marker": {
             "pattern": {
              "fillmode": "overlay",
              "size": 10,
              "solidity": 0.2
             }
            },
            "type": "histogram"
           }
          ],
          "mesh3d": [
           {
            "colorbar": {
             "outlinewidth": 0,
             "ticks": ""
            },
            "type": "mesh3d"
           }
          ],
          "parcoords": [
           {
            "line": {
             "colorbar": {
              "outlinewidth": 0,
              "ticks": ""
             }
            },
            "type": "parcoords"
           }
          ],
          "pie": [
           {
            "automargin": true,
            "type": "pie"
           }
          ],
          "scatter3d": [
           {
            "line": {
             "colorbar": {
              "outlinewidth": 0,
              "ticks": ""
             }
            },
            "marker": {
             "colorbar": {
              "outlinewidth": 0,
              "ticks": ""
             }
            },
            "type": "scatter3d"
           }
          ],
          "scattercarpet": [
           {
            "marker": {
             "colorbar": {
              "outlinewidth": 0,
              "ticks": ""
             }
            },
            "type": "scattercarpet"
           }
          ],
          "scattergeo": [
           {
            "marker": {
             "colorbar": {
              "outlinewidth": 0,
              "ticks": ""
             }
            },
            "type": "scattergeo"
           }
          ],
          "scattergl": [
           {
            "marker": {
             "colorbar": {
              "outlinewidth": 0,
              "ticks": ""
             }
            },
            "type": "scattergl"
           }
          ],
          "scattermapbox": [
           {
            "marker": {
             "colorbar": {
              "outlinewidth": 0,
              "ticks": ""
             }
            },
            "type": "scattermapbox"
           }
          ],
          "scatterpolargl": [
           {
            "marker": {
             "colorbar": {
              "outlinewidth": 0,
              "ticks": ""
             }
            },
            "type": "scatterpolargl"
           }
          ],
          "scatterpolar": [
           {
            "marker": {
             "colorbar": {
              "outlinewidth": 0,
              "ticks": ""
             }
            },
            "type": "scatterpolar"
           }
          ],
          "scatter": [
           {
            "fillpattern": {
             "fillmode": "overlay",
             "size": 10,
             "solidity": 0.2
            },
            "type": "scatter"
           }
          ],
          "scatterternary": [
           {
            "marker": {
             "colorbar": {
              "outlinewidth": 0,
              "ticks": ""
             }
            },
            "type": "scatterternary"
           }
          ],
          "surface": [
           {
            "colorbar": {
             "outlinewidth": 0,
             "ticks": ""
            },
            "colorscale": [
             [
              0.0,
              "#0d0887"
             ],
             [
              0.1111111111111111,
              "#46039f"
             ],
             [
              0.2222222222222222,
              "#7201a8"
             ],
             [
              0.3333333333333333,
              "#9c179e"
             ],
             [
              0.4444444444444444,
              "#bd3786"
             ],
             [
              0.5555555555555556,
              "#d8576b"
             ],
             [
              0.6666666666666666,
              "#ed7953"
             ],
             [
              0.7777777777777778,
              "#fb9f3a"
             ],
             [
              0.8888888888888888,
              "#fdca26"
             ],
             [
              1.0,
              "#f0f921"
             ]
            ],
            "type": "surface"
           }
          ],
          "table": [
           {
            "cells": {
             "fill": {
              "color": "#EBF0F8"
             },
             "line": {
              "color": "white"
             }
            },
            "header": {
             "fill": {
              "color": "#C8D4E3"
             },
             "line": {
              "color": "white"
             }
            },
            "type": "table"
           }
          ]
         },
         "layout": {
          "annotationdefaults": {
           "arrowcolor": "#2a3f5f",
           "arrowhead": 0,
           "arrowwidth": 1
          },
          "autotypenumbers": "strict",
          "coloraxis": {
           "colorbar": {
            "outlinewidth": 0,
            "ticks": ""
           }
          },
          "colorscale": {
           "diverging": [
            [
             0,
             "#8e0152"
            ],
            [
             0.1,
             "#c51b7d"
            ],
            [
             0.2,
             "#de77ae"
            ],
            [
             0.3,
             "#f1b6da"
            ],
            [
             0.4,
             "#fde0ef"
            ],
            [
             0.5,
             "#f7f7f7"
            ],
            [
             0.6,
             "#e6f5d0"
            ],
            [
             0.7,
             "#b8e186"
            ],
            [
             0.8,
             "#7fbc41"
            ],
            [
             0.9,
             "#4d9221"
            ],
            [
             1,
             "#276419"
            ]
           ],
           "sequential": [
            [
             0.0,
             "#0d0887"
            ],
            [
             0.1111111111111111,
             "#46039f"
            ],
            [
             0.2222222222222222,
             "#7201a8"
            ],
            [
             0.3333333333333333,
             "#9c179e"
            ],
            [
             0.4444444444444444,
             "#bd3786"
            ],
            [
             0.5555555555555556,
             "#d8576b"
            ],
            [
             0.6666666666666666,
             "#ed7953"
            ],
            [
             0.7777777777777778,
             "#fb9f3a"
            ],
            [
             0.8888888888888888,
             "#fdca26"
            ],
            [
             1.0,
             "#f0f921"
            ]
           ],
           "sequentialminus": [
            [
             0.0,
             "#0d0887"
            ],
            [
             0.1111111111111111,
             "#46039f"
            ],
            [
             0.2222222222222222,
             "#7201a8"
            ],
            [
             0.3333333333333333,
             "#9c179e"
            ],
            [
             0.4444444444444444,
             "#bd3786"
            ],
            [
             0.5555555555555556,
             "#d8576b"
            ],
            [
             0.6666666666666666,
             "#ed7953"
            ],
            [
             0.7777777777777778,
             "#fb9f3a"
            ],
            [
             0.8888888888888888,
             "#fdca26"
            ],
            [
             1.0,
             "#f0f921"
            ]
           ]
          },
          "colorway": [
           "#636efa",
           "#EF553B",
           "#00cc96",
           "#ab63fa",
           "#FFA15A",
           "#19d3f3",
           "#FF6692",
           "#B6E880",
           "#FF97FF",
           "#FECB52"
          ],
          "font": {
           "color": "#2a3f5f"
          },
          "geo": {
           "bgcolor": "white",
           "lakecolor": "white",
           "landcolor": "white",
           "showlakes": true,
           "showland": true,
           "subunitcolor": "#C8D4E3"
          },
          "hoverlabel": {
           "align": "left"
          },
          "hovermode": "closest",
          "mapbox": {
           "style": "light"
          },
          "paper_bgcolor": "white",
          "plot_bgcolor": "white",
          "polar": {
           "angularaxis": {
            "gridcolor": "#EBF0F8",
            "linecolor": "#EBF0F8",
            "ticks": ""
           },
           "bgcolor": "white",
           "radialaxis": {
            "gridcolor": "#EBF0F8",
            "linecolor": "#EBF0F8",
            "ticks": ""
           }
          },
          "scene": {
           "xaxis": {
            "backgroundcolor": "white",
            "gridcolor": "#DFE8F3",
            "gridwidth": 2,
            "linecolor": "#EBF0F8",
            "showbackground": true,
            "ticks": "",
            "zerolinecolor": "#EBF0F8"
           },
           "yaxis": {
            "backgroundcolor": "white",
            "gridcolor": "#DFE8F3",
            "gridwidth": 2,
            "linecolor": "#EBF0F8",
            "showbackground": true,
            "ticks": "",
            "zerolinecolor": "#EBF0F8"
           },
           "zaxis": {
            "backgroundcolor": "white",
            "gridcolor": "#DFE8F3",
            "gridwidth": 2,
            "linecolor": "#EBF0F8",
            "showbackground": true,
            "ticks": "",
            "zerolinecolor": "#EBF0F8"
           }
          },
          "shapedefaults": {
           "line": {
            "color": "#2a3f5f"
           }
          },
          "ternary": {
           "aaxis": {
            "gridcolor": "#DFE8F3",
            "linecolor": "#A2B1C6",
            "ticks": ""
           },
           "baxis": {
            "gridcolor": "#DFE8F3",
            "linecolor": "#A2B1C6",
            "ticks": ""
           },
           "bgcolor": "white",
           "caxis": {
            "gridcolor": "#DFE8F3",
            "linecolor": "#A2B1C6",
            "ticks": ""
           }
          },
          "title": {
           "x": 0.05
          },
          "xaxis": {
           "automargin": true,
           "gridcolor": "#EBF0F8",
           "linecolor": "#EBF0F8",
           "ticks": "",
           "title": {
            "standoff": 15
           },
           "zerolinecolor": "#EBF0F8",
           "zerolinewidth": 2
          },
          "yaxis": {
           "automargin": true,
           "gridcolor": "#EBF0F8",
           "linecolor": "#EBF0F8",
           "ticks": "",
           "title": {
            "standoff": 15
           },
           "zerolinecolor": "#EBF0F8",
           "zerolinewidth": 2
          }
         }
        },
        "xaxis": {
         "title": {
          "font": {
           "weight": "bold",
           "color": "black"
          }
         },
         "tickangle": 90,
         "tickfont": {
          "family": "Arial",
          "size": 13,
          "color": "black",
          "weight": "bold"
         }
        },
        "height": 900,
        "width": 800,
        "yaxis": {
         "tickfont": {
          "family": "Arial",
          "size": 13,
          "color": "black",
          "weight": "bold"
         }
        },
        "shapes": [
         {
          "line": {
           "color": "black",
           "width": 1.5
          },
          "type": "line",
          "x0": -0.5,
          "x1": -0.5,
          "y0": -0.5,
          "y1": 6.5
         },
         {
          "line": {
           "color": "black",
           "width": 3
          },
          "type": "line",
          "x0": -0.5,
          "x1": 24.5,
          "y0": 0.5,
          "y1": 0.5
         },
         {
          "line": {
           "color": "black",
           "width": 3
          },
          "type": "line",
          "x0": -0.5,
          "x1": 24.5,
          "y0": 0.5,
          "y1": 0.5
         },
         {
          "line": {
           "color": "black",
           "width": 3
          },
          "type": "line",
          "x0": -0.5,
          "x1": 24.5,
          "y0": 0.5,
          "y1": 0.5
         },
         {
          "line": {
           "color": "black",
           "width": 1.5
          },
          "type": "line",
          "x0": 2.5,
          "x1": 2.5,
          "y0": -0.5,
          "y1": 6.5
         },
         {
          "line": {
           "color": "black",
           "width": 3
          },
          "type": "line",
          "x0": -0.5,
          "x1": 24.5,
          "y0": 0.5,
          "y1": 0.5
         },
         {
          "line": {
           "color": "black",
           "width": 1.5
          },
          "type": "line",
          "x0": 3.5,
          "x1": 3.5,
          "y0": -0.5,
          "y1": 6.5
         },
         {
          "line": {
           "color": "black",
           "width": 3
          },
          "type": "line",
          "x0": -0.5,
          "x1": 24.5,
          "y0": 0.5,
          "y1": 0.5
         },
         {
          "line": {
           "color": "black",
           "width": 1.5
          },
          "type": "line",
          "x0": 4.5,
          "x1": 4.5,
          "y0": -0.5,
          "y1": 6.5
         },
         {
          "line": {
           "color": "black",
           "width": 3
          },
          "type": "line",
          "x0": -0.5,
          "x1": 24.5,
          "y0": 0.5,
          "y1": 0.5
         },
         {
          "line": {
           "color": "black",
           "width": 3
          },
          "type": "line",
          "x0": -0.5,
          "x1": 24.5,
          "y0": 0.5,
          "y1": 0.5
         },
         {
          "line": {
           "color": "black",
           "width": 1.5
          },
          "type": "line",
          "x0": 6.5,
          "x1": 6.5,
          "y0": -0.5,
          "y1": 6.5
         },
         {
          "line": {
           "color": "black",
           "width": 3
          },
          "type": "line",
          "x0": -0.5,
          "x1": 24.5,
          "y0": 0.5,
          "y1": 0.5
         },
         {
          "line": {
           "color": "black",
           "width": 3
          },
          "type": "line",
          "x0": -0.5,
          "x1": 24.5,
          "y0": 0.5,
          "y1": 0.5
         },
         {
          "line": {
           "color": "black",
           "width": 3
          },
          "type": "line",
          "x0": -0.5,
          "x1": 24.5,
          "y0": 0.5,
          "y1": 0.5
         },
         {
          "line": {
           "color": "black",
           "width": 3
          },
          "type": "line",
          "x0": -0.5,
          "x1": 24.5,
          "y0": 0.5,
          "y1": 0.5
         },
         {
          "line": {
           "color": "black",
           "width": 1.5
          },
          "type": "line",
          "x0": 10.5,
          "x1": 10.5,
          "y0": -0.5,
          "y1": 6.5
         },
         {
          "line": {
           "color": "black",
           "width": 3
          },
          "type": "line",
          "x0": -0.5,
          "x1": 24.5,
          "y0": 0.5,
          "y1": 0.5
         },
         {
          "line": {
           "color": "black",
           "width": 3
          },
          "type": "line",
          "x0": -0.5,
          "x1": 24.5,
          "y0": 0.5,
          "y1": 0.5
         },
         {
          "line": {
           "color": "black",
           "width": 3
          },
          "type": "line",
          "x0": -0.5,
          "x1": 24.5,
          "y0": 0.5,
          "y1": 0.5
         },
         {
          "line": {
           "color": "black",
           "width": 1.5
          },
          "type": "line",
          "x0": 13.5,
          "x1": 13.5,
          "y0": -0.5,
          "y1": 6.5
         },
         {
          "line": {
           "color": "black",
           "width": 3
          },
          "type": "line",
          "x0": -0.5,
          "x1": 24.5,
          "y0": 0.5,
          "y1": 0.5
         },
         {
          "line": {
           "color": "black",
           "width": 3
          },
          "type": "line",
          "x0": -0.5,
          "x1": 24.5,
          "y0": 0.5,
          "y1": 0.5
         },
         {
          "line": {
           "color": "black",
           "width": 3
          },
          "type": "line",
          "x0": -0.5,
          "x1": 24.5,
          "y0": 0.5,
          "y1": 0.5
         },
         {
          "line": {
           "color": "black",
           "width": 1.5
          },
          "type": "line",
          "x0": 16.5,
          "x1": 16.5,
          "y0": -0.5,
          "y1": 6.5
         },
         {
          "line": {
           "color": "black",
           "width": 3
          },
          "type": "line",
          "x0": -0.5,
          "x1": 24.5,
          "y0": 0.5,
          "y1": 0.5
         },
         {
          "line": {
           "color": "black",
           "width": 3
          },
          "type": "line",
          "x0": -0.5,
          "x1": 24.5,
          "y0": 0.5,
          "y1": 0.5
         },
         {
          "line": {
           "color": "black",
           "width": 1.5
          },
          "type": "line",
          "x0": 18.5,
          "x1": 18.5,
          "y0": -0.5,
          "y1": 6.5
         },
         {
          "line": {
           "color": "black",
           "width": 3
          },
          "type": "line",
          "x0": -0.5,
          "x1": 24.5,
          "y0": 0.5,
          "y1": 0.5
         },
         {
          "line": {
           "color": "black",
           "width": 3
          },
          "type": "line",
          "x0": -0.5,
          "x1": 24.5,
          "y0": 0.5,
          "y1": 0.5
         },
         {
          "line": {
           "color": "black",
           "width": 3
          },
          "type": "line",
          "x0": -0.5,
          "x1": 24.5,
          "y0": 0.5,
          "y1": 0.5
         },
         {
          "line": {
           "color": "black",
           "width": 3
          },
          "type": "line",
          "x0": -0.5,
          "x1": 24.5,
          "y0": 0.5,
          "y1": 0.5
         },
         {
          "line": {
           "color": "black",
           "width": 3
          },
          "type": "line",
          "x0": -0.5,
          "x1": 24.5,
          "y0": 0.5,
          "y1": 0.5
         },
         {
          "line": {
           "color": "black",
           "width": 3
          },
          "type": "line",
          "x0": 23.5,
          "x1": 23.5,
          "y0": -0.5,
          "y1": 6.5
         },
         {
          "line": {
           "color": "black",
           "width": 3
          },
          "type": "line",
          "x0": -0.5,
          "x1": 24.5,
          "y0": 0.5,
          "y1": 0.5
         },
         {
          "line": {
           "color": "black",
           "width": 1.5
          },
          "type": "line",
          "x0": 24.5,
          "x1": 24.5,
          "y0": -0.5,
          "y1": 6.5
         },
         {
          "line": {
           "color": "black",
           "width": 3
          },
          "type": "line",
          "x0": -0.5,
          "x1": 24.5,
          "y0": 0.5,
          "y1": 0.5
         }
        ],
        "margin": {
         "b": 180
        }
       },
       "config": {
        "plotlyServerURL": "https://plot.ly"
       }
      },
      "text/html": [
       "<div>                            <div id=\"01ae890b-a9ee-4dd2-9eee-b7e40f5f9fd9\" class=\"plotly-graph-div\" style=\"height:900px; width:800px;\"></div>            <script type=\"text/javascript\">                require([\"plotly\"], function(Plotly) {                    window.PLOTLYENV=window.PLOTLYENV || {};                                    if (document.getElementById(\"01ae890b-a9ee-4dd2-9eee-b7e40f5f9fd9\")) {                    Plotly.newPlot(                        \"01ae890b-a9ee-4dd2-9eee-b7e40f5f9fd9\",                        [{\"colorbar\":{\"tickformat\":\".0%\"},\"colorscale\":[[0.0,\"#fcffa4\"],[0.1111111111111111,\"#f7d13d\"],[0.2222222222222222,\"#fb9b06\"],[0.3333333333333333,\"#ed6925\"],[0.4444444444444444,\"#cf4446\"],[0.5555555555555556,\"#a52c60\"],[0.6666666666666666,\"#781c6d\"],[0.7777777777777778,\"#4a0c6b\"],[0.8888888888888888,\"#1b0c41\"],[1.0,\"#000004\"]],\"texttemplate\":\"%{z:.0%}\",\"x\":[[\"Form\",\"Form\",\"Form\",\" \",\"  \",\"Level\",\"Level\",\"Type\",\"Type\",\"Type\",\"Type\",\"Constraint\",\"Constraint\",\"Constraint\",\"Baseline\",\"Baseline\",\"Baseline\",\"Recur-\\u003cbr\\u003erence\",\"Recur-\\u003cbr\\u003erence\",\"Interdependency\",\"Interdependency\",\"Interdependency\",\"Interdependency\",\"Interdependency\",\"\\u2062\"],[\"Pre-defined\",\"Template-based\",\"Self-defined\",\"Adjustability\",\"Reason\",\"Qualitative\",\"Quantitative\",\"Achievement\",\"Balance\",\"Avoidance\",\"Growth\",\"Content\",\"Temporal\",\"Spatial\",\"Absolute\",\"Relative\",\"Aggregation\",\"One-time\",\"Recurring\",\"Collection\",\"Alternative\",\"Sequence\",\"Prioritisation\",\"Hierarchy\",\"Average\"]],\"xgap\":2,\"y\":[\"Average \",\"General \",\"Finance \",\"Productivity \",\"Wellbeing \",\"Learning \",\"Sustainability \"],\"ygap\":2,\"z\":[[0.6645016203839733,0.3573823779706133,0.14364535246888188,0.5169087992617404,0.21029694706165294,0.45496192260898155,0.6132918824095295,0.5127592451121863,0.15118661295131886,0.33593187857893736,0.6149759826230415,0.4258856611797788,0.18947408800349974,0.012470862470862472,0.6592240004004709,0.09314372990843578,0.3951319921908157,0.2948410521939933,0.7742876404641111,0.4497759321288733,0.12645040145040146,0.04649054649054649,0.024592074592074593,0.0030303030303030303,0.3362767044139593],[0.45454545454545453,0.5636363636363636,0.41818181818181815,0.6909090909090909,0.2545454545454545,0.7636363636363637,0.4909090909090909,0.6727272727272727,0.2909090909090909,0.2909090909090909,0.5454545454545454,0.45454545454545453,0.2545454545454545,0.03636363636363636,0.7818181818181819,0.03636363636363636,0.2545454545454545,0.2727272727272727,0.8363636363636363,0.6727272727272727,0.14545454545454545,0.09090909090909091,0.10909090909090909,0.01818181818181818,0.39166666666666666],[0.5714285714285714,0.42857142857142855,0.0,0.5714285714285714,0.14285714285714285,0.14285714285714285,0.8571428571428571,0.7142857142857143,0.14285714285714285,0.14285714285714285,0.7142857142857143,0.42857142857142855,0.14285714285714285,0.0,0.14285714285714285,0.0,0.7142857142857143,0.42857142857142855,0.5714285714285714,0.5714285714285714,0.0,0.0,0.0,0.0,0.3095238095238095],[0.5294117647058824,0.35294117647058826,0.29411764705882354,0.4117647058823529,0.058823529411764705,0.5882352941176471,0.47058823529411764,0.4117647058823529,0.058823529411764705,0.5882352941176471,0.5882352941176471,0.17647058823529413,0.11764705882352941,0.0,0.7058823529411765,0.058823529411764705,0.23529411764705882,0.4117647058823529,0.7058823529411765,0.4117647058823529,0.0,0.0,0.0,0.0,0.2990196078431373],[0.6538461538461539,0.5769230769230769,0.038461538461538464,0.5384615384615384,0.25,0.34615384615384615,0.75,0.5,0.19230769230769232,0.3269230769230769,0.7307692307692307,0.38461538461538464,0.28846153846153844,0.038461538461538464,0.7692307692307693,0.019230769230769232,0.5,0.21153846153846154,0.8653846153846154,0.15384615384615385,0.057692307692307696,0.07692307692307693,0.038461538461538464,0.0,0.3461538461538462],[0.7777777777777778,0.2222222222222222,0.1111111111111111,0.6666666666666666,0.4444444444444444,0.5555555555555556,0.4444444444444444,0.7777777777777778,0.1111111111111111,0.0,0.4444444444444444,0.4444444444444444,0.2222222222222222,0.0,0.7777777777777778,0.1111111111111111,0.1111111111111111,0.2222222222222222,0.8888888888888888,0.3333333333333333,0.2222222222222222,0.1111111111111111,0.0,0.0,0.3333333333333333],[1.0,0.0,0.0,0.2222222222222222,0.1111111111111111,0.3333333333333333,0.6666666666666666,0.0,0.1111111111111111,0.6666666666666666,0.6666666666666666,0.6666666666666666,0.1111111111111111,0.0,0.7777777777777778,0.3333333333333333,0.5555555555555556,0.2222222222222222,0.7777777777777778,0.5555555555555556,0.3333333333333333,0.0,0.0,0.0,0.33796296296296297]],\"zmax\":1,\"zmin\":0,\"type\":\"heatmap\"}],                        {\"template\":{\"data\":{\"barpolar\":[{\"marker\":{\"line\":{\"color\":\"white\",\"width\":0.5},\"pattern\":{\"fillmode\":\"overlay\",\"size\":10,\"solidity\":0.2}},\"type\":\"barpolar\"}],\"bar\":[{\"error_x\":{\"color\":\"#2a3f5f\"},\"error_y\":{\"color\":\"#2a3f5f\"},\"marker\":{\"line\":{\"color\":\"white\",\"width\":0.5},\"pattern\":{\"fillmode\":\"overlay\",\"size\":10,\"solidity\":0.2}},\"type\":\"bar\"}],\"carpet\":[{\"aaxis\":{\"endlinecolor\":\"#2a3f5f\",\"gridcolor\":\"#C8D4E3\",\"linecolor\":\"#C8D4E3\",\"minorgridcolor\":\"#C8D4E3\",\"startlinecolor\":\"#2a3f5f\"},\"baxis\":{\"endlinecolor\":\"#2a3f5f\",\"gridcolor\":\"#C8D4E3\",\"linecolor\":\"#C8D4E3\",\"minorgridcolor\":\"#C8D4E3\",\"startlinecolor\":\"#2a3f5f\"},\"type\":\"carpet\"}],\"choropleth\":[{\"colorbar\":{\"outlinewidth\":0,\"ticks\":\"\"},\"type\":\"choropleth\"}],\"contourcarpet\":[{\"colorbar\":{\"outlinewidth\":0,\"ticks\":\"\"},\"type\":\"contourcarpet\"}],\"contour\":[{\"colorbar\":{\"outlinewidth\":0,\"ticks\":\"\"},\"colorscale\":[[0.0,\"#0d0887\"],[0.1111111111111111,\"#46039f\"],[0.2222222222222222,\"#7201a8\"],[0.3333333333333333,\"#9c179e\"],[0.4444444444444444,\"#bd3786\"],[0.5555555555555556,\"#d8576b\"],[0.6666666666666666,\"#ed7953\"],[0.7777777777777778,\"#fb9f3a\"],[0.8888888888888888,\"#fdca26\"],[1.0,\"#f0f921\"]],\"type\":\"contour\"}],\"heatmapgl\":[{\"colorbar\":{\"outlinewidth\":0,\"ticks\":\"\"},\"colorscale\":[[0.0,\"#0d0887\"],[0.1111111111111111,\"#46039f\"],[0.2222222222222222,\"#7201a8\"],[0.3333333333333333,\"#9c179e\"],[0.4444444444444444,\"#bd3786\"],[0.5555555555555556,\"#d8576b\"],[0.6666666666666666,\"#ed7953\"],[0.7777777777777778,\"#fb9f3a\"],[0.8888888888888888,\"#fdca26\"],[1.0,\"#f0f921\"]],\"type\":\"heatmapgl\"}],\"heatmap\":[{\"colorbar\":{\"outlinewidth\":0,\"ticks\":\"\"},\"colorscale\":[[0.0,\"#0d0887\"],[0.1111111111111111,\"#46039f\"],[0.2222222222222222,\"#7201a8\"],[0.3333333333333333,\"#9c179e\"],[0.4444444444444444,\"#bd3786\"],[0.5555555555555556,\"#d8576b\"],[0.6666666666666666,\"#ed7953\"],[0.7777777777777778,\"#fb9f3a\"],[0.8888888888888888,\"#fdca26\"],[1.0,\"#f0f921\"]],\"type\":\"heatmap\"}],\"histogram2dcontour\":[{\"colorbar\":{\"outlinewidth\":0,\"ticks\":\"\"},\"colorscale\":[[0.0,\"#0d0887\"],[0.1111111111111111,\"#46039f\"],[0.2222222222222222,\"#7201a8\"],[0.3333333333333333,\"#9c179e\"],[0.4444444444444444,\"#bd3786\"],[0.5555555555555556,\"#d8576b\"],[0.6666666666666666,\"#ed7953\"],[0.7777777777777778,\"#fb9f3a\"],[0.8888888888888888,\"#fdca26\"],[1.0,\"#f0f921\"]],\"type\":\"histogram2dcontour\"}],\"histogram2d\":[{\"colorbar\":{\"outlinewidth\":0,\"ticks\":\"\"},\"colorscale\":[[0.0,\"#0d0887\"],[0.1111111111111111,\"#46039f\"],[0.2222222222222222,\"#7201a8\"],[0.3333333333333333,\"#9c179e\"],[0.4444444444444444,\"#bd3786\"],[0.5555555555555556,\"#d8576b\"],[0.6666666666666666,\"#ed7953\"],[0.7777777777777778,\"#fb9f3a\"],[0.8888888888888888,\"#fdca26\"],[1.0,\"#f0f921\"]],\"type\":\"histogram2d\"}],\"histogram\":[{\"marker\":{\"pattern\":{\"fillmode\":\"overlay\",\"size\":10,\"solidity\":0.2}},\"type\":\"histogram\"}],\"mesh3d\":[{\"colorbar\":{\"outlinewidth\":0,\"ticks\":\"\"},\"type\":\"mesh3d\"}],\"parcoords\":[{\"line\":{\"colorbar\":{\"outlinewidth\":0,\"ticks\":\"\"}},\"type\":\"parcoords\"}],\"pie\":[{\"automargin\":true,\"type\":\"pie\"}],\"scatter3d\":[{\"line\":{\"colorbar\":{\"outlinewidth\":0,\"ticks\":\"\"}},\"marker\":{\"colorbar\":{\"outlinewidth\":0,\"ticks\":\"\"}},\"type\":\"scatter3d\"}],\"scattercarpet\":[{\"marker\":{\"colorbar\":{\"outlinewidth\":0,\"ticks\":\"\"}},\"type\":\"scattercarpet\"}],\"scattergeo\":[{\"marker\":{\"colorbar\":{\"outlinewidth\":0,\"ticks\":\"\"}},\"type\":\"scattergeo\"}],\"scattergl\":[{\"marker\":{\"colorbar\":{\"outlinewidth\":0,\"ticks\":\"\"}},\"type\":\"scattergl\"}],\"scattermapbox\":[{\"marker\":{\"colorbar\":{\"outlinewidth\":0,\"ticks\":\"\"}},\"type\":\"scattermapbox\"}],\"scatterpolargl\":[{\"marker\":{\"colorbar\":{\"outlinewidth\":0,\"ticks\":\"\"}},\"type\":\"scatterpolargl\"}],\"scatterpolar\":[{\"marker\":{\"colorbar\":{\"outlinewidth\":0,\"ticks\":\"\"}},\"type\":\"scatterpolar\"}],\"scatter\":[{\"fillpattern\":{\"fillmode\":\"overlay\",\"size\":10,\"solidity\":0.2},\"type\":\"scatter\"}],\"scatterternary\":[{\"marker\":{\"colorbar\":{\"outlinewidth\":0,\"ticks\":\"\"}},\"type\":\"scatterternary\"}],\"surface\":[{\"colorbar\":{\"outlinewidth\":0,\"ticks\":\"\"},\"colorscale\":[[0.0,\"#0d0887\"],[0.1111111111111111,\"#46039f\"],[0.2222222222222222,\"#7201a8\"],[0.3333333333333333,\"#9c179e\"],[0.4444444444444444,\"#bd3786\"],[0.5555555555555556,\"#d8576b\"],[0.6666666666666666,\"#ed7953\"],[0.7777777777777778,\"#fb9f3a\"],[0.8888888888888888,\"#fdca26\"],[1.0,\"#f0f921\"]],\"type\":\"surface\"}],\"table\":[{\"cells\":{\"fill\":{\"color\":\"#EBF0F8\"},\"line\":{\"color\":\"white\"}},\"header\":{\"fill\":{\"color\":\"#C8D4E3\"},\"line\":{\"color\":\"white\"}},\"type\":\"table\"}]},\"layout\":{\"annotationdefaults\":{\"arrowcolor\":\"#2a3f5f\",\"arrowhead\":0,\"arrowwidth\":1},\"autotypenumbers\":\"strict\",\"coloraxis\":{\"colorbar\":{\"outlinewidth\":0,\"ticks\":\"\"}},\"colorscale\":{\"diverging\":[[0,\"#8e0152\"],[0.1,\"#c51b7d\"],[0.2,\"#de77ae\"],[0.3,\"#f1b6da\"],[0.4,\"#fde0ef\"],[0.5,\"#f7f7f7\"],[0.6,\"#e6f5d0\"],[0.7,\"#b8e186\"],[0.8,\"#7fbc41\"],[0.9,\"#4d9221\"],[1,\"#276419\"]],\"sequential\":[[0.0,\"#0d0887\"],[0.1111111111111111,\"#46039f\"],[0.2222222222222222,\"#7201a8\"],[0.3333333333333333,\"#9c179e\"],[0.4444444444444444,\"#bd3786\"],[0.5555555555555556,\"#d8576b\"],[0.6666666666666666,\"#ed7953\"],[0.7777777777777778,\"#fb9f3a\"],[0.8888888888888888,\"#fdca26\"],[1.0,\"#f0f921\"]],\"sequentialminus\":[[0.0,\"#0d0887\"],[0.1111111111111111,\"#46039f\"],[0.2222222222222222,\"#7201a8\"],[0.3333333333333333,\"#9c179e\"],[0.4444444444444444,\"#bd3786\"],[0.5555555555555556,\"#d8576b\"],[0.6666666666666666,\"#ed7953\"],[0.7777777777777778,\"#fb9f3a\"],[0.8888888888888888,\"#fdca26\"],[1.0,\"#f0f921\"]]},\"colorway\":[\"#636efa\",\"#EF553B\",\"#00cc96\",\"#ab63fa\",\"#FFA15A\",\"#19d3f3\",\"#FF6692\",\"#B6E880\",\"#FF97FF\",\"#FECB52\"],\"font\":{\"color\":\"#2a3f5f\"},\"geo\":{\"bgcolor\":\"white\",\"lakecolor\":\"white\",\"landcolor\":\"white\",\"showlakes\":true,\"showland\":true,\"subunitcolor\":\"#C8D4E3\"},\"hoverlabel\":{\"align\":\"left\"},\"hovermode\":\"closest\",\"mapbox\":{\"style\":\"light\"},\"paper_bgcolor\":\"white\",\"plot_bgcolor\":\"white\",\"polar\":{\"angularaxis\":{\"gridcolor\":\"#EBF0F8\",\"linecolor\":\"#EBF0F8\",\"ticks\":\"\"},\"bgcolor\":\"white\",\"radialaxis\":{\"gridcolor\":\"#EBF0F8\",\"linecolor\":\"#EBF0F8\",\"ticks\":\"\"}},\"scene\":{\"xaxis\":{\"backgroundcolor\":\"white\",\"gridcolor\":\"#DFE8F3\",\"gridwidth\":2,\"linecolor\":\"#EBF0F8\",\"showbackground\":true,\"ticks\":\"\",\"zerolinecolor\":\"#EBF0F8\"},\"yaxis\":{\"backgroundcolor\":\"white\",\"gridcolor\":\"#DFE8F3\",\"gridwidth\":2,\"linecolor\":\"#EBF0F8\",\"showbackground\":true,\"ticks\":\"\",\"zerolinecolor\":\"#EBF0F8\"},\"zaxis\":{\"backgroundcolor\":\"white\",\"gridcolor\":\"#DFE8F3\",\"gridwidth\":2,\"linecolor\":\"#EBF0F8\",\"showbackground\":true,\"ticks\":\"\",\"zerolinecolor\":\"#EBF0F8\"}},\"shapedefaults\":{\"line\":{\"color\":\"#2a3f5f\"}},\"ternary\":{\"aaxis\":{\"gridcolor\":\"#DFE8F3\",\"linecolor\":\"#A2B1C6\",\"ticks\":\"\"},\"baxis\":{\"gridcolor\":\"#DFE8F3\",\"linecolor\":\"#A2B1C6\",\"ticks\":\"\"},\"bgcolor\":\"white\",\"caxis\":{\"gridcolor\":\"#DFE8F3\",\"linecolor\":\"#A2B1C6\",\"ticks\":\"\"}},\"title\":{\"x\":0.05},\"xaxis\":{\"automargin\":true,\"gridcolor\":\"#EBF0F8\",\"linecolor\":\"#EBF0F8\",\"ticks\":\"\",\"title\":{\"standoff\":15},\"zerolinecolor\":\"#EBF0F8\",\"zerolinewidth\":2},\"yaxis\":{\"automargin\":true,\"gridcolor\":\"#EBF0F8\",\"linecolor\":\"#EBF0F8\",\"ticks\":\"\",\"title\":{\"standoff\":15},\"zerolinecolor\":\"#EBF0F8\",\"zerolinewidth\":2}}},\"xaxis\":{\"title\":{\"font\":{\"weight\":\"bold\",\"color\":\"black\"}},\"tickangle\":90,\"tickfont\":{\"family\":\"Arial\",\"size\":13,\"color\":\"black\",\"weight\":\"bold\"}},\"height\":900,\"width\":800,\"yaxis\":{\"tickfont\":{\"family\":\"Arial\",\"size\":13,\"color\":\"black\",\"weight\":\"bold\"}},\"shapes\":[{\"line\":{\"color\":\"black\",\"width\":1.5},\"type\":\"line\",\"x0\":-0.5,\"x1\":-0.5,\"y0\":-0.5,\"y1\":6.5},{\"line\":{\"color\":\"black\",\"width\":3},\"type\":\"line\",\"x0\":-0.5,\"x1\":24.5,\"y0\":0.5,\"y1\":0.5},{\"line\":{\"color\":\"black\",\"width\":3},\"type\":\"line\",\"x0\":-0.5,\"x1\":24.5,\"y0\":0.5,\"y1\":0.5},{\"line\":{\"color\":\"black\",\"width\":3},\"type\":\"line\",\"x0\":-0.5,\"x1\":24.5,\"y0\":0.5,\"y1\":0.5},{\"line\":{\"color\":\"black\",\"width\":1.5},\"type\":\"line\",\"x0\":2.5,\"x1\":2.5,\"y0\":-0.5,\"y1\":6.5},{\"line\":{\"color\":\"black\",\"width\":3},\"type\":\"line\",\"x0\":-0.5,\"x1\":24.5,\"y0\":0.5,\"y1\":0.5},{\"line\":{\"color\":\"black\",\"width\":1.5},\"type\":\"line\",\"x0\":3.5,\"x1\":3.5,\"y0\":-0.5,\"y1\":6.5},{\"line\":{\"color\":\"black\",\"width\":3},\"type\":\"line\",\"x0\":-0.5,\"x1\":24.5,\"y0\":0.5,\"y1\":0.5},{\"line\":{\"color\":\"black\",\"width\":1.5},\"type\":\"line\",\"x0\":4.5,\"x1\":4.5,\"y0\":-0.5,\"y1\":6.5},{\"line\":{\"color\":\"black\",\"width\":3},\"type\":\"line\",\"x0\":-0.5,\"x1\":24.5,\"y0\":0.5,\"y1\":0.5},{\"line\":{\"color\":\"black\",\"width\":3},\"type\":\"line\",\"x0\":-0.5,\"x1\":24.5,\"y0\":0.5,\"y1\":0.5},{\"line\":{\"color\":\"black\",\"width\":1.5},\"type\":\"line\",\"x0\":6.5,\"x1\":6.5,\"y0\":-0.5,\"y1\":6.5},{\"line\":{\"color\":\"black\",\"width\":3},\"type\":\"line\",\"x0\":-0.5,\"x1\":24.5,\"y0\":0.5,\"y1\":0.5},{\"line\":{\"color\":\"black\",\"width\":3},\"type\":\"line\",\"x0\":-0.5,\"x1\":24.5,\"y0\":0.5,\"y1\":0.5},{\"line\":{\"color\":\"black\",\"width\":3},\"type\":\"line\",\"x0\":-0.5,\"x1\":24.5,\"y0\":0.5,\"y1\":0.5},{\"line\":{\"color\":\"black\",\"width\":3},\"type\":\"line\",\"x0\":-0.5,\"x1\":24.5,\"y0\":0.5,\"y1\":0.5},{\"line\":{\"color\":\"black\",\"width\":1.5},\"type\":\"line\",\"x0\":10.5,\"x1\":10.5,\"y0\":-0.5,\"y1\":6.5},{\"line\":{\"color\":\"black\",\"width\":3},\"type\":\"line\",\"x0\":-0.5,\"x1\":24.5,\"y0\":0.5,\"y1\":0.5},{\"line\":{\"color\":\"black\",\"width\":3},\"type\":\"line\",\"x0\":-0.5,\"x1\":24.5,\"y0\":0.5,\"y1\":0.5},{\"line\":{\"color\":\"black\",\"width\":3},\"type\":\"line\",\"x0\":-0.5,\"x1\":24.5,\"y0\":0.5,\"y1\":0.5},{\"line\":{\"color\":\"black\",\"width\":1.5},\"type\":\"line\",\"x0\":13.5,\"x1\":13.5,\"y0\":-0.5,\"y1\":6.5},{\"line\":{\"color\":\"black\",\"width\":3},\"type\":\"line\",\"x0\":-0.5,\"x1\":24.5,\"y0\":0.5,\"y1\":0.5},{\"line\":{\"color\":\"black\",\"width\":3},\"type\":\"line\",\"x0\":-0.5,\"x1\":24.5,\"y0\":0.5,\"y1\":0.5},{\"line\":{\"color\":\"black\",\"width\":3},\"type\":\"line\",\"x0\":-0.5,\"x1\":24.5,\"y0\":0.5,\"y1\":0.5},{\"line\":{\"color\":\"black\",\"width\":1.5},\"type\":\"line\",\"x0\":16.5,\"x1\":16.5,\"y0\":-0.5,\"y1\":6.5},{\"line\":{\"color\":\"black\",\"width\":3},\"type\":\"line\",\"x0\":-0.5,\"x1\":24.5,\"y0\":0.5,\"y1\":0.5},{\"line\":{\"color\":\"black\",\"width\":3},\"type\":\"line\",\"x0\":-0.5,\"x1\":24.5,\"y0\":0.5,\"y1\":0.5},{\"line\":{\"color\":\"black\",\"width\":1.5},\"type\":\"line\",\"x0\":18.5,\"x1\":18.5,\"y0\":-0.5,\"y1\":6.5},{\"line\":{\"color\":\"black\",\"width\":3},\"type\":\"line\",\"x0\":-0.5,\"x1\":24.5,\"y0\":0.5,\"y1\":0.5},{\"line\":{\"color\":\"black\",\"width\":3},\"type\":\"line\",\"x0\":-0.5,\"x1\":24.5,\"y0\":0.5,\"y1\":0.5},{\"line\":{\"color\":\"black\",\"width\":3},\"type\":\"line\",\"x0\":-0.5,\"x1\":24.5,\"y0\":0.5,\"y1\":0.5},{\"line\":{\"color\":\"black\",\"width\":3},\"type\":\"line\",\"x0\":-0.5,\"x1\":24.5,\"y0\":0.5,\"y1\":0.5},{\"line\":{\"color\":\"black\",\"width\":3},\"type\":\"line\",\"x0\":-0.5,\"x1\":24.5,\"y0\":0.5,\"y1\":0.5},{\"line\":{\"color\":\"black\",\"width\":3},\"type\":\"line\",\"x0\":23.5,\"x1\":23.5,\"y0\":-0.5,\"y1\":6.5},{\"line\":{\"color\":\"black\",\"width\":3},\"type\":\"line\",\"x0\":-0.5,\"x1\":24.5,\"y0\":0.5,\"y1\":0.5},{\"line\":{\"color\":\"black\",\"width\":1.5},\"type\":\"line\",\"x0\":24.5,\"x1\":24.5,\"y0\":-0.5,\"y1\":6.5},{\"line\":{\"color\":\"black\",\"width\":3},\"type\":\"line\",\"x0\":-0.5,\"x1\":24.5,\"y0\":0.5,\"y1\":0.5}],\"margin\":{\"b\":180}},                        {\"responsive\": true}                    ).then(function(){\n",
       "                            \n",
       "var gd = document.getElementById('01ae890b-a9ee-4dd2-9eee-b7e40f5f9fd9');\n",
       "var x = new MutationObserver(function (mutations, observer) {{\n",
       "        var display = window.getComputedStyle(gd).display;\n",
       "        if (!display || display === 'none') {{\n",
       "            console.log([gd, 'removed!']);\n",
       "            Plotly.purge(gd);\n",
       "            observer.disconnect();\n",
       "        }}\n",
       "}});\n",
       "\n",
       "// Listen for the removal of the full notebook cells\n",
       "var notebookContainer = gd.closest('#notebook-container');\n",
       "if (notebookContainer) {{\n",
       "    x.observe(notebookContainer, {childList: true});\n",
       "}}\n",
       "\n",
       "// Listen for the clearing of the current output cell\n",
       "var outputEl = gd.closest('.output');\n",
       "if (outputEl) {{\n",
       "    x.observe(outputEl, {childList: true});\n",
       "}}\n",
       "\n",
       "                        })                };                });            </script>        </div>"
      ]
     },
     "metadata": {},
     "output_type": "display_data"
    },
    {
     "data": {
      "application/vnd.plotly.v1+json": {
       "data": [
        {
         "colorbar": {
          "tickformat": ".0%"
         },
         "colorscale": [
          [
           0.0,
           "#fcffa4"
          ],
          [
           0.1111111111111111,
           "#f7d13d"
          ],
          [
           0.2222222222222222,
           "#fb9b06"
          ],
          [
           0.3333333333333333,
           "#ed6925"
          ],
          [
           0.4444444444444444,
           "#cf4446"
          ],
          [
           0.5555555555555556,
           "#a52c60"
          ],
          [
           0.6666666666666666,
           "#781c6d"
          ],
          [
           0.7777777777777778,
           "#4a0c6b"
          ],
          [
           0.8888888888888888,
           "#1b0c41"
          ],
          [
           1.0,
           "#000004"
          ]
         ],
         "texttemplate": "%{z:.0%}",
         "x": [
          [
           " ",
           "Diversification",
           "Diversification",
           "Enrichment",
           "Enrichment",
           "Derivation",
           "Derivation",
           "  ",
           "  ",
           "   "
          ],
          [
           "Integration",
           "Adaptation",
           "Recommendation",
           "Profile",
           "Context",
           "Interpretation of<br>User Behaviour",
           "Explanation of<br>System Behaviour",
           "Relation",
           "Interaction",
           "Average"
          ]
         ],
         "xgap": 2,
         "y": [
          "Average ",
          "General ",
          "Finance ",
          "Productivity ",
          "Wellbeing ",
          "Learning ",
          "Sustainability "
         ],
         "ygap": 2,
         "z": [
          [
           0.01853146853146853,
           0.08336570836570838,
           0.07688515188515188,
           0.3480237083178259,
           0.016025641025641028,
           0.07729215229215229,
           0.08708236208236209,
           0.03687516187516188,
           0.01853146853146853,
           0.08473475810077115
          ],
          [
           0.07272727272727272,
           0.18181818181818182,
           0.07272727272727272,
           0.18181818181818182,
           0.0,
           0.07272727272727272,
           0.05454545454545454,
           0.09090909090909091,
           0.07272727272727272,
           0.08888888888888888
          ],
          [
           0.0,
           0.0,
           0.14285714285714285,
           0.42857142857142855,
           0.0,
           0.0,
           0.0,
           0.0,
           0.0,
           0.06349206349206349
          ],
          [
           0.0,
           0.0,
           0.0,
           0.17647058823529413,
           0.0,
           0.0,
           0.0,
           0.0,
           0.0,
           0.0196078431372549
          ],
          [
           0.038461538461538464,
           0.09615384615384616,
           0.1346153846153846,
           0.6346153846153846,
           0.09615384615384616,
           0.057692307692307696,
           0.1346153846153846,
           0.019230769230769232,
           0.038461538461538464,
           0.1388888888888889
          ],
          [
           0.0,
           0.1111111111111111,
           0.1111111111111111,
           0.3333333333333333,
           0.0,
           0.3333333333333333,
           0.2222222222222222,
           0.1111111111111111,
           0.0,
           0.1358024691358025
          ],
          [
           0.0,
           0.1111111111111111,
           0.0,
           0.3333333333333333,
           0.0,
           0.0,
           0.1111111111111111,
           0.0,
           0.0,
           0.0617283950617284
          ]
         ],
         "zmax": 1,
         "zmin": 0,
         "type": "heatmap"
        }
       ],
       "layout": {
        "template": {
         "data": {
          "barpolar": [
           {
            "marker": {
             "line": {
              "color": "white",
              "width": 0.5
             },
             "pattern": {
              "fillmode": "overlay",
              "size": 10,
              "solidity": 0.2
             }
            },
            "type": "barpolar"
           }
          ],
          "bar": [
           {
            "error_x": {
             "color": "#2a3f5f"
            },
            "error_y": {
             "color": "#2a3f5f"
            },
            "marker": {
             "line": {
              "color": "white",
              "width": 0.5
             },
             "pattern": {
              "fillmode": "overlay",
              "size": 10,
              "solidity": 0.2
             }
            },
            "type": "bar"
           }
          ],
          "carpet": [
           {
            "aaxis": {
             "endlinecolor": "#2a3f5f",
             "gridcolor": "#C8D4E3",
             "linecolor": "#C8D4E3",
             "minorgridcolor": "#C8D4E3",
             "startlinecolor": "#2a3f5f"
            },
            "baxis": {
             "endlinecolor": "#2a3f5f",
             "gridcolor": "#C8D4E3",
             "linecolor": "#C8D4E3",
             "minorgridcolor": "#C8D4E3",
             "startlinecolor": "#2a3f5f"
            },
            "type": "carpet"
           }
          ],
          "choropleth": [
           {
            "colorbar": {
             "outlinewidth": 0,
             "ticks": ""
            },
            "type": "choropleth"
           }
          ],
          "contourcarpet": [
           {
            "colorbar": {
             "outlinewidth": 0,
             "ticks": ""
            },
            "type": "contourcarpet"
           }
          ],
          "contour": [
           {
            "colorbar": {
             "outlinewidth": 0,
             "ticks": ""
            },
            "colorscale": [
             [
              0.0,
              "#0d0887"
             ],
             [
              0.1111111111111111,
              "#46039f"
             ],
             [
              0.2222222222222222,
              "#7201a8"
             ],
             [
              0.3333333333333333,
              "#9c179e"
             ],
             [
              0.4444444444444444,
              "#bd3786"
             ],
             [
              0.5555555555555556,
              "#d8576b"
             ],
             [
              0.6666666666666666,
              "#ed7953"
             ],
             [
              0.7777777777777778,
              "#fb9f3a"
             ],
             [
              0.8888888888888888,
              "#fdca26"
             ],
             [
              1.0,
              "#f0f921"
             ]
            ],
            "type": "contour"
           }
          ],
          "heatmapgl": [
           {
            "colorbar": {
             "outlinewidth": 0,
             "ticks": ""
            },
            "colorscale": [
             [
              0.0,
              "#0d0887"
             ],
             [
              0.1111111111111111,
              "#46039f"
             ],
             [
              0.2222222222222222,
              "#7201a8"
             ],
             [
              0.3333333333333333,
              "#9c179e"
             ],
             [
              0.4444444444444444,
              "#bd3786"
             ],
             [
              0.5555555555555556,
              "#d8576b"
             ],
             [
              0.6666666666666666,
              "#ed7953"
             ],
             [
              0.7777777777777778,
              "#fb9f3a"
             ],
             [
              0.8888888888888888,
              "#fdca26"
             ],
             [
              1.0,
              "#f0f921"
             ]
            ],
            "type": "heatmapgl"
           }
          ],
          "heatmap": [
           {
            "colorbar": {
             "outlinewidth": 0,
             "ticks": ""
            },
            "colorscale": [
             [
              0.0,
              "#0d0887"
             ],
             [
              0.1111111111111111,
              "#46039f"
             ],
             [
              0.2222222222222222,
              "#7201a8"
             ],
             [
              0.3333333333333333,
              "#9c179e"
             ],
             [
              0.4444444444444444,
              "#bd3786"
             ],
             [
              0.5555555555555556,
              "#d8576b"
             ],
             [
              0.6666666666666666,
              "#ed7953"
             ],
             [
              0.7777777777777778,
              "#fb9f3a"
             ],
             [
              0.8888888888888888,
              "#fdca26"
             ],
             [
              1.0,
              "#f0f921"
             ]
            ],
            "type": "heatmap"
           }
          ],
          "histogram2dcontour": [
           {
            "colorbar": {
             "outlinewidth": 0,
             "ticks": ""
            },
            "colorscale": [
             [
              0.0,
              "#0d0887"
             ],
             [
              0.1111111111111111,
              "#46039f"
             ],
             [
              0.2222222222222222,
              "#7201a8"
             ],
             [
              0.3333333333333333,
              "#9c179e"
             ],
             [
              0.4444444444444444,
              "#bd3786"
             ],
             [
              0.5555555555555556,
              "#d8576b"
             ],
             [
              0.6666666666666666,
              "#ed7953"
             ],
             [
              0.7777777777777778,
              "#fb9f3a"
             ],
             [
              0.8888888888888888,
              "#fdca26"
             ],
             [
              1.0,
              "#f0f921"
             ]
            ],
            "type": "histogram2dcontour"
           }
          ],
          "histogram2d": [
           {
            "colorbar": {
             "outlinewidth": 0,
             "ticks": ""
            },
            "colorscale": [
             [
              0.0,
              "#0d0887"
             ],
             [
              0.1111111111111111,
              "#46039f"
             ],
             [
              0.2222222222222222,
              "#7201a8"
             ],
             [
              0.3333333333333333,
              "#9c179e"
             ],
             [
              0.4444444444444444,
              "#bd3786"
             ],
             [
              0.5555555555555556,
              "#d8576b"
             ],
             [
              0.6666666666666666,
              "#ed7953"
             ],
             [
              0.7777777777777778,
              "#fb9f3a"
             ],
             [
              0.8888888888888888,
              "#fdca26"
             ],
             [
              1.0,
              "#f0f921"
             ]
            ],
            "type": "histogram2d"
           }
          ],
          "histogram": [
           {
            "marker": {
             "pattern": {
              "fillmode": "overlay",
              "size": 10,
              "solidity": 0.2
             }
            },
            "type": "histogram"
           }
          ],
          "mesh3d": [
           {
            "colorbar": {
             "outlinewidth": 0,
             "ticks": ""
            },
            "type": "mesh3d"
           }
          ],
          "parcoords": [
           {
            "line": {
             "colorbar": {
              "outlinewidth": 0,
              "ticks": ""
             }
            },
            "type": "parcoords"
           }
          ],
          "pie": [
           {
            "automargin": true,
            "type": "pie"
           }
          ],
          "scatter3d": [
           {
            "line": {
             "colorbar": {
              "outlinewidth": 0,
              "ticks": ""
             }
            },
            "marker": {
             "colorbar": {
              "outlinewidth": 0,
              "ticks": ""
             }
            },
            "type": "scatter3d"
           }
          ],
          "scattercarpet": [
           {
            "marker": {
             "colorbar": {
              "outlinewidth": 0,
              "ticks": ""
             }
            },
            "type": "scattercarpet"
           }
          ],
          "scattergeo": [
           {
            "marker": {
             "colorbar": {
              "outlinewidth": 0,
              "ticks": ""
             }
            },
            "type": "scattergeo"
           }
          ],
          "scattergl": [
           {
            "marker": {
             "colorbar": {
              "outlinewidth": 0,
              "ticks": ""
             }
            },
            "type": "scattergl"
           }
          ],
          "scattermapbox": [
           {
            "marker": {
             "colorbar": {
              "outlinewidth": 0,
              "ticks": ""
             }
            },
            "type": "scattermapbox"
           }
          ],
          "scatterpolargl": [
           {
            "marker": {
             "colorbar": {
              "outlinewidth": 0,
              "ticks": ""
             }
            },
            "type": "scatterpolargl"
           }
          ],
          "scatterpolar": [
           {
            "marker": {
             "colorbar": {
              "outlinewidth": 0,
              "ticks": ""
             }
            },
            "type": "scatterpolar"
           }
          ],
          "scatter": [
           {
            "fillpattern": {
             "fillmode": "overlay",
             "size": 10,
             "solidity": 0.2
            },
            "type": "scatter"
           }
          ],
          "scatterternary": [
           {
            "marker": {
             "colorbar": {
              "outlinewidth": 0,
              "ticks": ""
             }
            },
            "type": "scatterternary"
           }
          ],
          "surface": [
           {
            "colorbar": {
             "outlinewidth": 0,
             "ticks": ""
            },
            "colorscale": [
             [
              0.0,
              "#0d0887"
             ],
             [
              0.1111111111111111,
              "#46039f"
             ],
             [
              0.2222222222222222,
              "#7201a8"
             ],
             [
              0.3333333333333333,
              "#9c179e"
             ],
             [
              0.4444444444444444,
              "#bd3786"
             ],
             [
              0.5555555555555556,
              "#d8576b"
             ],
             [
              0.6666666666666666,
              "#ed7953"
             ],
             [
              0.7777777777777778,
              "#fb9f3a"
             ],
             [
              0.8888888888888888,
              "#fdca26"
             ],
             [
              1.0,
              "#f0f921"
             ]
            ],
            "type": "surface"
           }
          ],
          "table": [
           {
            "cells": {
             "fill": {
              "color": "#EBF0F8"
             },
             "line": {
              "color": "white"
             }
            },
            "header": {
             "fill": {
              "color": "#C8D4E3"
             },
             "line": {
              "color": "white"
             }
            },
            "type": "table"
           }
          ]
         },
         "layout": {
          "annotationdefaults": {
           "arrowcolor": "#2a3f5f",
           "arrowhead": 0,
           "arrowwidth": 1
          },
          "autotypenumbers": "strict",
          "coloraxis": {
           "colorbar": {
            "outlinewidth": 0,
            "ticks": ""
           }
          },
          "colorscale": {
           "diverging": [
            [
             0,
             "#8e0152"
            ],
            [
             0.1,
             "#c51b7d"
            ],
            [
             0.2,
             "#de77ae"
            ],
            [
             0.3,
             "#f1b6da"
            ],
            [
             0.4,
             "#fde0ef"
            ],
            [
             0.5,
             "#f7f7f7"
            ],
            [
             0.6,
             "#e6f5d0"
            ],
            [
             0.7,
             "#b8e186"
            ],
            [
             0.8,
             "#7fbc41"
            ],
            [
             0.9,
             "#4d9221"
            ],
            [
             1,
             "#276419"
            ]
           ],
           "sequential": [
            [
             0.0,
             "#0d0887"
            ],
            [
             0.1111111111111111,
             "#46039f"
            ],
            [
             0.2222222222222222,
             "#7201a8"
            ],
            [
             0.3333333333333333,
             "#9c179e"
            ],
            [
             0.4444444444444444,
             "#bd3786"
            ],
            [
             0.5555555555555556,
             "#d8576b"
            ],
            [
             0.6666666666666666,
             "#ed7953"
            ],
            [
             0.7777777777777778,
             "#fb9f3a"
            ],
            [
             0.8888888888888888,
             "#fdca26"
            ],
            [
             1.0,
             "#f0f921"
            ]
           ],
           "sequentialminus": [
            [
             0.0,
             "#0d0887"
            ],
            [
             0.1111111111111111,
             "#46039f"
            ],
            [
             0.2222222222222222,
             "#7201a8"
            ],
            [
             0.3333333333333333,
             "#9c179e"
            ],
            [
             0.4444444444444444,
             "#bd3786"
            ],
            [
             0.5555555555555556,
             "#d8576b"
            ],
            [
             0.6666666666666666,
             "#ed7953"
            ],
            [
             0.7777777777777778,
             "#fb9f3a"
            ],
            [
             0.8888888888888888,
             "#fdca26"
            ],
            [
             1.0,
             "#f0f921"
            ]
           ]
          },
          "colorway": [
           "#636efa",
           "#EF553B",
           "#00cc96",
           "#ab63fa",
           "#FFA15A",
           "#19d3f3",
           "#FF6692",
           "#B6E880",
           "#FF97FF",
           "#FECB52"
          ],
          "font": {
           "color": "#2a3f5f"
          },
          "geo": {
           "bgcolor": "white",
           "lakecolor": "white",
           "landcolor": "white",
           "showlakes": true,
           "showland": true,
           "subunitcolor": "#C8D4E3"
          },
          "hoverlabel": {
           "align": "left"
          },
          "hovermode": "closest",
          "mapbox": {
           "style": "light"
          },
          "paper_bgcolor": "white",
          "plot_bgcolor": "white",
          "polar": {
           "angularaxis": {
            "gridcolor": "#EBF0F8",
            "linecolor": "#EBF0F8",
            "ticks": ""
           },
           "bgcolor": "white",
           "radialaxis": {
            "gridcolor": "#EBF0F8",
            "linecolor": "#EBF0F8",
            "ticks": ""
           }
          },
          "scene": {
           "xaxis": {
            "backgroundcolor": "white",
            "gridcolor": "#DFE8F3",
            "gridwidth": 2,
            "linecolor": "#EBF0F8",
            "showbackground": true,
            "ticks": "",
            "zerolinecolor": "#EBF0F8"
           },
           "yaxis": {
            "backgroundcolor": "white",
            "gridcolor": "#DFE8F3",
            "gridwidth": 2,
            "linecolor": "#EBF0F8",
            "showbackground": true,
            "ticks": "",
            "zerolinecolor": "#EBF0F8"
           },
           "zaxis": {
            "backgroundcolor": "white",
            "gridcolor": "#DFE8F3",
            "gridwidth": 2,
            "linecolor": "#EBF0F8",
            "showbackground": true,
            "ticks": "",
            "zerolinecolor": "#EBF0F8"
           }
          },
          "shapedefaults": {
           "line": {
            "color": "#2a3f5f"
           }
          },
          "ternary": {
           "aaxis": {
            "gridcolor": "#DFE8F3",
            "linecolor": "#A2B1C6",
            "ticks": ""
           },
           "baxis": {
            "gridcolor": "#DFE8F3",
            "linecolor": "#A2B1C6",
            "ticks": ""
           },
           "bgcolor": "white",
           "caxis": {
            "gridcolor": "#DFE8F3",
            "linecolor": "#A2B1C6",
            "ticks": ""
           }
          },
          "title": {
           "x": 0.05
          },
          "xaxis": {
           "automargin": true,
           "gridcolor": "#EBF0F8",
           "linecolor": "#EBF0F8",
           "ticks": "",
           "title": {
            "standoff": 15
           },
           "zerolinecolor": "#EBF0F8",
           "zerolinewidth": 2
          },
          "yaxis": {
           "automargin": true,
           "gridcolor": "#EBF0F8",
           "linecolor": "#EBF0F8",
           "ticks": "",
           "title": {
            "standoff": 15
           },
           "zerolinecolor": "#EBF0F8",
           "zerolinewidth": 2
          }
         }
        },
        "xaxis": {
         "title": {
          "font": {
           "weight": "bold",
           "color": "black"
          }
         },
         "tickangle": 90,
         "tickfont": {
          "family": "Arial",
          "size": 13,
          "color": "black",
          "weight": "bold"
         }
        },
        "height": 900,
        "width": 800,
        "yaxis": {
         "tickfont": {
          "family": "Arial",
          "size": 13,
          "color": "black",
          "weight": "bold"
         }
        },
        "shapes": [
         {
          "line": {
           "color": "black",
           "width": 1.5
          },
          "type": "line",
          "x0": -0.5,
          "x1": -0.5,
          "y0": -0.5,
          "y1": 6.5
         },
         {
          "line": {
           "color": "black",
           "width": 3
          },
          "type": "line",
          "x0": -0.5,
          "x1": 9.5,
          "y0": 0.5,
          "y1": 0.5
         },
         {
          "line": {
           "color": "black",
           "width": 1.5
          },
          "type": "line",
          "x0": 0.5,
          "x1": 0.5,
          "y0": -0.5,
          "y1": 6.5
         },
         {
          "line": {
           "color": "black",
           "width": 3
          },
          "type": "line",
          "x0": -0.5,
          "x1": 9.5,
          "y0": 0.5,
          "y1": 0.5
         },
         {
          "line": {
           "color": "black",
           "width": 3
          },
          "type": "line",
          "x0": -0.5,
          "x1": 9.5,
          "y0": 0.5,
          "y1": 0.5
         },
         {
          "line": {
           "color": "black",
           "width": 1.5
          },
          "type": "line",
          "x0": 2.5,
          "x1": 2.5,
          "y0": -0.5,
          "y1": 6.5
         },
         {
          "line": {
           "color": "black",
           "width": 3
          },
          "type": "line",
          "x0": -0.5,
          "x1": 9.5,
          "y0": 0.5,
          "y1": 0.5
         },
         {
          "line": {
           "color": "black",
           "width": 3
          },
          "type": "line",
          "x0": -0.5,
          "x1": 9.5,
          "y0": 0.5,
          "y1": 0.5
         },
         {
          "line": {
           "color": "black",
           "width": 1.5
          },
          "type": "line",
          "x0": 4.5,
          "x1": 4.5,
          "y0": -0.5,
          "y1": 6.5
         },
         {
          "line": {
           "color": "black",
           "width": 3
          },
          "type": "line",
          "x0": -0.5,
          "x1": 9.5,
          "y0": 0.5,
          "y1": 0.5
         },
         {
          "line": {
           "color": "black",
           "width": 3
          },
          "type": "line",
          "x0": -0.5,
          "x1": 9.5,
          "y0": 0.5,
          "y1": 0.5
         },
         {
          "line": {
           "color": "black",
           "width": 1.5
          },
          "type": "line",
          "x0": 6.5,
          "x1": 6.5,
          "y0": -0.5,
          "y1": 6.5
         },
         {
          "line": {
           "color": "black",
           "width": 3
          },
          "type": "line",
          "x0": -0.5,
          "x1": 9.5,
          "y0": 0.5,
          "y1": 0.5
         },
         {
          "line": {
           "color": "black",
           "width": 3
          },
          "type": "line",
          "x0": -0.5,
          "x1": 9.5,
          "y0": 0.5,
          "y1": 0.5
         },
         {
          "line": {
           "color": "black",
           "width": 3
          },
          "type": "line",
          "x0": 8.5,
          "x1": 8.5,
          "y0": -0.5,
          "y1": 6.5
         },
         {
          "line": {
           "color": "black",
           "width": 3
          },
          "type": "line",
          "x0": -0.5,
          "x1": 9.5,
          "y0": 0.5,
          "y1": 0.5
         },
         {
          "line": {
           "color": "black",
           "width": 1.5
          },
          "type": "line",
          "x0": 9.5,
          "x1": 9.5,
          "y0": -0.5,
          "y1": 6.5
         },
         {
          "line": {
           "color": "black",
           "width": 3
          },
          "type": "line",
          "x0": -0.5,
          "x1": 9.5,
          "y0": 0.5,
          "y1": 0.5
         }
        ],
        "margin": {
         "b": 180
        },
        "annotations": [
         {
          "align": "center",
          "font": {
           "color": "black",
           "family": "Arial",
           "size": 14,
           "weight": "bold"
          },
          "showarrow": false,
          "text": "|                System                |                    Knowledge                    |           Social         |              |",
          "x": 0.5,
          "xref": "paper",
          "y": -0.25,
          "yref": "paper"
         }
        ]
       },
       "config": {
        "plotlyServerURL": "https://plot.ly"
       }
      },
      "text/html": [
       "<div>                            <div id=\"4dcd723d-4f01-4876-b15d-316c52ff104f\" class=\"plotly-graph-div\" style=\"height:900px; width:800px;\"></div>            <script type=\"text/javascript\">                require([\"plotly\"], function(Plotly) {                    window.PLOTLYENV=window.PLOTLYENV || {};                                    if (document.getElementById(\"4dcd723d-4f01-4876-b15d-316c52ff104f\")) {                    Plotly.newPlot(                        \"4dcd723d-4f01-4876-b15d-316c52ff104f\",                        [{\"colorbar\":{\"tickformat\":\".0%\"},\"colorscale\":[[0.0,\"#fcffa4\"],[0.1111111111111111,\"#f7d13d\"],[0.2222222222222222,\"#fb9b06\"],[0.3333333333333333,\"#ed6925\"],[0.4444444444444444,\"#cf4446\"],[0.5555555555555556,\"#a52c60\"],[0.6666666666666666,\"#781c6d\"],[0.7777777777777778,\"#4a0c6b\"],[0.8888888888888888,\"#1b0c41\"],[1.0,\"#000004\"]],\"texttemplate\":\"%{z:.0%}\",\"x\":[[\" \",\"Diversification\",\"Diversification\",\"Enrichment\",\"Enrichment\",\"Derivation\",\"Derivation\",\"  \",\"  \",\"   \"],[\"Integration\",\"Adaptation\",\"Recommendation\",\"Profile\",\"Context\",\"Interpretation of\\u003cbr\\u003eUser Behaviour\",\"Explanation of\\u003cbr\\u003eSystem Behaviour\",\"Relation\",\"Interaction\",\"Average\"]],\"xgap\":2,\"y\":[\"Average \",\"General \",\"Finance \",\"Productivity \",\"Wellbeing \",\"Learning \",\"Sustainability \"],\"ygap\":2,\"z\":[[0.01853146853146853,0.08336570836570838,0.07688515188515188,0.3480237083178259,0.016025641025641028,0.07729215229215229,0.08708236208236209,0.03687516187516188,0.01853146853146853,0.08473475810077115],[0.07272727272727272,0.18181818181818182,0.07272727272727272,0.18181818181818182,0.0,0.07272727272727272,0.05454545454545454,0.09090909090909091,0.07272727272727272,0.08888888888888888],[0.0,0.0,0.14285714285714285,0.42857142857142855,0.0,0.0,0.0,0.0,0.0,0.06349206349206349],[0.0,0.0,0.0,0.17647058823529413,0.0,0.0,0.0,0.0,0.0,0.0196078431372549],[0.038461538461538464,0.09615384615384616,0.1346153846153846,0.6346153846153846,0.09615384615384616,0.057692307692307696,0.1346153846153846,0.019230769230769232,0.038461538461538464,0.1388888888888889],[0.0,0.1111111111111111,0.1111111111111111,0.3333333333333333,0.0,0.3333333333333333,0.2222222222222222,0.1111111111111111,0.0,0.1358024691358025],[0.0,0.1111111111111111,0.0,0.3333333333333333,0.0,0.0,0.1111111111111111,0.0,0.0,0.0617283950617284]],\"zmax\":1,\"zmin\":0,\"type\":\"heatmap\"}],                        {\"template\":{\"data\":{\"barpolar\":[{\"marker\":{\"line\":{\"color\":\"white\",\"width\":0.5},\"pattern\":{\"fillmode\":\"overlay\",\"size\":10,\"solidity\":0.2}},\"type\":\"barpolar\"}],\"bar\":[{\"error_x\":{\"color\":\"#2a3f5f\"},\"error_y\":{\"color\":\"#2a3f5f\"},\"marker\":{\"line\":{\"color\":\"white\",\"width\":0.5},\"pattern\":{\"fillmode\":\"overlay\",\"size\":10,\"solidity\":0.2}},\"type\":\"bar\"}],\"carpet\":[{\"aaxis\":{\"endlinecolor\":\"#2a3f5f\",\"gridcolor\":\"#C8D4E3\",\"linecolor\":\"#C8D4E3\",\"minorgridcolor\":\"#C8D4E3\",\"startlinecolor\":\"#2a3f5f\"},\"baxis\":{\"endlinecolor\":\"#2a3f5f\",\"gridcolor\":\"#C8D4E3\",\"linecolor\":\"#C8D4E3\",\"minorgridcolor\":\"#C8D4E3\",\"startlinecolor\":\"#2a3f5f\"},\"type\":\"carpet\"}],\"choropleth\":[{\"colorbar\":{\"outlinewidth\":0,\"ticks\":\"\"},\"type\":\"choropleth\"}],\"contourcarpet\":[{\"colorbar\":{\"outlinewidth\":0,\"ticks\":\"\"},\"type\":\"contourcarpet\"}],\"contour\":[{\"colorbar\":{\"outlinewidth\":0,\"ticks\":\"\"},\"colorscale\":[[0.0,\"#0d0887\"],[0.1111111111111111,\"#46039f\"],[0.2222222222222222,\"#7201a8\"],[0.3333333333333333,\"#9c179e\"],[0.4444444444444444,\"#bd3786\"],[0.5555555555555556,\"#d8576b\"],[0.6666666666666666,\"#ed7953\"],[0.7777777777777778,\"#fb9f3a\"],[0.8888888888888888,\"#fdca26\"],[1.0,\"#f0f921\"]],\"type\":\"contour\"}],\"heatmapgl\":[{\"colorbar\":{\"outlinewidth\":0,\"ticks\":\"\"},\"colorscale\":[[0.0,\"#0d0887\"],[0.1111111111111111,\"#46039f\"],[0.2222222222222222,\"#7201a8\"],[0.3333333333333333,\"#9c179e\"],[0.4444444444444444,\"#bd3786\"],[0.5555555555555556,\"#d8576b\"],[0.6666666666666666,\"#ed7953\"],[0.7777777777777778,\"#fb9f3a\"],[0.8888888888888888,\"#fdca26\"],[1.0,\"#f0f921\"]],\"type\":\"heatmapgl\"}],\"heatmap\":[{\"colorbar\":{\"outlinewidth\":0,\"ticks\":\"\"},\"colorscale\":[[0.0,\"#0d0887\"],[0.1111111111111111,\"#46039f\"],[0.2222222222222222,\"#7201a8\"],[0.3333333333333333,\"#9c179e\"],[0.4444444444444444,\"#bd3786\"],[0.5555555555555556,\"#d8576b\"],[0.6666666666666666,\"#ed7953\"],[0.7777777777777778,\"#fb9f3a\"],[0.8888888888888888,\"#fdca26\"],[1.0,\"#f0f921\"]],\"type\":\"heatmap\"}],\"histogram2dcontour\":[{\"colorbar\":{\"outlinewidth\":0,\"ticks\":\"\"},\"colorscale\":[[0.0,\"#0d0887\"],[0.1111111111111111,\"#46039f\"],[0.2222222222222222,\"#7201a8\"],[0.3333333333333333,\"#9c179e\"],[0.4444444444444444,\"#bd3786\"],[0.5555555555555556,\"#d8576b\"],[0.6666666666666666,\"#ed7953\"],[0.7777777777777778,\"#fb9f3a\"],[0.8888888888888888,\"#fdca26\"],[1.0,\"#f0f921\"]],\"type\":\"histogram2dcontour\"}],\"histogram2d\":[{\"colorbar\":{\"outlinewidth\":0,\"ticks\":\"\"},\"colorscale\":[[0.0,\"#0d0887\"],[0.1111111111111111,\"#46039f\"],[0.2222222222222222,\"#7201a8\"],[0.3333333333333333,\"#9c179e\"],[0.4444444444444444,\"#bd3786\"],[0.5555555555555556,\"#d8576b\"],[0.6666666666666666,\"#ed7953\"],[0.7777777777777778,\"#fb9f3a\"],[0.8888888888888888,\"#fdca26\"],[1.0,\"#f0f921\"]],\"type\":\"histogram2d\"}],\"histogram\":[{\"marker\":{\"pattern\":{\"fillmode\":\"overlay\",\"size\":10,\"solidity\":0.2}},\"type\":\"histogram\"}],\"mesh3d\":[{\"colorbar\":{\"outlinewidth\":0,\"ticks\":\"\"},\"type\":\"mesh3d\"}],\"parcoords\":[{\"line\":{\"colorbar\":{\"outlinewidth\":0,\"ticks\":\"\"}},\"type\":\"parcoords\"}],\"pie\":[{\"automargin\":true,\"type\":\"pie\"}],\"scatter3d\":[{\"line\":{\"colorbar\":{\"outlinewidth\":0,\"ticks\":\"\"}},\"marker\":{\"colorbar\":{\"outlinewidth\":0,\"ticks\":\"\"}},\"type\":\"scatter3d\"}],\"scattercarpet\":[{\"marker\":{\"colorbar\":{\"outlinewidth\":0,\"ticks\":\"\"}},\"type\":\"scattercarpet\"}],\"scattergeo\":[{\"marker\":{\"colorbar\":{\"outlinewidth\":0,\"ticks\":\"\"}},\"type\":\"scattergeo\"}],\"scattergl\":[{\"marker\":{\"colorbar\":{\"outlinewidth\":0,\"ticks\":\"\"}},\"type\":\"scattergl\"}],\"scattermapbox\":[{\"marker\":{\"colorbar\":{\"outlinewidth\":0,\"ticks\":\"\"}},\"type\":\"scattermapbox\"}],\"scatterpolargl\":[{\"marker\":{\"colorbar\":{\"outlinewidth\":0,\"ticks\":\"\"}},\"type\":\"scatterpolargl\"}],\"scatterpolar\":[{\"marker\":{\"colorbar\":{\"outlinewidth\":0,\"ticks\":\"\"}},\"type\":\"scatterpolar\"}],\"scatter\":[{\"fillpattern\":{\"fillmode\":\"overlay\",\"size\":10,\"solidity\":0.2},\"type\":\"scatter\"}],\"scatterternary\":[{\"marker\":{\"colorbar\":{\"outlinewidth\":0,\"ticks\":\"\"}},\"type\":\"scatterternary\"}],\"surface\":[{\"colorbar\":{\"outlinewidth\":0,\"ticks\":\"\"},\"colorscale\":[[0.0,\"#0d0887\"],[0.1111111111111111,\"#46039f\"],[0.2222222222222222,\"#7201a8\"],[0.3333333333333333,\"#9c179e\"],[0.4444444444444444,\"#bd3786\"],[0.5555555555555556,\"#d8576b\"],[0.6666666666666666,\"#ed7953\"],[0.7777777777777778,\"#fb9f3a\"],[0.8888888888888888,\"#fdca26\"],[1.0,\"#f0f921\"]],\"type\":\"surface\"}],\"table\":[{\"cells\":{\"fill\":{\"color\":\"#EBF0F8\"},\"line\":{\"color\":\"white\"}},\"header\":{\"fill\":{\"color\":\"#C8D4E3\"},\"line\":{\"color\":\"white\"}},\"type\":\"table\"}]},\"layout\":{\"annotationdefaults\":{\"arrowcolor\":\"#2a3f5f\",\"arrowhead\":0,\"arrowwidth\":1},\"autotypenumbers\":\"strict\",\"coloraxis\":{\"colorbar\":{\"outlinewidth\":0,\"ticks\":\"\"}},\"colorscale\":{\"diverging\":[[0,\"#8e0152\"],[0.1,\"#c51b7d\"],[0.2,\"#de77ae\"],[0.3,\"#f1b6da\"],[0.4,\"#fde0ef\"],[0.5,\"#f7f7f7\"],[0.6,\"#e6f5d0\"],[0.7,\"#b8e186\"],[0.8,\"#7fbc41\"],[0.9,\"#4d9221\"],[1,\"#276419\"]],\"sequential\":[[0.0,\"#0d0887\"],[0.1111111111111111,\"#46039f\"],[0.2222222222222222,\"#7201a8\"],[0.3333333333333333,\"#9c179e\"],[0.4444444444444444,\"#bd3786\"],[0.5555555555555556,\"#d8576b\"],[0.6666666666666666,\"#ed7953\"],[0.7777777777777778,\"#fb9f3a\"],[0.8888888888888888,\"#fdca26\"],[1.0,\"#f0f921\"]],\"sequentialminus\":[[0.0,\"#0d0887\"],[0.1111111111111111,\"#46039f\"],[0.2222222222222222,\"#7201a8\"],[0.3333333333333333,\"#9c179e\"],[0.4444444444444444,\"#bd3786\"],[0.5555555555555556,\"#d8576b\"],[0.6666666666666666,\"#ed7953\"],[0.7777777777777778,\"#fb9f3a\"],[0.8888888888888888,\"#fdca26\"],[1.0,\"#f0f921\"]]},\"colorway\":[\"#636efa\",\"#EF553B\",\"#00cc96\",\"#ab63fa\",\"#FFA15A\",\"#19d3f3\",\"#FF6692\",\"#B6E880\",\"#FF97FF\",\"#FECB52\"],\"font\":{\"color\":\"#2a3f5f\"},\"geo\":{\"bgcolor\":\"white\",\"lakecolor\":\"white\",\"landcolor\":\"white\",\"showlakes\":true,\"showland\":true,\"subunitcolor\":\"#C8D4E3\"},\"hoverlabel\":{\"align\":\"left\"},\"hovermode\":\"closest\",\"mapbox\":{\"style\":\"light\"},\"paper_bgcolor\":\"white\",\"plot_bgcolor\":\"white\",\"polar\":{\"angularaxis\":{\"gridcolor\":\"#EBF0F8\",\"linecolor\":\"#EBF0F8\",\"ticks\":\"\"},\"bgcolor\":\"white\",\"radialaxis\":{\"gridcolor\":\"#EBF0F8\",\"linecolor\":\"#EBF0F8\",\"ticks\":\"\"}},\"scene\":{\"xaxis\":{\"backgroundcolor\":\"white\",\"gridcolor\":\"#DFE8F3\",\"gridwidth\":2,\"linecolor\":\"#EBF0F8\",\"showbackground\":true,\"ticks\":\"\",\"zerolinecolor\":\"#EBF0F8\"},\"yaxis\":{\"backgroundcolor\":\"white\",\"gridcolor\":\"#DFE8F3\",\"gridwidth\":2,\"linecolor\":\"#EBF0F8\",\"showbackground\":true,\"ticks\":\"\",\"zerolinecolor\":\"#EBF0F8\"},\"zaxis\":{\"backgroundcolor\":\"white\",\"gridcolor\":\"#DFE8F3\",\"gridwidth\":2,\"linecolor\":\"#EBF0F8\",\"showbackground\":true,\"ticks\":\"\",\"zerolinecolor\":\"#EBF0F8\"}},\"shapedefaults\":{\"line\":{\"color\":\"#2a3f5f\"}},\"ternary\":{\"aaxis\":{\"gridcolor\":\"#DFE8F3\",\"linecolor\":\"#A2B1C6\",\"ticks\":\"\"},\"baxis\":{\"gridcolor\":\"#DFE8F3\",\"linecolor\":\"#A2B1C6\",\"ticks\":\"\"},\"bgcolor\":\"white\",\"caxis\":{\"gridcolor\":\"#DFE8F3\",\"linecolor\":\"#A2B1C6\",\"ticks\":\"\"}},\"title\":{\"x\":0.05},\"xaxis\":{\"automargin\":true,\"gridcolor\":\"#EBF0F8\",\"linecolor\":\"#EBF0F8\",\"ticks\":\"\",\"title\":{\"standoff\":15},\"zerolinecolor\":\"#EBF0F8\",\"zerolinewidth\":2},\"yaxis\":{\"automargin\":true,\"gridcolor\":\"#EBF0F8\",\"linecolor\":\"#EBF0F8\",\"ticks\":\"\",\"title\":{\"standoff\":15},\"zerolinecolor\":\"#EBF0F8\",\"zerolinewidth\":2}}},\"xaxis\":{\"title\":{\"font\":{\"weight\":\"bold\",\"color\":\"black\"}},\"tickangle\":90,\"tickfont\":{\"family\":\"Arial\",\"size\":13,\"color\":\"black\",\"weight\":\"bold\"}},\"height\":900,\"width\":800,\"yaxis\":{\"tickfont\":{\"family\":\"Arial\",\"size\":13,\"color\":\"black\",\"weight\":\"bold\"}},\"shapes\":[{\"line\":{\"color\":\"black\",\"width\":1.5},\"type\":\"line\",\"x0\":-0.5,\"x1\":-0.5,\"y0\":-0.5,\"y1\":6.5},{\"line\":{\"color\":\"black\",\"width\":3},\"type\":\"line\",\"x0\":-0.5,\"x1\":9.5,\"y0\":0.5,\"y1\":0.5},{\"line\":{\"color\":\"black\",\"width\":1.5},\"type\":\"line\",\"x0\":0.5,\"x1\":0.5,\"y0\":-0.5,\"y1\":6.5},{\"line\":{\"color\":\"black\",\"width\":3},\"type\":\"line\",\"x0\":-0.5,\"x1\":9.5,\"y0\":0.5,\"y1\":0.5},{\"line\":{\"color\":\"black\",\"width\":3},\"type\":\"line\",\"x0\":-0.5,\"x1\":9.5,\"y0\":0.5,\"y1\":0.5},{\"line\":{\"color\":\"black\",\"width\":1.5},\"type\":\"line\",\"x0\":2.5,\"x1\":2.5,\"y0\":-0.5,\"y1\":6.5},{\"line\":{\"color\":\"black\",\"width\":3},\"type\":\"line\",\"x0\":-0.5,\"x1\":9.5,\"y0\":0.5,\"y1\":0.5},{\"line\":{\"color\":\"black\",\"width\":3},\"type\":\"line\",\"x0\":-0.5,\"x1\":9.5,\"y0\":0.5,\"y1\":0.5},{\"line\":{\"color\":\"black\",\"width\":1.5},\"type\":\"line\",\"x0\":4.5,\"x1\":4.5,\"y0\":-0.5,\"y1\":6.5},{\"line\":{\"color\":\"black\",\"width\":3},\"type\":\"line\",\"x0\":-0.5,\"x1\":9.5,\"y0\":0.5,\"y1\":0.5},{\"line\":{\"color\":\"black\",\"width\":3},\"type\":\"line\",\"x0\":-0.5,\"x1\":9.5,\"y0\":0.5,\"y1\":0.5},{\"line\":{\"color\":\"black\",\"width\":1.5},\"type\":\"line\",\"x0\":6.5,\"x1\":6.5,\"y0\":-0.5,\"y1\":6.5},{\"line\":{\"color\":\"black\",\"width\":3},\"type\":\"line\",\"x0\":-0.5,\"x1\":9.5,\"y0\":0.5,\"y1\":0.5},{\"line\":{\"color\":\"black\",\"width\":3},\"type\":\"line\",\"x0\":-0.5,\"x1\":9.5,\"y0\":0.5,\"y1\":0.5},{\"line\":{\"color\":\"black\",\"width\":3},\"type\":\"line\",\"x0\":8.5,\"x1\":8.5,\"y0\":-0.5,\"y1\":6.5},{\"line\":{\"color\":\"black\",\"width\":3},\"type\":\"line\",\"x0\":-0.5,\"x1\":9.5,\"y0\":0.5,\"y1\":0.5},{\"line\":{\"color\":\"black\",\"width\":1.5},\"type\":\"line\",\"x0\":9.5,\"x1\":9.5,\"y0\":-0.5,\"y1\":6.5},{\"line\":{\"color\":\"black\",\"width\":3},\"type\":\"line\",\"x0\":-0.5,\"x1\":9.5,\"y0\":0.5,\"y1\":0.5}],\"margin\":{\"b\":180},\"annotations\":[{\"align\":\"center\",\"font\":{\"color\":\"black\",\"family\":\"Arial\",\"size\":14,\"weight\":\"bold\"},\"showarrow\":false,\"text\":\"|\\u2009               System                |                    Knowledge                    |\\u200a          Social        \\u200a|              |\",\"x\":0.5,\"xref\":\"paper\",\"y\":-0.25,\"yref\":\"paper\"}]},                        {\"responsive\": true}                    ).then(function(){\n",
       "                            \n",
       "var gd = document.getElementById('4dcd723d-4f01-4876-b15d-316c52ff104f');\n",
       "var x = new MutationObserver(function (mutations, observer) {{\n",
       "        var display = window.getComputedStyle(gd).display;\n",
       "        if (!display || display === 'none') {{\n",
       "            console.log([gd, 'removed!']);\n",
       "            Plotly.purge(gd);\n",
       "            observer.disconnect();\n",
       "        }}\n",
       "}});\n",
       "\n",
       "// Listen for the removal of the full notebook cells\n",
       "var notebookContainer = gd.closest('#notebook-container');\n",
       "if (notebookContainer) {{\n",
       "    x.observe(notebookContainer, {childList: true});\n",
       "}}\n",
       "\n",
       "// Listen for the clearing of the current output cell\n",
       "var outputEl = gd.closest('.output');\n",
       "if (outputEl) {{\n",
       "    x.observe(outputEl, {childList: true});\n",
       "}}\n",
       "\n",
       "                        })                };                });            </script>        </div>"
      ]
     },
     "metadata": {},
     "output_type": "display_data"
    },
    {
     "data": {
      "application/vnd.plotly.v1+json": {
       "data": [
        {
         "colorbar": {
          "tickformat": ".0%"
         },
         "colorscale": [
          [
           0.0,
           "#fcffa4"
          ],
          [
           0.1111111111111111,
           "#f7d13d"
          ],
          [
           0.2222222222222222,
           "#fb9b06"
          ],
          [
           0.3333333333333333,
           "#ed6925"
          ],
          [
           0.4444444444444444,
           "#cf4446"
          ],
          [
           0.5555555555555556,
           "#a52c60"
          ],
          [
           0.6666666666666666,
           "#781c6d"
          ],
          [
           0.7777777777777778,
           "#4a0c6b"
          ],
          [
           0.8888888888888888,
           "#1b0c41"
          ],
          [
           1.0,
           "#000004"
          ]
         ],
         "texttemplate": "%{z:.0%}",
         "x": [
          [
           "Simultaneity",
           "Simultaneity",
           "Timing",
           "Timing",
           "Timing",
           "Timing",
           "Feasibility",
           "Feasibility",
           "⁢"
          ],
          [
           "Single",
           "Multiple",
           "Permanent",
           "Time-Frame",
           "Start Date",
           "End Date",
           "Plausibility",
           "Difficulty",
           "Average"
          ]
         ],
         "xgap": 2,
         "y": [
          "Average ",
          "General ",
          "Finance ",
          "Productivity ",
          "Wellbeing ",
          "Learning ",
          "Sustainability "
         ],
         "ygap": 2,
         "z": [
          [
           0.6246615040732687,
           0.4446549637726109,
           0.7210364254481901,
           0.35961870373635074,
           0.2676371014606309,
           0.1915308003543298,
           0.17840258869670633,
           0.195351707116413,
           0.3728617243323125
          ],
          [
           0.3090909090909091,
           0.8545454545454545,
           0.8363636363636363,
           0.2909090909090909,
           0.32727272727272727,
           0.2,
           0.01818181818181818,
           0.03636363636363636,
           0.3590909090909091
          ],
          [
           0.42857142857142855,
           0.5714285714285714,
           0.5714285714285714,
           0.5714285714285714,
           0.2857142857142857,
           0.42857142857142855,
           0.14285714285714285,
           0.0,
           0.375
          ],
          [
           0.6470588235294118,
           0.47058823529411764,
           0.6470588235294118,
           0.47058823529411764,
           0.29411764705882354,
           0.29411764705882354,
           0.17647058823529413,
           0.058823529411764705,
           0.38235294117647056
          ],
          [
           0.8076923076923077,
           0.3269230769230769,
           0.8269230769230769,
           0.2692307692307692,
           0.36538461538461536,
           0.11538461538461539,
           0.28846153846153844,
           0.07692307692307693,
           0.3846153846153846
          ],
          [
           0.7777777777777778,
           0.2222222222222222,
           0.8888888888888888,
           0.0,
           0.1111111111111111,
           0.1111111111111111,
           0.4444444444444444,
           0.7777777777777778,
           0.4166666666666667
          ],
          [
           0.7777777777777778,
           0.2222222222222222,
           0.5555555555555556,
           0.5555555555555556,
           0.2222222222222222,
           0.0,
           0.0,
           0.2222222222222222,
           0.3194444444444444
          ]
         ],
         "zmax": 1,
         "zmin": 0,
         "type": "heatmap"
        }
       ],
       "layout": {
        "template": {
         "data": {
          "barpolar": [
           {
            "marker": {
             "line": {
              "color": "white",
              "width": 0.5
             },
             "pattern": {
              "fillmode": "overlay",
              "size": 10,
              "solidity": 0.2
             }
            },
            "type": "barpolar"
           }
          ],
          "bar": [
           {
            "error_x": {
             "color": "#2a3f5f"
            },
            "error_y": {
             "color": "#2a3f5f"
            },
            "marker": {
             "line": {
              "color": "white",
              "width": 0.5
             },
             "pattern": {
              "fillmode": "overlay",
              "size": 10,
              "solidity": 0.2
             }
            },
            "type": "bar"
           }
          ],
          "carpet": [
           {
            "aaxis": {
             "endlinecolor": "#2a3f5f",
             "gridcolor": "#C8D4E3",
             "linecolor": "#C8D4E3",
             "minorgridcolor": "#C8D4E3",
             "startlinecolor": "#2a3f5f"
            },
            "baxis": {
             "endlinecolor": "#2a3f5f",
             "gridcolor": "#C8D4E3",
             "linecolor": "#C8D4E3",
             "minorgridcolor": "#C8D4E3",
             "startlinecolor": "#2a3f5f"
            },
            "type": "carpet"
           }
          ],
          "choropleth": [
           {
            "colorbar": {
             "outlinewidth": 0,
             "ticks": ""
            },
            "type": "choropleth"
           }
          ],
          "contourcarpet": [
           {
            "colorbar": {
             "outlinewidth": 0,
             "ticks": ""
            },
            "type": "contourcarpet"
           }
          ],
          "contour": [
           {
            "colorbar": {
             "outlinewidth": 0,
             "ticks": ""
            },
            "colorscale": [
             [
              0.0,
              "#0d0887"
             ],
             [
              0.1111111111111111,
              "#46039f"
             ],
             [
              0.2222222222222222,
              "#7201a8"
             ],
             [
              0.3333333333333333,
              "#9c179e"
             ],
             [
              0.4444444444444444,
              "#bd3786"
             ],
             [
              0.5555555555555556,
              "#d8576b"
             ],
             [
              0.6666666666666666,
              "#ed7953"
             ],
             [
              0.7777777777777778,
              "#fb9f3a"
             ],
             [
              0.8888888888888888,
              "#fdca26"
             ],
             [
              1.0,
              "#f0f921"
             ]
            ],
            "type": "contour"
           }
          ],
          "heatmapgl": [
           {
            "colorbar": {
             "outlinewidth": 0,
             "ticks": ""
            },
            "colorscale": [
             [
              0.0,
              "#0d0887"
             ],
             [
              0.1111111111111111,
              "#46039f"
             ],
             [
              0.2222222222222222,
              "#7201a8"
             ],
             [
              0.3333333333333333,
              "#9c179e"
             ],
             [
              0.4444444444444444,
              "#bd3786"
             ],
             [
              0.5555555555555556,
              "#d8576b"
             ],
             [
              0.6666666666666666,
              "#ed7953"
             ],
             [
              0.7777777777777778,
              "#fb9f3a"
             ],
             [
              0.8888888888888888,
              "#fdca26"
             ],
             [
              1.0,
              "#f0f921"
             ]
            ],
            "type": "heatmapgl"
           }
          ],
          "heatmap": [
           {
            "colorbar": {
             "outlinewidth": 0,
             "ticks": ""
            },
            "colorscale": [
             [
              0.0,
              "#0d0887"
             ],
             [
              0.1111111111111111,
              "#46039f"
             ],
             [
              0.2222222222222222,
              "#7201a8"
             ],
             [
              0.3333333333333333,
              "#9c179e"
             ],
             [
              0.4444444444444444,
              "#bd3786"
             ],
             [
              0.5555555555555556,
              "#d8576b"
             ],
             [
              0.6666666666666666,
              "#ed7953"
             ],
             [
              0.7777777777777778,
              "#fb9f3a"
             ],
             [
              0.8888888888888888,
              "#fdca26"
             ],
             [
              1.0,
              "#f0f921"
             ]
            ],
            "type": "heatmap"
           }
          ],
          "histogram2dcontour": [
           {
            "colorbar": {
             "outlinewidth": 0,
             "ticks": ""
            },
            "colorscale": [
             [
              0.0,
              "#0d0887"
             ],
             [
              0.1111111111111111,
              "#46039f"
             ],
             [
              0.2222222222222222,
              "#7201a8"
             ],
             [
              0.3333333333333333,
              "#9c179e"
             ],
             [
              0.4444444444444444,
              "#bd3786"
             ],
             [
              0.5555555555555556,
              "#d8576b"
             ],
             [
              0.6666666666666666,
              "#ed7953"
             ],
             [
              0.7777777777777778,
              "#fb9f3a"
             ],
             [
              0.8888888888888888,
              "#fdca26"
             ],
             [
              1.0,
              "#f0f921"
             ]
            ],
            "type": "histogram2dcontour"
           }
          ],
          "histogram2d": [
           {
            "colorbar": {
             "outlinewidth": 0,
             "ticks": ""
            },
            "colorscale": [
             [
              0.0,
              "#0d0887"
             ],
             [
              0.1111111111111111,
              "#46039f"
             ],
             [
              0.2222222222222222,
              "#7201a8"
             ],
             [
              0.3333333333333333,
              "#9c179e"
             ],
             [
              0.4444444444444444,
              "#bd3786"
             ],
             [
              0.5555555555555556,
              "#d8576b"
             ],
             [
              0.6666666666666666,
              "#ed7953"
             ],
             [
              0.7777777777777778,
              "#fb9f3a"
             ],
             [
              0.8888888888888888,
              "#fdca26"
             ],
             [
              1.0,
              "#f0f921"
             ]
            ],
            "type": "histogram2d"
           }
          ],
          "histogram": [
           {
            "marker": {
             "pattern": {
              "fillmode": "overlay",
              "size": 10,
              "solidity": 0.2
             }
            },
            "type": "histogram"
           }
          ],
          "mesh3d": [
           {
            "colorbar": {
             "outlinewidth": 0,
             "ticks": ""
            },
            "type": "mesh3d"
           }
          ],
          "parcoords": [
           {
            "line": {
             "colorbar": {
              "outlinewidth": 0,
              "ticks": ""
             }
            },
            "type": "parcoords"
           }
          ],
          "pie": [
           {
            "automargin": true,
            "type": "pie"
           }
          ],
          "scatter3d": [
           {
            "line": {
             "colorbar": {
              "outlinewidth": 0,
              "ticks": ""
             }
            },
            "marker": {
             "colorbar": {
              "outlinewidth": 0,
              "ticks": ""
             }
            },
            "type": "scatter3d"
           }
          ],
          "scattercarpet": [
           {
            "marker": {
             "colorbar": {
              "outlinewidth": 0,
              "ticks": ""
             }
            },
            "type": "scattercarpet"
           }
          ],
          "scattergeo": [
           {
            "marker": {
             "colorbar": {
              "outlinewidth": 0,
              "ticks": ""
             }
            },
            "type": "scattergeo"
           }
          ],
          "scattergl": [
           {
            "marker": {
             "colorbar": {
              "outlinewidth": 0,
              "ticks": ""
             }
            },
            "type": "scattergl"
           }
          ],
          "scattermapbox": [
           {
            "marker": {
             "colorbar": {
              "outlinewidth": 0,
              "ticks": ""
             }
            },
            "type": "scattermapbox"
           }
          ],
          "scatterpolargl": [
           {
            "marker": {
             "colorbar": {
              "outlinewidth": 0,
              "ticks": ""
             }
            },
            "type": "scatterpolargl"
           }
          ],
          "scatterpolar": [
           {
            "marker": {
             "colorbar": {
              "outlinewidth": 0,
              "ticks": ""
             }
            },
            "type": "scatterpolar"
           }
          ],
          "scatter": [
           {
            "fillpattern": {
             "fillmode": "overlay",
             "size": 10,
             "solidity": 0.2
            },
            "type": "scatter"
           }
          ],
          "scatterternary": [
           {
            "marker": {
             "colorbar": {
              "outlinewidth": 0,
              "ticks": ""
             }
            },
            "type": "scatterternary"
           }
          ],
          "surface": [
           {
            "colorbar": {
             "outlinewidth": 0,
             "ticks": ""
            },
            "colorscale": [
             [
              0.0,
              "#0d0887"
             ],
             [
              0.1111111111111111,
              "#46039f"
             ],
             [
              0.2222222222222222,
              "#7201a8"
             ],
             [
              0.3333333333333333,
              "#9c179e"
             ],
             [
              0.4444444444444444,
              "#bd3786"
             ],
             [
              0.5555555555555556,
              "#d8576b"
             ],
             [
              0.6666666666666666,
              "#ed7953"
             ],
             [
              0.7777777777777778,
              "#fb9f3a"
             ],
             [
              0.8888888888888888,
              "#fdca26"
             ],
             [
              1.0,
              "#f0f921"
             ]
            ],
            "type": "surface"
           }
          ],
          "table": [
           {
            "cells": {
             "fill": {
              "color": "#EBF0F8"
             },
             "line": {
              "color": "white"
             }
            },
            "header": {
             "fill": {
              "color": "#C8D4E3"
             },
             "line": {
              "color": "white"
             }
            },
            "type": "table"
           }
          ]
         },
         "layout": {
          "annotationdefaults": {
           "arrowcolor": "#2a3f5f",
           "arrowhead": 0,
           "arrowwidth": 1
          },
          "autotypenumbers": "strict",
          "coloraxis": {
           "colorbar": {
            "outlinewidth": 0,
            "ticks": ""
           }
          },
          "colorscale": {
           "diverging": [
            [
             0,
             "#8e0152"
            ],
            [
             0.1,
             "#c51b7d"
            ],
            [
             0.2,
             "#de77ae"
            ],
            [
             0.3,
             "#f1b6da"
            ],
            [
             0.4,
             "#fde0ef"
            ],
            [
             0.5,
             "#f7f7f7"
            ],
            [
             0.6,
             "#e6f5d0"
            ],
            [
             0.7,
             "#b8e186"
            ],
            [
             0.8,
             "#7fbc41"
            ],
            [
             0.9,
             "#4d9221"
            ],
            [
             1,
             "#276419"
            ]
           ],
           "sequential": [
            [
             0.0,
             "#0d0887"
            ],
            [
             0.1111111111111111,
             "#46039f"
            ],
            [
             0.2222222222222222,
             "#7201a8"
            ],
            [
             0.3333333333333333,
             "#9c179e"
            ],
            [
             0.4444444444444444,
             "#bd3786"
            ],
            [
             0.5555555555555556,
             "#d8576b"
            ],
            [
             0.6666666666666666,
             "#ed7953"
            ],
            [
             0.7777777777777778,
             "#fb9f3a"
            ],
            [
             0.8888888888888888,
             "#fdca26"
            ],
            [
             1.0,
             "#f0f921"
            ]
           ],
           "sequentialminus": [
            [
             0.0,
             "#0d0887"
            ],
            [
             0.1111111111111111,
             "#46039f"
            ],
            [
             0.2222222222222222,
             "#7201a8"
            ],
            [
             0.3333333333333333,
             "#9c179e"
            ],
            [
             0.4444444444444444,
             "#bd3786"
            ],
            [
             0.5555555555555556,
             "#d8576b"
            ],
            [
             0.6666666666666666,
             "#ed7953"
            ],
            [
             0.7777777777777778,
             "#fb9f3a"
            ],
            [
             0.8888888888888888,
             "#fdca26"
            ],
            [
             1.0,
             "#f0f921"
            ]
           ]
          },
          "colorway": [
           "#636efa",
           "#EF553B",
           "#00cc96",
           "#ab63fa",
           "#FFA15A",
           "#19d3f3",
           "#FF6692",
           "#B6E880",
           "#FF97FF",
           "#FECB52"
          ],
          "font": {
           "color": "#2a3f5f"
          },
          "geo": {
           "bgcolor": "white",
           "lakecolor": "white",
           "landcolor": "white",
           "showlakes": true,
           "showland": true,
           "subunitcolor": "#C8D4E3"
          },
          "hoverlabel": {
           "align": "left"
          },
          "hovermode": "closest",
          "mapbox": {
           "style": "light"
          },
          "paper_bgcolor": "white",
          "plot_bgcolor": "white",
          "polar": {
           "angularaxis": {
            "gridcolor": "#EBF0F8",
            "linecolor": "#EBF0F8",
            "ticks": ""
           },
           "bgcolor": "white",
           "radialaxis": {
            "gridcolor": "#EBF0F8",
            "linecolor": "#EBF0F8",
            "ticks": ""
           }
          },
          "scene": {
           "xaxis": {
            "backgroundcolor": "white",
            "gridcolor": "#DFE8F3",
            "gridwidth": 2,
            "linecolor": "#EBF0F8",
            "showbackground": true,
            "ticks": "",
            "zerolinecolor": "#EBF0F8"
           },
           "yaxis": {
            "backgroundcolor": "white",
            "gridcolor": "#DFE8F3",
            "gridwidth": 2,
            "linecolor": "#EBF0F8",
            "showbackground": true,
            "ticks": "",
            "zerolinecolor": "#EBF0F8"
           },
           "zaxis": {
            "backgroundcolor": "white",
            "gridcolor": "#DFE8F3",
            "gridwidth": 2,
            "linecolor": "#EBF0F8",
            "showbackground": true,
            "ticks": "",
            "zerolinecolor": "#EBF0F8"
           }
          },
          "shapedefaults": {
           "line": {
            "color": "#2a3f5f"
           }
          },
          "ternary": {
           "aaxis": {
            "gridcolor": "#DFE8F3",
            "linecolor": "#A2B1C6",
            "ticks": ""
           },
           "baxis": {
            "gridcolor": "#DFE8F3",
            "linecolor": "#A2B1C6",
            "ticks": ""
           },
           "bgcolor": "white",
           "caxis": {
            "gridcolor": "#DFE8F3",
            "linecolor": "#A2B1C6",
            "ticks": ""
           }
          },
          "title": {
           "x": 0.05
          },
          "xaxis": {
           "automargin": true,
           "gridcolor": "#EBF0F8",
           "linecolor": "#EBF0F8",
           "ticks": "",
           "title": {
            "standoff": 15
           },
           "zerolinecolor": "#EBF0F8",
           "zerolinewidth": 2
          },
          "yaxis": {
           "automargin": true,
           "gridcolor": "#EBF0F8",
           "linecolor": "#EBF0F8",
           "ticks": "",
           "title": {
            "standoff": 15
           },
           "zerolinecolor": "#EBF0F8",
           "zerolinewidth": 2
          }
         }
        },
        "xaxis": {
         "title": {
          "font": {
           "weight": "bold",
           "color": "black"
          }
         },
         "tickangle": 90,
         "tickfont": {
          "family": "Arial",
          "size": 13,
          "color": "black",
          "weight": "bold"
         }
        },
        "height": 900,
        "width": 800,
        "yaxis": {
         "tickfont": {
          "family": "Arial",
          "size": 13,
          "color": "black",
          "weight": "bold"
         }
        },
        "shapes": [
         {
          "line": {
           "color": "black",
           "width": 1.5
          },
          "type": "line",
          "x0": -0.5,
          "x1": -0.5,
          "y0": -0.5,
          "y1": 6.5
         },
         {
          "line": {
           "color": "black",
           "width": 3
          },
          "type": "line",
          "x0": -0.5,
          "x1": 8.5,
          "y0": 0.5,
          "y1": 0.5
         },
         {
          "line": {
           "color": "black",
           "width": 3
          },
          "type": "line",
          "x0": -0.5,
          "x1": 8.5,
          "y0": 0.5,
          "y1": 0.5
         },
         {
          "line": {
           "color": "black",
           "width": 1.5
          },
          "type": "line",
          "x0": 1.5,
          "x1": 1.5,
          "y0": -0.5,
          "y1": 6.5
         },
         {
          "line": {
           "color": "black",
           "width": 3
          },
          "type": "line",
          "x0": -0.5,
          "x1": 8.5,
          "y0": 0.5,
          "y1": 0.5
         },
         {
          "line": {
           "color": "black",
           "width": 3
          },
          "type": "line",
          "x0": -0.5,
          "x1": 8.5,
          "y0": 0.5,
          "y1": 0.5
         },
         {
          "line": {
           "color": "black",
           "width": 3
          },
          "type": "line",
          "x0": -0.5,
          "x1": 8.5,
          "y0": 0.5,
          "y1": 0.5
         },
         {
          "line": {
           "color": "black",
           "width": 3
          },
          "type": "line",
          "x0": -0.5,
          "x1": 8.5,
          "y0": 0.5,
          "y1": 0.5
         },
         {
          "line": {
           "color": "black",
           "width": 1.5
          },
          "type": "line",
          "x0": 5.5,
          "x1": 5.5,
          "y0": -0.5,
          "y1": 6.5
         },
         {
          "line": {
           "color": "black",
           "width": 3
          },
          "type": "line",
          "x0": -0.5,
          "x1": 8.5,
          "y0": 0.5,
          "y1": 0.5
         },
         {
          "line": {
           "color": "black",
           "width": 3
          },
          "type": "line",
          "x0": -0.5,
          "x1": 8.5,
          "y0": 0.5,
          "y1": 0.5
         },
         {
          "line": {
           "color": "black",
           "width": 3
          },
          "type": "line",
          "x0": 7.5,
          "x1": 7.5,
          "y0": -0.5,
          "y1": 6.5
         },
         {
          "line": {
           "color": "black",
           "width": 3
          },
          "type": "line",
          "x0": -0.5,
          "x1": 8.5,
          "y0": 0.5,
          "y1": 0.5
         },
         {
          "line": {
           "color": "black",
           "width": 1.5
          },
          "type": "line",
          "x0": 8.5,
          "x1": 8.5,
          "y0": -0.5,
          "y1": 6.5
         },
         {
          "line": {
           "color": "black",
           "width": 3
          },
          "type": "line",
          "x0": -0.5,
          "x1": 8.5,
          "y0": 0.5,
          "y1": 0.5
         }
        ],
        "margin": {
         "b": 180
        }
       },
       "config": {
        "plotlyServerURL": "https://plot.ly"
       }
      },
      "text/html": [
       "<div>                            <div id=\"57da1cf7-6be6-421c-8d98-db1a8ce0b870\" class=\"plotly-graph-div\" style=\"height:900px; width:800px;\"></div>            <script type=\"text/javascript\">                require([\"plotly\"], function(Plotly) {                    window.PLOTLYENV=window.PLOTLYENV || {};                                    if (document.getElementById(\"57da1cf7-6be6-421c-8d98-db1a8ce0b870\")) {                    Plotly.newPlot(                        \"57da1cf7-6be6-421c-8d98-db1a8ce0b870\",                        [{\"colorbar\":{\"tickformat\":\".0%\"},\"colorscale\":[[0.0,\"#fcffa4\"],[0.1111111111111111,\"#f7d13d\"],[0.2222222222222222,\"#fb9b06\"],[0.3333333333333333,\"#ed6925\"],[0.4444444444444444,\"#cf4446\"],[0.5555555555555556,\"#a52c60\"],[0.6666666666666666,\"#781c6d\"],[0.7777777777777778,\"#4a0c6b\"],[0.8888888888888888,\"#1b0c41\"],[1.0,\"#000004\"]],\"texttemplate\":\"%{z:.0%}\",\"x\":[[\"Simultaneity\",\"Simultaneity\",\"Timing\",\"Timing\",\"Timing\",\"Timing\",\"Feasibility\",\"Feasibility\",\"\\u2062\"],[\"Single\",\"Multiple\",\"Permanent\",\"Time-Frame\",\"Start Date\",\"End Date\",\"Plausibility\",\"Difficulty\",\"Average\"]],\"xgap\":2,\"y\":[\"Average \",\"General \",\"Finance \",\"Productivity \",\"Wellbeing \",\"Learning \",\"Sustainability \"],\"ygap\":2,\"z\":[[0.6246615040732687,0.4446549637726109,0.7210364254481901,0.35961870373635074,0.2676371014606309,0.1915308003543298,0.17840258869670633,0.195351707116413,0.3728617243323125],[0.3090909090909091,0.8545454545454545,0.8363636363636363,0.2909090909090909,0.32727272727272727,0.2,0.01818181818181818,0.03636363636363636,0.3590909090909091],[0.42857142857142855,0.5714285714285714,0.5714285714285714,0.5714285714285714,0.2857142857142857,0.42857142857142855,0.14285714285714285,0.0,0.375],[0.6470588235294118,0.47058823529411764,0.6470588235294118,0.47058823529411764,0.29411764705882354,0.29411764705882354,0.17647058823529413,0.058823529411764705,0.38235294117647056],[0.8076923076923077,0.3269230769230769,0.8269230769230769,0.2692307692307692,0.36538461538461536,0.11538461538461539,0.28846153846153844,0.07692307692307693,0.3846153846153846],[0.7777777777777778,0.2222222222222222,0.8888888888888888,0.0,0.1111111111111111,0.1111111111111111,0.4444444444444444,0.7777777777777778,0.4166666666666667],[0.7777777777777778,0.2222222222222222,0.5555555555555556,0.5555555555555556,0.2222222222222222,0.0,0.0,0.2222222222222222,0.3194444444444444]],\"zmax\":1,\"zmin\":0,\"type\":\"heatmap\"}],                        {\"template\":{\"data\":{\"barpolar\":[{\"marker\":{\"line\":{\"color\":\"white\",\"width\":0.5},\"pattern\":{\"fillmode\":\"overlay\",\"size\":10,\"solidity\":0.2}},\"type\":\"barpolar\"}],\"bar\":[{\"error_x\":{\"color\":\"#2a3f5f\"},\"error_y\":{\"color\":\"#2a3f5f\"},\"marker\":{\"line\":{\"color\":\"white\",\"width\":0.5},\"pattern\":{\"fillmode\":\"overlay\",\"size\":10,\"solidity\":0.2}},\"type\":\"bar\"}],\"carpet\":[{\"aaxis\":{\"endlinecolor\":\"#2a3f5f\",\"gridcolor\":\"#C8D4E3\",\"linecolor\":\"#C8D4E3\",\"minorgridcolor\":\"#C8D4E3\",\"startlinecolor\":\"#2a3f5f\"},\"baxis\":{\"endlinecolor\":\"#2a3f5f\",\"gridcolor\":\"#C8D4E3\",\"linecolor\":\"#C8D4E3\",\"minorgridcolor\":\"#C8D4E3\",\"startlinecolor\":\"#2a3f5f\"},\"type\":\"carpet\"}],\"choropleth\":[{\"colorbar\":{\"outlinewidth\":0,\"ticks\":\"\"},\"type\":\"choropleth\"}],\"contourcarpet\":[{\"colorbar\":{\"outlinewidth\":0,\"ticks\":\"\"},\"type\":\"contourcarpet\"}],\"contour\":[{\"colorbar\":{\"outlinewidth\":0,\"ticks\":\"\"},\"colorscale\":[[0.0,\"#0d0887\"],[0.1111111111111111,\"#46039f\"],[0.2222222222222222,\"#7201a8\"],[0.3333333333333333,\"#9c179e\"],[0.4444444444444444,\"#bd3786\"],[0.5555555555555556,\"#d8576b\"],[0.6666666666666666,\"#ed7953\"],[0.7777777777777778,\"#fb9f3a\"],[0.8888888888888888,\"#fdca26\"],[1.0,\"#f0f921\"]],\"type\":\"contour\"}],\"heatmapgl\":[{\"colorbar\":{\"outlinewidth\":0,\"ticks\":\"\"},\"colorscale\":[[0.0,\"#0d0887\"],[0.1111111111111111,\"#46039f\"],[0.2222222222222222,\"#7201a8\"],[0.3333333333333333,\"#9c179e\"],[0.4444444444444444,\"#bd3786\"],[0.5555555555555556,\"#d8576b\"],[0.6666666666666666,\"#ed7953\"],[0.7777777777777778,\"#fb9f3a\"],[0.8888888888888888,\"#fdca26\"],[1.0,\"#f0f921\"]],\"type\":\"heatmapgl\"}],\"heatmap\":[{\"colorbar\":{\"outlinewidth\":0,\"ticks\":\"\"},\"colorscale\":[[0.0,\"#0d0887\"],[0.1111111111111111,\"#46039f\"],[0.2222222222222222,\"#7201a8\"],[0.3333333333333333,\"#9c179e\"],[0.4444444444444444,\"#bd3786\"],[0.5555555555555556,\"#d8576b\"],[0.6666666666666666,\"#ed7953\"],[0.7777777777777778,\"#fb9f3a\"],[0.8888888888888888,\"#fdca26\"],[1.0,\"#f0f921\"]],\"type\":\"heatmap\"}],\"histogram2dcontour\":[{\"colorbar\":{\"outlinewidth\":0,\"ticks\":\"\"},\"colorscale\":[[0.0,\"#0d0887\"],[0.1111111111111111,\"#46039f\"],[0.2222222222222222,\"#7201a8\"],[0.3333333333333333,\"#9c179e\"],[0.4444444444444444,\"#bd3786\"],[0.5555555555555556,\"#d8576b\"],[0.6666666666666666,\"#ed7953\"],[0.7777777777777778,\"#fb9f3a\"],[0.8888888888888888,\"#fdca26\"],[1.0,\"#f0f921\"]],\"type\":\"histogram2dcontour\"}],\"histogram2d\":[{\"colorbar\":{\"outlinewidth\":0,\"ticks\":\"\"},\"colorscale\":[[0.0,\"#0d0887\"],[0.1111111111111111,\"#46039f\"],[0.2222222222222222,\"#7201a8\"],[0.3333333333333333,\"#9c179e\"],[0.4444444444444444,\"#bd3786\"],[0.5555555555555556,\"#d8576b\"],[0.6666666666666666,\"#ed7953\"],[0.7777777777777778,\"#fb9f3a\"],[0.8888888888888888,\"#fdca26\"],[1.0,\"#f0f921\"]],\"type\":\"histogram2d\"}],\"histogram\":[{\"marker\":{\"pattern\":{\"fillmode\":\"overlay\",\"size\":10,\"solidity\":0.2}},\"type\":\"histogram\"}],\"mesh3d\":[{\"colorbar\":{\"outlinewidth\":0,\"ticks\":\"\"},\"type\":\"mesh3d\"}],\"parcoords\":[{\"line\":{\"colorbar\":{\"outlinewidth\":0,\"ticks\":\"\"}},\"type\":\"parcoords\"}],\"pie\":[{\"automargin\":true,\"type\":\"pie\"}],\"scatter3d\":[{\"line\":{\"colorbar\":{\"outlinewidth\":0,\"ticks\":\"\"}},\"marker\":{\"colorbar\":{\"outlinewidth\":0,\"ticks\":\"\"}},\"type\":\"scatter3d\"}],\"scattercarpet\":[{\"marker\":{\"colorbar\":{\"outlinewidth\":0,\"ticks\":\"\"}},\"type\":\"scattercarpet\"}],\"scattergeo\":[{\"marker\":{\"colorbar\":{\"outlinewidth\":0,\"ticks\":\"\"}},\"type\":\"scattergeo\"}],\"scattergl\":[{\"marker\":{\"colorbar\":{\"outlinewidth\":0,\"ticks\":\"\"}},\"type\":\"scattergl\"}],\"scattermapbox\":[{\"marker\":{\"colorbar\":{\"outlinewidth\":0,\"ticks\":\"\"}},\"type\":\"scattermapbox\"}],\"scatterpolargl\":[{\"marker\":{\"colorbar\":{\"outlinewidth\":0,\"ticks\":\"\"}},\"type\":\"scatterpolargl\"}],\"scatterpolar\":[{\"marker\":{\"colorbar\":{\"outlinewidth\":0,\"ticks\":\"\"}},\"type\":\"scatterpolar\"}],\"scatter\":[{\"fillpattern\":{\"fillmode\":\"overlay\",\"size\":10,\"solidity\":0.2},\"type\":\"scatter\"}],\"scatterternary\":[{\"marker\":{\"colorbar\":{\"outlinewidth\":0,\"ticks\":\"\"}},\"type\":\"scatterternary\"}],\"surface\":[{\"colorbar\":{\"outlinewidth\":0,\"ticks\":\"\"},\"colorscale\":[[0.0,\"#0d0887\"],[0.1111111111111111,\"#46039f\"],[0.2222222222222222,\"#7201a8\"],[0.3333333333333333,\"#9c179e\"],[0.4444444444444444,\"#bd3786\"],[0.5555555555555556,\"#d8576b\"],[0.6666666666666666,\"#ed7953\"],[0.7777777777777778,\"#fb9f3a\"],[0.8888888888888888,\"#fdca26\"],[1.0,\"#f0f921\"]],\"type\":\"surface\"}],\"table\":[{\"cells\":{\"fill\":{\"color\":\"#EBF0F8\"},\"line\":{\"color\":\"white\"}},\"header\":{\"fill\":{\"color\":\"#C8D4E3\"},\"line\":{\"color\":\"white\"}},\"type\":\"table\"}]},\"layout\":{\"annotationdefaults\":{\"arrowcolor\":\"#2a3f5f\",\"arrowhead\":0,\"arrowwidth\":1},\"autotypenumbers\":\"strict\",\"coloraxis\":{\"colorbar\":{\"outlinewidth\":0,\"ticks\":\"\"}},\"colorscale\":{\"diverging\":[[0,\"#8e0152\"],[0.1,\"#c51b7d\"],[0.2,\"#de77ae\"],[0.3,\"#f1b6da\"],[0.4,\"#fde0ef\"],[0.5,\"#f7f7f7\"],[0.6,\"#e6f5d0\"],[0.7,\"#b8e186\"],[0.8,\"#7fbc41\"],[0.9,\"#4d9221\"],[1,\"#276419\"]],\"sequential\":[[0.0,\"#0d0887\"],[0.1111111111111111,\"#46039f\"],[0.2222222222222222,\"#7201a8\"],[0.3333333333333333,\"#9c179e\"],[0.4444444444444444,\"#bd3786\"],[0.5555555555555556,\"#d8576b\"],[0.6666666666666666,\"#ed7953\"],[0.7777777777777778,\"#fb9f3a\"],[0.8888888888888888,\"#fdca26\"],[1.0,\"#f0f921\"]],\"sequentialminus\":[[0.0,\"#0d0887\"],[0.1111111111111111,\"#46039f\"],[0.2222222222222222,\"#7201a8\"],[0.3333333333333333,\"#9c179e\"],[0.4444444444444444,\"#bd3786\"],[0.5555555555555556,\"#d8576b\"],[0.6666666666666666,\"#ed7953\"],[0.7777777777777778,\"#fb9f3a\"],[0.8888888888888888,\"#fdca26\"],[1.0,\"#f0f921\"]]},\"colorway\":[\"#636efa\",\"#EF553B\",\"#00cc96\",\"#ab63fa\",\"#FFA15A\",\"#19d3f3\",\"#FF6692\",\"#B6E880\",\"#FF97FF\",\"#FECB52\"],\"font\":{\"color\":\"#2a3f5f\"},\"geo\":{\"bgcolor\":\"white\",\"lakecolor\":\"white\",\"landcolor\":\"white\",\"showlakes\":true,\"showland\":true,\"subunitcolor\":\"#C8D4E3\"},\"hoverlabel\":{\"align\":\"left\"},\"hovermode\":\"closest\",\"mapbox\":{\"style\":\"light\"},\"paper_bgcolor\":\"white\",\"plot_bgcolor\":\"white\",\"polar\":{\"angularaxis\":{\"gridcolor\":\"#EBF0F8\",\"linecolor\":\"#EBF0F8\",\"ticks\":\"\"},\"bgcolor\":\"white\",\"radialaxis\":{\"gridcolor\":\"#EBF0F8\",\"linecolor\":\"#EBF0F8\",\"ticks\":\"\"}},\"scene\":{\"xaxis\":{\"backgroundcolor\":\"white\",\"gridcolor\":\"#DFE8F3\",\"gridwidth\":2,\"linecolor\":\"#EBF0F8\",\"showbackground\":true,\"ticks\":\"\",\"zerolinecolor\":\"#EBF0F8\"},\"yaxis\":{\"backgroundcolor\":\"white\",\"gridcolor\":\"#DFE8F3\",\"gridwidth\":2,\"linecolor\":\"#EBF0F8\",\"showbackground\":true,\"ticks\":\"\",\"zerolinecolor\":\"#EBF0F8\"},\"zaxis\":{\"backgroundcolor\":\"white\",\"gridcolor\":\"#DFE8F3\",\"gridwidth\":2,\"linecolor\":\"#EBF0F8\",\"showbackground\":true,\"ticks\":\"\",\"zerolinecolor\":\"#EBF0F8\"}},\"shapedefaults\":{\"line\":{\"color\":\"#2a3f5f\"}},\"ternary\":{\"aaxis\":{\"gridcolor\":\"#DFE8F3\",\"linecolor\":\"#A2B1C6\",\"ticks\":\"\"},\"baxis\":{\"gridcolor\":\"#DFE8F3\",\"linecolor\":\"#A2B1C6\",\"ticks\":\"\"},\"bgcolor\":\"white\",\"caxis\":{\"gridcolor\":\"#DFE8F3\",\"linecolor\":\"#A2B1C6\",\"ticks\":\"\"}},\"title\":{\"x\":0.05},\"xaxis\":{\"automargin\":true,\"gridcolor\":\"#EBF0F8\",\"linecolor\":\"#EBF0F8\",\"ticks\":\"\",\"title\":{\"standoff\":15},\"zerolinecolor\":\"#EBF0F8\",\"zerolinewidth\":2},\"yaxis\":{\"automargin\":true,\"gridcolor\":\"#EBF0F8\",\"linecolor\":\"#EBF0F8\",\"ticks\":\"\",\"title\":{\"standoff\":15},\"zerolinecolor\":\"#EBF0F8\",\"zerolinewidth\":2}}},\"xaxis\":{\"title\":{\"font\":{\"weight\":\"bold\",\"color\":\"black\"}},\"tickangle\":90,\"tickfont\":{\"family\":\"Arial\",\"size\":13,\"color\":\"black\",\"weight\":\"bold\"}},\"height\":900,\"width\":800,\"yaxis\":{\"tickfont\":{\"family\":\"Arial\",\"size\":13,\"color\":\"black\",\"weight\":\"bold\"}},\"shapes\":[{\"line\":{\"color\":\"black\",\"width\":1.5},\"type\":\"line\",\"x0\":-0.5,\"x1\":-0.5,\"y0\":-0.5,\"y1\":6.5},{\"line\":{\"color\":\"black\",\"width\":3},\"type\":\"line\",\"x0\":-0.5,\"x1\":8.5,\"y0\":0.5,\"y1\":0.5},{\"line\":{\"color\":\"black\",\"width\":3},\"type\":\"line\",\"x0\":-0.5,\"x1\":8.5,\"y0\":0.5,\"y1\":0.5},{\"line\":{\"color\":\"black\",\"width\":1.5},\"type\":\"line\",\"x0\":1.5,\"x1\":1.5,\"y0\":-0.5,\"y1\":6.5},{\"line\":{\"color\":\"black\",\"width\":3},\"type\":\"line\",\"x0\":-0.5,\"x1\":8.5,\"y0\":0.5,\"y1\":0.5},{\"line\":{\"color\":\"black\",\"width\":3},\"type\":\"line\",\"x0\":-0.5,\"x1\":8.5,\"y0\":0.5,\"y1\":0.5},{\"line\":{\"color\":\"black\",\"width\":3},\"type\":\"line\",\"x0\":-0.5,\"x1\":8.5,\"y0\":0.5,\"y1\":0.5},{\"line\":{\"color\":\"black\",\"width\":3},\"type\":\"line\",\"x0\":-0.5,\"x1\":8.5,\"y0\":0.5,\"y1\":0.5},{\"line\":{\"color\":\"black\",\"width\":1.5},\"type\":\"line\",\"x0\":5.5,\"x1\":5.5,\"y0\":-0.5,\"y1\":6.5},{\"line\":{\"color\":\"black\",\"width\":3},\"type\":\"line\",\"x0\":-0.5,\"x1\":8.5,\"y0\":0.5,\"y1\":0.5},{\"line\":{\"color\":\"black\",\"width\":3},\"type\":\"line\",\"x0\":-0.5,\"x1\":8.5,\"y0\":0.5,\"y1\":0.5},{\"line\":{\"color\":\"black\",\"width\":3},\"type\":\"line\",\"x0\":7.5,\"x1\":7.5,\"y0\":-0.5,\"y1\":6.5},{\"line\":{\"color\":\"black\",\"width\":3},\"type\":\"line\",\"x0\":-0.5,\"x1\":8.5,\"y0\":0.5,\"y1\":0.5},{\"line\":{\"color\":\"black\",\"width\":1.5},\"type\":\"line\",\"x0\":8.5,\"x1\":8.5,\"y0\":-0.5,\"y1\":6.5},{\"line\":{\"color\":\"black\",\"width\":3},\"type\":\"line\",\"x0\":-0.5,\"x1\":8.5,\"y0\":0.5,\"y1\":0.5}],\"margin\":{\"b\":180}},                        {\"responsive\": true}                    ).then(function(){\n",
       "                            \n",
       "var gd = document.getElementById('57da1cf7-6be6-421c-8d98-db1a8ce0b870');\n",
       "var x = new MutationObserver(function (mutations, observer) {{\n",
       "        var display = window.getComputedStyle(gd).display;\n",
       "        if (!display || display === 'none') {{\n",
       "            console.log([gd, 'removed!']);\n",
       "            Plotly.purge(gd);\n",
       "            observer.disconnect();\n",
       "        }}\n",
       "}});\n",
       "\n",
       "// Listen for the removal of the full notebook cells\n",
       "var notebookContainer = gd.closest('#notebook-container');\n",
       "if (notebookContainer) {{\n",
       "    x.observe(notebookContainer, {childList: true});\n",
       "}}\n",
       "\n",
       "// Listen for the clearing of the current output cell\n",
       "var outputEl = gd.closest('.output');\n",
       "if (outputEl) {{\n",
       "    x.observe(outputEl, {childList: true});\n",
       "}}\n",
       "\n",
       "                        })                };                });            </script>        </div>"
      ]
     },
     "metadata": {},
     "output_type": "display_data"
    },
    {
     "data": {
      "application/vnd.plotly.v1+json": {
       "data": [
        {
         "colorbar": {
          "tickformat": ".0%"
         },
         "colorscale": [
          [
           0.0,
           "#fcffa4"
          ],
          [
           0.1111111111111111,
           "#f7d13d"
          ],
          [
           0.2222222222222222,
           "#fb9b06"
          ],
          [
           0.3333333333333333,
           "#ed6925"
          ],
          [
           0.4444444444444444,
           "#cf4446"
          ],
          [
           0.5555555555555556,
           "#a52c60"
          ],
          [
           0.6666666666666666,
           "#781c6d"
          ],
          [
           0.7777777777777778,
           "#4a0c6b"
          ],
          [
           0.8888888888888888,
           "#1b0c41"
          ],
          [
           1.0,
           "#000004"
          ]
         ],
         "texttemplate": "%{z:.0%}",
         "x": [
          [
           " ",
           "Diversification",
           "Diversification",
           "Enrichment",
           "Enrichment",
           "Derivation",
           "Derivation",
           "  ",
           "  ",
           "   "
          ],
          [
           "Integration",
           "Adaptation",
           "Recommendation",
           "Profile",
           "Context",
           "Interpretation of<br>User Behaviour",
           "Explanation of<br>System Behaviour",
           "Relation",
           "Interaction",
           "Average"
          ]
         ],
         "xgap": 2,
         "y": [
          "Average ",
          "General ",
          "Finance ",
          "Productivity ",
          "Wellbeing ",
          "Learning ",
          "Sustainability "
         ],
         "ygap": 2,
         "z": [
          [
           0.08014763014763014,
           0.040067340067340064,
           0.01853146853146853,
           0.07800440300440299,
           0.055918155918155917,
           0.01924448100918689,
           0.0463027713027713,
           0.03704998704998705,
           0.04008029008029008,
           0.04614961412347034
          ],
          [
           0.10909090909090909,
           0.01818181818181818,
           0.07272727272727272,
           0.07272727272727272,
           0.03636363636363636,
           0.01818181818181818,
           0.03636363636363636,
           0.07272727272727272,
           0.09090909090909091,
           0.05858585858585858
          ],
          [
           0.0,
           0.0,
           0.0,
           0.0,
           0.0,
           0.0,
           0.0,
           0.0,
           0.0,
           0.0
          ],
          [
           0.0,
           0.0,
           0.0,
           0.0,
           0.0,
           0.058823529411764705,
           0.0,
           0.0,
           0.0,
           0.006535947712418301
          ],
          [
           0.038461538461538464,
           0.0,
           0.038461538461538464,
           0.17307692307692307,
           0.07692307692307693,
           0.038461538461538464,
           0.019230769230769232,
           0.038461538461538464,
           0.038461538461538464,
           0.05128205128205129
          ],
          [
           0.1111111111111111,
           0.0,
           0.0,
           0.0,
           0.1111111111111111,
           0.0,
           0.0,
           0.1111111111111111,
           0.1111111111111111,
           0.04938271604938271
          ],
          [
           0.2222222222222222,
           0.2222222222222222,
           0.0,
           0.2222222222222222,
           0.1111111111111111,
           0.0,
           0.2222222222222222,
           0.0,
           0.0,
           0.1111111111111111
          ]
         ],
         "zmax": 1,
         "zmin": 0,
         "type": "heatmap"
        }
       ],
       "layout": {
        "template": {
         "data": {
          "barpolar": [
           {
            "marker": {
             "line": {
              "color": "white",
              "width": 0.5
             },
             "pattern": {
              "fillmode": "overlay",
              "size": 10,
              "solidity": 0.2
             }
            },
            "type": "barpolar"
           }
          ],
          "bar": [
           {
            "error_x": {
             "color": "#2a3f5f"
            },
            "error_y": {
             "color": "#2a3f5f"
            },
            "marker": {
             "line": {
              "color": "white",
              "width": 0.5
             },
             "pattern": {
              "fillmode": "overlay",
              "size": 10,
              "solidity": 0.2
             }
            },
            "type": "bar"
           }
          ],
          "carpet": [
           {
            "aaxis": {
             "endlinecolor": "#2a3f5f",
             "gridcolor": "#C8D4E3",
             "linecolor": "#C8D4E3",
             "minorgridcolor": "#C8D4E3",
             "startlinecolor": "#2a3f5f"
            },
            "baxis": {
             "endlinecolor": "#2a3f5f",
             "gridcolor": "#C8D4E3",
             "linecolor": "#C8D4E3",
             "minorgridcolor": "#C8D4E3",
             "startlinecolor": "#2a3f5f"
            },
            "type": "carpet"
           }
          ],
          "choropleth": [
           {
            "colorbar": {
             "outlinewidth": 0,
             "ticks": ""
            },
            "type": "choropleth"
           }
          ],
          "contourcarpet": [
           {
            "colorbar": {
             "outlinewidth": 0,
             "ticks": ""
            },
            "type": "contourcarpet"
           }
          ],
          "contour": [
           {
            "colorbar": {
             "outlinewidth": 0,
             "ticks": ""
            },
            "colorscale": [
             [
              0.0,
              "#0d0887"
             ],
             [
              0.1111111111111111,
              "#46039f"
             ],
             [
              0.2222222222222222,
              "#7201a8"
             ],
             [
              0.3333333333333333,
              "#9c179e"
             ],
             [
              0.4444444444444444,
              "#bd3786"
             ],
             [
              0.5555555555555556,
              "#d8576b"
             ],
             [
              0.6666666666666666,
              "#ed7953"
             ],
             [
              0.7777777777777778,
              "#fb9f3a"
             ],
             [
              0.8888888888888888,
              "#fdca26"
             ],
             [
              1.0,
              "#f0f921"
             ]
            ],
            "type": "contour"
           }
          ],
          "heatmapgl": [
           {
            "colorbar": {
             "outlinewidth": 0,
             "ticks": ""
            },
            "colorscale": [
             [
              0.0,
              "#0d0887"
             ],
             [
              0.1111111111111111,
              "#46039f"
             ],
             [
              0.2222222222222222,
              "#7201a8"
             ],
             [
              0.3333333333333333,
              "#9c179e"
             ],
             [
              0.4444444444444444,
              "#bd3786"
             ],
             [
              0.5555555555555556,
              "#d8576b"
             ],
             [
              0.6666666666666666,
              "#ed7953"
             ],
             [
              0.7777777777777778,
              "#fb9f3a"
             ],
             [
              0.8888888888888888,
              "#fdca26"
             ],
             [
              1.0,
              "#f0f921"
             ]
            ],
            "type": "heatmapgl"
           }
          ],
          "heatmap": [
           {
            "colorbar": {
             "outlinewidth": 0,
             "ticks": ""
            },
            "colorscale": [
             [
              0.0,
              "#0d0887"
             ],
             [
              0.1111111111111111,
              "#46039f"
             ],
             [
              0.2222222222222222,
              "#7201a8"
             ],
             [
              0.3333333333333333,
              "#9c179e"
             ],
             [
              0.4444444444444444,
              "#bd3786"
             ],
             [
              0.5555555555555556,
              "#d8576b"
             ],
             [
              0.6666666666666666,
              "#ed7953"
             ],
             [
              0.7777777777777778,
              "#fb9f3a"
             ],
             [
              0.8888888888888888,
              "#fdca26"
             ],
             [
              1.0,
              "#f0f921"
             ]
            ],
            "type": "heatmap"
           }
          ],
          "histogram2dcontour": [
           {
            "colorbar": {
             "outlinewidth": 0,
             "ticks": ""
            },
            "colorscale": [
             [
              0.0,
              "#0d0887"
             ],
             [
              0.1111111111111111,
              "#46039f"
             ],
             [
              0.2222222222222222,
              "#7201a8"
             ],
             [
              0.3333333333333333,
              "#9c179e"
             ],
             [
              0.4444444444444444,
              "#bd3786"
             ],
             [
              0.5555555555555556,
              "#d8576b"
             ],
             [
              0.6666666666666666,
              "#ed7953"
             ],
             [
              0.7777777777777778,
              "#fb9f3a"
             ],
             [
              0.8888888888888888,
              "#fdca26"
             ],
             [
              1.0,
              "#f0f921"
             ]
            ],
            "type": "histogram2dcontour"
           }
          ],
          "histogram2d": [
           {
            "colorbar": {
             "outlinewidth": 0,
             "ticks": ""
            },
            "colorscale": [
             [
              0.0,
              "#0d0887"
             ],
             [
              0.1111111111111111,
              "#46039f"
             ],
             [
              0.2222222222222222,
              "#7201a8"
             ],
             [
              0.3333333333333333,
              "#9c179e"
             ],
             [
              0.4444444444444444,
              "#bd3786"
             ],
             [
              0.5555555555555556,
              "#d8576b"
             ],
             [
              0.6666666666666666,
              "#ed7953"
             ],
             [
              0.7777777777777778,
              "#fb9f3a"
             ],
             [
              0.8888888888888888,
              "#fdca26"
             ],
             [
              1.0,
              "#f0f921"
             ]
            ],
            "type": "histogram2d"
           }
          ],
          "histogram": [
           {
            "marker": {
             "pattern": {
              "fillmode": "overlay",
              "size": 10,
              "solidity": 0.2
             }
            },
            "type": "histogram"
           }
          ],
          "mesh3d": [
           {
            "colorbar": {
             "outlinewidth": 0,
             "ticks": ""
            },
            "type": "mesh3d"
           }
          ],
          "parcoords": [
           {
            "line": {
             "colorbar": {
              "outlinewidth": 0,
              "ticks": ""
             }
            },
            "type": "parcoords"
           }
          ],
          "pie": [
           {
            "automargin": true,
            "type": "pie"
           }
          ],
          "scatter3d": [
           {
            "line": {
             "colorbar": {
              "outlinewidth": 0,
              "ticks": ""
             }
            },
            "marker": {
             "colorbar": {
              "outlinewidth": 0,
              "ticks": ""
             }
            },
            "type": "scatter3d"
           }
          ],
          "scattercarpet": [
           {
            "marker": {
             "colorbar": {
              "outlinewidth": 0,
              "ticks": ""
             }
            },
            "type": "scattercarpet"
           }
          ],
          "scattergeo": [
           {
            "marker": {
             "colorbar": {
              "outlinewidth": 0,
              "ticks": ""
             }
            },
            "type": "scattergeo"
           }
          ],
          "scattergl": [
           {
            "marker": {
             "colorbar": {
              "outlinewidth": 0,
              "ticks": ""
             }
            },
            "type": "scattergl"
           }
          ],
          "scattermapbox": [
           {
            "marker": {
             "colorbar": {
              "outlinewidth": 0,
              "ticks": ""
             }
            },
            "type": "scattermapbox"
           }
          ],
          "scatterpolargl": [
           {
            "marker": {
             "colorbar": {
              "outlinewidth": 0,
              "ticks": ""
             }
            },
            "type": "scatterpolargl"
           }
          ],
          "scatterpolar": [
           {
            "marker": {
             "colorbar": {
              "outlinewidth": 0,
              "ticks": ""
             }
            },
            "type": "scatterpolar"
           }
          ],
          "scatter": [
           {
            "fillpattern": {
             "fillmode": "overlay",
             "size": 10,
             "solidity": 0.2
            },
            "type": "scatter"
           }
          ],
          "scatterternary": [
           {
            "marker": {
             "colorbar": {
              "outlinewidth": 0,
              "ticks": ""
             }
            },
            "type": "scatterternary"
           }
          ],
          "surface": [
           {
            "colorbar": {
             "outlinewidth": 0,
             "ticks": ""
            },
            "colorscale": [
             [
              0.0,
              "#0d0887"
             ],
             [
              0.1111111111111111,
              "#46039f"
             ],
             [
              0.2222222222222222,
              "#7201a8"
             ],
             [
              0.3333333333333333,
              "#9c179e"
             ],
             [
              0.4444444444444444,
              "#bd3786"
             ],
             [
              0.5555555555555556,
              "#d8576b"
             ],
             [
              0.6666666666666666,
              "#ed7953"
             ],
             [
              0.7777777777777778,
              "#fb9f3a"
             ],
             [
              0.8888888888888888,
              "#fdca26"
             ],
             [
              1.0,
              "#f0f921"
             ]
            ],
            "type": "surface"
           }
          ],
          "table": [
           {
            "cells": {
             "fill": {
              "color": "#EBF0F8"
             },
             "line": {
              "color": "white"
             }
            },
            "header": {
             "fill": {
              "color": "#C8D4E3"
             },
             "line": {
              "color": "white"
             }
            },
            "type": "table"
           }
          ]
         },
         "layout": {
          "annotationdefaults": {
           "arrowcolor": "#2a3f5f",
           "arrowhead": 0,
           "arrowwidth": 1
          },
          "autotypenumbers": "strict",
          "coloraxis": {
           "colorbar": {
            "outlinewidth": 0,
            "ticks": ""
           }
          },
          "colorscale": {
           "diverging": [
            [
             0,
             "#8e0152"
            ],
            [
             0.1,
             "#c51b7d"
            ],
            [
             0.2,
             "#de77ae"
            ],
            [
             0.3,
             "#f1b6da"
            ],
            [
             0.4,
             "#fde0ef"
            ],
            [
             0.5,
             "#f7f7f7"
            ],
            [
             0.6,
             "#e6f5d0"
            ],
            [
             0.7,
             "#b8e186"
            ],
            [
             0.8,
             "#7fbc41"
            ],
            [
             0.9,
             "#4d9221"
            ],
            [
             1,
             "#276419"
            ]
           ],
           "sequential": [
            [
             0.0,
             "#0d0887"
            ],
            [
             0.1111111111111111,
             "#46039f"
            ],
            [
             0.2222222222222222,
             "#7201a8"
            ],
            [
             0.3333333333333333,
             "#9c179e"
            ],
            [
             0.4444444444444444,
             "#bd3786"
            ],
            [
             0.5555555555555556,
             "#d8576b"
            ],
            [
             0.6666666666666666,
             "#ed7953"
            ],
            [
             0.7777777777777778,
             "#fb9f3a"
            ],
            [
             0.8888888888888888,
             "#fdca26"
            ],
            [
             1.0,
             "#f0f921"
            ]
           ],
           "sequentialminus": [
            [
             0.0,
             "#0d0887"
            ],
            [
             0.1111111111111111,
             "#46039f"
            ],
            [
             0.2222222222222222,
             "#7201a8"
            ],
            [
             0.3333333333333333,
             "#9c179e"
            ],
            [
             0.4444444444444444,
             "#bd3786"
            ],
            [
             0.5555555555555556,
             "#d8576b"
            ],
            [
             0.6666666666666666,
             "#ed7953"
            ],
            [
             0.7777777777777778,
             "#fb9f3a"
            ],
            [
             0.8888888888888888,
             "#fdca26"
            ],
            [
             1.0,
             "#f0f921"
            ]
           ]
          },
          "colorway": [
           "#636efa",
           "#EF553B",
           "#00cc96",
           "#ab63fa",
           "#FFA15A",
           "#19d3f3",
           "#FF6692",
           "#B6E880",
           "#FF97FF",
           "#FECB52"
          ],
          "font": {
           "color": "#2a3f5f"
          },
          "geo": {
           "bgcolor": "white",
           "lakecolor": "white",
           "landcolor": "white",
           "showlakes": true,
           "showland": true,
           "subunitcolor": "#C8D4E3"
          },
          "hoverlabel": {
           "align": "left"
          },
          "hovermode": "closest",
          "mapbox": {
           "style": "light"
          },
          "paper_bgcolor": "white",
          "plot_bgcolor": "white",
          "polar": {
           "angularaxis": {
            "gridcolor": "#EBF0F8",
            "linecolor": "#EBF0F8",
            "ticks": ""
           },
           "bgcolor": "white",
           "radialaxis": {
            "gridcolor": "#EBF0F8",
            "linecolor": "#EBF0F8",
            "ticks": ""
           }
          },
          "scene": {
           "xaxis": {
            "backgroundcolor": "white",
            "gridcolor": "#DFE8F3",
            "gridwidth": 2,
            "linecolor": "#EBF0F8",
            "showbackground": true,
            "ticks": "",
            "zerolinecolor": "#EBF0F8"
           },
           "yaxis": {
            "backgroundcolor": "white",
            "gridcolor": "#DFE8F3",
            "gridwidth": 2,
            "linecolor": "#EBF0F8",
            "showbackground": true,
            "ticks": "",
            "zerolinecolor": "#EBF0F8"
           },
           "zaxis": {
            "backgroundcolor": "white",
            "gridcolor": "#DFE8F3",
            "gridwidth": 2,
            "linecolor": "#EBF0F8",
            "showbackground": true,
            "ticks": "",
            "zerolinecolor": "#EBF0F8"
           }
          },
          "shapedefaults": {
           "line": {
            "color": "#2a3f5f"
           }
          },
          "ternary": {
           "aaxis": {
            "gridcolor": "#DFE8F3",
            "linecolor": "#A2B1C6",
            "ticks": ""
           },
           "baxis": {
            "gridcolor": "#DFE8F3",
            "linecolor": "#A2B1C6",
            "ticks": ""
           },
           "bgcolor": "white",
           "caxis": {
            "gridcolor": "#DFE8F3",
            "linecolor": "#A2B1C6",
            "ticks": ""
           }
          },
          "title": {
           "x": 0.05
          },
          "xaxis": {
           "automargin": true,
           "gridcolor": "#EBF0F8",
           "linecolor": "#EBF0F8",
           "ticks": "",
           "title": {
            "standoff": 15
           },
           "zerolinecolor": "#EBF0F8",
           "zerolinewidth": 2
          },
          "yaxis": {
           "automargin": true,
           "gridcolor": "#EBF0F8",
           "linecolor": "#EBF0F8",
           "ticks": "",
           "title": {
            "standoff": 15
           },
           "zerolinecolor": "#EBF0F8",
           "zerolinewidth": 2
          }
         }
        },
        "xaxis": {
         "title": {
          "font": {
           "weight": "bold",
           "color": "black"
          }
         },
         "tickangle": 90,
         "tickfont": {
          "family": "Arial",
          "size": 13,
          "color": "black",
          "weight": "bold"
         }
        },
        "height": 900,
        "width": 800,
        "yaxis": {
         "tickfont": {
          "family": "Arial",
          "size": 13,
          "color": "black",
          "weight": "bold"
         }
        },
        "shapes": [
         {
          "line": {
           "color": "black",
           "width": 1.5
          },
          "type": "line",
          "x0": -0.5,
          "x1": -0.5,
          "y0": -0.5,
          "y1": 6.5
         },
         {
          "line": {
           "color": "black",
           "width": 3
          },
          "type": "line",
          "x0": -0.5,
          "x1": 9.5,
          "y0": 0.5,
          "y1": 0.5
         },
         {
          "line": {
           "color": "black",
           "width": 1.5
          },
          "type": "line",
          "x0": 0.5,
          "x1": 0.5,
          "y0": -0.5,
          "y1": 6.5
         },
         {
          "line": {
           "color": "black",
           "width": 3
          },
          "type": "line",
          "x0": -0.5,
          "x1": 9.5,
          "y0": 0.5,
          "y1": 0.5
         },
         {
          "line": {
           "color": "black",
           "width": 3
          },
          "type": "line",
          "x0": -0.5,
          "x1": 9.5,
          "y0": 0.5,
          "y1": 0.5
         },
         {
          "line": {
           "color": "black",
           "width": 1.5
          },
          "type": "line",
          "x0": 2.5,
          "x1": 2.5,
          "y0": -0.5,
          "y1": 6.5
         },
         {
          "line": {
           "color": "black",
           "width": 3
          },
          "type": "line",
          "x0": -0.5,
          "x1": 9.5,
          "y0": 0.5,
          "y1": 0.5
         },
         {
          "line": {
           "color": "black",
           "width": 3
          },
          "type": "line",
          "x0": -0.5,
          "x1": 9.5,
          "y0": 0.5,
          "y1": 0.5
         },
         {
          "line": {
           "color": "black",
           "width": 1.5
          },
          "type": "line",
          "x0": 4.5,
          "x1": 4.5,
          "y0": -0.5,
          "y1": 6.5
         },
         {
          "line": {
           "color": "black",
           "width": 3
          },
          "type": "line",
          "x0": -0.5,
          "x1": 9.5,
          "y0": 0.5,
          "y1": 0.5
         },
         {
          "line": {
           "color": "black",
           "width": 3
          },
          "type": "line",
          "x0": -0.5,
          "x1": 9.5,
          "y0": 0.5,
          "y1": 0.5
         },
         {
          "line": {
           "color": "black",
           "width": 1.5
          },
          "type": "line",
          "x0": 6.5,
          "x1": 6.5,
          "y0": -0.5,
          "y1": 6.5
         },
         {
          "line": {
           "color": "black",
           "width": 3
          },
          "type": "line",
          "x0": -0.5,
          "x1": 9.5,
          "y0": 0.5,
          "y1": 0.5
         },
         {
          "line": {
           "color": "black",
           "width": 3
          },
          "type": "line",
          "x0": -0.5,
          "x1": 9.5,
          "y0": 0.5,
          "y1": 0.5
         },
         {
          "line": {
           "color": "black",
           "width": 3
          },
          "type": "line",
          "x0": 8.5,
          "x1": 8.5,
          "y0": -0.5,
          "y1": 6.5
         },
         {
          "line": {
           "color": "black",
           "width": 3
          },
          "type": "line",
          "x0": -0.5,
          "x1": 9.5,
          "y0": 0.5,
          "y1": 0.5
         },
         {
          "line": {
           "color": "black",
           "width": 1.5
          },
          "type": "line",
          "x0": 9.5,
          "x1": 9.5,
          "y0": -0.5,
          "y1": 6.5
         },
         {
          "line": {
           "color": "black",
           "width": 3
          },
          "type": "line",
          "x0": -0.5,
          "x1": 9.5,
          "y0": 0.5,
          "y1": 0.5
         }
        ],
        "margin": {
         "b": 180
        },
        "annotations": [
         {
          "align": "center",
          "font": {
           "color": "black",
           "family": "Arial",
           "size": 14,
           "weight": "bold"
          },
          "showarrow": false,
          "text": "|                System                |                    Knowledge                    |           Social         |              |",
          "x": 0.5,
          "xref": "paper",
          "y": -0.25,
          "yref": "paper"
         }
        ]
       },
       "config": {
        "plotlyServerURL": "https://plot.ly"
       }
      },
      "text/html": [
       "<div>                            <div id=\"3a74ff00-ad30-4c0a-ae75-6e8db719507c\" class=\"plotly-graph-div\" style=\"height:900px; width:800px;\"></div>            <script type=\"text/javascript\">                require([\"plotly\"], function(Plotly) {                    window.PLOTLYENV=window.PLOTLYENV || {};                                    if (document.getElementById(\"3a74ff00-ad30-4c0a-ae75-6e8db719507c\")) {                    Plotly.newPlot(                        \"3a74ff00-ad30-4c0a-ae75-6e8db719507c\",                        [{\"colorbar\":{\"tickformat\":\".0%\"},\"colorscale\":[[0.0,\"#fcffa4\"],[0.1111111111111111,\"#f7d13d\"],[0.2222222222222222,\"#fb9b06\"],[0.3333333333333333,\"#ed6925\"],[0.4444444444444444,\"#cf4446\"],[0.5555555555555556,\"#a52c60\"],[0.6666666666666666,\"#781c6d\"],[0.7777777777777778,\"#4a0c6b\"],[0.8888888888888888,\"#1b0c41\"],[1.0,\"#000004\"]],\"texttemplate\":\"%{z:.0%}\",\"x\":[[\" \",\"Diversification\",\"Diversification\",\"Enrichment\",\"Enrichment\",\"Derivation\",\"Derivation\",\"  \",\"  \",\"   \"],[\"Integration\",\"Adaptation\",\"Recommendation\",\"Profile\",\"Context\",\"Interpretation of\\u003cbr\\u003eUser Behaviour\",\"Explanation of\\u003cbr\\u003eSystem Behaviour\",\"Relation\",\"Interaction\",\"Average\"]],\"xgap\":2,\"y\":[\"Average \",\"General \",\"Finance \",\"Productivity \",\"Wellbeing \",\"Learning \",\"Sustainability \"],\"ygap\":2,\"z\":[[0.08014763014763014,0.040067340067340064,0.01853146853146853,0.07800440300440299,0.055918155918155917,0.01924448100918689,0.0463027713027713,0.03704998704998705,0.04008029008029008,0.04614961412347034],[0.10909090909090909,0.01818181818181818,0.07272727272727272,0.07272727272727272,0.03636363636363636,0.01818181818181818,0.03636363636363636,0.07272727272727272,0.09090909090909091,0.05858585858585858],[0.0,0.0,0.0,0.0,0.0,0.0,0.0,0.0,0.0,0.0],[0.0,0.0,0.0,0.0,0.0,0.058823529411764705,0.0,0.0,0.0,0.006535947712418301],[0.038461538461538464,0.0,0.038461538461538464,0.17307692307692307,0.07692307692307693,0.038461538461538464,0.019230769230769232,0.038461538461538464,0.038461538461538464,0.05128205128205129],[0.1111111111111111,0.0,0.0,0.0,0.1111111111111111,0.0,0.0,0.1111111111111111,0.1111111111111111,0.04938271604938271],[0.2222222222222222,0.2222222222222222,0.0,0.2222222222222222,0.1111111111111111,0.0,0.2222222222222222,0.0,0.0,0.1111111111111111]],\"zmax\":1,\"zmin\":0,\"type\":\"heatmap\"}],                        {\"template\":{\"data\":{\"barpolar\":[{\"marker\":{\"line\":{\"color\":\"white\",\"width\":0.5},\"pattern\":{\"fillmode\":\"overlay\",\"size\":10,\"solidity\":0.2}},\"type\":\"barpolar\"}],\"bar\":[{\"error_x\":{\"color\":\"#2a3f5f\"},\"error_y\":{\"color\":\"#2a3f5f\"},\"marker\":{\"line\":{\"color\":\"white\",\"width\":0.5},\"pattern\":{\"fillmode\":\"overlay\",\"size\":10,\"solidity\":0.2}},\"type\":\"bar\"}],\"carpet\":[{\"aaxis\":{\"endlinecolor\":\"#2a3f5f\",\"gridcolor\":\"#C8D4E3\",\"linecolor\":\"#C8D4E3\",\"minorgridcolor\":\"#C8D4E3\",\"startlinecolor\":\"#2a3f5f\"},\"baxis\":{\"endlinecolor\":\"#2a3f5f\",\"gridcolor\":\"#C8D4E3\",\"linecolor\":\"#C8D4E3\",\"minorgridcolor\":\"#C8D4E3\",\"startlinecolor\":\"#2a3f5f\"},\"type\":\"carpet\"}],\"choropleth\":[{\"colorbar\":{\"outlinewidth\":0,\"ticks\":\"\"},\"type\":\"choropleth\"}],\"contourcarpet\":[{\"colorbar\":{\"outlinewidth\":0,\"ticks\":\"\"},\"type\":\"contourcarpet\"}],\"contour\":[{\"colorbar\":{\"outlinewidth\":0,\"ticks\":\"\"},\"colorscale\":[[0.0,\"#0d0887\"],[0.1111111111111111,\"#46039f\"],[0.2222222222222222,\"#7201a8\"],[0.3333333333333333,\"#9c179e\"],[0.4444444444444444,\"#bd3786\"],[0.5555555555555556,\"#d8576b\"],[0.6666666666666666,\"#ed7953\"],[0.7777777777777778,\"#fb9f3a\"],[0.8888888888888888,\"#fdca26\"],[1.0,\"#f0f921\"]],\"type\":\"contour\"}],\"heatmapgl\":[{\"colorbar\":{\"outlinewidth\":0,\"ticks\":\"\"},\"colorscale\":[[0.0,\"#0d0887\"],[0.1111111111111111,\"#46039f\"],[0.2222222222222222,\"#7201a8\"],[0.3333333333333333,\"#9c179e\"],[0.4444444444444444,\"#bd3786\"],[0.5555555555555556,\"#d8576b\"],[0.6666666666666666,\"#ed7953\"],[0.7777777777777778,\"#fb9f3a\"],[0.8888888888888888,\"#fdca26\"],[1.0,\"#f0f921\"]],\"type\":\"heatmapgl\"}],\"heatmap\":[{\"colorbar\":{\"outlinewidth\":0,\"ticks\":\"\"},\"colorscale\":[[0.0,\"#0d0887\"],[0.1111111111111111,\"#46039f\"],[0.2222222222222222,\"#7201a8\"],[0.3333333333333333,\"#9c179e\"],[0.4444444444444444,\"#bd3786\"],[0.5555555555555556,\"#d8576b\"],[0.6666666666666666,\"#ed7953\"],[0.7777777777777778,\"#fb9f3a\"],[0.8888888888888888,\"#fdca26\"],[1.0,\"#f0f921\"]],\"type\":\"heatmap\"}],\"histogram2dcontour\":[{\"colorbar\":{\"outlinewidth\":0,\"ticks\":\"\"},\"colorscale\":[[0.0,\"#0d0887\"],[0.1111111111111111,\"#46039f\"],[0.2222222222222222,\"#7201a8\"],[0.3333333333333333,\"#9c179e\"],[0.4444444444444444,\"#bd3786\"],[0.5555555555555556,\"#d8576b\"],[0.6666666666666666,\"#ed7953\"],[0.7777777777777778,\"#fb9f3a\"],[0.8888888888888888,\"#fdca26\"],[1.0,\"#f0f921\"]],\"type\":\"histogram2dcontour\"}],\"histogram2d\":[{\"colorbar\":{\"outlinewidth\":0,\"ticks\":\"\"},\"colorscale\":[[0.0,\"#0d0887\"],[0.1111111111111111,\"#46039f\"],[0.2222222222222222,\"#7201a8\"],[0.3333333333333333,\"#9c179e\"],[0.4444444444444444,\"#bd3786\"],[0.5555555555555556,\"#d8576b\"],[0.6666666666666666,\"#ed7953\"],[0.7777777777777778,\"#fb9f3a\"],[0.8888888888888888,\"#fdca26\"],[1.0,\"#f0f921\"]],\"type\":\"histogram2d\"}],\"histogram\":[{\"marker\":{\"pattern\":{\"fillmode\":\"overlay\",\"size\":10,\"solidity\":0.2}},\"type\":\"histogram\"}],\"mesh3d\":[{\"colorbar\":{\"outlinewidth\":0,\"ticks\":\"\"},\"type\":\"mesh3d\"}],\"parcoords\":[{\"line\":{\"colorbar\":{\"outlinewidth\":0,\"ticks\":\"\"}},\"type\":\"parcoords\"}],\"pie\":[{\"automargin\":true,\"type\":\"pie\"}],\"scatter3d\":[{\"line\":{\"colorbar\":{\"outlinewidth\":0,\"ticks\":\"\"}},\"marker\":{\"colorbar\":{\"outlinewidth\":0,\"ticks\":\"\"}},\"type\":\"scatter3d\"}],\"scattercarpet\":[{\"marker\":{\"colorbar\":{\"outlinewidth\":0,\"ticks\":\"\"}},\"type\":\"scattercarpet\"}],\"scattergeo\":[{\"marker\":{\"colorbar\":{\"outlinewidth\":0,\"ticks\":\"\"}},\"type\":\"scattergeo\"}],\"scattergl\":[{\"marker\":{\"colorbar\":{\"outlinewidth\":0,\"ticks\":\"\"}},\"type\":\"scattergl\"}],\"scattermapbox\":[{\"marker\":{\"colorbar\":{\"outlinewidth\":0,\"ticks\":\"\"}},\"type\":\"scattermapbox\"}],\"scatterpolargl\":[{\"marker\":{\"colorbar\":{\"outlinewidth\":0,\"ticks\":\"\"}},\"type\":\"scatterpolargl\"}],\"scatterpolar\":[{\"marker\":{\"colorbar\":{\"outlinewidth\":0,\"ticks\":\"\"}},\"type\":\"scatterpolar\"}],\"scatter\":[{\"fillpattern\":{\"fillmode\":\"overlay\",\"size\":10,\"solidity\":0.2},\"type\":\"scatter\"}],\"scatterternary\":[{\"marker\":{\"colorbar\":{\"outlinewidth\":0,\"ticks\":\"\"}},\"type\":\"scatterternary\"}],\"surface\":[{\"colorbar\":{\"outlinewidth\":0,\"ticks\":\"\"},\"colorscale\":[[0.0,\"#0d0887\"],[0.1111111111111111,\"#46039f\"],[0.2222222222222222,\"#7201a8\"],[0.3333333333333333,\"#9c179e\"],[0.4444444444444444,\"#bd3786\"],[0.5555555555555556,\"#d8576b\"],[0.6666666666666666,\"#ed7953\"],[0.7777777777777778,\"#fb9f3a\"],[0.8888888888888888,\"#fdca26\"],[1.0,\"#f0f921\"]],\"type\":\"surface\"}],\"table\":[{\"cells\":{\"fill\":{\"color\":\"#EBF0F8\"},\"line\":{\"color\":\"white\"}},\"header\":{\"fill\":{\"color\":\"#C8D4E3\"},\"line\":{\"color\":\"white\"}},\"type\":\"table\"}]},\"layout\":{\"annotationdefaults\":{\"arrowcolor\":\"#2a3f5f\",\"arrowhead\":0,\"arrowwidth\":1},\"autotypenumbers\":\"strict\",\"coloraxis\":{\"colorbar\":{\"outlinewidth\":0,\"ticks\":\"\"}},\"colorscale\":{\"diverging\":[[0,\"#8e0152\"],[0.1,\"#c51b7d\"],[0.2,\"#de77ae\"],[0.3,\"#f1b6da\"],[0.4,\"#fde0ef\"],[0.5,\"#f7f7f7\"],[0.6,\"#e6f5d0\"],[0.7,\"#b8e186\"],[0.8,\"#7fbc41\"],[0.9,\"#4d9221\"],[1,\"#276419\"]],\"sequential\":[[0.0,\"#0d0887\"],[0.1111111111111111,\"#46039f\"],[0.2222222222222222,\"#7201a8\"],[0.3333333333333333,\"#9c179e\"],[0.4444444444444444,\"#bd3786\"],[0.5555555555555556,\"#d8576b\"],[0.6666666666666666,\"#ed7953\"],[0.7777777777777778,\"#fb9f3a\"],[0.8888888888888888,\"#fdca26\"],[1.0,\"#f0f921\"]],\"sequentialminus\":[[0.0,\"#0d0887\"],[0.1111111111111111,\"#46039f\"],[0.2222222222222222,\"#7201a8\"],[0.3333333333333333,\"#9c179e\"],[0.4444444444444444,\"#bd3786\"],[0.5555555555555556,\"#d8576b\"],[0.6666666666666666,\"#ed7953\"],[0.7777777777777778,\"#fb9f3a\"],[0.8888888888888888,\"#fdca26\"],[1.0,\"#f0f921\"]]},\"colorway\":[\"#636efa\",\"#EF553B\",\"#00cc96\",\"#ab63fa\",\"#FFA15A\",\"#19d3f3\",\"#FF6692\",\"#B6E880\",\"#FF97FF\",\"#FECB52\"],\"font\":{\"color\":\"#2a3f5f\"},\"geo\":{\"bgcolor\":\"white\",\"lakecolor\":\"white\",\"landcolor\":\"white\",\"showlakes\":true,\"showland\":true,\"subunitcolor\":\"#C8D4E3\"},\"hoverlabel\":{\"align\":\"left\"},\"hovermode\":\"closest\",\"mapbox\":{\"style\":\"light\"},\"paper_bgcolor\":\"white\",\"plot_bgcolor\":\"white\",\"polar\":{\"angularaxis\":{\"gridcolor\":\"#EBF0F8\",\"linecolor\":\"#EBF0F8\",\"ticks\":\"\"},\"bgcolor\":\"white\",\"radialaxis\":{\"gridcolor\":\"#EBF0F8\",\"linecolor\":\"#EBF0F8\",\"ticks\":\"\"}},\"scene\":{\"xaxis\":{\"backgroundcolor\":\"white\",\"gridcolor\":\"#DFE8F3\",\"gridwidth\":2,\"linecolor\":\"#EBF0F8\",\"showbackground\":true,\"ticks\":\"\",\"zerolinecolor\":\"#EBF0F8\"},\"yaxis\":{\"backgroundcolor\":\"white\",\"gridcolor\":\"#DFE8F3\",\"gridwidth\":2,\"linecolor\":\"#EBF0F8\",\"showbackground\":true,\"ticks\":\"\",\"zerolinecolor\":\"#EBF0F8\"},\"zaxis\":{\"backgroundcolor\":\"white\",\"gridcolor\":\"#DFE8F3\",\"gridwidth\":2,\"linecolor\":\"#EBF0F8\",\"showbackground\":true,\"ticks\":\"\",\"zerolinecolor\":\"#EBF0F8\"}},\"shapedefaults\":{\"line\":{\"color\":\"#2a3f5f\"}},\"ternary\":{\"aaxis\":{\"gridcolor\":\"#DFE8F3\",\"linecolor\":\"#A2B1C6\",\"ticks\":\"\"},\"baxis\":{\"gridcolor\":\"#DFE8F3\",\"linecolor\":\"#A2B1C6\",\"ticks\":\"\"},\"bgcolor\":\"white\",\"caxis\":{\"gridcolor\":\"#DFE8F3\",\"linecolor\":\"#A2B1C6\",\"ticks\":\"\"}},\"title\":{\"x\":0.05},\"xaxis\":{\"automargin\":true,\"gridcolor\":\"#EBF0F8\",\"linecolor\":\"#EBF0F8\",\"ticks\":\"\",\"title\":{\"standoff\":15},\"zerolinecolor\":\"#EBF0F8\",\"zerolinewidth\":2},\"yaxis\":{\"automargin\":true,\"gridcolor\":\"#EBF0F8\",\"linecolor\":\"#EBF0F8\",\"ticks\":\"\",\"title\":{\"standoff\":15},\"zerolinecolor\":\"#EBF0F8\",\"zerolinewidth\":2}}},\"xaxis\":{\"title\":{\"font\":{\"weight\":\"bold\",\"color\":\"black\"}},\"tickangle\":90,\"tickfont\":{\"family\":\"Arial\",\"size\":13,\"color\":\"black\",\"weight\":\"bold\"}},\"height\":900,\"width\":800,\"yaxis\":{\"tickfont\":{\"family\":\"Arial\",\"size\":13,\"color\":\"black\",\"weight\":\"bold\"}},\"shapes\":[{\"line\":{\"color\":\"black\",\"width\":1.5},\"type\":\"line\",\"x0\":-0.5,\"x1\":-0.5,\"y0\":-0.5,\"y1\":6.5},{\"line\":{\"color\":\"black\",\"width\":3},\"type\":\"line\",\"x0\":-0.5,\"x1\":9.5,\"y0\":0.5,\"y1\":0.5},{\"line\":{\"color\":\"black\",\"width\":1.5},\"type\":\"line\",\"x0\":0.5,\"x1\":0.5,\"y0\":-0.5,\"y1\":6.5},{\"line\":{\"color\":\"black\",\"width\":3},\"type\":\"line\",\"x0\":-0.5,\"x1\":9.5,\"y0\":0.5,\"y1\":0.5},{\"line\":{\"color\":\"black\",\"width\":3},\"type\":\"line\",\"x0\":-0.5,\"x1\":9.5,\"y0\":0.5,\"y1\":0.5},{\"line\":{\"color\":\"black\",\"width\":1.5},\"type\":\"line\",\"x0\":2.5,\"x1\":2.5,\"y0\":-0.5,\"y1\":6.5},{\"line\":{\"color\":\"black\",\"width\":3},\"type\":\"line\",\"x0\":-0.5,\"x1\":9.5,\"y0\":0.5,\"y1\":0.5},{\"line\":{\"color\":\"black\",\"width\":3},\"type\":\"line\",\"x0\":-0.5,\"x1\":9.5,\"y0\":0.5,\"y1\":0.5},{\"line\":{\"color\":\"black\",\"width\":1.5},\"type\":\"line\",\"x0\":4.5,\"x1\":4.5,\"y0\":-0.5,\"y1\":6.5},{\"line\":{\"color\":\"black\",\"width\":3},\"type\":\"line\",\"x0\":-0.5,\"x1\":9.5,\"y0\":0.5,\"y1\":0.5},{\"line\":{\"color\":\"black\",\"width\":3},\"type\":\"line\",\"x0\":-0.5,\"x1\":9.5,\"y0\":0.5,\"y1\":0.5},{\"line\":{\"color\":\"black\",\"width\":1.5},\"type\":\"line\",\"x0\":6.5,\"x1\":6.5,\"y0\":-0.5,\"y1\":6.5},{\"line\":{\"color\":\"black\",\"width\":3},\"type\":\"line\",\"x0\":-0.5,\"x1\":9.5,\"y0\":0.5,\"y1\":0.5},{\"line\":{\"color\":\"black\",\"width\":3},\"type\":\"line\",\"x0\":-0.5,\"x1\":9.5,\"y0\":0.5,\"y1\":0.5},{\"line\":{\"color\":\"black\",\"width\":3},\"type\":\"line\",\"x0\":8.5,\"x1\":8.5,\"y0\":-0.5,\"y1\":6.5},{\"line\":{\"color\":\"black\",\"width\":3},\"type\":\"line\",\"x0\":-0.5,\"x1\":9.5,\"y0\":0.5,\"y1\":0.5},{\"line\":{\"color\":\"black\",\"width\":1.5},\"type\":\"line\",\"x0\":9.5,\"x1\":9.5,\"y0\":-0.5,\"y1\":6.5},{\"line\":{\"color\":\"black\",\"width\":3},\"type\":\"line\",\"x0\":-0.5,\"x1\":9.5,\"y0\":0.5,\"y1\":0.5}],\"margin\":{\"b\":180},\"annotations\":[{\"align\":\"center\",\"font\":{\"color\":\"black\",\"family\":\"Arial\",\"size\":14,\"weight\":\"bold\"},\"showarrow\":false,\"text\":\"|\\u2009               System                |                    Knowledge                    |\\u200a          Social        \\u200a|              |\",\"x\":0.5,\"xref\":\"paper\",\"y\":-0.25,\"yref\":\"paper\"}]},                        {\"responsive\": true}                    ).then(function(){\n",
       "                            \n",
       "var gd = document.getElementById('3a74ff00-ad30-4c0a-ae75-6e8db719507c');\n",
       "var x = new MutationObserver(function (mutations, observer) {{\n",
       "        var display = window.getComputedStyle(gd).display;\n",
       "        if (!display || display === 'none') {{\n",
       "            console.log([gd, 'removed!']);\n",
       "            Plotly.purge(gd);\n",
       "            observer.disconnect();\n",
       "        }}\n",
       "}});\n",
       "\n",
       "// Listen for the removal of the full notebook cells\n",
       "var notebookContainer = gd.closest('#notebook-container');\n",
       "if (notebookContainer) {{\n",
       "    x.observe(notebookContainer, {childList: true});\n",
       "}}\n",
       "\n",
       "// Listen for the clearing of the current output cell\n",
       "var outputEl = gd.closest('.output');\n",
       "if (outputEl) {{\n",
       "    x.observe(outputEl, {childList: true});\n",
       "}}\n",
       "\n",
       "                        })                };                });            </script>        </div>"
      ]
     },
     "metadata": {},
     "output_type": "display_data"
    },
    {
     "data": {
      "application/vnd.plotly.v1+json": {
       "data": [
        {
         "colorbar": {
          "tickformat": ".0%"
         },
         "colorscale": [
          [
           0.0,
           "#fcffa4"
          ],
          [
           0.1111111111111111,
           "#f7d13d"
          ],
          [
           0.2222222222222222,
           "#fb9b06"
          ],
          [
           0.3333333333333333,
           "#ed6925"
          ],
          [
           0.4444444444444444,
           "#cf4446"
          ],
          [
           0.5555555555555556,
           "#a52c60"
          ],
          [
           0.6666666666666666,
           "#781c6d"
          ],
          [
           0.7777777777777778,
           "#4a0c6b"
          ],
          [
           0.8888888888888888,
           "#1b0c41"
          ],
          [
           1.0,
           "#000004"
          ]
         ],
         "texttemplate": "%{z:.0%}",
         "x": [
          [
           "Constraint",
           "Constraint",
           "Constraint",
           "Interdependency",
           "Interdependency",
           "⁢"
          ],
          [
           "Content",
           "Temporal",
           "Spatial",
           "Alternative",
           "Sequence",
           "Average"
          ]
         ],
         "xgap": 2,
         "y": [
          "Average ",
          "General ",
          "Finance ",
          "Productivity ",
          "Wellbeing ",
          "Learning ",
          "Sustainability "
         ],
         "ygap": 2,
         "z": [
          [
           0.3287978905625964,
           0.10046772399713577,
           0.027959077959077958,
           0.14496891996891995,
           0.09884097384097383,
           0.14020691726574078
          ],
          [
           0.32727272727272727,
           0.10909090909090909,
           0.01818181818181818,
           0.14545454545454545,
           0.09090909090909091,
           0.13818181818181818
          ],
          [
           0.42857142857142855,
           0.0,
           0.0,
           0.0,
           0.0,
           0.08571428571428572
          ],
          [
           0.058823529411764705,
           0.11764705882352941,
           0.0,
           0.0,
           0.0,
           0.03529411764705882
          ],
          [
           0.2692307692307692,
           0.15384615384615385,
           0.038461538461538464,
           0.057692307692307696,
           0.057692307692307696,
           0.11538461538461539
          ],
          [
           0.4444444444444444,
           0.0,
           0.0,
           0.3333333333333333,
           0.3333333333333333,
           0.22222222222222218
          ],
          [
           0.4444444444444444,
           0.2222222222222222,
           0.1111111111111111,
           0.3333333333333333,
           0.1111111111111111,
           0.2444444444444444
          ]
         ],
         "zmax": 1,
         "zmin": 0,
         "type": "heatmap"
        }
       ],
       "layout": {
        "template": {
         "data": {
          "barpolar": [
           {
            "marker": {
             "line": {
              "color": "white",
              "width": 0.5
             },
             "pattern": {
              "fillmode": "overlay",
              "size": 10,
              "solidity": 0.2
             }
            },
            "type": "barpolar"
           }
          ],
          "bar": [
           {
            "error_x": {
             "color": "#2a3f5f"
            },
            "error_y": {
             "color": "#2a3f5f"
            },
            "marker": {
             "line": {
              "color": "white",
              "width": 0.5
             },
             "pattern": {
              "fillmode": "overlay",
              "size": 10,
              "solidity": 0.2
             }
            },
            "type": "bar"
           }
          ],
          "carpet": [
           {
            "aaxis": {
             "endlinecolor": "#2a3f5f",
             "gridcolor": "#C8D4E3",
             "linecolor": "#C8D4E3",
             "minorgridcolor": "#C8D4E3",
             "startlinecolor": "#2a3f5f"
            },
            "baxis": {
             "endlinecolor": "#2a3f5f",
             "gridcolor": "#C8D4E3",
             "linecolor": "#C8D4E3",
             "minorgridcolor": "#C8D4E3",
             "startlinecolor": "#2a3f5f"
            },
            "type": "carpet"
           }
          ],
          "choropleth": [
           {
            "colorbar": {
             "outlinewidth": 0,
             "ticks": ""
            },
            "type": "choropleth"
           }
          ],
          "contourcarpet": [
           {
            "colorbar": {
             "outlinewidth": 0,
             "ticks": ""
            },
            "type": "contourcarpet"
           }
          ],
          "contour": [
           {
            "colorbar": {
             "outlinewidth": 0,
             "ticks": ""
            },
            "colorscale": [
             [
              0.0,
              "#0d0887"
             ],
             [
              0.1111111111111111,
              "#46039f"
             ],
             [
              0.2222222222222222,
              "#7201a8"
             ],
             [
              0.3333333333333333,
              "#9c179e"
             ],
             [
              0.4444444444444444,
              "#bd3786"
             ],
             [
              0.5555555555555556,
              "#d8576b"
             ],
             [
              0.6666666666666666,
              "#ed7953"
             ],
             [
              0.7777777777777778,
              "#fb9f3a"
             ],
             [
              0.8888888888888888,
              "#fdca26"
             ],
             [
              1.0,
              "#f0f921"
             ]
            ],
            "type": "contour"
           }
          ],
          "heatmapgl": [
           {
            "colorbar": {
             "outlinewidth": 0,
             "ticks": ""
            },
            "colorscale": [
             [
              0.0,
              "#0d0887"
             ],
             [
              0.1111111111111111,
              "#46039f"
             ],
             [
              0.2222222222222222,
              "#7201a8"
             ],
             [
              0.3333333333333333,
              "#9c179e"
             ],
             [
              0.4444444444444444,
              "#bd3786"
             ],
             [
              0.5555555555555556,
              "#d8576b"
             ],
             [
              0.6666666666666666,
              "#ed7953"
             ],
             [
              0.7777777777777778,
              "#fb9f3a"
             ],
             [
              0.8888888888888888,
              "#fdca26"
             ],
             [
              1.0,
              "#f0f921"
             ]
            ],
            "type": "heatmapgl"
           }
          ],
          "heatmap": [
           {
            "colorbar": {
             "outlinewidth": 0,
             "ticks": ""
            },
            "colorscale": [
             [
              0.0,
              "#0d0887"
             ],
             [
              0.1111111111111111,
              "#46039f"
             ],
             [
              0.2222222222222222,
              "#7201a8"
             ],
             [
              0.3333333333333333,
              "#9c179e"
             ],
             [
              0.4444444444444444,
              "#bd3786"
             ],
             [
              0.5555555555555556,
              "#d8576b"
             ],
             [
              0.6666666666666666,
              "#ed7953"
             ],
             [
              0.7777777777777778,
              "#fb9f3a"
             ],
             [
              0.8888888888888888,
              "#fdca26"
             ],
             [
              1.0,
              "#f0f921"
             ]
            ],
            "type": "heatmap"
           }
          ],
          "histogram2dcontour": [
           {
            "colorbar": {
             "outlinewidth": 0,
             "ticks": ""
            },
            "colorscale": [
             [
              0.0,
              "#0d0887"
             ],
             [
              0.1111111111111111,
              "#46039f"
             ],
             [
              0.2222222222222222,
              "#7201a8"
             ],
             [
              0.3333333333333333,
              "#9c179e"
             ],
             [
              0.4444444444444444,
              "#bd3786"
             ],
             [
              0.5555555555555556,
              "#d8576b"
             ],
             [
              0.6666666666666666,
              "#ed7953"
             ],
             [
              0.7777777777777778,
              "#fb9f3a"
             ],
             [
              0.8888888888888888,
              "#fdca26"
             ],
             [
              1.0,
              "#f0f921"
             ]
            ],
            "type": "histogram2dcontour"
           }
          ],
          "histogram2d": [
           {
            "colorbar": {
             "outlinewidth": 0,
             "ticks": ""
            },
            "colorscale": [
             [
              0.0,
              "#0d0887"
             ],
             [
              0.1111111111111111,
              "#46039f"
             ],
             [
              0.2222222222222222,
              "#7201a8"
             ],
             [
              0.3333333333333333,
              "#9c179e"
             ],
             [
              0.4444444444444444,
              "#bd3786"
             ],
             [
              0.5555555555555556,
              "#d8576b"
             ],
             [
              0.6666666666666666,
              "#ed7953"
             ],
             [
              0.7777777777777778,
              "#fb9f3a"
             ],
             [
              0.8888888888888888,
              "#fdca26"
             ],
             [
              1.0,
              "#f0f921"
             ]
            ],
            "type": "histogram2d"
           }
          ],
          "histogram": [
           {
            "marker": {
             "pattern": {
              "fillmode": "overlay",
              "size": 10,
              "solidity": 0.2
             }
            },
            "type": "histogram"
           }
          ],
          "mesh3d": [
           {
            "colorbar": {
             "outlinewidth": 0,
             "ticks": ""
            },
            "type": "mesh3d"
           }
          ],
          "parcoords": [
           {
            "line": {
             "colorbar": {
              "outlinewidth": 0,
              "ticks": ""
             }
            },
            "type": "parcoords"
           }
          ],
          "pie": [
           {
            "automargin": true,
            "type": "pie"
           }
          ],
          "scatter3d": [
           {
            "line": {
             "colorbar": {
              "outlinewidth": 0,
              "ticks": ""
             }
            },
            "marker": {
             "colorbar": {
              "outlinewidth": 0,
              "ticks": ""
             }
            },
            "type": "scatter3d"
           }
          ],
          "scattercarpet": [
           {
            "marker": {
             "colorbar": {
              "outlinewidth": 0,
              "ticks": ""
             }
            },
            "type": "scattercarpet"
           }
          ],
          "scattergeo": [
           {
            "marker": {
             "colorbar": {
              "outlinewidth": 0,
              "ticks": ""
             }
            },
            "type": "scattergeo"
           }
          ],
          "scattergl": [
           {
            "marker": {
             "colorbar": {
              "outlinewidth": 0,
              "ticks": ""
             }
            },
            "type": "scattergl"
           }
          ],
          "scattermapbox": [
           {
            "marker": {
             "colorbar": {
              "outlinewidth": 0,
              "ticks": ""
             }
            },
            "type": "scattermapbox"
           }
          ],
          "scatterpolargl": [
           {
            "marker": {
             "colorbar": {
              "outlinewidth": 0,
              "ticks": ""
             }
            },
            "type": "scatterpolargl"
           }
          ],
          "scatterpolar": [
           {
            "marker": {
             "colorbar": {
              "outlinewidth": 0,
              "ticks": ""
             }
            },
            "type": "scatterpolar"
           }
          ],
          "scatter": [
           {
            "fillpattern": {
             "fillmode": "overlay",
             "size": 10,
             "solidity": 0.2
            },
            "type": "scatter"
           }
          ],
          "scatterternary": [
           {
            "marker": {
             "colorbar": {
              "outlinewidth": 0,
              "ticks": ""
             }
            },
            "type": "scatterternary"
           }
          ],
          "surface": [
           {
            "colorbar": {
             "outlinewidth": 0,
             "ticks": ""
            },
            "colorscale": [
             [
              0.0,
              "#0d0887"
             ],
             [
              0.1111111111111111,
              "#46039f"
             ],
             [
              0.2222222222222222,
              "#7201a8"
             ],
             [
              0.3333333333333333,
              "#9c179e"
             ],
             [
              0.4444444444444444,
              "#bd3786"
             ],
             [
              0.5555555555555556,
              "#d8576b"
             ],
             [
              0.6666666666666666,
              "#ed7953"
             ],
             [
              0.7777777777777778,
              "#fb9f3a"
             ],
             [
              0.8888888888888888,
              "#fdca26"
             ],
             [
              1.0,
              "#f0f921"
             ]
            ],
            "type": "surface"
           }
          ],
          "table": [
           {
            "cells": {
             "fill": {
              "color": "#EBF0F8"
             },
             "line": {
              "color": "white"
             }
            },
            "header": {
             "fill": {
              "color": "#C8D4E3"
             },
             "line": {
              "color": "white"
             }
            },
            "type": "table"
           }
          ]
         },
         "layout": {
          "annotationdefaults": {
           "arrowcolor": "#2a3f5f",
           "arrowhead": 0,
           "arrowwidth": 1
          },
          "autotypenumbers": "strict",
          "coloraxis": {
           "colorbar": {
            "outlinewidth": 0,
            "ticks": ""
           }
          },
          "colorscale": {
           "diverging": [
            [
             0,
             "#8e0152"
            ],
            [
             0.1,
             "#c51b7d"
            ],
            [
             0.2,
             "#de77ae"
            ],
            [
             0.3,
             "#f1b6da"
            ],
            [
             0.4,
             "#fde0ef"
            ],
            [
             0.5,
             "#f7f7f7"
            ],
            [
             0.6,
             "#e6f5d0"
            ],
            [
             0.7,
             "#b8e186"
            ],
            [
             0.8,
             "#7fbc41"
            ],
            [
             0.9,
             "#4d9221"
            ],
            [
             1,
             "#276419"
            ]
           ],
           "sequential": [
            [
             0.0,
             "#0d0887"
            ],
            [
             0.1111111111111111,
             "#46039f"
            ],
            [
             0.2222222222222222,
             "#7201a8"
            ],
            [
             0.3333333333333333,
             "#9c179e"
            ],
            [
             0.4444444444444444,
             "#bd3786"
            ],
            [
             0.5555555555555556,
             "#d8576b"
            ],
            [
             0.6666666666666666,
             "#ed7953"
            ],
            [
             0.7777777777777778,
             "#fb9f3a"
            ],
            [
             0.8888888888888888,
             "#fdca26"
            ],
            [
             1.0,
             "#f0f921"
            ]
           ],
           "sequentialminus": [
            [
             0.0,
             "#0d0887"
            ],
            [
             0.1111111111111111,
             "#46039f"
            ],
            [
             0.2222222222222222,
             "#7201a8"
            ],
            [
             0.3333333333333333,
             "#9c179e"
            ],
            [
             0.4444444444444444,
             "#bd3786"
            ],
            [
             0.5555555555555556,
             "#d8576b"
            ],
            [
             0.6666666666666666,
             "#ed7953"
            ],
            [
             0.7777777777777778,
             "#fb9f3a"
            ],
            [
             0.8888888888888888,
             "#fdca26"
            ],
            [
             1.0,
             "#f0f921"
            ]
           ]
          },
          "colorway": [
           "#636efa",
           "#EF553B",
           "#00cc96",
           "#ab63fa",
           "#FFA15A",
           "#19d3f3",
           "#FF6692",
           "#B6E880",
           "#FF97FF",
           "#FECB52"
          ],
          "font": {
           "color": "#2a3f5f"
          },
          "geo": {
           "bgcolor": "white",
           "lakecolor": "white",
           "landcolor": "white",
           "showlakes": true,
           "showland": true,
           "subunitcolor": "#C8D4E3"
          },
          "hoverlabel": {
           "align": "left"
          },
          "hovermode": "closest",
          "mapbox": {
           "style": "light"
          },
          "paper_bgcolor": "white",
          "plot_bgcolor": "white",
          "polar": {
           "angularaxis": {
            "gridcolor": "#EBF0F8",
            "linecolor": "#EBF0F8",
            "ticks": ""
           },
           "bgcolor": "white",
           "radialaxis": {
            "gridcolor": "#EBF0F8",
            "linecolor": "#EBF0F8",
            "ticks": ""
           }
          },
          "scene": {
           "xaxis": {
            "backgroundcolor": "white",
            "gridcolor": "#DFE8F3",
            "gridwidth": 2,
            "linecolor": "#EBF0F8",
            "showbackground": true,
            "ticks": "",
            "zerolinecolor": "#EBF0F8"
           },
           "yaxis": {
            "backgroundcolor": "white",
            "gridcolor": "#DFE8F3",
            "gridwidth": 2,
            "linecolor": "#EBF0F8",
            "showbackground": true,
            "ticks": "",
            "zerolinecolor": "#EBF0F8"
           },
           "zaxis": {
            "backgroundcolor": "white",
            "gridcolor": "#DFE8F3",
            "gridwidth": 2,
            "linecolor": "#EBF0F8",
            "showbackground": true,
            "ticks": "",
            "zerolinecolor": "#EBF0F8"
           }
          },
          "shapedefaults": {
           "line": {
            "color": "#2a3f5f"
           }
          },
          "ternary": {
           "aaxis": {
            "gridcolor": "#DFE8F3",
            "linecolor": "#A2B1C6",
            "ticks": ""
           },
           "baxis": {
            "gridcolor": "#DFE8F3",
            "linecolor": "#A2B1C6",
            "ticks": ""
           },
           "bgcolor": "white",
           "caxis": {
            "gridcolor": "#DFE8F3",
            "linecolor": "#A2B1C6",
            "ticks": ""
           }
          },
          "title": {
           "x": 0.05
          },
          "xaxis": {
           "automargin": true,
           "gridcolor": "#EBF0F8",
           "linecolor": "#EBF0F8",
           "ticks": "",
           "title": {
            "standoff": 15
           },
           "zerolinecolor": "#EBF0F8",
           "zerolinewidth": 2
          },
          "yaxis": {
           "automargin": true,
           "gridcolor": "#EBF0F8",
           "linecolor": "#EBF0F8",
           "ticks": "",
           "title": {
            "standoff": 15
           },
           "zerolinecolor": "#EBF0F8",
           "zerolinewidth": 2
          }
         }
        },
        "xaxis": {
         "title": {
          "font": {
           "weight": "bold",
           "color": "black"
          }
         },
         "tickangle": 90,
         "tickfont": {
          "family": "Arial",
          "size": 13,
          "color": "black",
          "weight": "bold"
         }
        },
        "height": 900,
        "width": 800,
        "yaxis": {
         "tickfont": {
          "family": "Arial",
          "size": 13,
          "color": "black",
          "weight": "bold"
         }
        },
        "shapes": [
         {
          "line": {
           "color": "black",
           "width": 1.5
          },
          "type": "line",
          "x0": -0.5,
          "x1": -0.5,
          "y0": -0.5,
          "y1": 6.5
         },
         {
          "line": {
           "color": "black",
           "width": 3
          },
          "type": "line",
          "x0": -0.5,
          "x1": 5.5,
          "y0": 0.5,
          "y1": 0.5
         },
         {
          "line": {
           "color": "black",
           "width": 3
          },
          "type": "line",
          "x0": -0.5,
          "x1": 5.5,
          "y0": 0.5,
          "y1": 0.5
         },
         {
          "line": {
           "color": "black",
           "width": 3
          },
          "type": "line",
          "x0": -0.5,
          "x1": 5.5,
          "y0": 0.5,
          "y1": 0.5
         },
         {
          "line": {
           "color": "black",
           "width": 1.5
          },
          "type": "line",
          "x0": 2.5,
          "x1": 2.5,
          "y0": -0.5,
          "y1": 6.5
         },
         {
          "line": {
           "color": "black",
           "width": 3
          },
          "type": "line",
          "x0": -0.5,
          "x1": 5.5,
          "y0": 0.5,
          "y1": 0.5
         },
         {
          "line": {
           "color": "black",
           "width": 3
          },
          "type": "line",
          "x0": -0.5,
          "x1": 5.5,
          "y0": 0.5,
          "y1": 0.5
         },
         {
          "line": {
           "color": "black",
           "width": 3
          },
          "type": "line",
          "x0": 4.5,
          "x1": 4.5,
          "y0": -0.5,
          "y1": 6.5
         },
         {
          "line": {
           "color": "black",
           "width": 3
          },
          "type": "line",
          "x0": -0.5,
          "x1": 5.5,
          "y0": 0.5,
          "y1": 0.5
         },
         {
          "line": {
           "color": "black",
           "width": 1.5
          },
          "type": "line",
          "x0": 5.5,
          "x1": 5.5,
          "y0": -0.5,
          "y1": 6.5
         },
         {
          "line": {
           "color": "black",
           "width": 3
          },
          "type": "line",
          "x0": -0.5,
          "x1": 5.5,
          "y0": 0.5,
          "y1": 0.5
         }
        ],
        "margin": {
         "b": 180
        }
       },
       "config": {
        "plotlyServerURL": "https://plot.ly"
       }
      },
      "text/html": [
       "<div>                            <div id=\"1ba5a224-6dd3-40d3-a10d-fc2c8dea8ab9\" class=\"plotly-graph-div\" style=\"height:900px; width:800px;\"></div>            <script type=\"text/javascript\">                require([\"plotly\"], function(Plotly) {                    window.PLOTLYENV=window.PLOTLYENV || {};                                    if (document.getElementById(\"1ba5a224-6dd3-40d3-a10d-fc2c8dea8ab9\")) {                    Plotly.newPlot(                        \"1ba5a224-6dd3-40d3-a10d-fc2c8dea8ab9\",                        [{\"colorbar\":{\"tickformat\":\".0%\"},\"colorscale\":[[0.0,\"#fcffa4\"],[0.1111111111111111,\"#f7d13d\"],[0.2222222222222222,\"#fb9b06\"],[0.3333333333333333,\"#ed6925\"],[0.4444444444444444,\"#cf4446\"],[0.5555555555555556,\"#a52c60\"],[0.6666666666666666,\"#781c6d\"],[0.7777777777777778,\"#4a0c6b\"],[0.8888888888888888,\"#1b0c41\"],[1.0,\"#000004\"]],\"texttemplate\":\"%{z:.0%}\",\"x\":[[\"Constraint\",\"Constraint\",\"Constraint\",\"Interdependency\",\"Interdependency\",\"\\u2062\"],[\"Content\",\"Temporal\",\"Spatial\",\"Alternative\",\"Sequence\",\"Average\"]],\"xgap\":2,\"y\":[\"Average \",\"General \",\"Finance \",\"Productivity \",\"Wellbeing \",\"Learning \",\"Sustainability \"],\"ygap\":2,\"z\":[[0.3287978905625964,0.10046772399713577,0.027959077959077958,0.14496891996891995,0.09884097384097383,0.14020691726574078],[0.32727272727272727,0.10909090909090909,0.01818181818181818,0.14545454545454545,0.09090909090909091,0.13818181818181818],[0.42857142857142855,0.0,0.0,0.0,0.0,0.08571428571428572],[0.058823529411764705,0.11764705882352941,0.0,0.0,0.0,0.03529411764705882],[0.2692307692307692,0.15384615384615385,0.038461538461538464,0.057692307692307696,0.057692307692307696,0.11538461538461539],[0.4444444444444444,0.0,0.0,0.3333333333333333,0.3333333333333333,0.22222222222222218],[0.4444444444444444,0.2222222222222222,0.1111111111111111,0.3333333333333333,0.1111111111111111,0.2444444444444444]],\"zmax\":1,\"zmin\":0,\"type\":\"heatmap\"}],                        {\"template\":{\"data\":{\"barpolar\":[{\"marker\":{\"line\":{\"color\":\"white\",\"width\":0.5},\"pattern\":{\"fillmode\":\"overlay\",\"size\":10,\"solidity\":0.2}},\"type\":\"barpolar\"}],\"bar\":[{\"error_x\":{\"color\":\"#2a3f5f\"},\"error_y\":{\"color\":\"#2a3f5f\"},\"marker\":{\"line\":{\"color\":\"white\",\"width\":0.5},\"pattern\":{\"fillmode\":\"overlay\",\"size\":10,\"solidity\":0.2}},\"type\":\"bar\"}],\"carpet\":[{\"aaxis\":{\"endlinecolor\":\"#2a3f5f\",\"gridcolor\":\"#C8D4E3\",\"linecolor\":\"#C8D4E3\",\"minorgridcolor\":\"#C8D4E3\",\"startlinecolor\":\"#2a3f5f\"},\"baxis\":{\"endlinecolor\":\"#2a3f5f\",\"gridcolor\":\"#C8D4E3\",\"linecolor\":\"#C8D4E3\",\"minorgridcolor\":\"#C8D4E3\",\"startlinecolor\":\"#2a3f5f\"},\"type\":\"carpet\"}],\"choropleth\":[{\"colorbar\":{\"outlinewidth\":0,\"ticks\":\"\"},\"type\":\"choropleth\"}],\"contourcarpet\":[{\"colorbar\":{\"outlinewidth\":0,\"ticks\":\"\"},\"type\":\"contourcarpet\"}],\"contour\":[{\"colorbar\":{\"outlinewidth\":0,\"ticks\":\"\"},\"colorscale\":[[0.0,\"#0d0887\"],[0.1111111111111111,\"#46039f\"],[0.2222222222222222,\"#7201a8\"],[0.3333333333333333,\"#9c179e\"],[0.4444444444444444,\"#bd3786\"],[0.5555555555555556,\"#d8576b\"],[0.6666666666666666,\"#ed7953\"],[0.7777777777777778,\"#fb9f3a\"],[0.8888888888888888,\"#fdca26\"],[1.0,\"#f0f921\"]],\"type\":\"contour\"}],\"heatmapgl\":[{\"colorbar\":{\"outlinewidth\":0,\"ticks\":\"\"},\"colorscale\":[[0.0,\"#0d0887\"],[0.1111111111111111,\"#46039f\"],[0.2222222222222222,\"#7201a8\"],[0.3333333333333333,\"#9c179e\"],[0.4444444444444444,\"#bd3786\"],[0.5555555555555556,\"#d8576b\"],[0.6666666666666666,\"#ed7953\"],[0.7777777777777778,\"#fb9f3a\"],[0.8888888888888888,\"#fdca26\"],[1.0,\"#f0f921\"]],\"type\":\"heatmapgl\"}],\"heatmap\":[{\"colorbar\":{\"outlinewidth\":0,\"ticks\":\"\"},\"colorscale\":[[0.0,\"#0d0887\"],[0.1111111111111111,\"#46039f\"],[0.2222222222222222,\"#7201a8\"],[0.3333333333333333,\"#9c179e\"],[0.4444444444444444,\"#bd3786\"],[0.5555555555555556,\"#d8576b\"],[0.6666666666666666,\"#ed7953\"],[0.7777777777777778,\"#fb9f3a\"],[0.8888888888888888,\"#fdca26\"],[1.0,\"#f0f921\"]],\"type\":\"heatmap\"}],\"histogram2dcontour\":[{\"colorbar\":{\"outlinewidth\":0,\"ticks\":\"\"},\"colorscale\":[[0.0,\"#0d0887\"],[0.1111111111111111,\"#46039f\"],[0.2222222222222222,\"#7201a8\"],[0.3333333333333333,\"#9c179e\"],[0.4444444444444444,\"#bd3786\"],[0.5555555555555556,\"#d8576b\"],[0.6666666666666666,\"#ed7953\"],[0.7777777777777778,\"#fb9f3a\"],[0.8888888888888888,\"#fdca26\"],[1.0,\"#f0f921\"]],\"type\":\"histogram2dcontour\"}],\"histogram2d\":[{\"colorbar\":{\"outlinewidth\":0,\"ticks\":\"\"},\"colorscale\":[[0.0,\"#0d0887\"],[0.1111111111111111,\"#46039f\"],[0.2222222222222222,\"#7201a8\"],[0.3333333333333333,\"#9c179e\"],[0.4444444444444444,\"#bd3786\"],[0.5555555555555556,\"#d8576b\"],[0.6666666666666666,\"#ed7953\"],[0.7777777777777778,\"#fb9f3a\"],[0.8888888888888888,\"#fdca26\"],[1.0,\"#f0f921\"]],\"type\":\"histogram2d\"}],\"histogram\":[{\"marker\":{\"pattern\":{\"fillmode\":\"overlay\",\"size\":10,\"solidity\":0.2}},\"type\":\"histogram\"}],\"mesh3d\":[{\"colorbar\":{\"outlinewidth\":0,\"ticks\":\"\"},\"type\":\"mesh3d\"}],\"parcoords\":[{\"line\":{\"colorbar\":{\"outlinewidth\":0,\"ticks\":\"\"}},\"type\":\"parcoords\"}],\"pie\":[{\"automargin\":true,\"type\":\"pie\"}],\"scatter3d\":[{\"line\":{\"colorbar\":{\"outlinewidth\":0,\"ticks\":\"\"}},\"marker\":{\"colorbar\":{\"outlinewidth\":0,\"ticks\":\"\"}},\"type\":\"scatter3d\"}],\"scattercarpet\":[{\"marker\":{\"colorbar\":{\"outlinewidth\":0,\"ticks\":\"\"}},\"type\":\"scattercarpet\"}],\"scattergeo\":[{\"marker\":{\"colorbar\":{\"outlinewidth\":0,\"ticks\":\"\"}},\"type\":\"scattergeo\"}],\"scattergl\":[{\"marker\":{\"colorbar\":{\"outlinewidth\":0,\"ticks\":\"\"}},\"type\":\"scattergl\"}],\"scattermapbox\":[{\"marker\":{\"colorbar\":{\"outlinewidth\":0,\"ticks\":\"\"}},\"type\":\"scattermapbox\"}],\"scatterpolargl\":[{\"marker\":{\"colorbar\":{\"outlinewidth\":0,\"ticks\":\"\"}},\"type\":\"scatterpolargl\"}],\"scatterpolar\":[{\"marker\":{\"colorbar\":{\"outlinewidth\":0,\"ticks\":\"\"}},\"type\":\"scatterpolar\"}],\"scatter\":[{\"fillpattern\":{\"fillmode\":\"overlay\",\"size\":10,\"solidity\":0.2},\"type\":\"scatter\"}],\"scatterternary\":[{\"marker\":{\"colorbar\":{\"outlinewidth\":0,\"ticks\":\"\"}},\"type\":\"scatterternary\"}],\"surface\":[{\"colorbar\":{\"outlinewidth\":0,\"ticks\":\"\"},\"colorscale\":[[0.0,\"#0d0887\"],[0.1111111111111111,\"#46039f\"],[0.2222222222222222,\"#7201a8\"],[0.3333333333333333,\"#9c179e\"],[0.4444444444444444,\"#bd3786\"],[0.5555555555555556,\"#d8576b\"],[0.6666666666666666,\"#ed7953\"],[0.7777777777777778,\"#fb9f3a\"],[0.8888888888888888,\"#fdca26\"],[1.0,\"#f0f921\"]],\"type\":\"surface\"}],\"table\":[{\"cells\":{\"fill\":{\"color\":\"#EBF0F8\"},\"line\":{\"color\":\"white\"}},\"header\":{\"fill\":{\"color\":\"#C8D4E3\"},\"line\":{\"color\":\"white\"}},\"type\":\"table\"}]},\"layout\":{\"annotationdefaults\":{\"arrowcolor\":\"#2a3f5f\",\"arrowhead\":0,\"arrowwidth\":1},\"autotypenumbers\":\"strict\",\"coloraxis\":{\"colorbar\":{\"outlinewidth\":0,\"ticks\":\"\"}},\"colorscale\":{\"diverging\":[[0,\"#8e0152\"],[0.1,\"#c51b7d\"],[0.2,\"#de77ae\"],[0.3,\"#f1b6da\"],[0.4,\"#fde0ef\"],[0.5,\"#f7f7f7\"],[0.6,\"#e6f5d0\"],[0.7,\"#b8e186\"],[0.8,\"#7fbc41\"],[0.9,\"#4d9221\"],[1,\"#276419\"]],\"sequential\":[[0.0,\"#0d0887\"],[0.1111111111111111,\"#46039f\"],[0.2222222222222222,\"#7201a8\"],[0.3333333333333333,\"#9c179e\"],[0.4444444444444444,\"#bd3786\"],[0.5555555555555556,\"#d8576b\"],[0.6666666666666666,\"#ed7953\"],[0.7777777777777778,\"#fb9f3a\"],[0.8888888888888888,\"#fdca26\"],[1.0,\"#f0f921\"]],\"sequentialminus\":[[0.0,\"#0d0887\"],[0.1111111111111111,\"#46039f\"],[0.2222222222222222,\"#7201a8\"],[0.3333333333333333,\"#9c179e\"],[0.4444444444444444,\"#bd3786\"],[0.5555555555555556,\"#d8576b\"],[0.6666666666666666,\"#ed7953\"],[0.7777777777777778,\"#fb9f3a\"],[0.8888888888888888,\"#fdca26\"],[1.0,\"#f0f921\"]]},\"colorway\":[\"#636efa\",\"#EF553B\",\"#00cc96\",\"#ab63fa\",\"#FFA15A\",\"#19d3f3\",\"#FF6692\",\"#B6E880\",\"#FF97FF\",\"#FECB52\"],\"font\":{\"color\":\"#2a3f5f\"},\"geo\":{\"bgcolor\":\"white\",\"lakecolor\":\"white\",\"landcolor\":\"white\",\"showlakes\":true,\"showland\":true,\"subunitcolor\":\"#C8D4E3\"},\"hoverlabel\":{\"align\":\"left\"},\"hovermode\":\"closest\",\"mapbox\":{\"style\":\"light\"},\"paper_bgcolor\":\"white\",\"plot_bgcolor\":\"white\",\"polar\":{\"angularaxis\":{\"gridcolor\":\"#EBF0F8\",\"linecolor\":\"#EBF0F8\",\"ticks\":\"\"},\"bgcolor\":\"white\",\"radialaxis\":{\"gridcolor\":\"#EBF0F8\",\"linecolor\":\"#EBF0F8\",\"ticks\":\"\"}},\"scene\":{\"xaxis\":{\"backgroundcolor\":\"white\",\"gridcolor\":\"#DFE8F3\",\"gridwidth\":2,\"linecolor\":\"#EBF0F8\",\"showbackground\":true,\"ticks\":\"\",\"zerolinecolor\":\"#EBF0F8\"},\"yaxis\":{\"backgroundcolor\":\"white\",\"gridcolor\":\"#DFE8F3\",\"gridwidth\":2,\"linecolor\":\"#EBF0F8\",\"showbackground\":true,\"ticks\":\"\",\"zerolinecolor\":\"#EBF0F8\"},\"zaxis\":{\"backgroundcolor\":\"white\",\"gridcolor\":\"#DFE8F3\",\"gridwidth\":2,\"linecolor\":\"#EBF0F8\",\"showbackground\":true,\"ticks\":\"\",\"zerolinecolor\":\"#EBF0F8\"}},\"shapedefaults\":{\"line\":{\"color\":\"#2a3f5f\"}},\"ternary\":{\"aaxis\":{\"gridcolor\":\"#DFE8F3\",\"linecolor\":\"#A2B1C6\",\"ticks\":\"\"},\"baxis\":{\"gridcolor\":\"#DFE8F3\",\"linecolor\":\"#A2B1C6\",\"ticks\":\"\"},\"bgcolor\":\"white\",\"caxis\":{\"gridcolor\":\"#DFE8F3\",\"linecolor\":\"#A2B1C6\",\"ticks\":\"\"}},\"title\":{\"x\":0.05},\"xaxis\":{\"automargin\":true,\"gridcolor\":\"#EBF0F8\",\"linecolor\":\"#EBF0F8\",\"ticks\":\"\",\"title\":{\"standoff\":15},\"zerolinecolor\":\"#EBF0F8\",\"zerolinewidth\":2},\"yaxis\":{\"automargin\":true,\"gridcolor\":\"#EBF0F8\",\"linecolor\":\"#EBF0F8\",\"ticks\":\"\",\"title\":{\"standoff\":15},\"zerolinecolor\":\"#EBF0F8\",\"zerolinewidth\":2}}},\"xaxis\":{\"title\":{\"font\":{\"weight\":\"bold\",\"color\":\"black\"}},\"tickangle\":90,\"tickfont\":{\"family\":\"Arial\",\"size\":13,\"color\":\"black\",\"weight\":\"bold\"}},\"height\":900,\"width\":800,\"yaxis\":{\"tickfont\":{\"family\":\"Arial\",\"size\":13,\"color\":\"black\",\"weight\":\"bold\"}},\"shapes\":[{\"line\":{\"color\":\"black\",\"width\":1.5},\"type\":\"line\",\"x0\":-0.5,\"x1\":-0.5,\"y0\":-0.5,\"y1\":6.5},{\"line\":{\"color\":\"black\",\"width\":3},\"type\":\"line\",\"x0\":-0.5,\"x1\":5.5,\"y0\":0.5,\"y1\":0.5},{\"line\":{\"color\":\"black\",\"width\":3},\"type\":\"line\",\"x0\":-0.5,\"x1\":5.5,\"y0\":0.5,\"y1\":0.5},{\"line\":{\"color\":\"black\",\"width\":3},\"type\":\"line\",\"x0\":-0.5,\"x1\":5.5,\"y0\":0.5,\"y1\":0.5},{\"line\":{\"color\":\"black\",\"width\":1.5},\"type\":\"line\",\"x0\":2.5,\"x1\":2.5,\"y0\":-0.5,\"y1\":6.5},{\"line\":{\"color\":\"black\",\"width\":3},\"type\":\"line\",\"x0\":-0.5,\"x1\":5.5,\"y0\":0.5,\"y1\":0.5},{\"line\":{\"color\":\"black\",\"width\":3},\"type\":\"line\",\"x0\":-0.5,\"x1\":5.5,\"y0\":0.5,\"y1\":0.5},{\"line\":{\"color\":\"black\",\"width\":3},\"type\":\"line\",\"x0\":4.5,\"x1\":4.5,\"y0\":-0.5,\"y1\":6.5},{\"line\":{\"color\":\"black\",\"width\":3},\"type\":\"line\",\"x0\":-0.5,\"x1\":5.5,\"y0\":0.5,\"y1\":0.5},{\"line\":{\"color\":\"black\",\"width\":1.5},\"type\":\"line\",\"x0\":5.5,\"x1\":5.5,\"y0\":-0.5,\"y1\":6.5},{\"line\":{\"color\":\"black\",\"width\":3},\"type\":\"line\",\"x0\":-0.5,\"x1\":5.5,\"y0\":0.5,\"y1\":0.5}],\"margin\":{\"b\":180}},                        {\"responsive\": true}                    ).then(function(){\n",
       "                            \n",
       "var gd = document.getElementById('1ba5a224-6dd3-40d3-a10d-fc2c8dea8ab9');\n",
       "var x = new MutationObserver(function (mutations, observer) {{\n",
       "        var display = window.getComputedStyle(gd).display;\n",
       "        if (!display || display === 'none') {{\n",
       "            console.log([gd, 'removed!']);\n",
       "            Plotly.purge(gd);\n",
       "            observer.disconnect();\n",
       "        }}\n",
       "}});\n",
       "\n",
       "// Listen for the removal of the full notebook cells\n",
       "var notebookContainer = gd.closest('#notebook-container');\n",
       "if (notebookContainer) {{\n",
       "    x.observe(notebookContainer, {childList: true});\n",
       "}}\n",
       "\n",
       "// Listen for the clearing of the current output cell\n",
       "var outputEl = gd.closest('.output');\n",
       "if (outputEl) {{\n",
       "    x.observe(outputEl, {childList: true});\n",
       "}}\n",
       "\n",
       "                        })                };                });            </script>        </div>"
      ]
     },
     "metadata": {},
     "output_type": "display_data"
    },
    {
     "data": {
      "application/vnd.plotly.v1+json": {
       "data": [
        {
         "colorbar": {
          "tickformat": ".0%"
         },
         "colorscale": [
          [
           0.0,
           "#fcffa4"
          ],
          [
           0.1111111111111111,
           "#f7d13d"
          ],
          [
           0.2222222222222222,
           "#fb9b06"
          ],
          [
           0.3333333333333333,
           "#ed6925"
          ],
          [
           0.4444444444444444,
           "#cf4446"
          ],
          [
           0.5555555555555556,
           "#a52c60"
          ],
          [
           0.6666666666666666,
           "#781c6d"
          ],
          [
           0.7777777777777778,
           "#4a0c6b"
          ],
          [
           0.8888888888888888,
           "#1b0c41"
          ],
          [
           1.0,
           "#000004"
          ]
         ],
         "texttemplate": "%{z:.0%}",
         "x": [
          [
           " ",
           "Diversification",
           "Diversification",
           "Enrichment",
           "Enrichment",
           "Derivation",
           "Derivation",
           "  ",
           "  ",
           "   "
          ],
          [
           "Integration",
           "Adaptation",
           "Recommendation",
           "Profile",
           "Context",
           "Interpretation of<br>User Behaviour",
           "Explanation of<br>System Behaviour",
           "Relation",
           "Interaction",
           "Average"
          ]
         ],
         "xgap": 2,
         "y": [
          "Average ",
          "General ",
          "Finance ",
          "Productivity ",
          "Wellbeing ",
          "Learning ",
          "Sustainability "
         ],
         "ygap": 2,
         "z": [
          [
           0.08335275835275835,
           0.1807473028061263,
           0.0373996373996374,
           0.14604453280923868,
           0.07461149961149961,
           0.02513026189496777,
           0.10507640507640507,
           0.00909090909090909,
           0.006060606060606061,
           0.07416821256690538
          ],
          [
           0.10909090909090909,
           0.12727272727272726,
           0.03636363636363636,
           0.12727272727272726,
           0.01818181818181818,
           0.07272727272727272,
           0.10909090909090909,
           0.05454545454545454,
           0.03636363636363636,
           0.07676767676767676
          ],
          [
           0.0,
           0.14285714285714285,
           0.0,
           0.0,
           0.0,
           0.0,
           0.0,
           0.0,
           0.0,
           0.015873015873015872
          ],
          [
           0.0,
           0.23529411764705882,
           0.0,
           0.058823529411764705,
           0.0,
           0.058823529411764705,
           0.0,
           0.0,
           0.0,
           0.0392156862745098
          ],
          [
           0.057692307692307696,
           0.1346153846153846,
           0.07692307692307693,
           0.1346153846153846,
           0.09615384615384616,
           0.019230769230769232,
           0.07692307692307693,
           0.0,
           0.0,
           0.06623931623931624
          ],
          [
           0.1111111111111111,
           0.2222222222222222,
           0.0,
           0.2222222222222222,
           0.0,
           0.0,
           0.1111111111111111,
           0.0,
           0.0,
           0.07407407407407408
          ],
          [
           0.2222222222222222,
           0.2222222222222222,
           0.1111111111111111,
           0.3333333333333333,
           0.3333333333333333,
           0.0,
           0.3333333333333333,
           0.0,
           0.0,
           0.1728395061728395
          ]
         ],
         "zmax": 1,
         "zmin": 0,
         "type": "heatmap"
        }
       ],
       "layout": {
        "template": {
         "data": {
          "barpolar": [
           {
            "marker": {
             "line": {
              "color": "white",
              "width": 0.5
             },
             "pattern": {
              "fillmode": "overlay",
              "size": 10,
              "solidity": 0.2
             }
            },
            "type": "barpolar"
           }
          ],
          "bar": [
           {
            "error_x": {
             "color": "#2a3f5f"
            },
            "error_y": {
             "color": "#2a3f5f"
            },
            "marker": {
             "line": {
              "color": "white",
              "width": 0.5
             },
             "pattern": {
              "fillmode": "overlay",
              "size": 10,
              "solidity": 0.2
             }
            },
            "type": "bar"
           }
          ],
          "carpet": [
           {
            "aaxis": {
             "endlinecolor": "#2a3f5f",
             "gridcolor": "#C8D4E3",
             "linecolor": "#C8D4E3",
             "minorgridcolor": "#C8D4E3",
             "startlinecolor": "#2a3f5f"
            },
            "baxis": {
             "endlinecolor": "#2a3f5f",
             "gridcolor": "#C8D4E3",
             "linecolor": "#C8D4E3",
             "minorgridcolor": "#C8D4E3",
             "startlinecolor": "#2a3f5f"
            },
            "type": "carpet"
           }
          ],
          "choropleth": [
           {
            "colorbar": {
             "outlinewidth": 0,
             "ticks": ""
            },
            "type": "choropleth"
           }
          ],
          "contourcarpet": [
           {
            "colorbar": {
             "outlinewidth": 0,
             "ticks": ""
            },
            "type": "contourcarpet"
           }
          ],
          "contour": [
           {
            "colorbar": {
             "outlinewidth": 0,
             "ticks": ""
            },
            "colorscale": [
             [
              0.0,
              "#0d0887"
             ],
             [
              0.1111111111111111,
              "#46039f"
             ],
             [
              0.2222222222222222,
              "#7201a8"
             ],
             [
              0.3333333333333333,
              "#9c179e"
             ],
             [
              0.4444444444444444,
              "#bd3786"
             ],
             [
              0.5555555555555556,
              "#d8576b"
             ],
             [
              0.6666666666666666,
              "#ed7953"
             ],
             [
              0.7777777777777778,
              "#fb9f3a"
             ],
             [
              0.8888888888888888,
              "#fdca26"
             ],
             [
              1.0,
              "#f0f921"
             ]
            ],
            "type": "contour"
           }
          ],
          "heatmapgl": [
           {
            "colorbar": {
             "outlinewidth": 0,
             "ticks": ""
            },
            "colorscale": [
             [
              0.0,
              "#0d0887"
             ],
             [
              0.1111111111111111,
              "#46039f"
             ],
             [
              0.2222222222222222,
              "#7201a8"
             ],
             [
              0.3333333333333333,
              "#9c179e"
             ],
             [
              0.4444444444444444,
              "#bd3786"
             ],
             [
              0.5555555555555556,
              "#d8576b"
             ],
             [
              0.6666666666666666,
              "#ed7953"
             ],
             [
              0.7777777777777778,
              "#fb9f3a"
             ],
             [
              0.8888888888888888,
              "#fdca26"
             ],
             [
              1.0,
              "#f0f921"
             ]
            ],
            "type": "heatmapgl"
           }
          ],
          "heatmap": [
           {
            "colorbar": {
             "outlinewidth": 0,
             "ticks": ""
            },
            "colorscale": [
             [
              0.0,
              "#0d0887"
             ],
             [
              0.1111111111111111,
              "#46039f"
             ],
             [
              0.2222222222222222,
              "#7201a8"
             ],
             [
              0.3333333333333333,
              "#9c179e"
             ],
             [
              0.4444444444444444,
              "#bd3786"
             ],
             [
              0.5555555555555556,
              "#d8576b"
             ],
             [
              0.6666666666666666,
              "#ed7953"
             ],
             [
              0.7777777777777778,
              "#fb9f3a"
             ],
             [
              0.8888888888888888,
              "#fdca26"
             ],
             [
              1.0,
              "#f0f921"
             ]
            ],
            "type": "heatmap"
           }
          ],
          "histogram2dcontour": [
           {
            "colorbar": {
             "outlinewidth": 0,
             "ticks": ""
            },
            "colorscale": [
             [
              0.0,
              "#0d0887"
             ],
             [
              0.1111111111111111,
              "#46039f"
             ],
             [
              0.2222222222222222,
              "#7201a8"
             ],
             [
              0.3333333333333333,
              "#9c179e"
             ],
             [
              0.4444444444444444,
              "#bd3786"
             ],
             [
              0.5555555555555556,
              "#d8576b"
             ],
             [
              0.6666666666666666,
              "#ed7953"
             ],
             [
              0.7777777777777778,
              "#fb9f3a"
             ],
             [
              0.8888888888888888,
              "#fdca26"
             ],
             [
              1.0,
              "#f0f921"
             ]
            ],
            "type": "histogram2dcontour"
           }
          ],
          "histogram2d": [
           {
            "colorbar": {
             "outlinewidth": 0,
             "ticks": ""
            },
            "colorscale": [
             [
              0.0,
              "#0d0887"
             ],
             [
              0.1111111111111111,
              "#46039f"
             ],
             [
              0.2222222222222222,
              "#7201a8"
             ],
             [
              0.3333333333333333,
              "#9c179e"
             ],
             [
              0.4444444444444444,
              "#bd3786"
             ],
             [
              0.5555555555555556,
              "#d8576b"
             ],
             [
              0.6666666666666666,
              "#ed7953"
             ],
             [
              0.7777777777777778,
              "#fb9f3a"
             ],
             [
              0.8888888888888888,
              "#fdca26"
             ],
             [
              1.0,
              "#f0f921"
             ]
            ],
            "type": "histogram2d"
           }
          ],
          "histogram": [
           {
            "marker": {
             "pattern": {
              "fillmode": "overlay",
              "size": 10,
              "solidity": 0.2
             }
            },
            "type": "histogram"
           }
          ],
          "mesh3d": [
           {
            "colorbar": {
             "outlinewidth": 0,
             "ticks": ""
            },
            "type": "mesh3d"
           }
          ],
          "parcoords": [
           {
            "line": {
             "colorbar": {
              "outlinewidth": 0,
              "ticks": ""
             }
            },
            "type": "parcoords"
           }
          ],
          "pie": [
           {
            "automargin": true,
            "type": "pie"
           }
          ],
          "scatter3d": [
           {
            "line": {
             "colorbar": {
              "outlinewidth": 0,
              "ticks": ""
             }
            },
            "marker": {
             "colorbar": {
              "outlinewidth": 0,
              "ticks": ""
             }
            },
            "type": "scatter3d"
           }
          ],
          "scattercarpet": [
           {
            "marker": {
             "colorbar": {
              "outlinewidth": 0,
              "ticks": ""
             }
            },
            "type": "scattercarpet"
           }
          ],
          "scattergeo": [
           {
            "marker": {
             "colorbar": {
              "outlinewidth": 0,
              "ticks": ""
             }
            },
            "type": "scattergeo"
           }
          ],
          "scattergl": [
           {
            "marker": {
             "colorbar": {
              "outlinewidth": 0,
              "ticks": ""
             }
            },
            "type": "scattergl"
           }
          ],
          "scattermapbox": [
           {
            "marker": {
             "colorbar": {
              "outlinewidth": 0,
              "ticks": ""
             }
            },
            "type": "scattermapbox"
           }
          ],
          "scatterpolargl": [
           {
            "marker": {
             "colorbar": {
              "outlinewidth": 0,
              "ticks": ""
             }
            },
            "type": "scatterpolargl"
           }
          ],
          "scatterpolar": [
           {
            "marker": {
             "colorbar": {
              "outlinewidth": 0,
              "ticks": ""
             }
            },
            "type": "scatterpolar"
           }
          ],
          "scatter": [
           {
            "fillpattern": {
             "fillmode": "overlay",
             "size": 10,
             "solidity": 0.2
            },
            "type": "scatter"
           }
          ],
          "scatterternary": [
           {
            "marker": {
             "colorbar": {
              "outlinewidth": 0,
              "ticks": ""
             }
            },
            "type": "scatterternary"
           }
          ],
          "surface": [
           {
            "colorbar": {
             "outlinewidth": 0,
             "ticks": ""
            },
            "colorscale": [
             [
              0.0,
              "#0d0887"
             ],
             [
              0.1111111111111111,
              "#46039f"
             ],
             [
              0.2222222222222222,
              "#7201a8"
             ],
             [
              0.3333333333333333,
              "#9c179e"
             ],
             [
              0.4444444444444444,
              "#bd3786"
             ],
             [
              0.5555555555555556,
              "#d8576b"
             ],
             [
              0.6666666666666666,
              "#ed7953"
             ],
             [
              0.7777777777777778,
              "#fb9f3a"
             ],
             [
              0.8888888888888888,
              "#fdca26"
             ],
             [
              1.0,
              "#f0f921"
             ]
            ],
            "type": "surface"
           }
          ],
          "table": [
           {
            "cells": {
             "fill": {
              "color": "#EBF0F8"
             },
             "line": {
              "color": "white"
             }
            },
            "header": {
             "fill": {
              "color": "#C8D4E3"
             },
             "line": {
              "color": "white"
             }
            },
            "type": "table"
           }
          ]
         },
         "layout": {
          "annotationdefaults": {
           "arrowcolor": "#2a3f5f",
           "arrowhead": 0,
           "arrowwidth": 1
          },
          "autotypenumbers": "strict",
          "coloraxis": {
           "colorbar": {
            "outlinewidth": 0,
            "ticks": ""
           }
          },
          "colorscale": {
           "diverging": [
            [
             0,
             "#8e0152"
            ],
            [
             0.1,
             "#c51b7d"
            ],
            [
             0.2,
             "#de77ae"
            ],
            [
             0.3,
             "#f1b6da"
            ],
            [
             0.4,
             "#fde0ef"
            ],
            [
             0.5,
             "#f7f7f7"
            ],
            [
             0.6,
             "#e6f5d0"
            ],
            [
             0.7,
             "#b8e186"
            ],
            [
             0.8,
             "#7fbc41"
            ],
            [
             0.9,
             "#4d9221"
            ],
            [
             1,
             "#276419"
            ]
           ],
           "sequential": [
            [
             0.0,
             "#0d0887"
            ],
            [
             0.1111111111111111,
             "#46039f"
            ],
            [
             0.2222222222222222,
             "#7201a8"
            ],
            [
             0.3333333333333333,
             "#9c179e"
            ],
            [
             0.4444444444444444,
             "#bd3786"
            ],
            [
             0.5555555555555556,
             "#d8576b"
            ],
            [
             0.6666666666666666,
             "#ed7953"
            ],
            [
             0.7777777777777778,
             "#fb9f3a"
            ],
            [
             0.8888888888888888,
             "#fdca26"
            ],
            [
             1.0,
             "#f0f921"
            ]
           ],
           "sequentialminus": [
            [
             0.0,
             "#0d0887"
            ],
            [
             0.1111111111111111,
             "#46039f"
            ],
            [
             0.2222222222222222,
             "#7201a8"
            ],
            [
             0.3333333333333333,
             "#9c179e"
            ],
            [
             0.4444444444444444,
             "#bd3786"
            ],
            [
             0.5555555555555556,
             "#d8576b"
            ],
            [
             0.6666666666666666,
             "#ed7953"
            ],
            [
             0.7777777777777778,
             "#fb9f3a"
            ],
            [
             0.8888888888888888,
             "#fdca26"
            ],
            [
             1.0,
             "#f0f921"
            ]
           ]
          },
          "colorway": [
           "#636efa",
           "#EF553B",
           "#00cc96",
           "#ab63fa",
           "#FFA15A",
           "#19d3f3",
           "#FF6692",
           "#B6E880",
           "#FF97FF",
           "#FECB52"
          ],
          "font": {
           "color": "#2a3f5f"
          },
          "geo": {
           "bgcolor": "white",
           "lakecolor": "white",
           "landcolor": "white",
           "showlakes": true,
           "showland": true,
           "subunitcolor": "#C8D4E3"
          },
          "hoverlabel": {
           "align": "left"
          },
          "hovermode": "closest",
          "mapbox": {
           "style": "light"
          },
          "paper_bgcolor": "white",
          "plot_bgcolor": "white",
          "polar": {
           "angularaxis": {
            "gridcolor": "#EBF0F8",
            "linecolor": "#EBF0F8",
            "ticks": ""
           },
           "bgcolor": "white",
           "radialaxis": {
            "gridcolor": "#EBF0F8",
            "linecolor": "#EBF0F8",
            "ticks": ""
           }
          },
          "scene": {
           "xaxis": {
            "backgroundcolor": "white",
            "gridcolor": "#DFE8F3",
            "gridwidth": 2,
            "linecolor": "#EBF0F8",
            "showbackground": true,
            "ticks": "",
            "zerolinecolor": "#EBF0F8"
           },
           "yaxis": {
            "backgroundcolor": "white",
            "gridcolor": "#DFE8F3",
            "gridwidth": 2,
            "linecolor": "#EBF0F8",
            "showbackground": true,
            "ticks": "",
            "zerolinecolor": "#EBF0F8"
           },
           "zaxis": {
            "backgroundcolor": "white",
            "gridcolor": "#DFE8F3",
            "gridwidth": 2,
            "linecolor": "#EBF0F8",
            "showbackground": true,
            "ticks": "",
            "zerolinecolor": "#EBF0F8"
           }
          },
          "shapedefaults": {
           "line": {
            "color": "#2a3f5f"
           }
          },
          "ternary": {
           "aaxis": {
            "gridcolor": "#DFE8F3",
            "linecolor": "#A2B1C6",
            "ticks": ""
           },
           "baxis": {
            "gridcolor": "#DFE8F3",
            "linecolor": "#A2B1C6",
            "ticks": ""
           },
           "bgcolor": "white",
           "caxis": {
            "gridcolor": "#DFE8F3",
            "linecolor": "#A2B1C6",
            "ticks": ""
           }
          },
          "title": {
           "x": 0.05
          },
          "xaxis": {
           "automargin": true,
           "gridcolor": "#EBF0F8",
           "linecolor": "#EBF0F8",
           "ticks": "",
           "title": {
            "standoff": 15
           },
           "zerolinecolor": "#EBF0F8",
           "zerolinewidth": 2
          },
          "yaxis": {
           "automargin": true,
           "gridcolor": "#EBF0F8",
           "linecolor": "#EBF0F8",
           "ticks": "",
           "title": {
            "standoff": 15
           },
           "zerolinecolor": "#EBF0F8",
           "zerolinewidth": 2
          }
         }
        },
        "xaxis": {
         "title": {
          "font": {
           "weight": "bold",
           "color": "black"
          }
         },
         "tickangle": 90,
         "tickfont": {
          "family": "Arial",
          "size": 13,
          "color": "black",
          "weight": "bold"
         }
        },
        "height": 900,
        "width": 800,
        "yaxis": {
         "tickfont": {
          "family": "Arial",
          "size": 13,
          "color": "black",
          "weight": "bold"
         }
        },
        "shapes": [
         {
          "line": {
           "color": "black",
           "width": 1.5
          },
          "type": "line",
          "x0": -0.5,
          "x1": -0.5,
          "y0": -0.5,
          "y1": 6.5
         },
         {
          "line": {
           "color": "black",
           "width": 3
          },
          "type": "line",
          "x0": -0.5,
          "x1": 9.5,
          "y0": 0.5,
          "y1": 0.5
         },
         {
          "line": {
           "color": "black",
           "width": 1.5
          },
          "type": "line",
          "x0": 0.5,
          "x1": 0.5,
          "y0": -0.5,
          "y1": 6.5
         },
         {
          "line": {
           "color": "black",
           "width": 3
          },
          "type": "line",
          "x0": -0.5,
          "x1": 9.5,
          "y0": 0.5,
          "y1": 0.5
         },
         {
          "line": {
           "color": "black",
           "width": 3
          },
          "type": "line",
          "x0": -0.5,
          "x1": 9.5,
          "y0": 0.5,
          "y1": 0.5
         },
         {
          "line": {
           "color": "black",
           "width": 1.5
          },
          "type": "line",
          "x0": 2.5,
          "x1": 2.5,
          "y0": -0.5,
          "y1": 6.5
         },
         {
          "line": {
           "color": "black",
           "width": 3
          },
          "type": "line",
          "x0": -0.5,
          "x1": 9.5,
          "y0": 0.5,
          "y1": 0.5
         },
         {
          "line": {
           "color": "black",
           "width": 3
          },
          "type": "line",
          "x0": -0.5,
          "x1": 9.5,
          "y0": 0.5,
          "y1": 0.5
         },
         {
          "line": {
           "color": "black",
           "width": 1.5
          },
          "type": "line",
          "x0": 4.5,
          "x1": 4.5,
          "y0": -0.5,
          "y1": 6.5
         },
         {
          "line": {
           "color": "black",
           "width": 3
          },
          "type": "line",
          "x0": -0.5,
          "x1": 9.5,
          "y0": 0.5,
          "y1": 0.5
         },
         {
          "line": {
           "color": "black",
           "width": 3
          },
          "type": "line",
          "x0": -0.5,
          "x1": 9.5,
          "y0": 0.5,
          "y1": 0.5
         },
         {
          "line": {
           "color": "black",
           "width": 1.5
          },
          "type": "line",
          "x0": 6.5,
          "x1": 6.5,
          "y0": -0.5,
          "y1": 6.5
         },
         {
          "line": {
           "color": "black",
           "width": 3
          },
          "type": "line",
          "x0": -0.5,
          "x1": 9.5,
          "y0": 0.5,
          "y1": 0.5
         },
         {
          "line": {
           "color": "black",
           "width": 3
          },
          "type": "line",
          "x0": -0.5,
          "x1": 9.5,
          "y0": 0.5,
          "y1": 0.5
         },
         {
          "line": {
           "color": "black",
           "width": 3
          },
          "type": "line",
          "x0": 8.5,
          "x1": 8.5,
          "y0": -0.5,
          "y1": 6.5
         },
         {
          "line": {
           "color": "black",
           "width": 3
          },
          "type": "line",
          "x0": -0.5,
          "x1": 9.5,
          "y0": 0.5,
          "y1": 0.5
         },
         {
          "line": {
           "color": "black",
           "width": 1.5
          },
          "type": "line",
          "x0": 9.5,
          "x1": 9.5,
          "y0": -0.5,
          "y1": 6.5
         },
         {
          "line": {
           "color": "black",
           "width": 3
          },
          "type": "line",
          "x0": -0.5,
          "x1": 9.5,
          "y0": 0.5,
          "y1": 0.5
         }
        ],
        "margin": {
         "b": 180
        },
        "annotations": [
         {
          "align": "center",
          "font": {
           "color": "black",
           "family": "Arial",
           "size": 14,
           "weight": "bold"
          },
          "showarrow": false,
          "text": "|                System                |                    Knowledge                    |           Social         |              |",
          "x": 0.5,
          "xref": "paper",
          "y": -0.25,
          "yref": "paper"
         }
        ]
       },
       "config": {
        "plotlyServerURL": "https://plot.ly"
       }
      },
      "text/html": [
       "<div>                            <div id=\"9f34735c-4011-4510-bcc4-c6e08e4b368f\" class=\"plotly-graph-div\" style=\"height:900px; width:800px;\"></div>            <script type=\"text/javascript\">                require([\"plotly\"], function(Plotly) {                    window.PLOTLYENV=window.PLOTLYENV || {};                                    if (document.getElementById(\"9f34735c-4011-4510-bcc4-c6e08e4b368f\")) {                    Plotly.newPlot(                        \"9f34735c-4011-4510-bcc4-c6e08e4b368f\",                        [{\"colorbar\":{\"tickformat\":\".0%\"},\"colorscale\":[[0.0,\"#fcffa4\"],[0.1111111111111111,\"#f7d13d\"],[0.2222222222222222,\"#fb9b06\"],[0.3333333333333333,\"#ed6925\"],[0.4444444444444444,\"#cf4446\"],[0.5555555555555556,\"#a52c60\"],[0.6666666666666666,\"#781c6d\"],[0.7777777777777778,\"#4a0c6b\"],[0.8888888888888888,\"#1b0c41\"],[1.0,\"#000004\"]],\"texttemplate\":\"%{z:.0%}\",\"x\":[[\" \",\"Diversification\",\"Diversification\",\"Enrichment\",\"Enrichment\",\"Derivation\",\"Derivation\",\"  \",\"  \",\"   \"],[\"Integration\",\"Adaptation\",\"Recommendation\",\"Profile\",\"Context\",\"Interpretation of\\u003cbr\\u003eUser Behaviour\",\"Explanation of\\u003cbr\\u003eSystem Behaviour\",\"Relation\",\"Interaction\",\"Average\"]],\"xgap\":2,\"y\":[\"Average \",\"General \",\"Finance \",\"Productivity \",\"Wellbeing \",\"Learning \",\"Sustainability \"],\"ygap\":2,\"z\":[[0.08335275835275835,0.1807473028061263,0.0373996373996374,0.14604453280923868,0.07461149961149961,0.02513026189496777,0.10507640507640507,0.00909090909090909,0.006060606060606061,0.07416821256690538],[0.10909090909090909,0.12727272727272726,0.03636363636363636,0.12727272727272726,0.01818181818181818,0.07272727272727272,0.10909090909090909,0.05454545454545454,0.03636363636363636,0.07676767676767676],[0.0,0.14285714285714285,0.0,0.0,0.0,0.0,0.0,0.0,0.0,0.015873015873015872],[0.0,0.23529411764705882,0.0,0.058823529411764705,0.0,0.058823529411764705,0.0,0.0,0.0,0.0392156862745098],[0.057692307692307696,0.1346153846153846,0.07692307692307693,0.1346153846153846,0.09615384615384616,0.019230769230769232,0.07692307692307693,0.0,0.0,0.06623931623931624],[0.1111111111111111,0.2222222222222222,0.0,0.2222222222222222,0.0,0.0,0.1111111111111111,0.0,0.0,0.07407407407407408],[0.2222222222222222,0.2222222222222222,0.1111111111111111,0.3333333333333333,0.3333333333333333,0.0,0.3333333333333333,0.0,0.0,0.1728395061728395]],\"zmax\":1,\"zmin\":0,\"type\":\"heatmap\"}],                        {\"template\":{\"data\":{\"barpolar\":[{\"marker\":{\"line\":{\"color\":\"white\",\"width\":0.5},\"pattern\":{\"fillmode\":\"overlay\",\"size\":10,\"solidity\":0.2}},\"type\":\"barpolar\"}],\"bar\":[{\"error_x\":{\"color\":\"#2a3f5f\"},\"error_y\":{\"color\":\"#2a3f5f\"},\"marker\":{\"line\":{\"color\":\"white\",\"width\":0.5},\"pattern\":{\"fillmode\":\"overlay\",\"size\":10,\"solidity\":0.2}},\"type\":\"bar\"}],\"carpet\":[{\"aaxis\":{\"endlinecolor\":\"#2a3f5f\",\"gridcolor\":\"#C8D4E3\",\"linecolor\":\"#C8D4E3\",\"minorgridcolor\":\"#C8D4E3\",\"startlinecolor\":\"#2a3f5f\"},\"baxis\":{\"endlinecolor\":\"#2a3f5f\",\"gridcolor\":\"#C8D4E3\",\"linecolor\":\"#C8D4E3\",\"minorgridcolor\":\"#C8D4E3\",\"startlinecolor\":\"#2a3f5f\"},\"type\":\"carpet\"}],\"choropleth\":[{\"colorbar\":{\"outlinewidth\":0,\"ticks\":\"\"},\"type\":\"choropleth\"}],\"contourcarpet\":[{\"colorbar\":{\"outlinewidth\":0,\"ticks\":\"\"},\"type\":\"contourcarpet\"}],\"contour\":[{\"colorbar\":{\"outlinewidth\":0,\"ticks\":\"\"},\"colorscale\":[[0.0,\"#0d0887\"],[0.1111111111111111,\"#46039f\"],[0.2222222222222222,\"#7201a8\"],[0.3333333333333333,\"#9c179e\"],[0.4444444444444444,\"#bd3786\"],[0.5555555555555556,\"#d8576b\"],[0.6666666666666666,\"#ed7953\"],[0.7777777777777778,\"#fb9f3a\"],[0.8888888888888888,\"#fdca26\"],[1.0,\"#f0f921\"]],\"type\":\"contour\"}],\"heatmapgl\":[{\"colorbar\":{\"outlinewidth\":0,\"ticks\":\"\"},\"colorscale\":[[0.0,\"#0d0887\"],[0.1111111111111111,\"#46039f\"],[0.2222222222222222,\"#7201a8\"],[0.3333333333333333,\"#9c179e\"],[0.4444444444444444,\"#bd3786\"],[0.5555555555555556,\"#d8576b\"],[0.6666666666666666,\"#ed7953\"],[0.7777777777777778,\"#fb9f3a\"],[0.8888888888888888,\"#fdca26\"],[1.0,\"#f0f921\"]],\"type\":\"heatmapgl\"}],\"heatmap\":[{\"colorbar\":{\"outlinewidth\":0,\"ticks\":\"\"},\"colorscale\":[[0.0,\"#0d0887\"],[0.1111111111111111,\"#46039f\"],[0.2222222222222222,\"#7201a8\"],[0.3333333333333333,\"#9c179e\"],[0.4444444444444444,\"#bd3786\"],[0.5555555555555556,\"#d8576b\"],[0.6666666666666666,\"#ed7953\"],[0.7777777777777778,\"#fb9f3a\"],[0.8888888888888888,\"#fdca26\"],[1.0,\"#f0f921\"]],\"type\":\"heatmap\"}],\"histogram2dcontour\":[{\"colorbar\":{\"outlinewidth\":0,\"ticks\":\"\"},\"colorscale\":[[0.0,\"#0d0887\"],[0.1111111111111111,\"#46039f\"],[0.2222222222222222,\"#7201a8\"],[0.3333333333333333,\"#9c179e\"],[0.4444444444444444,\"#bd3786\"],[0.5555555555555556,\"#d8576b\"],[0.6666666666666666,\"#ed7953\"],[0.7777777777777778,\"#fb9f3a\"],[0.8888888888888888,\"#fdca26\"],[1.0,\"#f0f921\"]],\"type\":\"histogram2dcontour\"}],\"histogram2d\":[{\"colorbar\":{\"outlinewidth\":0,\"ticks\":\"\"},\"colorscale\":[[0.0,\"#0d0887\"],[0.1111111111111111,\"#46039f\"],[0.2222222222222222,\"#7201a8\"],[0.3333333333333333,\"#9c179e\"],[0.4444444444444444,\"#bd3786\"],[0.5555555555555556,\"#d8576b\"],[0.6666666666666666,\"#ed7953\"],[0.7777777777777778,\"#fb9f3a\"],[0.8888888888888888,\"#fdca26\"],[1.0,\"#f0f921\"]],\"type\":\"histogram2d\"}],\"histogram\":[{\"marker\":{\"pattern\":{\"fillmode\":\"overlay\",\"size\":10,\"solidity\":0.2}},\"type\":\"histogram\"}],\"mesh3d\":[{\"colorbar\":{\"outlinewidth\":0,\"ticks\":\"\"},\"type\":\"mesh3d\"}],\"parcoords\":[{\"line\":{\"colorbar\":{\"outlinewidth\":0,\"ticks\":\"\"}},\"type\":\"parcoords\"}],\"pie\":[{\"automargin\":true,\"type\":\"pie\"}],\"scatter3d\":[{\"line\":{\"colorbar\":{\"outlinewidth\":0,\"ticks\":\"\"}},\"marker\":{\"colorbar\":{\"outlinewidth\":0,\"ticks\":\"\"}},\"type\":\"scatter3d\"}],\"scattercarpet\":[{\"marker\":{\"colorbar\":{\"outlinewidth\":0,\"ticks\":\"\"}},\"type\":\"scattercarpet\"}],\"scattergeo\":[{\"marker\":{\"colorbar\":{\"outlinewidth\":0,\"ticks\":\"\"}},\"type\":\"scattergeo\"}],\"scattergl\":[{\"marker\":{\"colorbar\":{\"outlinewidth\":0,\"ticks\":\"\"}},\"type\":\"scattergl\"}],\"scattermapbox\":[{\"marker\":{\"colorbar\":{\"outlinewidth\":0,\"ticks\":\"\"}},\"type\":\"scattermapbox\"}],\"scatterpolargl\":[{\"marker\":{\"colorbar\":{\"outlinewidth\":0,\"ticks\":\"\"}},\"type\":\"scatterpolargl\"}],\"scatterpolar\":[{\"marker\":{\"colorbar\":{\"outlinewidth\":0,\"ticks\":\"\"}},\"type\":\"scatterpolar\"}],\"scatter\":[{\"fillpattern\":{\"fillmode\":\"overlay\",\"size\":10,\"solidity\":0.2},\"type\":\"scatter\"}],\"scatterternary\":[{\"marker\":{\"colorbar\":{\"outlinewidth\":0,\"ticks\":\"\"}},\"type\":\"scatterternary\"}],\"surface\":[{\"colorbar\":{\"outlinewidth\":0,\"ticks\":\"\"},\"colorscale\":[[0.0,\"#0d0887\"],[0.1111111111111111,\"#46039f\"],[0.2222222222222222,\"#7201a8\"],[0.3333333333333333,\"#9c179e\"],[0.4444444444444444,\"#bd3786\"],[0.5555555555555556,\"#d8576b\"],[0.6666666666666666,\"#ed7953\"],[0.7777777777777778,\"#fb9f3a\"],[0.8888888888888888,\"#fdca26\"],[1.0,\"#f0f921\"]],\"type\":\"surface\"}],\"table\":[{\"cells\":{\"fill\":{\"color\":\"#EBF0F8\"},\"line\":{\"color\":\"white\"}},\"header\":{\"fill\":{\"color\":\"#C8D4E3\"},\"line\":{\"color\":\"white\"}},\"type\":\"table\"}]},\"layout\":{\"annotationdefaults\":{\"arrowcolor\":\"#2a3f5f\",\"arrowhead\":0,\"arrowwidth\":1},\"autotypenumbers\":\"strict\",\"coloraxis\":{\"colorbar\":{\"outlinewidth\":0,\"ticks\":\"\"}},\"colorscale\":{\"diverging\":[[0,\"#8e0152\"],[0.1,\"#c51b7d\"],[0.2,\"#de77ae\"],[0.3,\"#f1b6da\"],[0.4,\"#fde0ef\"],[0.5,\"#f7f7f7\"],[0.6,\"#e6f5d0\"],[0.7,\"#b8e186\"],[0.8,\"#7fbc41\"],[0.9,\"#4d9221\"],[1,\"#276419\"]],\"sequential\":[[0.0,\"#0d0887\"],[0.1111111111111111,\"#46039f\"],[0.2222222222222222,\"#7201a8\"],[0.3333333333333333,\"#9c179e\"],[0.4444444444444444,\"#bd3786\"],[0.5555555555555556,\"#d8576b\"],[0.6666666666666666,\"#ed7953\"],[0.7777777777777778,\"#fb9f3a\"],[0.8888888888888888,\"#fdca26\"],[1.0,\"#f0f921\"]],\"sequentialminus\":[[0.0,\"#0d0887\"],[0.1111111111111111,\"#46039f\"],[0.2222222222222222,\"#7201a8\"],[0.3333333333333333,\"#9c179e\"],[0.4444444444444444,\"#bd3786\"],[0.5555555555555556,\"#d8576b\"],[0.6666666666666666,\"#ed7953\"],[0.7777777777777778,\"#fb9f3a\"],[0.8888888888888888,\"#fdca26\"],[1.0,\"#f0f921\"]]},\"colorway\":[\"#636efa\",\"#EF553B\",\"#00cc96\",\"#ab63fa\",\"#FFA15A\",\"#19d3f3\",\"#FF6692\",\"#B6E880\",\"#FF97FF\",\"#FECB52\"],\"font\":{\"color\":\"#2a3f5f\"},\"geo\":{\"bgcolor\":\"white\",\"lakecolor\":\"white\",\"landcolor\":\"white\",\"showlakes\":true,\"showland\":true,\"subunitcolor\":\"#C8D4E3\"},\"hoverlabel\":{\"align\":\"left\"},\"hovermode\":\"closest\",\"mapbox\":{\"style\":\"light\"},\"paper_bgcolor\":\"white\",\"plot_bgcolor\":\"white\",\"polar\":{\"angularaxis\":{\"gridcolor\":\"#EBF0F8\",\"linecolor\":\"#EBF0F8\",\"ticks\":\"\"},\"bgcolor\":\"white\",\"radialaxis\":{\"gridcolor\":\"#EBF0F8\",\"linecolor\":\"#EBF0F8\",\"ticks\":\"\"}},\"scene\":{\"xaxis\":{\"backgroundcolor\":\"white\",\"gridcolor\":\"#DFE8F3\",\"gridwidth\":2,\"linecolor\":\"#EBF0F8\",\"showbackground\":true,\"ticks\":\"\",\"zerolinecolor\":\"#EBF0F8\"},\"yaxis\":{\"backgroundcolor\":\"white\",\"gridcolor\":\"#DFE8F3\",\"gridwidth\":2,\"linecolor\":\"#EBF0F8\",\"showbackground\":true,\"ticks\":\"\",\"zerolinecolor\":\"#EBF0F8\"},\"zaxis\":{\"backgroundcolor\":\"white\",\"gridcolor\":\"#DFE8F3\",\"gridwidth\":2,\"linecolor\":\"#EBF0F8\",\"showbackground\":true,\"ticks\":\"\",\"zerolinecolor\":\"#EBF0F8\"}},\"shapedefaults\":{\"line\":{\"color\":\"#2a3f5f\"}},\"ternary\":{\"aaxis\":{\"gridcolor\":\"#DFE8F3\",\"linecolor\":\"#A2B1C6\",\"ticks\":\"\"},\"baxis\":{\"gridcolor\":\"#DFE8F3\",\"linecolor\":\"#A2B1C6\",\"ticks\":\"\"},\"bgcolor\":\"white\",\"caxis\":{\"gridcolor\":\"#DFE8F3\",\"linecolor\":\"#A2B1C6\",\"ticks\":\"\"}},\"title\":{\"x\":0.05},\"xaxis\":{\"automargin\":true,\"gridcolor\":\"#EBF0F8\",\"linecolor\":\"#EBF0F8\",\"ticks\":\"\",\"title\":{\"standoff\":15},\"zerolinecolor\":\"#EBF0F8\",\"zerolinewidth\":2},\"yaxis\":{\"automargin\":true,\"gridcolor\":\"#EBF0F8\",\"linecolor\":\"#EBF0F8\",\"ticks\":\"\",\"title\":{\"standoff\":15},\"zerolinecolor\":\"#EBF0F8\",\"zerolinewidth\":2}}},\"xaxis\":{\"title\":{\"font\":{\"weight\":\"bold\",\"color\":\"black\"}},\"tickangle\":90,\"tickfont\":{\"family\":\"Arial\",\"size\":13,\"color\":\"black\",\"weight\":\"bold\"}},\"height\":900,\"width\":800,\"yaxis\":{\"tickfont\":{\"family\":\"Arial\",\"size\":13,\"color\":\"black\",\"weight\":\"bold\"}},\"shapes\":[{\"line\":{\"color\":\"black\",\"width\":1.5},\"type\":\"line\",\"x0\":-0.5,\"x1\":-0.5,\"y0\":-0.5,\"y1\":6.5},{\"line\":{\"color\":\"black\",\"width\":3},\"type\":\"line\",\"x0\":-0.5,\"x1\":9.5,\"y0\":0.5,\"y1\":0.5},{\"line\":{\"color\":\"black\",\"width\":1.5},\"type\":\"line\",\"x0\":0.5,\"x1\":0.5,\"y0\":-0.5,\"y1\":6.5},{\"line\":{\"color\":\"black\",\"width\":3},\"type\":\"line\",\"x0\":-0.5,\"x1\":9.5,\"y0\":0.5,\"y1\":0.5},{\"line\":{\"color\":\"black\",\"width\":3},\"type\":\"line\",\"x0\":-0.5,\"x1\":9.5,\"y0\":0.5,\"y1\":0.5},{\"line\":{\"color\":\"black\",\"width\":1.5},\"type\":\"line\",\"x0\":2.5,\"x1\":2.5,\"y0\":-0.5,\"y1\":6.5},{\"line\":{\"color\":\"black\",\"width\":3},\"type\":\"line\",\"x0\":-0.5,\"x1\":9.5,\"y0\":0.5,\"y1\":0.5},{\"line\":{\"color\":\"black\",\"width\":3},\"type\":\"line\",\"x0\":-0.5,\"x1\":9.5,\"y0\":0.5,\"y1\":0.5},{\"line\":{\"color\":\"black\",\"width\":1.5},\"type\":\"line\",\"x0\":4.5,\"x1\":4.5,\"y0\":-0.5,\"y1\":6.5},{\"line\":{\"color\":\"black\",\"width\":3},\"type\":\"line\",\"x0\":-0.5,\"x1\":9.5,\"y0\":0.5,\"y1\":0.5},{\"line\":{\"color\":\"black\",\"width\":3},\"type\":\"line\",\"x0\":-0.5,\"x1\":9.5,\"y0\":0.5,\"y1\":0.5},{\"line\":{\"color\":\"black\",\"width\":1.5},\"type\":\"line\",\"x0\":6.5,\"x1\":6.5,\"y0\":-0.5,\"y1\":6.5},{\"line\":{\"color\":\"black\",\"width\":3},\"type\":\"line\",\"x0\":-0.5,\"x1\":9.5,\"y0\":0.5,\"y1\":0.5},{\"line\":{\"color\":\"black\",\"width\":3},\"type\":\"line\",\"x0\":-0.5,\"x1\":9.5,\"y0\":0.5,\"y1\":0.5},{\"line\":{\"color\":\"black\",\"width\":3},\"type\":\"line\",\"x0\":8.5,\"x1\":8.5,\"y0\":-0.5,\"y1\":6.5},{\"line\":{\"color\":\"black\",\"width\":3},\"type\":\"line\",\"x0\":-0.5,\"x1\":9.5,\"y0\":0.5,\"y1\":0.5},{\"line\":{\"color\":\"black\",\"width\":1.5},\"type\":\"line\",\"x0\":9.5,\"x1\":9.5,\"y0\":-0.5,\"y1\":6.5},{\"line\":{\"color\":\"black\",\"width\":3},\"type\":\"line\",\"x0\":-0.5,\"x1\":9.5,\"y0\":0.5,\"y1\":0.5}],\"margin\":{\"b\":180},\"annotations\":[{\"align\":\"center\",\"font\":{\"color\":\"black\",\"family\":\"Arial\",\"size\":14,\"weight\":\"bold\"},\"showarrow\":false,\"text\":\"|\\u2009               System                |                    Knowledge                    |\\u200a          Social        \\u200a|              |\",\"x\":0.5,\"xref\":\"paper\",\"y\":-0.25,\"yref\":\"paper\"}]},                        {\"responsive\": true}                    ).then(function(){\n",
       "                            \n",
       "var gd = document.getElementById('9f34735c-4011-4510-bcc4-c6e08e4b368f');\n",
       "var x = new MutationObserver(function (mutations, observer) {{\n",
       "        var display = window.getComputedStyle(gd).display;\n",
       "        if (!display || display === 'none') {{\n",
       "            console.log([gd, 'removed!']);\n",
       "            Plotly.purge(gd);\n",
       "            observer.disconnect();\n",
       "        }}\n",
       "}});\n",
       "\n",
       "// Listen for the removal of the full notebook cells\n",
       "var notebookContainer = gd.closest('#notebook-container');\n",
       "if (notebookContainer) {{\n",
       "    x.observe(notebookContainer, {childList: true});\n",
       "}}\n",
       "\n",
       "// Listen for the clearing of the current output cell\n",
       "var outputEl = gd.closest('.output');\n",
       "if (outputEl) {{\n",
       "    x.observe(outputEl, {childList: true});\n",
       "}}\n",
       "\n",
       "                        })                };                });            </script>        </div>"
      ]
     },
     "metadata": {},
     "output_type": "display_data"
    },
    {
     "data": {
      "application/vnd.plotly.v1+json": {
       "data": [
        {
         "colorbar": {
          "tickformat": ".0%"
         },
         "colorscale": [
          [
           0.0,
           "#fcffa4"
          ],
          [
           0.1111111111111111,
           "#f7d13d"
          ],
          [
           0.2222222222222222,
           "#fb9b06"
          ],
          [
           0.3333333333333333,
           "#ed6925"
          ],
          [
           0.4444444444444444,
           "#cf4446"
          ],
          [
           0.5555555555555556,
           "#a52c60"
          ],
          [
           0.6666666666666666,
           "#781c6d"
          ],
          [
           0.7777777777777778,
           "#4a0c6b"
          ],
          [
           0.8888888888888888,
           "#1b0c41"
          ],
          [
           1.0,
           "#000004"
          ]
         ],
         "texttemplate": "%{z:.0%}",
         "x": [
          [
           "Time-based Reminder",
           "Time-based Reminder",
           "Time-based Reminder",
           "Time-based Reminder",
           "Event-based <br> Reminder",
           "Event-based <br> Reminder",
           "Context of<br>Reminder",
           "Context of<br>Reminder",
           "Customization of<br>Reminder",
           "Customization of<br>Reminder",
           "Customization of<br>Reminder",
           " ",
           "⁢"
          ],
          [
           "Pre-defined Time",
           "Custom Time",
           "Custom Day",
           "Interval",
           "Pre-defined Event",
           "Custom Event",
           "Goal",
           "Process",
           "Snooze Reminder",
           "Different Alert Type",
           "Skip if Completed",
           "Additional Features",
           "Average"
          ]
         ],
         "xgap": 2,
         "y": [
          "Average ",
          "General ",
          "Finance ",
          "Productivity ",
          "Wellbeing ",
          "Learning ",
          "Sustainability "
         ],
         "ygap": 2,
         "z": [
          [
           0.4252609590844885,
           0.5161521485050896,
           0.33136580195403725,
           0.27895280101162456,
           0.22933743816096755,
           0.11560302442655385,
           0.5149504090680562,
           0.1742679433855904,
           0.043460243460243464,
           0.11502446355387534,
           0.06535871535871536,
           0.19868323397735163,
           0.2507014318288828
          ],
          [
           0.4,
           0.7272727272727273,
           0.45454545454545453,
           0.36363636363636365,
           0.23636363636363636,
           0.21818181818181817,
           0.4909090909090909,
           0.21818181818181817,
           0.07272727272727272,
           0.14545454545454545,
           0.05454545454545454,
           0.2,
           0.2984848484848485
          ],
          [
           0.7142857142857143,
           0.7142857142857143,
           0.42857142857142855,
           0.0,
           0.2857142857142857,
           0.14285714285714285,
           1.0,
           0.0,
           0.0,
           0.14285714285714285,
           0.0,
           0.2857142857142857,
           0.3095238095238095
          ],
          [
           0.29411764705882354,
           0.4117647058823529,
           0.35294117647058826,
           0.23529411764705882,
           0.29411764705882354,
           0.29411764705882354,
           0.47058823529411764,
           0.47058823529411764,
           0.0,
           0.11764705882352941,
           0.0,
           0.17647058823529413,
           0.2598039215686274
          ],
          [
           0.36538461538461536,
           0.5769230769230769,
           0.3076923076923077,
           0.5192307692307693,
           0.11538461538461539,
           0.038461538461538464,
           0.46153846153846156,
           0.1346153846153846,
           0.07692307692307693,
           0.17307692307692307,
           0.11538461538461539,
           0.3076923076923077,
           0.266025641025641
          ],
          [
           0.6666666666666666,
           0.5555555555555556,
           0.4444444444444444,
           0.5555555555555556,
           0.3333333333333333,
           0.0,
           0.5555555555555556,
           0.2222222222222222,
           0.1111111111111111,
           0.1111111111111111,
           0.2222222222222222,
           0.1111111111111111,
           0.3240740740740741
          ],
          [
           0.1111111111111111,
           0.1111111111111111,
           0.0,
           0.0,
           0.1111111111111111,
           0.0,
           0.1111111111111111,
           0.0,
           0.0,
           0.0,
           0.0,
           0.1111111111111111,
           0.0462962962962963
          ]
         ],
         "zmax": 1,
         "zmin": 0,
         "type": "heatmap"
        }
       ],
       "layout": {
        "template": {
         "data": {
          "barpolar": [
           {
            "marker": {
             "line": {
              "color": "white",
              "width": 0.5
             },
             "pattern": {
              "fillmode": "overlay",
              "size": 10,
              "solidity": 0.2
             }
            },
            "type": "barpolar"
           }
          ],
          "bar": [
           {
            "error_x": {
             "color": "#2a3f5f"
            },
            "error_y": {
             "color": "#2a3f5f"
            },
            "marker": {
             "line": {
              "color": "white",
              "width": 0.5
             },
             "pattern": {
              "fillmode": "overlay",
              "size": 10,
              "solidity": 0.2
             }
            },
            "type": "bar"
           }
          ],
          "carpet": [
           {
            "aaxis": {
             "endlinecolor": "#2a3f5f",
             "gridcolor": "#C8D4E3",
             "linecolor": "#C8D4E3",
             "minorgridcolor": "#C8D4E3",
             "startlinecolor": "#2a3f5f"
            },
            "baxis": {
             "endlinecolor": "#2a3f5f",
             "gridcolor": "#C8D4E3",
             "linecolor": "#C8D4E3",
             "minorgridcolor": "#C8D4E3",
             "startlinecolor": "#2a3f5f"
            },
            "type": "carpet"
           }
          ],
          "choropleth": [
           {
            "colorbar": {
             "outlinewidth": 0,
             "ticks": ""
            },
            "type": "choropleth"
           }
          ],
          "contourcarpet": [
           {
            "colorbar": {
             "outlinewidth": 0,
             "ticks": ""
            },
            "type": "contourcarpet"
           }
          ],
          "contour": [
           {
            "colorbar": {
             "outlinewidth": 0,
             "ticks": ""
            },
            "colorscale": [
             [
              0.0,
              "#0d0887"
             ],
             [
              0.1111111111111111,
              "#46039f"
             ],
             [
              0.2222222222222222,
              "#7201a8"
             ],
             [
              0.3333333333333333,
              "#9c179e"
             ],
             [
              0.4444444444444444,
              "#bd3786"
             ],
             [
              0.5555555555555556,
              "#d8576b"
             ],
             [
              0.6666666666666666,
              "#ed7953"
             ],
             [
              0.7777777777777778,
              "#fb9f3a"
             ],
             [
              0.8888888888888888,
              "#fdca26"
             ],
             [
              1.0,
              "#f0f921"
             ]
            ],
            "type": "contour"
           }
          ],
          "heatmapgl": [
           {
            "colorbar": {
             "outlinewidth": 0,
             "ticks": ""
            },
            "colorscale": [
             [
              0.0,
              "#0d0887"
             ],
             [
              0.1111111111111111,
              "#46039f"
             ],
             [
              0.2222222222222222,
              "#7201a8"
             ],
             [
              0.3333333333333333,
              "#9c179e"
             ],
             [
              0.4444444444444444,
              "#bd3786"
             ],
             [
              0.5555555555555556,
              "#d8576b"
             ],
             [
              0.6666666666666666,
              "#ed7953"
             ],
             [
              0.7777777777777778,
              "#fb9f3a"
             ],
             [
              0.8888888888888888,
              "#fdca26"
             ],
             [
              1.0,
              "#f0f921"
             ]
            ],
            "type": "heatmapgl"
           }
          ],
          "heatmap": [
           {
            "colorbar": {
             "outlinewidth": 0,
             "ticks": ""
            },
            "colorscale": [
             [
              0.0,
              "#0d0887"
             ],
             [
              0.1111111111111111,
              "#46039f"
             ],
             [
              0.2222222222222222,
              "#7201a8"
             ],
             [
              0.3333333333333333,
              "#9c179e"
             ],
             [
              0.4444444444444444,
              "#bd3786"
             ],
             [
              0.5555555555555556,
              "#d8576b"
             ],
             [
              0.6666666666666666,
              "#ed7953"
             ],
             [
              0.7777777777777778,
              "#fb9f3a"
             ],
             [
              0.8888888888888888,
              "#fdca26"
             ],
             [
              1.0,
              "#f0f921"
             ]
            ],
            "type": "heatmap"
           }
          ],
          "histogram2dcontour": [
           {
            "colorbar": {
             "outlinewidth": 0,
             "ticks": ""
            },
            "colorscale": [
             [
              0.0,
              "#0d0887"
             ],
             [
              0.1111111111111111,
              "#46039f"
             ],
             [
              0.2222222222222222,
              "#7201a8"
             ],
             [
              0.3333333333333333,
              "#9c179e"
             ],
             [
              0.4444444444444444,
              "#bd3786"
             ],
             [
              0.5555555555555556,
              "#d8576b"
             ],
             [
              0.6666666666666666,
              "#ed7953"
             ],
             [
              0.7777777777777778,
              "#fb9f3a"
             ],
             [
              0.8888888888888888,
              "#fdca26"
             ],
             [
              1.0,
              "#f0f921"
             ]
            ],
            "type": "histogram2dcontour"
           }
          ],
          "histogram2d": [
           {
            "colorbar": {
             "outlinewidth": 0,
             "ticks": ""
            },
            "colorscale": [
             [
              0.0,
              "#0d0887"
             ],
             [
              0.1111111111111111,
              "#46039f"
             ],
             [
              0.2222222222222222,
              "#7201a8"
             ],
             [
              0.3333333333333333,
              "#9c179e"
             ],
             [
              0.4444444444444444,
              "#bd3786"
             ],
             [
              0.5555555555555556,
              "#d8576b"
             ],
             [
              0.6666666666666666,
              "#ed7953"
             ],
             [
              0.7777777777777778,
              "#fb9f3a"
             ],
             [
              0.8888888888888888,
              "#fdca26"
             ],
             [
              1.0,
              "#f0f921"
             ]
            ],
            "type": "histogram2d"
           }
          ],
          "histogram": [
           {
            "marker": {
             "pattern": {
              "fillmode": "overlay",
              "size": 10,
              "solidity": 0.2
             }
            },
            "type": "histogram"
           }
          ],
          "mesh3d": [
           {
            "colorbar": {
             "outlinewidth": 0,
             "ticks": ""
            },
            "type": "mesh3d"
           }
          ],
          "parcoords": [
           {
            "line": {
             "colorbar": {
              "outlinewidth": 0,
              "ticks": ""
             }
            },
            "type": "parcoords"
           }
          ],
          "pie": [
           {
            "automargin": true,
            "type": "pie"
           }
          ],
          "scatter3d": [
           {
            "line": {
             "colorbar": {
              "outlinewidth": 0,
              "ticks": ""
             }
            },
            "marker": {
             "colorbar": {
              "outlinewidth": 0,
              "ticks": ""
             }
            },
            "type": "scatter3d"
           }
          ],
          "scattercarpet": [
           {
            "marker": {
             "colorbar": {
              "outlinewidth": 0,
              "ticks": ""
             }
            },
            "type": "scattercarpet"
           }
          ],
          "scattergeo": [
           {
            "marker": {
             "colorbar": {
              "outlinewidth": 0,
              "ticks": ""
             }
            },
            "type": "scattergeo"
           }
          ],
          "scattergl": [
           {
            "marker": {
             "colorbar": {
              "outlinewidth": 0,
              "ticks": ""
             }
            },
            "type": "scattergl"
           }
          ],
          "scattermapbox": [
           {
            "marker": {
             "colorbar": {
              "outlinewidth": 0,
              "ticks": ""
             }
            },
            "type": "scattermapbox"
           }
          ],
          "scatterpolargl": [
           {
            "marker": {
             "colorbar": {
              "outlinewidth": 0,
              "ticks": ""
             }
            },
            "type": "scatterpolargl"
           }
          ],
          "scatterpolar": [
           {
            "marker": {
             "colorbar": {
              "outlinewidth": 0,
              "ticks": ""
             }
            },
            "type": "scatterpolar"
           }
          ],
          "scatter": [
           {
            "fillpattern": {
             "fillmode": "overlay",
             "size": 10,
             "solidity": 0.2
            },
            "type": "scatter"
           }
          ],
          "scatterternary": [
           {
            "marker": {
             "colorbar": {
              "outlinewidth": 0,
              "ticks": ""
             }
            },
            "type": "scatterternary"
           }
          ],
          "surface": [
           {
            "colorbar": {
             "outlinewidth": 0,
             "ticks": ""
            },
            "colorscale": [
             [
              0.0,
              "#0d0887"
             ],
             [
              0.1111111111111111,
              "#46039f"
             ],
             [
              0.2222222222222222,
              "#7201a8"
             ],
             [
              0.3333333333333333,
              "#9c179e"
             ],
             [
              0.4444444444444444,
              "#bd3786"
             ],
             [
              0.5555555555555556,
              "#d8576b"
             ],
             [
              0.6666666666666666,
              "#ed7953"
             ],
             [
              0.7777777777777778,
              "#fb9f3a"
             ],
             [
              0.8888888888888888,
              "#fdca26"
             ],
             [
              1.0,
              "#f0f921"
             ]
            ],
            "type": "surface"
           }
          ],
          "table": [
           {
            "cells": {
             "fill": {
              "color": "#EBF0F8"
             },
             "line": {
              "color": "white"
             }
            },
            "header": {
             "fill": {
              "color": "#C8D4E3"
             },
             "line": {
              "color": "white"
             }
            },
            "type": "table"
           }
          ]
         },
         "layout": {
          "annotationdefaults": {
           "arrowcolor": "#2a3f5f",
           "arrowhead": 0,
           "arrowwidth": 1
          },
          "autotypenumbers": "strict",
          "coloraxis": {
           "colorbar": {
            "outlinewidth": 0,
            "ticks": ""
           }
          },
          "colorscale": {
           "diverging": [
            [
             0,
             "#8e0152"
            ],
            [
             0.1,
             "#c51b7d"
            ],
            [
             0.2,
             "#de77ae"
            ],
            [
             0.3,
             "#f1b6da"
            ],
            [
             0.4,
             "#fde0ef"
            ],
            [
             0.5,
             "#f7f7f7"
            ],
            [
             0.6,
             "#e6f5d0"
            ],
            [
             0.7,
             "#b8e186"
            ],
            [
             0.8,
             "#7fbc41"
            ],
            [
             0.9,
             "#4d9221"
            ],
            [
             1,
             "#276419"
            ]
           ],
           "sequential": [
            [
             0.0,
             "#0d0887"
            ],
            [
             0.1111111111111111,
             "#46039f"
            ],
            [
             0.2222222222222222,
             "#7201a8"
            ],
            [
             0.3333333333333333,
             "#9c179e"
            ],
            [
             0.4444444444444444,
             "#bd3786"
            ],
            [
             0.5555555555555556,
             "#d8576b"
            ],
            [
             0.6666666666666666,
             "#ed7953"
            ],
            [
             0.7777777777777778,
             "#fb9f3a"
            ],
            [
             0.8888888888888888,
             "#fdca26"
            ],
            [
             1.0,
             "#f0f921"
            ]
           ],
           "sequentialminus": [
            [
             0.0,
             "#0d0887"
            ],
            [
             0.1111111111111111,
             "#46039f"
            ],
            [
             0.2222222222222222,
             "#7201a8"
            ],
            [
             0.3333333333333333,
             "#9c179e"
            ],
            [
             0.4444444444444444,
             "#bd3786"
            ],
            [
             0.5555555555555556,
             "#d8576b"
            ],
            [
             0.6666666666666666,
             "#ed7953"
            ],
            [
             0.7777777777777778,
             "#fb9f3a"
            ],
            [
             0.8888888888888888,
             "#fdca26"
            ],
            [
             1.0,
             "#f0f921"
            ]
           ]
          },
          "colorway": [
           "#636efa",
           "#EF553B",
           "#00cc96",
           "#ab63fa",
           "#FFA15A",
           "#19d3f3",
           "#FF6692",
           "#B6E880",
           "#FF97FF",
           "#FECB52"
          ],
          "font": {
           "color": "#2a3f5f"
          },
          "geo": {
           "bgcolor": "white",
           "lakecolor": "white",
           "landcolor": "white",
           "showlakes": true,
           "showland": true,
           "subunitcolor": "#C8D4E3"
          },
          "hoverlabel": {
           "align": "left"
          },
          "hovermode": "closest",
          "mapbox": {
           "style": "light"
          },
          "paper_bgcolor": "white",
          "plot_bgcolor": "white",
          "polar": {
           "angularaxis": {
            "gridcolor": "#EBF0F8",
            "linecolor": "#EBF0F8",
            "ticks": ""
           },
           "bgcolor": "white",
           "radialaxis": {
            "gridcolor": "#EBF0F8",
            "linecolor": "#EBF0F8",
            "ticks": ""
           }
          },
          "scene": {
           "xaxis": {
            "backgroundcolor": "white",
            "gridcolor": "#DFE8F3",
            "gridwidth": 2,
            "linecolor": "#EBF0F8",
            "showbackground": true,
            "ticks": "",
            "zerolinecolor": "#EBF0F8"
           },
           "yaxis": {
            "backgroundcolor": "white",
            "gridcolor": "#DFE8F3",
            "gridwidth": 2,
            "linecolor": "#EBF0F8",
            "showbackground": true,
            "ticks": "",
            "zerolinecolor": "#EBF0F8"
           },
           "zaxis": {
            "backgroundcolor": "white",
            "gridcolor": "#DFE8F3",
            "gridwidth": 2,
            "linecolor": "#EBF0F8",
            "showbackground": true,
            "ticks": "",
            "zerolinecolor": "#EBF0F8"
           }
          },
          "shapedefaults": {
           "line": {
            "color": "#2a3f5f"
           }
          },
          "ternary": {
           "aaxis": {
            "gridcolor": "#DFE8F3",
            "linecolor": "#A2B1C6",
            "ticks": ""
           },
           "baxis": {
            "gridcolor": "#DFE8F3",
            "linecolor": "#A2B1C6",
            "ticks": ""
           },
           "bgcolor": "white",
           "caxis": {
            "gridcolor": "#DFE8F3",
            "linecolor": "#A2B1C6",
            "ticks": ""
           }
          },
          "title": {
           "x": 0.05
          },
          "xaxis": {
           "automargin": true,
           "gridcolor": "#EBF0F8",
           "linecolor": "#EBF0F8",
           "ticks": "",
           "title": {
            "standoff": 15
           },
           "zerolinecolor": "#EBF0F8",
           "zerolinewidth": 2
          },
          "yaxis": {
           "automargin": true,
           "gridcolor": "#EBF0F8",
           "linecolor": "#EBF0F8",
           "ticks": "",
           "title": {
            "standoff": 15
           },
           "zerolinecolor": "#EBF0F8",
           "zerolinewidth": 2
          }
         }
        },
        "xaxis": {
         "title": {
          "font": {
           "weight": "bold",
           "color": "black"
          }
         },
         "tickangle": 90,
         "tickfont": {
          "family": "Arial",
          "size": 13,
          "color": "black",
          "weight": "bold"
         }
        },
        "height": 900,
        "width": 800,
        "yaxis": {
         "tickfont": {
          "family": "Arial",
          "size": 13,
          "color": "black",
          "weight": "bold"
         }
        },
        "shapes": [
         {
          "line": {
           "color": "black",
           "width": 1.5
          },
          "type": "line",
          "x0": -0.5,
          "x1": -0.5,
          "y0": -0.5,
          "y1": 6.5
         },
         {
          "line": {
           "color": "black",
           "width": 3
          },
          "type": "line",
          "x0": -0.5,
          "x1": 12.5,
          "y0": 0.5,
          "y1": 0.5
         },
         {
          "line": {
           "color": "black",
           "width": 3
          },
          "type": "line",
          "x0": -0.5,
          "x1": 12.5,
          "y0": 0.5,
          "y1": 0.5
         },
         {
          "line": {
           "color": "black",
           "width": 3
          },
          "type": "line",
          "x0": -0.5,
          "x1": 12.5,
          "y0": 0.5,
          "y1": 0.5
         },
         {
          "line": {
           "color": "black",
           "width": 3
          },
          "type": "line",
          "x0": -0.5,
          "x1": 12.5,
          "y0": 0.5,
          "y1": 0.5
         },
         {
          "line": {
           "color": "black",
           "width": 1.5
          },
          "type": "line",
          "x0": 3.5,
          "x1": 3.5,
          "y0": -0.5,
          "y1": 6.5
         },
         {
          "line": {
           "color": "black",
           "width": 3
          },
          "type": "line",
          "x0": -0.5,
          "x1": 12.5,
          "y0": 0.5,
          "y1": 0.5
         },
         {
          "line": {
           "color": "black",
           "width": 3
          },
          "type": "line",
          "x0": -0.5,
          "x1": 12.5,
          "y0": 0.5,
          "y1": 0.5
         },
         {
          "line": {
           "color": "black",
           "width": 1.5
          },
          "type": "line",
          "x0": 5.5,
          "x1": 5.5,
          "y0": -0.5,
          "y1": 6.5
         },
         {
          "line": {
           "color": "black",
           "width": 3
          },
          "type": "line",
          "x0": -0.5,
          "x1": 12.5,
          "y0": 0.5,
          "y1": 0.5
         },
         {
          "line": {
           "color": "black",
           "width": 3
          },
          "type": "line",
          "x0": -0.5,
          "x1": 12.5,
          "y0": 0.5,
          "y1": 0.5
         },
         {
          "line": {
           "color": "black",
           "width": 1.5
          },
          "type": "line",
          "x0": 7.5,
          "x1": 7.5,
          "y0": -0.5,
          "y1": 6.5
         },
         {
          "line": {
           "color": "black",
           "width": 3
          },
          "type": "line",
          "x0": -0.5,
          "x1": 12.5,
          "y0": 0.5,
          "y1": 0.5
         },
         {
          "line": {
           "color": "black",
           "width": 3
          },
          "type": "line",
          "x0": -0.5,
          "x1": 12.5,
          "y0": 0.5,
          "y1": 0.5
         },
         {
          "line": {
           "color": "black",
           "width": 3
          },
          "type": "line",
          "x0": -0.5,
          "x1": 12.5,
          "y0": 0.5,
          "y1": 0.5
         },
         {
          "line": {
           "color": "black",
           "width": 1.5
          },
          "type": "line",
          "x0": 10.5,
          "x1": 10.5,
          "y0": -0.5,
          "y1": 6.5
         },
         {
          "line": {
           "color": "black",
           "width": 3
          },
          "type": "line",
          "x0": -0.5,
          "x1": 12.5,
          "y0": 0.5,
          "y1": 0.5
         },
         {
          "line": {
           "color": "black",
           "width": 3
          },
          "type": "line",
          "x0": 11.5,
          "x1": 11.5,
          "y0": -0.5,
          "y1": 6.5
         },
         {
          "line": {
           "color": "black",
           "width": 3
          },
          "type": "line",
          "x0": -0.5,
          "x1": 12.5,
          "y0": 0.5,
          "y1": 0.5
         },
         {
          "line": {
           "color": "black",
           "width": 1.5
          },
          "type": "line",
          "x0": 12.5,
          "x1": 12.5,
          "y0": -0.5,
          "y1": 6.5
         },
         {
          "line": {
           "color": "black",
           "width": 3
          },
          "type": "line",
          "x0": -0.5,
          "x1": 12.5,
          "y0": 0.5,
          "y1": 0.5
         }
        ],
        "margin": {
         "b": 180
        }
       },
       "config": {
        "plotlyServerURL": "https://plot.ly"
       }
      },
      "text/html": [
       "<div>                            <div id=\"5c2c047f-6fc0-4664-b3c5-37c7220f43bf\" class=\"plotly-graph-div\" style=\"height:900px; width:800px;\"></div>            <script type=\"text/javascript\">                require([\"plotly\"], function(Plotly) {                    window.PLOTLYENV=window.PLOTLYENV || {};                                    if (document.getElementById(\"5c2c047f-6fc0-4664-b3c5-37c7220f43bf\")) {                    Plotly.newPlot(                        \"5c2c047f-6fc0-4664-b3c5-37c7220f43bf\",                        [{\"colorbar\":{\"tickformat\":\".0%\"},\"colorscale\":[[0.0,\"#fcffa4\"],[0.1111111111111111,\"#f7d13d\"],[0.2222222222222222,\"#fb9b06\"],[0.3333333333333333,\"#ed6925\"],[0.4444444444444444,\"#cf4446\"],[0.5555555555555556,\"#a52c60\"],[0.6666666666666666,\"#781c6d\"],[0.7777777777777778,\"#4a0c6b\"],[0.8888888888888888,\"#1b0c41\"],[1.0,\"#000004\"]],\"texttemplate\":\"%{z:.0%}\",\"x\":[[\"Time-based Reminder\",\"Time-based Reminder\",\"Time-based Reminder\",\"Time-based Reminder\",\"Event-based \\u003cbr\\u003e Reminder\",\"Event-based \\u003cbr\\u003e Reminder\",\"Context of\\u003cbr\\u003eReminder\",\"Context of\\u003cbr\\u003eReminder\",\"Customization of\\u003cbr\\u003eReminder\",\"Customization of\\u003cbr\\u003eReminder\",\"Customization of\\u003cbr\\u003eReminder\",\" \",\"\\u2062\"],[\"Pre-defined Time\",\"Custom Time\",\"Custom Day\",\"Interval\",\"Pre-defined Event\",\"Custom Event\",\"Goal\",\"Process\",\"Snooze Reminder\",\"Different Alert Type\",\"Skip if Completed\",\"Additional Features\",\"Average\"]],\"xgap\":2,\"y\":[\"Average \",\"General \",\"Finance \",\"Productivity \",\"Wellbeing \",\"Learning \",\"Sustainability \"],\"ygap\":2,\"z\":[[0.4252609590844885,0.5161521485050896,0.33136580195403725,0.27895280101162456,0.22933743816096755,0.11560302442655385,0.5149504090680562,0.1742679433855904,0.043460243460243464,0.11502446355387534,0.06535871535871536,0.19868323397735163,0.2507014318288828],[0.4,0.7272727272727273,0.45454545454545453,0.36363636363636365,0.23636363636363636,0.21818181818181817,0.4909090909090909,0.21818181818181817,0.07272727272727272,0.14545454545454545,0.05454545454545454,0.2,0.2984848484848485],[0.7142857142857143,0.7142857142857143,0.42857142857142855,0.0,0.2857142857142857,0.14285714285714285,1.0,0.0,0.0,0.14285714285714285,0.0,0.2857142857142857,0.3095238095238095],[0.29411764705882354,0.4117647058823529,0.35294117647058826,0.23529411764705882,0.29411764705882354,0.29411764705882354,0.47058823529411764,0.47058823529411764,0.0,0.11764705882352941,0.0,0.17647058823529413,0.2598039215686274],[0.36538461538461536,0.5769230769230769,0.3076923076923077,0.5192307692307693,0.11538461538461539,0.038461538461538464,0.46153846153846156,0.1346153846153846,0.07692307692307693,0.17307692307692307,0.11538461538461539,0.3076923076923077,0.266025641025641],[0.6666666666666666,0.5555555555555556,0.4444444444444444,0.5555555555555556,0.3333333333333333,0.0,0.5555555555555556,0.2222222222222222,0.1111111111111111,0.1111111111111111,0.2222222222222222,0.1111111111111111,0.3240740740740741],[0.1111111111111111,0.1111111111111111,0.0,0.0,0.1111111111111111,0.0,0.1111111111111111,0.0,0.0,0.0,0.0,0.1111111111111111,0.0462962962962963]],\"zmax\":1,\"zmin\":0,\"type\":\"heatmap\"}],                        {\"template\":{\"data\":{\"barpolar\":[{\"marker\":{\"line\":{\"color\":\"white\",\"width\":0.5},\"pattern\":{\"fillmode\":\"overlay\",\"size\":10,\"solidity\":0.2}},\"type\":\"barpolar\"}],\"bar\":[{\"error_x\":{\"color\":\"#2a3f5f\"},\"error_y\":{\"color\":\"#2a3f5f\"},\"marker\":{\"line\":{\"color\":\"white\",\"width\":0.5},\"pattern\":{\"fillmode\":\"overlay\",\"size\":10,\"solidity\":0.2}},\"type\":\"bar\"}],\"carpet\":[{\"aaxis\":{\"endlinecolor\":\"#2a3f5f\",\"gridcolor\":\"#C8D4E3\",\"linecolor\":\"#C8D4E3\",\"minorgridcolor\":\"#C8D4E3\",\"startlinecolor\":\"#2a3f5f\"},\"baxis\":{\"endlinecolor\":\"#2a3f5f\",\"gridcolor\":\"#C8D4E3\",\"linecolor\":\"#C8D4E3\",\"minorgridcolor\":\"#C8D4E3\",\"startlinecolor\":\"#2a3f5f\"},\"type\":\"carpet\"}],\"choropleth\":[{\"colorbar\":{\"outlinewidth\":0,\"ticks\":\"\"},\"type\":\"choropleth\"}],\"contourcarpet\":[{\"colorbar\":{\"outlinewidth\":0,\"ticks\":\"\"},\"type\":\"contourcarpet\"}],\"contour\":[{\"colorbar\":{\"outlinewidth\":0,\"ticks\":\"\"},\"colorscale\":[[0.0,\"#0d0887\"],[0.1111111111111111,\"#46039f\"],[0.2222222222222222,\"#7201a8\"],[0.3333333333333333,\"#9c179e\"],[0.4444444444444444,\"#bd3786\"],[0.5555555555555556,\"#d8576b\"],[0.6666666666666666,\"#ed7953\"],[0.7777777777777778,\"#fb9f3a\"],[0.8888888888888888,\"#fdca26\"],[1.0,\"#f0f921\"]],\"type\":\"contour\"}],\"heatmapgl\":[{\"colorbar\":{\"outlinewidth\":0,\"ticks\":\"\"},\"colorscale\":[[0.0,\"#0d0887\"],[0.1111111111111111,\"#46039f\"],[0.2222222222222222,\"#7201a8\"],[0.3333333333333333,\"#9c179e\"],[0.4444444444444444,\"#bd3786\"],[0.5555555555555556,\"#d8576b\"],[0.6666666666666666,\"#ed7953\"],[0.7777777777777778,\"#fb9f3a\"],[0.8888888888888888,\"#fdca26\"],[1.0,\"#f0f921\"]],\"type\":\"heatmapgl\"}],\"heatmap\":[{\"colorbar\":{\"outlinewidth\":0,\"ticks\":\"\"},\"colorscale\":[[0.0,\"#0d0887\"],[0.1111111111111111,\"#46039f\"],[0.2222222222222222,\"#7201a8\"],[0.3333333333333333,\"#9c179e\"],[0.4444444444444444,\"#bd3786\"],[0.5555555555555556,\"#d8576b\"],[0.6666666666666666,\"#ed7953\"],[0.7777777777777778,\"#fb9f3a\"],[0.8888888888888888,\"#fdca26\"],[1.0,\"#f0f921\"]],\"type\":\"heatmap\"}],\"histogram2dcontour\":[{\"colorbar\":{\"outlinewidth\":0,\"ticks\":\"\"},\"colorscale\":[[0.0,\"#0d0887\"],[0.1111111111111111,\"#46039f\"],[0.2222222222222222,\"#7201a8\"],[0.3333333333333333,\"#9c179e\"],[0.4444444444444444,\"#bd3786\"],[0.5555555555555556,\"#d8576b\"],[0.6666666666666666,\"#ed7953\"],[0.7777777777777778,\"#fb9f3a\"],[0.8888888888888888,\"#fdca26\"],[1.0,\"#f0f921\"]],\"type\":\"histogram2dcontour\"}],\"histogram2d\":[{\"colorbar\":{\"outlinewidth\":0,\"ticks\":\"\"},\"colorscale\":[[0.0,\"#0d0887\"],[0.1111111111111111,\"#46039f\"],[0.2222222222222222,\"#7201a8\"],[0.3333333333333333,\"#9c179e\"],[0.4444444444444444,\"#bd3786\"],[0.5555555555555556,\"#d8576b\"],[0.6666666666666666,\"#ed7953\"],[0.7777777777777778,\"#fb9f3a\"],[0.8888888888888888,\"#fdca26\"],[1.0,\"#f0f921\"]],\"type\":\"histogram2d\"}],\"histogram\":[{\"marker\":{\"pattern\":{\"fillmode\":\"overlay\",\"size\":10,\"solidity\":0.2}},\"type\":\"histogram\"}],\"mesh3d\":[{\"colorbar\":{\"outlinewidth\":0,\"ticks\":\"\"},\"type\":\"mesh3d\"}],\"parcoords\":[{\"line\":{\"colorbar\":{\"outlinewidth\":0,\"ticks\":\"\"}},\"type\":\"parcoords\"}],\"pie\":[{\"automargin\":true,\"type\":\"pie\"}],\"scatter3d\":[{\"line\":{\"colorbar\":{\"outlinewidth\":0,\"ticks\":\"\"}},\"marker\":{\"colorbar\":{\"outlinewidth\":0,\"ticks\":\"\"}},\"type\":\"scatter3d\"}],\"scattercarpet\":[{\"marker\":{\"colorbar\":{\"outlinewidth\":0,\"ticks\":\"\"}},\"type\":\"scattercarpet\"}],\"scattergeo\":[{\"marker\":{\"colorbar\":{\"outlinewidth\":0,\"ticks\":\"\"}},\"type\":\"scattergeo\"}],\"scattergl\":[{\"marker\":{\"colorbar\":{\"outlinewidth\":0,\"ticks\":\"\"}},\"type\":\"scattergl\"}],\"scattermapbox\":[{\"marker\":{\"colorbar\":{\"outlinewidth\":0,\"ticks\":\"\"}},\"type\":\"scattermapbox\"}],\"scatterpolargl\":[{\"marker\":{\"colorbar\":{\"outlinewidth\":0,\"ticks\":\"\"}},\"type\":\"scatterpolargl\"}],\"scatterpolar\":[{\"marker\":{\"colorbar\":{\"outlinewidth\":0,\"ticks\":\"\"}},\"type\":\"scatterpolar\"}],\"scatter\":[{\"fillpattern\":{\"fillmode\":\"overlay\",\"size\":10,\"solidity\":0.2},\"type\":\"scatter\"}],\"scatterternary\":[{\"marker\":{\"colorbar\":{\"outlinewidth\":0,\"ticks\":\"\"}},\"type\":\"scatterternary\"}],\"surface\":[{\"colorbar\":{\"outlinewidth\":0,\"ticks\":\"\"},\"colorscale\":[[0.0,\"#0d0887\"],[0.1111111111111111,\"#46039f\"],[0.2222222222222222,\"#7201a8\"],[0.3333333333333333,\"#9c179e\"],[0.4444444444444444,\"#bd3786\"],[0.5555555555555556,\"#d8576b\"],[0.6666666666666666,\"#ed7953\"],[0.7777777777777778,\"#fb9f3a\"],[0.8888888888888888,\"#fdca26\"],[1.0,\"#f0f921\"]],\"type\":\"surface\"}],\"table\":[{\"cells\":{\"fill\":{\"color\":\"#EBF0F8\"},\"line\":{\"color\":\"white\"}},\"header\":{\"fill\":{\"color\":\"#C8D4E3\"},\"line\":{\"color\":\"white\"}},\"type\":\"table\"}]},\"layout\":{\"annotationdefaults\":{\"arrowcolor\":\"#2a3f5f\",\"arrowhead\":0,\"arrowwidth\":1},\"autotypenumbers\":\"strict\",\"coloraxis\":{\"colorbar\":{\"outlinewidth\":0,\"ticks\":\"\"}},\"colorscale\":{\"diverging\":[[0,\"#8e0152\"],[0.1,\"#c51b7d\"],[0.2,\"#de77ae\"],[0.3,\"#f1b6da\"],[0.4,\"#fde0ef\"],[0.5,\"#f7f7f7\"],[0.6,\"#e6f5d0\"],[0.7,\"#b8e186\"],[0.8,\"#7fbc41\"],[0.9,\"#4d9221\"],[1,\"#276419\"]],\"sequential\":[[0.0,\"#0d0887\"],[0.1111111111111111,\"#46039f\"],[0.2222222222222222,\"#7201a8\"],[0.3333333333333333,\"#9c179e\"],[0.4444444444444444,\"#bd3786\"],[0.5555555555555556,\"#d8576b\"],[0.6666666666666666,\"#ed7953\"],[0.7777777777777778,\"#fb9f3a\"],[0.8888888888888888,\"#fdca26\"],[1.0,\"#f0f921\"]],\"sequentialminus\":[[0.0,\"#0d0887\"],[0.1111111111111111,\"#46039f\"],[0.2222222222222222,\"#7201a8\"],[0.3333333333333333,\"#9c179e\"],[0.4444444444444444,\"#bd3786\"],[0.5555555555555556,\"#d8576b\"],[0.6666666666666666,\"#ed7953\"],[0.7777777777777778,\"#fb9f3a\"],[0.8888888888888888,\"#fdca26\"],[1.0,\"#f0f921\"]]},\"colorway\":[\"#636efa\",\"#EF553B\",\"#00cc96\",\"#ab63fa\",\"#FFA15A\",\"#19d3f3\",\"#FF6692\",\"#B6E880\",\"#FF97FF\",\"#FECB52\"],\"font\":{\"color\":\"#2a3f5f\"},\"geo\":{\"bgcolor\":\"white\",\"lakecolor\":\"white\",\"landcolor\":\"white\",\"showlakes\":true,\"showland\":true,\"subunitcolor\":\"#C8D4E3\"},\"hoverlabel\":{\"align\":\"left\"},\"hovermode\":\"closest\",\"mapbox\":{\"style\":\"light\"},\"paper_bgcolor\":\"white\",\"plot_bgcolor\":\"white\",\"polar\":{\"angularaxis\":{\"gridcolor\":\"#EBF0F8\",\"linecolor\":\"#EBF0F8\",\"ticks\":\"\"},\"bgcolor\":\"white\",\"radialaxis\":{\"gridcolor\":\"#EBF0F8\",\"linecolor\":\"#EBF0F8\",\"ticks\":\"\"}},\"scene\":{\"xaxis\":{\"backgroundcolor\":\"white\",\"gridcolor\":\"#DFE8F3\",\"gridwidth\":2,\"linecolor\":\"#EBF0F8\",\"showbackground\":true,\"ticks\":\"\",\"zerolinecolor\":\"#EBF0F8\"},\"yaxis\":{\"backgroundcolor\":\"white\",\"gridcolor\":\"#DFE8F3\",\"gridwidth\":2,\"linecolor\":\"#EBF0F8\",\"showbackground\":true,\"ticks\":\"\",\"zerolinecolor\":\"#EBF0F8\"},\"zaxis\":{\"backgroundcolor\":\"white\",\"gridcolor\":\"#DFE8F3\",\"gridwidth\":2,\"linecolor\":\"#EBF0F8\",\"showbackground\":true,\"ticks\":\"\",\"zerolinecolor\":\"#EBF0F8\"}},\"shapedefaults\":{\"line\":{\"color\":\"#2a3f5f\"}},\"ternary\":{\"aaxis\":{\"gridcolor\":\"#DFE8F3\",\"linecolor\":\"#A2B1C6\",\"ticks\":\"\"},\"baxis\":{\"gridcolor\":\"#DFE8F3\",\"linecolor\":\"#A2B1C6\",\"ticks\":\"\"},\"bgcolor\":\"white\",\"caxis\":{\"gridcolor\":\"#DFE8F3\",\"linecolor\":\"#A2B1C6\",\"ticks\":\"\"}},\"title\":{\"x\":0.05},\"xaxis\":{\"automargin\":true,\"gridcolor\":\"#EBF0F8\",\"linecolor\":\"#EBF0F8\",\"ticks\":\"\",\"title\":{\"standoff\":15},\"zerolinecolor\":\"#EBF0F8\",\"zerolinewidth\":2},\"yaxis\":{\"automargin\":true,\"gridcolor\":\"#EBF0F8\",\"linecolor\":\"#EBF0F8\",\"ticks\":\"\",\"title\":{\"standoff\":15},\"zerolinecolor\":\"#EBF0F8\",\"zerolinewidth\":2}}},\"xaxis\":{\"title\":{\"font\":{\"weight\":\"bold\",\"color\":\"black\"}},\"tickangle\":90,\"tickfont\":{\"family\":\"Arial\",\"size\":13,\"color\":\"black\",\"weight\":\"bold\"}},\"height\":900,\"width\":800,\"yaxis\":{\"tickfont\":{\"family\":\"Arial\",\"size\":13,\"color\":\"black\",\"weight\":\"bold\"}},\"shapes\":[{\"line\":{\"color\":\"black\",\"width\":1.5},\"type\":\"line\",\"x0\":-0.5,\"x1\":-0.5,\"y0\":-0.5,\"y1\":6.5},{\"line\":{\"color\":\"black\",\"width\":3},\"type\":\"line\",\"x0\":-0.5,\"x1\":12.5,\"y0\":0.5,\"y1\":0.5},{\"line\":{\"color\":\"black\",\"width\":3},\"type\":\"line\",\"x0\":-0.5,\"x1\":12.5,\"y0\":0.5,\"y1\":0.5},{\"line\":{\"color\":\"black\",\"width\":3},\"type\":\"line\",\"x0\":-0.5,\"x1\":12.5,\"y0\":0.5,\"y1\":0.5},{\"line\":{\"color\":\"black\",\"width\":3},\"type\":\"line\",\"x0\":-0.5,\"x1\":12.5,\"y0\":0.5,\"y1\":0.5},{\"line\":{\"color\":\"black\",\"width\":1.5},\"type\":\"line\",\"x0\":3.5,\"x1\":3.5,\"y0\":-0.5,\"y1\":6.5},{\"line\":{\"color\":\"black\",\"width\":3},\"type\":\"line\",\"x0\":-0.5,\"x1\":12.5,\"y0\":0.5,\"y1\":0.5},{\"line\":{\"color\":\"black\",\"width\":3},\"type\":\"line\",\"x0\":-0.5,\"x1\":12.5,\"y0\":0.5,\"y1\":0.5},{\"line\":{\"color\":\"black\",\"width\":1.5},\"type\":\"line\",\"x0\":5.5,\"x1\":5.5,\"y0\":-0.5,\"y1\":6.5},{\"line\":{\"color\":\"black\",\"width\":3},\"type\":\"line\",\"x0\":-0.5,\"x1\":12.5,\"y0\":0.5,\"y1\":0.5},{\"line\":{\"color\":\"black\",\"width\":3},\"type\":\"line\",\"x0\":-0.5,\"x1\":12.5,\"y0\":0.5,\"y1\":0.5},{\"line\":{\"color\":\"black\",\"width\":1.5},\"type\":\"line\",\"x0\":7.5,\"x1\":7.5,\"y0\":-0.5,\"y1\":6.5},{\"line\":{\"color\":\"black\",\"width\":3},\"type\":\"line\",\"x0\":-0.5,\"x1\":12.5,\"y0\":0.5,\"y1\":0.5},{\"line\":{\"color\":\"black\",\"width\":3},\"type\":\"line\",\"x0\":-0.5,\"x1\":12.5,\"y0\":0.5,\"y1\":0.5},{\"line\":{\"color\":\"black\",\"width\":3},\"type\":\"line\",\"x0\":-0.5,\"x1\":12.5,\"y0\":0.5,\"y1\":0.5},{\"line\":{\"color\":\"black\",\"width\":1.5},\"type\":\"line\",\"x0\":10.5,\"x1\":10.5,\"y0\":-0.5,\"y1\":6.5},{\"line\":{\"color\":\"black\",\"width\":3},\"type\":\"line\",\"x0\":-0.5,\"x1\":12.5,\"y0\":0.5,\"y1\":0.5},{\"line\":{\"color\":\"black\",\"width\":3},\"type\":\"line\",\"x0\":11.5,\"x1\":11.5,\"y0\":-0.5,\"y1\":6.5},{\"line\":{\"color\":\"black\",\"width\":3},\"type\":\"line\",\"x0\":-0.5,\"x1\":12.5,\"y0\":0.5,\"y1\":0.5},{\"line\":{\"color\":\"black\",\"width\":1.5},\"type\":\"line\",\"x0\":12.5,\"x1\":12.5,\"y0\":-0.5,\"y1\":6.5},{\"line\":{\"color\":\"black\",\"width\":3},\"type\":\"line\",\"x0\":-0.5,\"x1\":12.5,\"y0\":0.5,\"y1\":0.5}],\"margin\":{\"b\":180}},                        {\"responsive\": true}                    ).then(function(){\n",
       "                            \n",
       "var gd = document.getElementById('5c2c047f-6fc0-4664-b3c5-37c7220f43bf');\n",
       "var x = new MutationObserver(function (mutations, observer) {{\n",
       "        var display = window.getComputedStyle(gd).display;\n",
       "        if (!display || display === 'none') {{\n",
       "            console.log([gd, 'removed!']);\n",
       "            Plotly.purge(gd);\n",
       "            observer.disconnect();\n",
       "        }}\n",
       "}});\n",
       "\n",
       "// Listen for the removal of the full notebook cells\n",
       "var notebookContainer = gd.closest('#notebook-container');\n",
       "if (notebookContainer) {{\n",
       "    x.observe(notebookContainer, {childList: true});\n",
       "}}\n",
       "\n",
       "// Listen for the clearing of the current output cell\n",
       "var outputEl = gd.closest('.output');\n",
       "if (outputEl) {{\n",
       "    x.observe(outputEl, {childList: true});\n",
       "}}\n",
       "\n",
       "                        })                };                });            </script>        </div>"
      ]
     },
     "metadata": {},
     "output_type": "display_data"
    },
    {
     "data": {
      "application/vnd.plotly.v1+json": {
       "data": [
        {
         "colorbar": {
          "tickformat": ".0%"
         },
         "colorscale": [
          [
           0.0,
           "#fcffa4"
          ],
          [
           0.1111111111111111,
           "#f7d13d"
          ],
          [
           0.2222222222222222,
           "#fb9b06"
          ],
          [
           0.3333333333333333,
           "#ed6925"
          ],
          [
           0.4444444444444444,
           "#cf4446"
          ],
          [
           0.5555555555555556,
           "#a52c60"
          ],
          [
           0.6666666666666666,
           "#781c6d"
          ],
          [
           0.7777777777777778,
           "#4a0c6b"
          ],
          [
           0.8888888888888888,
           "#1b0c41"
          ],
          [
           1.0,
           "#000004"
          ]
         ],
         "texttemplate": "%{z:.0%}",
         "x": [
          [
           " ",
           "Diversification",
           "Diversification",
           "Enrichment",
           "Enrichment",
           "Derivation",
           "Derivation",
           "  ",
           "  ",
           "   "
          ],
          [
           "Integration",
           "Adaptation",
           "Recommendation",
           "Profile",
           "Context",
           "Interpretation of<br>User Behaviour",
           "Explanation of<br>System Behaviour",
           "Relation",
           "Interaction",
           "Average"
          ]
         ],
         "xgap": 2,
         "y": [
          "Average ",
          "General ",
          "Finance ",
          "Productivity ",
          "Wellbeing ",
          "Learning ",
          "Sustainability "
         ],
         "ygap": 2,
         "z": [
          [
           0.13217860570801745,
           0.12530046206516796,
           0.0837024087024087,
           0.08764644941115529,
           0.02475394975394975,
           0.018518518518518517,
           0.07874407727348905,
           0.1118629736276795,
           0.11827323003793593,
           0.08677563056648024
          ],
          [
           0.05454545454545454,
           0.2,
           0.07272727272727272,
           0.16363636363636364,
           0.01818181818181818,
           0.0,
           0.10909090909090909,
           0.16363636363636364,
           0.16363636363636364,
           0.10505050505050506
          ],
          [
           0.42857142857142855,
           0.2857142857142857,
           0.0,
           0.0,
           0.0,
           0.0,
           0.0,
           0.0,
           0.0,
           0.07936507936507936
          ],
          [
           0.11764705882352941,
           0.058823529411764705,
           0.0,
           0.058823529411764705,
           0.0,
           0.0,
           0.11764705882352941,
           0.058823529411764705,
           0.058823529411764705,
           0.05228758169934641
          ],
          [
           0.19230769230769232,
           0.09615384615384616,
           0.09615384615384616,
           0.19230769230769232,
           0.019230769230769232,
           0.0,
           0.1346153846153846,
           0.11538461538461539,
           0.15384615384615385,
           0.1111111111111111
          ],
          [
           0.0,
           0.1111111111111111,
           0.2222222222222222,
           0.0,
           0.1111111111111111,
           0.1111111111111111,
           0.1111111111111111,
           0.3333333333333333,
           0.3333333333333333,
           0.14814814814814814
          ],
          [
           0.0,
           0.0,
           0.1111111111111111,
           0.1111111111111111,
           0.0,
           0.0,
           0.0,
           0.0,
           0.0,
           0.024691358024691357
          ]
         ],
         "zmax": 1,
         "zmin": 0,
         "type": "heatmap"
        }
       ],
       "layout": {
        "template": {
         "data": {
          "barpolar": [
           {
            "marker": {
             "line": {
              "color": "white",
              "width": 0.5
             },
             "pattern": {
              "fillmode": "overlay",
              "size": 10,
              "solidity": 0.2
             }
            },
            "type": "barpolar"
           }
          ],
          "bar": [
           {
            "error_x": {
             "color": "#2a3f5f"
            },
            "error_y": {
             "color": "#2a3f5f"
            },
            "marker": {
             "line": {
              "color": "white",
              "width": 0.5
             },
             "pattern": {
              "fillmode": "overlay",
              "size": 10,
              "solidity": 0.2
             }
            },
            "type": "bar"
           }
          ],
          "carpet": [
           {
            "aaxis": {
             "endlinecolor": "#2a3f5f",
             "gridcolor": "#C8D4E3",
             "linecolor": "#C8D4E3",
             "minorgridcolor": "#C8D4E3",
             "startlinecolor": "#2a3f5f"
            },
            "baxis": {
             "endlinecolor": "#2a3f5f",
             "gridcolor": "#C8D4E3",
             "linecolor": "#C8D4E3",
             "minorgridcolor": "#C8D4E3",
             "startlinecolor": "#2a3f5f"
            },
            "type": "carpet"
           }
          ],
          "choropleth": [
           {
            "colorbar": {
             "outlinewidth": 0,
             "ticks": ""
            },
            "type": "choropleth"
           }
          ],
          "contourcarpet": [
           {
            "colorbar": {
             "outlinewidth": 0,
             "ticks": ""
            },
            "type": "contourcarpet"
           }
          ],
          "contour": [
           {
            "colorbar": {
             "outlinewidth": 0,
             "ticks": ""
            },
            "colorscale": [
             [
              0.0,
              "#0d0887"
             ],
             [
              0.1111111111111111,
              "#46039f"
             ],
             [
              0.2222222222222222,
              "#7201a8"
             ],
             [
              0.3333333333333333,
              "#9c179e"
             ],
             [
              0.4444444444444444,
              "#bd3786"
             ],
             [
              0.5555555555555556,
              "#d8576b"
             ],
             [
              0.6666666666666666,
              "#ed7953"
             ],
             [
              0.7777777777777778,
              "#fb9f3a"
             ],
             [
              0.8888888888888888,
              "#fdca26"
             ],
             [
              1.0,
              "#f0f921"
             ]
            ],
            "type": "contour"
           }
          ],
          "heatmapgl": [
           {
            "colorbar": {
             "outlinewidth": 0,
             "ticks": ""
            },
            "colorscale": [
             [
              0.0,
              "#0d0887"
             ],
             [
              0.1111111111111111,
              "#46039f"
             ],
             [
              0.2222222222222222,
              "#7201a8"
             ],
             [
              0.3333333333333333,
              "#9c179e"
             ],
             [
              0.4444444444444444,
              "#bd3786"
             ],
             [
              0.5555555555555556,
              "#d8576b"
             ],
             [
              0.6666666666666666,
              "#ed7953"
             ],
             [
              0.7777777777777778,
              "#fb9f3a"
             ],
             [
              0.8888888888888888,
              "#fdca26"
             ],
             [
              1.0,
              "#f0f921"
             ]
            ],
            "type": "heatmapgl"
           }
          ],
          "heatmap": [
           {
            "colorbar": {
             "outlinewidth": 0,
             "ticks": ""
            },
            "colorscale": [
             [
              0.0,
              "#0d0887"
             ],
             [
              0.1111111111111111,
              "#46039f"
             ],
             [
              0.2222222222222222,
              "#7201a8"
             ],
             [
              0.3333333333333333,
              "#9c179e"
             ],
             [
              0.4444444444444444,
              "#bd3786"
             ],
             [
              0.5555555555555556,
              "#d8576b"
             ],
             [
              0.6666666666666666,
              "#ed7953"
             ],
             [
              0.7777777777777778,
              "#fb9f3a"
             ],
             [
              0.8888888888888888,
              "#fdca26"
             ],
             [
              1.0,
              "#f0f921"
             ]
            ],
            "type": "heatmap"
           }
          ],
          "histogram2dcontour": [
           {
            "colorbar": {
             "outlinewidth": 0,
             "ticks": ""
            },
            "colorscale": [
             [
              0.0,
              "#0d0887"
             ],
             [
              0.1111111111111111,
              "#46039f"
             ],
             [
              0.2222222222222222,
              "#7201a8"
             ],
             [
              0.3333333333333333,
              "#9c179e"
             ],
             [
              0.4444444444444444,
              "#bd3786"
             ],
             [
              0.5555555555555556,
              "#d8576b"
             ],
             [
              0.6666666666666666,
              "#ed7953"
             ],
             [
              0.7777777777777778,
              "#fb9f3a"
             ],
             [
              0.8888888888888888,
              "#fdca26"
             ],
             [
              1.0,
              "#f0f921"
             ]
            ],
            "type": "histogram2dcontour"
           }
          ],
          "histogram2d": [
           {
            "colorbar": {
             "outlinewidth": 0,
             "ticks": ""
            },
            "colorscale": [
             [
              0.0,
              "#0d0887"
             ],
             [
              0.1111111111111111,
              "#46039f"
             ],
             [
              0.2222222222222222,
              "#7201a8"
             ],
             [
              0.3333333333333333,
              "#9c179e"
             ],
             [
              0.4444444444444444,
              "#bd3786"
             ],
             [
              0.5555555555555556,
              "#d8576b"
             ],
             [
              0.6666666666666666,
              "#ed7953"
             ],
             [
              0.7777777777777778,
              "#fb9f3a"
             ],
             [
              0.8888888888888888,
              "#fdca26"
             ],
             [
              1.0,
              "#f0f921"
             ]
            ],
            "type": "histogram2d"
           }
          ],
          "histogram": [
           {
            "marker": {
             "pattern": {
              "fillmode": "overlay",
              "size": 10,
              "solidity": 0.2
             }
            },
            "type": "histogram"
           }
          ],
          "mesh3d": [
           {
            "colorbar": {
             "outlinewidth": 0,
             "ticks": ""
            },
            "type": "mesh3d"
           }
          ],
          "parcoords": [
           {
            "line": {
             "colorbar": {
              "outlinewidth": 0,
              "ticks": ""
             }
            },
            "type": "parcoords"
           }
          ],
          "pie": [
           {
            "automargin": true,
            "type": "pie"
           }
          ],
          "scatter3d": [
           {
            "line": {
             "colorbar": {
              "outlinewidth": 0,
              "ticks": ""
             }
            },
            "marker": {
             "colorbar": {
              "outlinewidth": 0,
              "ticks": ""
             }
            },
            "type": "scatter3d"
           }
          ],
          "scattercarpet": [
           {
            "marker": {
             "colorbar": {
              "outlinewidth": 0,
              "ticks": ""
             }
            },
            "type": "scattercarpet"
           }
          ],
          "scattergeo": [
           {
            "marker": {
             "colorbar": {
              "outlinewidth": 0,
              "ticks": ""
             }
            },
            "type": "scattergeo"
           }
          ],
          "scattergl": [
           {
            "marker": {
             "colorbar": {
              "outlinewidth": 0,
              "ticks": ""
             }
            },
            "type": "scattergl"
           }
          ],
          "scattermapbox": [
           {
            "marker": {
             "colorbar": {
              "outlinewidth": 0,
              "ticks": ""
             }
            },
            "type": "scattermapbox"
           }
          ],
          "scatterpolargl": [
           {
            "marker": {
             "colorbar": {
              "outlinewidth": 0,
              "ticks": ""
             }
            },
            "type": "scatterpolargl"
           }
          ],
          "scatterpolar": [
           {
            "marker": {
             "colorbar": {
              "outlinewidth": 0,
              "ticks": ""
             }
            },
            "type": "scatterpolar"
           }
          ],
          "scatter": [
           {
            "fillpattern": {
             "fillmode": "overlay",
             "size": 10,
             "solidity": 0.2
            },
            "type": "scatter"
           }
          ],
          "scatterternary": [
           {
            "marker": {
             "colorbar": {
              "outlinewidth": 0,
              "ticks": ""
             }
            },
            "type": "scatterternary"
           }
          ],
          "surface": [
           {
            "colorbar": {
             "outlinewidth": 0,
             "ticks": ""
            },
            "colorscale": [
             [
              0.0,
              "#0d0887"
             ],
             [
              0.1111111111111111,
              "#46039f"
             ],
             [
              0.2222222222222222,
              "#7201a8"
             ],
             [
              0.3333333333333333,
              "#9c179e"
             ],
             [
              0.4444444444444444,
              "#bd3786"
             ],
             [
              0.5555555555555556,
              "#d8576b"
             ],
             [
              0.6666666666666666,
              "#ed7953"
             ],
             [
              0.7777777777777778,
              "#fb9f3a"
             ],
             [
              0.8888888888888888,
              "#fdca26"
             ],
             [
              1.0,
              "#f0f921"
             ]
            ],
            "type": "surface"
           }
          ],
          "table": [
           {
            "cells": {
             "fill": {
              "color": "#EBF0F8"
             },
             "line": {
              "color": "white"
             }
            },
            "header": {
             "fill": {
              "color": "#C8D4E3"
             },
             "line": {
              "color": "white"
             }
            },
            "type": "table"
           }
          ]
         },
         "layout": {
          "annotationdefaults": {
           "arrowcolor": "#2a3f5f",
           "arrowhead": 0,
           "arrowwidth": 1
          },
          "autotypenumbers": "strict",
          "coloraxis": {
           "colorbar": {
            "outlinewidth": 0,
            "ticks": ""
           }
          },
          "colorscale": {
           "diverging": [
            [
             0,
             "#8e0152"
            ],
            [
             0.1,
             "#c51b7d"
            ],
            [
             0.2,
             "#de77ae"
            ],
            [
             0.3,
             "#f1b6da"
            ],
            [
             0.4,
             "#fde0ef"
            ],
            [
             0.5,
             "#f7f7f7"
            ],
            [
             0.6,
             "#e6f5d0"
            ],
            [
             0.7,
             "#b8e186"
            ],
            [
             0.8,
             "#7fbc41"
            ],
            [
             0.9,
             "#4d9221"
            ],
            [
             1,
             "#276419"
            ]
           ],
           "sequential": [
            [
             0.0,
             "#0d0887"
            ],
            [
             0.1111111111111111,
             "#46039f"
            ],
            [
             0.2222222222222222,
             "#7201a8"
            ],
            [
             0.3333333333333333,
             "#9c179e"
            ],
            [
             0.4444444444444444,
             "#bd3786"
            ],
            [
             0.5555555555555556,
             "#d8576b"
            ],
            [
             0.6666666666666666,
             "#ed7953"
            ],
            [
             0.7777777777777778,
             "#fb9f3a"
            ],
            [
             0.8888888888888888,
             "#fdca26"
            ],
            [
             1.0,
             "#f0f921"
            ]
           ],
           "sequentialminus": [
            [
             0.0,
             "#0d0887"
            ],
            [
             0.1111111111111111,
             "#46039f"
            ],
            [
             0.2222222222222222,
             "#7201a8"
            ],
            [
             0.3333333333333333,
             "#9c179e"
            ],
            [
             0.4444444444444444,
             "#bd3786"
            ],
            [
             0.5555555555555556,
             "#d8576b"
            ],
            [
             0.6666666666666666,
             "#ed7953"
            ],
            [
             0.7777777777777778,
             "#fb9f3a"
            ],
            [
             0.8888888888888888,
             "#fdca26"
            ],
            [
             1.0,
             "#f0f921"
            ]
           ]
          },
          "colorway": [
           "#636efa",
           "#EF553B",
           "#00cc96",
           "#ab63fa",
           "#FFA15A",
           "#19d3f3",
           "#FF6692",
           "#B6E880",
           "#FF97FF",
           "#FECB52"
          ],
          "font": {
           "color": "#2a3f5f"
          },
          "geo": {
           "bgcolor": "white",
           "lakecolor": "white",
           "landcolor": "white",
           "showlakes": true,
           "showland": true,
           "subunitcolor": "#C8D4E3"
          },
          "hoverlabel": {
           "align": "left"
          },
          "hovermode": "closest",
          "mapbox": {
           "style": "light"
          },
          "paper_bgcolor": "white",
          "plot_bgcolor": "white",
          "polar": {
           "angularaxis": {
            "gridcolor": "#EBF0F8",
            "linecolor": "#EBF0F8",
            "ticks": ""
           },
           "bgcolor": "white",
           "radialaxis": {
            "gridcolor": "#EBF0F8",
            "linecolor": "#EBF0F8",
            "ticks": ""
           }
          },
          "scene": {
           "xaxis": {
            "backgroundcolor": "white",
            "gridcolor": "#DFE8F3",
            "gridwidth": 2,
            "linecolor": "#EBF0F8",
            "showbackground": true,
            "ticks": "",
            "zerolinecolor": "#EBF0F8"
           },
           "yaxis": {
            "backgroundcolor": "white",
            "gridcolor": "#DFE8F3",
            "gridwidth": 2,
            "linecolor": "#EBF0F8",
            "showbackground": true,
            "ticks": "",
            "zerolinecolor": "#EBF0F8"
           },
           "zaxis": {
            "backgroundcolor": "white",
            "gridcolor": "#DFE8F3",
            "gridwidth": 2,
            "linecolor": "#EBF0F8",
            "showbackground": true,
            "ticks": "",
            "zerolinecolor": "#EBF0F8"
           }
          },
          "shapedefaults": {
           "line": {
            "color": "#2a3f5f"
           }
          },
          "ternary": {
           "aaxis": {
            "gridcolor": "#DFE8F3",
            "linecolor": "#A2B1C6",
            "ticks": ""
           },
           "baxis": {
            "gridcolor": "#DFE8F3",
            "linecolor": "#A2B1C6",
            "ticks": ""
           },
           "bgcolor": "white",
           "caxis": {
            "gridcolor": "#DFE8F3",
            "linecolor": "#A2B1C6",
            "ticks": ""
           }
          },
          "title": {
           "x": 0.05
          },
          "xaxis": {
           "automargin": true,
           "gridcolor": "#EBF0F8",
           "linecolor": "#EBF0F8",
           "ticks": "",
           "title": {
            "standoff": 15
           },
           "zerolinecolor": "#EBF0F8",
           "zerolinewidth": 2
          },
          "yaxis": {
           "automargin": true,
           "gridcolor": "#EBF0F8",
           "linecolor": "#EBF0F8",
           "ticks": "",
           "title": {
            "standoff": 15
           },
           "zerolinecolor": "#EBF0F8",
           "zerolinewidth": 2
          }
         }
        },
        "xaxis": {
         "title": {
          "font": {
           "weight": "bold",
           "color": "black"
          }
         },
         "tickangle": 90,
         "tickfont": {
          "family": "Arial",
          "size": 13,
          "color": "black",
          "weight": "bold"
         }
        },
        "height": 900,
        "width": 800,
        "yaxis": {
         "tickfont": {
          "family": "Arial",
          "size": 13,
          "color": "black",
          "weight": "bold"
         }
        },
        "shapes": [
         {
          "line": {
           "color": "black",
           "width": 1.5
          },
          "type": "line",
          "x0": -0.5,
          "x1": -0.5,
          "y0": -0.5,
          "y1": 6.5
         },
         {
          "line": {
           "color": "black",
           "width": 3
          },
          "type": "line",
          "x0": -0.5,
          "x1": 9.5,
          "y0": 0.5,
          "y1": 0.5
         },
         {
          "line": {
           "color": "black",
           "width": 1.5
          },
          "type": "line",
          "x0": 0.5,
          "x1": 0.5,
          "y0": -0.5,
          "y1": 6.5
         },
         {
          "line": {
           "color": "black",
           "width": 3
          },
          "type": "line",
          "x0": -0.5,
          "x1": 9.5,
          "y0": 0.5,
          "y1": 0.5
         },
         {
          "line": {
           "color": "black",
           "width": 3
          },
          "type": "line",
          "x0": -0.5,
          "x1": 9.5,
          "y0": 0.5,
          "y1": 0.5
         },
         {
          "line": {
           "color": "black",
           "width": 1.5
          },
          "type": "line",
          "x0": 2.5,
          "x1": 2.5,
          "y0": -0.5,
          "y1": 6.5
         },
         {
          "line": {
           "color": "black",
           "width": 3
          },
          "type": "line",
          "x0": -0.5,
          "x1": 9.5,
          "y0": 0.5,
          "y1": 0.5
         },
         {
          "line": {
           "color": "black",
           "width": 3
          },
          "type": "line",
          "x0": -0.5,
          "x1": 9.5,
          "y0": 0.5,
          "y1": 0.5
         },
         {
          "line": {
           "color": "black",
           "width": 1.5
          },
          "type": "line",
          "x0": 4.5,
          "x1": 4.5,
          "y0": -0.5,
          "y1": 6.5
         },
         {
          "line": {
           "color": "black",
           "width": 3
          },
          "type": "line",
          "x0": -0.5,
          "x1": 9.5,
          "y0": 0.5,
          "y1": 0.5
         },
         {
          "line": {
           "color": "black",
           "width": 3
          },
          "type": "line",
          "x0": -0.5,
          "x1": 9.5,
          "y0": 0.5,
          "y1": 0.5
         },
         {
          "line": {
           "color": "black",
           "width": 1.5
          },
          "type": "line",
          "x0": 6.5,
          "x1": 6.5,
          "y0": -0.5,
          "y1": 6.5
         },
         {
          "line": {
           "color": "black",
           "width": 3
          },
          "type": "line",
          "x0": -0.5,
          "x1": 9.5,
          "y0": 0.5,
          "y1": 0.5
         },
         {
          "line": {
           "color": "black",
           "width": 3
          },
          "type": "line",
          "x0": -0.5,
          "x1": 9.5,
          "y0": 0.5,
          "y1": 0.5
         },
         {
          "line": {
           "color": "black",
           "width": 3
          },
          "type": "line",
          "x0": 8.5,
          "x1": 8.5,
          "y0": -0.5,
          "y1": 6.5
         },
         {
          "line": {
           "color": "black",
           "width": 3
          },
          "type": "line",
          "x0": -0.5,
          "x1": 9.5,
          "y0": 0.5,
          "y1": 0.5
         },
         {
          "line": {
           "color": "black",
           "width": 1.5
          },
          "type": "line",
          "x0": 9.5,
          "x1": 9.5,
          "y0": -0.5,
          "y1": 6.5
         },
         {
          "line": {
           "color": "black",
           "width": 3
          },
          "type": "line",
          "x0": -0.5,
          "x1": 9.5,
          "y0": 0.5,
          "y1": 0.5
         }
        ],
        "margin": {
         "b": 180
        },
        "annotations": [
         {
          "align": "center",
          "font": {
           "color": "black",
           "family": "Arial",
           "size": 14,
           "weight": "bold"
          },
          "showarrow": false,
          "text": "|                System                |                    Knowledge                    |           Social         |              |",
          "x": 0.5,
          "xref": "paper",
          "y": -0.25,
          "yref": "paper"
         }
        ]
       },
       "config": {
        "plotlyServerURL": "https://plot.ly"
       }
      },
      "text/html": [
       "<div>                            <div id=\"0155b7f6-f004-4f48-b35b-7a20ef025d6d\" class=\"plotly-graph-div\" style=\"height:900px; width:800px;\"></div>            <script type=\"text/javascript\">                require([\"plotly\"], function(Plotly) {                    window.PLOTLYENV=window.PLOTLYENV || {};                                    if (document.getElementById(\"0155b7f6-f004-4f48-b35b-7a20ef025d6d\")) {                    Plotly.newPlot(                        \"0155b7f6-f004-4f48-b35b-7a20ef025d6d\",                        [{\"colorbar\":{\"tickformat\":\".0%\"},\"colorscale\":[[0.0,\"#fcffa4\"],[0.1111111111111111,\"#f7d13d\"],[0.2222222222222222,\"#fb9b06\"],[0.3333333333333333,\"#ed6925\"],[0.4444444444444444,\"#cf4446\"],[0.5555555555555556,\"#a52c60\"],[0.6666666666666666,\"#781c6d\"],[0.7777777777777778,\"#4a0c6b\"],[0.8888888888888888,\"#1b0c41\"],[1.0,\"#000004\"]],\"texttemplate\":\"%{z:.0%}\",\"x\":[[\" \",\"Diversification\",\"Diversification\",\"Enrichment\",\"Enrichment\",\"Derivation\",\"Derivation\",\"  \",\"  \",\"   \"],[\"Integration\",\"Adaptation\",\"Recommendation\",\"Profile\",\"Context\",\"Interpretation of\\u003cbr\\u003eUser Behaviour\",\"Explanation of\\u003cbr\\u003eSystem Behaviour\",\"Relation\",\"Interaction\",\"Average\"]],\"xgap\":2,\"y\":[\"Average \",\"General \",\"Finance \",\"Productivity \",\"Wellbeing \",\"Learning \",\"Sustainability \"],\"ygap\":2,\"z\":[[0.13217860570801745,0.12530046206516796,0.0837024087024087,0.08764644941115529,0.02475394975394975,0.018518518518518517,0.07874407727348905,0.1118629736276795,0.11827323003793593,0.08677563056648024],[0.05454545454545454,0.2,0.07272727272727272,0.16363636363636364,0.01818181818181818,0.0,0.10909090909090909,0.16363636363636364,0.16363636363636364,0.10505050505050506],[0.42857142857142855,0.2857142857142857,0.0,0.0,0.0,0.0,0.0,0.0,0.0,0.07936507936507936],[0.11764705882352941,0.058823529411764705,0.0,0.058823529411764705,0.0,0.0,0.11764705882352941,0.058823529411764705,0.058823529411764705,0.05228758169934641],[0.19230769230769232,0.09615384615384616,0.09615384615384616,0.19230769230769232,0.019230769230769232,0.0,0.1346153846153846,0.11538461538461539,0.15384615384615385,0.1111111111111111],[0.0,0.1111111111111111,0.2222222222222222,0.0,0.1111111111111111,0.1111111111111111,0.1111111111111111,0.3333333333333333,0.3333333333333333,0.14814814814814814],[0.0,0.0,0.1111111111111111,0.1111111111111111,0.0,0.0,0.0,0.0,0.0,0.024691358024691357]],\"zmax\":1,\"zmin\":0,\"type\":\"heatmap\"}],                        {\"template\":{\"data\":{\"barpolar\":[{\"marker\":{\"line\":{\"color\":\"white\",\"width\":0.5},\"pattern\":{\"fillmode\":\"overlay\",\"size\":10,\"solidity\":0.2}},\"type\":\"barpolar\"}],\"bar\":[{\"error_x\":{\"color\":\"#2a3f5f\"},\"error_y\":{\"color\":\"#2a3f5f\"},\"marker\":{\"line\":{\"color\":\"white\",\"width\":0.5},\"pattern\":{\"fillmode\":\"overlay\",\"size\":10,\"solidity\":0.2}},\"type\":\"bar\"}],\"carpet\":[{\"aaxis\":{\"endlinecolor\":\"#2a3f5f\",\"gridcolor\":\"#C8D4E3\",\"linecolor\":\"#C8D4E3\",\"minorgridcolor\":\"#C8D4E3\",\"startlinecolor\":\"#2a3f5f\"},\"baxis\":{\"endlinecolor\":\"#2a3f5f\",\"gridcolor\":\"#C8D4E3\",\"linecolor\":\"#C8D4E3\",\"minorgridcolor\":\"#C8D4E3\",\"startlinecolor\":\"#2a3f5f\"},\"type\":\"carpet\"}],\"choropleth\":[{\"colorbar\":{\"outlinewidth\":0,\"ticks\":\"\"},\"type\":\"choropleth\"}],\"contourcarpet\":[{\"colorbar\":{\"outlinewidth\":0,\"ticks\":\"\"},\"type\":\"contourcarpet\"}],\"contour\":[{\"colorbar\":{\"outlinewidth\":0,\"ticks\":\"\"},\"colorscale\":[[0.0,\"#0d0887\"],[0.1111111111111111,\"#46039f\"],[0.2222222222222222,\"#7201a8\"],[0.3333333333333333,\"#9c179e\"],[0.4444444444444444,\"#bd3786\"],[0.5555555555555556,\"#d8576b\"],[0.6666666666666666,\"#ed7953\"],[0.7777777777777778,\"#fb9f3a\"],[0.8888888888888888,\"#fdca26\"],[1.0,\"#f0f921\"]],\"type\":\"contour\"}],\"heatmapgl\":[{\"colorbar\":{\"outlinewidth\":0,\"ticks\":\"\"},\"colorscale\":[[0.0,\"#0d0887\"],[0.1111111111111111,\"#46039f\"],[0.2222222222222222,\"#7201a8\"],[0.3333333333333333,\"#9c179e\"],[0.4444444444444444,\"#bd3786\"],[0.5555555555555556,\"#d8576b\"],[0.6666666666666666,\"#ed7953\"],[0.7777777777777778,\"#fb9f3a\"],[0.8888888888888888,\"#fdca26\"],[1.0,\"#f0f921\"]],\"type\":\"heatmapgl\"}],\"heatmap\":[{\"colorbar\":{\"outlinewidth\":0,\"ticks\":\"\"},\"colorscale\":[[0.0,\"#0d0887\"],[0.1111111111111111,\"#46039f\"],[0.2222222222222222,\"#7201a8\"],[0.3333333333333333,\"#9c179e\"],[0.4444444444444444,\"#bd3786\"],[0.5555555555555556,\"#d8576b\"],[0.6666666666666666,\"#ed7953\"],[0.7777777777777778,\"#fb9f3a\"],[0.8888888888888888,\"#fdca26\"],[1.0,\"#f0f921\"]],\"type\":\"heatmap\"}],\"histogram2dcontour\":[{\"colorbar\":{\"outlinewidth\":0,\"ticks\":\"\"},\"colorscale\":[[0.0,\"#0d0887\"],[0.1111111111111111,\"#46039f\"],[0.2222222222222222,\"#7201a8\"],[0.3333333333333333,\"#9c179e\"],[0.4444444444444444,\"#bd3786\"],[0.5555555555555556,\"#d8576b\"],[0.6666666666666666,\"#ed7953\"],[0.7777777777777778,\"#fb9f3a\"],[0.8888888888888888,\"#fdca26\"],[1.0,\"#f0f921\"]],\"type\":\"histogram2dcontour\"}],\"histogram2d\":[{\"colorbar\":{\"outlinewidth\":0,\"ticks\":\"\"},\"colorscale\":[[0.0,\"#0d0887\"],[0.1111111111111111,\"#46039f\"],[0.2222222222222222,\"#7201a8\"],[0.3333333333333333,\"#9c179e\"],[0.4444444444444444,\"#bd3786\"],[0.5555555555555556,\"#d8576b\"],[0.6666666666666666,\"#ed7953\"],[0.7777777777777778,\"#fb9f3a\"],[0.8888888888888888,\"#fdca26\"],[1.0,\"#f0f921\"]],\"type\":\"histogram2d\"}],\"histogram\":[{\"marker\":{\"pattern\":{\"fillmode\":\"overlay\",\"size\":10,\"solidity\":0.2}},\"type\":\"histogram\"}],\"mesh3d\":[{\"colorbar\":{\"outlinewidth\":0,\"ticks\":\"\"},\"type\":\"mesh3d\"}],\"parcoords\":[{\"line\":{\"colorbar\":{\"outlinewidth\":0,\"ticks\":\"\"}},\"type\":\"parcoords\"}],\"pie\":[{\"automargin\":true,\"type\":\"pie\"}],\"scatter3d\":[{\"line\":{\"colorbar\":{\"outlinewidth\":0,\"ticks\":\"\"}},\"marker\":{\"colorbar\":{\"outlinewidth\":0,\"ticks\":\"\"}},\"type\":\"scatter3d\"}],\"scattercarpet\":[{\"marker\":{\"colorbar\":{\"outlinewidth\":0,\"ticks\":\"\"}},\"type\":\"scattercarpet\"}],\"scattergeo\":[{\"marker\":{\"colorbar\":{\"outlinewidth\":0,\"ticks\":\"\"}},\"type\":\"scattergeo\"}],\"scattergl\":[{\"marker\":{\"colorbar\":{\"outlinewidth\":0,\"ticks\":\"\"}},\"type\":\"scattergl\"}],\"scattermapbox\":[{\"marker\":{\"colorbar\":{\"outlinewidth\":0,\"ticks\":\"\"}},\"type\":\"scattermapbox\"}],\"scatterpolargl\":[{\"marker\":{\"colorbar\":{\"outlinewidth\":0,\"ticks\":\"\"}},\"type\":\"scatterpolargl\"}],\"scatterpolar\":[{\"marker\":{\"colorbar\":{\"outlinewidth\":0,\"ticks\":\"\"}},\"type\":\"scatterpolar\"}],\"scatter\":[{\"fillpattern\":{\"fillmode\":\"overlay\",\"size\":10,\"solidity\":0.2},\"type\":\"scatter\"}],\"scatterternary\":[{\"marker\":{\"colorbar\":{\"outlinewidth\":0,\"ticks\":\"\"}},\"type\":\"scatterternary\"}],\"surface\":[{\"colorbar\":{\"outlinewidth\":0,\"ticks\":\"\"},\"colorscale\":[[0.0,\"#0d0887\"],[0.1111111111111111,\"#46039f\"],[0.2222222222222222,\"#7201a8\"],[0.3333333333333333,\"#9c179e\"],[0.4444444444444444,\"#bd3786\"],[0.5555555555555556,\"#d8576b\"],[0.6666666666666666,\"#ed7953\"],[0.7777777777777778,\"#fb9f3a\"],[0.8888888888888888,\"#fdca26\"],[1.0,\"#f0f921\"]],\"type\":\"surface\"}],\"table\":[{\"cells\":{\"fill\":{\"color\":\"#EBF0F8\"},\"line\":{\"color\":\"white\"}},\"header\":{\"fill\":{\"color\":\"#C8D4E3\"},\"line\":{\"color\":\"white\"}},\"type\":\"table\"}]},\"layout\":{\"annotationdefaults\":{\"arrowcolor\":\"#2a3f5f\",\"arrowhead\":0,\"arrowwidth\":1},\"autotypenumbers\":\"strict\",\"coloraxis\":{\"colorbar\":{\"outlinewidth\":0,\"ticks\":\"\"}},\"colorscale\":{\"diverging\":[[0,\"#8e0152\"],[0.1,\"#c51b7d\"],[0.2,\"#de77ae\"],[0.3,\"#f1b6da\"],[0.4,\"#fde0ef\"],[0.5,\"#f7f7f7\"],[0.6,\"#e6f5d0\"],[0.7,\"#b8e186\"],[0.8,\"#7fbc41\"],[0.9,\"#4d9221\"],[1,\"#276419\"]],\"sequential\":[[0.0,\"#0d0887\"],[0.1111111111111111,\"#46039f\"],[0.2222222222222222,\"#7201a8\"],[0.3333333333333333,\"#9c179e\"],[0.4444444444444444,\"#bd3786\"],[0.5555555555555556,\"#d8576b\"],[0.6666666666666666,\"#ed7953\"],[0.7777777777777778,\"#fb9f3a\"],[0.8888888888888888,\"#fdca26\"],[1.0,\"#f0f921\"]],\"sequentialminus\":[[0.0,\"#0d0887\"],[0.1111111111111111,\"#46039f\"],[0.2222222222222222,\"#7201a8\"],[0.3333333333333333,\"#9c179e\"],[0.4444444444444444,\"#bd3786\"],[0.5555555555555556,\"#d8576b\"],[0.6666666666666666,\"#ed7953\"],[0.7777777777777778,\"#fb9f3a\"],[0.8888888888888888,\"#fdca26\"],[1.0,\"#f0f921\"]]},\"colorway\":[\"#636efa\",\"#EF553B\",\"#00cc96\",\"#ab63fa\",\"#FFA15A\",\"#19d3f3\",\"#FF6692\",\"#B6E880\",\"#FF97FF\",\"#FECB52\"],\"font\":{\"color\":\"#2a3f5f\"},\"geo\":{\"bgcolor\":\"white\",\"lakecolor\":\"white\",\"landcolor\":\"white\",\"showlakes\":true,\"showland\":true,\"subunitcolor\":\"#C8D4E3\"},\"hoverlabel\":{\"align\":\"left\"},\"hovermode\":\"closest\",\"mapbox\":{\"style\":\"light\"},\"paper_bgcolor\":\"white\",\"plot_bgcolor\":\"white\",\"polar\":{\"angularaxis\":{\"gridcolor\":\"#EBF0F8\",\"linecolor\":\"#EBF0F8\",\"ticks\":\"\"},\"bgcolor\":\"white\",\"radialaxis\":{\"gridcolor\":\"#EBF0F8\",\"linecolor\":\"#EBF0F8\",\"ticks\":\"\"}},\"scene\":{\"xaxis\":{\"backgroundcolor\":\"white\",\"gridcolor\":\"#DFE8F3\",\"gridwidth\":2,\"linecolor\":\"#EBF0F8\",\"showbackground\":true,\"ticks\":\"\",\"zerolinecolor\":\"#EBF0F8\"},\"yaxis\":{\"backgroundcolor\":\"white\",\"gridcolor\":\"#DFE8F3\",\"gridwidth\":2,\"linecolor\":\"#EBF0F8\",\"showbackground\":true,\"ticks\":\"\",\"zerolinecolor\":\"#EBF0F8\"},\"zaxis\":{\"backgroundcolor\":\"white\",\"gridcolor\":\"#DFE8F3\",\"gridwidth\":2,\"linecolor\":\"#EBF0F8\",\"showbackground\":true,\"ticks\":\"\",\"zerolinecolor\":\"#EBF0F8\"}},\"shapedefaults\":{\"line\":{\"color\":\"#2a3f5f\"}},\"ternary\":{\"aaxis\":{\"gridcolor\":\"#DFE8F3\",\"linecolor\":\"#A2B1C6\",\"ticks\":\"\"},\"baxis\":{\"gridcolor\":\"#DFE8F3\",\"linecolor\":\"#A2B1C6\",\"ticks\":\"\"},\"bgcolor\":\"white\",\"caxis\":{\"gridcolor\":\"#DFE8F3\",\"linecolor\":\"#A2B1C6\",\"ticks\":\"\"}},\"title\":{\"x\":0.05},\"xaxis\":{\"automargin\":true,\"gridcolor\":\"#EBF0F8\",\"linecolor\":\"#EBF0F8\",\"ticks\":\"\",\"title\":{\"standoff\":15},\"zerolinecolor\":\"#EBF0F8\",\"zerolinewidth\":2},\"yaxis\":{\"automargin\":true,\"gridcolor\":\"#EBF0F8\",\"linecolor\":\"#EBF0F8\",\"ticks\":\"\",\"title\":{\"standoff\":15},\"zerolinecolor\":\"#EBF0F8\",\"zerolinewidth\":2}}},\"xaxis\":{\"title\":{\"font\":{\"weight\":\"bold\",\"color\":\"black\"}},\"tickangle\":90,\"tickfont\":{\"family\":\"Arial\",\"size\":13,\"color\":\"black\",\"weight\":\"bold\"}},\"height\":900,\"width\":800,\"yaxis\":{\"tickfont\":{\"family\":\"Arial\",\"size\":13,\"color\":\"black\",\"weight\":\"bold\"}},\"shapes\":[{\"line\":{\"color\":\"black\",\"width\":1.5},\"type\":\"line\",\"x0\":-0.5,\"x1\":-0.5,\"y0\":-0.5,\"y1\":6.5},{\"line\":{\"color\":\"black\",\"width\":3},\"type\":\"line\",\"x0\":-0.5,\"x1\":9.5,\"y0\":0.5,\"y1\":0.5},{\"line\":{\"color\":\"black\",\"width\":1.5},\"type\":\"line\",\"x0\":0.5,\"x1\":0.5,\"y0\":-0.5,\"y1\":6.5},{\"line\":{\"color\":\"black\",\"width\":3},\"type\":\"line\",\"x0\":-0.5,\"x1\":9.5,\"y0\":0.5,\"y1\":0.5},{\"line\":{\"color\":\"black\",\"width\":3},\"type\":\"line\",\"x0\":-0.5,\"x1\":9.5,\"y0\":0.5,\"y1\":0.5},{\"line\":{\"color\":\"black\",\"width\":1.5},\"type\":\"line\",\"x0\":2.5,\"x1\":2.5,\"y0\":-0.5,\"y1\":6.5},{\"line\":{\"color\":\"black\",\"width\":3},\"type\":\"line\",\"x0\":-0.5,\"x1\":9.5,\"y0\":0.5,\"y1\":0.5},{\"line\":{\"color\":\"black\",\"width\":3},\"type\":\"line\",\"x0\":-0.5,\"x1\":9.5,\"y0\":0.5,\"y1\":0.5},{\"line\":{\"color\":\"black\",\"width\":1.5},\"type\":\"line\",\"x0\":4.5,\"x1\":4.5,\"y0\":-0.5,\"y1\":6.5},{\"line\":{\"color\":\"black\",\"width\":3},\"type\":\"line\",\"x0\":-0.5,\"x1\":9.5,\"y0\":0.5,\"y1\":0.5},{\"line\":{\"color\":\"black\",\"width\":3},\"type\":\"line\",\"x0\":-0.5,\"x1\":9.5,\"y0\":0.5,\"y1\":0.5},{\"line\":{\"color\":\"black\",\"width\":1.5},\"type\":\"line\",\"x0\":6.5,\"x1\":6.5,\"y0\":-0.5,\"y1\":6.5},{\"line\":{\"color\":\"black\",\"width\":3},\"type\":\"line\",\"x0\":-0.5,\"x1\":9.5,\"y0\":0.5,\"y1\":0.5},{\"line\":{\"color\":\"black\",\"width\":3},\"type\":\"line\",\"x0\":-0.5,\"x1\":9.5,\"y0\":0.5,\"y1\":0.5},{\"line\":{\"color\":\"black\",\"width\":3},\"type\":\"line\",\"x0\":8.5,\"x1\":8.5,\"y0\":-0.5,\"y1\":6.5},{\"line\":{\"color\":\"black\",\"width\":3},\"type\":\"line\",\"x0\":-0.5,\"x1\":9.5,\"y0\":0.5,\"y1\":0.5},{\"line\":{\"color\":\"black\",\"width\":1.5},\"type\":\"line\",\"x0\":9.5,\"x1\":9.5,\"y0\":-0.5,\"y1\":6.5},{\"line\":{\"color\":\"black\",\"width\":3},\"type\":\"line\",\"x0\":-0.5,\"x1\":9.5,\"y0\":0.5,\"y1\":0.5}],\"margin\":{\"b\":180},\"annotations\":[{\"align\":\"center\",\"font\":{\"color\":\"black\",\"family\":\"Arial\",\"size\":14,\"weight\":\"bold\"},\"showarrow\":false,\"text\":\"|\\u2009               System                |                    Knowledge                    |\\u200a          Social        \\u200a|              |\",\"x\":0.5,\"xref\":\"paper\",\"y\":-0.25,\"yref\":\"paper\"}]},                        {\"responsive\": true}                    ).then(function(){\n",
       "                            \n",
       "var gd = document.getElementById('0155b7f6-f004-4f48-b35b-7a20ef025d6d');\n",
       "var x = new MutationObserver(function (mutations, observer) {{\n",
       "        var display = window.getComputedStyle(gd).display;\n",
       "        if (!display || display === 'none') {{\n",
       "            console.log([gd, 'removed!']);\n",
       "            Plotly.purge(gd);\n",
       "            observer.disconnect();\n",
       "        }}\n",
       "}});\n",
       "\n",
       "// Listen for the removal of the full notebook cells\n",
       "var notebookContainer = gd.closest('#notebook-container');\n",
       "if (notebookContainer) {{\n",
       "    x.observe(notebookContainer, {childList: true});\n",
       "}}\n",
       "\n",
       "// Listen for the clearing of the current output cell\n",
       "var outputEl = gd.closest('.output');\n",
       "if (outputEl) {{\n",
       "    x.observe(outputEl, {childList: true});\n",
       "}}\n",
       "\n",
       "                        })                };                });            </script>        </div>"
      ]
     },
     "metadata": {},
     "output_type": "display_data"
    },
    {
     "data": {
      "application/vnd.plotly.v1+json": {
       "data": [
        {
         "colorbar": {
          "tickformat": ".0%"
         },
         "colorscale": [
          [
           0.0,
           "#fcffa4"
          ],
          [
           0.1111111111111111,
           "#f7d13d"
          ],
          [
           0.2222222222222222,
           "#fb9b06"
          ],
          [
           0.3333333333333333,
           "#ed6925"
          ],
          [
           0.4444444444444444,
           "#cf4446"
          ],
          [
           0.5555555555555556,
           "#a52c60"
          ],
          [
           0.6666666666666666,
           "#781c6d"
          ],
          [
           0.7777777777777778,
           "#4a0c6b"
          ],
          [
           0.8888888888888888,
           "#1b0c41"
          ],
          [
           1.0,
           "#000004"
          ]
         ],
         "texttemplate": "%{z:.0%}",
         "x": [
          [
           "Mode",
           "Mode",
           "Mode",
           "Time",
           "Time",
           "Granularity",
           "Granularity",
           " ",
           "  ",
           "⁢"
          ],
          [
           "Fully-automatic",
           "Semi-automatic",
           "Manually",
           "Immediate",
           "Deferred",
           "Task",
           "Goal",
           "Adjustability",
           "Verification",
           "Average"
          ]
         ],
         "xgap": 2,
         "y": [
          "Average ",
          "General ",
          "Finance ",
          "Productivity ",
          "Wellbeing ",
          "Learning ",
          "Sustainability "
         ],
         "ygap": 2,
         "z": [
          [
           0.21676112558465502,
           0.3209895768719298,
           0.6522563493151728,
           0.577686855628032,
           0.6458460929049165,
           0.8158338937750701,
           0.3006731830261242,
           0.2738056605703665,
           0.09024385200855789,
           0.43267739885386947
          ],
          [
           0.03636363636363636,
           0.2909090909090909,
           0.8363636363636363,
           0.38181818181818183,
           0.8363636363636363,
           0.6727272727272727,
           0.45454545454545453,
           0.4909090909090909,
           0.03636363636363636,
           0.4484848484848485
          ],
          [
           0.0,
           0.5714285714285714,
           1.0,
           0.42857142857142855,
           1.0,
           0.8571428571428571,
           0.14285714285714285,
           0.42857142857142855,
           0.14285714285714285,
           0.507936507936508
          ],
          [
           0.29411764705882354,
           0.5294117647058824,
           0.23529411764705882,
           0.7647058823529411,
           0.23529411764705882,
           0.7647058823529411,
           0.4117647058823529,
           0.058823529411764705,
           0.058823529411764705,
           0.3725490196078431
          ],
          [
           0.19230769230769232,
           0.4230769230769231,
           0.7307692307692307,
           0.5576923076923077,
           0.6923076923076923,
           0.7115384615384616,
           0.46153846153846156,
           0.4423076923076923,
           0.19230769230769232,
           0.48931623931623935
          ],
          [
           0.7777777777777778,
           0.0,
           0.2222222222222222,
           0.7777777777777778,
           0.3333333333333333,
           1.0,
           0.1111111111111111,
           0.1111111111111111,
           0.1111111111111111,
           0.38271604938271603
          ],
          [
           0.0,
           0.1111111111111111,
           0.8888888888888888,
           0.5555555555555556,
           0.7777777777777778,
           0.8888888888888888,
           0.2222222222222222,
           0.1111111111111111,
           0.0,
           0.3950617283950617
          ]
         ],
         "zmax": 1,
         "zmin": 0,
         "type": "heatmap"
        }
       ],
       "layout": {
        "template": {
         "data": {
          "barpolar": [
           {
            "marker": {
             "line": {
              "color": "white",
              "width": 0.5
             },
             "pattern": {
              "fillmode": "overlay",
              "size": 10,
              "solidity": 0.2
             }
            },
            "type": "barpolar"
           }
          ],
          "bar": [
           {
            "error_x": {
             "color": "#2a3f5f"
            },
            "error_y": {
             "color": "#2a3f5f"
            },
            "marker": {
             "line": {
              "color": "white",
              "width": 0.5
             },
             "pattern": {
              "fillmode": "overlay",
              "size": 10,
              "solidity": 0.2
             }
            },
            "type": "bar"
           }
          ],
          "carpet": [
           {
            "aaxis": {
             "endlinecolor": "#2a3f5f",
             "gridcolor": "#C8D4E3",
             "linecolor": "#C8D4E3",
             "minorgridcolor": "#C8D4E3",
             "startlinecolor": "#2a3f5f"
            },
            "baxis": {
             "endlinecolor": "#2a3f5f",
             "gridcolor": "#C8D4E3",
             "linecolor": "#C8D4E3",
             "minorgridcolor": "#C8D4E3",
             "startlinecolor": "#2a3f5f"
            },
            "type": "carpet"
           }
          ],
          "choropleth": [
           {
            "colorbar": {
             "outlinewidth": 0,
             "ticks": ""
            },
            "type": "choropleth"
           }
          ],
          "contourcarpet": [
           {
            "colorbar": {
             "outlinewidth": 0,
             "ticks": ""
            },
            "type": "contourcarpet"
           }
          ],
          "contour": [
           {
            "colorbar": {
             "outlinewidth": 0,
             "ticks": ""
            },
            "colorscale": [
             [
              0.0,
              "#0d0887"
             ],
             [
              0.1111111111111111,
              "#46039f"
             ],
             [
              0.2222222222222222,
              "#7201a8"
             ],
             [
              0.3333333333333333,
              "#9c179e"
             ],
             [
              0.4444444444444444,
              "#bd3786"
             ],
             [
              0.5555555555555556,
              "#d8576b"
             ],
             [
              0.6666666666666666,
              "#ed7953"
             ],
             [
              0.7777777777777778,
              "#fb9f3a"
             ],
             [
              0.8888888888888888,
              "#fdca26"
             ],
             [
              1.0,
              "#f0f921"
             ]
            ],
            "type": "contour"
           }
          ],
          "heatmapgl": [
           {
            "colorbar": {
             "outlinewidth": 0,
             "ticks": ""
            },
            "colorscale": [
             [
              0.0,
              "#0d0887"
             ],
             [
              0.1111111111111111,
              "#46039f"
             ],
             [
              0.2222222222222222,
              "#7201a8"
             ],
             [
              0.3333333333333333,
              "#9c179e"
             ],
             [
              0.4444444444444444,
              "#bd3786"
             ],
             [
              0.5555555555555556,
              "#d8576b"
             ],
             [
              0.6666666666666666,
              "#ed7953"
             ],
             [
              0.7777777777777778,
              "#fb9f3a"
             ],
             [
              0.8888888888888888,
              "#fdca26"
             ],
             [
              1.0,
              "#f0f921"
             ]
            ],
            "type": "heatmapgl"
           }
          ],
          "heatmap": [
           {
            "colorbar": {
             "outlinewidth": 0,
             "ticks": ""
            },
            "colorscale": [
             [
              0.0,
              "#0d0887"
             ],
             [
              0.1111111111111111,
              "#46039f"
             ],
             [
              0.2222222222222222,
              "#7201a8"
             ],
             [
              0.3333333333333333,
              "#9c179e"
             ],
             [
              0.4444444444444444,
              "#bd3786"
             ],
             [
              0.5555555555555556,
              "#d8576b"
             ],
             [
              0.6666666666666666,
              "#ed7953"
             ],
             [
              0.7777777777777778,
              "#fb9f3a"
             ],
             [
              0.8888888888888888,
              "#fdca26"
             ],
             [
              1.0,
              "#f0f921"
             ]
            ],
            "type": "heatmap"
           }
          ],
          "histogram2dcontour": [
           {
            "colorbar": {
             "outlinewidth": 0,
             "ticks": ""
            },
            "colorscale": [
             [
              0.0,
              "#0d0887"
             ],
             [
              0.1111111111111111,
              "#46039f"
             ],
             [
              0.2222222222222222,
              "#7201a8"
             ],
             [
              0.3333333333333333,
              "#9c179e"
             ],
             [
              0.4444444444444444,
              "#bd3786"
             ],
             [
              0.5555555555555556,
              "#d8576b"
             ],
             [
              0.6666666666666666,
              "#ed7953"
             ],
             [
              0.7777777777777778,
              "#fb9f3a"
             ],
             [
              0.8888888888888888,
              "#fdca26"
             ],
             [
              1.0,
              "#f0f921"
             ]
            ],
            "type": "histogram2dcontour"
           }
          ],
          "histogram2d": [
           {
            "colorbar": {
             "outlinewidth": 0,
             "ticks": ""
            },
            "colorscale": [
             [
              0.0,
              "#0d0887"
             ],
             [
              0.1111111111111111,
              "#46039f"
             ],
             [
              0.2222222222222222,
              "#7201a8"
             ],
             [
              0.3333333333333333,
              "#9c179e"
             ],
             [
              0.4444444444444444,
              "#bd3786"
             ],
             [
              0.5555555555555556,
              "#d8576b"
             ],
             [
              0.6666666666666666,
              "#ed7953"
             ],
             [
              0.7777777777777778,
              "#fb9f3a"
             ],
             [
              0.8888888888888888,
              "#fdca26"
             ],
             [
              1.0,
              "#f0f921"
             ]
            ],
            "type": "histogram2d"
           }
          ],
          "histogram": [
           {
            "marker": {
             "pattern": {
              "fillmode": "overlay",
              "size": 10,
              "solidity": 0.2
             }
            },
            "type": "histogram"
           }
          ],
          "mesh3d": [
           {
            "colorbar": {
             "outlinewidth": 0,
             "ticks": ""
            },
            "type": "mesh3d"
           }
          ],
          "parcoords": [
           {
            "line": {
             "colorbar": {
              "outlinewidth": 0,
              "ticks": ""
             }
            },
            "type": "parcoords"
           }
          ],
          "pie": [
           {
            "automargin": true,
            "type": "pie"
           }
          ],
          "scatter3d": [
           {
            "line": {
             "colorbar": {
              "outlinewidth": 0,
              "ticks": ""
             }
            },
            "marker": {
             "colorbar": {
              "outlinewidth": 0,
              "ticks": ""
             }
            },
            "type": "scatter3d"
           }
          ],
          "scattercarpet": [
           {
            "marker": {
             "colorbar": {
              "outlinewidth": 0,
              "ticks": ""
             }
            },
            "type": "scattercarpet"
           }
          ],
          "scattergeo": [
           {
            "marker": {
             "colorbar": {
              "outlinewidth": 0,
              "ticks": ""
             }
            },
            "type": "scattergeo"
           }
          ],
          "scattergl": [
           {
            "marker": {
             "colorbar": {
              "outlinewidth": 0,
              "ticks": ""
             }
            },
            "type": "scattergl"
           }
          ],
          "scattermapbox": [
           {
            "marker": {
             "colorbar": {
              "outlinewidth": 0,
              "ticks": ""
             }
            },
            "type": "scattermapbox"
           }
          ],
          "scatterpolargl": [
           {
            "marker": {
             "colorbar": {
              "outlinewidth": 0,
              "ticks": ""
             }
            },
            "type": "scatterpolargl"
           }
          ],
          "scatterpolar": [
           {
            "marker": {
             "colorbar": {
              "outlinewidth": 0,
              "ticks": ""
             }
            },
            "type": "scatterpolar"
           }
          ],
          "scatter": [
           {
            "fillpattern": {
             "fillmode": "overlay",
             "size": 10,
             "solidity": 0.2
            },
            "type": "scatter"
           }
          ],
          "scatterternary": [
           {
            "marker": {
             "colorbar": {
              "outlinewidth": 0,
              "ticks": ""
             }
            },
            "type": "scatterternary"
           }
          ],
          "surface": [
           {
            "colorbar": {
             "outlinewidth": 0,
             "ticks": ""
            },
            "colorscale": [
             [
              0.0,
              "#0d0887"
             ],
             [
              0.1111111111111111,
              "#46039f"
             ],
             [
              0.2222222222222222,
              "#7201a8"
             ],
             [
              0.3333333333333333,
              "#9c179e"
             ],
             [
              0.4444444444444444,
              "#bd3786"
             ],
             [
              0.5555555555555556,
              "#d8576b"
             ],
             [
              0.6666666666666666,
              "#ed7953"
             ],
             [
              0.7777777777777778,
              "#fb9f3a"
             ],
             [
              0.8888888888888888,
              "#fdca26"
             ],
             [
              1.0,
              "#f0f921"
             ]
            ],
            "type": "surface"
           }
          ],
          "table": [
           {
            "cells": {
             "fill": {
              "color": "#EBF0F8"
             },
             "line": {
              "color": "white"
             }
            },
            "header": {
             "fill": {
              "color": "#C8D4E3"
             },
             "line": {
              "color": "white"
             }
            },
            "type": "table"
           }
          ]
         },
         "layout": {
          "annotationdefaults": {
           "arrowcolor": "#2a3f5f",
           "arrowhead": 0,
           "arrowwidth": 1
          },
          "autotypenumbers": "strict",
          "coloraxis": {
           "colorbar": {
            "outlinewidth": 0,
            "ticks": ""
           }
          },
          "colorscale": {
           "diverging": [
            [
             0,
             "#8e0152"
            ],
            [
             0.1,
             "#c51b7d"
            ],
            [
             0.2,
             "#de77ae"
            ],
            [
             0.3,
             "#f1b6da"
            ],
            [
             0.4,
             "#fde0ef"
            ],
            [
             0.5,
             "#f7f7f7"
            ],
            [
             0.6,
             "#e6f5d0"
            ],
            [
             0.7,
             "#b8e186"
            ],
            [
             0.8,
             "#7fbc41"
            ],
            [
             0.9,
             "#4d9221"
            ],
            [
             1,
             "#276419"
            ]
           ],
           "sequential": [
            [
             0.0,
             "#0d0887"
            ],
            [
             0.1111111111111111,
             "#46039f"
            ],
            [
             0.2222222222222222,
             "#7201a8"
            ],
            [
             0.3333333333333333,
             "#9c179e"
            ],
            [
             0.4444444444444444,
             "#bd3786"
            ],
            [
             0.5555555555555556,
             "#d8576b"
            ],
            [
             0.6666666666666666,
             "#ed7953"
            ],
            [
             0.7777777777777778,
             "#fb9f3a"
            ],
            [
             0.8888888888888888,
             "#fdca26"
            ],
            [
             1.0,
             "#f0f921"
            ]
           ],
           "sequentialminus": [
            [
             0.0,
             "#0d0887"
            ],
            [
             0.1111111111111111,
             "#46039f"
            ],
            [
             0.2222222222222222,
             "#7201a8"
            ],
            [
             0.3333333333333333,
             "#9c179e"
            ],
            [
             0.4444444444444444,
             "#bd3786"
            ],
            [
             0.5555555555555556,
             "#d8576b"
            ],
            [
             0.6666666666666666,
             "#ed7953"
            ],
            [
             0.7777777777777778,
             "#fb9f3a"
            ],
            [
             0.8888888888888888,
             "#fdca26"
            ],
            [
             1.0,
             "#f0f921"
            ]
           ]
          },
          "colorway": [
           "#636efa",
           "#EF553B",
           "#00cc96",
           "#ab63fa",
           "#FFA15A",
           "#19d3f3",
           "#FF6692",
           "#B6E880",
           "#FF97FF",
           "#FECB52"
          ],
          "font": {
           "color": "#2a3f5f"
          },
          "geo": {
           "bgcolor": "white",
           "lakecolor": "white",
           "landcolor": "white",
           "showlakes": true,
           "showland": true,
           "subunitcolor": "#C8D4E3"
          },
          "hoverlabel": {
           "align": "left"
          },
          "hovermode": "closest",
          "mapbox": {
           "style": "light"
          },
          "paper_bgcolor": "white",
          "plot_bgcolor": "white",
          "polar": {
           "angularaxis": {
            "gridcolor": "#EBF0F8",
            "linecolor": "#EBF0F8",
            "ticks": ""
           },
           "bgcolor": "white",
           "radialaxis": {
            "gridcolor": "#EBF0F8",
            "linecolor": "#EBF0F8",
            "ticks": ""
           }
          },
          "scene": {
           "xaxis": {
            "backgroundcolor": "white",
            "gridcolor": "#DFE8F3",
            "gridwidth": 2,
            "linecolor": "#EBF0F8",
            "showbackground": true,
            "ticks": "",
            "zerolinecolor": "#EBF0F8"
           },
           "yaxis": {
            "backgroundcolor": "white",
            "gridcolor": "#DFE8F3",
            "gridwidth": 2,
            "linecolor": "#EBF0F8",
            "showbackground": true,
            "ticks": "",
            "zerolinecolor": "#EBF0F8"
           },
           "zaxis": {
            "backgroundcolor": "white",
            "gridcolor": "#DFE8F3",
            "gridwidth": 2,
            "linecolor": "#EBF0F8",
            "showbackground": true,
            "ticks": "",
            "zerolinecolor": "#EBF0F8"
           }
          },
          "shapedefaults": {
           "line": {
            "color": "#2a3f5f"
           }
          },
          "ternary": {
           "aaxis": {
            "gridcolor": "#DFE8F3",
            "linecolor": "#A2B1C6",
            "ticks": ""
           },
           "baxis": {
            "gridcolor": "#DFE8F3",
            "linecolor": "#A2B1C6",
            "ticks": ""
           },
           "bgcolor": "white",
           "caxis": {
            "gridcolor": "#DFE8F3",
            "linecolor": "#A2B1C6",
            "ticks": ""
           }
          },
          "title": {
           "x": 0.05
          },
          "xaxis": {
           "automargin": true,
           "gridcolor": "#EBF0F8",
           "linecolor": "#EBF0F8",
           "ticks": "",
           "title": {
            "standoff": 15
           },
           "zerolinecolor": "#EBF0F8",
           "zerolinewidth": 2
          },
          "yaxis": {
           "automargin": true,
           "gridcolor": "#EBF0F8",
           "linecolor": "#EBF0F8",
           "ticks": "",
           "title": {
            "standoff": 15
           },
           "zerolinecolor": "#EBF0F8",
           "zerolinewidth": 2
          }
         }
        },
        "xaxis": {
         "title": {
          "font": {
           "weight": "bold",
           "color": "black"
          }
         },
         "tickangle": 90,
         "tickfont": {
          "family": "Arial",
          "size": 13,
          "color": "black",
          "weight": "bold"
         }
        },
        "height": 900,
        "width": 800,
        "yaxis": {
         "tickfont": {
          "family": "Arial",
          "size": 13,
          "color": "black",
          "weight": "bold"
         }
        },
        "shapes": [
         {
          "line": {
           "color": "black",
           "width": 1.5
          },
          "type": "line",
          "x0": -0.5,
          "x1": -0.5,
          "y0": -0.5,
          "y1": 6.5
         },
         {
          "line": {
           "color": "black",
           "width": 3
          },
          "type": "line",
          "x0": -0.5,
          "x1": 9.5,
          "y0": 0.5,
          "y1": 0.5
         },
         {
          "line": {
           "color": "black",
           "width": 3
          },
          "type": "line",
          "x0": -0.5,
          "x1": 9.5,
          "y0": 0.5,
          "y1": 0.5
         },
         {
          "line": {
           "color": "black",
           "width": 3
          },
          "type": "line",
          "x0": -0.5,
          "x1": 9.5,
          "y0": 0.5,
          "y1": 0.5
         },
         {
          "line": {
           "color": "black",
           "width": 1.5
          },
          "type": "line",
          "x0": 2.5,
          "x1": 2.5,
          "y0": -0.5,
          "y1": 6.5
         },
         {
          "line": {
           "color": "black",
           "width": 3
          },
          "type": "line",
          "x0": -0.5,
          "x1": 9.5,
          "y0": 0.5,
          "y1": 0.5
         },
         {
          "line": {
           "color": "black",
           "width": 3
          },
          "type": "line",
          "x0": -0.5,
          "x1": 9.5,
          "y0": 0.5,
          "y1": 0.5
         },
         {
          "line": {
           "color": "black",
           "width": 1.5
          },
          "type": "line",
          "x0": 4.5,
          "x1": 4.5,
          "y0": -0.5,
          "y1": 6.5
         },
         {
          "line": {
           "color": "black",
           "width": 3
          },
          "type": "line",
          "x0": -0.5,
          "x1": 9.5,
          "y0": 0.5,
          "y1": 0.5
         },
         {
          "line": {
           "color": "black",
           "width": 3
          },
          "type": "line",
          "x0": -0.5,
          "x1": 9.5,
          "y0": 0.5,
          "y1": 0.5
         },
         {
          "line": {
           "color": "black",
           "width": 1.5
          },
          "type": "line",
          "x0": 6.5,
          "x1": 6.5,
          "y0": -0.5,
          "y1": 6.5
         },
         {
          "line": {
           "color": "black",
           "width": 3
          },
          "type": "line",
          "x0": -0.5,
          "x1": 9.5,
          "y0": 0.5,
          "y1": 0.5
         },
         {
          "line": {
           "color": "black",
           "width": 1.5
          },
          "type": "line",
          "x0": 7.5,
          "x1": 7.5,
          "y0": -0.5,
          "y1": 6.5
         },
         {
          "line": {
           "color": "black",
           "width": 3
          },
          "type": "line",
          "x0": -0.5,
          "x1": 9.5,
          "y0": 0.5,
          "y1": 0.5
         },
         {
          "line": {
           "color": "black",
           "width": 3
          },
          "type": "line",
          "x0": 8.5,
          "x1": 8.5,
          "y0": -0.5,
          "y1": 6.5
         },
         {
          "line": {
           "color": "black",
           "width": 3
          },
          "type": "line",
          "x0": -0.5,
          "x1": 9.5,
          "y0": 0.5,
          "y1": 0.5
         },
         {
          "line": {
           "color": "black",
           "width": 1.5
          },
          "type": "line",
          "x0": 9.5,
          "x1": 9.5,
          "y0": -0.5,
          "y1": 6.5
         },
         {
          "line": {
           "color": "black",
           "width": 3
          },
          "type": "line",
          "x0": -0.5,
          "x1": 9.5,
          "y0": 0.5,
          "y1": 0.5
         }
        ],
        "margin": {
         "b": 180
        }
       },
       "config": {
        "plotlyServerURL": "https://plot.ly"
       }
      },
      "text/html": [
       "<div>                            <div id=\"ed629c19-ecf9-4197-bbd3-9de86f12c730\" class=\"plotly-graph-div\" style=\"height:900px; width:800px;\"></div>            <script type=\"text/javascript\">                require([\"plotly\"], function(Plotly) {                    window.PLOTLYENV=window.PLOTLYENV || {};                                    if (document.getElementById(\"ed629c19-ecf9-4197-bbd3-9de86f12c730\")) {                    Plotly.newPlot(                        \"ed629c19-ecf9-4197-bbd3-9de86f12c730\",                        [{\"colorbar\":{\"tickformat\":\".0%\"},\"colorscale\":[[0.0,\"#fcffa4\"],[0.1111111111111111,\"#f7d13d\"],[0.2222222222222222,\"#fb9b06\"],[0.3333333333333333,\"#ed6925\"],[0.4444444444444444,\"#cf4446\"],[0.5555555555555556,\"#a52c60\"],[0.6666666666666666,\"#781c6d\"],[0.7777777777777778,\"#4a0c6b\"],[0.8888888888888888,\"#1b0c41\"],[1.0,\"#000004\"]],\"texttemplate\":\"%{z:.0%}\",\"x\":[[\"Mode\",\"Mode\",\"Mode\",\"Time\",\"Time\",\"Granularity\",\"Granularity\",\" \",\"  \",\"\\u2062\"],[\"Fully-automatic\",\"Semi-automatic\",\"Manually\",\"Immediate\",\"Deferred\",\"Task\",\"Goal\",\"Adjustability\",\"Verification\",\"Average\"]],\"xgap\":2,\"y\":[\"Average \",\"General \",\"Finance \",\"Productivity \",\"Wellbeing \",\"Learning \",\"Sustainability \"],\"ygap\":2,\"z\":[[0.21676112558465502,0.3209895768719298,0.6522563493151728,0.577686855628032,0.6458460929049165,0.8158338937750701,0.3006731830261242,0.2738056605703665,0.09024385200855789,0.43267739885386947],[0.03636363636363636,0.2909090909090909,0.8363636363636363,0.38181818181818183,0.8363636363636363,0.6727272727272727,0.45454545454545453,0.4909090909090909,0.03636363636363636,0.4484848484848485],[0.0,0.5714285714285714,1.0,0.42857142857142855,1.0,0.8571428571428571,0.14285714285714285,0.42857142857142855,0.14285714285714285,0.507936507936508],[0.29411764705882354,0.5294117647058824,0.23529411764705882,0.7647058823529411,0.23529411764705882,0.7647058823529411,0.4117647058823529,0.058823529411764705,0.058823529411764705,0.3725490196078431],[0.19230769230769232,0.4230769230769231,0.7307692307692307,0.5576923076923077,0.6923076923076923,0.7115384615384616,0.46153846153846156,0.4423076923076923,0.19230769230769232,0.48931623931623935],[0.7777777777777778,0.0,0.2222222222222222,0.7777777777777778,0.3333333333333333,1.0,0.1111111111111111,0.1111111111111111,0.1111111111111111,0.38271604938271603],[0.0,0.1111111111111111,0.8888888888888888,0.5555555555555556,0.7777777777777778,0.8888888888888888,0.2222222222222222,0.1111111111111111,0.0,0.3950617283950617]],\"zmax\":1,\"zmin\":0,\"type\":\"heatmap\"}],                        {\"template\":{\"data\":{\"barpolar\":[{\"marker\":{\"line\":{\"color\":\"white\",\"width\":0.5},\"pattern\":{\"fillmode\":\"overlay\",\"size\":10,\"solidity\":0.2}},\"type\":\"barpolar\"}],\"bar\":[{\"error_x\":{\"color\":\"#2a3f5f\"},\"error_y\":{\"color\":\"#2a3f5f\"},\"marker\":{\"line\":{\"color\":\"white\",\"width\":0.5},\"pattern\":{\"fillmode\":\"overlay\",\"size\":10,\"solidity\":0.2}},\"type\":\"bar\"}],\"carpet\":[{\"aaxis\":{\"endlinecolor\":\"#2a3f5f\",\"gridcolor\":\"#C8D4E3\",\"linecolor\":\"#C8D4E3\",\"minorgridcolor\":\"#C8D4E3\",\"startlinecolor\":\"#2a3f5f\"},\"baxis\":{\"endlinecolor\":\"#2a3f5f\",\"gridcolor\":\"#C8D4E3\",\"linecolor\":\"#C8D4E3\",\"minorgridcolor\":\"#C8D4E3\",\"startlinecolor\":\"#2a3f5f\"},\"type\":\"carpet\"}],\"choropleth\":[{\"colorbar\":{\"outlinewidth\":0,\"ticks\":\"\"},\"type\":\"choropleth\"}],\"contourcarpet\":[{\"colorbar\":{\"outlinewidth\":0,\"ticks\":\"\"},\"type\":\"contourcarpet\"}],\"contour\":[{\"colorbar\":{\"outlinewidth\":0,\"ticks\":\"\"},\"colorscale\":[[0.0,\"#0d0887\"],[0.1111111111111111,\"#46039f\"],[0.2222222222222222,\"#7201a8\"],[0.3333333333333333,\"#9c179e\"],[0.4444444444444444,\"#bd3786\"],[0.5555555555555556,\"#d8576b\"],[0.6666666666666666,\"#ed7953\"],[0.7777777777777778,\"#fb9f3a\"],[0.8888888888888888,\"#fdca26\"],[1.0,\"#f0f921\"]],\"type\":\"contour\"}],\"heatmapgl\":[{\"colorbar\":{\"outlinewidth\":0,\"ticks\":\"\"},\"colorscale\":[[0.0,\"#0d0887\"],[0.1111111111111111,\"#46039f\"],[0.2222222222222222,\"#7201a8\"],[0.3333333333333333,\"#9c179e\"],[0.4444444444444444,\"#bd3786\"],[0.5555555555555556,\"#d8576b\"],[0.6666666666666666,\"#ed7953\"],[0.7777777777777778,\"#fb9f3a\"],[0.8888888888888888,\"#fdca26\"],[1.0,\"#f0f921\"]],\"type\":\"heatmapgl\"}],\"heatmap\":[{\"colorbar\":{\"outlinewidth\":0,\"ticks\":\"\"},\"colorscale\":[[0.0,\"#0d0887\"],[0.1111111111111111,\"#46039f\"],[0.2222222222222222,\"#7201a8\"],[0.3333333333333333,\"#9c179e\"],[0.4444444444444444,\"#bd3786\"],[0.5555555555555556,\"#d8576b\"],[0.6666666666666666,\"#ed7953\"],[0.7777777777777778,\"#fb9f3a\"],[0.8888888888888888,\"#fdca26\"],[1.0,\"#f0f921\"]],\"type\":\"heatmap\"}],\"histogram2dcontour\":[{\"colorbar\":{\"outlinewidth\":0,\"ticks\":\"\"},\"colorscale\":[[0.0,\"#0d0887\"],[0.1111111111111111,\"#46039f\"],[0.2222222222222222,\"#7201a8\"],[0.3333333333333333,\"#9c179e\"],[0.4444444444444444,\"#bd3786\"],[0.5555555555555556,\"#d8576b\"],[0.6666666666666666,\"#ed7953\"],[0.7777777777777778,\"#fb9f3a\"],[0.8888888888888888,\"#fdca26\"],[1.0,\"#f0f921\"]],\"type\":\"histogram2dcontour\"}],\"histogram2d\":[{\"colorbar\":{\"outlinewidth\":0,\"ticks\":\"\"},\"colorscale\":[[0.0,\"#0d0887\"],[0.1111111111111111,\"#46039f\"],[0.2222222222222222,\"#7201a8\"],[0.3333333333333333,\"#9c179e\"],[0.4444444444444444,\"#bd3786\"],[0.5555555555555556,\"#d8576b\"],[0.6666666666666666,\"#ed7953\"],[0.7777777777777778,\"#fb9f3a\"],[0.8888888888888888,\"#fdca26\"],[1.0,\"#f0f921\"]],\"type\":\"histogram2d\"}],\"histogram\":[{\"marker\":{\"pattern\":{\"fillmode\":\"overlay\",\"size\":10,\"solidity\":0.2}},\"type\":\"histogram\"}],\"mesh3d\":[{\"colorbar\":{\"outlinewidth\":0,\"ticks\":\"\"},\"type\":\"mesh3d\"}],\"parcoords\":[{\"line\":{\"colorbar\":{\"outlinewidth\":0,\"ticks\":\"\"}},\"type\":\"parcoords\"}],\"pie\":[{\"automargin\":true,\"type\":\"pie\"}],\"scatter3d\":[{\"line\":{\"colorbar\":{\"outlinewidth\":0,\"ticks\":\"\"}},\"marker\":{\"colorbar\":{\"outlinewidth\":0,\"ticks\":\"\"}},\"type\":\"scatter3d\"}],\"scattercarpet\":[{\"marker\":{\"colorbar\":{\"outlinewidth\":0,\"ticks\":\"\"}},\"type\":\"scattercarpet\"}],\"scattergeo\":[{\"marker\":{\"colorbar\":{\"outlinewidth\":0,\"ticks\":\"\"}},\"type\":\"scattergeo\"}],\"scattergl\":[{\"marker\":{\"colorbar\":{\"outlinewidth\":0,\"ticks\":\"\"}},\"type\":\"scattergl\"}],\"scattermapbox\":[{\"marker\":{\"colorbar\":{\"outlinewidth\":0,\"ticks\":\"\"}},\"type\":\"scattermapbox\"}],\"scatterpolargl\":[{\"marker\":{\"colorbar\":{\"outlinewidth\":0,\"ticks\":\"\"}},\"type\":\"scatterpolargl\"}],\"scatterpolar\":[{\"marker\":{\"colorbar\":{\"outlinewidth\":0,\"ticks\":\"\"}},\"type\":\"scatterpolar\"}],\"scatter\":[{\"fillpattern\":{\"fillmode\":\"overlay\",\"size\":10,\"solidity\":0.2},\"type\":\"scatter\"}],\"scatterternary\":[{\"marker\":{\"colorbar\":{\"outlinewidth\":0,\"ticks\":\"\"}},\"type\":\"scatterternary\"}],\"surface\":[{\"colorbar\":{\"outlinewidth\":0,\"ticks\":\"\"},\"colorscale\":[[0.0,\"#0d0887\"],[0.1111111111111111,\"#46039f\"],[0.2222222222222222,\"#7201a8\"],[0.3333333333333333,\"#9c179e\"],[0.4444444444444444,\"#bd3786\"],[0.5555555555555556,\"#d8576b\"],[0.6666666666666666,\"#ed7953\"],[0.7777777777777778,\"#fb9f3a\"],[0.8888888888888888,\"#fdca26\"],[1.0,\"#f0f921\"]],\"type\":\"surface\"}],\"table\":[{\"cells\":{\"fill\":{\"color\":\"#EBF0F8\"},\"line\":{\"color\":\"white\"}},\"header\":{\"fill\":{\"color\":\"#C8D4E3\"},\"line\":{\"color\":\"white\"}},\"type\":\"table\"}]},\"layout\":{\"annotationdefaults\":{\"arrowcolor\":\"#2a3f5f\",\"arrowhead\":0,\"arrowwidth\":1},\"autotypenumbers\":\"strict\",\"coloraxis\":{\"colorbar\":{\"outlinewidth\":0,\"ticks\":\"\"}},\"colorscale\":{\"diverging\":[[0,\"#8e0152\"],[0.1,\"#c51b7d\"],[0.2,\"#de77ae\"],[0.3,\"#f1b6da\"],[0.4,\"#fde0ef\"],[0.5,\"#f7f7f7\"],[0.6,\"#e6f5d0\"],[0.7,\"#b8e186\"],[0.8,\"#7fbc41\"],[0.9,\"#4d9221\"],[1,\"#276419\"]],\"sequential\":[[0.0,\"#0d0887\"],[0.1111111111111111,\"#46039f\"],[0.2222222222222222,\"#7201a8\"],[0.3333333333333333,\"#9c179e\"],[0.4444444444444444,\"#bd3786\"],[0.5555555555555556,\"#d8576b\"],[0.6666666666666666,\"#ed7953\"],[0.7777777777777778,\"#fb9f3a\"],[0.8888888888888888,\"#fdca26\"],[1.0,\"#f0f921\"]],\"sequentialminus\":[[0.0,\"#0d0887\"],[0.1111111111111111,\"#46039f\"],[0.2222222222222222,\"#7201a8\"],[0.3333333333333333,\"#9c179e\"],[0.4444444444444444,\"#bd3786\"],[0.5555555555555556,\"#d8576b\"],[0.6666666666666666,\"#ed7953\"],[0.7777777777777778,\"#fb9f3a\"],[0.8888888888888888,\"#fdca26\"],[1.0,\"#f0f921\"]]},\"colorway\":[\"#636efa\",\"#EF553B\",\"#00cc96\",\"#ab63fa\",\"#FFA15A\",\"#19d3f3\",\"#FF6692\",\"#B6E880\",\"#FF97FF\",\"#FECB52\"],\"font\":{\"color\":\"#2a3f5f\"},\"geo\":{\"bgcolor\":\"white\",\"lakecolor\":\"white\",\"landcolor\":\"white\",\"showlakes\":true,\"showland\":true,\"subunitcolor\":\"#C8D4E3\"},\"hoverlabel\":{\"align\":\"left\"},\"hovermode\":\"closest\",\"mapbox\":{\"style\":\"light\"},\"paper_bgcolor\":\"white\",\"plot_bgcolor\":\"white\",\"polar\":{\"angularaxis\":{\"gridcolor\":\"#EBF0F8\",\"linecolor\":\"#EBF0F8\",\"ticks\":\"\"},\"bgcolor\":\"white\",\"radialaxis\":{\"gridcolor\":\"#EBF0F8\",\"linecolor\":\"#EBF0F8\",\"ticks\":\"\"}},\"scene\":{\"xaxis\":{\"backgroundcolor\":\"white\",\"gridcolor\":\"#DFE8F3\",\"gridwidth\":2,\"linecolor\":\"#EBF0F8\",\"showbackground\":true,\"ticks\":\"\",\"zerolinecolor\":\"#EBF0F8\"},\"yaxis\":{\"backgroundcolor\":\"white\",\"gridcolor\":\"#DFE8F3\",\"gridwidth\":2,\"linecolor\":\"#EBF0F8\",\"showbackground\":true,\"ticks\":\"\",\"zerolinecolor\":\"#EBF0F8\"},\"zaxis\":{\"backgroundcolor\":\"white\",\"gridcolor\":\"#DFE8F3\",\"gridwidth\":2,\"linecolor\":\"#EBF0F8\",\"showbackground\":true,\"ticks\":\"\",\"zerolinecolor\":\"#EBF0F8\"}},\"shapedefaults\":{\"line\":{\"color\":\"#2a3f5f\"}},\"ternary\":{\"aaxis\":{\"gridcolor\":\"#DFE8F3\",\"linecolor\":\"#A2B1C6\",\"ticks\":\"\"},\"baxis\":{\"gridcolor\":\"#DFE8F3\",\"linecolor\":\"#A2B1C6\",\"ticks\":\"\"},\"bgcolor\":\"white\",\"caxis\":{\"gridcolor\":\"#DFE8F3\",\"linecolor\":\"#A2B1C6\",\"ticks\":\"\"}},\"title\":{\"x\":0.05},\"xaxis\":{\"automargin\":true,\"gridcolor\":\"#EBF0F8\",\"linecolor\":\"#EBF0F8\",\"ticks\":\"\",\"title\":{\"standoff\":15},\"zerolinecolor\":\"#EBF0F8\",\"zerolinewidth\":2},\"yaxis\":{\"automargin\":true,\"gridcolor\":\"#EBF0F8\",\"linecolor\":\"#EBF0F8\",\"ticks\":\"\",\"title\":{\"standoff\":15},\"zerolinecolor\":\"#EBF0F8\",\"zerolinewidth\":2}}},\"xaxis\":{\"title\":{\"font\":{\"weight\":\"bold\",\"color\":\"black\"}},\"tickangle\":90,\"tickfont\":{\"family\":\"Arial\",\"size\":13,\"color\":\"black\",\"weight\":\"bold\"}},\"height\":900,\"width\":800,\"yaxis\":{\"tickfont\":{\"family\":\"Arial\",\"size\":13,\"color\":\"black\",\"weight\":\"bold\"}},\"shapes\":[{\"line\":{\"color\":\"black\",\"width\":1.5},\"type\":\"line\",\"x0\":-0.5,\"x1\":-0.5,\"y0\":-0.5,\"y1\":6.5},{\"line\":{\"color\":\"black\",\"width\":3},\"type\":\"line\",\"x0\":-0.5,\"x1\":9.5,\"y0\":0.5,\"y1\":0.5},{\"line\":{\"color\":\"black\",\"width\":3},\"type\":\"line\",\"x0\":-0.5,\"x1\":9.5,\"y0\":0.5,\"y1\":0.5},{\"line\":{\"color\":\"black\",\"width\":3},\"type\":\"line\",\"x0\":-0.5,\"x1\":9.5,\"y0\":0.5,\"y1\":0.5},{\"line\":{\"color\":\"black\",\"width\":1.5},\"type\":\"line\",\"x0\":2.5,\"x1\":2.5,\"y0\":-0.5,\"y1\":6.5},{\"line\":{\"color\":\"black\",\"width\":3},\"type\":\"line\",\"x0\":-0.5,\"x1\":9.5,\"y0\":0.5,\"y1\":0.5},{\"line\":{\"color\":\"black\",\"width\":3},\"type\":\"line\",\"x0\":-0.5,\"x1\":9.5,\"y0\":0.5,\"y1\":0.5},{\"line\":{\"color\":\"black\",\"width\":1.5},\"type\":\"line\",\"x0\":4.5,\"x1\":4.5,\"y0\":-0.5,\"y1\":6.5},{\"line\":{\"color\":\"black\",\"width\":3},\"type\":\"line\",\"x0\":-0.5,\"x1\":9.5,\"y0\":0.5,\"y1\":0.5},{\"line\":{\"color\":\"black\",\"width\":3},\"type\":\"line\",\"x0\":-0.5,\"x1\":9.5,\"y0\":0.5,\"y1\":0.5},{\"line\":{\"color\":\"black\",\"width\":1.5},\"type\":\"line\",\"x0\":6.5,\"x1\":6.5,\"y0\":-0.5,\"y1\":6.5},{\"line\":{\"color\":\"black\",\"width\":3},\"type\":\"line\",\"x0\":-0.5,\"x1\":9.5,\"y0\":0.5,\"y1\":0.5},{\"line\":{\"color\":\"black\",\"width\":1.5},\"type\":\"line\",\"x0\":7.5,\"x1\":7.5,\"y0\":-0.5,\"y1\":6.5},{\"line\":{\"color\":\"black\",\"width\":3},\"type\":\"line\",\"x0\":-0.5,\"x1\":9.5,\"y0\":0.5,\"y1\":0.5},{\"line\":{\"color\":\"black\",\"width\":3},\"type\":\"line\",\"x0\":8.5,\"x1\":8.5,\"y0\":-0.5,\"y1\":6.5},{\"line\":{\"color\":\"black\",\"width\":3},\"type\":\"line\",\"x0\":-0.5,\"x1\":9.5,\"y0\":0.5,\"y1\":0.5},{\"line\":{\"color\":\"black\",\"width\":1.5},\"type\":\"line\",\"x0\":9.5,\"x1\":9.5,\"y0\":-0.5,\"y1\":6.5},{\"line\":{\"color\":\"black\",\"width\":3},\"type\":\"line\",\"x0\":-0.5,\"x1\":9.5,\"y0\":0.5,\"y1\":0.5}],\"margin\":{\"b\":180}},                        {\"responsive\": true}                    ).then(function(){\n",
       "                            \n",
       "var gd = document.getElementById('ed629c19-ecf9-4197-bbd3-9de86f12c730');\n",
       "var x = new MutationObserver(function (mutations, observer) {{\n",
       "        var display = window.getComputedStyle(gd).display;\n",
       "        if (!display || display === 'none') {{\n",
       "            console.log([gd, 'removed!']);\n",
       "            Plotly.purge(gd);\n",
       "            observer.disconnect();\n",
       "        }}\n",
       "}});\n",
       "\n",
       "// Listen for the removal of the full notebook cells\n",
       "var notebookContainer = gd.closest('#notebook-container');\n",
       "if (notebookContainer) {{\n",
       "    x.observe(notebookContainer, {childList: true});\n",
       "}}\n",
       "\n",
       "// Listen for the clearing of the current output cell\n",
       "var outputEl = gd.closest('.output');\n",
       "if (outputEl) {{\n",
       "    x.observe(outputEl, {childList: true});\n",
       "}}\n",
       "\n",
       "                        })                };                });            </script>        </div>"
      ]
     },
     "metadata": {},
     "output_type": "display_data"
    },
    {
     "data": {
      "application/vnd.plotly.v1+json": {
       "data": [
        {
         "colorbar": {
          "tickformat": ".0%"
         },
         "colorscale": [
          [
           0.0,
           "#fcffa4"
          ],
          [
           0.1111111111111111,
           "#f7d13d"
          ],
          [
           0.2222222222222222,
           "#fb9b06"
          ],
          [
           0.3333333333333333,
           "#ed6925"
          ],
          [
           0.4444444444444444,
           "#cf4446"
          ],
          [
           0.5555555555555556,
           "#a52c60"
          ],
          [
           0.6666666666666666,
           "#781c6d"
          ],
          [
           0.7777777777777778,
           "#4a0c6b"
          ],
          [
           0.8888888888888888,
           "#1b0c41"
          ],
          [
           1.0,
           "#000004"
          ]
         ],
         "texttemplate": "%{z:.0%}",
         "x": [
          [
           " ",
           "Diversification",
           "Diversification",
           "Enrichment",
           "Enrichment",
           "Derivation",
           "Derivation",
           "  ",
           "  ",
           "   "
          ],
          [
           "Integration",
           "Adaptation",
           "Recommendation",
           "Profile",
           "Context",
           "Interpretation of<br>User Behaviour",
           "Explanation of<br>System Behaviour",
           "Relation",
           "Interaction",
           "Average"
          ]
         ],
         "xgap": 2,
         "y": [
          "Average ",
          "General ",
          "Finance ",
          "Productivity ",
          "Wellbeing ",
          "Learning ",
          "Sustainability "
         ],
         "ygap": 2,
         "z": [
          [
           0.10059891089302854,
           0.1299316152257329,
           0.04399843076313664,
           0.22479709832651007,
           0.08438473291414468,
           0.0570074805368923,
           0.027784252784252783,
           0.04417325593796182,
           0.04417325593796182,
           0.0840943370355135
          ],
          [
           0.07272727272727272,
           0.09090909090909091,
           0.03636363636363636,
           0.2,
           0.07272727272727272,
           0.03636363636363636,
           0.03636363636363636,
           0.01818181818181818,
           0.01818181818181818,
           0.06464646464646466
          ],
          [
           0.14285714285714285,
           0.2857142857142857,
           0.0,
           0.42857142857142855,
           0.14285714285714285,
           0.0,
           0.0,
           0.0,
           0.0,
           0.1111111111111111
          ],
          [
           0.17647058823529413,
           0.17647058823529413,
           0.058823529411764705,
           0.11764705882352941,
           0.11764705882352941,
           0.11764705882352941,
           0.0,
           0.058823529411764705,
           0.058823529411764705,
           0.09803921568627451
          ],
          [
           0.21153846153846154,
           0.11538461538461539,
           0.057692307692307696,
           0.2692307692307692,
           0.17307692307692307,
           0.07692307692307693,
           0.019230769230769232,
           0.07692307692307693,
           0.07692307692307693,
           0.11965811965811965
          ],
          [
           0.0,
           0.1111111111111111,
           0.1111111111111111,
           0.0,
           0.0,
           0.1111111111111111,
           0.1111111111111111,
           0.0,
           0.0,
           0.04938271604938271
          ],
          [
           0.0,
           0.0,
           0.0,
           0.3333333333333333,
           0.0,
           0.0,
           0.0,
           0.1111111111111111,
           0.1111111111111111,
           0.0617283950617284
          ]
         ],
         "zmax": 1,
         "zmin": 0,
         "type": "heatmap"
        }
       ],
       "layout": {
        "template": {
         "data": {
          "barpolar": [
           {
            "marker": {
             "line": {
              "color": "white",
              "width": 0.5
             },
             "pattern": {
              "fillmode": "overlay",
              "size": 10,
              "solidity": 0.2
             }
            },
            "type": "barpolar"
           }
          ],
          "bar": [
           {
            "error_x": {
             "color": "#2a3f5f"
            },
            "error_y": {
             "color": "#2a3f5f"
            },
            "marker": {
             "line": {
              "color": "white",
              "width": 0.5
             },
             "pattern": {
              "fillmode": "overlay",
              "size": 10,
              "solidity": 0.2
             }
            },
            "type": "bar"
           }
          ],
          "carpet": [
           {
            "aaxis": {
             "endlinecolor": "#2a3f5f",
             "gridcolor": "#C8D4E3",
             "linecolor": "#C8D4E3",
             "minorgridcolor": "#C8D4E3",
             "startlinecolor": "#2a3f5f"
            },
            "baxis": {
             "endlinecolor": "#2a3f5f",
             "gridcolor": "#C8D4E3",
             "linecolor": "#C8D4E3",
             "minorgridcolor": "#C8D4E3",
             "startlinecolor": "#2a3f5f"
            },
            "type": "carpet"
           }
          ],
          "choropleth": [
           {
            "colorbar": {
             "outlinewidth": 0,
             "ticks": ""
            },
            "type": "choropleth"
           }
          ],
          "contourcarpet": [
           {
            "colorbar": {
             "outlinewidth": 0,
             "ticks": ""
            },
            "type": "contourcarpet"
           }
          ],
          "contour": [
           {
            "colorbar": {
             "outlinewidth": 0,
             "ticks": ""
            },
            "colorscale": [
             [
              0.0,
              "#0d0887"
             ],
             [
              0.1111111111111111,
              "#46039f"
             ],
             [
              0.2222222222222222,
              "#7201a8"
             ],
             [
              0.3333333333333333,
              "#9c179e"
             ],
             [
              0.4444444444444444,
              "#bd3786"
             ],
             [
              0.5555555555555556,
              "#d8576b"
             ],
             [
              0.6666666666666666,
              "#ed7953"
             ],
             [
              0.7777777777777778,
              "#fb9f3a"
             ],
             [
              0.8888888888888888,
              "#fdca26"
             ],
             [
              1.0,
              "#f0f921"
             ]
            ],
            "type": "contour"
           }
          ],
          "heatmapgl": [
           {
            "colorbar": {
             "outlinewidth": 0,
             "ticks": ""
            },
            "colorscale": [
             [
              0.0,
              "#0d0887"
             ],
             [
              0.1111111111111111,
              "#46039f"
             ],
             [
              0.2222222222222222,
              "#7201a8"
             ],
             [
              0.3333333333333333,
              "#9c179e"
             ],
             [
              0.4444444444444444,
              "#bd3786"
             ],
             [
              0.5555555555555556,
              "#d8576b"
             ],
             [
              0.6666666666666666,
              "#ed7953"
             ],
             [
              0.7777777777777778,
              "#fb9f3a"
             ],
             [
              0.8888888888888888,
              "#fdca26"
             ],
             [
              1.0,
              "#f0f921"
             ]
            ],
            "type": "heatmapgl"
           }
          ],
          "heatmap": [
           {
            "colorbar": {
             "outlinewidth": 0,
             "ticks": ""
            },
            "colorscale": [
             [
              0.0,
              "#0d0887"
             ],
             [
              0.1111111111111111,
              "#46039f"
             ],
             [
              0.2222222222222222,
              "#7201a8"
             ],
             [
              0.3333333333333333,
              "#9c179e"
             ],
             [
              0.4444444444444444,
              "#bd3786"
             ],
             [
              0.5555555555555556,
              "#d8576b"
             ],
             [
              0.6666666666666666,
              "#ed7953"
             ],
             [
              0.7777777777777778,
              "#fb9f3a"
             ],
             [
              0.8888888888888888,
              "#fdca26"
             ],
             [
              1.0,
              "#f0f921"
             ]
            ],
            "type": "heatmap"
           }
          ],
          "histogram2dcontour": [
           {
            "colorbar": {
             "outlinewidth": 0,
             "ticks": ""
            },
            "colorscale": [
             [
              0.0,
              "#0d0887"
             ],
             [
              0.1111111111111111,
              "#46039f"
             ],
             [
              0.2222222222222222,
              "#7201a8"
             ],
             [
              0.3333333333333333,
              "#9c179e"
             ],
             [
              0.4444444444444444,
              "#bd3786"
             ],
             [
              0.5555555555555556,
              "#d8576b"
             ],
             [
              0.6666666666666666,
              "#ed7953"
             ],
             [
              0.7777777777777778,
              "#fb9f3a"
             ],
             [
              0.8888888888888888,
              "#fdca26"
             ],
             [
              1.0,
              "#f0f921"
             ]
            ],
            "type": "histogram2dcontour"
           }
          ],
          "histogram2d": [
           {
            "colorbar": {
             "outlinewidth": 0,
             "ticks": ""
            },
            "colorscale": [
             [
              0.0,
              "#0d0887"
             ],
             [
              0.1111111111111111,
              "#46039f"
             ],
             [
              0.2222222222222222,
              "#7201a8"
             ],
             [
              0.3333333333333333,
              "#9c179e"
             ],
             [
              0.4444444444444444,
              "#bd3786"
             ],
             [
              0.5555555555555556,
              "#d8576b"
             ],
             [
              0.6666666666666666,
              "#ed7953"
             ],
             [
              0.7777777777777778,
              "#fb9f3a"
             ],
             [
              0.8888888888888888,
              "#fdca26"
             ],
             [
              1.0,
              "#f0f921"
             ]
            ],
            "type": "histogram2d"
           }
          ],
          "histogram": [
           {
            "marker": {
             "pattern": {
              "fillmode": "overlay",
              "size": 10,
              "solidity": 0.2
             }
            },
            "type": "histogram"
           }
          ],
          "mesh3d": [
           {
            "colorbar": {
             "outlinewidth": 0,
             "ticks": ""
            },
            "type": "mesh3d"
           }
          ],
          "parcoords": [
           {
            "line": {
             "colorbar": {
              "outlinewidth": 0,
              "ticks": ""
             }
            },
            "type": "parcoords"
           }
          ],
          "pie": [
           {
            "automargin": true,
            "type": "pie"
           }
          ],
          "scatter3d": [
           {
            "line": {
             "colorbar": {
              "outlinewidth": 0,
              "ticks": ""
             }
            },
            "marker": {
             "colorbar": {
              "outlinewidth": 0,
              "ticks": ""
             }
            },
            "type": "scatter3d"
           }
          ],
          "scattercarpet": [
           {
            "marker": {
             "colorbar": {
              "outlinewidth": 0,
              "ticks": ""
             }
            },
            "type": "scattercarpet"
           }
          ],
          "scattergeo": [
           {
            "marker": {
             "colorbar": {
              "outlinewidth": 0,
              "ticks": ""
             }
            },
            "type": "scattergeo"
           }
          ],
          "scattergl": [
           {
            "marker": {
             "colorbar": {
              "outlinewidth": 0,
              "ticks": ""
             }
            },
            "type": "scattergl"
           }
          ],
          "scattermapbox": [
           {
            "marker": {
             "colorbar": {
              "outlinewidth": 0,
              "ticks": ""
             }
            },
            "type": "scattermapbox"
           }
          ],
          "scatterpolargl": [
           {
            "marker": {
             "colorbar": {
              "outlinewidth": 0,
              "ticks": ""
             }
            },
            "type": "scatterpolargl"
           }
          ],
          "scatterpolar": [
           {
            "marker": {
             "colorbar": {
              "outlinewidth": 0,
              "ticks": ""
             }
            },
            "type": "scatterpolar"
           }
          ],
          "scatter": [
           {
            "fillpattern": {
             "fillmode": "overlay",
             "size": 10,
             "solidity": 0.2
            },
            "type": "scatter"
           }
          ],
          "scatterternary": [
           {
            "marker": {
             "colorbar": {
              "outlinewidth": 0,
              "ticks": ""
             }
            },
            "type": "scatterternary"
           }
          ],
          "surface": [
           {
            "colorbar": {
             "outlinewidth": 0,
             "ticks": ""
            },
            "colorscale": [
             [
              0.0,
              "#0d0887"
             ],
             [
              0.1111111111111111,
              "#46039f"
             ],
             [
              0.2222222222222222,
              "#7201a8"
             ],
             [
              0.3333333333333333,
              "#9c179e"
             ],
             [
              0.4444444444444444,
              "#bd3786"
             ],
             [
              0.5555555555555556,
              "#d8576b"
             ],
             [
              0.6666666666666666,
              "#ed7953"
             ],
             [
              0.7777777777777778,
              "#fb9f3a"
             ],
             [
              0.8888888888888888,
              "#fdca26"
             ],
             [
              1.0,
              "#f0f921"
             ]
            ],
            "type": "surface"
           }
          ],
          "table": [
           {
            "cells": {
             "fill": {
              "color": "#EBF0F8"
             },
             "line": {
              "color": "white"
             }
            },
            "header": {
             "fill": {
              "color": "#C8D4E3"
             },
             "line": {
              "color": "white"
             }
            },
            "type": "table"
           }
          ]
         },
         "layout": {
          "annotationdefaults": {
           "arrowcolor": "#2a3f5f",
           "arrowhead": 0,
           "arrowwidth": 1
          },
          "autotypenumbers": "strict",
          "coloraxis": {
           "colorbar": {
            "outlinewidth": 0,
            "ticks": ""
           }
          },
          "colorscale": {
           "diverging": [
            [
             0,
             "#8e0152"
            ],
            [
             0.1,
             "#c51b7d"
            ],
            [
             0.2,
             "#de77ae"
            ],
            [
             0.3,
             "#f1b6da"
            ],
            [
             0.4,
             "#fde0ef"
            ],
            [
             0.5,
             "#f7f7f7"
            ],
            [
             0.6,
             "#e6f5d0"
            ],
            [
             0.7,
             "#b8e186"
            ],
            [
             0.8,
             "#7fbc41"
            ],
            [
             0.9,
             "#4d9221"
            ],
            [
             1,
             "#276419"
            ]
           ],
           "sequential": [
            [
             0.0,
             "#0d0887"
            ],
            [
             0.1111111111111111,
             "#46039f"
            ],
            [
             0.2222222222222222,
             "#7201a8"
            ],
            [
             0.3333333333333333,
             "#9c179e"
            ],
            [
             0.4444444444444444,
             "#bd3786"
            ],
            [
             0.5555555555555556,
             "#d8576b"
            ],
            [
             0.6666666666666666,
             "#ed7953"
            ],
            [
             0.7777777777777778,
             "#fb9f3a"
            ],
            [
             0.8888888888888888,
             "#fdca26"
            ],
            [
             1.0,
             "#f0f921"
            ]
           ],
           "sequentialminus": [
            [
             0.0,
             "#0d0887"
            ],
            [
             0.1111111111111111,
             "#46039f"
            ],
            [
             0.2222222222222222,
             "#7201a8"
            ],
            [
             0.3333333333333333,
             "#9c179e"
            ],
            [
             0.4444444444444444,
             "#bd3786"
            ],
            [
             0.5555555555555556,
             "#d8576b"
            ],
            [
             0.6666666666666666,
             "#ed7953"
            ],
            [
             0.7777777777777778,
             "#fb9f3a"
            ],
            [
             0.8888888888888888,
             "#fdca26"
            ],
            [
             1.0,
             "#f0f921"
            ]
           ]
          },
          "colorway": [
           "#636efa",
           "#EF553B",
           "#00cc96",
           "#ab63fa",
           "#FFA15A",
           "#19d3f3",
           "#FF6692",
           "#B6E880",
           "#FF97FF",
           "#FECB52"
          ],
          "font": {
           "color": "#2a3f5f"
          },
          "geo": {
           "bgcolor": "white",
           "lakecolor": "white",
           "landcolor": "white",
           "showlakes": true,
           "showland": true,
           "subunitcolor": "#C8D4E3"
          },
          "hoverlabel": {
           "align": "left"
          },
          "hovermode": "closest",
          "mapbox": {
           "style": "light"
          },
          "paper_bgcolor": "white",
          "plot_bgcolor": "white",
          "polar": {
           "angularaxis": {
            "gridcolor": "#EBF0F8",
            "linecolor": "#EBF0F8",
            "ticks": ""
           },
           "bgcolor": "white",
           "radialaxis": {
            "gridcolor": "#EBF0F8",
            "linecolor": "#EBF0F8",
            "ticks": ""
           }
          },
          "scene": {
           "xaxis": {
            "backgroundcolor": "white",
            "gridcolor": "#DFE8F3",
            "gridwidth": 2,
            "linecolor": "#EBF0F8",
            "showbackground": true,
            "ticks": "",
            "zerolinecolor": "#EBF0F8"
           },
           "yaxis": {
            "backgroundcolor": "white",
            "gridcolor": "#DFE8F3",
            "gridwidth": 2,
            "linecolor": "#EBF0F8",
            "showbackground": true,
            "ticks": "",
            "zerolinecolor": "#EBF0F8"
           },
           "zaxis": {
            "backgroundcolor": "white",
            "gridcolor": "#DFE8F3",
            "gridwidth": 2,
            "linecolor": "#EBF0F8",
            "showbackground": true,
            "ticks": "",
            "zerolinecolor": "#EBF0F8"
           }
          },
          "shapedefaults": {
           "line": {
            "color": "#2a3f5f"
           }
          },
          "ternary": {
           "aaxis": {
            "gridcolor": "#DFE8F3",
            "linecolor": "#A2B1C6",
            "ticks": ""
           },
           "baxis": {
            "gridcolor": "#DFE8F3",
            "linecolor": "#A2B1C6",
            "ticks": ""
           },
           "bgcolor": "white",
           "caxis": {
            "gridcolor": "#DFE8F3",
            "linecolor": "#A2B1C6",
            "ticks": ""
           }
          },
          "title": {
           "x": 0.05
          },
          "xaxis": {
           "automargin": true,
           "gridcolor": "#EBF0F8",
           "linecolor": "#EBF0F8",
           "ticks": "",
           "title": {
            "standoff": 15
           },
           "zerolinecolor": "#EBF0F8",
           "zerolinewidth": 2
          },
          "yaxis": {
           "automargin": true,
           "gridcolor": "#EBF0F8",
           "linecolor": "#EBF0F8",
           "ticks": "",
           "title": {
            "standoff": 15
           },
           "zerolinecolor": "#EBF0F8",
           "zerolinewidth": 2
          }
         }
        },
        "xaxis": {
         "title": {
          "font": {
           "weight": "bold",
           "color": "black"
          }
         },
         "tickangle": 90,
         "tickfont": {
          "family": "Arial",
          "size": 13,
          "color": "black",
          "weight": "bold"
         }
        },
        "height": 900,
        "width": 800,
        "yaxis": {
         "tickfont": {
          "family": "Arial",
          "size": 13,
          "color": "black",
          "weight": "bold"
         }
        },
        "shapes": [
         {
          "line": {
           "color": "black",
           "width": 1.5
          },
          "type": "line",
          "x0": -0.5,
          "x1": -0.5,
          "y0": -0.5,
          "y1": 6.5
         },
         {
          "line": {
           "color": "black",
           "width": 3
          },
          "type": "line",
          "x0": -0.5,
          "x1": 9.5,
          "y0": 0.5,
          "y1": 0.5
         },
         {
          "line": {
           "color": "black",
           "width": 1.5
          },
          "type": "line",
          "x0": 0.5,
          "x1": 0.5,
          "y0": -0.5,
          "y1": 6.5
         },
         {
          "line": {
           "color": "black",
           "width": 3
          },
          "type": "line",
          "x0": -0.5,
          "x1": 9.5,
          "y0": 0.5,
          "y1": 0.5
         },
         {
          "line": {
           "color": "black",
           "width": 3
          },
          "type": "line",
          "x0": -0.5,
          "x1": 9.5,
          "y0": 0.5,
          "y1": 0.5
         },
         {
          "line": {
           "color": "black",
           "width": 1.5
          },
          "type": "line",
          "x0": 2.5,
          "x1": 2.5,
          "y0": -0.5,
          "y1": 6.5
         },
         {
          "line": {
           "color": "black",
           "width": 3
          },
          "type": "line",
          "x0": -0.5,
          "x1": 9.5,
          "y0": 0.5,
          "y1": 0.5
         },
         {
          "line": {
           "color": "black",
           "width": 3
          },
          "type": "line",
          "x0": -0.5,
          "x1": 9.5,
          "y0": 0.5,
          "y1": 0.5
         },
         {
          "line": {
           "color": "black",
           "width": 1.5
          },
          "type": "line",
          "x0": 4.5,
          "x1": 4.5,
          "y0": -0.5,
          "y1": 6.5
         },
         {
          "line": {
           "color": "black",
           "width": 3
          },
          "type": "line",
          "x0": -0.5,
          "x1": 9.5,
          "y0": 0.5,
          "y1": 0.5
         },
         {
          "line": {
           "color": "black",
           "width": 3
          },
          "type": "line",
          "x0": -0.5,
          "x1": 9.5,
          "y0": 0.5,
          "y1": 0.5
         },
         {
          "line": {
           "color": "black",
           "width": 1.5
          },
          "type": "line",
          "x0": 6.5,
          "x1": 6.5,
          "y0": -0.5,
          "y1": 6.5
         },
         {
          "line": {
           "color": "black",
           "width": 3
          },
          "type": "line",
          "x0": -0.5,
          "x1": 9.5,
          "y0": 0.5,
          "y1": 0.5
         },
         {
          "line": {
           "color": "black",
           "width": 3
          },
          "type": "line",
          "x0": -0.5,
          "x1": 9.5,
          "y0": 0.5,
          "y1": 0.5
         },
         {
          "line": {
           "color": "black",
           "width": 3
          },
          "type": "line",
          "x0": 8.5,
          "x1": 8.5,
          "y0": -0.5,
          "y1": 6.5
         },
         {
          "line": {
           "color": "black",
           "width": 3
          },
          "type": "line",
          "x0": -0.5,
          "x1": 9.5,
          "y0": 0.5,
          "y1": 0.5
         },
         {
          "line": {
           "color": "black",
           "width": 1.5
          },
          "type": "line",
          "x0": 9.5,
          "x1": 9.5,
          "y0": -0.5,
          "y1": 6.5
         },
         {
          "line": {
           "color": "black",
           "width": 3
          },
          "type": "line",
          "x0": -0.5,
          "x1": 9.5,
          "y0": 0.5,
          "y1": 0.5
         }
        ],
        "margin": {
         "b": 180
        },
        "annotations": [
         {
          "align": "center",
          "font": {
           "color": "black",
           "family": "Arial",
           "size": 14,
           "weight": "bold"
          },
          "showarrow": false,
          "text": "|                System                |                    Knowledge                    |           Social         |              |",
          "x": 0.5,
          "xref": "paper",
          "y": -0.25,
          "yref": "paper"
         }
        ]
       },
       "config": {
        "plotlyServerURL": "https://plot.ly"
       }
      },
      "text/html": [
       "<div>                            <div id=\"559d1f18-5e00-459b-bba1-a411a8edd5f8\" class=\"plotly-graph-div\" style=\"height:900px; width:800px;\"></div>            <script type=\"text/javascript\">                require([\"plotly\"], function(Plotly) {                    window.PLOTLYENV=window.PLOTLYENV || {};                                    if (document.getElementById(\"559d1f18-5e00-459b-bba1-a411a8edd5f8\")) {                    Plotly.newPlot(                        \"559d1f18-5e00-459b-bba1-a411a8edd5f8\",                        [{\"colorbar\":{\"tickformat\":\".0%\"},\"colorscale\":[[0.0,\"#fcffa4\"],[0.1111111111111111,\"#f7d13d\"],[0.2222222222222222,\"#fb9b06\"],[0.3333333333333333,\"#ed6925\"],[0.4444444444444444,\"#cf4446\"],[0.5555555555555556,\"#a52c60\"],[0.6666666666666666,\"#781c6d\"],[0.7777777777777778,\"#4a0c6b\"],[0.8888888888888888,\"#1b0c41\"],[1.0,\"#000004\"]],\"texttemplate\":\"%{z:.0%}\",\"x\":[[\" \",\"Diversification\",\"Diversification\",\"Enrichment\",\"Enrichment\",\"Derivation\",\"Derivation\",\"  \",\"  \",\"   \"],[\"Integration\",\"Adaptation\",\"Recommendation\",\"Profile\",\"Context\",\"Interpretation of\\u003cbr\\u003eUser Behaviour\",\"Explanation of\\u003cbr\\u003eSystem Behaviour\",\"Relation\",\"Interaction\",\"Average\"]],\"xgap\":2,\"y\":[\"Average \",\"General \",\"Finance \",\"Productivity \",\"Wellbeing \",\"Learning \",\"Sustainability \"],\"ygap\":2,\"z\":[[0.10059891089302854,0.1299316152257329,0.04399843076313664,0.22479709832651007,0.08438473291414468,0.0570074805368923,0.027784252784252783,0.04417325593796182,0.04417325593796182,0.0840943370355135],[0.07272727272727272,0.09090909090909091,0.03636363636363636,0.2,0.07272727272727272,0.03636363636363636,0.03636363636363636,0.01818181818181818,0.01818181818181818,0.06464646464646466],[0.14285714285714285,0.2857142857142857,0.0,0.42857142857142855,0.14285714285714285,0.0,0.0,0.0,0.0,0.1111111111111111],[0.17647058823529413,0.17647058823529413,0.058823529411764705,0.11764705882352941,0.11764705882352941,0.11764705882352941,0.0,0.058823529411764705,0.058823529411764705,0.09803921568627451],[0.21153846153846154,0.11538461538461539,0.057692307692307696,0.2692307692307692,0.17307692307692307,0.07692307692307693,0.019230769230769232,0.07692307692307693,0.07692307692307693,0.11965811965811965],[0.0,0.1111111111111111,0.1111111111111111,0.0,0.0,0.1111111111111111,0.1111111111111111,0.0,0.0,0.04938271604938271],[0.0,0.0,0.0,0.3333333333333333,0.0,0.0,0.0,0.1111111111111111,0.1111111111111111,0.0617283950617284]],\"zmax\":1,\"zmin\":0,\"type\":\"heatmap\"}],                        {\"template\":{\"data\":{\"barpolar\":[{\"marker\":{\"line\":{\"color\":\"white\",\"width\":0.5},\"pattern\":{\"fillmode\":\"overlay\",\"size\":10,\"solidity\":0.2}},\"type\":\"barpolar\"}],\"bar\":[{\"error_x\":{\"color\":\"#2a3f5f\"},\"error_y\":{\"color\":\"#2a3f5f\"},\"marker\":{\"line\":{\"color\":\"white\",\"width\":0.5},\"pattern\":{\"fillmode\":\"overlay\",\"size\":10,\"solidity\":0.2}},\"type\":\"bar\"}],\"carpet\":[{\"aaxis\":{\"endlinecolor\":\"#2a3f5f\",\"gridcolor\":\"#C8D4E3\",\"linecolor\":\"#C8D4E3\",\"minorgridcolor\":\"#C8D4E3\",\"startlinecolor\":\"#2a3f5f\"},\"baxis\":{\"endlinecolor\":\"#2a3f5f\",\"gridcolor\":\"#C8D4E3\",\"linecolor\":\"#C8D4E3\",\"minorgridcolor\":\"#C8D4E3\",\"startlinecolor\":\"#2a3f5f\"},\"type\":\"carpet\"}],\"choropleth\":[{\"colorbar\":{\"outlinewidth\":0,\"ticks\":\"\"},\"type\":\"choropleth\"}],\"contourcarpet\":[{\"colorbar\":{\"outlinewidth\":0,\"ticks\":\"\"},\"type\":\"contourcarpet\"}],\"contour\":[{\"colorbar\":{\"outlinewidth\":0,\"ticks\":\"\"},\"colorscale\":[[0.0,\"#0d0887\"],[0.1111111111111111,\"#46039f\"],[0.2222222222222222,\"#7201a8\"],[0.3333333333333333,\"#9c179e\"],[0.4444444444444444,\"#bd3786\"],[0.5555555555555556,\"#d8576b\"],[0.6666666666666666,\"#ed7953\"],[0.7777777777777778,\"#fb9f3a\"],[0.8888888888888888,\"#fdca26\"],[1.0,\"#f0f921\"]],\"type\":\"contour\"}],\"heatmapgl\":[{\"colorbar\":{\"outlinewidth\":0,\"ticks\":\"\"},\"colorscale\":[[0.0,\"#0d0887\"],[0.1111111111111111,\"#46039f\"],[0.2222222222222222,\"#7201a8\"],[0.3333333333333333,\"#9c179e\"],[0.4444444444444444,\"#bd3786\"],[0.5555555555555556,\"#d8576b\"],[0.6666666666666666,\"#ed7953\"],[0.7777777777777778,\"#fb9f3a\"],[0.8888888888888888,\"#fdca26\"],[1.0,\"#f0f921\"]],\"type\":\"heatmapgl\"}],\"heatmap\":[{\"colorbar\":{\"outlinewidth\":0,\"ticks\":\"\"},\"colorscale\":[[0.0,\"#0d0887\"],[0.1111111111111111,\"#46039f\"],[0.2222222222222222,\"#7201a8\"],[0.3333333333333333,\"#9c179e\"],[0.4444444444444444,\"#bd3786\"],[0.5555555555555556,\"#d8576b\"],[0.6666666666666666,\"#ed7953\"],[0.7777777777777778,\"#fb9f3a\"],[0.8888888888888888,\"#fdca26\"],[1.0,\"#f0f921\"]],\"type\":\"heatmap\"}],\"histogram2dcontour\":[{\"colorbar\":{\"outlinewidth\":0,\"ticks\":\"\"},\"colorscale\":[[0.0,\"#0d0887\"],[0.1111111111111111,\"#46039f\"],[0.2222222222222222,\"#7201a8\"],[0.3333333333333333,\"#9c179e\"],[0.4444444444444444,\"#bd3786\"],[0.5555555555555556,\"#d8576b\"],[0.6666666666666666,\"#ed7953\"],[0.7777777777777778,\"#fb9f3a\"],[0.8888888888888888,\"#fdca26\"],[1.0,\"#f0f921\"]],\"type\":\"histogram2dcontour\"}],\"histogram2d\":[{\"colorbar\":{\"outlinewidth\":0,\"ticks\":\"\"},\"colorscale\":[[0.0,\"#0d0887\"],[0.1111111111111111,\"#46039f\"],[0.2222222222222222,\"#7201a8\"],[0.3333333333333333,\"#9c179e\"],[0.4444444444444444,\"#bd3786\"],[0.5555555555555556,\"#d8576b\"],[0.6666666666666666,\"#ed7953\"],[0.7777777777777778,\"#fb9f3a\"],[0.8888888888888888,\"#fdca26\"],[1.0,\"#f0f921\"]],\"type\":\"histogram2d\"}],\"histogram\":[{\"marker\":{\"pattern\":{\"fillmode\":\"overlay\",\"size\":10,\"solidity\":0.2}},\"type\":\"histogram\"}],\"mesh3d\":[{\"colorbar\":{\"outlinewidth\":0,\"ticks\":\"\"},\"type\":\"mesh3d\"}],\"parcoords\":[{\"line\":{\"colorbar\":{\"outlinewidth\":0,\"ticks\":\"\"}},\"type\":\"parcoords\"}],\"pie\":[{\"automargin\":true,\"type\":\"pie\"}],\"scatter3d\":[{\"line\":{\"colorbar\":{\"outlinewidth\":0,\"ticks\":\"\"}},\"marker\":{\"colorbar\":{\"outlinewidth\":0,\"ticks\":\"\"}},\"type\":\"scatter3d\"}],\"scattercarpet\":[{\"marker\":{\"colorbar\":{\"outlinewidth\":0,\"ticks\":\"\"}},\"type\":\"scattercarpet\"}],\"scattergeo\":[{\"marker\":{\"colorbar\":{\"outlinewidth\":0,\"ticks\":\"\"}},\"type\":\"scattergeo\"}],\"scattergl\":[{\"marker\":{\"colorbar\":{\"outlinewidth\":0,\"ticks\":\"\"}},\"type\":\"scattergl\"}],\"scattermapbox\":[{\"marker\":{\"colorbar\":{\"outlinewidth\":0,\"ticks\":\"\"}},\"type\":\"scattermapbox\"}],\"scatterpolargl\":[{\"marker\":{\"colorbar\":{\"outlinewidth\":0,\"ticks\":\"\"}},\"type\":\"scatterpolargl\"}],\"scatterpolar\":[{\"marker\":{\"colorbar\":{\"outlinewidth\":0,\"ticks\":\"\"}},\"type\":\"scatterpolar\"}],\"scatter\":[{\"fillpattern\":{\"fillmode\":\"overlay\",\"size\":10,\"solidity\":0.2},\"type\":\"scatter\"}],\"scatterternary\":[{\"marker\":{\"colorbar\":{\"outlinewidth\":0,\"ticks\":\"\"}},\"type\":\"scatterternary\"}],\"surface\":[{\"colorbar\":{\"outlinewidth\":0,\"ticks\":\"\"},\"colorscale\":[[0.0,\"#0d0887\"],[0.1111111111111111,\"#46039f\"],[0.2222222222222222,\"#7201a8\"],[0.3333333333333333,\"#9c179e\"],[0.4444444444444444,\"#bd3786\"],[0.5555555555555556,\"#d8576b\"],[0.6666666666666666,\"#ed7953\"],[0.7777777777777778,\"#fb9f3a\"],[0.8888888888888888,\"#fdca26\"],[1.0,\"#f0f921\"]],\"type\":\"surface\"}],\"table\":[{\"cells\":{\"fill\":{\"color\":\"#EBF0F8\"},\"line\":{\"color\":\"white\"}},\"header\":{\"fill\":{\"color\":\"#C8D4E3\"},\"line\":{\"color\":\"white\"}},\"type\":\"table\"}]},\"layout\":{\"annotationdefaults\":{\"arrowcolor\":\"#2a3f5f\",\"arrowhead\":0,\"arrowwidth\":1},\"autotypenumbers\":\"strict\",\"coloraxis\":{\"colorbar\":{\"outlinewidth\":0,\"ticks\":\"\"}},\"colorscale\":{\"diverging\":[[0,\"#8e0152\"],[0.1,\"#c51b7d\"],[0.2,\"#de77ae\"],[0.3,\"#f1b6da\"],[0.4,\"#fde0ef\"],[0.5,\"#f7f7f7\"],[0.6,\"#e6f5d0\"],[0.7,\"#b8e186\"],[0.8,\"#7fbc41\"],[0.9,\"#4d9221\"],[1,\"#276419\"]],\"sequential\":[[0.0,\"#0d0887\"],[0.1111111111111111,\"#46039f\"],[0.2222222222222222,\"#7201a8\"],[0.3333333333333333,\"#9c179e\"],[0.4444444444444444,\"#bd3786\"],[0.5555555555555556,\"#d8576b\"],[0.6666666666666666,\"#ed7953\"],[0.7777777777777778,\"#fb9f3a\"],[0.8888888888888888,\"#fdca26\"],[1.0,\"#f0f921\"]],\"sequentialminus\":[[0.0,\"#0d0887\"],[0.1111111111111111,\"#46039f\"],[0.2222222222222222,\"#7201a8\"],[0.3333333333333333,\"#9c179e\"],[0.4444444444444444,\"#bd3786\"],[0.5555555555555556,\"#d8576b\"],[0.6666666666666666,\"#ed7953\"],[0.7777777777777778,\"#fb9f3a\"],[0.8888888888888888,\"#fdca26\"],[1.0,\"#f0f921\"]]},\"colorway\":[\"#636efa\",\"#EF553B\",\"#00cc96\",\"#ab63fa\",\"#FFA15A\",\"#19d3f3\",\"#FF6692\",\"#B6E880\",\"#FF97FF\",\"#FECB52\"],\"font\":{\"color\":\"#2a3f5f\"},\"geo\":{\"bgcolor\":\"white\",\"lakecolor\":\"white\",\"landcolor\":\"white\",\"showlakes\":true,\"showland\":true,\"subunitcolor\":\"#C8D4E3\"},\"hoverlabel\":{\"align\":\"left\"},\"hovermode\":\"closest\",\"mapbox\":{\"style\":\"light\"},\"paper_bgcolor\":\"white\",\"plot_bgcolor\":\"white\",\"polar\":{\"angularaxis\":{\"gridcolor\":\"#EBF0F8\",\"linecolor\":\"#EBF0F8\",\"ticks\":\"\"},\"bgcolor\":\"white\",\"radialaxis\":{\"gridcolor\":\"#EBF0F8\",\"linecolor\":\"#EBF0F8\",\"ticks\":\"\"}},\"scene\":{\"xaxis\":{\"backgroundcolor\":\"white\",\"gridcolor\":\"#DFE8F3\",\"gridwidth\":2,\"linecolor\":\"#EBF0F8\",\"showbackground\":true,\"ticks\":\"\",\"zerolinecolor\":\"#EBF0F8\"},\"yaxis\":{\"backgroundcolor\":\"white\",\"gridcolor\":\"#DFE8F3\",\"gridwidth\":2,\"linecolor\":\"#EBF0F8\",\"showbackground\":true,\"ticks\":\"\",\"zerolinecolor\":\"#EBF0F8\"},\"zaxis\":{\"backgroundcolor\":\"white\",\"gridcolor\":\"#DFE8F3\",\"gridwidth\":2,\"linecolor\":\"#EBF0F8\",\"showbackground\":true,\"ticks\":\"\",\"zerolinecolor\":\"#EBF0F8\"}},\"shapedefaults\":{\"line\":{\"color\":\"#2a3f5f\"}},\"ternary\":{\"aaxis\":{\"gridcolor\":\"#DFE8F3\",\"linecolor\":\"#A2B1C6\",\"ticks\":\"\"},\"baxis\":{\"gridcolor\":\"#DFE8F3\",\"linecolor\":\"#A2B1C6\",\"ticks\":\"\"},\"bgcolor\":\"white\",\"caxis\":{\"gridcolor\":\"#DFE8F3\",\"linecolor\":\"#A2B1C6\",\"ticks\":\"\"}},\"title\":{\"x\":0.05},\"xaxis\":{\"automargin\":true,\"gridcolor\":\"#EBF0F8\",\"linecolor\":\"#EBF0F8\",\"ticks\":\"\",\"title\":{\"standoff\":15},\"zerolinecolor\":\"#EBF0F8\",\"zerolinewidth\":2},\"yaxis\":{\"automargin\":true,\"gridcolor\":\"#EBF0F8\",\"linecolor\":\"#EBF0F8\",\"ticks\":\"\",\"title\":{\"standoff\":15},\"zerolinecolor\":\"#EBF0F8\",\"zerolinewidth\":2}}},\"xaxis\":{\"title\":{\"font\":{\"weight\":\"bold\",\"color\":\"black\"}},\"tickangle\":90,\"tickfont\":{\"family\":\"Arial\",\"size\":13,\"color\":\"black\",\"weight\":\"bold\"}},\"height\":900,\"width\":800,\"yaxis\":{\"tickfont\":{\"family\":\"Arial\",\"size\":13,\"color\":\"black\",\"weight\":\"bold\"}},\"shapes\":[{\"line\":{\"color\":\"black\",\"width\":1.5},\"type\":\"line\",\"x0\":-0.5,\"x1\":-0.5,\"y0\":-0.5,\"y1\":6.5},{\"line\":{\"color\":\"black\",\"width\":3},\"type\":\"line\",\"x0\":-0.5,\"x1\":9.5,\"y0\":0.5,\"y1\":0.5},{\"line\":{\"color\":\"black\",\"width\":1.5},\"type\":\"line\",\"x0\":0.5,\"x1\":0.5,\"y0\":-0.5,\"y1\":6.5},{\"line\":{\"color\":\"black\",\"width\":3},\"type\":\"line\",\"x0\":-0.5,\"x1\":9.5,\"y0\":0.5,\"y1\":0.5},{\"line\":{\"color\":\"black\",\"width\":3},\"type\":\"line\",\"x0\":-0.5,\"x1\":9.5,\"y0\":0.5,\"y1\":0.5},{\"line\":{\"color\":\"black\",\"width\":1.5},\"type\":\"line\",\"x0\":2.5,\"x1\":2.5,\"y0\":-0.5,\"y1\":6.5},{\"line\":{\"color\":\"black\",\"width\":3},\"type\":\"line\",\"x0\":-0.5,\"x1\":9.5,\"y0\":0.5,\"y1\":0.5},{\"line\":{\"color\":\"black\",\"width\":3},\"type\":\"line\",\"x0\":-0.5,\"x1\":9.5,\"y0\":0.5,\"y1\":0.5},{\"line\":{\"color\":\"black\",\"width\":1.5},\"type\":\"line\",\"x0\":4.5,\"x1\":4.5,\"y0\":-0.5,\"y1\":6.5},{\"line\":{\"color\":\"black\",\"width\":3},\"type\":\"line\",\"x0\":-0.5,\"x1\":9.5,\"y0\":0.5,\"y1\":0.5},{\"line\":{\"color\":\"black\",\"width\":3},\"type\":\"line\",\"x0\":-0.5,\"x1\":9.5,\"y0\":0.5,\"y1\":0.5},{\"line\":{\"color\":\"black\",\"width\":1.5},\"type\":\"line\",\"x0\":6.5,\"x1\":6.5,\"y0\":-0.5,\"y1\":6.5},{\"line\":{\"color\":\"black\",\"width\":3},\"type\":\"line\",\"x0\":-0.5,\"x1\":9.5,\"y0\":0.5,\"y1\":0.5},{\"line\":{\"color\":\"black\",\"width\":3},\"type\":\"line\",\"x0\":-0.5,\"x1\":9.5,\"y0\":0.5,\"y1\":0.5},{\"line\":{\"color\":\"black\",\"width\":3},\"type\":\"line\",\"x0\":8.5,\"x1\":8.5,\"y0\":-0.5,\"y1\":6.5},{\"line\":{\"color\":\"black\",\"width\":3},\"type\":\"line\",\"x0\":-0.5,\"x1\":9.5,\"y0\":0.5,\"y1\":0.5},{\"line\":{\"color\":\"black\",\"width\":1.5},\"type\":\"line\",\"x0\":9.5,\"x1\":9.5,\"y0\":-0.5,\"y1\":6.5},{\"line\":{\"color\":\"black\",\"width\":3},\"type\":\"line\",\"x0\":-0.5,\"x1\":9.5,\"y0\":0.5,\"y1\":0.5}],\"margin\":{\"b\":180},\"annotations\":[{\"align\":\"center\",\"font\":{\"color\":\"black\",\"family\":\"Arial\",\"size\":14,\"weight\":\"bold\"},\"showarrow\":false,\"text\":\"|\\u2009               System                |                    Knowledge                    |\\u200a          Social        \\u200a|              |\",\"x\":0.5,\"xref\":\"paper\",\"y\":-0.25,\"yref\":\"paper\"}]},                        {\"responsive\": true}                    ).then(function(){\n",
       "                            \n",
       "var gd = document.getElementById('559d1f18-5e00-459b-bba1-a411a8edd5f8');\n",
       "var x = new MutationObserver(function (mutations, observer) {{\n",
       "        var display = window.getComputedStyle(gd).display;\n",
       "        if (!display || display === 'none') {{\n",
       "            console.log([gd, 'removed!']);\n",
       "            Plotly.purge(gd);\n",
       "            observer.disconnect();\n",
       "        }}\n",
       "}});\n",
       "\n",
       "// Listen for the removal of the full notebook cells\n",
       "var notebookContainer = gd.closest('#notebook-container');\n",
       "if (notebookContainer) {{\n",
       "    x.observe(notebookContainer, {childList: true});\n",
       "}}\n",
       "\n",
       "// Listen for the clearing of the current output cell\n",
       "var outputEl = gd.closest('.output');\n",
       "if (outputEl) {{\n",
       "    x.observe(outputEl, {childList: true});\n",
       "}}\n",
       "\n",
       "                        })                };                });            </script>        </div>"
      ]
     },
     "metadata": {},
     "output_type": "display_data"
    },
    {
     "data": {
      "application/vnd.plotly.v1+json": {
       "data": [
        {
         "colorbar": {
          "tickformat": ".0%"
         },
         "colorscale": [
          [
           0.0,
           "#fcffa4"
          ],
          [
           0.1111111111111111,
           "#f7d13d"
          ],
          [
           0.2222222222222222,
           "#fb9b06"
          ],
          [
           0.3333333333333333,
           "#ed6925"
          ],
          [
           0.4444444444444444,
           "#cf4446"
          ],
          [
           0.5555555555555556,
           "#a52c60"
          ],
          [
           0.6666666666666666,
           "#781c6d"
          ],
          [
           0.7777777777777778,
           "#4a0c6b"
          ],
          [
           0.8888888888888888,
           "#1b0c41"
          ],
          [
           1.0,
           "#000004"
          ]
         ],
         "texttemplate": "%{z:.0%}",
         "x": [
          [
           " ",
           "  ",
           "   ",
           "    ",
           "     ",
           "⁢"
          ],
          [
           "Description",
           "Diagnosis",
           "Discovery",
           "Prediction",
           "Prescription",
           "Average"
          ]
         ],
         "xgap": 2,
         "y": [
          "Average ",
          "General ",
          "Finance ",
          "Productivity ",
          "Wellbeing ",
          "Learning ",
          "Sustainability "
         ],
         "ygap": 2,
         "z": [
          [
           0.9356772856772858,
           0.1377454245101304,
           0.16718635395105985,
           0.12093647093647093,
           0.06692011692011691,
           0.28569313039901273
          ],
          [
           0.7636363636363637,
           0.09090909090909091,
           0.14545454545454545,
           0.03636363636363636,
           0.10909090909090909,
           0.2290909090909091
          ],
          [
           1.0,
           0.2857142857142857,
           0.14285714285714285,
           0.42857142857142855,
           0.14285714285714285,
           0.39999999999999997
          ],
          [
           1.0,
           0.058823529411764705,
           0.058823529411764705,
           0.0,
           0.0,
           0.2235294117647059
          ],
          [
           0.9615384615384616,
           0.057692307692307696,
           0.21153846153846154,
           0.038461538461538464,
           0.038461538461538464,
           0.26153846153846155
          ],
          [
           0.8888888888888888,
           0.2222222222222222,
           0.2222222222222222,
           0.2222222222222222,
           0.1111111111111111,
           0.33333333333333337
          ],
          [
           1.0,
           0.1111111111111111,
           0.2222222222222222,
           0.0,
           0.0,
           0.2666666666666667
          ]
         ],
         "zmax": 1,
         "zmin": 0,
         "type": "heatmap"
        }
       ],
       "layout": {
        "template": {
         "data": {
          "barpolar": [
           {
            "marker": {
             "line": {
              "color": "white",
              "width": 0.5
             },
             "pattern": {
              "fillmode": "overlay",
              "size": 10,
              "solidity": 0.2
             }
            },
            "type": "barpolar"
           }
          ],
          "bar": [
           {
            "error_x": {
             "color": "#2a3f5f"
            },
            "error_y": {
             "color": "#2a3f5f"
            },
            "marker": {
             "line": {
              "color": "white",
              "width": 0.5
             },
             "pattern": {
              "fillmode": "overlay",
              "size": 10,
              "solidity": 0.2
             }
            },
            "type": "bar"
           }
          ],
          "carpet": [
           {
            "aaxis": {
             "endlinecolor": "#2a3f5f",
             "gridcolor": "#C8D4E3",
             "linecolor": "#C8D4E3",
             "minorgridcolor": "#C8D4E3",
             "startlinecolor": "#2a3f5f"
            },
            "baxis": {
             "endlinecolor": "#2a3f5f",
             "gridcolor": "#C8D4E3",
             "linecolor": "#C8D4E3",
             "minorgridcolor": "#C8D4E3",
             "startlinecolor": "#2a3f5f"
            },
            "type": "carpet"
           }
          ],
          "choropleth": [
           {
            "colorbar": {
             "outlinewidth": 0,
             "ticks": ""
            },
            "type": "choropleth"
           }
          ],
          "contourcarpet": [
           {
            "colorbar": {
             "outlinewidth": 0,
             "ticks": ""
            },
            "type": "contourcarpet"
           }
          ],
          "contour": [
           {
            "colorbar": {
             "outlinewidth": 0,
             "ticks": ""
            },
            "colorscale": [
             [
              0.0,
              "#0d0887"
             ],
             [
              0.1111111111111111,
              "#46039f"
             ],
             [
              0.2222222222222222,
              "#7201a8"
             ],
             [
              0.3333333333333333,
              "#9c179e"
             ],
             [
              0.4444444444444444,
              "#bd3786"
             ],
             [
              0.5555555555555556,
              "#d8576b"
             ],
             [
              0.6666666666666666,
              "#ed7953"
             ],
             [
              0.7777777777777778,
              "#fb9f3a"
             ],
             [
              0.8888888888888888,
              "#fdca26"
             ],
             [
              1.0,
              "#f0f921"
             ]
            ],
            "type": "contour"
           }
          ],
          "heatmapgl": [
           {
            "colorbar": {
             "outlinewidth": 0,
             "ticks": ""
            },
            "colorscale": [
             [
              0.0,
              "#0d0887"
             ],
             [
              0.1111111111111111,
              "#46039f"
             ],
             [
              0.2222222222222222,
              "#7201a8"
             ],
             [
              0.3333333333333333,
              "#9c179e"
             ],
             [
              0.4444444444444444,
              "#bd3786"
             ],
             [
              0.5555555555555556,
              "#d8576b"
             ],
             [
              0.6666666666666666,
              "#ed7953"
             ],
             [
              0.7777777777777778,
              "#fb9f3a"
             ],
             [
              0.8888888888888888,
              "#fdca26"
             ],
             [
              1.0,
              "#f0f921"
             ]
            ],
            "type": "heatmapgl"
           }
          ],
          "heatmap": [
           {
            "colorbar": {
             "outlinewidth": 0,
             "ticks": ""
            },
            "colorscale": [
             [
              0.0,
              "#0d0887"
             ],
             [
              0.1111111111111111,
              "#46039f"
             ],
             [
              0.2222222222222222,
              "#7201a8"
             ],
             [
              0.3333333333333333,
              "#9c179e"
             ],
             [
              0.4444444444444444,
              "#bd3786"
             ],
             [
              0.5555555555555556,
              "#d8576b"
             ],
             [
              0.6666666666666666,
              "#ed7953"
             ],
             [
              0.7777777777777778,
              "#fb9f3a"
             ],
             [
              0.8888888888888888,
              "#fdca26"
             ],
             [
              1.0,
              "#f0f921"
             ]
            ],
            "type": "heatmap"
           }
          ],
          "histogram2dcontour": [
           {
            "colorbar": {
             "outlinewidth": 0,
             "ticks": ""
            },
            "colorscale": [
             [
              0.0,
              "#0d0887"
             ],
             [
              0.1111111111111111,
              "#46039f"
             ],
             [
              0.2222222222222222,
              "#7201a8"
             ],
             [
              0.3333333333333333,
              "#9c179e"
             ],
             [
              0.4444444444444444,
              "#bd3786"
             ],
             [
              0.5555555555555556,
              "#d8576b"
             ],
             [
              0.6666666666666666,
              "#ed7953"
             ],
             [
              0.7777777777777778,
              "#fb9f3a"
             ],
             [
              0.8888888888888888,
              "#fdca26"
             ],
             [
              1.0,
              "#f0f921"
             ]
            ],
            "type": "histogram2dcontour"
           }
          ],
          "histogram2d": [
           {
            "colorbar": {
             "outlinewidth": 0,
             "ticks": ""
            },
            "colorscale": [
             [
              0.0,
              "#0d0887"
             ],
             [
              0.1111111111111111,
              "#46039f"
             ],
             [
              0.2222222222222222,
              "#7201a8"
             ],
             [
              0.3333333333333333,
              "#9c179e"
             ],
             [
              0.4444444444444444,
              "#bd3786"
             ],
             [
              0.5555555555555556,
              "#d8576b"
             ],
             [
              0.6666666666666666,
              "#ed7953"
             ],
             [
              0.7777777777777778,
              "#fb9f3a"
             ],
             [
              0.8888888888888888,
              "#fdca26"
             ],
             [
              1.0,
              "#f0f921"
             ]
            ],
            "type": "histogram2d"
           }
          ],
          "histogram": [
           {
            "marker": {
             "pattern": {
              "fillmode": "overlay",
              "size": 10,
              "solidity": 0.2
             }
            },
            "type": "histogram"
           }
          ],
          "mesh3d": [
           {
            "colorbar": {
             "outlinewidth": 0,
             "ticks": ""
            },
            "type": "mesh3d"
           }
          ],
          "parcoords": [
           {
            "line": {
             "colorbar": {
              "outlinewidth": 0,
              "ticks": ""
             }
            },
            "type": "parcoords"
           }
          ],
          "pie": [
           {
            "automargin": true,
            "type": "pie"
           }
          ],
          "scatter3d": [
           {
            "line": {
             "colorbar": {
              "outlinewidth": 0,
              "ticks": ""
             }
            },
            "marker": {
             "colorbar": {
              "outlinewidth": 0,
              "ticks": ""
             }
            },
            "type": "scatter3d"
           }
          ],
          "scattercarpet": [
           {
            "marker": {
             "colorbar": {
              "outlinewidth": 0,
              "ticks": ""
             }
            },
            "type": "scattercarpet"
           }
          ],
          "scattergeo": [
           {
            "marker": {
             "colorbar": {
              "outlinewidth": 0,
              "ticks": ""
             }
            },
            "type": "scattergeo"
           }
          ],
          "scattergl": [
           {
            "marker": {
             "colorbar": {
              "outlinewidth": 0,
              "ticks": ""
             }
            },
            "type": "scattergl"
           }
          ],
          "scattermapbox": [
           {
            "marker": {
             "colorbar": {
              "outlinewidth": 0,
              "ticks": ""
             }
            },
            "type": "scattermapbox"
           }
          ],
          "scatterpolargl": [
           {
            "marker": {
             "colorbar": {
              "outlinewidth": 0,
              "ticks": ""
             }
            },
            "type": "scatterpolargl"
           }
          ],
          "scatterpolar": [
           {
            "marker": {
             "colorbar": {
              "outlinewidth": 0,
              "ticks": ""
             }
            },
            "type": "scatterpolar"
           }
          ],
          "scatter": [
           {
            "fillpattern": {
             "fillmode": "overlay",
             "size": 10,
             "solidity": 0.2
            },
            "type": "scatter"
           }
          ],
          "scatterternary": [
           {
            "marker": {
             "colorbar": {
              "outlinewidth": 0,
              "ticks": ""
             }
            },
            "type": "scatterternary"
           }
          ],
          "surface": [
           {
            "colorbar": {
             "outlinewidth": 0,
             "ticks": ""
            },
            "colorscale": [
             [
              0.0,
              "#0d0887"
             ],
             [
              0.1111111111111111,
              "#46039f"
             ],
             [
              0.2222222222222222,
              "#7201a8"
             ],
             [
              0.3333333333333333,
              "#9c179e"
             ],
             [
              0.4444444444444444,
              "#bd3786"
             ],
             [
              0.5555555555555556,
              "#d8576b"
             ],
             [
              0.6666666666666666,
              "#ed7953"
             ],
             [
              0.7777777777777778,
              "#fb9f3a"
             ],
             [
              0.8888888888888888,
              "#fdca26"
             ],
             [
              1.0,
              "#f0f921"
             ]
            ],
            "type": "surface"
           }
          ],
          "table": [
           {
            "cells": {
             "fill": {
              "color": "#EBF0F8"
             },
             "line": {
              "color": "white"
             }
            },
            "header": {
             "fill": {
              "color": "#C8D4E3"
             },
             "line": {
              "color": "white"
             }
            },
            "type": "table"
           }
          ]
         },
         "layout": {
          "annotationdefaults": {
           "arrowcolor": "#2a3f5f",
           "arrowhead": 0,
           "arrowwidth": 1
          },
          "autotypenumbers": "strict",
          "coloraxis": {
           "colorbar": {
            "outlinewidth": 0,
            "ticks": ""
           }
          },
          "colorscale": {
           "diverging": [
            [
             0,
             "#8e0152"
            ],
            [
             0.1,
             "#c51b7d"
            ],
            [
             0.2,
             "#de77ae"
            ],
            [
             0.3,
             "#f1b6da"
            ],
            [
             0.4,
             "#fde0ef"
            ],
            [
             0.5,
             "#f7f7f7"
            ],
            [
             0.6,
             "#e6f5d0"
            ],
            [
             0.7,
             "#b8e186"
            ],
            [
             0.8,
             "#7fbc41"
            ],
            [
             0.9,
             "#4d9221"
            ],
            [
             1,
             "#276419"
            ]
           ],
           "sequential": [
            [
             0.0,
             "#0d0887"
            ],
            [
             0.1111111111111111,
             "#46039f"
            ],
            [
             0.2222222222222222,
             "#7201a8"
            ],
            [
             0.3333333333333333,
             "#9c179e"
            ],
            [
             0.4444444444444444,
             "#bd3786"
            ],
            [
             0.5555555555555556,
             "#d8576b"
            ],
            [
             0.6666666666666666,
             "#ed7953"
            ],
            [
             0.7777777777777778,
             "#fb9f3a"
            ],
            [
             0.8888888888888888,
             "#fdca26"
            ],
            [
             1.0,
             "#f0f921"
            ]
           ],
           "sequentialminus": [
            [
             0.0,
             "#0d0887"
            ],
            [
             0.1111111111111111,
             "#46039f"
            ],
            [
             0.2222222222222222,
             "#7201a8"
            ],
            [
             0.3333333333333333,
             "#9c179e"
            ],
            [
             0.4444444444444444,
             "#bd3786"
            ],
            [
             0.5555555555555556,
             "#d8576b"
            ],
            [
             0.6666666666666666,
             "#ed7953"
            ],
            [
             0.7777777777777778,
             "#fb9f3a"
            ],
            [
             0.8888888888888888,
             "#fdca26"
            ],
            [
             1.0,
             "#f0f921"
            ]
           ]
          },
          "colorway": [
           "#636efa",
           "#EF553B",
           "#00cc96",
           "#ab63fa",
           "#FFA15A",
           "#19d3f3",
           "#FF6692",
           "#B6E880",
           "#FF97FF",
           "#FECB52"
          ],
          "font": {
           "color": "#2a3f5f"
          },
          "geo": {
           "bgcolor": "white",
           "lakecolor": "white",
           "landcolor": "white",
           "showlakes": true,
           "showland": true,
           "subunitcolor": "#C8D4E3"
          },
          "hoverlabel": {
           "align": "left"
          },
          "hovermode": "closest",
          "mapbox": {
           "style": "light"
          },
          "paper_bgcolor": "white",
          "plot_bgcolor": "white",
          "polar": {
           "angularaxis": {
            "gridcolor": "#EBF0F8",
            "linecolor": "#EBF0F8",
            "ticks": ""
           },
           "bgcolor": "white",
           "radialaxis": {
            "gridcolor": "#EBF0F8",
            "linecolor": "#EBF0F8",
            "ticks": ""
           }
          },
          "scene": {
           "xaxis": {
            "backgroundcolor": "white",
            "gridcolor": "#DFE8F3",
            "gridwidth": 2,
            "linecolor": "#EBF0F8",
            "showbackground": true,
            "ticks": "",
            "zerolinecolor": "#EBF0F8"
           },
           "yaxis": {
            "backgroundcolor": "white",
            "gridcolor": "#DFE8F3",
            "gridwidth": 2,
            "linecolor": "#EBF0F8",
            "showbackground": true,
            "ticks": "",
            "zerolinecolor": "#EBF0F8"
           },
           "zaxis": {
            "backgroundcolor": "white",
            "gridcolor": "#DFE8F3",
            "gridwidth": 2,
            "linecolor": "#EBF0F8",
            "showbackground": true,
            "ticks": "",
            "zerolinecolor": "#EBF0F8"
           }
          },
          "shapedefaults": {
           "line": {
            "color": "#2a3f5f"
           }
          },
          "ternary": {
           "aaxis": {
            "gridcolor": "#DFE8F3",
            "linecolor": "#A2B1C6",
            "ticks": ""
           },
           "baxis": {
            "gridcolor": "#DFE8F3",
            "linecolor": "#A2B1C6",
            "ticks": ""
           },
           "bgcolor": "white",
           "caxis": {
            "gridcolor": "#DFE8F3",
            "linecolor": "#A2B1C6",
            "ticks": ""
           }
          },
          "title": {
           "x": 0.05
          },
          "xaxis": {
           "automargin": true,
           "gridcolor": "#EBF0F8",
           "linecolor": "#EBF0F8",
           "ticks": "",
           "title": {
            "standoff": 15
           },
           "zerolinecolor": "#EBF0F8",
           "zerolinewidth": 2
          },
          "yaxis": {
           "automargin": true,
           "gridcolor": "#EBF0F8",
           "linecolor": "#EBF0F8",
           "ticks": "",
           "title": {
            "standoff": 15
           },
           "zerolinecolor": "#EBF0F8",
           "zerolinewidth": 2
          }
         }
        },
        "xaxis": {
         "title": {
          "font": {
           "weight": "bold",
           "color": "black"
          }
         },
         "tickangle": 90,
         "tickfont": {
          "family": "Arial",
          "size": 13,
          "color": "black",
          "weight": "bold"
         }
        },
        "height": 900,
        "width": 800,
        "yaxis": {
         "tickfont": {
          "family": "Arial",
          "size": 13,
          "color": "black",
          "weight": "bold"
         }
        },
        "shapes": [
         {
          "line": {
           "color": "black",
           "width": 1.5
          },
          "type": "line",
          "x0": -0.5,
          "x1": -0.5,
          "y0": -0.5,
          "y1": 6.5
         },
         {
          "line": {
           "color": "black",
           "width": 3
          },
          "type": "line",
          "x0": -0.5,
          "x1": 5.5,
          "y0": 0.5,
          "y1": 0.5
         },
         {
          "line": {
           "color": "black",
           "width": 1.5
          },
          "type": "line",
          "x0": 0.5,
          "x1": 0.5,
          "y0": -0.5,
          "y1": 6.5
         },
         {
          "line": {
           "color": "black",
           "width": 3
          },
          "type": "line",
          "x0": -0.5,
          "x1": 5.5,
          "y0": 0.5,
          "y1": 0.5
         },
         {
          "line": {
           "color": "black",
           "width": 1.5
          },
          "type": "line",
          "x0": 1.5,
          "x1": 1.5,
          "y0": -0.5,
          "y1": 6.5
         },
         {
          "line": {
           "color": "black",
           "width": 3
          },
          "type": "line",
          "x0": -0.5,
          "x1": 5.5,
          "y0": 0.5,
          "y1": 0.5
         },
         {
          "line": {
           "color": "black",
           "width": 1.5
          },
          "type": "line",
          "x0": 2.5,
          "x1": 2.5,
          "y0": -0.5,
          "y1": 6.5
         },
         {
          "line": {
           "color": "black",
           "width": 3
          },
          "type": "line",
          "x0": -0.5,
          "x1": 5.5,
          "y0": 0.5,
          "y1": 0.5
         },
         {
          "line": {
           "color": "black",
           "width": 1.5
          },
          "type": "line",
          "x0": 3.5,
          "x1": 3.5,
          "y0": -0.5,
          "y1": 6.5
         },
         {
          "line": {
           "color": "black",
           "width": 3
          },
          "type": "line",
          "x0": -0.5,
          "x1": 5.5,
          "y0": 0.5,
          "y1": 0.5
         },
         {
          "line": {
           "color": "black",
           "width": 3
          },
          "type": "line",
          "x0": 4.5,
          "x1": 4.5,
          "y0": -0.5,
          "y1": 6.5
         },
         {
          "line": {
           "color": "black",
           "width": 3
          },
          "type": "line",
          "x0": -0.5,
          "x1": 5.5,
          "y0": 0.5,
          "y1": 0.5
         },
         {
          "line": {
           "color": "black",
           "width": 1.5
          },
          "type": "line",
          "x0": 5.5,
          "x1": 5.5,
          "y0": -0.5,
          "y1": 6.5
         },
         {
          "line": {
           "color": "black",
           "width": 3
          },
          "type": "line",
          "x0": -0.5,
          "x1": 5.5,
          "y0": 0.5,
          "y1": 0.5
         }
        ],
        "margin": {
         "b": 180
        }
       },
       "config": {
        "plotlyServerURL": "https://plot.ly"
       }
      },
      "text/html": [
       "<div>                            <div id=\"e27a5d75-e396-4711-9258-76986afab30b\" class=\"plotly-graph-div\" style=\"height:900px; width:800px;\"></div>            <script type=\"text/javascript\">                require([\"plotly\"], function(Plotly) {                    window.PLOTLYENV=window.PLOTLYENV || {};                                    if (document.getElementById(\"e27a5d75-e396-4711-9258-76986afab30b\")) {                    Plotly.newPlot(                        \"e27a5d75-e396-4711-9258-76986afab30b\",                        [{\"colorbar\":{\"tickformat\":\".0%\"},\"colorscale\":[[0.0,\"#fcffa4\"],[0.1111111111111111,\"#f7d13d\"],[0.2222222222222222,\"#fb9b06\"],[0.3333333333333333,\"#ed6925\"],[0.4444444444444444,\"#cf4446\"],[0.5555555555555556,\"#a52c60\"],[0.6666666666666666,\"#781c6d\"],[0.7777777777777778,\"#4a0c6b\"],[0.8888888888888888,\"#1b0c41\"],[1.0,\"#000004\"]],\"texttemplate\":\"%{z:.0%}\",\"x\":[[\" \",\"  \",\"   \",\"    \",\"     \",\"\\u2062\"],[\"Description\",\"Diagnosis\",\"Discovery\",\"Prediction\",\"Prescription\",\"Average\"]],\"xgap\":2,\"y\":[\"Average \",\"General \",\"Finance \",\"Productivity \",\"Wellbeing \",\"Learning \",\"Sustainability \"],\"ygap\":2,\"z\":[[0.9356772856772858,0.1377454245101304,0.16718635395105985,0.12093647093647093,0.06692011692011691,0.28569313039901273],[0.7636363636363637,0.09090909090909091,0.14545454545454545,0.03636363636363636,0.10909090909090909,0.2290909090909091],[1.0,0.2857142857142857,0.14285714285714285,0.42857142857142855,0.14285714285714285,0.39999999999999997],[1.0,0.058823529411764705,0.058823529411764705,0.0,0.0,0.2235294117647059],[0.9615384615384616,0.057692307692307696,0.21153846153846154,0.038461538461538464,0.038461538461538464,0.26153846153846155],[0.8888888888888888,0.2222222222222222,0.2222222222222222,0.2222222222222222,0.1111111111111111,0.33333333333333337],[1.0,0.1111111111111111,0.2222222222222222,0.0,0.0,0.2666666666666667]],\"zmax\":1,\"zmin\":0,\"type\":\"heatmap\"}],                        {\"template\":{\"data\":{\"barpolar\":[{\"marker\":{\"line\":{\"color\":\"white\",\"width\":0.5},\"pattern\":{\"fillmode\":\"overlay\",\"size\":10,\"solidity\":0.2}},\"type\":\"barpolar\"}],\"bar\":[{\"error_x\":{\"color\":\"#2a3f5f\"},\"error_y\":{\"color\":\"#2a3f5f\"},\"marker\":{\"line\":{\"color\":\"white\",\"width\":0.5},\"pattern\":{\"fillmode\":\"overlay\",\"size\":10,\"solidity\":0.2}},\"type\":\"bar\"}],\"carpet\":[{\"aaxis\":{\"endlinecolor\":\"#2a3f5f\",\"gridcolor\":\"#C8D4E3\",\"linecolor\":\"#C8D4E3\",\"minorgridcolor\":\"#C8D4E3\",\"startlinecolor\":\"#2a3f5f\"},\"baxis\":{\"endlinecolor\":\"#2a3f5f\",\"gridcolor\":\"#C8D4E3\",\"linecolor\":\"#C8D4E3\",\"minorgridcolor\":\"#C8D4E3\",\"startlinecolor\":\"#2a3f5f\"},\"type\":\"carpet\"}],\"choropleth\":[{\"colorbar\":{\"outlinewidth\":0,\"ticks\":\"\"},\"type\":\"choropleth\"}],\"contourcarpet\":[{\"colorbar\":{\"outlinewidth\":0,\"ticks\":\"\"},\"type\":\"contourcarpet\"}],\"contour\":[{\"colorbar\":{\"outlinewidth\":0,\"ticks\":\"\"},\"colorscale\":[[0.0,\"#0d0887\"],[0.1111111111111111,\"#46039f\"],[0.2222222222222222,\"#7201a8\"],[0.3333333333333333,\"#9c179e\"],[0.4444444444444444,\"#bd3786\"],[0.5555555555555556,\"#d8576b\"],[0.6666666666666666,\"#ed7953\"],[0.7777777777777778,\"#fb9f3a\"],[0.8888888888888888,\"#fdca26\"],[1.0,\"#f0f921\"]],\"type\":\"contour\"}],\"heatmapgl\":[{\"colorbar\":{\"outlinewidth\":0,\"ticks\":\"\"},\"colorscale\":[[0.0,\"#0d0887\"],[0.1111111111111111,\"#46039f\"],[0.2222222222222222,\"#7201a8\"],[0.3333333333333333,\"#9c179e\"],[0.4444444444444444,\"#bd3786\"],[0.5555555555555556,\"#d8576b\"],[0.6666666666666666,\"#ed7953\"],[0.7777777777777778,\"#fb9f3a\"],[0.8888888888888888,\"#fdca26\"],[1.0,\"#f0f921\"]],\"type\":\"heatmapgl\"}],\"heatmap\":[{\"colorbar\":{\"outlinewidth\":0,\"ticks\":\"\"},\"colorscale\":[[0.0,\"#0d0887\"],[0.1111111111111111,\"#46039f\"],[0.2222222222222222,\"#7201a8\"],[0.3333333333333333,\"#9c179e\"],[0.4444444444444444,\"#bd3786\"],[0.5555555555555556,\"#d8576b\"],[0.6666666666666666,\"#ed7953\"],[0.7777777777777778,\"#fb9f3a\"],[0.8888888888888888,\"#fdca26\"],[1.0,\"#f0f921\"]],\"type\":\"heatmap\"}],\"histogram2dcontour\":[{\"colorbar\":{\"outlinewidth\":0,\"ticks\":\"\"},\"colorscale\":[[0.0,\"#0d0887\"],[0.1111111111111111,\"#46039f\"],[0.2222222222222222,\"#7201a8\"],[0.3333333333333333,\"#9c179e\"],[0.4444444444444444,\"#bd3786\"],[0.5555555555555556,\"#d8576b\"],[0.6666666666666666,\"#ed7953\"],[0.7777777777777778,\"#fb9f3a\"],[0.8888888888888888,\"#fdca26\"],[1.0,\"#f0f921\"]],\"type\":\"histogram2dcontour\"}],\"histogram2d\":[{\"colorbar\":{\"outlinewidth\":0,\"ticks\":\"\"},\"colorscale\":[[0.0,\"#0d0887\"],[0.1111111111111111,\"#46039f\"],[0.2222222222222222,\"#7201a8\"],[0.3333333333333333,\"#9c179e\"],[0.4444444444444444,\"#bd3786\"],[0.5555555555555556,\"#d8576b\"],[0.6666666666666666,\"#ed7953\"],[0.7777777777777778,\"#fb9f3a\"],[0.8888888888888888,\"#fdca26\"],[1.0,\"#f0f921\"]],\"type\":\"histogram2d\"}],\"histogram\":[{\"marker\":{\"pattern\":{\"fillmode\":\"overlay\",\"size\":10,\"solidity\":0.2}},\"type\":\"histogram\"}],\"mesh3d\":[{\"colorbar\":{\"outlinewidth\":0,\"ticks\":\"\"},\"type\":\"mesh3d\"}],\"parcoords\":[{\"line\":{\"colorbar\":{\"outlinewidth\":0,\"ticks\":\"\"}},\"type\":\"parcoords\"}],\"pie\":[{\"automargin\":true,\"type\":\"pie\"}],\"scatter3d\":[{\"line\":{\"colorbar\":{\"outlinewidth\":0,\"ticks\":\"\"}},\"marker\":{\"colorbar\":{\"outlinewidth\":0,\"ticks\":\"\"}},\"type\":\"scatter3d\"}],\"scattercarpet\":[{\"marker\":{\"colorbar\":{\"outlinewidth\":0,\"ticks\":\"\"}},\"type\":\"scattercarpet\"}],\"scattergeo\":[{\"marker\":{\"colorbar\":{\"outlinewidth\":0,\"ticks\":\"\"}},\"type\":\"scattergeo\"}],\"scattergl\":[{\"marker\":{\"colorbar\":{\"outlinewidth\":0,\"ticks\":\"\"}},\"type\":\"scattergl\"}],\"scattermapbox\":[{\"marker\":{\"colorbar\":{\"outlinewidth\":0,\"ticks\":\"\"}},\"type\":\"scattermapbox\"}],\"scatterpolargl\":[{\"marker\":{\"colorbar\":{\"outlinewidth\":0,\"ticks\":\"\"}},\"type\":\"scatterpolargl\"}],\"scatterpolar\":[{\"marker\":{\"colorbar\":{\"outlinewidth\":0,\"ticks\":\"\"}},\"type\":\"scatterpolar\"}],\"scatter\":[{\"fillpattern\":{\"fillmode\":\"overlay\",\"size\":10,\"solidity\":0.2},\"type\":\"scatter\"}],\"scatterternary\":[{\"marker\":{\"colorbar\":{\"outlinewidth\":0,\"ticks\":\"\"}},\"type\":\"scatterternary\"}],\"surface\":[{\"colorbar\":{\"outlinewidth\":0,\"ticks\":\"\"},\"colorscale\":[[0.0,\"#0d0887\"],[0.1111111111111111,\"#46039f\"],[0.2222222222222222,\"#7201a8\"],[0.3333333333333333,\"#9c179e\"],[0.4444444444444444,\"#bd3786\"],[0.5555555555555556,\"#d8576b\"],[0.6666666666666666,\"#ed7953\"],[0.7777777777777778,\"#fb9f3a\"],[0.8888888888888888,\"#fdca26\"],[1.0,\"#f0f921\"]],\"type\":\"surface\"}],\"table\":[{\"cells\":{\"fill\":{\"color\":\"#EBF0F8\"},\"line\":{\"color\":\"white\"}},\"header\":{\"fill\":{\"color\":\"#C8D4E3\"},\"line\":{\"color\":\"white\"}},\"type\":\"table\"}]},\"layout\":{\"annotationdefaults\":{\"arrowcolor\":\"#2a3f5f\",\"arrowhead\":0,\"arrowwidth\":1},\"autotypenumbers\":\"strict\",\"coloraxis\":{\"colorbar\":{\"outlinewidth\":0,\"ticks\":\"\"}},\"colorscale\":{\"diverging\":[[0,\"#8e0152\"],[0.1,\"#c51b7d\"],[0.2,\"#de77ae\"],[0.3,\"#f1b6da\"],[0.4,\"#fde0ef\"],[0.5,\"#f7f7f7\"],[0.6,\"#e6f5d0\"],[0.7,\"#b8e186\"],[0.8,\"#7fbc41\"],[0.9,\"#4d9221\"],[1,\"#276419\"]],\"sequential\":[[0.0,\"#0d0887\"],[0.1111111111111111,\"#46039f\"],[0.2222222222222222,\"#7201a8\"],[0.3333333333333333,\"#9c179e\"],[0.4444444444444444,\"#bd3786\"],[0.5555555555555556,\"#d8576b\"],[0.6666666666666666,\"#ed7953\"],[0.7777777777777778,\"#fb9f3a\"],[0.8888888888888888,\"#fdca26\"],[1.0,\"#f0f921\"]],\"sequentialminus\":[[0.0,\"#0d0887\"],[0.1111111111111111,\"#46039f\"],[0.2222222222222222,\"#7201a8\"],[0.3333333333333333,\"#9c179e\"],[0.4444444444444444,\"#bd3786\"],[0.5555555555555556,\"#d8576b\"],[0.6666666666666666,\"#ed7953\"],[0.7777777777777778,\"#fb9f3a\"],[0.8888888888888888,\"#fdca26\"],[1.0,\"#f0f921\"]]},\"colorway\":[\"#636efa\",\"#EF553B\",\"#00cc96\",\"#ab63fa\",\"#FFA15A\",\"#19d3f3\",\"#FF6692\",\"#B6E880\",\"#FF97FF\",\"#FECB52\"],\"font\":{\"color\":\"#2a3f5f\"},\"geo\":{\"bgcolor\":\"white\",\"lakecolor\":\"white\",\"landcolor\":\"white\",\"showlakes\":true,\"showland\":true,\"subunitcolor\":\"#C8D4E3\"},\"hoverlabel\":{\"align\":\"left\"},\"hovermode\":\"closest\",\"mapbox\":{\"style\":\"light\"},\"paper_bgcolor\":\"white\",\"plot_bgcolor\":\"white\",\"polar\":{\"angularaxis\":{\"gridcolor\":\"#EBF0F8\",\"linecolor\":\"#EBF0F8\",\"ticks\":\"\"},\"bgcolor\":\"white\",\"radialaxis\":{\"gridcolor\":\"#EBF0F8\",\"linecolor\":\"#EBF0F8\",\"ticks\":\"\"}},\"scene\":{\"xaxis\":{\"backgroundcolor\":\"white\",\"gridcolor\":\"#DFE8F3\",\"gridwidth\":2,\"linecolor\":\"#EBF0F8\",\"showbackground\":true,\"ticks\":\"\",\"zerolinecolor\":\"#EBF0F8\"},\"yaxis\":{\"backgroundcolor\":\"white\",\"gridcolor\":\"#DFE8F3\",\"gridwidth\":2,\"linecolor\":\"#EBF0F8\",\"showbackground\":true,\"ticks\":\"\",\"zerolinecolor\":\"#EBF0F8\"},\"zaxis\":{\"backgroundcolor\":\"white\",\"gridcolor\":\"#DFE8F3\",\"gridwidth\":2,\"linecolor\":\"#EBF0F8\",\"showbackground\":true,\"ticks\":\"\",\"zerolinecolor\":\"#EBF0F8\"}},\"shapedefaults\":{\"line\":{\"color\":\"#2a3f5f\"}},\"ternary\":{\"aaxis\":{\"gridcolor\":\"#DFE8F3\",\"linecolor\":\"#A2B1C6\",\"ticks\":\"\"},\"baxis\":{\"gridcolor\":\"#DFE8F3\",\"linecolor\":\"#A2B1C6\",\"ticks\":\"\"},\"bgcolor\":\"white\",\"caxis\":{\"gridcolor\":\"#DFE8F3\",\"linecolor\":\"#A2B1C6\",\"ticks\":\"\"}},\"title\":{\"x\":0.05},\"xaxis\":{\"automargin\":true,\"gridcolor\":\"#EBF0F8\",\"linecolor\":\"#EBF0F8\",\"ticks\":\"\",\"title\":{\"standoff\":15},\"zerolinecolor\":\"#EBF0F8\",\"zerolinewidth\":2},\"yaxis\":{\"automargin\":true,\"gridcolor\":\"#EBF0F8\",\"linecolor\":\"#EBF0F8\",\"ticks\":\"\",\"title\":{\"standoff\":15},\"zerolinecolor\":\"#EBF0F8\",\"zerolinewidth\":2}}},\"xaxis\":{\"title\":{\"font\":{\"weight\":\"bold\",\"color\":\"black\"}},\"tickangle\":90,\"tickfont\":{\"family\":\"Arial\",\"size\":13,\"color\":\"black\",\"weight\":\"bold\"}},\"height\":900,\"width\":800,\"yaxis\":{\"tickfont\":{\"family\":\"Arial\",\"size\":13,\"color\":\"black\",\"weight\":\"bold\"}},\"shapes\":[{\"line\":{\"color\":\"black\",\"width\":1.5},\"type\":\"line\",\"x0\":-0.5,\"x1\":-0.5,\"y0\":-0.5,\"y1\":6.5},{\"line\":{\"color\":\"black\",\"width\":3},\"type\":\"line\",\"x0\":-0.5,\"x1\":5.5,\"y0\":0.5,\"y1\":0.5},{\"line\":{\"color\":\"black\",\"width\":1.5},\"type\":\"line\",\"x0\":0.5,\"x1\":0.5,\"y0\":-0.5,\"y1\":6.5},{\"line\":{\"color\":\"black\",\"width\":3},\"type\":\"line\",\"x0\":-0.5,\"x1\":5.5,\"y0\":0.5,\"y1\":0.5},{\"line\":{\"color\":\"black\",\"width\":1.5},\"type\":\"line\",\"x0\":1.5,\"x1\":1.5,\"y0\":-0.5,\"y1\":6.5},{\"line\":{\"color\":\"black\",\"width\":3},\"type\":\"line\",\"x0\":-0.5,\"x1\":5.5,\"y0\":0.5,\"y1\":0.5},{\"line\":{\"color\":\"black\",\"width\":1.5},\"type\":\"line\",\"x0\":2.5,\"x1\":2.5,\"y0\":-0.5,\"y1\":6.5},{\"line\":{\"color\":\"black\",\"width\":3},\"type\":\"line\",\"x0\":-0.5,\"x1\":5.5,\"y0\":0.5,\"y1\":0.5},{\"line\":{\"color\":\"black\",\"width\":1.5},\"type\":\"line\",\"x0\":3.5,\"x1\":3.5,\"y0\":-0.5,\"y1\":6.5},{\"line\":{\"color\":\"black\",\"width\":3},\"type\":\"line\",\"x0\":-0.5,\"x1\":5.5,\"y0\":0.5,\"y1\":0.5},{\"line\":{\"color\":\"black\",\"width\":3},\"type\":\"line\",\"x0\":4.5,\"x1\":4.5,\"y0\":-0.5,\"y1\":6.5},{\"line\":{\"color\":\"black\",\"width\":3},\"type\":\"line\",\"x0\":-0.5,\"x1\":5.5,\"y0\":0.5,\"y1\":0.5},{\"line\":{\"color\":\"black\",\"width\":1.5},\"type\":\"line\",\"x0\":5.5,\"x1\":5.5,\"y0\":-0.5,\"y1\":6.5},{\"line\":{\"color\":\"black\",\"width\":3},\"type\":\"line\",\"x0\":-0.5,\"x1\":5.5,\"y0\":0.5,\"y1\":0.5}],\"margin\":{\"b\":180}},                        {\"responsive\": true}                    ).then(function(){\n",
       "                            \n",
       "var gd = document.getElementById('e27a5d75-e396-4711-9258-76986afab30b');\n",
       "var x = new MutationObserver(function (mutations, observer) {{\n",
       "        var display = window.getComputedStyle(gd).display;\n",
       "        if (!display || display === 'none') {{\n",
       "            console.log([gd, 'removed!']);\n",
       "            Plotly.purge(gd);\n",
       "            observer.disconnect();\n",
       "        }}\n",
       "}});\n",
       "\n",
       "// Listen for the removal of the full notebook cells\n",
       "var notebookContainer = gd.closest('#notebook-container');\n",
       "if (notebookContainer) {{\n",
       "    x.observe(notebookContainer, {childList: true});\n",
       "}}\n",
       "\n",
       "// Listen for the clearing of the current output cell\n",
       "var outputEl = gd.closest('.output');\n",
       "if (outputEl) {{\n",
       "    x.observe(outputEl, {childList: true});\n",
       "}}\n",
       "\n",
       "                        })                };                });            </script>        </div>"
      ]
     },
     "metadata": {},
     "output_type": "display_data"
    },
    {
     "data": {
      "application/vnd.plotly.v1+json": {
       "data": [
        {
         "colorbar": {
          "tickformat": ".0%"
         },
         "colorscale": [
          [
           0.0,
           "#fcffa4"
          ],
          [
           0.1111111111111111,
           "#f7d13d"
          ],
          [
           0.2222222222222222,
           "#fb9b06"
          ],
          [
           0.3333333333333333,
           "#ed6925"
          ],
          [
           0.4444444444444444,
           "#cf4446"
          ],
          [
           0.5555555555555556,
           "#a52c60"
          ],
          [
           0.6666666666666666,
           "#781c6d"
          ],
          [
           0.7777777777777778,
           "#4a0c6b"
          ],
          [
           0.8888888888888888,
           "#1b0c41"
          ],
          [
           1.0,
           "#000004"
          ]
         ],
         "texttemplate": "%{z:.0%}",
         "x": [
          [
           " ",
           "Diversification",
           "Diversification",
           "Enrichment",
           "Enrichment",
           "Derivation",
           "Derivation",
           "  ",
           "  ",
           "   "
          ],
          [
           "Integration",
           "Adaptation",
           "Recommendation",
           "Profile",
           "Context",
           "Interpretation of<br>User Behaviour",
           "Explanation of<br>System Behaviour",
           "Relation",
           "Interaction",
           "Average"
          ]
         ],
         "xgap": 2,
         "y": [
          "Average ",
          "General ",
          "Finance ",
          "Productivity ",
          "Wellbeing ",
          "Learning ",
          "Sustainability "
         ],
         "ygap": 2,
         "z": [
          [
           0.11650707680119443,
           0.04608430784901374,
           0.00980392156862745,
           0.2602428073016308,
           0.07439303615774204,
           0.027609427609427608,
           0.05479890479890479,
           0.18588045940987116,
           0.20083048759519348,
           0.10846115878795613
          ],
          [
           0.12727272727272726,
           0.03636363636363636,
           0.0,
           0.14545454545454545,
           0.01818181818181818,
           0.05454545454545454,
           0.03636363636363636,
           0.07272727272727272,
           0.09090909090909091,
           0.06464646464646465
          ],
          [
           0.0,
           0.14285714285714285,
           0.0,
           0.42857142857142855,
           0.14285714285714285,
           0.0,
           0.14285714285714285,
           0.14285714285714285,
           0.14285714285714285,
           0.12698412698412698
          ],
          [
           0.17647058823529413,
           0.058823529411764705,
           0.058823529411764705,
           0.23529411764705882,
           0.058823529411764705,
           0.0,
           0.0,
           0.11764705882352941,
           0.058823529411764705,
           0.0849673202614379
          ],
          [
           0.17307692307692307,
           0.038461538461538464,
           0.0,
           0.3076923076923077,
           0.11538461538461539,
           0.0,
           0.038461538461538464,
           0.11538461538461539,
           0.1346153846153846,
           0.10256410256410257
          ],
          [
           0.1111111111111111,
           0.0,
           0.0,
           0.1111111111111111,
           0.0,
           0.0,
           0.0,
           0.3333333333333333,
           0.4444444444444444,
           0.1111111111111111
          ],
          [
           0.1111111111111111,
           0.0,
           0.0,
           0.3333333333333333,
           0.1111111111111111,
           0.1111111111111111,
           0.1111111111111111,
           0.3333333333333333,
           0.3333333333333333,
           0.16049382716049382
          ]
         ],
         "zmax": 1,
         "zmin": 0,
         "type": "heatmap"
        }
       ],
       "layout": {
        "template": {
         "data": {
          "barpolar": [
           {
            "marker": {
             "line": {
              "color": "white",
              "width": 0.5
             },
             "pattern": {
              "fillmode": "overlay",
              "size": 10,
              "solidity": 0.2
             }
            },
            "type": "barpolar"
           }
          ],
          "bar": [
           {
            "error_x": {
             "color": "#2a3f5f"
            },
            "error_y": {
             "color": "#2a3f5f"
            },
            "marker": {
             "line": {
              "color": "white",
              "width": 0.5
             },
             "pattern": {
              "fillmode": "overlay",
              "size": 10,
              "solidity": 0.2
             }
            },
            "type": "bar"
           }
          ],
          "carpet": [
           {
            "aaxis": {
             "endlinecolor": "#2a3f5f",
             "gridcolor": "#C8D4E3",
             "linecolor": "#C8D4E3",
             "minorgridcolor": "#C8D4E3",
             "startlinecolor": "#2a3f5f"
            },
            "baxis": {
             "endlinecolor": "#2a3f5f",
             "gridcolor": "#C8D4E3",
             "linecolor": "#C8D4E3",
             "minorgridcolor": "#C8D4E3",
             "startlinecolor": "#2a3f5f"
            },
            "type": "carpet"
           }
          ],
          "choropleth": [
           {
            "colorbar": {
             "outlinewidth": 0,
             "ticks": ""
            },
            "type": "choropleth"
           }
          ],
          "contourcarpet": [
           {
            "colorbar": {
             "outlinewidth": 0,
             "ticks": ""
            },
            "type": "contourcarpet"
           }
          ],
          "contour": [
           {
            "colorbar": {
             "outlinewidth": 0,
             "ticks": ""
            },
            "colorscale": [
             [
              0.0,
              "#0d0887"
             ],
             [
              0.1111111111111111,
              "#46039f"
             ],
             [
              0.2222222222222222,
              "#7201a8"
             ],
             [
              0.3333333333333333,
              "#9c179e"
             ],
             [
              0.4444444444444444,
              "#bd3786"
             ],
             [
              0.5555555555555556,
              "#d8576b"
             ],
             [
              0.6666666666666666,
              "#ed7953"
             ],
             [
              0.7777777777777778,
              "#fb9f3a"
             ],
             [
              0.8888888888888888,
              "#fdca26"
             ],
             [
              1.0,
              "#f0f921"
             ]
            ],
            "type": "contour"
           }
          ],
          "heatmapgl": [
           {
            "colorbar": {
             "outlinewidth": 0,
             "ticks": ""
            },
            "colorscale": [
             [
              0.0,
              "#0d0887"
             ],
             [
              0.1111111111111111,
              "#46039f"
             ],
             [
              0.2222222222222222,
              "#7201a8"
             ],
             [
              0.3333333333333333,
              "#9c179e"
             ],
             [
              0.4444444444444444,
              "#bd3786"
             ],
             [
              0.5555555555555556,
              "#d8576b"
             ],
             [
              0.6666666666666666,
              "#ed7953"
             ],
             [
              0.7777777777777778,
              "#fb9f3a"
             ],
             [
              0.8888888888888888,
              "#fdca26"
             ],
             [
              1.0,
              "#f0f921"
             ]
            ],
            "type": "heatmapgl"
           }
          ],
          "heatmap": [
           {
            "colorbar": {
             "outlinewidth": 0,
             "ticks": ""
            },
            "colorscale": [
             [
              0.0,
              "#0d0887"
             ],
             [
              0.1111111111111111,
              "#46039f"
             ],
             [
              0.2222222222222222,
              "#7201a8"
             ],
             [
              0.3333333333333333,
              "#9c179e"
             ],
             [
              0.4444444444444444,
              "#bd3786"
             ],
             [
              0.5555555555555556,
              "#d8576b"
             ],
             [
              0.6666666666666666,
              "#ed7953"
             ],
             [
              0.7777777777777778,
              "#fb9f3a"
             ],
             [
              0.8888888888888888,
              "#fdca26"
             ],
             [
              1.0,
              "#f0f921"
             ]
            ],
            "type": "heatmap"
           }
          ],
          "histogram2dcontour": [
           {
            "colorbar": {
             "outlinewidth": 0,
             "ticks": ""
            },
            "colorscale": [
             [
              0.0,
              "#0d0887"
             ],
             [
              0.1111111111111111,
              "#46039f"
             ],
             [
              0.2222222222222222,
              "#7201a8"
             ],
             [
              0.3333333333333333,
              "#9c179e"
             ],
             [
              0.4444444444444444,
              "#bd3786"
             ],
             [
              0.5555555555555556,
              "#d8576b"
             ],
             [
              0.6666666666666666,
              "#ed7953"
             ],
             [
              0.7777777777777778,
              "#fb9f3a"
             ],
             [
              0.8888888888888888,
              "#fdca26"
             ],
             [
              1.0,
              "#f0f921"
             ]
            ],
            "type": "histogram2dcontour"
           }
          ],
          "histogram2d": [
           {
            "colorbar": {
             "outlinewidth": 0,
             "ticks": ""
            },
            "colorscale": [
             [
              0.0,
              "#0d0887"
             ],
             [
              0.1111111111111111,
              "#46039f"
             ],
             [
              0.2222222222222222,
              "#7201a8"
             ],
             [
              0.3333333333333333,
              "#9c179e"
             ],
             [
              0.4444444444444444,
              "#bd3786"
             ],
             [
              0.5555555555555556,
              "#d8576b"
             ],
             [
              0.6666666666666666,
              "#ed7953"
             ],
             [
              0.7777777777777778,
              "#fb9f3a"
             ],
             [
              0.8888888888888888,
              "#fdca26"
             ],
             [
              1.0,
              "#f0f921"
             ]
            ],
            "type": "histogram2d"
           }
          ],
          "histogram": [
           {
            "marker": {
             "pattern": {
              "fillmode": "overlay",
              "size": 10,
              "solidity": 0.2
             }
            },
            "type": "histogram"
           }
          ],
          "mesh3d": [
           {
            "colorbar": {
             "outlinewidth": 0,
             "ticks": ""
            },
            "type": "mesh3d"
           }
          ],
          "parcoords": [
           {
            "line": {
             "colorbar": {
              "outlinewidth": 0,
              "ticks": ""
             }
            },
            "type": "parcoords"
           }
          ],
          "pie": [
           {
            "automargin": true,
            "type": "pie"
           }
          ],
          "scatter3d": [
           {
            "line": {
             "colorbar": {
              "outlinewidth": 0,
              "ticks": ""
             }
            },
            "marker": {
             "colorbar": {
              "outlinewidth": 0,
              "ticks": ""
             }
            },
            "type": "scatter3d"
           }
          ],
          "scattercarpet": [
           {
            "marker": {
             "colorbar": {
              "outlinewidth": 0,
              "ticks": ""
             }
            },
            "type": "scattercarpet"
           }
          ],
          "scattergeo": [
           {
            "marker": {
             "colorbar": {
              "outlinewidth": 0,
              "ticks": ""
             }
            },
            "type": "scattergeo"
           }
          ],
          "scattergl": [
           {
            "marker": {
             "colorbar": {
              "outlinewidth": 0,
              "ticks": ""
             }
            },
            "type": "scattergl"
           }
          ],
          "scattermapbox": [
           {
            "marker": {
             "colorbar": {
              "outlinewidth": 0,
              "ticks": ""
             }
            },
            "type": "scattermapbox"
           }
          ],
          "scatterpolargl": [
           {
            "marker": {
             "colorbar": {
              "outlinewidth": 0,
              "ticks": ""
             }
            },
            "type": "scatterpolargl"
           }
          ],
          "scatterpolar": [
           {
            "marker": {
             "colorbar": {
              "outlinewidth": 0,
              "ticks": ""
             }
            },
            "type": "scatterpolar"
           }
          ],
          "scatter": [
           {
            "fillpattern": {
             "fillmode": "overlay",
             "size": 10,
             "solidity": 0.2
            },
            "type": "scatter"
           }
          ],
          "scatterternary": [
           {
            "marker": {
             "colorbar": {
              "outlinewidth": 0,
              "ticks": ""
             }
            },
            "type": "scatterternary"
           }
          ],
          "surface": [
           {
            "colorbar": {
             "outlinewidth": 0,
             "ticks": ""
            },
            "colorscale": [
             [
              0.0,
              "#0d0887"
             ],
             [
              0.1111111111111111,
              "#46039f"
             ],
             [
              0.2222222222222222,
              "#7201a8"
             ],
             [
              0.3333333333333333,
              "#9c179e"
             ],
             [
              0.4444444444444444,
              "#bd3786"
             ],
             [
              0.5555555555555556,
              "#d8576b"
             ],
             [
              0.6666666666666666,
              "#ed7953"
             ],
             [
              0.7777777777777778,
              "#fb9f3a"
             ],
             [
              0.8888888888888888,
              "#fdca26"
             ],
             [
              1.0,
              "#f0f921"
             ]
            ],
            "type": "surface"
           }
          ],
          "table": [
           {
            "cells": {
             "fill": {
              "color": "#EBF0F8"
             },
             "line": {
              "color": "white"
             }
            },
            "header": {
             "fill": {
              "color": "#C8D4E3"
             },
             "line": {
              "color": "white"
             }
            },
            "type": "table"
           }
          ]
         },
         "layout": {
          "annotationdefaults": {
           "arrowcolor": "#2a3f5f",
           "arrowhead": 0,
           "arrowwidth": 1
          },
          "autotypenumbers": "strict",
          "coloraxis": {
           "colorbar": {
            "outlinewidth": 0,
            "ticks": ""
           }
          },
          "colorscale": {
           "diverging": [
            [
             0,
             "#8e0152"
            ],
            [
             0.1,
             "#c51b7d"
            ],
            [
             0.2,
             "#de77ae"
            ],
            [
             0.3,
             "#f1b6da"
            ],
            [
             0.4,
             "#fde0ef"
            ],
            [
             0.5,
             "#f7f7f7"
            ],
            [
             0.6,
             "#e6f5d0"
            ],
            [
             0.7,
             "#b8e186"
            ],
            [
             0.8,
             "#7fbc41"
            ],
            [
             0.9,
             "#4d9221"
            ],
            [
             1,
             "#276419"
            ]
           ],
           "sequential": [
            [
             0.0,
             "#0d0887"
            ],
            [
             0.1111111111111111,
             "#46039f"
            ],
            [
             0.2222222222222222,
             "#7201a8"
            ],
            [
             0.3333333333333333,
             "#9c179e"
            ],
            [
             0.4444444444444444,
             "#bd3786"
            ],
            [
             0.5555555555555556,
             "#d8576b"
            ],
            [
             0.6666666666666666,
             "#ed7953"
            ],
            [
             0.7777777777777778,
             "#fb9f3a"
            ],
            [
             0.8888888888888888,
             "#fdca26"
            ],
            [
             1.0,
             "#f0f921"
            ]
           ],
           "sequentialminus": [
            [
             0.0,
             "#0d0887"
            ],
            [
             0.1111111111111111,
             "#46039f"
            ],
            [
             0.2222222222222222,
             "#7201a8"
            ],
            [
             0.3333333333333333,
             "#9c179e"
            ],
            [
             0.4444444444444444,
             "#bd3786"
            ],
            [
             0.5555555555555556,
             "#d8576b"
            ],
            [
             0.6666666666666666,
             "#ed7953"
            ],
            [
             0.7777777777777778,
             "#fb9f3a"
            ],
            [
             0.8888888888888888,
             "#fdca26"
            ],
            [
             1.0,
             "#f0f921"
            ]
           ]
          },
          "colorway": [
           "#636efa",
           "#EF553B",
           "#00cc96",
           "#ab63fa",
           "#FFA15A",
           "#19d3f3",
           "#FF6692",
           "#B6E880",
           "#FF97FF",
           "#FECB52"
          ],
          "font": {
           "color": "#2a3f5f"
          },
          "geo": {
           "bgcolor": "white",
           "lakecolor": "white",
           "landcolor": "white",
           "showlakes": true,
           "showland": true,
           "subunitcolor": "#C8D4E3"
          },
          "hoverlabel": {
           "align": "left"
          },
          "hovermode": "closest",
          "mapbox": {
           "style": "light"
          },
          "paper_bgcolor": "white",
          "plot_bgcolor": "white",
          "polar": {
           "angularaxis": {
            "gridcolor": "#EBF0F8",
            "linecolor": "#EBF0F8",
            "ticks": ""
           },
           "bgcolor": "white",
           "radialaxis": {
            "gridcolor": "#EBF0F8",
            "linecolor": "#EBF0F8",
            "ticks": ""
           }
          },
          "scene": {
           "xaxis": {
            "backgroundcolor": "white",
            "gridcolor": "#DFE8F3",
            "gridwidth": 2,
            "linecolor": "#EBF0F8",
            "showbackground": true,
            "ticks": "",
            "zerolinecolor": "#EBF0F8"
           },
           "yaxis": {
            "backgroundcolor": "white",
            "gridcolor": "#DFE8F3",
            "gridwidth": 2,
            "linecolor": "#EBF0F8",
            "showbackground": true,
            "ticks": "",
            "zerolinecolor": "#EBF0F8"
           },
           "zaxis": {
            "backgroundcolor": "white",
            "gridcolor": "#DFE8F3",
            "gridwidth": 2,
            "linecolor": "#EBF0F8",
            "showbackground": true,
            "ticks": "",
            "zerolinecolor": "#EBF0F8"
           }
          },
          "shapedefaults": {
           "line": {
            "color": "#2a3f5f"
           }
          },
          "ternary": {
           "aaxis": {
            "gridcolor": "#DFE8F3",
            "linecolor": "#A2B1C6",
            "ticks": ""
           },
           "baxis": {
            "gridcolor": "#DFE8F3",
            "linecolor": "#A2B1C6",
            "ticks": ""
           },
           "bgcolor": "white",
           "caxis": {
            "gridcolor": "#DFE8F3",
            "linecolor": "#A2B1C6",
            "ticks": ""
           }
          },
          "title": {
           "x": 0.05
          },
          "xaxis": {
           "automargin": true,
           "gridcolor": "#EBF0F8",
           "linecolor": "#EBF0F8",
           "ticks": "",
           "title": {
            "standoff": 15
           },
           "zerolinecolor": "#EBF0F8",
           "zerolinewidth": 2
          },
          "yaxis": {
           "automargin": true,
           "gridcolor": "#EBF0F8",
           "linecolor": "#EBF0F8",
           "ticks": "",
           "title": {
            "standoff": 15
           },
           "zerolinecolor": "#EBF0F8",
           "zerolinewidth": 2
          }
         }
        },
        "xaxis": {
         "title": {
          "font": {
           "weight": "bold",
           "color": "black"
          }
         },
         "tickangle": 90,
         "tickfont": {
          "family": "Arial",
          "size": 13,
          "color": "black",
          "weight": "bold"
         }
        },
        "height": 900,
        "width": 800,
        "yaxis": {
         "tickfont": {
          "family": "Arial",
          "size": 13,
          "color": "black",
          "weight": "bold"
         }
        },
        "shapes": [
         {
          "line": {
           "color": "black",
           "width": 1.5
          },
          "type": "line",
          "x0": -0.5,
          "x1": -0.5,
          "y0": -0.5,
          "y1": 6.5
         },
         {
          "line": {
           "color": "black",
           "width": 3
          },
          "type": "line",
          "x0": -0.5,
          "x1": 9.5,
          "y0": 0.5,
          "y1": 0.5
         },
         {
          "line": {
           "color": "black",
           "width": 1.5
          },
          "type": "line",
          "x0": 0.5,
          "x1": 0.5,
          "y0": -0.5,
          "y1": 6.5
         },
         {
          "line": {
           "color": "black",
           "width": 3
          },
          "type": "line",
          "x0": -0.5,
          "x1": 9.5,
          "y0": 0.5,
          "y1": 0.5
         },
         {
          "line": {
           "color": "black",
           "width": 3
          },
          "type": "line",
          "x0": -0.5,
          "x1": 9.5,
          "y0": 0.5,
          "y1": 0.5
         },
         {
          "line": {
           "color": "black",
           "width": 1.5
          },
          "type": "line",
          "x0": 2.5,
          "x1": 2.5,
          "y0": -0.5,
          "y1": 6.5
         },
         {
          "line": {
           "color": "black",
           "width": 3
          },
          "type": "line",
          "x0": -0.5,
          "x1": 9.5,
          "y0": 0.5,
          "y1": 0.5
         },
         {
          "line": {
           "color": "black",
           "width": 3
          },
          "type": "line",
          "x0": -0.5,
          "x1": 9.5,
          "y0": 0.5,
          "y1": 0.5
         },
         {
          "line": {
           "color": "black",
           "width": 1.5
          },
          "type": "line",
          "x0": 4.5,
          "x1": 4.5,
          "y0": -0.5,
          "y1": 6.5
         },
         {
          "line": {
           "color": "black",
           "width": 3
          },
          "type": "line",
          "x0": -0.5,
          "x1": 9.5,
          "y0": 0.5,
          "y1": 0.5
         },
         {
          "line": {
           "color": "black",
           "width": 3
          },
          "type": "line",
          "x0": -0.5,
          "x1": 9.5,
          "y0": 0.5,
          "y1": 0.5
         },
         {
          "line": {
           "color": "black",
           "width": 1.5
          },
          "type": "line",
          "x0": 6.5,
          "x1": 6.5,
          "y0": -0.5,
          "y1": 6.5
         },
         {
          "line": {
           "color": "black",
           "width": 3
          },
          "type": "line",
          "x0": -0.5,
          "x1": 9.5,
          "y0": 0.5,
          "y1": 0.5
         },
         {
          "line": {
           "color": "black",
           "width": 3
          },
          "type": "line",
          "x0": -0.5,
          "x1": 9.5,
          "y0": 0.5,
          "y1": 0.5
         },
         {
          "line": {
           "color": "black",
           "width": 3
          },
          "type": "line",
          "x0": 8.5,
          "x1": 8.5,
          "y0": -0.5,
          "y1": 6.5
         },
         {
          "line": {
           "color": "black",
           "width": 3
          },
          "type": "line",
          "x0": -0.5,
          "x1": 9.5,
          "y0": 0.5,
          "y1": 0.5
         },
         {
          "line": {
           "color": "black",
           "width": 1.5
          },
          "type": "line",
          "x0": 9.5,
          "x1": 9.5,
          "y0": -0.5,
          "y1": 6.5
         },
         {
          "line": {
           "color": "black",
           "width": 3
          },
          "type": "line",
          "x0": -0.5,
          "x1": 9.5,
          "y0": 0.5,
          "y1": 0.5
         }
        ],
        "margin": {
         "b": 180
        },
        "annotations": [
         {
          "align": "center",
          "font": {
           "color": "black",
           "family": "Arial",
           "size": 14,
           "weight": "bold"
          },
          "showarrow": false,
          "text": "|                System                |                    Knowledge                    |           Social         |              |",
          "x": 0.5,
          "xref": "paper",
          "y": -0.25,
          "yref": "paper"
         }
        ]
       },
       "config": {
        "plotlyServerURL": "https://plot.ly"
       }
      },
      "text/html": [
       "<div>                            <div id=\"f8491812-efc0-414f-938c-9d253033f657\" class=\"plotly-graph-div\" style=\"height:900px; width:800px;\"></div>            <script type=\"text/javascript\">                require([\"plotly\"], function(Plotly) {                    window.PLOTLYENV=window.PLOTLYENV || {};                                    if (document.getElementById(\"f8491812-efc0-414f-938c-9d253033f657\")) {                    Plotly.newPlot(                        \"f8491812-efc0-414f-938c-9d253033f657\",                        [{\"colorbar\":{\"tickformat\":\".0%\"},\"colorscale\":[[0.0,\"#fcffa4\"],[0.1111111111111111,\"#f7d13d\"],[0.2222222222222222,\"#fb9b06\"],[0.3333333333333333,\"#ed6925\"],[0.4444444444444444,\"#cf4446\"],[0.5555555555555556,\"#a52c60\"],[0.6666666666666666,\"#781c6d\"],[0.7777777777777778,\"#4a0c6b\"],[0.8888888888888888,\"#1b0c41\"],[1.0,\"#000004\"]],\"texttemplate\":\"%{z:.0%}\",\"x\":[[\" \",\"Diversification\",\"Diversification\",\"Enrichment\",\"Enrichment\",\"Derivation\",\"Derivation\",\"  \",\"  \",\"   \"],[\"Integration\",\"Adaptation\",\"Recommendation\",\"Profile\",\"Context\",\"Interpretation of\\u003cbr\\u003eUser Behaviour\",\"Explanation of\\u003cbr\\u003eSystem Behaviour\",\"Relation\",\"Interaction\",\"Average\"]],\"xgap\":2,\"y\":[\"Average \",\"General \",\"Finance \",\"Productivity \",\"Wellbeing \",\"Learning \",\"Sustainability \"],\"ygap\":2,\"z\":[[0.11650707680119443,0.04608430784901374,0.00980392156862745,0.2602428073016308,0.07439303615774204,0.027609427609427608,0.05479890479890479,0.18588045940987116,0.20083048759519348,0.10846115878795613],[0.12727272727272726,0.03636363636363636,0.0,0.14545454545454545,0.01818181818181818,0.05454545454545454,0.03636363636363636,0.07272727272727272,0.09090909090909091,0.06464646464646465],[0.0,0.14285714285714285,0.0,0.42857142857142855,0.14285714285714285,0.0,0.14285714285714285,0.14285714285714285,0.14285714285714285,0.12698412698412698],[0.17647058823529413,0.058823529411764705,0.058823529411764705,0.23529411764705882,0.058823529411764705,0.0,0.0,0.11764705882352941,0.058823529411764705,0.0849673202614379],[0.17307692307692307,0.038461538461538464,0.0,0.3076923076923077,0.11538461538461539,0.0,0.038461538461538464,0.11538461538461539,0.1346153846153846,0.10256410256410257],[0.1111111111111111,0.0,0.0,0.1111111111111111,0.0,0.0,0.0,0.3333333333333333,0.4444444444444444,0.1111111111111111],[0.1111111111111111,0.0,0.0,0.3333333333333333,0.1111111111111111,0.1111111111111111,0.1111111111111111,0.3333333333333333,0.3333333333333333,0.16049382716049382]],\"zmax\":1,\"zmin\":0,\"type\":\"heatmap\"}],                        {\"template\":{\"data\":{\"barpolar\":[{\"marker\":{\"line\":{\"color\":\"white\",\"width\":0.5},\"pattern\":{\"fillmode\":\"overlay\",\"size\":10,\"solidity\":0.2}},\"type\":\"barpolar\"}],\"bar\":[{\"error_x\":{\"color\":\"#2a3f5f\"},\"error_y\":{\"color\":\"#2a3f5f\"},\"marker\":{\"line\":{\"color\":\"white\",\"width\":0.5},\"pattern\":{\"fillmode\":\"overlay\",\"size\":10,\"solidity\":0.2}},\"type\":\"bar\"}],\"carpet\":[{\"aaxis\":{\"endlinecolor\":\"#2a3f5f\",\"gridcolor\":\"#C8D4E3\",\"linecolor\":\"#C8D4E3\",\"minorgridcolor\":\"#C8D4E3\",\"startlinecolor\":\"#2a3f5f\"},\"baxis\":{\"endlinecolor\":\"#2a3f5f\",\"gridcolor\":\"#C8D4E3\",\"linecolor\":\"#C8D4E3\",\"minorgridcolor\":\"#C8D4E3\",\"startlinecolor\":\"#2a3f5f\"},\"type\":\"carpet\"}],\"choropleth\":[{\"colorbar\":{\"outlinewidth\":0,\"ticks\":\"\"},\"type\":\"choropleth\"}],\"contourcarpet\":[{\"colorbar\":{\"outlinewidth\":0,\"ticks\":\"\"},\"type\":\"contourcarpet\"}],\"contour\":[{\"colorbar\":{\"outlinewidth\":0,\"ticks\":\"\"},\"colorscale\":[[0.0,\"#0d0887\"],[0.1111111111111111,\"#46039f\"],[0.2222222222222222,\"#7201a8\"],[0.3333333333333333,\"#9c179e\"],[0.4444444444444444,\"#bd3786\"],[0.5555555555555556,\"#d8576b\"],[0.6666666666666666,\"#ed7953\"],[0.7777777777777778,\"#fb9f3a\"],[0.8888888888888888,\"#fdca26\"],[1.0,\"#f0f921\"]],\"type\":\"contour\"}],\"heatmapgl\":[{\"colorbar\":{\"outlinewidth\":0,\"ticks\":\"\"},\"colorscale\":[[0.0,\"#0d0887\"],[0.1111111111111111,\"#46039f\"],[0.2222222222222222,\"#7201a8\"],[0.3333333333333333,\"#9c179e\"],[0.4444444444444444,\"#bd3786\"],[0.5555555555555556,\"#d8576b\"],[0.6666666666666666,\"#ed7953\"],[0.7777777777777778,\"#fb9f3a\"],[0.8888888888888888,\"#fdca26\"],[1.0,\"#f0f921\"]],\"type\":\"heatmapgl\"}],\"heatmap\":[{\"colorbar\":{\"outlinewidth\":0,\"ticks\":\"\"},\"colorscale\":[[0.0,\"#0d0887\"],[0.1111111111111111,\"#46039f\"],[0.2222222222222222,\"#7201a8\"],[0.3333333333333333,\"#9c179e\"],[0.4444444444444444,\"#bd3786\"],[0.5555555555555556,\"#d8576b\"],[0.6666666666666666,\"#ed7953\"],[0.7777777777777778,\"#fb9f3a\"],[0.8888888888888888,\"#fdca26\"],[1.0,\"#f0f921\"]],\"type\":\"heatmap\"}],\"histogram2dcontour\":[{\"colorbar\":{\"outlinewidth\":0,\"ticks\":\"\"},\"colorscale\":[[0.0,\"#0d0887\"],[0.1111111111111111,\"#46039f\"],[0.2222222222222222,\"#7201a8\"],[0.3333333333333333,\"#9c179e\"],[0.4444444444444444,\"#bd3786\"],[0.5555555555555556,\"#d8576b\"],[0.6666666666666666,\"#ed7953\"],[0.7777777777777778,\"#fb9f3a\"],[0.8888888888888888,\"#fdca26\"],[1.0,\"#f0f921\"]],\"type\":\"histogram2dcontour\"}],\"histogram2d\":[{\"colorbar\":{\"outlinewidth\":0,\"ticks\":\"\"},\"colorscale\":[[0.0,\"#0d0887\"],[0.1111111111111111,\"#46039f\"],[0.2222222222222222,\"#7201a8\"],[0.3333333333333333,\"#9c179e\"],[0.4444444444444444,\"#bd3786\"],[0.5555555555555556,\"#d8576b\"],[0.6666666666666666,\"#ed7953\"],[0.7777777777777778,\"#fb9f3a\"],[0.8888888888888888,\"#fdca26\"],[1.0,\"#f0f921\"]],\"type\":\"histogram2d\"}],\"histogram\":[{\"marker\":{\"pattern\":{\"fillmode\":\"overlay\",\"size\":10,\"solidity\":0.2}},\"type\":\"histogram\"}],\"mesh3d\":[{\"colorbar\":{\"outlinewidth\":0,\"ticks\":\"\"},\"type\":\"mesh3d\"}],\"parcoords\":[{\"line\":{\"colorbar\":{\"outlinewidth\":0,\"ticks\":\"\"}},\"type\":\"parcoords\"}],\"pie\":[{\"automargin\":true,\"type\":\"pie\"}],\"scatter3d\":[{\"line\":{\"colorbar\":{\"outlinewidth\":0,\"ticks\":\"\"}},\"marker\":{\"colorbar\":{\"outlinewidth\":0,\"ticks\":\"\"}},\"type\":\"scatter3d\"}],\"scattercarpet\":[{\"marker\":{\"colorbar\":{\"outlinewidth\":0,\"ticks\":\"\"}},\"type\":\"scattercarpet\"}],\"scattergeo\":[{\"marker\":{\"colorbar\":{\"outlinewidth\":0,\"ticks\":\"\"}},\"type\":\"scattergeo\"}],\"scattergl\":[{\"marker\":{\"colorbar\":{\"outlinewidth\":0,\"ticks\":\"\"}},\"type\":\"scattergl\"}],\"scattermapbox\":[{\"marker\":{\"colorbar\":{\"outlinewidth\":0,\"ticks\":\"\"}},\"type\":\"scattermapbox\"}],\"scatterpolargl\":[{\"marker\":{\"colorbar\":{\"outlinewidth\":0,\"ticks\":\"\"}},\"type\":\"scatterpolargl\"}],\"scatterpolar\":[{\"marker\":{\"colorbar\":{\"outlinewidth\":0,\"ticks\":\"\"}},\"type\":\"scatterpolar\"}],\"scatter\":[{\"fillpattern\":{\"fillmode\":\"overlay\",\"size\":10,\"solidity\":0.2},\"type\":\"scatter\"}],\"scatterternary\":[{\"marker\":{\"colorbar\":{\"outlinewidth\":0,\"ticks\":\"\"}},\"type\":\"scatterternary\"}],\"surface\":[{\"colorbar\":{\"outlinewidth\":0,\"ticks\":\"\"},\"colorscale\":[[0.0,\"#0d0887\"],[0.1111111111111111,\"#46039f\"],[0.2222222222222222,\"#7201a8\"],[0.3333333333333333,\"#9c179e\"],[0.4444444444444444,\"#bd3786\"],[0.5555555555555556,\"#d8576b\"],[0.6666666666666666,\"#ed7953\"],[0.7777777777777778,\"#fb9f3a\"],[0.8888888888888888,\"#fdca26\"],[1.0,\"#f0f921\"]],\"type\":\"surface\"}],\"table\":[{\"cells\":{\"fill\":{\"color\":\"#EBF0F8\"},\"line\":{\"color\":\"white\"}},\"header\":{\"fill\":{\"color\":\"#C8D4E3\"},\"line\":{\"color\":\"white\"}},\"type\":\"table\"}]},\"layout\":{\"annotationdefaults\":{\"arrowcolor\":\"#2a3f5f\",\"arrowhead\":0,\"arrowwidth\":1},\"autotypenumbers\":\"strict\",\"coloraxis\":{\"colorbar\":{\"outlinewidth\":0,\"ticks\":\"\"}},\"colorscale\":{\"diverging\":[[0,\"#8e0152\"],[0.1,\"#c51b7d\"],[0.2,\"#de77ae\"],[0.3,\"#f1b6da\"],[0.4,\"#fde0ef\"],[0.5,\"#f7f7f7\"],[0.6,\"#e6f5d0\"],[0.7,\"#b8e186\"],[0.8,\"#7fbc41\"],[0.9,\"#4d9221\"],[1,\"#276419\"]],\"sequential\":[[0.0,\"#0d0887\"],[0.1111111111111111,\"#46039f\"],[0.2222222222222222,\"#7201a8\"],[0.3333333333333333,\"#9c179e\"],[0.4444444444444444,\"#bd3786\"],[0.5555555555555556,\"#d8576b\"],[0.6666666666666666,\"#ed7953\"],[0.7777777777777778,\"#fb9f3a\"],[0.8888888888888888,\"#fdca26\"],[1.0,\"#f0f921\"]],\"sequentialminus\":[[0.0,\"#0d0887\"],[0.1111111111111111,\"#46039f\"],[0.2222222222222222,\"#7201a8\"],[0.3333333333333333,\"#9c179e\"],[0.4444444444444444,\"#bd3786\"],[0.5555555555555556,\"#d8576b\"],[0.6666666666666666,\"#ed7953\"],[0.7777777777777778,\"#fb9f3a\"],[0.8888888888888888,\"#fdca26\"],[1.0,\"#f0f921\"]]},\"colorway\":[\"#636efa\",\"#EF553B\",\"#00cc96\",\"#ab63fa\",\"#FFA15A\",\"#19d3f3\",\"#FF6692\",\"#B6E880\",\"#FF97FF\",\"#FECB52\"],\"font\":{\"color\":\"#2a3f5f\"},\"geo\":{\"bgcolor\":\"white\",\"lakecolor\":\"white\",\"landcolor\":\"white\",\"showlakes\":true,\"showland\":true,\"subunitcolor\":\"#C8D4E3\"},\"hoverlabel\":{\"align\":\"left\"},\"hovermode\":\"closest\",\"mapbox\":{\"style\":\"light\"},\"paper_bgcolor\":\"white\",\"plot_bgcolor\":\"white\",\"polar\":{\"angularaxis\":{\"gridcolor\":\"#EBF0F8\",\"linecolor\":\"#EBF0F8\",\"ticks\":\"\"},\"bgcolor\":\"white\",\"radialaxis\":{\"gridcolor\":\"#EBF0F8\",\"linecolor\":\"#EBF0F8\",\"ticks\":\"\"}},\"scene\":{\"xaxis\":{\"backgroundcolor\":\"white\",\"gridcolor\":\"#DFE8F3\",\"gridwidth\":2,\"linecolor\":\"#EBF0F8\",\"showbackground\":true,\"ticks\":\"\",\"zerolinecolor\":\"#EBF0F8\"},\"yaxis\":{\"backgroundcolor\":\"white\",\"gridcolor\":\"#DFE8F3\",\"gridwidth\":2,\"linecolor\":\"#EBF0F8\",\"showbackground\":true,\"ticks\":\"\",\"zerolinecolor\":\"#EBF0F8\"},\"zaxis\":{\"backgroundcolor\":\"white\",\"gridcolor\":\"#DFE8F3\",\"gridwidth\":2,\"linecolor\":\"#EBF0F8\",\"showbackground\":true,\"ticks\":\"\",\"zerolinecolor\":\"#EBF0F8\"}},\"shapedefaults\":{\"line\":{\"color\":\"#2a3f5f\"}},\"ternary\":{\"aaxis\":{\"gridcolor\":\"#DFE8F3\",\"linecolor\":\"#A2B1C6\",\"ticks\":\"\"},\"baxis\":{\"gridcolor\":\"#DFE8F3\",\"linecolor\":\"#A2B1C6\",\"ticks\":\"\"},\"bgcolor\":\"white\",\"caxis\":{\"gridcolor\":\"#DFE8F3\",\"linecolor\":\"#A2B1C6\",\"ticks\":\"\"}},\"title\":{\"x\":0.05},\"xaxis\":{\"automargin\":true,\"gridcolor\":\"#EBF0F8\",\"linecolor\":\"#EBF0F8\",\"ticks\":\"\",\"title\":{\"standoff\":15},\"zerolinecolor\":\"#EBF0F8\",\"zerolinewidth\":2},\"yaxis\":{\"automargin\":true,\"gridcolor\":\"#EBF0F8\",\"linecolor\":\"#EBF0F8\",\"ticks\":\"\",\"title\":{\"standoff\":15},\"zerolinecolor\":\"#EBF0F8\",\"zerolinewidth\":2}}},\"xaxis\":{\"title\":{\"font\":{\"weight\":\"bold\",\"color\":\"black\"}},\"tickangle\":90,\"tickfont\":{\"family\":\"Arial\",\"size\":13,\"color\":\"black\",\"weight\":\"bold\"}},\"height\":900,\"width\":800,\"yaxis\":{\"tickfont\":{\"family\":\"Arial\",\"size\":13,\"color\":\"black\",\"weight\":\"bold\"}},\"shapes\":[{\"line\":{\"color\":\"black\",\"width\":1.5},\"type\":\"line\",\"x0\":-0.5,\"x1\":-0.5,\"y0\":-0.5,\"y1\":6.5},{\"line\":{\"color\":\"black\",\"width\":3},\"type\":\"line\",\"x0\":-0.5,\"x1\":9.5,\"y0\":0.5,\"y1\":0.5},{\"line\":{\"color\":\"black\",\"width\":1.5},\"type\":\"line\",\"x0\":0.5,\"x1\":0.5,\"y0\":-0.5,\"y1\":6.5},{\"line\":{\"color\":\"black\",\"width\":3},\"type\":\"line\",\"x0\":-0.5,\"x1\":9.5,\"y0\":0.5,\"y1\":0.5},{\"line\":{\"color\":\"black\",\"width\":3},\"type\":\"line\",\"x0\":-0.5,\"x1\":9.5,\"y0\":0.5,\"y1\":0.5},{\"line\":{\"color\":\"black\",\"width\":1.5},\"type\":\"line\",\"x0\":2.5,\"x1\":2.5,\"y0\":-0.5,\"y1\":6.5},{\"line\":{\"color\":\"black\",\"width\":3},\"type\":\"line\",\"x0\":-0.5,\"x1\":9.5,\"y0\":0.5,\"y1\":0.5},{\"line\":{\"color\":\"black\",\"width\":3},\"type\":\"line\",\"x0\":-0.5,\"x1\":9.5,\"y0\":0.5,\"y1\":0.5},{\"line\":{\"color\":\"black\",\"width\":1.5},\"type\":\"line\",\"x0\":4.5,\"x1\":4.5,\"y0\":-0.5,\"y1\":6.5},{\"line\":{\"color\":\"black\",\"width\":3},\"type\":\"line\",\"x0\":-0.5,\"x1\":9.5,\"y0\":0.5,\"y1\":0.5},{\"line\":{\"color\":\"black\",\"width\":3},\"type\":\"line\",\"x0\":-0.5,\"x1\":9.5,\"y0\":0.5,\"y1\":0.5},{\"line\":{\"color\":\"black\",\"width\":1.5},\"type\":\"line\",\"x0\":6.5,\"x1\":6.5,\"y0\":-0.5,\"y1\":6.5},{\"line\":{\"color\":\"black\",\"width\":3},\"type\":\"line\",\"x0\":-0.5,\"x1\":9.5,\"y0\":0.5,\"y1\":0.5},{\"line\":{\"color\":\"black\",\"width\":3},\"type\":\"line\",\"x0\":-0.5,\"x1\":9.5,\"y0\":0.5,\"y1\":0.5},{\"line\":{\"color\":\"black\",\"width\":3},\"type\":\"line\",\"x0\":8.5,\"x1\":8.5,\"y0\":-0.5,\"y1\":6.5},{\"line\":{\"color\":\"black\",\"width\":3},\"type\":\"line\",\"x0\":-0.5,\"x1\":9.5,\"y0\":0.5,\"y1\":0.5},{\"line\":{\"color\":\"black\",\"width\":1.5},\"type\":\"line\",\"x0\":9.5,\"x1\":9.5,\"y0\":-0.5,\"y1\":6.5},{\"line\":{\"color\":\"black\",\"width\":3},\"type\":\"line\",\"x0\":-0.5,\"x1\":9.5,\"y0\":0.5,\"y1\":0.5}],\"margin\":{\"b\":180},\"annotations\":[{\"align\":\"center\",\"font\":{\"color\":\"black\",\"family\":\"Arial\",\"size\":14,\"weight\":\"bold\"},\"showarrow\":false,\"text\":\"|\\u2009               System                |                    Knowledge                    |\\u200a          Social        \\u200a|              |\",\"x\":0.5,\"xref\":\"paper\",\"y\":-0.25,\"yref\":\"paper\"}]},                        {\"responsive\": true}                    ).then(function(){\n",
       "                            \n",
       "var gd = document.getElementById('f8491812-efc0-414f-938c-9d253033f657');\n",
       "var x = new MutationObserver(function (mutations, observer) {{\n",
       "        var display = window.getComputedStyle(gd).display;\n",
       "        if (!display || display === 'none') {{\n",
       "            console.log([gd, 'removed!']);\n",
       "            Plotly.purge(gd);\n",
       "            observer.disconnect();\n",
       "        }}\n",
       "}});\n",
       "\n",
       "// Listen for the removal of the full notebook cells\n",
       "var notebookContainer = gd.closest('#notebook-container');\n",
       "if (notebookContainer) {{\n",
       "    x.observe(notebookContainer, {childList: true});\n",
       "}}\n",
       "\n",
       "// Listen for the clearing of the current output cell\n",
       "var outputEl = gd.closest('.output');\n",
       "if (outputEl) {{\n",
       "    x.observe(outputEl, {childList: true});\n",
       "}}\n",
       "\n",
       "                        })                };                });            </script>        </div>"
      ]
     },
     "metadata": {},
     "output_type": "display_data"
    },
    {
     "data": {
      "application/vnd.plotly.v1+json": {
       "data": [
        {
         "colorbar": {
          "tickformat": ".0%"
         },
         "colorscale": [
          [
           0.0,
           "#fcffa4"
          ],
          [
           0.1111111111111111,
           "#f7d13d"
          ],
          [
           0.2222222222222222,
           "#fb9b06"
          ],
          [
           0.3333333333333333,
           "#ed6925"
          ],
          [
           0.4444444444444444,
           "#cf4446"
          ],
          [
           0.5555555555555556,
           "#a52c60"
          ],
          [
           0.6666666666666666,
           "#781c6d"
          ],
          [
           0.7777777777777778,
           "#4a0c6b"
          ],
          [
           0.8888888888888888,
           "#1b0c41"
          ],
          [
           1.0,
           "#000004"
          ]
         ],
         "texttemplate": "%{z:.0%}",
         "x": [
          [
           "Type",
           "Type",
           "Persistence",
           "Persistence",
           "Tangibility",
           "Tangibility",
           "⁢"
          ],
          [
           "Positive",
           "Negative",
           "Volatile",
           "Permanent",
           "Virtual ",
           "Real",
           "Average"
          ]
         ],
         "xgap": 2,
         "y": [
          "Average ",
          "General ",
          "Finance ",
          "Productivity ",
          "Wellbeing ",
          "Learning ",
          "Sustainability "
         ],
         "ygap": 2,
         "z": [
          [
           0.6335810159339571,
           0.07804477657418833,
           0.42321872027754376,
           0.3777508983391336,
           0.6033175974352444,
           0.034557871322577205,
           0.3584118133137741
          ],
          [
           0.6363636363636364,
           0.18181818181818182,
           0.41818181818181815,
           0.38181818181818183,
           0.6181818181818182,
           0.01818181818181818,
           0.37575757575757573
          ],
          [
           0.42857142857142855,
           0.0,
           0.42857142857142855,
           0.14285714285714285,
           0.42857142857142855,
           0.0,
           0.2380952380952381
          ],
          [
           0.4117647058823529,
           0.11764705882352941,
           0.23529411764705882,
           0.35294117647058826,
           0.47058823529411764,
           0.058823529411764705,
           0.27450980392156865
          ],
          [
           0.7692307692307693,
           0.057692307692307696,
           0.34615384615384615,
           0.5,
           0.7692307692307693,
           0.019230769230769232,
           0.4102564102564103
          ],
          [
           0.7777777777777778,
           0.1111111111111111,
           0.5555555555555556,
           0.3333333333333333,
           0.6666666666666666,
           0.0,
           0.4074074074074074
          ],
          [
           0.7777777777777778,
           0.0,
           0.5555555555555556,
           0.5555555555555556,
           0.6666666666666666,
           0.1111111111111111,
           0.4444444444444445
          ]
         ],
         "zmax": 1,
         "zmin": 0,
         "type": "heatmap"
        }
       ],
       "layout": {
        "template": {
         "data": {
          "barpolar": [
           {
            "marker": {
             "line": {
              "color": "white",
              "width": 0.5
             },
             "pattern": {
              "fillmode": "overlay",
              "size": 10,
              "solidity": 0.2
             }
            },
            "type": "barpolar"
           }
          ],
          "bar": [
           {
            "error_x": {
             "color": "#2a3f5f"
            },
            "error_y": {
             "color": "#2a3f5f"
            },
            "marker": {
             "line": {
              "color": "white",
              "width": 0.5
             },
             "pattern": {
              "fillmode": "overlay",
              "size": 10,
              "solidity": 0.2
             }
            },
            "type": "bar"
           }
          ],
          "carpet": [
           {
            "aaxis": {
             "endlinecolor": "#2a3f5f",
             "gridcolor": "#C8D4E3",
             "linecolor": "#C8D4E3",
             "minorgridcolor": "#C8D4E3",
             "startlinecolor": "#2a3f5f"
            },
            "baxis": {
             "endlinecolor": "#2a3f5f",
             "gridcolor": "#C8D4E3",
             "linecolor": "#C8D4E3",
             "minorgridcolor": "#C8D4E3",
             "startlinecolor": "#2a3f5f"
            },
            "type": "carpet"
           }
          ],
          "choropleth": [
           {
            "colorbar": {
             "outlinewidth": 0,
             "ticks": ""
            },
            "type": "choropleth"
           }
          ],
          "contourcarpet": [
           {
            "colorbar": {
             "outlinewidth": 0,
             "ticks": ""
            },
            "type": "contourcarpet"
           }
          ],
          "contour": [
           {
            "colorbar": {
             "outlinewidth": 0,
             "ticks": ""
            },
            "colorscale": [
             [
              0.0,
              "#0d0887"
             ],
             [
              0.1111111111111111,
              "#46039f"
             ],
             [
              0.2222222222222222,
              "#7201a8"
             ],
             [
              0.3333333333333333,
              "#9c179e"
             ],
             [
              0.4444444444444444,
              "#bd3786"
             ],
             [
              0.5555555555555556,
              "#d8576b"
             ],
             [
              0.6666666666666666,
              "#ed7953"
             ],
             [
              0.7777777777777778,
              "#fb9f3a"
             ],
             [
              0.8888888888888888,
              "#fdca26"
             ],
             [
              1.0,
              "#f0f921"
             ]
            ],
            "type": "contour"
           }
          ],
          "heatmapgl": [
           {
            "colorbar": {
             "outlinewidth": 0,
             "ticks": ""
            },
            "colorscale": [
             [
              0.0,
              "#0d0887"
             ],
             [
              0.1111111111111111,
              "#46039f"
             ],
             [
              0.2222222222222222,
              "#7201a8"
             ],
             [
              0.3333333333333333,
              "#9c179e"
             ],
             [
              0.4444444444444444,
              "#bd3786"
             ],
             [
              0.5555555555555556,
              "#d8576b"
             ],
             [
              0.6666666666666666,
              "#ed7953"
             ],
             [
              0.7777777777777778,
              "#fb9f3a"
             ],
             [
              0.8888888888888888,
              "#fdca26"
             ],
             [
              1.0,
              "#f0f921"
             ]
            ],
            "type": "heatmapgl"
           }
          ],
          "heatmap": [
           {
            "colorbar": {
             "outlinewidth": 0,
             "ticks": ""
            },
            "colorscale": [
             [
              0.0,
              "#0d0887"
             ],
             [
              0.1111111111111111,
              "#46039f"
             ],
             [
              0.2222222222222222,
              "#7201a8"
             ],
             [
              0.3333333333333333,
              "#9c179e"
             ],
             [
              0.4444444444444444,
              "#bd3786"
             ],
             [
              0.5555555555555556,
              "#d8576b"
             ],
             [
              0.6666666666666666,
              "#ed7953"
             ],
             [
              0.7777777777777778,
              "#fb9f3a"
             ],
             [
              0.8888888888888888,
              "#fdca26"
             ],
             [
              1.0,
              "#f0f921"
             ]
            ],
            "type": "heatmap"
           }
          ],
          "histogram2dcontour": [
           {
            "colorbar": {
             "outlinewidth": 0,
             "ticks": ""
            },
            "colorscale": [
             [
              0.0,
              "#0d0887"
             ],
             [
              0.1111111111111111,
              "#46039f"
             ],
             [
              0.2222222222222222,
              "#7201a8"
             ],
             [
              0.3333333333333333,
              "#9c179e"
             ],
             [
              0.4444444444444444,
              "#bd3786"
             ],
             [
              0.5555555555555556,
              "#d8576b"
             ],
             [
              0.6666666666666666,
              "#ed7953"
             ],
             [
              0.7777777777777778,
              "#fb9f3a"
             ],
             [
              0.8888888888888888,
              "#fdca26"
             ],
             [
              1.0,
              "#f0f921"
             ]
            ],
            "type": "histogram2dcontour"
           }
          ],
          "histogram2d": [
           {
            "colorbar": {
             "outlinewidth": 0,
             "ticks": ""
            },
            "colorscale": [
             [
              0.0,
              "#0d0887"
             ],
             [
              0.1111111111111111,
              "#46039f"
             ],
             [
              0.2222222222222222,
              "#7201a8"
             ],
             [
              0.3333333333333333,
              "#9c179e"
             ],
             [
              0.4444444444444444,
              "#bd3786"
             ],
             [
              0.5555555555555556,
              "#d8576b"
             ],
             [
              0.6666666666666666,
              "#ed7953"
             ],
             [
              0.7777777777777778,
              "#fb9f3a"
             ],
             [
              0.8888888888888888,
              "#fdca26"
             ],
             [
              1.0,
              "#f0f921"
             ]
            ],
            "type": "histogram2d"
           }
          ],
          "histogram": [
           {
            "marker": {
             "pattern": {
              "fillmode": "overlay",
              "size": 10,
              "solidity": 0.2
             }
            },
            "type": "histogram"
           }
          ],
          "mesh3d": [
           {
            "colorbar": {
             "outlinewidth": 0,
             "ticks": ""
            },
            "type": "mesh3d"
           }
          ],
          "parcoords": [
           {
            "line": {
             "colorbar": {
              "outlinewidth": 0,
              "ticks": ""
             }
            },
            "type": "parcoords"
           }
          ],
          "pie": [
           {
            "automargin": true,
            "type": "pie"
           }
          ],
          "scatter3d": [
           {
            "line": {
             "colorbar": {
              "outlinewidth": 0,
              "ticks": ""
             }
            },
            "marker": {
             "colorbar": {
              "outlinewidth": 0,
              "ticks": ""
             }
            },
            "type": "scatter3d"
           }
          ],
          "scattercarpet": [
           {
            "marker": {
             "colorbar": {
              "outlinewidth": 0,
              "ticks": ""
             }
            },
            "type": "scattercarpet"
           }
          ],
          "scattergeo": [
           {
            "marker": {
             "colorbar": {
              "outlinewidth": 0,
              "ticks": ""
             }
            },
            "type": "scattergeo"
           }
          ],
          "scattergl": [
           {
            "marker": {
             "colorbar": {
              "outlinewidth": 0,
              "ticks": ""
             }
            },
            "type": "scattergl"
           }
          ],
          "scattermapbox": [
           {
            "marker": {
             "colorbar": {
              "outlinewidth": 0,
              "ticks": ""
             }
            },
            "type": "scattermapbox"
           }
          ],
          "scatterpolargl": [
           {
            "marker": {
             "colorbar": {
              "outlinewidth": 0,
              "ticks": ""
             }
            },
            "type": "scatterpolargl"
           }
          ],
          "scatterpolar": [
           {
            "marker": {
             "colorbar": {
              "outlinewidth": 0,
              "ticks": ""
             }
            },
            "type": "scatterpolar"
           }
          ],
          "scatter": [
           {
            "fillpattern": {
             "fillmode": "overlay",
             "size": 10,
             "solidity": 0.2
            },
            "type": "scatter"
           }
          ],
          "scatterternary": [
           {
            "marker": {
             "colorbar": {
              "outlinewidth": 0,
              "ticks": ""
             }
            },
            "type": "scatterternary"
           }
          ],
          "surface": [
           {
            "colorbar": {
             "outlinewidth": 0,
             "ticks": ""
            },
            "colorscale": [
             [
              0.0,
              "#0d0887"
             ],
             [
              0.1111111111111111,
              "#46039f"
             ],
             [
              0.2222222222222222,
              "#7201a8"
             ],
             [
              0.3333333333333333,
              "#9c179e"
             ],
             [
              0.4444444444444444,
              "#bd3786"
             ],
             [
              0.5555555555555556,
              "#d8576b"
             ],
             [
              0.6666666666666666,
              "#ed7953"
             ],
             [
              0.7777777777777778,
              "#fb9f3a"
             ],
             [
              0.8888888888888888,
              "#fdca26"
             ],
             [
              1.0,
              "#f0f921"
             ]
            ],
            "type": "surface"
           }
          ],
          "table": [
           {
            "cells": {
             "fill": {
              "color": "#EBF0F8"
             },
             "line": {
              "color": "white"
             }
            },
            "header": {
             "fill": {
              "color": "#C8D4E3"
             },
             "line": {
              "color": "white"
             }
            },
            "type": "table"
           }
          ]
         },
         "layout": {
          "annotationdefaults": {
           "arrowcolor": "#2a3f5f",
           "arrowhead": 0,
           "arrowwidth": 1
          },
          "autotypenumbers": "strict",
          "coloraxis": {
           "colorbar": {
            "outlinewidth": 0,
            "ticks": ""
           }
          },
          "colorscale": {
           "diverging": [
            [
             0,
             "#8e0152"
            ],
            [
             0.1,
             "#c51b7d"
            ],
            [
             0.2,
             "#de77ae"
            ],
            [
             0.3,
             "#f1b6da"
            ],
            [
             0.4,
             "#fde0ef"
            ],
            [
             0.5,
             "#f7f7f7"
            ],
            [
             0.6,
             "#e6f5d0"
            ],
            [
             0.7,
             "#b8e186"
            ],
            [
             0.8,
             "#7fbc41"
            ],
            [
             0.9,
             "#4d9221"
            ],
            [
             1,
             "#276419"
            ]
           ],
           "sequential": [
            [
             0.0,
             "#0d0887"
            ],
            [
             0.1111111111111111,
             "#46039f"
            ],
            [
             0.2222222222222222,
             "#7201a8"
            ],
            [
             0.3333333333333333,
             "#9c179e"
            ],
            [
             0.4444444444444444,
             "#bd3786"
            ],
            [
             0.5555555555555556,
             "#d8576b"
            ],
            [
             0.6666666666666666,
             "#ed7953"
            ],
            [
             0.7777777777777778,
             "#fb9f3a"
            ],
            [
             0.8888888888888888,
             "#fdca26"
            ],
            [
             1.0,
             "#f0f921"
            ]
           ],
           "sequentialminus": [
            [
             0.0,
             "#0d0887"
            ],
            [
             0.1111111111111111,
             "#46039f"
            ],
            [
             0.2222222222222222,
             "#7201a8"
            ],
            [
             0.3333333333333333,
             "#9c179e"
            ],
            [
             0.4444444444444444,
             "#bd3786"
            ],
            [
             0.5555555555555556,
             "#d8576b"
            ],
            [
             0.6666666666666666,
             "#ed7953"
            ],
            [
             0.7777777777777778,
             "#fb9f3a"
            ],
            [
             0.8888888888888888,
             "#fdca26"
            ],
            [
             1.0,
             "#f0f921"
            ]
           ]
          },
          "colorway": [
           "#636efa",
           "#EF553B",
           "#00cc96",
           "#ab63fa",
           "#FFA15A",
           "#19d3f3",
           "#FF6692",
           "#B6E880",
           "#FF97FF",
           "#FECB52"
          ],
          "font": {
           "color": "#2a3f5f"
          },
          "geo": {
           "bgcolor": "white",
           "lakecolor": "white",
           "landcolor": "white",
           "showlakes": true,
           "showland": true,
           "subunitcolor": "#C8D4E3"
          },
          "hoverlabel": {
           "align": "left"
          },
          "hovermode": "closest",
          "mapbox": {
           "style": "light"
          },
          "paper_bgcolor": "white",
          "plot_bgcolor": "white",
          "polar": {
           "angularaxis": {
            "gridcolor": "#EBF0F8",
            "linecolor": "#EBF0F8",
            "ticks": ""
           },
           "bgcolor": "white",
           "radialaxis": {
            "gridcolor": "#EBF0F8",
            "linecolor": "#EBF0F8",
            "ticks": ""
           }
          },
          "scene": {
           "xaxis": {
            "backgroundcolor": "white",
            "gridcolor": "#DFE8F3",
            "gridwidth": 2,
            "linecolor": "#EBF0F8",
            "showbackground": true,
            "ticks": "",
            "zerolinecolor": "#EBF0F8"
           },
           "yaxis": {
            "backgroundcolor": "white",
            "gridcolor": "#DFE8F3",
            "gridwidth": 2,
            "linecolor": "#EBF0F8",
            "showbackground": true,
            "ticks": "",
            "zerolinecolor": "#EBF0F8"
           },
           "zaxis": {
            "backgroundcolor": "white",
            "gridcolor": "#DFE8F3",
            "gridwidth": 2,
            "linecolor": "#EBF0F8",
            "showbackground": true,
            "ticks": "",
            "zerolinecolor": "#EBF0F8"
           }
          },
          "shapedefaults": {
           "line": {
            "color": "#2a3f5f"
           }
          },
          "ternary": {
           "aaxis": {
            "gridcolor": "#DFE8F3",
            "linecolor": "#A2B1C6",
            "ticks": ""
           },
           "baxis": {
            "gridcolor": "#DFE8F3",
            "linecolor": "#A2B1C6",
            "ticks": ""
           },
           "bgcolor": "white",
           "caxis": {
            "gridcolor": "#DFE8F3",
            "linecolor": "#A2B1C6",
            "ticks": ""
           }
          },
          "title": {
           "x": 0.05
          },
          "xaxis": {
           "automargin": true,
           "gridcolor": "#EBF0F8",
           "linecolor": "#EBF0F8",
           "ticks": "",
           "title": {
            "standoff": 15
           },
           "zerolinecolor": "#EBF0F8",
           "zerolinewidth": 2
          },
          "yaxis": {
           "automargin": true,
           "gridcolor": "#EBF0F8",
           "linecolor": "#EBF0F8",
           "ticks": "",
           "title": {
            "standoff": 15
           },
           "zerolinecolor": "#EBF0F8",
           "zerolinewidth": 2
          }
         }
        },
        "xaxis": {
         "title": {
          "font": {
           "weight": "bold",
           "color": "black"
          }
         },
         "tickangle": 90,
         "tickfont": {
          "family": "Arial",
          "size": 13,
          "color": "black",
          "weight": "bold"
         }
        },
        "height": 900,
        "width": 800,
        "yaxis": {
         "tickfont": {
          "family": "Arial",
          "size": 13,
          "color": "black",
          "weight": "bold"
         }
        },
        "shapes": [
         {
          "line": {
           "color": "black",
           "width": 1.5
          },
          "type": "line",
          "x0": -0.5,
          "x1": -0.5,
          "y0": -0.5,
          "y1": 6.5
         },
         {
          "line": {
           "color": "black",
           "width": 3
          },
          "type": "line",
          "x0": -0.5,
          "x1": 6.5,
          "y0": 0.5,
          "y1": 0.5
         },
         {
          "line": {
           "color": "black",
           "width": 3
          },
          "type": "line",
          "x0": -0.5,
          "x1": 6.5,
          "y0": 0.5,
          "y1": 0.5
         },
         {
          "line": {
           "color": "black",
           "width": 1.5
          },
          "type": "line",
          "x0": 1.5,
          "x1": 1.5,
          "y0": -0.5,
          "y1": 6.5
         },
         {
          "line": {
           "color": "black",
           "width": 3
          },
          "type": "line",
          "x0": -0.5,
          "x1": 6.5,
          "y0": 0.5,
          "y1": 0.5
         },
         {
          "line": {
           "color": "black",
           "width": 3
          },
          "type": "line",
          "x0": -0.5,
          "x1": 6.5,
          "y0": 0.5,
          "y1": 0.5
         },
         {
          "line": {
           "color": "black",
           "width": 1.5
          },
          "type": "line",
          "x0": 3.5,
          "x1": 3.5,
          "y0": -0.5,
          "y1": 6.5
         },
         {
          "line": {
           "color": "black",
           "width": 3
          },
          "type": "line",
          "x0": -0.5,
          "x1": 6.5,
          "y0": 0.5,
          "y1": 0.5
         },
         {
          "line": {
           "color": "black",
           "width": 3
          },
          "type": "line",
          "x0": -0.5,
          "x1": 6.5,
          "y0": 0.5,
          "y1": 0.5
         },
         {
          "line": {
           "color": "black",
           "width": 3
          },
          "type": "line",
          "x0": 5.5,
          "x1": 5.5,
          "y0": -0.5,
          "y1": 6.5
         },
         {
          "line": {
           "color": "black",
           "width": 3
          },
          "type": "line",
          "x0": -0.5,
          "x1": 6.5,
          "y0": 0.5,
          "y1": 0.5
         },
         {
          "line": {
           "color": "black",
           "width": 1.5
          },
          "type": "line",
          "x0": 6.5,
          "x1": 6.5,
          "y0": -0.5,
          "y1": 6.5
         },
         {
          "line": {
           "color": "black",
           "width": 3
          },
          "type": "line",
          "x0": -0.5,
          "x1": 6.5,
          "y0": 0.5,
          "y1": 0.5
         }
        ],
        "margin": {
         "b": 180
        }
       },
       "config": {
        "plotlyServerURL": "https://plot.ly"
       }
      },
      "text/html": [
       "<div>                            <div id=\"eeb1b6be-784c-4ef6-a196-9754e169aea5\" class=\"plotly-graph-div\" style=\"height:900px; width:800px;\"></div>            <script type=\"text/javascript\">                require([\"plotly\"], function(Plotly) {                    window.PLOTLYENV=window.PLOTLYENV || {};                                    if (document.getElementById(\"eeb1b6be-784c-4ef6-a196-9754e169aea5\")) {                    Plotly.newPlot(                        \"eeb1b6be-784c-4ef6-a196-9754e169aea5\",                        [{\"colorbar\":{\"tickformat\":\".0%\"},\"colorscale\":[[0.0,\"#fcffa4\"],[0.1111111111111111,\"#f7d13d\"],[0.2222222222222222,\"#fb9b06\"],[0.3333333333333333,\"#ed6925\"],[0.4444444444444444,\"#cf4446\"],[0.5555555555555556,\"#a52c60\"],[0.6666666666666666,\"#781c6d\"],[0.7777777777777778,\"#4a0c6b\"],[0.8888888888888888,\"#1b0c41\"],[1.0,\"#000004\"]],\"texttemplate\":\"%{z:.0%}\",\"x\":[[\"Type\",\"Type\",\"Persistence\",\"Persistence\",\"Tangibility\",\"Tangibility\",\"\\u2062\"],[\"Positive\",\"Negative\",\"Volatile\",\"Permanent\",\"Virtual \",\"Real\",\"Average\"]],\"xgap\":2,\"y\":[\"Average \",\"General \",\"Finance \",\"Productivity \",\"Wellbeing \",\"Learning \",\"Sustainability \"],\"ygap\":2,\"z\":[[0.6335810159339571,0.07804477657418833,0.42321872027754376,0.3777508983391336,0.6033175974352444,0.034557871322577205,0.3584118133137741],[0.6363636363636364,0.18181818181818182,0.41818181818181815,0.38181818181818183,0.6181818181818182,0.01818181818181818,0.37575757575757573],[0.42857142857142855,0.0,0.42857142857142855,0.14285714285714285,0.42857142857142855,0.0,0.2380952380952381],[0.4117647058823529,0.11764705882352941,0.23529411764705882,0.35294117647058826,0.47058823529411764,0.058823529411764705,0.27450980392156865],[0.7692307692307693,0.057692307692307696,0.34615384615384615,0.5,0.7692307692307693,0.019230769230769232,0.4102564102564103],[0.7777777777777778,0.1111111111111111,0.5555555555555556,0.3333333333333333,0.6666666666666666,0.0,0.4074074074074074],[0.7777777777777778,0.0,0.5555555555555556,0.5555555555555556,0.6666666666666666,0.1111111111111111,0.4444444444444445]],\"zmax\":1,\"zmin\":0,\"type\":\"heatmap\"}],                        {\"template\":{\"data\":{\"barpolar\":[{\"marker\":{\"line\":{\"color\":\"white\",\"width\":0.5},\"pattern\":{\"fillmode\":\"overlay\",\"size\":10,\"solidity\":0.2}},\"type\":\"barpolar\"}],\"bar\":[{\"error_x\":{\"color\":\"#2a3f5f\"},\"error_y\":{\"color\":\"#2a3f5f\"},\"marker\":{\"line\":{\"color\":\"white\",\"width\":0.5},\"pattern\":{\"fillmode\":\"overlay\",\"size\":10,\"solidity\":0.2}},\"type\":\"bar\"}],\"carpet\":[{\"aaxis\":{\"endlinecolor\":\"#2a3f5f\",\"gridcolor\":\"#C8D4E3\",\"linecolor\":\"#C8D4E3\",\"minorgridcolor\":\"#C8D4E3\",\"startlinecolor\":\"#2a3f5f\"},\"baxis\":{\"endlinecolor\":\"#2a3f5f\",\"gridcolor\":\"#C8D4E3\",\"linecolor\":\"#C8D4E3\",\"minorgridcolor\":\"#C8D4E3\",\"startlinecolor\":\"#2a3f5f\"},\"type\":\"carpet\"}],\"choropleth\":[{\"colorbar\":{\"outlinewidth\":0,\"ticks\":\"\"},\"type\":\"choropleth\"}],\"contourcarpet\":[{\"colorbar\":{\"outlinewidth\":0,\"ticks\":\"\"},\"type\":\"contourcarpet\"}],\"contour\":[{\"colorbar\":{\"outlinewidth\":0,\"ticks\":\"\"},\"colorscale\":[[0.0,\"#0d0887\"],[0.1111111111111111,\"#46039f\"],[0.2222222222222222,\"#7201a8\"],[0.3333333333333333,\"#9c179e\"],[0.4444444444444444,\"#bd3786\"],[0.5555555555555556,\"#d8576b\"],[0.6666666666666666,\"#ed7953\"],[0.7777777777777778,\"#fb9f3a\"],[0.8888888888888888,\"#fdca26\"],[1.0,\"#f0f921\"]],\"type\":\"contour\"}],\"heatmapgl\":[{\"colorbar\":{\"outlinewidth\":0,\"ticks\":\"\"},\"colorscale\":[[0.0,\"#0d0887\"],[0.1111111111111111,\"#46039f\"],[0.2222222222222222,\"#7201a8\"],[0.3333333333333333,\"#9c179e\"],[0.4444444444444444,\"#bd3786\"],[0.5555555555555556,\"#d8576b\"],[0.6666666666666666,\"#ed7953\"],[0.7777777777777778,\"#fb9f3a\"],[0.8888888888888888,\"#fdca26\"],[1.0,\"#f0f921\"]],\"type\":\"heatmapgl\"}],\"heatmap\":[{\"colorbar\":{\"outlinewidth\":0,\"ticks\":\"\"},\"colorscale\":[[0.0,\"#0d0887\"],[0.1111111111111111,\"#46039f\"],[0.2222222222222222,\"#7201a8\"],[0.3333333333333333,\"#9c179e\"],[0.4444444444444444,\"#bd3786\"],[0.5555555555555556,\"#d8576b\"],[0.6666666666666666,\"#ed7953\"],[0.7777777777777778,\"#fb9f3a\"],[0.8888888888888888,\"#fdca26\"],[1.0,\"#f0f921\"]],\"type\":\"heatmap\"}],\"histogram2dcontour\":[{\"colorbar\":{\"outlinewidth\":0,\"ticks\":\"\"},\"colorscale\":[[0.0,\"#0d0887\"],[0.1111111111111111,\"#46039f\"],[0.2222222222222222,\"#7201a8\"],[0.3333333333333333,\"#9c179e\"],[0.4444444444444444,\"#bd3786\"],[0.5555555555555556,\"#d8576b\"],[0.6666666666666666,\"#ed7953\"],[0.7777777777777778,\"#fb9f3a\"],[0.8888888888888888,\"#fdca26\"],[1.0,\"#f0f921\"]],\"type\":\"histogram2dcontour\"}],\"histogram2d\":[{\"colorbar\":{\"outlinewidth\":0,\"ticks\":\"\"},\"colorscale\":[[0.0,\"#0d0887\"],[0.1111111111111111,\"#46039f\"],[0.2222222222222222,\"#7201a8\"],[0.3333333333333333,\"#9c179e\"],[0.4444444444444444,\"#bd3786\"],[0.5555555555555556,\"#d8576b\"],[0.6666666666666666,\"#ed7953\"],[0.7777777777777778,\"#fb9f3a\"],[0.8888888888888888,\"#fdca26\"],[1.0,\"#f0f921\"]],\"type\":\"histogram2d\"}],\"histogram\":[{\"marker\":{\"pattern\":{\"fillmode\":\"overlay\",\"size\":10,\"solidity\":0.2}},\"type\":\"histogram\"}],\"mesh3d\":[{\"colorbar\":{\"outlinewidth\":0,\"ticks\":\"\"},\"type\":\"mesh3d\"}],\"parcoords\":[{\"line\":{\"colorbar\":{\"outlinewidth\":0,\"ticks\":\"\"}},\"type\":\"parcoords\"}],\"pie\":[{\"automargin\":true,\"type\":\"pie\"}],\"scatter3d\":[{\"line\":{\"colorbar\":{\"outlinewidth\":0,\"ticks\":\"\"}},\"marker\":{\"colorbar\":{\"outlinewidth\":0,\"ticks\":\"\"}},\"type\":\"scatter3d\"}],\"scattercarpet\":[{\"marker\":{\"colorbar\":{\"outlinewidth\":0,\"ticks\":\"\"}},\"type\":\"scattercarpet\"}],\"scattergeo\":[{\"marker\":{\"colorbar\":{\"outlinewidth\":0,\"ticks\":\"\"}},\"type\":\"scattergeo\"}],\"scattergl\":[{\"marker\":{\"colorbar\":{\"outlinewidth\":0,\"ticks\":\"\"}},\"type\":\"scattergl\"}],\"scattermapbox\":[{\"marker\":{\"colorbar\":{\"outlinewidth\":0,\"ticks\":\"\"}},\"type\":\"scattermapbox\"}],\"scatterpolargl\":[{\"marker\":{\"colorbar\":{\"outlinewidth\":0,\"ticks\":\"\"}},\"type\":\"scatterpolargl\"}],\"scatterpolar\":[{\"marker\":{\"colorbar\":{\"outlinewidth\":0,\"ticks\":\"\"}},\"type\":\"scatterpolar\"}],\"scatter\":[{\"fillpattern\":{\"fillmode\":\"overlay\",\"size\":10,\"solidity\":0.2},\"type\":\"scatter\"}],\"scatterternary\":[{\"marker\":{\"colorbar\":{\"outlinewidth\":0,\"ticks\":\"\"}},\"type\":\"scatterternary\"}],\"surface\":[{\"colorbar\":{\"outlinewidth\":0,\"ticks\":\"\"},\"colorscale\":[[0.0,\"#0d0887\"],[0.1111111111111111,\"#46039f\"],[0.2222222222222222,\"#7201a8\"],[0.3333333333333333,\"#9c179e\"],[0.4444444444444444,\"#bd3786\"],[0.5555555555555556,\"#d8576b\"],[0.6666666666666666,\"#ed7953\"],[0.7777777777777778,\"#fb9f3a\"],[0.8888888888888888,\"#fdca26\"],[1.0,\"#f0f921\"]],\"type\":\"surface\"}],\"table\":[{\"cells\":{\"fill\":{\"color\":\"#EBF0F8\"},\"line\":{\"color\":\"white\"}},\"header\":{\"fill\":{\"color\":\"#C8D4E3\"},\"line\":{\"color\":\"white\"}},\"type\":\"table\"}]},\"layout\":{\"annotationdefaults\":{\"arrowcolor\":\"#2a3f5f\",\"arrowhead\":0,\"arrowwidth\":1},\"autotypenumbers\":\"strict\",\"coloraxis\":{\"colorbar\":{\"outlinewidth\":0,\"ticks\":\"\"}},\"colorscale\":{\"diverging\":[[0,\"#8e0152\"],[0.1,\"#c51b7d\"],[0.2,\"#de77ae\"],[0.3,\"#f1b6da\"],[0.4,\"#fde0ef\"],[0.5,\"#f7f7f7\"],[0.6,\"#e6f5d0\"],[0.7,\"#b8e186\"],[0.8,\"#7fbc41\"],[0.9,\"#4d9221\"],[1,\"#276419\"]],\"sequential\":[[0.0,\"#0d0887\"],[0.1111111111111111,\"#46039f\"],[0.2222222222222222,\"#7201a8\"],[0.3333333333333333,\"#9c179e\"],[0.4444444444444444,\"#bd3786\"],[0.5555555555555556,\"#d8576b\"],[0.6666666666666666,\"#ed7953\"],[0.7777777777777778,\"#fb9f3a\"],[0.8888888888888888,\"#fdca26\"],[1.0,\"#f0f921\"]],\"sequentialminus\":[[0.0,\"#0d0887\"],[0.1111111111111111,\"#46039f\"],[0.2222222222222222,\"#7201a8\"],[0.3333333333333333,\"#9c179e\"],[0.4444444444444444,\"#bd3786\"],[0.5555555555555556,\"#d8576b\"],[0.6666666666666666,\"#ed7953\"],[0.7777777777777778,\"#fb9f3a\"],[0.8888888888888888,\"#fdca26\"],[1.0,\"#f0f921\"]]},\"colorway\":[\"#636efa\",\"#EF553B\",\"#00cc96\",\"#ab63fa\",\"#FFA15A\",\"#19d3f3\",\"#FF6692\",\"#B6E880\",\"#FF97FF\",\"#FECB52\"],\"font\":{\"color\":\"#2a3f5f\"},\"geo\":{\"bgcolor\":\"white\",\"lakecolor\":\"white\",\"landcolor\":\"white\",\"showlakes\":true,\"showland\":true,\"subunitcolor\":\"#C8D4E3\"},\"hoverlabel\":{\"align\":\"left\"},\"hovermode\":\"closest\",\"mapbox\":{\"style\":\"light\"},\"paper_bgcolor\":\"white\",\"plot_bgcolor\":\"white\",\"polar\":{\"angularaxis\":{\"gridcolor\":\"#EBF0F8\",\"linecolor\":\"#EBF0F8\",\"ticks\":\"\"},\"bgcolor\":\"white\",\"radialaxis\":{\"gridcolor\":\"#EBF0F8\",\"linecolor\":\"#EBF0F8\",\"ticks\":\"\"}},\"scene\":{\"xaxis\":{\"backgroundcolor\":\"white\",\"gridcolor\":\"#DFE8F3\",\"gridwidth\":2,\"linecolor\":\"#EBF0F8\",\"showbackground\":true,\"ticks\":\"\",\"zerolinecolor\":\"#EBF0F8\"},\"yaxis\":{\"backgroundcolor\":\"white\",\"gridcolor\":\"#DFE8F3\",\"gridwidth\":2,\"linecolor\":\"#EBF0F8\",\"showbackground\":true,\"ticks\":\"\",\"zerolinecolor\":\"#EBF0F8\"},\"zaxis\":{\"backgroundcolor\":\"white\",\"gridcolor\":\"#DFE8F3\",\"gridwidth\":2,\"linecolor\":\"#EBF0F8\",\"showbackground\":true,\"ticks\":\"\",\"zerolinecolor\":\"#EBF0F8\"}},\"shapedefaults\":{\"line\":{\"color\":\"#2a3f5f\"}},\"ternary\":{\"aaxis\":{\"gridcolor\":\"#DFE8F3\",\"linecolor\":\"#A2B1C6\",\"ticks\":\"\"},\"baxis\":{\"gridcolor\":\"#DFE8F3\",\"linecolor\":\"#A2B1C6\",\"ticks\":\"\"},\"bgcolor\":\"white\",\"caxis\":{\"gridcolor\":\"#DFE8F3\",\"linecolor\":\"#A2B1C6\",\"ticks\":\"\"}},\"title\":{\"x\":0.05},\"xaxis\":{\"automargin\":true,\"gridcolor\":\"#EBF0F8\",\"linecolor\":\"#EBF0F8\",\"ticks\":\"\",\"title\":{\"standoff\":15},\"zerolinecolor\":\"#EBF0F8\",\"zerolinewidth\":2},\"yaxis\":{\"automargin\":true,\"gridcolor\":\"#EBF0F8\",\"linecolor\":\"#EBF0F8\",\"ticks\":\"\",\"title\":{\"standoff\":15},\"zerolinecolor\":\"#EBF0F8\",\"zerolinewidth\":2}}},\"xaxis\":{\"title\":{\"font\":{\"weight\":\"bold\",\"color\":\"black\"}},\"tickangle\":90,\"tickfont\":{\"family\":\"Arial\",\"size\":13,\"color\":\"black\",\"weight\":\"bold\"}},\"height\":900,\"width\":800,\"yaxis\":{\"tickfont\":{\"family\":\"Arial\",\"size\":13,\"color\":\"black\",\"weight\":\"bold\"}},\"shapes\":[{\"line\":{\"color\":\"black\",\"width\":1.5},\"type\":\"line\",\"x0\":-0.5,\"x1\":-0.5,\"y0\":-0.5,\"y1\":6.5},{\"line\":{\"color\":\"black\",\"width\":3},\"type\":\"line\",\"x0\":-0.5,\"x1\":6.5,\"y0\":0.5,\"y1\":0.5},{\"line\":{\"color\":\"black\",\"width\":3},\"type\":\"line\",\"x0\":-0.5,\"x1\":6.5,\"y0\":0.5,\"y1\":0.5},{\"line\":{\"color\":\"black\",\"width\":1.5},\"type\":\"line\",\"x0\":1.5,\"x1\":1.5,\"y0\":-0.5,\"y1\":6.5},{\"line\":{\"color\":\"black\",\"width\":3},\"type\":\"line\",\"x0\":-0.5,\"x1\":6.5,\"y0\":0.5,\"y1\":0.5},{\"line\":{\"color\":\"black\",\"width\":3},\"type\":\"line\",\"x0\":-0.5,\"x1\":6.5,\"y0\":0.5,\"y1\":0.5},{\"line\":{\"color\":\"black\",\"width\":1.5},\"type\":\"line\",\"x0\":3.5,\"x1\":3.5,\"y0\":-0.5,\"y1\":6.5},{\"line\":{\"color\":\"black\",\"width\":3},\"type\":\"line\",\"x0\":-0.5,\"x1\":6.5,\"y0\":0.5,\"y1\":0.5},{\"line\":{\"color\":\"black\",\"width\":3},\"type\":\"line\",\"x0\":-0.5,\"x1\":6.5,\"y0\":0.5,\"y1\":0.5},{\"line\":{\"color\":\"black\",\"width\":3},\"type\":\"line\",\"x0\":5.5,\"x1\":5.5,\"y0\":-0.5,\"y1\":6.5},{\"line\":{\"color\":\"black\",\"width\":3},\"type\":\"line\",\"x0\":-0.5,\"x1\":6.5,\"y0\":0.5,\"y1\":0.5},{\"line\":{\"color\":\"black\",\"width\":1.5},\"type\":\"line\",\"x0\":6.5,\"x1\":6.5,\"y0\":-0.5,\"y1\":6.5},{\"line\":{\"color\":\"black\",\"width\":3},\"type\":\"line\",\"x0\":-0.5,\"x1\":6.5,\"y0\":0.5,\"y1\":0.5}],\"margin\":{\"b\":180}},                        {\"responsive\": true}                    ).then(function(){\n",
       "                            \n",
       "var gd = document.getElementById('eeb1b6be-784c-4ef6-a196-9754e169aea5');\n",
       "var x = new MutationObserver(function (mutations, observer) {{\n",
       "        var display = window.getComputedStyle(gd).display;\n",
       "        if (!display || display === 'none') {{\n",
       "            console.log([gd, 'removed!']);\n",
       "            Plotly.purge(gd);\n",
       "            observer.disconnect();\n",
       "        }}\n",
       "}});\n",
       "\n",
       "// Listen for the removal of the full notebook cells\n",
       "var notebookContainer = gd.closest('#notebook-container');\n",
       "if (notebookContainer) {{\n",
       "    x.observe(notebookContainer, {childList: true});\n",
       "}}\n",
       "\n",
       "// Listen for the clearing of the current output cell\n",
       "var outputEl = gd.closest('.output');\n",
       "if (outputEl) {{\n",
       "    x.observe(outputEl, {childList: true});\n",
       "}}\n",
       "\n",
       "                        })                };                });            </script>        </div>"
      ]
     },
     "metadata": {},
     "output_type": "display_data"
    },
    {
     "data": {
      "application/vnd.plotly.v1+json": {
       "data": [
        {
         "colorbar": {
          "tickformat": ".0%"
         },
         "colorscale": [
          [
           0.0,
           "#fcffa4"
          ],
          [
           0.1111111111111111,
           "#f7d13d"
          ],
          [
           0.2222222222222222,
           "#fb9b06"
          ],
          [
           0.3333333333333333,
           "#ed6925"
          ],
          [
           0.4444444444444444,
           "#cf4446"
          ],
          [
           0.5555555555555556,
           "#a52c60"
          ],
          [
           0.6666666666666666,
           "#781c6d"
          ],
          [
           0.7777777777777778,
           "#4a0c6b"
          ],
          [
           0.8888888888888888,
           "#1b0c41"
          ],
          [
           1.0,
           "#000004"
          ]
         ],
         "texttemplate": "%{z:.0%}",
         "x": [
          [
           " ",
           "Diversification",
           "Diversification",
           "Enrichment",
           "Enrichment",
           "Derivation",
           "Derivation",
           "  ",
           "  ",
           "   "
          ],
          [
           "Integration",
           "Adaptation",
           "Recommendation",
           "Profile",
           "Context",
           "Interpretation of<br>User Behaviour",
           "Explanation of<br>System Behaviour",
           "Relation",
           "Interaction",
           "Average"
          ]
         ],
         "xgap": 2,
         "y": [
          "Average ",
          "General ",
          "Finance ",
          "Productivity ",
          "Wellbeing ",
          "Learning ",
          "Sustainability "
         ],
         "ygap": 2,
         "z": [
          [
           0.05894845894845894,
           0.15309842662783837,
           0.00944055944055944,
           0.35795528001410354,
           0.0032051282051282055,
           0.009265734265734266,
           0.1298004283298401,
           0.053251215015920894,
           0.053251215015920894,
           0.09202404954038942
          ],
          [
           0.05454545454545454,
           0.2545454545454545,
           0.01818181818181818,
           0.32727272727272727,
           0.0,
           0.03636363636363636,
           0.12727272727272726,
           0.0,
           0.0,
           0.0909090909090909
          ],
          [
           0.0,
           0.2857142857142857,
           0.0,
           0.14285714285714285,
           0.0,
           0.0,
           0.14285714285714285,
           0.0,
           0.0,
           0.06349206349206349
          ],
          [
           0.0,
           0.11764705882352941,
           0.0,
           0.23529411764705882,
           0.0,
           0.0,
           0.11764705882352941,
           0.058823529411764705,
           0.058823529411764705,
           0.065359477124183
          ],
          [
           0.07692307692307693,
           0.038461538461538464,
           0.038461538461538464,
           0.4423076923076923,
           0.019230769230769232,
           0.019230769230769232,
           0.057692307692307696,
           0.038461538461538464,
           0.038461538461538464,
           0.08547008547008547
          ],
          [
           0.1111111111111111,
           0.1111111111111111,
           0.0,
           0.3333333333333333,
           0.0,
           0.0,
           0.1111111111111111,
           0.0,
           0.0,
           0.07407407407407408
          ],
          [
           0.1111111111111111,
           0.1111111111111111,
           0.0,
           0.6666666666666666,
           0.0,
           0.0,
           0.2222222222222222,
           0.2222222222222222,
           0.2222222222222222,
           0.1728395061728395
          ]
         ],
         "zmax": 1,
         "zmin": 0,
         "type": "heatmap"
        }
       ],
       "layout": {
        "template": {
         "data": {
          "barpolar": [
           {
            "marker": {
             "line": {
              "color": "white",
              "width": 0.5
             },
             "pattern": {
              "fillmode": "overlay",
              "size": 10,
              "solidity": 0.2
             }
            },
            "type": "barpolar"
           }
          ],
          "bar": [
           {
            "error_x": {
             "color": "#2a3f5f"
            },
            "error_y": {
             "color": "#2a3f5f"
            },
            "marker": {
             "line": {
              "color": "white",
              "width": 0.5
             },
             "pattern": {
              "fillmode": "overlay",
              "size": 10,
              "solidity": 0.2
             }
            },
            "type": "bar"
           }
          ],
          "carpet": [
           {
            "aaxis": {
             "endlinecolor": "#2a3f5f",
             "gridcolor": "#C8D4E3",
             "linecolor": "#C8D4E3",
             "minorgridcolor": "#C8D4E3",
             "startlinecolor": "#2a3f5f"
            },
            "baxis": {
             "endlinecolor": "#2a3f5f",
             "gridcolor": "#C8D4E3",
             "linecolor": "#C8D4E3",
             "minorgridcolor": "#C8D4E3",
             "startlinecolor": "#2a3f5f"
            },
            "type": "carpet"
           }
          ],
          "choropleth": [
           {
            "colorbar": {
             "outlinewidth": 0,
             "ticks": ""
            },
            "type": "choropleth"
           }
          ],
          "contourcarpet": [
           {
            "colorbar": {
             "outlinewidth": 0,
             "ticks": ""
            },
            "type": "contourcarpet"
           }
          ],
          "contour": [
           {
            "colorbar": {
             "outlinewidth": 0,
             "ticks": ""
            },
            "colorscale": [
             [
              0.0,
              "#0d0887"
             ],
             [
              0.1111111111111111,
              "#46039f"
             ],
             [
              0.2222222222222222,
              "#7201a8"
             ],
             [
              0.3333333333333333,
              "#9c179e"
             ],
             [
              0.4444444444444444,
              "#bd3786"
             ],
             [
              0.5555555555555556,
              "#d8576b"
             ],
             [
              0.6666666666666666,
              "#ed7953"
             ],
             [
              0.7777777777777778,
              "#fb9f3a"
             ],
             [
              0.8888888888888888,
              "#fdca26"
             ],
             [
              1.0,
              "#f0f921"
             ]
            ],
            "type": "contour"
           }
          ],
          "heatmapgl": [
           {
            "colorbar": {
             "outlinewidth": 0,
             "ticks": ""
            },
            "colorscale": [
             [
              0.0,
              "#0d0887"
             ],
             [
              0.1111111111111111,
              "#46039f"
             ],
             [
              0.2222222222222222,
              "#7201a8"
             ],
             [
              0.3333333333333333,
              "#9c179e"
             ],
             [
              0.4444444444444444,
              "#bd3786"
             ],
             [
              0.5555555555555556,
              "#d8576b"
             ],
             [
              0.6666666666666666,
              "#ed7953"
             ],
             [
              0.7777777777777778,
              "#fb9f3a"
             ],
             [
              0.8888888888888888,
              "#fdca26"
             ],
             [
              1.0,
              "#f0f921"
             ]
            ],
            "type": "heatmapgl"
           }
          ],
          "heatmap": [
           {
            "colorbar": {
             "outlinewidth": 0,
             "ticks": ""
            },
            "colorscale": [
             [
              0.0,
              "#0d0887"
             ],
             [
              0.1111111111111111,
              "#46039f"
             ],
             [
              0.2222222222222222,
              "#7201a8"
             ],
             [
              0.3333333333333333,
              "#9c179e"
             ],
             [
              0.4444444444444444,
              "#bd3786"
             ],
             [
              0.5555555555555556,
              "#d8576b"
             ],
             [
              0.6666666666666666,
              "#ed7953"
             ],
             [
              0.7777777777777778,
              "#fb9f3a"
             ],
             [
              0.8888888888888888,
              "#fdca26"
             ],
             [
              1.0,
              "#f0f921"
             ]
            ],
            "type": "heatmap"
           }
          ],
          "histogram2dcontour": [
           {
            "colorbar": {
             "outlinewidth": 0,
             "ticks": ""
            },
            "colorscale": [
             [
              0.0,
              "#0d0887"
             ],
             [
              0.1111111111111111,
              "#46039f"
             ],
             [
              0.2222222222222222,
              "#7201a8"
             ],
             [
              0.3333333333333333,
              "#9c179e"
             ],
             [
              0.4444444444444444,
              "#bd3786"
             ],
             [
              0.5555555555555556,
              "#d8576b"
             ],
             [
              0.6666666666666666,
              "#ed7953"
             ],
             [
              0.7777777777777778,
              "#fb9f3a"
             ],
             [
              0.8888888888888888,
              "#fdca26"
             ],
             [
              1.0,
              "#f0f921"
             ]
            ],
            "type": "histogram2dcontour"
           }
          ],
          "histogram2d": [
           {
            "colorbar": {
             "outlinewidth": 0,
             "ticks": ""
            },
            "colorscale": [
             [
              0.0,
              "#0d0887"
             ],
             [
              0.1111111111111111,
              "#46039f"
             ],
             [
              0.2222222222222222,
              "#7201a8"
             ],
             [
              0.3333333333333333,
              "#9c179e"
             ],
             [
              0.4444444444444444,
              "#bd3786"
             ],
             [
              0.5555555555555556,
              "#d8576b"
             ],
             [
              0.6666666666666666,
              "#ed7953"
             ],
             [
              0.7777777777777778,
              "#fb9f3a"
             ],
             [
              0.8888888888888888,
              "#fdca26"
             ],
             [
              1.0,
              "#f0f921"
             ]
            ],
            "type": "histogram2d"
           }
          ],
          "histogram": [
           {
            "marker": {
             "pattern": {
              "fillmode": "overlay",
              "size": 10,
              "solidity": 0.2
             }
            },
            "type": "histogram"
           }
          ],
          "mesh3d": [
           {
            "colorbar": {
             "outlinewidth": 0,
             "ticks": ""
            },
            "type": "mesh3d"
           }
          ],
          "parcoords": [
           {
            "line": {
             "colorbar": {
              "outlinewidth": 0,
              "ticks": ""
             }
            },
            "type": "parcoords"
           }
          ],
          "pie": [
           {
            "automargin": true,
            "type": "pie"
           }
          ],
          "scatter3d": [
           {
            "line": {
             "colorbar": {
              "outlinewidth": 0,
              "ticks": ""
             }
            },
            "marker": {
             "colorbar": {
              "outlinewidth": 0,
              "ticks": ""
             }
            },
            "type": "scatter3d"
           }
          ],
          "scattercarpet": [
           {
            "marker": {
             "colorbar": {
              "outlinewidth": 0,
              "ticks": ""
             }
            },
            "type": "scattercarpet"
           }
          ],
          "scattergeo": [
           {
            "marker": {
             "colorbar": {
              "outlinewidth": 0,
              "ticks": ""
             }
            },
            "type": "scattergeo"
           }
          ],
          "scattergl": [
           {
            "marker": {
             "colorbar": {
              "outlinewidth": 0,
              "ticks": ""
             }
            },
            "type": "scattergl"
           }
          ],
          "scattermapbox": [
           {
            "marker": {
             "colorbar": {
              "outlinewidth": 0,
              "ticks": ""
             }
            },
            "type": "scattermapbox"
           }
          ],
          "scatterpolargl": [
           {
            "marker": {
             "colorbar": {
              "outlinewidth": 0,
              "ticks": ""
             }
            },
            "type": "scatterpolargl"
           }
          ],
          "scatterpolar": [
           {
            "marker": {
             "colorbar": {
              "outlinewidth": 0,
              "ticks": ""
             }
            },
            "type": "scatterpolar"
           }
          ],
          "scatter": [
           {
            "fillpattern": {
             "fillmode": "overlay",
             "size": 10,
             "solidity": 0.2
            },
            "type": "scatter"
           }
          ],
          "scatterternary": [
           {
            "marker": {
             "colorbar": {
              "outlinewidth": 0,
              "ticks": ""
             }
            },
            "type": "scatterternary"
           }
          ],
          "surface": [
           {
            "colorbar": {
             "outlinewidth": 0,
             "ticks": ""
            },
            "colorscale": [
             [
              0.0,
              "#0d0887"
             ],
             [
              0.1111111111111111,
              "#46039f"
             ],
             [
              0.2222222222222222,
              "#7201a8"
             ],
             [
              0.3333333333333333,
              "#9c179e"
             ],
             [
              0.4444444444444444,
              "#bd3786"
             ],
             [
              0.5555555555555556,
              "#d8576b"
             ],
             [
              0.6666666666666666,
              "#ed7953"
             ],
             [
              0.7777777777777778,
              "#fb9f3a"
             ],
             [
              0.8888888888888888,
              "#fdca26"
             ],
             [
              1.0,
              "#f0f921"
             ]
            ],
            "type": "surface"
           }
          ],
          "table": [
           {
            "cells": {
             "fill": {
              "color": "#EBF0F8"
             },
             "line": {
              "color": "white"
             }
            },
            "header": {
             "fill": {
              "color": "#C8D4E3"
             },
             "line": {
              "color": "white"
             }
            },
            "type": "table"
           }
          ]
         },
         "layout": {
          "annotationdefaults": {
           "arrowcolor": "#2a3f5f",
           "arrowhead": 0,
           "arrowwidth": 1
          },
          "autotypenumbers": "strict",
          "coloraxis": {
           "colorbar": {
            "outlinewidth": 0,
            "ticks": ""
           }
          },
          "colorscale": {
           "diverging": [
            [
             0,
             "#8e0152"
            ],
            [
             0.1,
             "#c51b7d"
            ],
            [
             0.2,
             "#de77ae"
            ],
            [
             0.3,
             "#f1b6da"
            ],
            [
             0.4,
             "#fde0ef"
            ],
            [
             0.5,
             "#f7f7f7"
            ],
            [
             0.6,
             "#e6f5d0"
            ],
            [
             0.7,
             "#b8e186"
            ],
            [
             0.8,
             "#7fbc41"
            ],
            [
             0.9,
             "#4d9221"
            ],
            [
             1,
             "#276419"
            ]
           ],
           "sequential": [
            [
             0.0,
             "#0d0887"
            ],
            [
             0.1111111111111111,
             "#46039f"
            ],
            [
             0.2222222222222222,
             "#7201a8"
            ],
            [
             0.3333333333333333,
             "#9c179e"
            ],
            [
             0.4444444444444444,
             "#bd3786"
            ],
            [
             0.5555555555555556,
             "#d8576b"
            ],
            [
             0.6666666666666666,
             "#ed7953"
            ],
            [
             0.7777777777777778,
             "#fb9f3a"
            ],
            [
             0.8888888888888888,
             "#fdca26"
            ],
            [
             1.0,
             "#f0f921"
            ]
           ],
           "sequentialminus": [
            [
             0.0,
             "#0d0887"
            ],
            [
             0.1111111111111111,
             "#46039f"
            ],
            [
             0.2222222222222222,
             "#7201a8"
            ],
            [
             0.3333333333333333,
             "#9c179e"
            ],
            [
             0.4444444444444444,
             "#bd3786"
            ],
            [
             0.5555555555555556,
             "#d8576b"
            ],
            [
             0.6666666666666666,
             "#ed7953"
            ],
            [
             0.7777777777777778,
             "#fb9f3a"
            ],
            [
             0.8888888888888888,
             "#fdca26"
            ],
            [
             1.0,
             "#f0f921"
            ]
           ]
          },
          "colorway": [
           "#636efa",
           "#EF553B",
           "#00cc96",
           "#ab63fa",
           "#FFA15A",
           "#19d3f3",
           "#FF6692",
           "#B6E880",
           "#FF97FF",
           "#FECB52"
          ],
          "font": {
           "color": "#2a3f5f"
          },
          "geo": {
           "bgcolor": "white",
           "lakecolor": "white",
           "landcolor": "white",
           "showlakes": true,
           "showland": true,
           "subunitcolor": "#C8D4E3"
          },
          "hoverlabel": {
           "align": "left"
          },
          "hovermode": "closest",
          "mapbox": {
           "style": "light"
          },
          "paper_bgcolor": "white",
          "plot_bgcolor": "white",
          "polar": {
           "angularaxis": {
            "gridcolor": "#EBF0F8",
            "linecolor": "#EBF0F8",
            "ticks": ""
           },
           "bgcolor": "white",
           "radialaxis": {
            "gridcolor": "#EBF0F8",
            "linecolor": "#EBF0F8",
            "ticks": ""
           }
          },
          "scene": {
           "xaxis": {
            "backgroundcolor": "white",
            "gridcolor": "#DFE8F3",
            "gridwidth": 2,
            "linecolor": "#EBF0F8",
            "showbackground": true,
            "ticks": "",
            "zerolinecolor": "#EBF0F8"
           },
           "yaxis": {
            "backgroundcolor": "white",
            "gridcolor": "#DFE8F3",
            "gridwidth": 2,
            "linecolor": "#EBF0F8",
            "showbackground": true,
            "ticks": "",
            "zerolinecolor": "#EBF0F8"
           },
           "zaxis": {
            "backgroundcolor": "white",
            "gridcolor": "#DFE8F3",
            "gridwidth": 2,
            "linecolor": "#EBF0F8",
            "showbackground": true,
            "ticks": "",
            "zerolinecolor": "#EBF0F8"
           }
          },
          "shapedefaults": {
           "line": {
            "color": "#2a3f5f"
           }
          },
          "ternary": {
           "aaxis": {
            "gridcolor": "#DFE8F3",
            "linecolor": "#A2B1C6",
            "ticks": ""
           },
           "baxis": {
            "gridcolor": "#DFE8F3",
            "linecolor": "#A2B1C6",
            "ticks": ""
           },
           "bgcolor": "white",
           "caxis": {
            "gridcolor": "#DFE8F3",
            "linecolor": "#A2B1C6",
            "ticks": ""
           }
          },
          "title": {
           "x": 0.05
          },
          "xaxis": {
           "automargin": true,
           "gridcolor": "#EBF0F8",
           "linecolor": "#EBF0F8",
           "ticks": "",
           "title": {
            "standoff": 15
           },
           "zerolinecolor": "#EBF0F8",
           "zerolinewidth": 2
          },
          "yaxis": {
           "automargin": true,
           "gridcolor": "#EBF0F8",
           "linecolor": "#EBF0F8",
           "ticks": "",
           "title": {
            "standoff": 15
           },
           "zerolinecolor": "#EBF0F8",
           "zerolinewidth": 2
          }
         }
        },
        "xaxis": {
         "title": {
          "font": {
           "weight": "bold",
           "color": "black"
          }
         },
         "tickangle": 90,
         "tickfont": {
          "family": "Arial",
          "size": 13,
          "color": "black",
          "weight": "bold"
         }
        },
        "height": 900,
        "width": 800,
        "yaxis": {
         "tickfont": {
          "family": "Arial",
          "size": 13,
          "color": "black",
          "weight": "bold"
         }
        },
        "shapes": [
         {
          "line": {
           "color": "black",
           "width": 1.5
          },
          "type": "line",
          "x0": -0.5,
          "x1": -0.5,
          "y0": -0.5,
          "y1": 6.5
         },
         {
          "line": {
           "color": "black",
           "width": 3
          },
          "type": "line",
          "x0": -0.5,
          "x1": 9.5,
          "y0": 0.5,
          "y1": 0.5
         },
         {
          "line": {
           "color": "black",
           "width": 1.5
          },
          "type": "line",
          "x0": 0.5,
          "x1": 0.5,
          "y0": -0.5,
          "y1": 6.5
         },
         {
          "line": {
           "color": "black",
           "width": 3
          },
          "type": "line",
          "x0": -0.5,
          "x1": 9.5,
          "y0": 0.5,
          "y1": 0.5
         },
         {
          "line": {
           "color": "black",
           "width": 3
          },
          "type": "line",
          "x0": -0.5,
          "x1": 9.5,
          "y0": 0.5,
          "y1": 0.5
         },
         {
          "line": {
           "color": "black",
           "width": 1.5
          },
          "type": "line",
          "x0": 2.5,
          "x1": 2.5,
          "y0": -0.5,
          "y1": 6.5
         },
         {
          "line": {
           "color": "black",
           "width": 3
          },
          "type": "line",
          "x0": -0.5,
          "x1": 9.5,
          "y0": 0.5,
          "y1": 0.5
         },
         {
          "line": {
           "color": "black",
           "width": 3
          },
          "type": "line",
          "x0": -0.5,
          "x1": 9.5,
          "y0": 0.5,
          "y1": 0.5
         },
         {
          "line": {
           "color": "black",
           "width": 1.5
          },
          "type": "line",
          "x0": 4.5,
          "x1": 4.5,
          "y0": -0.5,
          "y1": 6.5
         },
         {
          "line": {
           "color": "black",
           "width": 3
          },
          "type": "line",
          "x0": -0.5,
          "x1": 9.5,
          "y0": 0.5,
          "y1": 0.5
         },
         {
          "line": {
           "color": "black",
           "width": 3
          },
          "type": "line",
          "x0": -0.5,
          "x1": 9.5,
          "y0": 0.5,
          "y1": 0.5
         },
         {
          "line": {
           "color": "black",
           "width": 1.5
          },
          "type": "line",
          "x0": 6.5,
          "x1": 6.5,
          "y0": -0.5,
          "y1": 6.5
         },
         {
          "line": {
           "color": "black",
           "width": 3
          },
          "type": "line",
          "x0": -0.5,
          "x1": 9.5,
          "y0": 0.5,
          "y1": 0.5
         },
         {
          "line": {
           "color": "black",
           "width": 3
          },
          "type": "line",
          "x0": -0.5,
          "x1": 9.5,
          "y0": 0.5,
          "y1": 0.5
         },
         {
          "line": {
           "color": "black",
           "width": 3
          },
          "type": "line",
          "x0": 8.5,
          "x1": 8.5,
          "y0": -0.5,
          "y1": 6.5
         },
         {
          "line": {
           "color": "black",
           "width": 3
          },
          "type": "line",
          "x0": -0.5,
          "x1": 9.5,
          "y0": 0.5,
          "y1": 0.5
         },
         {
          "line": {
           "color": "black",
           "width": 1.5
          },
          "type": "line",
          "x0": 9.5,
          "x1": 9.5,
          "y0": -0.5,
          "y1": 6.5
         },
         {
          "line": {
           "color": "black",
           "width": 3
          },
          "type": "line",
          "x0": -0.5,
          "x1": 9.5,
          "y0": 0.5,
          "y1": 0.5
         }
        ],
        "margin": {
         "b": 180
        },
        "annotations": [
         {
          "align": "center",
          "font": {
           "color": "black",
           "family": "Arial",
           "size": 14,
           "weight": "bold"
          },
          "showarrow": false,
          "text": "|                System                |                    Knowledge                    |           Social         |              |",
          "x": 0.5,
          "xref": "paper",
          "y": -0.25,
          "yref": "paper"
         }
        ]
       },
       "config": {
        "plotlyServerURL": "https://plot.ly"
       }
      },
      "text/html": [
       "<div>                            <div id=\"0ab91c14-2144-484d-983c-94e9e531769d\" class=\"plotly-graph-div\" style=\"height:900px; width:800px;\"></div>            <script type=\"text/javascript\">                require([\"plotly\"], function(Plotly) {                    window.PLOTLYENV=window.PLOTLYENV || {};                                    if (document.getElementById(\"0ab91c14-2144-484d-983c-94e9e531769d\")) {                    Plotly.newPlot(                        \"0ab91c14-2144-484d-983c-94e9e531769d\",                        [{\"colorbar\":{\"tickformat\":\".0%\"},\"colorscale\":[[0.0,\"#fcffa4\"],[0.1111111111111111,\"#f7d13d\"],[0.2222222222222222,\"#fb9b06\"],[0.3333333333333333,\"#ed6925\"],[0.4444444444444444,\"#cf4446\"],[0.5555555555555556,\"#a52c60\"],[0.6666666666666666,\"#781c6d\"],[0.7777777777777778,\"#4a0c6b\"],[0.8888888888888888,\"#1b0c41\"],[1.0,\"#000004\"]],\"texttemplate\":\"%{z:.0%}\",\"x\":[[\" \",\"Diversification\",\"Diversification\",\"Enrichment\",\"Enrichment\",\"Derivation\",\"Derivation\",\"  \",\"  \",\"   \"],[\"Integration\",\"Adaptation\",\"Recommendation\",\"Profile\",\"Context\",\"Interpretation of\\u003cbr\\u003eUser Behaviour\",\"Explanation of\\u003cbr\\u003eSystem Behaviour\",\"Relation\",\"Interaction\",\"Average\"]],\"xgap\":2,\"y\":[\"Average \",\"General \",\"Finance \",\"Productivity \",\"Wellbeing \",\"Learning \",\"Sustainability \"],\"ygap\":2,\"z\":[[0.05894845894845894,0.15309842662783837,0.00944055944055944,0.35795528001410354,0.0032051282051282055,0.009265734265734266,0.1298004283298401,0.053251215015920894,0.053251215015920894,0.09202404954038942],[0.05454545454545454,0.2545454545454545,0.01818181818181818,0.32727272727272727,0.0,0.03636363636363636,0.12727272727272726,0.0,0.0,0.0909090909090909],[0.0,0.2857142857142857,0.0,0.14285714285714285,0.0,0.0,0.14285714285714285,0.0,0.0,0.06349206349206349],[0.0,0.11764705882352941,0.0,0.23529411764705882,0.0,0.0,0.11764705882352941,0.058823529411764705,0.058823529411764705,0.065359477124183],[0.07692307692307693,0.038461538461538464,0.038461538461538464,0.4423076923076923,0.019230769230769232,0.019230769230769232,0.057692307692307696,0.038461538461538464,0.038461538461538464,0.08547008547008547],[0.1111111111111111,0.1111111111111111,0.0,0.3333333333333333,0.0,0.0,0.1111111111111111,0.0,0.0,0.07407407407407408],[0.1111111111111111,0.1111111111111111,0.0,0.6666666666666666,0.0,0.0,0.2222222222222222,0.2222222222222222,0.2222222222222222,0.1728395061728395]],\"zmax\":1,\"zmin\":0,\"type\":\"heatmap\"}],                        {\"template\":{\"data\":{\"barpolar\":[{\"marker\":{\"line\":{\"color\":\"white\",\"width\":0.5},\"pattern\":{\"fillmode\":\"overlay\",\"size\":10,\"solidity\":0.2}},\"type\":\"barpolar\"}],\"bar\":[{\"error_x\":{\"color\":\"#2a3f5f\"},\"error_y\":{\"color\":\"#2a3f5f\"},\"marker\":{\"line\":{\"color\":\"white\",\"width\":0.5},\"pattern\":{\"fillmode\":\"overlay\",\"size\":10,\"solidity\":0.2}},\"type\":\"bar\"}],\"carpet\":[{\"aaxis\":{\"endlinecolor\":\"#2a3f5f\",\"gridcolor\":\"#C8D4E3\",\"linecolor\":\"#C8D4E3\",\"minorgridcolor\":\"#C8D4E3\",\"startlinecolor\":\"#2a3f5f\"},\"baxis\":{\"endlinecolor\":\"#2a3f5f\",\"gridcolor\":\"#C8D4E3\",\"linecolor\":\"#C8D4E3\",\"minorgridcolor\":\"#C8D4E3\",\"startlinecolor\":\"#2a3f5f\"},\"type\":\"carpet\"}],\"choropleth\":[{\"colorbar\":{\"outlinewidth\":0,\"ticks\":\"\"},\"type\":\"choropleth\"}],\"contourcarpet\":[{\"colorbar\":{\"outlinewidth\":0,\"ticks\":\"\"},\"type\":\"contourcarpet\"}],\"contour\":[{\"colorbar\":{\"outlinewidth\":0,\"ticks\":\"\"},\"colorscale\":[[0.0,\"#0d0887\"],[0.1111111111111111,\"#46039f\"],[0.2222222222222222,\"#7201a8\"],[0.3333333333333333,\"#9c179e\"],[0.4444444444444444,\"#bd3786\"],[0.5555555555555556,\"#d8576b\"],[0.6666666666666666,\"#ed7953\"],[0.7777777777777778,\"#fb9f3a\"],[0.8888888888888888,\"#fdca26\"],[1.0,\"#f0f921\"]],\"type\":\"contour\"}],\"heatmapgl\":[{\"colorbar\":{\"outlinewidth\":0,\"ticks\":\"\"},\"colorscale\":[[0.0,\"#0d0887\"],[0.1111111111111111,\"#46039f\"],[0.2222222222222222,\"#7201a8\"],[0.3333333333333333,\"#9c179e\"],[0.4444444444444444,\"#bd3786\"],[0.5555555555555556,\"#d8576b\"],[0.6666666666666666,\"#ed7953\"],[0.7777777777777778,\"#fb9f3a\"],[0.8888888888888888,\"#fdca26\"],[1.0,\"#f0f921\"]],\"type\":\"heatmapgl\"}],\"heatmap\":[{\"colorbar\":{\"outlinewidth\":0,\"ticks\":\"\"},\"colorscale\":[[0.0,\"#0d0887\"],[0.1111111111111111,\"#46039f\"],[0.2222222222222222,\"#7201a8\"],[0.3333333333333333,\"#9c179e\"],[0.4444444444444444,\"#bd3786\"],[0.5555555555555556,\"#d8576b\"],[0.6666666666666666,\"#ed7953\"],[0.7777777777777778,\"#fb9f3a\"],[0.8888888888888888,\"#fdca26\"],[1.0,\"#f0f921\"]],\"type\":\"heatmap\"}],\"histogram2dcontour\":[{\"colorbar\":{\"outlinewidth\":0,\"ticks\":\"\"},\"colorscale\":[[0.0,\"#0d0887\"],[0.1111111111111111,\"#46039f\"],[0.2222222222222222,\"#7201a8\"],[0.3333333333333333,\"#9c179e\"],[0.4444444444444444,\"#bd3786\"],[0.5555555555555556,\"#d8576b\"],[0.6666666666666666,\"#ed7953\"],[0.7777777777777778,\"#fb9f3a\"],[0.8888888888888888,\"#fdca26\"],[1.0,\"#f0f921\"]],\"type\":\"histogram2dcontour\"}],\"histogram2d\":[{\"colorbar\":{\"outlinewidth\":0,\"ticks\":\"\"},\"colorscale\":[[0.0,\"#0d0887\"],[0.1111111111111111,\"#46039f\"],[0.2222222222222222,\"#7201a8\"],[0.3333333333333333,\"#9c179e\"],[0.4444444444444444,\"#bd3786\"],[0.5555555555555556,\"#d8576b\"],[0.6666666666666666,\"#ed7953\"],[0.7777777777777778,\"#fb9f3a\"],[0.8888888888888888,\"#fdca26\"],[1.0,\"#f0f921\"]],\"type\":\"histogram2d\"}],\"histogram\":[{\"marker\":{\"pattern\":{\"fillmode\":\"overlay\",\"size\":10,\"solidity\":0.2}},\"type\":\"histogram\"}],\"mesh3d\":[{\"colorbar\":{\"outlinewidth\":0,\"ticks\":\"\"},\"type\":\"mesh3d\"}],\"parcoords\":[{\"line\":{\"colorbar\":{\"outlinewidth\":0,\"ticks\":\"\"}},\"type\":\"parcoords\"}],\"pie\":[{\"automargin\":true,\"type\":\"pie\"}],\"scatter3d\":[{\"line\":{\"colorbar\":{\"outlinewidth\":0,\"ticks\":\"\"}},\"marker\":{\"colorbar\":{\"outlinewidth\":0,\"ticks\":\"\"}},\"type\":\"scatter3d\"}],\"scattercarpet\":[{\"marker\":{\"colorbar\":{\"outlinewidth\":0,\"ticks\":\"\"}},\"type\":\"scattercarpet\"}],\"scattergeo\":[{\"marker\":{\"colorbar\":{\"outlinewidth\":0,\"ticks\":\"\"}},\"type\":\"scattergeo\"}],\"scattergl\":[{\"marker\":{\"colorbar\":{\"outlinewidth\":0,\"ticks\":\"\"}},\"type\":\"scattergl\"}],\"scattermapbox\":[{\"marker\":{\"colorbar\":{\"outlinewidth\":0,\"ticks\":\"\"}},\"type\":\"scattermapbox\"}],\"scatterpolargl\":[{\"marker\":{\"colorbar\":{\"outlinewidth\":0,\"ticks\":\"\"}},\"type\":\"scatterpolargl\"}],\"scatterpolar\":[{\"marker\":{\"colorbar\":{\"outlinewidth\":0,\"ticks\":\"\"}},\"type\":\"scatterpolar\"}],\"scatter\":[{\"fillpattern\":{\"fillmode\":\"overlay\",\"size\":10,\"solidity\":0.2},\"type\":\"scatter\"}],\"scatterternary\":[{\"marker\":{\"colorbar\":{\"outlinewidth\":0,\"ticks\":\"\"}},\"type\":\"scatterternary\"}],\"surface\":[{\"colorbar\":{\"outlinewidth\":0,\"ticks\":\"\"},\"colorscale\":[[0.0,\"#0d0887\"],[0.1111111111111111,\"#46039f\"],[0.2222222222222222,\"#7201a8\"],[0.3333333333333333,\"#9c179e\"],[0.4444444444444444,\"#bd3786\"],[0.5555555555555556,\"#d8576b\"],[0.6666666666666666,\"#ed7953\"],[0.7777777777777778,\"#fb9f3a\"],[0.8888888888888888,\"#fdca26\"],[1.0,\"#f0f921\"]],\"type\":\"surface\"}],\"table\":[{\"cells\":{\"fill\":{\"color\":\"#EBF0F8\"},\"line\":{\"color\":\"white\"}},\"header\":{\"fill\":{\"color\":\"#C8D4E3\"},\"line\":{\"color\":\"white\"}},\"type\":\"table\"}]},\"layout\":{\"annotationdefaults\":{\"arrowcolor\":\"#2a3f5f\",\"arrowhead\":0,\"arrowwidth\":1},\"autotypenumbers\":\"strict\",\"coloraxis\":{\"colorbar\":{\"outlinewidth\":0,\"ticks\":\"\"}},\"colorscale\":{\"diverging\":[[0,\"#8e0152\"],[0.1,\"#c51b7d\"],[0.2,\"#de77ae\"],[0.3,\"#f1b6da\"],[0.4,\"#fde0ef\"],[0.5,\"#f7f7f7\"],[0.6,\"#e6f5d0\"],[0.7,\"#b8e186\"],[0.8,\"#7fbc41\"],[0.9,\"#4d9221\"],[1,\"#276419\"]],\"sequential\":[[0.0,\"#0d0887\"],[0.1111111111111111,\"#46039f\"],[0.2222222222222222,\"#7201a8\"],[0.3333333333333333,\"#9c179e\"],[0.4444444444444444,\"#bd3786\"],[0.5555555555555556,\"#d8576b\"],[0.6666666666666666,\"#ed7953\"],[0.7777777777777778,\"#fb9f3a\"],[0.8888888888888888,\"#fdca26\"],[1.0,\"#f0f921\"]],\"sequentialminus\":[[0.0,\"#0d0887\"],[0.1111111111111111,\"#46039f\"],[0.2222222222222222,\"#7201a8\"],[0.3333333333333333,\"#9c179e\"],[0.4444444444444444,\"#bd3786\"],[0.5555555555555556,\"#d8576b\"],[0.6666666666666666,\"#ed7953\"],[0.7777777777777778,\"#fb9f3a\"],[0.8888888888888888,\"#fdca26\"],[1.0,\"#f0f921\"]]},\"colorway\":[\"#636efa\",\"#EF553B\",\"#00cc96\",\"#ab63fa\",\"#FFA15A\",\"#19d3f3\",\"#FF6692\",\"#B6E880\",\"#FF97FF\",\"#FECB52\"],\"font\":{\"color\":\"#2a3f5f\"},\"geo\":{\"bgcolor\":\"white\",\"lakecolor\":\"white\",\"landcolor\":\"white\",\"showlakes\":true,\"showland\":true,\"subunitcolor\":\"#C8D4E3\"},\"hoverlabel\":{\"align\":\"left\"},\"hovermode\":\"closest\",\"mapbox\":{\"style\":\"light\"},\"paper_bgcolor\":\"white\",\"plot_bgcolor\":\"white\",\"polar\":{\"angularaxis\":{\"gridcolor\":\"#EBF0F8\",\"linecolor\":\"#EBF0F8\",\"ticks\":\"\"},\"bgcolor\":\"white\",\"radialaxis\":{\"gridcolor\":\"#EBF0F8\",\"linecolor\":\"#EBF0F8\",\"ticks\":\"\"}},\"scene\":{\"xaxis\":{\"backgroundcolor\":\"white\",\"gridcolor\":\"#DFE8F3\",\"gridwidth\":2,\"linecolor\":\"#EBF0F8\",\"showbackground\":true,\"ticks\":\"\",\"zerolinecolor\":\"#EBF0F8\"},\"yaxis\":{\"backgroundcolor\":\"white\",\"gridcolor\":\"#DFE8F3\",\"gridwidth\":2,\"linecolor\":\"#EBF0F8\",\"showbackground\":true,\"ticks\":\"\",\"zerolinecolor\":\"#EBF0F8\"},\"zaxis\":{\"backgroundcolor\":\"white\",\"gridcolor\":\"#DFE8F3\",\"gridwidth\":2,\"linecolor\":\"#EBF0F8\",\"showbackground\":true,\"ticks\":\"\",\"zerolinecolor\":\"#EBF0F8\"}},\"shapedefaults\":{\"line\":{\"color\":\"#2a3f5f\"}},\"ternary\":{\"aaxis\":{\"gridcolor\":\"#DFE8F3\",\"linecolor\":\"#A2B1C6\",\"ticks\":\"\"},\"baxis\":{\"gridcolor\":\"#DFE8F3\",\"linecolor\":\"#A2B1C6\",\"ticks\":\"\"},\"bgcolor\":\"white\",\"caxis\":{\"gridcolor\":\"#DFE8F3\",\"linecolor\":\"#A2B1C6\",\"ticks\":\"\"}},\"title\":{\"x\":0.05},\"xaxis\":{\"automargin\":true,\"gridcolor\":\"#EBF0F8\",\"linecolor\":\"#EBF0F8\",\"ticks\":\"\",\"title\":{\"standoff\":15},\"zerolinecolor\":\"#EBF0F8\",\"zerolinewidth\":2},\"yaxis\":{\"automargin\":true,\"gridcolor\":\"#EBF0F8\",\"linecolor\":\"#EBF0F8\",\"ticks\":\"\",\"title\":{\"standoff\":15},\"zerolinecolor\":\"#EBF0F8\",\"zerolinewidth\":2}}},\"xaxis\":{\"title\":{\"font\":{\"weight\":\"bold\",\"color\":\"black\"}},\"tickangle\":90,\"tickfont\":{\"family\":\"Arial\",\"size\":13,\"color\":\"black\",\"weight\":\"bold\"}},\"height\":900,\"width\":800,\"yaxis\":{\"tickfont\":{\"family\":\"Arial\",\"size\":13,\"color\":\"black\",\"weight\":\"bold\"}},\"shapes\":[{\"line\":{\"color\":\"black\",\"width\":1.5},\"type\":\"line\",\"x0\":-0.5,\"x1\":-0.5,\"y0\":-0.5,\"y1\":6.5},{\"line\":{\"color\":\"black\",\"width\":3},\"type\":\"line\",\"x0\":-0.5,\"x1\":9.5,\"y0\":0.5,\"y1\":0.5},{\"line\":{\"color\":\"black\",\"width\":1.5},\"type\":\"line\",\"x0\":0.5,\"x1\":0.5,\"y0\":-0.5,\"y1\":6.5},{\"line\":{\"color\":\"black\",\"width\":3},\"type\":\"line\",\"x0\":-0.5,\"x1\":9.5,\"y0\":0.5,\"y1\":0.5},{\"line\":{\"color\":\"black\",\"width\":3},\"type\":\"line\",\"x0\":-0.5,\"x1\":9.5,\"y0\":0.5,\"y1\":0.5},{\"line\":{\"color\":\"black\",\"width\":1.5},\"type\":\"line\",\"x0\":2.5,\"x1\":2.5,\"y0\":-0.5,\"y1\":6.5},{\"line\":{\"color\":\"black\",\"width\":3},\"type\":\"line\",\"x0\":-0.5,\"x1\":9.5,\"y0\":0.5,\"y1\":0.5},{\"line\":{\"color\":\"black\",\"width\":3},\"type\":\"line\",\"x0\":-0.5,\"x1\":9.5,\"y0\":0.5,\"y1\":0.5},{\"line\":{\"color\":\"black\",\"width\":1.5},\"type\":\"line\",\"x0\":4.5,\"x1\":4.5,\"y0\":-0.5,\"y1\":6.5},{\"line\":{\"color\":\"black\",\"width\":3},\"type\":\"line\",\"x0\":-0.5,\"x1\":9.5,\"y0\":0.5,\"y1\":0.5},{\"line\":{\"color\":\"black\",\"width\":3},\"type\":\"line\",\"x0\":-0.5,\"x1\":9.5,\"y0\":0.5,\"y1\":0.5},{\"line\":{\"color\":\"black\",\"width\":1.5},\"type\":\"line\",\"x0\":6.5,\"x1\":6.5,\"y0\":-0.5,\"y1\":6.5},{\"line\":{\"color\":\"black\",\"width\":3},\"type\":\"line\",\"x0\":-0.5,\"x1\":9.5,\"y0\":0.5,\"y1\":0.5},{\"line\":{\"color\":\"black\",\"width\":3},\"type\":\"line\",\"x0\":-0.5,\"x1\":9.5,\"y0\":0.5,\"y1\":0.5},{\"line\":{\"color\":\"black\",\"width\":3},\"type\":\"line\",\"x0\":8.5,\"x1\":8.5,\"y0\":-0.5,\"y1\":6.5},{\"line\":{\"color\":\"black\",\"width\":3},\"type\":\"line\",\"x0\":-0.5,\"x1\":9.5,\"y0\":0.5,\"y1\":0.5},{\"line\":{\"color\":\"black\",\"width\":1.5},\"type\":\"line\",\"x0\":9.5,\"x1\":9.5,\"y0\":-0.5,\"y1\":6.5},{\"line\":{\"color\":\"black\",\"width\":3},\"type\":\"line\",\"x0\":-0.5,\"x1\":9.5,\"y0\":0.5,\"y1\":0.5}],\"margin\":{\"b\":180},\"annotations\":[{\"align\":\"center\",\"font\":{\"color\":\"black\",\"family\":\"Arial\",\"size\":14,\"weight\":\"bold\"},\"showarrow\":false,\"text\":\"|\\u2009               System                |                    Knowledge                    |\\u200a          Social        \\u200a|              |\",\"x\":0.5,\"xref\":\"paper\",\"y\":-0.25,\"yref\":\"paper\"}]},                        {\"responsive\": true}                    ).then(function(){\n",
       "                            \n",
       "var gd = document.getElementById('0ab91c14-2144-484d-983c-94e9e531769d');\n",
       "var x = new MutationObserver(function (mutations, observer) {{\n",
       "        var display = window.getComputedStyle(gd).display;\n",
       "        if (!display || display === 'none') {{\n",
       "            console.log([gd, 'removed!']);\n",
       "            Plotly.purge(gd);\n",
       "            observer.disconnect();\n",
       "        }}\n",
       "}});\n",
       "\n",
       "// Listen for the removal of the full notebook cells\n",
       "var notebookContainer = gd.closest('#notebook-container');\n",
       "if (notebookContainer) {{\n",
       "    x.observe(notebookContainer, {childList: true});\n",
       "}}\n",
       "\n",
       "// Listen for the clearing of the current output cell\n",
       "var outputEl = gd.closest('.output');\n",
       "if (outputEl) {{\n",
       "    x.observe(outputEl, {childList: true});\n",
       "}}\n",
       "\n",
       "                        })                };                });            </script>        </div>"
      ]
     },
     "metadata": {},
     "output_type": "display_data"
    }
   ],
   "execution_count": 70
  },
  {
   "metadata": {
    "ExecuteTime": {
     "end_time": "2024-12-13T08:55:21.647676Z",
     "start_time": "2024-12-13T08:55:21.646210Z"
    }
   },
   "cell_type": "code",
   "source": "",
   "id": "dcd3e212485f5220",
   "outputs": [],
   "execution_count": null
  }
 ],
 "metadata": {
  "kernelspec": {
   "display_name": "Python 3",
   "language": "python",
   "name": "python3"
  },
  "language_info": {
   "codemirror_mode": {
    "name": "ipython",
    "version": 2
   },
   "file_extension": ".py",
   "mimetype": "text/x-python",
   "name": "python",
   "nbconvert_exporter": "python",
   "pygments_lexer": "ipython2",
   "version": "2.7.6"
  }
 },
 "nbformat": 4,
 "nbformat_minor": 5
}
